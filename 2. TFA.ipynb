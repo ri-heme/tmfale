{
 "cells": [
  {
   "cell_type": "code",
   "execution_count": 1,
   "metadata": {},
   "outputs": [
    {
     "name": "stdout",
     "output_type": "stream",
     "text": [
      "\n",
      "--------------------------------------------\n",
      "Warning: your license will expire in 5 days\n",
      "--------------------------------------------\n",
      "\n",
      "Using license file C:\\Users\\riheme\\gurobi.lic\n",
      "Academic license - for non-commercial use only\n"
     ]
    }
   ],
   "source": [
    "from time import time as now\n",
    "\n",
    "import numpy as np\n",
    "import pandas as pd\n",
    "import utils\n",
    "\n",
    "COBRA_PATH = 'data/iJO1366.json'\n",
    "BIOMASS_ID = 'Ec_biomass_iJO1366_WT_53p95M'"
   ]
  },
  {
   "cell_type": "code",
   "execution_count": 2,
   "metadata": {},
   "outputs": [],
   "source": [
    "# generates a stacked DataFrame that shares values in columns\n",
    "def gen_rows( data, **kwargs ):\n",
    "    # we receive fluxes, log concentrations, or free energies\n",
    "    # correctly identify that type of value\n",
    "    labels = { 'value_type': data.columns[0], **kwargs }\n",
    "    # the original data has to be renamed, so when these rows are stacked they don't create additional columns\n",
    "    mapper = { data.index.name: 'id', data.columns[0]: 'value', data.columns[1]: 'tag' }\n",
    "    # create new DataFrame and rename it\n",
    "    rows = pd.DataFrame( data ).reset_index()\n",
    "    rows.rename( columns = mapper, inplace = True )\n",
    "    # add labels as columns\n",
    "    for i, (col, value) in enumerate(labels.items()):\n",
    "        rows.insert( i, col, value )\n",
    "    return rows"
   ]
  },
  {
   "cell_type": "markdown",
   "metadata": {},
   "source": [
    "# TFA\n",
    "\n",
    "1. Load necessary data (thermo DB, lexicon, compartment data, LC bounds, rate bounds)"
   ]
  },
  {
   "cell_type": "code",
   "execution_count": 3,
   "metadata": {},
   "outputs": [
    {
     "data": {
      "text/html": [
       "<div>\n",
       "<style scoped>\n",
       "    .dataframe tbody tr th:only-of-type {\n",
       "        vertical-align: middle;\n",
       "    }\n",
       "\n",
       "    .dataframe tbody tr th {\n",
       "        vertical-align: top;\n",
       "    }\n",
       "\n",
       "    .dataframe thead th {\n",
       "        text-align: right;\n",
       "    }\n",
       "</style>\n",
       "<table border=\"1\" class=\"dataframe\">\n",
       "  <thead>\n",
       "    <tr style=\"text-align: right;\">\n",
       "      <th></th>\n",
       "      <th>bound_type</th>\n",
       "      <th>strain</th>\n",
       "      <th>ko</th>\n",
       "      <th>media</th>\n",
       "      <th>time_point</th>\n",
       "      <th>id</th>\n",
       "      <th>lb</th>\n",
       "      <th>ub</th>\n",
       "    </tr>\n",
       "  </thead>\n",
       "  <tbody>\n",
       "    <tr>\n",
       "      <th>0</th>\n",
       "      <td>log_concentration</td>\n",
       "      <td>0</td>\n",
       "      <td>GLCptspp</td>\n",
       "      <td>Glc</td>\n",
       "      <td>0</td>\n",
       "      <td>23dpg</td>\n",
       "      <td>-7.860059</td>\n",
       "      <td>-7.424463</td>\n",
       "    </tr>\n",
       "    <tr>\n",
       "      <th>1</th>\n",
       "      <td>log_concentration</td>\n",
       "      <td>0</td>\n",
       "      <td>GLCptspp</td>\n",
       "      <td>Glc</td>\n",
       "      <td>0</td>\n",
       "      <td>6pgc</td>\n",
       "      <td>-8.785181</td>\n",
       "      <td>-8.248013</td>\n",
       "    </tr>\n",
       "    <tr>\n",
       "      <th>2</th>\n",
       "      <td>log_concentration</td>\n",
       "      <td>0</td>\n",
       "      <td>GLCptspp</td>\n",
       "      <td>Glc</td>\n",
       "      <td>0</td>\n",
       "      <td>Lcystin</td>\n",
       "      <td>-9.206868</td>\n",
       "      <td>-8.559319</td>\n",
       "    </tr>\n",
       "    <tr>\n",
       "      <th>3</th>\n",
       "      <td>log_concentration</td>\n",
       "      <td>0</td>\n",
       "      <td>GLCptspp</td>\n",
       "      <td>Glc</td>\n",
       "      <td>0</td>\n",
       "      <td>Pool_2pg_3pg</td>\n",
       "      <td>-6.367578</td>\n",
       "      <td>-5.712819</td>\n",
       "    </tr>\n",
       "    <tr>\n",
       "      <th>4</th>\n",
       "      <td>log_concentration</td>\n",
       "      <td>0</td>\n",
       "      <td>GLCptspp</td>\n",
       "      <td>Glc</td>\n",
       "      <td>0</td>\n",
       "      <td>accoa</td>\n",
       "      <td>-8.114400</td>\n",
       "      <td>-7.619540</td>\n",
       "    </tr>\n",
       "  </tbody>\n",
       "</table>\n",
       "</div>"
      ],
      "text/plain": [
       "          bound_type  strain        ko media  time_point            id  \\\n",
       "0  log_concentration       0  GLCptspp   Glc           0         23dpg   \n",
       "1  log_concentration       0  GLCptspp   Glc           0          6pgc   \n",
       "2  log_concentration       0  GLCptspp   Glc           0       Lcystin   \n",
       "3  log_concentration       0  GLCptspp   Glc           0  Pool_2pg_3pg   \n",
       "4  log_concentration       0  GLCptspp   Glc           0         accoa   \n",
       "\n",
       "         lb        ub  \n",
       "0 -7.860059 -7.424463  \n",
       "1 -8.785181 -8.248013  \n",
       "2 -9.206868 -8.559319  \n",
       "3 -6.367578 -5.712819  \n",
       "4 -8.114400 -7.619540  "
      ]
     },
     "execution_count": 3,
     "metadata": {},
     "output_type": "execute_result"
    }
   ],
   "source": [
    "thermo_data, lexicon, compartment_data = utils.load_data(\n",
    "    'data/thermo_data.thermodb',\n",
    "    'data/lexicon.csv',\n",
    "    'data/compartment_data.json' )\n",
    "bounds = pd.read_csv('data/bounds.csv')\n",
    "bounds.head()"
   ]
  },
  {
   "cell_type": "markdown",
   "metadata": {},
   "source": [
    "2. Run simulations!"
   ]
  },
  {
   "cell_type": "code",
   "execution_count": 4,
   "metadata": {},
   "outputs": [
    {
     "name": "stdout",
     "output_type": "stream",
     "text": [
      "################################################################################\n",
      "Ecoli GLCptspp (Glc) 0 @ t = 0\n",
      "(0.00 min)\n",
      "################################################################################\n",
      "Read LP format model from file C:\\Users\\riheme\\AppData\\Local\\Temp\\tmpq9zgt7kn.lp\n",
      "Reading time = 0.02 seconds\n",
      ": 1807 rows, 5170 columns, 20334 nonzeros\n",
      "Read LP format model from file C:\\Users\\riheme\\AppData\\Local\\Temp\\tmpiwm6dlmu.lp\n",
      "Reading time = 0.03 seconds\n",
      ": 1807 rows, 5170 columns, 20334 nonzeros\n"
     ]
    },
    {
     "name": "stderr",
     "output_type": "stream",
     "text": [
      "2020-11-29 12:05:00,407 - thermomodel_None - INFO - # Model initialized with units kcal/mol and temperature 298.15 K\n",
      "2020-11-29 12:05:00,409 - thermomodel_None - INFO - # Model preparation starting...\n",
      "2020-11-29 12:05:02,627 - thermomodel_None - WARNING - Warning : NULL/U\n",
      "2020-11-29 12:05:02,627 - thermomodel_None - WARNING - Warning : NULL/L\n",
      "2020-11-29 12:05:02,627 - thermomodel_None - WARNING - Warning : NULL/L\n",
      "2020-11-29 12:05:02,627 - thermomodel_None - WARNING - Warning : NULL/U\n",
      "2020-11-29 12:05:02,627 - thermomodel_None - WARNING - Warning : NULL/L\n",
      "2020-11-29 12:05:02,627 - thermomodel_None - WARNING - Warning : NULL/L\n",
      "2020-11-29 12:05:02,845 - thermomodel_None - WARNING - Warning : NULL/U\n",
      "2020-11-29 12:05:02,845 - thermomodel_None - WARNING - Warning : NULL/L\n",
      "2020-11-29 12:05:02,845 - thermomodel_None - WARNING - Warning : NULL/L\n",
      "2020-11-29 12:05:02,845 - thermomodel_None - WARNING - Warning : NULL/U\n",
      "2020-11-29 12:05:02,845 - thermomodel_None - WARNING - Warning : NULL/L\n",
      "2020-11-29 12:05:02,845 - thermomodel_None - WARNING - Warning : NULL/L\n",
      "2020-11-29 12:05:02,992 - thermomodel_None - WARNING - Warning : NULL/U\n",
      "2020-11-29 12:05:03,008 - thermomodel_None - WARNING - Warning : NULL/L\n",
      "2020-11-29 12:05:03,008 - thermomodel_None - WARNING - Warning : NULL/L\n",
      "2020-11-29 12:05:03,008 - thermomodel_None - WARNING - Warning : NULL/U\n",
      "2020-11-29 12:05:03,008 - thermomodel_None - WARNING - Warning : NULL/L\n",
      "2020-11-29 12:05:03,008 - thermomodel_None - WARNING - Warning : NULL/L\n",
      "2020-11-29 12:05:03,061 - thermomodel_None - WARNING - Warning : NULL/U\n",
      "2020-11-29 12:05:03,061 - thermomodel_None - WARNING - Warning : NULL/L\n",
      "2020-11-29 12:05:03,061 - thermomodel_None - WARNING - Warning : NULL/L\n",
      "2020-11-29 12:05:03,061 - thermomodel_None - WARNING - Warning : NULL/U\n",
      "2020-11-29 12:05:03,061 - thermomodel_None - WARNING - Warning : NULL/L\n",
      "2020-11-29 12:05:03,061 - thermomodel_None - WARNING - Warning : NULL/L\n",
      "2020-11-29 12:05:03,061 - thermomodel_None - WARNING - Warning : NULL/U\n",
      "2020-11-29 12:05:03,061 - thermomodel_None - WARNING - Warning : NULL/L\n",
      "2020-11-29 12:05:03,061 - thermomodel_None - WARNING - Warning : NULL/L\n",
      "2020-11-29 12:05:03,061 - thermomodel_None - WARNING - Warning : NULL/U\n",
      "2020-11-29 12:05:03,061 - thermomodel_None - WARNING - Warning : NULL/L\n",
      "2020-11-29 12:05:03,061 - thermomodel_None - WARNING - Warning : NULL/L\n",
      "2020-11-29 12:05:03,077 - thermomodel_None - WARNING - Warning : NULL/U\n",
      "2020-11-29 12:05:03,077 - thermomodel_None - WARNING - Warning : NULL/L\n",
      "2020-11-29 12:05:03,077 - thermomodel_None - WARNING - Warning : NULL/L\n",
      "2020-11-29 12:05:03,077 - thermomodel_None - WARNING - Warning : NULL/U\n",
      "2020-11-29 12:05:03,077 - thermomodel_None - WARNING - Warning : NULL/L\n",
      "2020-11-29 12:05:03,077 - thermomodel_None - WARNING - Warning : NULL/L\n",
      "2020-11-29 12:05:03,077 - thermomodel_None - WARNING - Warning : NULL/U\n",
      "2020-11-29 12:05:03,077 - thermomodel_None - WARNING - Warning : NULL/L\n",
      "2020-11-29 12:05:03,077 - thermomodel_None - WARNING - Warning : NULL/L\n",
      "2020-11-29 12:05:03,077 - thermomodel_None - WARNING - Warning : NULL/U\n",
      "2020-11-29 12:05:03,077 - thermomodel_None - WARNING - Warning : NULL/L\n",
      "2020-11-29 12:05:03,077 - thermomodel_None - WARNING - Warning : NULL/L\n",
      "2020-11-29 12:05:03,193 - thermomodel_None - INFO - # Model preparation done.\n",
      "2020-11-29 12:05:03,193 - thermomodel_None - INFO - # Model conversion starting...\n",
      "2020-11-29 12:05:35,839 - thermomodel_None - INFO - # Model conversion done.\n",
      "2020-11-29 12:05:35,839 - thermomodel_None - INFO - # Updating cobra_model variables...\n",
      "2020-11-29 12:05:35,879 - thermomodel_None - INFO - # cobra_model variables are up-to-date\n"
     ]
    },
    {
     "name": "stdout",
     "output_type": "stream",
     "text": [
      "Read LP format model from file C:\\Users\\riheme\\AppData\\Local\\Temp\\tmp6zabmc9k.lp\n",
      "Reading time = 0.02 seconds\n",
      ": 1807 rows, 5170 columns, 20304 nonzeros\n",
      "Read LP format model from file C:\\Users\\riheme\\AppData\\Local\\Temp\\tmpez_9xxz_.lp\n",
      "Reading time = 0.02 seconds\n",
      ": 1807 rows, 5170 columns, 20304 nonzeros\n"
     ]
    },
    {
     "name": "stderr",
     "output_type": "stream",
     "text": [
      "2020-11-29 12:05:51,103 - thermomodel_Ecoli GLCptspp (Glc) 0 @ t = 0 - INFO - # Model initialized with units kcal/mol and temperature 298.15 K\n",
      "C:\\Users\\riheme\\Anaconda3\\lib\\site-packages\\sympy\\__init__.py:676: SymPyDeprecationWarning: \n",
      "\n",
      "importing sympy.core.numbers with 'from sympy import *' has been\n",
      "deprecated since SymPy 1.6. Use import sympy.core.numbers instead. See\n",
      "https://github.com/sympy/sympy/issues/18245 for more info.\n",
      "\n",
      "  deprecated_since_version=\"1.6\").warn()\n"
     ]
    },
    {
     "name": "stdout",
     "output_type": "stream",
     "text": [
      "Read LP format model from file C:\\Users\\riheme\\AppData\\Local\\Temp\\tmp4kzgf63s.lp\n",
      "Reading time = 0.02 seconds\n",
      ": 1807 rows, 5170 columns, 20304 nonzeros\n",
      "Read LP format model from file C:\\Users\\riheme\\AppData\\Local\\Temp\\tmpw8neqw0d.lp\n",
      "Reading time = 0.02 seconds\n",
      ": 1807 rows, 5170 columns, 20304 nonzeros\n"
     ]
    },
    {
     "name": "stderr",
     "output_type": "stream",
     "text": [
      "2020-11-29 12:06:15,955 - thermomodel_Ecoli GLCptspp (Glc) 0 @ t = 0 - INFO - # Model initialized with units kcal/mol and temperature 298.15 K\n",
      "2020-11-29 12:06:24,504 - thermomodel_Ecoli GLCptspp (Glc) 0 @ t = 0 - INFO - Adding slack constraints\n",
      "adding slacks: 100%|███████████████████████████████████████████████████████████████| 1824/1824 [00:33<00:00, 53.81it/s]\n",
      "2020-11-29 12:06:59,970 - thermomodel_Ecoli GLCptspp (Glc) 0 @ t = 0 - INFO - Optimizing slack model\n",
      "2020-11-29 12:07:02,919 - thermomodel_Ecoli GLCptspp (Glc) 0 @ t = 0 - INFO - Extracting relaxation\n",
      "applying slack: 100%|███████████████████████████████████████████████████████████| 2585/2585 [00:00<00:00, 42309.83it/s]\n",
      "2020-11-29 12:07:03,064 - thermomodel_Ecoli GLCptspp (Glc) 0 @ t = 0 - INFO - Testing relaxation\n"
     ]
    },
    {
     "name": "stdout",
     "output_type": "stream",
     "text": [
      "################################################################################\n",
      "Ecoli GLCptspp (Glc) 1 @ t = 1\n",
      "(2.28 min)\n",
      "################################################################################\n",
      "Read LP format model from file C:\\Users\\riheme\\AppData\\Local\\Temp\\tmpnwo_151z.lp\n",
      "Reading time = 0.02 seconds\n",
      ": 1807 rows, 5170 columns, 20334 nonzeros\n",
      "Read LP format model from file C:\\Users\\riheme\\AppData\\Local\\Temp\\tmps04yu0xl.lp\n",
      "Reading time = 0.02 seconds\n",
      ": 1807 rows, 5170 columns, 20334 nonzeros\n"
     ]
    },
    {
     "name": "stderr",
     "output_type": "stream",
     "text": [
      "2020-11-29 12:07:17,474 - thermomodel_None - INFO - # Model initialized with units kcal/mol and temperature 298.15 K\n",
      "2020-11-29 12:07:17,482 - thermomodel_None - INFO - # Model preparation starting...\n",
      "2020-11-29 12:07:19,753 - thermomodel_None - WARNING - Warning : NULL/U\n",
      "2020-11-29 12:07:19,753 - thermomodel_None - WARNING - Warning : NULL/L\n",
      "2020-11-29 12:07:19,753 - thermomodel_None - WARNING - Warning : NULL/L\n",
      "2020-11-29 12:07:19,753 - thermomodel_None - WARNING - Warning : NULL/U\n",
      "2020-11-29 12:07:19,753 - thermomodel_None - WARNING - Warning : NULL/L\n",
      "2020-11-29 12:07:19,761 - thermomodel_None - WARNING - Warning : NULL/L\n",
      "2020-11-29 12:07:19,966 - thermomodel_None - WARNING - Warning : NULL/U\n",
      "2020-11-29 12:07:19,966 - thermomodel_None - WARNING - Warning : NULL/L\n",
      "2020-11-29 12:07:19,966 - thermomodel_None - WARNING - Warning : NULL/L\n",
      "2020-11-29 12:07:19,966 - thermomodel_None - WARNING - Warning : NULL/U\n",
      "2020-11-29 12:07:19,974 - thermomodel_None - WARNING - Warning : NULL/L\n",
      "2020-11-29 12:07:19,974 - thermomodel_None - WARNING - Warning : NULL/L\n",
      "2020-11-29 12:07:20,109 - thermomodel_None - WARNING - Warning : NULL/U\n",
      "2020-11-29 12:07:20,109 - thermomodel_None - WARNING - Warning : NULL/L\n",
      "2020-11-29 12:07:20,109 - thermomodel_None - WARNING - Warning : NULL/L\n",
      "2020-11-29 12:07:20,109 - thermomodel_None - WARNING - Warning : NULL/U\n",
      "2020-11-29 12:07:20,109 - thermomodel_None - WARNING - Warning : NULL/L\n",
      "2020-11-29 12:07:20,117 - thermomodel_None - WARNING - Warning : NULL/L\n",
      "2020-11-29 12:07:20,158 - thermomodel_None - WARNING - Warning : NULL/U\n",
      "2020-11-29 12:07:20,158 - thermomodel_None - WARNING - Warning : NULL/L\n",
      "2020-11-29 12:07:20,174 - thermomodel_None - WARNING - Warning : NULL/L\n",
      "2020-11-29 12:07:20,174 - thermomodel_None - WARNING - Warning : NULL/U\n",
      "2020-11-29 12:07:20,174 - thermomodel_None - WARNING - Warning : NULL/L\n",
      "2020-11-29 12:07:20,174 - thermomodel_None - WARNING - Warning : NULL/L\n",
      "2020-11-29 12:07:20,174 - thermomodel_None - WARNING - Warning : NULL/U\n",
      "2020-11-29 12:07:20,174 - thermomodel_None - WARNING - Warning : NULL/L\n",
      "2020-11-29 12:07:20,174 - thermomodel_None - WARNING - Warning : NULL/L\n",
      "2020-11-29 12:07:20,174 - thermomodel_None - WARNING - Warning : NULL/U\n",
      "2020-11-29 12:07:20,174 - thermomodel_None - WARNING - Warning : NULL/L\n",
      "2020-11-29 12:07:20,174 - thermomodel_None - WARNING - Warning : NULL/L\n",
      "2020-11-29 12:07:20,174 - thermomodel_None - WARNING - Warning : NULL/U\n",
      "2020-11-29 12:07:20,174 - thermomodel_None - WARNING - Warning : NULL/L\n",
      "2020-11-29 12:07:20,174 - thermomodel_None - WARNING - Warning : NULL/L\n",
      "2020-11-29 12:07:20,174 - thermomodel_None - WARNING - Warning : NULL/U\n",
      "2020-11-29 12:07:20,174 - thermomodel_None - WARNING - Warning : NULL/L\n",
      "2020-11-29 12:07:20,174 - thermomodel_None - WARNING - Warning : NULL/L\n",
      "2020-11-29 12:07:20,174 - thermomodel_None - WARNING - Warning : NULL/U\n",
      "2020-11-29 12:07:20,174 - thermomodel_None - WARNING - Warning : NULL/L\n",
      "2020-11-29 12:07:20,174 - thermomodel_None - WARNING - Warning : NULL/L\n",
      "2020-11-29 12:07:20,174 - thermomodel_None - WARNING - Warning : NULL/U\n",
      "2020-11-29 12:07:20,190 - thermomodel_None - WARNING - Warning : NULL/L\n",
      "2020-11-29 12:07:20,190 - thermomodel_None - WARNING - Warning : NULL/L\n",
      "2020-11-29 12:07:20,290 - thermomodel_None - INFO - # Model preparation done.\n",
      "2020-11-29 12:07:20,290 - thermomodel_None - INFO - # Model conversion starting...\n",
      "2020-11-29 12:07:53,582 - thermomodel_None - INFO - # Model conversion done.\n",
      "2020-11-29 12:07:53,582 - thermomodel_None - INFO - # Updating cobra_model variables...\n",
      "2020-11-29 12:07:53,618 - thermomodel_None - INFO - # cobra_model variables are up-to-date\n"
     ]
    },
    {
     "name": "stdout",
     "output_type": "stream",
     "text": [
      "Read LP format model from file C:\\Users\\riheme\\AppData\\Local\\Temp\\tmpna20q0c6.lp\n",
      "Reading time = 0.02 seconds\n",
      ": 1807 rows, 5170 columns, 20304 nonzeros\n",
      "Read LP format model from file C:\\Users\\riheme\\AppData\\Local\\Temp\\tmp_sb0_hhs.lp\n",
      "Reading time = 0.02 seconds\n",
      ": 1807 rows, 5170 columns, 20304 nonzeros\n"
     ]
    },
    {
     "name": "stderr",
     "output_type": "stream",
     "text": [
      "2020-11-29 12:08:09,351 - thermomodel_Ecoli GLCptspp (Glc) 1 @ t = 1 - INFO - # Model initialized with units kcal/mol and temperature 298.15 K\n"
     ]
    },
    {
     "name": "stdout",
     "output_type": "stream",
     "text": [
      "Read LP format model from file C:\\Users\\riheme\\AppData\\Local\\Temp\\tmph7_yr019.lp\n",
      "Reading time = 0.02 seconds\n",
      ": 1807 rows, 5170 columns, 20304 nonzeros\n",
      "Read LP format model from file C:\\Users\\riheme\\AppData\\Local\\Temp\\tmp3jkzeeyr.lp\n",
      "Reading time = 0.02 seconds\n",
      ": 1807 rows, 5170 columns, 20304 nonzeros\n"
     ]
    },
    {
     "name": "stderr",
     "output_type": "stream",
     "text": [
      "2020-11-29 12:08:33,995 - thermomodel_Ecoli GLCptspp (Glc) 1 @ t = 1 - INFO - # Model initialized with units kcal/mol and temperature 298.15 K\n",
      "2020-11-29 12:08:42,522 - thermomodel_Ecoli GLCptspp (Glc) 1 @ t = 1 - INFO - Adding slack constraints\n",
      "adding slacks: 100%|███████████████████████████████████████████████████████████████| 1824/1824 [00:35<00:00, 51.58it/s]\n",
      "2020-11-29 12:09:19,448 - thermomodel_Ecoli GLCptspp (Glc) 1 @ t = 1 - INFO - Optimizing slack model\n",
      "2020-11-29 12:09:22,466 - thermomodel_Ecoli GLCptspp (Glc) 1 @ t = 1 - INFO - Extracting relaxation\n",
      "applying slack: 100%|███████████████████████████████████████████████████████████| 2585/2585 [00:00<00:00, 55144.14it/s]\n",
      "2020-11-29 12:09:22,600 - thermomodel_Ecoli GLCptspp (Glc) 1 @ t = 1 - INFO - Testing relaxation\n"
     ]
    },
    {
     "name": "stdout",
     "output_type": "stream",
     "text": [
      "################################################################################\n",
      "Ecoli GLCptspp (Glc) 1 @ t = 3\n",
      "(4.61 min)\n",
      "################################################################################\n",
      "Read LP format model from file C:\\Users\\riheme\\AppData\\Local\\Temp\\tmpgkuu_ryq.lp\n",
      "Reading time = 0.02 seconds\n",
      ": 1807 rows, 5170 columns, 20334 nonzeros\n",
      "Read LP format model from file C:\\Users\\riheme\\AppData\\Local\\Temp\\tmp94frbfbv.lp\n",
      "Reading time = 0.02 seconds\n",
      ": 1807 rows, 5170 columns, 20334 nonzeros\n"
     ]
    },
    {
     "name": "stderr",
     "output_type": "stream",
     "text": [
      "2020-11-29 12:09:37,153 - thermomodel_None - INFO - # Model initialized with units kcal/mol and temperature 298.15 K\n",
      "2020-11-29 12:09:37,163 - thermomodel_None - INFO - # Model preparation starting...\n",
      "2020-11-29 12:09:39,499 - thermomodel_None - WARNING - Warning : NULL/U\n",
      "2020-11-29 12:09:39,499 - thermomodel_None - WARNING - Warning : NULL/L\n",
      "2020-11-29 12:09:39,499 - thermomodel_None - WARNING - Warning : NULL/L\n",
      "2020-11-29 12:09:39,499 - thermomodel_None - WARNING - Warning : NULL/U\n",
      "2020-11-29 12:09:39,499 - thermomodel_None - WARNING - Warning : NULL/L\n",
      "2020-11-29 12:09:39,499 - thermomodel_None - WARNING - Warning : NULL/L\n",
      "2020-11-29 12:09:39,711 - thermomodel_None - WARNING - Warning : NULL/U\n",
      "2020-11-29 12:09:39,711 - thermomodel_None - WARNING - Warning : NULL/L\n",
      "2020-11-29 12:09:39,711 - thermomodel_None - WARNING - Warning : NULL/L\n",
      "2020-11-29 12:09:39,711 - thermomodel_None - WARNING - Warning : NULL/U\n",
      "2020-11-29 12:09:39,718 - thermomodel_None - WARNING - Warning : NULL/L\n",
      "2020-11-29 12:09:39,718 - thermomodel_None - WARNING - Warning : NULL/L\n",
      "2020-11-29 12:09:39,849 - thermomodel_None - WARNING - Warning : NULL/U\n",
      "2020-11-29 12:09:39,849 - thermomodel_None - WARNING - Warning : NULL/L\n",
      "2020-11-29 12:09:39,849 - thermomodel_None - WARNING - Warning : NULL/L\n",
      "2020-11-29 12:09:39,849 - thermomodel_None - WARNING - Warning : NULL/U\n",
      "2020-11-29 12:09:39,849 - thermomodel_None - WARNING - Warning : NULL/L\n",
      "2020-11-29 12:09:39,849 - thermomodel_None - WARNING - Warning : NULL/L\n",
      "2020-11-29 12:09:39,918 - thermomodel_None - WARNING - Warning : NULL/U\n",
      "2020-11-29 12:09:39,918 - thermomodel_None - WARNING - Warning : NULL/L\n",
      "2020-11-29 12:09:39,918 - thermomodel_None - WARNING - Warning : NULL/L\n",
      "2020-11-29 12:09:39,918 - thermomodel_None - WARNING - Warning : NULL/U\n",
      "2020-11-29 12:09:39,918 - thermomodel_None - WARNING - Warning : NULL/L\n",
      "2020-11-29 12:09:39,918 - thermomodel_None - WARNING - Warning : NULL/L\n",
      "2020-11-29 12:09:39,918 - thermomodel_None - WARNING - Warning : NULL/U\n",
      "2020-11-29 12:09:39,918 - thermomodel_None - WARNING - Warning : NULL/L\n",
      "2020-11-29 12:09:39,918 - thermomodel_None - WARNING - Warning : NULL/L\n",
      "2020-11-29 12:09:39,918 - thermomodel_None - WARNING - Warning : NULL/U\n",
      "2020-11-29 12:09:39,918 - thermomodel_None - WARNING - Warning : NULL/L\n",
      "2020-11-29 12:09:39,918 - thermomodel_None - WARNING - Warning : NULL/L\n",
      "2020-11-29 12:09:39,918 - thermomodel_None - WARNING - Warning : NULL/U\n",
      "2020-11-29 12:09:39,918 - thermomodel_None - WARNING - Warning : NULL/L\n",
      "2020-11-29 12:09:39,918 - thermomodel_None - WARNING - Warning : NULL/L\n",
      "2020-11-29 12:09:39,918 - thermomodel_None - WARNING - Warning : NULL/U\n",
      "2020-11-29 12:09:39,918 - thermomodel_None - WARNING - Warning : NULL/L\n",
      "2020-11-29 12:09:39,918 - thermomodel_None - WARNING - Warning : NULL/L\n",
      "2020-11-29 12:09:39,918 - thermomodel_None - WARNING - Warning : NULL/U\n",
      "2020-11-29 12:09:39,934 - thermomodel_None - WARNING - Warning : NULL/L\n",
      "2020-11-29 12:09:39,934 - thermomodel_None - WARNING - Warning : NULL/L\n",
      "2020-11-29 12:09:39,934 - thermomodel_None - WARNING - Warning : NULL/U\n",
      "2020-11-29 12:09:39,934 - thermomodel_None - WARNING - Warning : NULL/L\n",
      "2020-11-29 12:09:39,934 - thermomodel_None - WARNING - Warning : NULL/L\n",
      "2020-11-29 12:09:40,051 - thermomodel_None - INFO - # Model preparation done.\n",
      "2020-11-29 12:09:40,051 - thermomodel_None - INFO - # Model conversion starting...\n",
      "2020-11-29 12:10:14,003 - thermomodel_None - INFO - # Model conversion done.\n",
      "2020-11-29 12:10:14,003 - thermomodel_None - INFO - # Updating cobra_model variables...\n",
      "2020-11-29 12:10:14,044 - thermomodel_None - INFO - # cobra_model variables are up-to-date\n"
     ]
    },
    {
     "name": "stdout",
     "output_type": "stream",
     "text": [
      "Read LP format model from file C:\\Users\\riheme\\AppData\\Local\\Temp\\tmp5uokoqvi.lp\n",
      "Reading time = 0.02 seconds\n",
      ": 1807 rows, 5170 columns, 20304 nonzeros\n",
      "Read LP format model from file C:\\Users\\riheme\\AppData\\Local\\Temp\\tmp4jgc4reb.lp\n",
      "Reading time = 0.02 seconds\n",
      ": 1807 rows, 5170 columns, 20304 nonzeros\n"
     ]
    },
    {
     "name": "stderr",
     "output_type": "stream",
     "text": [
      "2020-11-29 12:10:29,903 - thermomodel_Ecoli GLCptspp (Glc) 1 @ t = 3 - INFO - # Model initialized with units kcal/mol and temperature 298.15 K\n"
     ]
    },
    {
     "name": "stdout",
     "output_type": "stream",
     "text": [
      "Read LP format model from file C:\\Users\\riheme\\AppData\\Local\\Temp\\tmpp6thy6m_.lp\n",
      "Reading time = 0.02 seconds\n",
      ": 1807 rows, 5170 columns, 20304 nonzeros\n",
      "Read LP format model from file C:\\Users\\riheme\\AppData\\Local\\Temp\\tmppymf65j3.lp\n",
      "Reading time = 0.02 seconds\n",
      ": 1807 rows, 5170 columns, 20304 nonzeros\n"
     ]
    },
    {
     "name": "stderr",
     "output_type": "stream",
     "text": [
      "2020-11-29 12:10:54,938 - thermomodel_Ecoli GLCptspp (Glc) 1 @ t = 3 - INFO - # Model initialized with units kcal/mol and temperature 298.15 K\n",
      "2020-11-29 12:11:04,413 - thermomodel_Ecoli GLCptspp (Glc) 1 @ t = 3 - INFO - Adding slack constraints\n",
      "adding slacks: 100%|███████████████████████████████████████████████████████████████| 1824/1824 [00:34<00:00, 52.20it/s]\n",
      "2020-11-29 12:11:40,974 - thermomodel_Ecoli GLCptspp (Glc) 1 @ t = 3 - INFO - Optimizing slack model\n",
      "2020-11-29 12:11:46,947 - thermomodel_Ecoli GLCptspp (Glc) 1 @ t = 3 - INFO - Extracting relaxation\n",
      "applying slack: 100%|███████████████████████████████████████████████████████████| 2585/2585 [00:00<00:00, 41343.91it/s]\n",
      "2020-11-29 12:11:47,097 - thermomodel_Ecoli GLCptspp (Glc) 1 @ t = 3 - INFO - Testing relaxation\n"
     ]
    },
    {
     "name": "stdout",
     "output_type": "stream",
     "text": [
      "################################################################################\n",
      "Ecoli GLCptspp (Glc) 1 @ t = 11\n",
      "(7.02 min)\n",
      "################################################################################\n",
      "Read LP format model from file C:\\Users\\riheme\\AppData\\Local\\Temp\\tmp6fa2lp16.lp\n",
      "Reading time = 0.02 seconds\n",
      ": 1807 rows, 5170 columns, 20334 nonzeros\n",
      "Read LP format model from file C:\\Users\\riheme\\AppData\\Local\\Temp\\tmp5jhy8p7x.lp\n",
      "Reading time = 0.02 seconds\n",
      ": 1807 rows, 5170 columns, 20334 nonzeros\n"
     ]
    },
    {
     "name": "stderr",
     "output_type": "stream",
     "text": [
      "2020-11-29 12:12:01,833 - thermomodel_None - INFO - # Model initialized with units kcal/mol and temperature 298.15 K\n",
      "2020-11-29 12:12:01,841 - thermomodel_None - INFO - # Model preparation starting...\n",
      "2020-11-29 12:12:04,228 - thermomodel_None - WARNING - Warning : NULL/U\n",
      "2020-11-29 12:12:04,228 - thermomodel_None - WARNING - Warning : NULL/L\n",
      "2020-11-29 12:12:04,236 - thermomodel_None - WARNING - Warning : NULL/L\n",
      "2020-11-29 12:12:04,236 - thermomodel_None - WARNING - Warning : NULL/U\n",
      "2020-11-29 12:12:04,236 - thermomodel_None - WARNING - Warning : NULL/L\n",
      "2020-11-29 12:12:04,236 - thermomodel_None - WARNING - Warning : NULL/L\n",
      "2020-11-29 12:12:04,460 - thermomodel_None - WARNING - Warning : NULL/U\n",
      "2020-11-29 12:12:04,460 - thermomodel_None - WARNING - Warning : NULL/L\n",
      "2020-11-29 12:12:04,460 - thermomodel_None - WARNING - Warning : NULL/L\n",
      "2020-11-29 12:12:04,460 - thermomodel_None - WARNING - Warning : NULL/U\n",
      "2020-11-29 12:12:04,460 - thermomodel_None - WARNING - Warning : NULL/L\n",
      "2020-11-29 12:12:04,460 - thermomodel_None - WARNING - Warning : NULL/L\n",
      "2020-11-29 12:12:04,594 - thermomodel_None - WARNING - Warning : NULL/U\n",
      "2020-11-29 12:12:04,610 - thermomodel_None - WARNING - Warning : NULL/L\n",
      "2020-11-29 12:12:04,610 - thermomodel_None - WARNING - Warning : NULL/L\n",
      "2020-11-29 12:12:04,610 - thermomodel_None - WARNING - Warning : NULL/U\n",
      "2020-11-29 12:12:04,610 - thermomodel_None - WARNING - Warning : NULL/L\n",
      "2020-11-29 12:12:04,610 - thermomodel_None - WARNING - Warning : NULL/L\n",
      "2020-11-29 12:12:04,657 - thermomodel_None - WARNING - Warning : NULL/U\n",
      "2020-11-29 12:12:04,657 - thermomodel_None - WARNING - Warning : NULL/L\n",
      "2020-11-29 12:12:04,657 - thermomodel_None - WARNING - Warning : NULL/L\n",
      "2020-11-29 12:12:04,657 - thermomodel_None - WARNING - Warning : NULL/U\n",
      "2020-11-29 12:12:04,657 - thermomodel_None - WARNING - Warning : NULL/L\n",
      "2020-11-29 12:12:04,672 - thermomodel_None - WARNING - Warning : NULL/L\n",
      "2020-11-29 12:12:04,672 - thermomodel_None - WARNING - Warning : NULL/U\n",
      "2020-11-29 12:12:04,672 - thermomodel_None - WARNING - Warning : NULL/L\n",
      "2020-11-29 12:12:04,672 - thermomodel_None - WARNING - Warning : NULL/L\n",
      "2020-11-29 12:12:04,672 - thermomodel_None - WARNING - Warning : NULL/U\n",
      "2020-11-29 12:12:04,672 - thermomodel_None - WARNING - Warning : NULL/L\n",
      "2020-11-29 12:12:04,672 - thermomodel_None - WARNING - Warning : NULL/L\n",
      "2020-11-29 12:12:04,679 - thermomodel_None - WARNING - Warning : NULL/U\n",
      "2020-11-29 12:12:04,679 - thermomodel_None - WARNING - Warning : NULL/L\n",
      "2020-11-29 12:12:04,679 - thermomodel_None - WARNING - Warning : NULL/L\n",
      "2020-11-29 12:12:04,679 - thermomodel_None - WARNING - Warning : NULL/U\n",
      "2020-11-29 12:12:04,679 - thermomodel_None - WARNING - Warning : NULL/L\n",
      "2020-11-29 12:12:04,679 - thermomodel_None - WARNING - Warning : NULL/L\n",
      "2020-11-29 12:12:04,679 - thermomodel_None - WARNING - Warning : NULL/U\n",
      "2020-11-29 12:12:04,679 - thermomodel_None - WARNING - Warning : NULL/L\n",
      "2020-11-29 12:12:04,679 - thermomodel_None - WARNING - Warning : NULL/L\n",
      "2020-11-29 12:12:04,679 - thermomodel_None - WARNING - Warning : NULL/U\n",
      "2020-11-29 12:12:04,679 - thermomodel_None - WARNING - Warning : NULL/L\n",
      "2020-11-29 12:12:04,679 - thermomodel_None - WARNING - Warning : NULL/L\n",
      "2020-11-29 12:12:04,795 - thermomodel_None - INFO - # Model preparation done.\n",
      "2020-11-29 12:12:04,795 - thermomodel_None - INFO - # Model conversion starting...\n",
      "2020-11-29 12:12:38,935 - thermomodel_None - INFO - # Model conversion done.\n",
      "2020-11-29 12:12:38,943 - thermomodel_None - INFO - # Updating cobra_model variables...\n",
      "2020-11-29 12:12:38,986 - thermomodel_None - INFO - # cobra_model variables are up-to-date\n"
     ]
    },
    {
     "name": "stdout",
     "output_type": "stream",
     "text": [
      "Read LP format model from file C:\\Users\\riheme\\AppData\\Local\\Temp\\tmp964h4ai4.lp\n",
      "Reading time = 0.02 seconds\n",
      ": 1807 rows, 5170 columns, 20304 nonzeros\n",
      "Read LP format model from file C:\\Users\\riheme\\AppData\\Local\\Temp\\tmpise0084f.lp\n",
      "Reading time = 0.02 seconds\n",
      ": 1807 rows, 5170 columns, 20304 nonzeros\n"
     ]
    },
    {
     "name": "stderr",
     "output_type": "stream",
     "text": [
      "2020-11-29 12:12:54,870 - thermomodel_Ecoli GLCptspp (Glc) 1 @ t = 11 - INFO - # Model initialized with units kcal/mol and temperature 298.15 K\n"
     ]
    },
    {
     "name": "stdout",
     "output_type": "stream",
     "text": [
      "Read LP format model from file C:\\Users\\riheme\\AppData\\Local\\Temp\\tmp90_0d6ff.lp\n",
      "Reading time = 0.02 seconds\n",
      ": 1807 rows, 5170 columns, 20304 nonzeros\n",
      "Read LP format model from file C:\\Users\\riheme\\AppData\\Local\\Temp\\tmpbcug2lpw.lp\n",
      "Reading time = 0.02 seconds\n",
      ": 1807 rows, 5170 columns, 20304 nonzeros\n"
     ]
    },
    {
     "name": "stderr",
     "output_type": "stream",
     "text": [
      "2020-11-29 12:13:20,253 - thermomodel_Ecoli GLCptspp (Glc) 1 @ t = 11 - INFO - # Model initialized with units kcal/mol and temperature 298.15 K\n",
      "2020-11-29 12:13:29,184 - thermomodel_Ecoli GLCptspp (Glc) 1 @ t = 11 - INFO - Adding slack constraints\n",
      "adding slacks: 100%|███████████████████████████████████████████████████████████████| 1824/1824 [00:35<00:00, 50.85it/s]\n",
      "2020-11-29 12:14:06,689 - thermomodel_Ecoli GLCptspp (Glc) 1 @ t = 11 - INFO - Optimizing slack model\n",
      "2020-11-29 12:14:12,669 - thermomodel_Ecoli GLCptspp (Glc) 1 @ t = 11 - INFO - Extracting relaxation\n",
      "applying slack: 100%|███████████████████████████████████████████████████████████| 2585/2585 [00:00<00:00, 45423.90it/s]\n",
      "2020-11-29 12:14:12,821 - thermomodel_Ecoli GLCptspp (Glc) 1 @ t = 11 - INFO - Testing relaxation\n"
     ]
    },
    {
     "name": "stdout",
     "output_type": "stream",
     "text": [
      "################################################################################\n",
      "Ecoli GLCptspp (Glc) 2 @ t = 1\n",
      "(9.45 min)\n",
      "################################################################################\n",
      "Read LP format model from file C:\\Users\\riheme\\AppData\\Local\\Temp\\tmp6pqy4q81.lp\n",
      "Reading time = 0.02 seconds\n",
      ": 1807 rows, 5170 columns, 20334 nonzeros\n",
      "Read LP format model from file C:\\Users\\riheme\\AppData\\Local\\Temp\\tmpundxdpr_.lp\n",
      "Reading time = 0.02 seconds\n",
      ": 1807 rows, 5170 columns, 20334 nonzeros\n"
     ]
    },
    {
     "name": "stderr",
     "output_type": "stream",
     "text": [
      "2020-11-29 12:14:27,621 - thermomodel_None - INFO - # Model initialized with units kcal/mol and temperature 298.15 K\n",
      "2020-11-29 12:14:27,631 - thermomodel_None - INFO - # Model preparation starting...\n",
      "2020-11-29 12:14:30,072 - thermomodel_None - WARNING - Warning : NULL/U\n",
      "2020-11-29 12:14:30,072 - thermomodel_None - WARNING - Warning : NULL/L\n",
      "2020-11-29 12:14:30,072 - thermomodel_None - WARNING - Warning : NULL/L\n",
      "2020-11-29 12:14:30,072 - thermomodel_None - WARNING - Warning : NULL/U\n",
      "2020-11-29 12:14:30,072 - thermomodel_None - WARNING - Warning : NULL/L\n",
      "2020-11-29 12:14:30,080 - thermomodel_None - WARNING - Warning : NULL/L\n",
      "2020-11-29 12:14:30,297 - thermomodel_None - WARNING - Warning : NULL/U\n",
      "2020-11-29 12:14:30,305 - thermomodel_None - WARNING - Warning : NULL/L\n",
      "2020-11-29 12:14:30,305 - thermomodel_None - WARNING - Warning : NULL/L\n",
      "2020-11-29 12:14:30,307 - thermomodel_None - WARNING - Warning : NULL/U\n",
      "2020-11-29 12:14:30,307 - thermomodel_None - WARNING - Warning : NULL/L\n",
      "2020-11-29 12:14:30,307 - thermomodel_None - WARNING - Warning : NULL/L\n",
      "2020-11-29 12:14:30,441 - thermomodel_None - WARNING - Warning : NULL/U\n",
      "2020-11-29 12:14:30,441 - thermomodel_None - WARNING - Warning : NULL/L\n",
      "2020-11-29 12:14:30,456 - thermomodel_None - WARNING - Warning : NULL/L\n",
      "2020-11-29 12:14:30,456 - thermomodel_None - WARNING - Warning : NULL/U\n",
      "2020-11-29 12:14:30,456 - thermomodel_None - WARNING - Warning : NULL/L\n",
      "2020-11-29 12:14:30,456 - thermomodel_None - WARNING - Warning : NULL/L\n",
      "2020-11-29 12:14:30,503 - thermomodel_None - WARNING - Warning : NULL/U\n",
      "2020-11-29 12:14:30,503 - thermomodel_None - WARNING - Warning : NULL/L\n",
      "2020-11-29 12:14:30,503 - thermomodel_None - WARNING - Warning : NULL/L\n",
      "2020-11-29 12:14:30,503 - thermomodel_None - WARNING - Warning : NULL/U\n",
      "2020-11-29 12:14:30,519 - thermomodel_None - WARNING - Warning : NULL/L\n",
      "2020-11-29 12:14:30,519 - thermomodel_None - WARNING - Warning : NULL/L\n",
      "2020-11-29 12:14:30,519 - thermomodel_None - WARNING - Warning : NULL/U\n",
      "2020-11-29 12:14:30,519 - thermomodel_None - WARNING - Warning : NULL/L\n",
      "2020-11-29 12:14:30,519 - thermomodel_None - WARNING - Warning : NULL/L\n",
      "2020-11-29 12:14:30,519 - thermomodel_None - WARNING - Warning : NULL/U\n",
      "2020-11-29 12:14:30,519 - thermomodel_None - WARNING - Warning : NULL/L\n",
      "2020-11-29 12:14:30,519 - thermomodel_None - WARNING - Warning : NULL/L\n",
      "2020-11-29 12:14:30,519 - thermomodel_None - WARNING - Warning : NULL/U\n",
      "2020-11-29 12:14:30,519 - thermomodel_None - WARNING - Warning : NULL/L\n",
      "2020-11-29 12:14:30,525 - thermomodel_None - WARNING - Warning : NULL/L\n",
      "2020-11-29 12:14:30,525 - thermomodel_None - WARNING - Warning : NULL/U\n",
      "2020-11-29 12:14:30,525 - thermomodel_None - WARNING - Warning : NULL/L\n",
      "2020-11-29 12:14:30,525 - thermomodel_None - WARNING - Warning : NULL/L\n",
      "2020-11-29 12:14:30,525 - thermomodel_None - WARNING - Warning : NULL/U\n",
      "2020-11-29 12:14:30,525 - thermomodel_None - WARNING - Warning : NULL/L\n",
      "2020-11-29 12:14:30,525 - thermomodel_None - WARNING - Warning : NULL/L\n",
      "2020-11-29 12:14:30,525 - thermomodel_None - WARNING - Warning : NULL/U\n",
      "2020-11-29 12:14:30,525 - thermomodel_None - WARNING - Warning : NULL/L\n",
      "2020-11-29 12:14:30,525 - thermomodel_None - WARNING - Warning : NULL/L\n",
      "2020-11-29 12:14:30,641 - thermomodel_None - INFO - # Model preparation done.\n",
      "2020-11-29 12:14:30,641 - thermomodel_None - INFO - # Model conversion starting...\n",
      "2020-11-29 12:15:05,192 - thermomodel_None - INFO - # Model conversion done.\n",
      "2020-11-29 12:15:05,192 - thermomodel_None - INFO - # Updating cobra_model variables...\n",
      "2020-11-29 12:15:05,242 - thermomodel_None - INFO - # cobra_model variables are up-to-date\n"
     ]
    },
    {
     "name": "stdout",
     "output_type": "stream",
     "text": [
      "Read LP format model from file C:\\Users\\riheme\\AppData\\Local\\Temp\\tmp4dhxgt0_.lp\n",
      "Reading time = 0.02 seconds\n",
      ": 1807 rows, 5170 columns, 20304 nonzeros\n",
      "Read LP format model from file C:\\Users\\riheme\\AppData\\Local\\Temp\\tmpdg3_betb.lp\n",
      "Reading time = 0.02 seconds\n",
      ": 1807 rows, 5170 columns, 20304 nonzeros\n"
     ]
    },
    {
     "name": "stderr",
     "output_type": "stream",
     "text": [
      "2020-11-29 12:15:21,137 - thermomodel_Ecoli GLCptspp (Glc) 2 @ t = 1 - INFO - # Model initialized with units kcal/mol and temperature 298.15 K\n"
     ]
    },
    {
     "name": "stdout",
     "output_type": "stream",
     "text": [
      "Read LP format model from file C:\\Users\\riheme\\AppData\\Local\\Temp\\tmp89g6ca3h.lp\n",
      "Reading time = 0.02 seconds\n",
      ": 1807 rows, 5170 columns, 20304 nonzeros\n",
      "Read LP format model from file C:\\Users\\riheme\\AppData\\Local\\Temp\\tmpcz2dkp0z.lp\n",
      "Reading time = 0.03 seconds\n",
      ": 1807 rows, 5170 columns, 20304 nonzeros\n"
     ]
    },
    {
     "name": "stderr",
     "output_type": "stream",
     "text": [
      "2020-11-29 12:15:46,371 - thermomodel_Ecoli GLCptspp (Glc) 2 @ t = 1 - INFO - # Model initialized with units kcal/mol and temperature 298.15 K\n",
      "2020-11-29 12:15:55,052 - thermomodel_Ecoli GLCptspp (Glc) 2 @ t = 1 - INFO - Adding slack constraints\n",
      "adding slacks: 100%|███████████████████████████████████████████████████████████████| 1824/1824 [00:36<00:00, 50.07it/s]\n",
      "2020-11-29 12:16:33,082 - thermomodel_Ecoli GLCptspp (Glc) 2 @ t = 1 - INFO - Optimizing slack model\n",
      "2020-11-29 12:16:39,059 - thermomodel_Ecoli GLCptspp (Glc) 2 @ t = 1 - INFO - Extracting relaxation\n",
      "applying slack: 100%|███████████████████████████████████████████████████████████| 2585/2585 [00:00<00:00, 55203.10it/s]\n",
      "2020-11-29 12:16:39,211 - thermomodel_Ecoli GLCptspp (Glc) 2 @ t = 1 - INFO - Testing relaxation\n"
     ]
    },
    {
     "name": "stdout",
     "output_type": "stream",
     "text": [
      "################################################################################\n",
      "Ecoli GLCptspp (Glc) 2 @ t = 3\n",
      "(11.88 min)\n",
      "################################################################################\n",
      "Read LP format model from file C:\\Users\\riheme\\AppData\\Local\\Temp\\tmpucbn78l6.lp\n",
      "Reading time = 0.03 seconds\n",
      ": 1807 rows, 5170 columns, 20334 nonzeros\n",
      "Read LP format model from file C:\\Users\\riheme\\AppData\\Local\\Temp\\tmp46ke52pr.lp\n",
      "Reading time = 0.02 seconds\n",
      ": 1807 rows, 5170 columns, 20334 nonzeros\n"
     ]
    },
    {
     "name": "stderr",
     "output_type": "stream",
     "text": [
      "2020-11-29 12:16:53,769 - thermomodel_None - INFO - # Model initialized with units kcal/mol and temperature 298.15 K\n",
      "2020-11-29 12:16:53,779 - thermomodel_None - INFO - # Model preparation starting...\n",
      "2020-11-29 12:16:56,218 - thermomodel_None - WARNING - Warning : NULL/U\n",
      "2020-11-29 12:16:56,218 - thermomodel_None - WARNING - Warning : NULL/L\n",
      "2020-11-29 12:16:56,226 - thermomodel_None - WARNING - Warning : NULL/L\n",
      "2020-11-29 12:16:56,226 - thermomodel_None - WARNING - Warning : NULL/U\n",
      "2020-11-29 12:16:56,226 - thermomodel_None - WARNING - Warning : NULL/L\n",
      "2020-11-29 12:16:56,226 - thermomodel_None - WARNING - Warning : NULL/L\n",
      "2020-11-29 12:16:56,449 - thermomodel_None - WARNING - Warning : NULL/U\n",
      "2020-11-29 12:16:56,449 - thermomodel_None - WARNING - Warning : NULL/L\n",
      "2020-11-29 12:16:56,449 - thermomodel_None - WARNING - Warning : NULL/L\n",
      "2020-11-29 12:16:56,449 - thermomodel_None - WARNING - Warning : NULL/U\n",
      "2020-11-29 12:16:56,449 - thermomodel_None - WARNING - Warning : NULL/L\n",
      "2020-11-29 12:16:56,449 - thermomodel_None - WARNING - Warning : NULL/L\n",
      "2020-11-29 12:16:56,600 - thermomodel_None - WARNING - Warning : NULL/U\n",
      "2020-11-29 12:16:56,600 - thermomodel_None - WARNING - Warning : NULL/L\n",
      "2020-11-29 12:16:56,600 - thermomodel_None - WARNING - Warning : NULL/L\n",
      "2020-11-29 12:16:56,600 - thermomodel_None - WARNING - Warning : NULL/U\n",
      "2020-11-29 12:16:56,600 - thermomodel_None - WARNING - Warning : NULL/L\n",
      "2020-11-29 12:16:56,600 - thermomodel_None - WARNING - Warning : NULL/L\n",
      "2020-11-29 12:16:56,647 - thermomodel_None - WARNING - Warning : NULL/U\n",
      "2020-11-29 12:16:56,663 - thermomodel_None - WARNING - Warning : NULL/L\n",
      "2020-11-29 12:16:56,663 - thermomodel_None - WARNING - Warning : NULL/L\n",
      "2020-11-29 12:16:56,663 - thermomodel_None - WARNING - Warning : NULL/U\n",
      "2020-11-29 12:16:56,663 - thermomodel_None - WARNING - Warning : NULL/L\n",
      "2020-11-29 12:16:56,663 - thermomodel_None - WARNING - Warning : NULL/L\n",
      "2020-11-29 12:16:56,663 - thermomodel_None - WARNING - Warning : NULL/U\n",
      "2020-11-29 12:16:56,663 - thermomodel_None - WARNING - Warning : NULL/L\n",
      "2020-11-29 12:16:56,668 - thermomodel_None - WARNING - Warning : NULL/L\n",
      "2020-11-29 12:16:56,668 - thermomodel_None - WARNING - Warning : NULL/U\n",
      "2020-11-29 12:16:56,668 - thermomodel_None - WARNING - Warning : NULL/L\n",
      "2020-11-29 12:16:56,668 - thermomodel_None - WARNING - Warning : NULL/L\n",
      "2020-11-29 12:16:56,668 - thermomodel_None - WARNING - Warning : NULL/U\n",
      "2020-11-29 12:16:56,668 - thermomodel_None - WARNING - Warning : NULL/L\n",
      "2020-11-29 12:16:56,668 - thermomodel_None - WARNING - Warning : NULL/L\n",
      "2020-11-29 12:16:56,668 - thermomodel_None - WARNING - Warning : NULL/U\n",
      "2020-11-29 12:16:56,668 - thermomodel_None - WARNING - Warning : NULL/L\n",
      "2020-11-29 12:16:56,668 - thermomodel_None - WARNING - Warning : NULL/L\n",
      "2020-11-29 12:16:56,668 - thermomodel_None - WARNING - Warning : NULL/U\n",
      "2020-11-29 12:16:56,668 - thermomodel_None - WARNING - Warning : NULL/L\n",
      "2020-11-29 12:16:56,668 - thermomodel_None - WARNING - Warning : NULL/L\n",
      "2020-11-29 12:16:56,668 - thermomodel_None - WARNING - Warning : NULL/U\n",
      "2020-11-29 12:16:56,668 - thermomodel_None - WARNING - Warning : NULL/L\n",
      "2020-11-29 12:16:56,668 - thermomodel_None - WARNING - Warning : NULL/L\n",
      "2020-11-29 12:16:56,799 - thermomodel_None - INFO - # Model preparation done.\n",
      "2020-11-29 12:16:56,799 - thermomodel_None - INFO - # Model conversion starting...\n",
      "2020-11-29 12:17:31,176 - thermomodel_None - INFO - # Model conversion done.\n",
      "2020-11-29 12:17:31,176 - thermomodel_None - INFO - # Updating cobra_model variables...\n",
      "2020-11-29 12:17:31,225 - thermomodel_None - INFO - # cobra_model variables are up-to-date\n"
     ]
    },
    {
     "name": "stdout",
     "output_type": "stream",
     "text": [
      "Read LP format model from file C:\\Users\\riheme\\AppData\\Local\\Temp\\tmpz55bylxl.lp\n",
      "Reading time = 0.02 seconds\n",
      ": 1807 rows, 5170 columns, 20304 nonzeros\n",
      "Read LP format model from file C:\\Users\\riheme\\AppData\\Local\\Temp\\tmp7q79__qr.lp\n",
      "Reading time = 0.02 seconds\n",
      ": 1807 rows, 5170 columns, 20304 nonzeros\n"
     ]
    },
    {
     "name": "stderr",
     "output_type": "stream",
     "text": [
      "2020-11-29 12:17:47,394 - thermomodel_Ecoli GLCptspp (Glc) 2 @ t = 3 - INFO - # Model initialized with units kcal/mol and temperature 298.15 K\n"
     ]
    },
    {
     "name": "stdout",
     "output_type": "stream",
     "text": [
      "Read LP format model from file C:\\Users\\riheme\\AppData\\Local\\Temp\\tmpj0hu4p7b.lp\n",
      "Reading time = 0.03 seconds\n",
      ": 1807 rows, 5170 columns, 20304 nonzeros\n",
      "Read LP format model from file C:\\Users\\riheme\\AppData\\Local\\Temp\\tmpv3k_dzct.lp\n",
      "Reading time = 0.02 seconds\n",
      ": 1807 rows, 5170 columns, 20304 nonzeros\n"
     ]
    },
    {
     "name": "stderr",
     "output_type": "stream",
     "text": [
      "2020-11-29 12:18:12,805 - thermomodel_Ecoli GLCptspp (Glc) 2 @ t = 3 - INFO - # Model initialized with units kcal/mol and temperature 298.15 K\n",
      "2020-11-29 12:18:21,481 - thermomodel_Ecoli GLCptspp (Glc) 2 @ t = 3 - INFO - Adding slack constraints\n",
      "adding slacks: 100%|███████████████████████████████████████████████████████████████| 1824/1824 [00:36<00:00, 50.65it/s]\n",
      "2020-11-29 12:18:59,134 - thermomodel_Ecoli GLCptspp (Glc) 2 @ t = 3 - INFO - Optimizing slack model\n",
      "2020-11-29 12:19:05,137 - thermomodel_Ecoli GLCptspp (Glc) 2 @ t = 3 - INFO - Extracting relaxation\n",
      "applying slack: 100%|███████████████████████████████████████████████████████████| 2585/2585 [00:00<00:00, 42695.03it/s]\n",
      "2020-11-29 12:19:05,288 - thermomodel_Ecoli GLCptspp (Glc) 2 @ t = 3 - INFO - Testing relaxation\n"
     ]
    },
    {
     "name": "stdout",
     "output_type": "stream",
     "text": [
      "################################################################################\n",
      "Ecoli GLCptspp (Glc) 2 @ t = 11\n",
      "(14.32 min)\n",
      "################################################################################\n",
      "Read LP format model from file C:\\Users\\riheme\\AppData\\Local\\Temp\\tmpn71f8649.lp\n",
      "Reading time = 0.02 seconds\n",
      ": 1807 rows, 5170 columns, 20334 nonzeros\n",
      "Read LP format model from file C:\\Users\\riheme\\AppData\\Local\\Temp\\tmpnrdcu91z.lp\n",
      "Reading time = 0.02 seconds\n",
      ": 1807 rows, 5170 columns, 20334 nonzeros\n"
     ]
    },
    {
     "name": "stderr",
     "output_type": "stream",
     "text": [
      "2020-11-29 12:19:19,915 - thermomodel_None - INFO - # Model initialized with units kcal/mol and temperature 298.15 K\n",
      "2020-11-29 12:19:19,925 - thermomodel_None - INFO - # Model preparation starting...\n",
      "2020-11-29 12:19:22,279 - thermomodel_None - WARNING - Warning : NULL/U\n",
      "2020-11-29 12:19:22,279 - thermomodel_None - WARNING - Warning : NULL/L\n",
      "2020-11-29 12:19:22,279 - thermomodel_None - WARNING - Warning : NULL/L\n",
      "2020-11-29 12:19:22,279 - thermomodel_None - WARNING - Warning : NULL/U\n",
      "2020-11-29 12:19:22,279 - thermomodel_None - WARNING - Warning : NULL/L\n",
      "2020-11-29 12:19:22,287 - thermomodel_None - WARNING - Warning : NULL/L\n",
      "2020-11-29 12:19:22,501 - thermomodel_None - WARNING - Warning : NULL/U\n",
      "2020-11-29 12:19:22,501 - thermomodel_None - WARNING - Warning : NULL/L\n",
      "2020-11-29 12:19:22,501 - thermomodel_None - WARNING - Warning : NULL/L\n",
      "2020-11-29 12:19:22,501 - thermomodel_None - WARNING - Warning : NULL/U\n",
      "2020-11-29 12:19:22,501 - thermomodel_None - WARNING - Warning : NULL/L\n",
      "2020-11-29 12:19:22,501 - thermomodel_None - WARNING - Warning : NULL/L\n",
      "2020-11-29 12:19:22,651 - thermomodel_None - WARNING - Warning : NULL/U\n",
      "2020-11-29 12:19:22,651 - thermomodel_None - WARNING - Warning : NULL/L\n",
      "2020-11-29 12:19:22,651 - thermomodel_None - WARNING - Warning : NULL/L\n",
      "2020-11-29 12:19:22,651 - thermomodel_None - WARNING - Warning : NULL/U\n",
      "2020-11-29 12:19:22,651 - thermomodel_None - WARNING - Warning : NULL/L\n",
      "2020-11-29 12:19:22,651 - thermomodel_None - WARNING - Warning : NULL/L\n",
      "2020-11-29 12:19:22,713 - thermomodel_None - WARNING - Warning : NULL/U\n",
      "2020-11-29 12:19:22,713 - thermomodel_None - WARNING - Warning : NULL/L\n",
      "2020-11-29 12:19:22,713 - thermomodel_None - WARNING - Warning : NULL/L\n",
      "2020-11-29 12:19:22,713 - thermomodel_None - WARNING - Warning : NULL/U\n",
      "2020-11-29 12:19:22,713 - thermomodel_None - WARNING - Warning : NULL/L\n",
      "2020-11-29 12:19:22,713 - thermomodel_None - WARNING - Warning : NULL/L\n",
      "2020-11-29 12:19:22,713 - thermomodel_None - WARNING - Warning : NULL/U\n",
      "2020-11-29 12:19:22,713 - thermomodel_None - WARNING - Warning : NULL/L\n",
      "2020-11-29 12:19:22,713 - thermomodel_None - WARNING - Warning : NULL/L\n",
      "2020-11-29 12:19:22,713 - thermomodel_None - WARNING - Warning : NULL/U\n",
      "2020-11-29 12:19:22,720 - thermomodel_None - WARNING - Warning : NULL/L\n",
      "2020-11-29 12:19:22,720 - thermomodel_None - WARNING - Warning : NULL/L\n",
      "2020-11-29 12:19:22,720 - thermomodel_None - WARNING - Warning : NULL/U\n",
      "2020-11-29 12:19:22,720 - thermomodel_None - WARNING - Warning : NULL/L\n",
      "2020-11-29 12:19:22,720 - thermomodel_None - WARNING - Warning : NULL/L\n",
      "2020-11-29 12:19:22,720 - thermomodel_None - WARNING - Warning : NULL/U\n",
      "2020-11-29 12:19:22,720 - thermomodel_None - WARNING - Warning : NULL/L\n",
      "2020-11-29 12:19:22,720 - thermomodel_None - WARNING - Warning : NULL/L\n",
      "2020-11-29 12:19:22,720 - thermomodel_None - WARNING - Warning : NULL/U\n",
      "2020-11-29 12:19:22,720 - thermomodel_None - WARNING - Warning : NULL/L\n",
      "2020-11-29 12:19:22,720 - thermomodel_None - WARNING - Warning : NULL/L\n",
      "2020-11-29 12:19:22,720 - thermomodel_None - WARNING - Warning : NULL/U\n",
      "2020-11-29 12:19:22,720 - thermomodel_None - WARNING - Warning : NULL/L\n",
      "2020-11-29 12:19:22,720 - thermomodel_None - WARNING - Warning : NULL/L\n",
      "2020-11-29 12:19:22,836 - thermomodel_None - INFO - # Model preparation done.\n",
      "2020-11-29 12:19:22,851 - thermomodel_None - INFO - # Model conversion starting...\n",
      "2020-11-29 12:19:58,529 - thermomodel_None - INFO - # Model conversion done.\n",
      "2020-11-29 12:19:58,529 - thermomodel_None - INFO - # Updating cobra_model variables...\n",
      "2020-11-29 12:19:58,579 - thermomodel_None - INFO - # cobra_model variables are up-to-date\n"
     ]
    },
    {
     "name": "stdout",
     "output_type": "stream",
     "text": [
      "Read LP format model from file C:\\Users\\riheme\\AppData\\Local\\Temp\\tmpd0tkr1d2.lp\n",
      "Reading time = 0.03 seconds\n",
      ": 1807 rows, 5170 columns, 20304 nonzeros\n",
      "Read LP format model from file C:\\Users\\riheme\\AppData\\Local\\Temp\\tmprj6vorpl.lp\n",
      "Reading time = 0.02 seconds\n",
      ": 1807 rows, 5170 columns, 20304 nonzeros\n"
     ]
    },
    {
     "name": "stderr",
     "output_type": "stream",
     "text": [
      "2020-11-29 12:20:14,680 - thermomodel_Ecoli GLCptspp (Glc) 2 @ t = 11 - INFO - # Model initialized with units kcal/mol and temperature 298.15 K\n"
     ]
    },
    {
     "name": "stdout",
     "output_type": "stream",
     "text": [
      "Read LP format model from file C:\\Users\\riheme\\AppData\\Local\\Temp\\tmpdfjj5yjd.lp\n",
      "Reading time = 0.02 seconds\n",
      ": 1807 rows, 5170 columns, 20304 nonzeros\n",
      "Read LP format model from file C:\\Users\\riheme\\AppData\\Local\\Temp\\tmplqq33zuz.lp\n",
      "Reading time = 0.02 seconds\n",
      ": 1807 rows, 5170 columns, 20304 nonzeros\n"
     ]
    },
    {
     "name": "stderr",
     "output_type": "stream",
     "text": [
      "2020-11-29 12:20:40,104 - thermomodel_Ecoli GLCptspp (Glc) 2 @ t = 11 - INFO - # Model initialized with units kcal/mol and temperature 298.15 K\n",
      "2020-11-29 12:20:48,908 - thermomodel_Ecoli GLCptspp (Glc) 2 @ t = 11 - INFO - Adding slack constraints\n",
      "adding slacks: 100%|███████████████████████████████████████████████████████████████| 1824/1824 [00:37<00:00, 49.16it/s]\n",
      "2020-11-29 12:21:27,640 - thermomodel_Ecoli GLCptspp (Glc) 2 @ t = 11 - INFO - Optimizing slack model\n",
      "2020-11-29 12:21:33,688 - thermomodel_Ecoli GLCptspp (Glc) 2 @ t = 11 - INFO - Extracting relaxation\n",
      "applying slack: 100%|███████████████████████████████████████████████████████████| 2585/2585 [00:00<00:00, 45420.09it/s]\n",
      "2020-11-29 12:21:33,840 - thermomodel_Ecoli GLCptspp (Glc) 2 @ t = 11 - INFO - Testing relaxation\n"
     ]
    },
    {
     "name": "stdout",
     "output_type": "stream",
     "text": [
      "################################################################################\n",
      "Ecoli GLCptspp (Glc) 3 @ t = 1\n",
      "(16.80 min)\n",
      "################################################################################\n",
      "Read LP format model from file C:\\Users\\riheme\\AppData\\Local\\Temp\\tmpvectpck6.lp\n",
      "Reading time = 0.02 seconds\n",
      ": 1807 rows, 5170 columns, 20334 nonzeros\n",
      "Read LP format model from file C:\\Users\\riheme\\AppData\\Local\\Temp\\tmp7rbqpe2c.lp\n",
      "Reading time = 0.02 seconds\n",
      ": 1807 rows, 5170 columns, 20334 nonzeros\n"
     ]
    },
    {
     "name": "stderr",
     "output_type": "stream",
     "text": [
      "2020-11-29 12:21:48,594 - thermomodel_None - INFO - # Model initialized with units kcal/mol and temperature 298.15 K\n",
      "2020-11-29 12:21:48,602 - thermomodel_None - INFO - # Model preparation starting...\n",
      "2020-11-29 12:21:50,999 - thermomodel_None - WARNING - Warning : NULL/U\n",
      "2020-11-29 12:21:50,999 - thermomodel_None - WARNING - Warning : NULL/L\n",
      "2020-11-29 12:21:51,001 - thermomodel_None - WARNING - Warning : NULL/L\n",
      "2020-11-29 12:21:51,001 - thermomodel_None - WARNING - Warning : NULL/U\n",
      "2020-11-29 12:21:51,001 - thermomodel_None - WARNING - Warning : NULL/L\n",
      "2020-11-29 12:21:51,001 - thermomodel_None - WARNING - Warning : NULL/L\n",
      "2020-11-29 12:21:51,221 - thermomodel_None - WARNING - Warning : NULL/U\n",
      "2020-11-29 12:21:51,221 - thermomodel_None - WARNING - Warning : NULL/L\n",
      "2020-11-29 12:21:51,221 - thermomodel_None - WARNING - Warning : NULL/L\n",
      "2020-11-29 12:21:51,221 - thermomodel_None - WARNING - Warning : NULL/U\n",
      "2020-11-29 12:21:51,221 - thermomodel_None - WARNING - Warning : NULL/L\n",
      "2020-11-29 12:21:51,221 - thermomodel_None - WARNING - Warning : NULL/L\n",
      "2020-11-29 12:21:51,362 - thermomodel_None - WARNING - Warning : NULL/U\n",
      "2020-11-29 12:21:51,362 - thermomodel_None - WARNING - Warning : NULL/L\n",
      "2020-11-29 12:21:51,362 - thermomodel_None - WARNING - Warning : NULL/L\n",
      "2020-11-29 12:21:51,362 - thermomodel_None - WARNING - Warning : NULL/U\n",
      "2020-11-29 12:21:51,362 - thermomodel_None - WARNING - Warning : NULL/L\n",
      "2020-11-29 12:21:51,362 - thermomodel_None - WARNING - Warning : NULL/L\n",
      "2020-11-29 12:21:51,425 - thermomodel_None - WARNING - Warning : NULL/U\n",
      "2020-11-29 12:21:51,425 - thermomodel_None - WARNING - Warning : NULL/L\n",
      "2020-11-29 12:21:51,425 - thermomodel_None - WARNING - Warning : NULL/L\n",
      "2020-11-29 12:21:51,425 - thermomodel_None - WARNING - Warning : NULL/U\n",
      "2020-11-29 12:21:51,425 - thermomodel_None - WARNING - Warning : NULL/L\n",
      "2020-11-29 12:21:51,425 - thermomodel_None - WARNING - Warning : NULL/L\n",
      "2020-11-29 12:21:51,431 - thermomodel_None - WARNING - Warning : NULL/U\n",
      "2020-11-29 12:21:51,431 - thermomodel_None - WARNING - Warning : NULL/L\n",
      "2020-11-29 12:21:51,431 - thermomodel_None - WARNING - Warning : NULL/L\n",
      "2020-11-29 12:21:51,431 - thermomodel_None - WARNING - Warning : NULL/U\n",
      "2020-11-29 12:21:51,431 - thermomodel_None - WARNING - Warning : NULL/L\n",
      "2020-11-29 12:21:51,431 - thermomodel_None - WARNING - Warning : NULL/L\n",
      "2020-11-29 12:21:51,431 - thermomodel_None - WARNING - Warning : NULL/U\n",
      "2020-11-29 12:21:51,431 - thermomodel_None - WARNING - Warning : NULL/L\n",
      "2020-11-29 12:21:51,431 - thermomodel_None - WARNING - Warning : NULL/L\n",
      "2020-11-29 12:21:51,431 - thermomodel_None - WARNING - Warning : NULL/U\n",
      "2020-11-29 12:21:51,431 - thermomodel_None - WARNING - Warning : NULL/L\n",
      "2020-11-29 12:21:51,431 - thermomodel_None - WARNING - Warning : NULL/L\n",
      "2020-11-29 12:21:51,431 - thermomodel_None - WARNING - Warning : NULL/U\n",
      "2020-11-29 12:21:51,431 - thermomodel_None - WARNING - Warning : NULL/L\n",
      "2020-11-29 12:21:51,431 - thermomodel_None - WARNING - Warning : NULL/L\n",
      "2020-11-29 12:21:51,431 - thermomodel_None - WARNING - Warning : NULL/U\n",
      "2020-11-29 12:21:51,431 - thermomodel_None - WARNING - Warning : NULL/L\n",
      "2020-11-29 12:21:51,431 - thermomodel_None - WARNING - Warning : NULL/L\n",
      "2020-11-29 12:21:51,547 - thermomodel_None - INFO - # Model preparation done.\n",
      "2020-11-29 12:21:51,547 - thermomodel_None - INFO - # Model conversion starting...\n",
      "2020-11-29 12:22:25,963 - thermomodel_None - INFO - # Model conversion done.\n",
      "2020-11-29 12:22:25,963 - thermomodel_None - INFO - # Updating cobra_model variables...\n",
      "2020-11-29 12:22:25,996 - thermomodel_None - INFO - # cobra_model variables are up-to-date\n"
     ]
    },
    {
     "name": "stdout",
     "output_type": "stream",
     "text": [
      "Read LP format model from file C:\\Users\\riheme\\AppData\\Local\\Temp\\tmpdxdgl_wn.lp\n",
      "Reading time = 0.02 seconds\n",
      ": 1807 rows, 5170 columns, 20304 nonzeros\n",
      "Read LP format model from file C:\\Users\\riheme\\AppData\\Local\\Temp\\tmpf5siwa9z.lp\n",
      "Reading time = 0.02 seconds\n",
      ": 1807 rows, 5170 columns, 20304 nonzeros\n"
     ]
    },
    {
     "name": "stderr",
     "output_type": "stream",
     "text": [
      "2020-11-29 12:22:42,376 - thermomodel_Ecoli GLCptspp (Glc) 3 @ t = 1 - INFO - # Model initialized with units kcal/mol and temperature 298.15 K\n"
     ]
    },
    {
     "name": "stdout",
     "output_type": "stream",
     "text": [
      "Read LP format model from file C:\\Users\\riheme\\AppData\\Local\\Temp\\tmpysaphk72.lp\n",
      "Reading time = 0.02 seconds\n",
      ": 1807 rows, 5170 columns, 20304 nonzeros\n",
      "Read LP format model from file C:\\Users\\riheme\\AppData\\Local\\Temp\\tmpviv1oikq.lp\n",
      "Reading time = 0.02 seconds\n",
      ": 1807 rows, 5170 columns, 20304 nonzeros\n"
     ]
    },
    {
     "name": "stderr",
     "output_type": "stream",
     "text": [
      "2020-11-29 12:23:07,720 - thermomodel_Ecoli GLCptspp (Glc) 3 @ t = 1 - INFO - # Model initialized with units kcal/mol and temperature 298.15 K\n",
      "2020-11-29 12:23:16,495 - thermomodel_Ecoli GLCptspp (Glc) 3 @ t = 1 - INFO - Adding slack constraints\n",
      "adding slacks: 100%|███████████████████████████████████████████████████████████████| 1824/1824 [00:37<00:00, 49.07it/s]\n",
      "2020-11-29 12:23:55,279 - thermomodel_Ecoli GLCptspp (Glc) 3 @ t = 1 - INFO - Optimizing slack model\n",
      "2020-11-29 12:23:58,989 - thermomodel_Ecoli GLCptspp (Glc) 3 @ t = 1 - INFO - Extracting relaxation\n",
      "applying slack: 100%|███████████████████████████████████████████████████████████| 2585/2585 [00:00<00:00, 42703.44it/s]\n",
      "2020-11-29 12:23:59,141 - thermomodel_Ecoli GLCptspp (Glc) 3 @ t = 1 - INFO - Testing relaxation\n"
     ]
    },
    {
     "name": "stdout",
     "output_type": "stream",
     "text": [
      "################################################################################\n",
      "Ecoli GLCptspp (Glc) 3 @ t = 3\n",
      "(19.22 min)\n",
      "################################################################################\n",
      "Read LP format model from file C:\\Users\\riheme\\AppData\\Local\\Temp\\tmpzzs44xj5.lp\n",
      "Reading time = 0.02 seconds\n",
      ": 1807 rows, 5170 columns, 20334 nonzeros\n",
      "Read LP format model from file C:\\Users\\riheme\\AppData\\Local\\Temp\\tmp0gy9510g.lp\n",
      "Reading time = 0.02 seconds\n",
      ": 1807 rows, 5170 columns, 20334 nonzeros\n"
     ]
    },
    {
     "name": "stderr",
     "output_type": "stream",
     "text": [
      "2020-11-29 12:24:13,891 - thermomodel_None - INFO - # Model initialized with units kcal/mol and temperature 298.15 K\n",
      "2020-11-29 12:24:13,899 - thermomodel_None - INFO - # Model preparation starting...\n",
      "2020-11-29 12:24:16,237 - thermomodel_None - WARNING - Warning : NULL/U\n",
      "2020-11-29 12:24:16,237 - thermomodel_None - WARNING - Warning : NULL/L\n",
      "2020-11-29 12:24:16,237 - thermomodel_None - WARNING - Warning : NULL/L\n",
      "2020-11-29 12:24:16,237 - thermomodel_None - WARNING - Warning : NULL/U\n",
      "2020-11-29 12:24:16,245 - thermomodel_None - WARNING - Warning : NULL/L\n",
      "2020-11-29 12:24:16,245 - thermomodel_None - WARNING - Warning : NULL/L\n",
      "2020-11-29 12:24:16,466 - thermomodel_None - WARNING - Warning : NULL/U\n",
      "2020-11-29 12:24:16,466 - thermomodel_None - WARNING - Warning : NULL/L\n",
      "2020-11-29 12:24:16,466 - thermomodel_None - WARNING - Warning : NULL/L\n",
      "2020-11-29 12:24:16,466 - thermomodel_None - WARNING - Warning : NULL/U\n",
      "2020-11-29 12:24:16,466 - thermomodel_None - WARNING - Warning : NULL/L\n",
      "2020-11-29 12:24:16,466 - thermomodel_None - WARNING - Warning : NULL/L\n",
      "2020-11-29 12:24:16,613 - thermomodel_None - WARNING - Warning : NULL/U\n",
      "2020-11-29 12:24:16,613 - thermomodel_None - WARNING - Warning : NULL/L\n",
      "2020-11-29 12:24:16,613 - thermomodel_None - WARNING - Warning : NULL/L\n",
      "2020-11-29 12:24:16,613 - thermomodel_None - WARNING - Warning : NULL/U\n",
      "2020-11-29 12:24:16,613 - thermomodel_None - WARNING - Warning : NULL/L\n",
      "2020-11-29 12:24:16,613 - thermomodel_None - WARNING - Warning : NULL/L\n",
      "2020-11-29 12:24:16,666 - thermomodel_None - WARNING - Warning : NULL/U\n",
      "2020-11-29 12:24:16,666 - thermomodel_None - WARNING - Warning : NULL/L\n",
      "2020-11-29 12:24:16,666 - thermomodel_None - WARNING - Warning : NULL/L\n",
      "2020-11-29 12:24:16,666 - thermomodel_None - WARNING - Warning : NULL/U\n",
      "2020-11-29 12:24:16,666 - thermomodel_None - WARNING - Warning : NULL/L\n",
      "2020-11-29 12:24:16,666 - thermomodel_None - WARNING - Warning : NULL/L\n",
      "2020-11-29 12:24:16,666 - thermomodel_None - WARNING - Warning : NULL/U\n",
      "2020-11-29 12:24:16,666 - thermomodel_None - WARNING - Warning : NULL/L\n",
      "2020-11-29 12:24:16,666 - thermomodel_None - WARNING - Warning : NULL/L\n",
      "2020-11-29 12:24:16,666 - thermomodel_None - WARNING - Warning : NULL/U\n",
      "2020-11-29 12:24:16,666 - thermomodel_None - WARNING - Warning : NULL/L\n",
      "2020-11-29 12:24:16,666 - thermomodel_None - WARNING - Warning : NULL/L\n",
      "2020-11-29 12:24:16,666 - thermomodel_None - WARNING - Warning : NULL/U\n",
      "2020-11-29 12:24:16,682 - thermomodel_None - WARNING - Warning : NULL/L\n",
      "2020-11-29 12:24:16,682 - thermomodel_None - WARNING - Warning : NULL/L\n",
      "2020-11-29 12:24:16,682 - thermomodel_None - WARNING - Warning : NULL/U\n",
      "2020-11-29 12:24:16,682 - thermomodel_None - WARNING - Warning : NULL/L\n",
      "2020-11-29 12:24:16,682 - thermomodel_None - WARNING - Warning : NULL/L\n",
      "2020-11-29 12:24:16,682 - thermomodel_None - WARNING - Warning : NULL/U\n",
      "2020-11-29 12:24:16,682 - thermomodel_None - WARNING - Warning : NULL/L\n",
      "2020-11-29 12:24:16,682 - thermomodel_None - WARNING - Warning : NULL/L\n",
      "2020-11-29 12:24:16,682 - thermomodel_None - WARNING - Warning : NULL/U\n",
      "2020-11-29 12:24:16,682 - thermomodel_None - WARNING - Warning : NULL/L\n",
      "2020-11-29 12:24:16,682 - thermomodel_None - WARNING - Warning : NULL/L\n",
      "2020-11-29 12:24:16,798 - thermomodel_None - INFO - # Model preparation done.\n",
      "2020-11-29 12:24:16,798 - thermomodel_None - INFO - # Model conversion starting...\n",
      "2020-11-29 12:24:51,352 - thermomodel_None - INFO - # Model conversion done.\n",
      "2020-11-29 12:24:51,352 - thermomodel_None - INFO - # Updating cobra_model variables...\n",
      "2020-11-29 12:24:51,400 - thermomodel_None - INFO - # cobra_model variables are up-to-date\n"
     ]
    },
    {
     "name": "stdout",
     "output_type": "stream",
     "text": [
      "Read LP format model from file C:\\Users\\riheme\\AppData\\Local\\Temp\\tmpcnmnt1nw.lp\n",
      "Reading time = 0.02 seconds\n",
      ": 1807 rows, 5170 columns, 20304 nonzeros\n",
      "Read LP format model from file C:\\Users\\riheme\\AppData\\Local\\Temp\\tmp8wnjpmgx.lp\n",
      "Reading time = 0.02 seconds\n",
      ": 1807 rows, 5170 columns, 20304 nonzeros\n"
     ]
    },
    {
     "name": "stderr",
     "output_type": "stream",
     "text": [
      "2020-11-29 12:25:07,561 - thermomodel_Ecoli GLCptspp (Glc) 3 @ t = 3 - INFO - # Model initialized with units kcal/mol and temperature 298.15 K\n"
     ]
    },
    {
     "name": "stdout",
     "output_type": "stream",
     "text": [
      "Read LP format model from file C:\\Users\\riheme\\AppData\\Local\\Temp\\tmpopt7utk4.lp\n",
      "Reading time = 0.02 seconds\n",
      ": 1807 rows, 5170 columns, 20304 nonzeros\n",
      "Read LP format model from file C:\\Users\\riheme\\AppData\\Local\\Temp\\tmphzcidw3r.lp\n",
      "Reading time = 0.02 seconds\n",
      ": 1807 rows, 5170 columns, 20304 nonzeros\n"
     ]
    },
    {
     "name": "stderr",
     "output_type": "stream",
     "text": [
      "2020-11-29 12:25:32,896 - thermomodel_Ecoli GLCptspp (Glc) 3 @ t = 3 - INFO - # Model initialized with units kcal/mol and temperature 298.15 K\n",
      "2020-11-29 12:25:41,767 - thermomodel_Ecoli GLCptspp (Glc) 3 @ t = 3 - INFO - Adding slack constraints\n",
      "adding slacks: 100%|███████████████████████████████████████████████████████████████| 1824/1824 [00:36<00:00, 49.61it/s]\n",
      "2020-11-29 12:26:20,149 - thermomodel_Ecoli GLCptspp (Glc) 3 @ t = 3 - INFO - Optimizing slack model\n",
      "2020-11-29 12:26:25,516 - thermomodel_Ecoli GLCptspp (Glc) 3 @ t = 3 - INFO - Extracting relaxation\n",
      "applying slack: 100%|███████████████████████████████████████████████████████████| 2585/2585 [00:00<00:00, 44043.14it/s]\n",
      "2020-11-29 12:26:25,667 - thermomodel_Ecoli GLCptspp (Glc) 3 @ t = 3 - INFO - Testing relaxation\n"
     ]
    },
    {
     "name": "stdout",
     "output_type": "stream",
     "text": [
      "################################################################################\n",
      "Ecoli GLCptspp (Glc) 3 @ t = 4\n",
      "(21.66 min)\n",
      "################################################################################\n",
      "Read LP format model from file C:\\Users\\riheme\\AppData\\Local\\Temp\\tmpkdqmbx92.lp\n",
      "Reading time = 0.02 seconds\n",
      ": 1807 rows, 5170 columns, 20334 nonzeros\n",
      "Read LP format model from file C:\\Users\\riheme\\AppData\\Local\\Temp\\tmpd3gn778v.lp\n",
      "Reading time = 0.02 seconds\n",
      ": 1807 rows, 5170 columns, 20334 nonzeros\n"
     ]
    },
    {
     "name": "stderr",
     "output_type": "stream",
     "text": [
      "2020-11-29 12:26:40,304 - thermomodel_None - INFO - # Model initialized with units kcal/mol and temperature 298.15 K\n",
      "2020-11-29 12:26:40,314 - thermomodel_None - INFO - # Model preparation starting...\n",
      "2020-11-29 12:26:42,693 - thermomodel_None - WARNING - Warning : NULL/U\n",
      "2020-11-29 12:26:42,702 - thermomodel_None - WARNING - Warning : NULL/L\n",
      "2020-11-29 12:26:42,702 - thermomodel_None - WARNING - Warning : NULL/L\n",
      "2020-11-29 12:26:42,702 - thermomodel_None - WARNING - Warning : NULL/U\n",
      "2020-11-29 12:26:42,704 - thermomodel_None - WARNING - Warning : NULL/L\n",
      "2020-11-29 12:26:42,704 - thermomodel_None - WARNING - Warning : NULL/L\n",
      "2020-11-29 12:26:42,924 - thermomodel_None - WARNING - Warning : NULL/U\n",
      "2020-11-29 12:26:42,924 - thermomodel_None - WARNING - Warning : NULL/L\n",
      "2020-11-29 12:26:42,924 - thermomodel_None - WARNING - Warning : NULL/L\n",
      "2020-11-29 12:26:42,924 - thermomodel_None - WARNING - Warning : NULL/U\n",
      "2020-11-29 12:26:42,924 - thermomodel_None - WARNING - Warning : NULL/L\n",
      "2020-11-29 12:26:42,924 - thermomodel_None - WARNING - Warning : NULL/L\n",
      "2020-11-29 12:26:43,066 - thermomodel_None - WARNING - Warning : NULL/U\n",
      "2020-11-29 12:26:43,066 - thermomodel_None - WARNING - Warning : NULL/L\n",
      "2020-11-29 12:26:43,066 - thermomodel_None - WARNING - Warning : NULL/L\n",
      "2020-11-29 12:26:43,066 - thermomodel_None - WARNING - Warning : NULL/U\n",
      "2020-11-29 12:26:43,066 - thermomodel_None - WARNING - Warning : NULL/L\n",
      "2020-11-29 12:26:43,066 - thermomodel_None - WARNING - Warning : NULL/L\n",
      "2020-11-29 12:26:43,135 - thermomodel_None - WARNING - Warning : NULL/U\n",
      "2020-11-29 12:26:43,135 - thermomodel_None - WARNING - Warning : NULL/L\n",
      "2020-11-29 12:26:43,135 - thermomodel_None - WARNING - Warning : NULL/L\n",
      "2020-11-29 12:26:43,135 - thermomodel_None - WARNING - Warning : NULL/U\n",
      "2020-11-29 12:26:43,135 - thermomodel_None - WARNING - Warning : NULL/L\n",
      "2020-11-29 12:26:43,135 - thermomodel_None - WARNING - Warning : NULL/L\n",
      "2020-11-29 12:26:43,135 - thermomodel_None - WARNING - Warning : NULL/U\n",
      "2020-11-29 12:26:43,135 - thermomodel_None - WARNING - Warning : NULL/L\n",
      "2020-11-29 12:26:43,135 - thermomodel_None - WARNING - Warning : NULL/L\n",
      "2020-11-29 12:26:43,135 - thermomodel_None - WARNING - Warning : NULL/U\n",
      "2020-11-29 12:26:43,135 - thermomodel_None - WARNING - Warning : NULL/L\n",
      "2020-11-29 12:26:43,135 - thermomodel_None - WARNING - Warning : NULL/L\n",
      "2020-11-29 12:26:43,135 - thermomodel_None - WARNING - Warning : NULL/U\n",
      "2020-11-29 12:26:43,135 - thermomodel_None - WARNING - Warning : NULL/L\n",
      "2020-11-29 12:26:43,135 - thermomodel_None - WARNING - Warning : NULL/L\n",
      "2020-11-29 12:26:43,135 - thermomodel_None - WARNING - Warning : NULL/U\n",
      "2020-11-29 12:26:43,135 - thermomodel_None - WARNING - Warning : NULL/L\n",
      "2020-11-29 12:26:43,135 - thermomodel_None - WARNING - Warning : NULL/L\n",
      "2020-11-29 12:26:43,135 - thermomodel_None - WARNING - Warning : NULL/U\n",
      "2020-11-29 12:26:43,135 - thermomodel_None - WARNING - Warning : NULL/L\n",
      "2020-11-29 12:26:43,135 - thermomodel_None - WARNING - Warning : NULL/L\n",
      "2020-11-29 12:26:43,135 - thermomodel_None - WARNING - Warning : NULL/U\n",
      "2020-11-29 12:26:43,150 - thermomodel_None - WARNING - Warning : NULL/L\n",
      "2020-11-29 12:26:43,150 - thermomodel_None - WARNING - Warning : NULL/L\n",
      "2020-11-29 12:26:43,266 - thermomodel_None - INFO - # Model preparation done.\n",
      "2020-11-29 12:26:43,266 - thermomodel_None - INFO - # Model conversion starting...\n",
      "2020-11-29 12:27:17,855 - thermomodel_None - INFO - # Model conversion done.\n",
      "2020-11-29 12:27:17,855 - thermomodel_None - INFO - # Updating cobra_model variables...\n",
      "2020-11-29 12:27:17,907 - thermomodel_None - INFO - # cobra_model variables are up-to-date\n"
     ]
    },
    {
     "name": "stdout",
     "output_type": "stream",
     "text": [
      "Read LP format model from file C:\\Users\\riheme\\AppData\\Local\\Temp\\tmp9f7gpxr4.lp\n",
      "Reading time = 0.02 seconds\n",
      ": 1807 rows, 5170 columns, 20304 nonzeros\n",
      "Read LP format model from file C:\\Users\\riheme\\AppData\\Local\\Temp\\tmp80eyz6wl.lp\n",
      "Reading time = 0.02 seconds\n",
      ": 1807 rows, 5170 columns, 20304 nonzeros\n"
     ]
    },
    {
     "name": "stderr",
     "output_type": "stream",
     "text": [
      "2020-11-29 12:27:33,886 - thermomodel_Ecoli GLCptspp (Glc) 3 @ t = 4 - INFO - # Model initialized with units kcal/mol and temperature 298.15 K\n"
     ]
    },
    {
     "name": "stdout",
     "output_type": "stream",
     "text": [
      "Read LP format model from file C:\\Users\\riheme\\AppData\\Local\\Temp\\tmp05prsns_.lp\n",
      "Reading time = 0.02 seconds\n",
      ": 1807 rows, 5170 columns, 20304 nonzeros\n",
      "Read LP format model from file C:\\Users\\riheme\\AppData\\Local\\Temp\\tmpmq23ldxf.lp\n",
      "Reading time = 0.02 seconds\n",
      ": 1807 rows, 5170 columns, 20304 nonzeros\n"
     ]
    },
    {
     "name": "stderr",
     "output_type": "stream",
     "text": [
      "2020-11-29 12:27:59,379 - thermomodel_Ecoli GLCptspp (Glc) 3 @ t = 4 - INFO - # Model initialized with units kcal/mol and temperature 298.15 K\n",
      "2020-11-29 12:28:08,301 - thermomodel_Ecoli GLCptspp (Glc) 3 @ t = 4 - INFO - Adding slack constraints\n",
      "adding slacks: 100%|███████████████████████████████████████████████████████████████| 1824/1824 [00:37<00:00, 49.01it/s]\n",
      "2020-11-29 12:28:47,132 - thermomodel_Ecoli GLCptspp (Glc) 3 @ t = 4 - INFO - Optimizing slack model\n",
      "2020-11-29 12:28:50,948 - thermomodel_Ecoli GLCptspp (Glc) 3 @ t = 4 - INFO - Extracting relaxation\n",
      "applying slack: 100%|███████████████████████████████████████████████████████████| 2585/2585 [00:00<00:00, 50891.71it/s]\n",
      "2020-11-29 12:28:51,086 - thermomodel_Ecoli GLCptspp (Glc) 3 @ t = 4 - INFO - Testing relaxation\n"
     ]
    },
    {
     "name": "stdout",
     "output_type": "stream",
     "text": [
      "################################################################################\n",
      "Ecoli GLCptspp (Glc) 3 @ t = 11\n",
      "(24.08 min)\n",
      "################################################################################\n",
      "Read LP format model from file C:\\Users\\riheme\\AppData\\Local\\Temp\\tmpk7om2w7l.lp\n",
      "Reading time = 0.02 seconds\n",
      ": 1807 rows, 5170 columns, 20334 nonzeros\n",
      "Read LP format model from file C:\\Users\\riheme\\AppData\\Local\\Temp\\tmppn9ttcke.lp\n",
      "Reading time = 0.03 seconds\n",
      ": 1807 rows, 5170 columns, 20334 nonzeros\n"
     ]
    },
    {
     "name": "stderr",
     "output_type": "stream",
     "text": [
      "2020-11-29 12:29:05,999 - thermomodel_None - INFO - # Model initialized with units kcal/mol and temperature 298.15 K\n",
      "2020-11-29 12:29:06,014 - thermomodel_None - INFO - # Model preparation starting...\n",
      "2020-11-29 12:29:08,555 - thermomodel_None - WARNING - Warning : NULL/U\n",
      "2020-11-29 12:29:08,557 - thermomodel_None - WARNING - Warning : NULL/L\n",
      "2020-11-29 12:29:08,557 - thermomodel_None - WARNING - Warning : NULL/L\n",
      "2020-11-29 12:29:08,557 - thermomodel_None - WARNING - Warning : NULL/U\n",
      "2020-11-29 12:29:08,557 - thermomodel_None - WARNING - Warning : NULL/L\n",
      "2020-11-29 12:29:08,557 - thermomodel_None - WARNING - Warning : NULL/L\n",
      "2020-11-29 12:29:08,780 - thermomodel_None - WARNING - Warning : NULL/U\n",
      "2020-11-29 12:29:08,781 - thermomodel_None - WARNING - Warning : NULL/L\n",
      "2020-11-29 12:29:08,782 - thermomodel_None - WARNING - Warning : NULL/L\n",
      "2020-11-29 12:29:08,782 - thermomodel_None - WARNING - Warning : NULL/U\n",
      "2020-11-29 12:29:08,782 - thermomodel_None - WARNING - Warning : NULL/L\n",
      "2020-11-29 12:29:08,782 - thermomodel_None - WARNING - Warning : NULL/L\n",
      "2020-11-29 12:29:08,932 - thermomodel_None - WARNING - Warning : NULL/U\n",
      "2020-11-29 12:29:08,932 - thermomodel_None - WARNING - Warning : NULL/L\n",
      "2020-11-29 12:29:08,932 - thermomodel_None - WARNING - Warning : NULL/L\n",
      "2020-11-29 12:29:08,932 - thermomodel_None - WARNING - Warning : NULL/U\n",
      "2020-11-29 12:29:08,932 - thermomodel_None - WARNING - Warning : NULL/L\n",
      "2020-11-29 12:29:08,932 - thermomodel_None - WARNING - Warning : NULL/L\n",
      "2020-11-29 12:29:08,983 - thermomodel_None - WARNING - Warning : NULL/U\n",
      "2020-11-29 12:29:08,983 - thermomodel_None - WARNING - Warning : NULL/L\n",
      "2020-11-29 12:29:08,983 - thermomodel_None - WARNING - Warning : NULL/L\n",
      "2020-11-29 12:29:08,983 - thermomodel_None - WARNING - Warning : NULL/U\n",
      "2020-11-29 12:29:08,983 - thermomodel_None - WARNING - Warning : NULL/L\n",
      "2020-11-29 12:29:08,983 - thermomodel_None - WARNING - Warning : NULL/L\n",
      "2020-11-29 12:29:08,983 - thermomodel_None - WARNING - Warning : NULL/U\n",
      "2020-11-29 12:29:08,983 - thermomodel_None - WARNING - Warning : NULL/L\n",
      "2020-11-29 12:29:08,983 - thermomodel_None - WARNING - Warning : NULL/L\n",
      "2020-11-29 12:29:08,999 - thermomodel_None - WARNING - Warning : NULL/U\n",
      "2020-11-29 12:29:08,999 - thermomodel_None - WARNING - Warning : NULL/L\n",
      "2020-11-29 12:29:09,001 - thermomodel_None - WARNING - Warning : NULL/L\n",
      "2020-11-29 12:29:09,001 - thermomodel_None - WARNING - Warning : NULL/U\n",
      "2020-11-29 12:29:09,001 - thermomodel_None - WARNING - Warning : NULL/L\n",
      "2020-11-29 12:29:09,001 - thermomodel_None - WARNING - Warning : NULL/L\n",
      "2020-11-29 12:29:09,001 - thermomodel_None - WARNING - Warning : NULL/U\n",
      "2020-11-29 12:29:09,001 - thermomodel_None - WARNING - Warning : NULL/L\n",
      "2020-11-29 12:29:09,001 - thermomodel_None - WARNING - Warning : NULL/L\n",
      "2020-11-29 12:29:09,001 - thermomodel_None - WARNING - Warning : NULL/U\n",
      "2020-11-29 12:29:09,001 - thermomodel_None - WARNING - Warning : NULL/L\n",
      "2020-11-29 12:29:09,001 - thermomodel_None - WARNING - Warning : NULL/L\n",
      "2020-11-29 12:29:09,001 - thermomodel_None - WARNING - Warning : NULL/U\n",
      "2020-11-29 12:29:09,001 - thermomodel_None - WARNING - Warning : NULL/L\n",
      "2020-11-29 12:29:09,001 - thermomodel_None - WARNING - Warning : NULL/L\n",
      "2020-11-29 12:29:09,132 - thermomodel_None - INFO - # Model preparation done.\n",
      "2020-11-29 12:29:09,132 - thermomodel_None - INFO - # Model conversion starting...\n",
      "2020-11-29 12:29:43,704 - thermomodel_None - INFO - # Model conversion done.\n",
      "2020-11-29 12:29:43,704 - thermomodel_None - INFO - # Updating cobra_model variables...\n",
      "2020-11-29 12:29:43,753 - thermomodel_None - INFO - # cobra_model variables are up-to-date\n"
     ]
    },
    {
     "name": "stdout",
     "output_type": "stream",
     "text": [
      "Read LP format model from file C:\\Users\\riheme\\AppData\\Local\\Temp\\tmpz34nmov1.lp\n",
      "Reading time = 0.03 seconds\n",
      ": 1807 rows, 5170 columns, 20304 nonzeros\n",
      "Read LP format model from file C:\\Users\\riheme\\AppData\\Local\\Temp\\tmpvh7w4o4d.lp\n",
      "Reading time = 0.02 seconds\n",
      ": 1807 rows, 5170 columns, 20304 nonzeros\n"
     ]
    },
    {
     "name": "stderr",
     "output_type": "stream",
     "text": [
      "2020-11-29 12:29:59,733 - thermomodel_Ecoli GLCptspp (Glc) 3 @ t = 11 - INFO - # Model initialized with units kcal/mol and temperature 298.15 K\n"
     ]
    },
    {
     "name": "stdout",
     "output_type": "stream",
     "text": [
      "Read LP format model from file C:\\Users\\riheme\\AppData\\Local\\Temp\\tmp3o4rmxm4.lp\n",
      "Reading time = 0.02 seconds\n",
      ": 1807 rows, 5170 columns, 20304 nonzeros\n",
      "Read LP format model from file C:\\Users\\riheme\\AppData\\Local\\Temp\\tmphx86rwls.lp\n",
      "Reading time = 0.02 seconds\n",
      ": 1807 rows, 5170 columns, 20304 nonzeros\n"
     ]
    },
    {
     "name": "stderr",
     "output_type": "stream",
     "text": [
      "2020-11-29 12:30:25,176 - thermomodel_Ecoli GLCptspp (Glc) 3 @ t = 11 - INFO - # Model initialized with units kcal/mol and temperature 298.15 K\n",
      "2020-11-29 12:30:33,907 - thermomodel_Ecoli GLCptspp (Glc) 3 @ t = 11 - INFO - Adding slack constraints\n",
      "adding slacks: 100%|███████████████████████████████████████████████████████████████| 1824/1824 [00:37<00:00, 48.79it/s]\n",
      "2020-11-29 12:31:12,911 - thermomodel_Ecoli GLCptspp (Glc) 3 @ t = 11 - INFO - Optimizing slack model\n",
      "2020-11-29 12:31:18,915 - thermomodel_Ecoli GLCptspp (Glc) 3 @ t = 11 - INFO - Extracting relaxation\n",
      "applying slack: 100%|███████████████████████████████████████████████████████████| 2585/2585 [00:00<00:00, 40563.56it/s]\n",
      "2020-11-29 12:31:19,064 - thermomodel_Ecoli GLCptspp (Glc) 3 @ t = 11 - INFO - Testing relaxation\n"
     ]
    },
    {
     "name": "stdout",
     "output_type": "stream",
     "text": [
      "################################################################################\n",
      "Ecoli GLCptspp (Glc) 4 @ t = 1\n",
      "(26.55 min)\n",
      "################################################################################\n",
      "Read LP format model from file C:\\Users\\riheme\\AppData\\Local\\Temp\\tmpgi1lj2qv.lp\n",
      "Reading time = 0.02 seconds\n",
      ": 1807 rows, 5170 columns, 20334 nonzeros\n",
      "Read LP format model from file C:\\Users\\riheme\\AppData\\Local\\Temp\\tmp52vjtbxv.lp\n",
      "Reading time = 0.02 seconds\n",
      ": 1807 rows, 5170 columns, 20334 nonzeros\n"
     ]
    },
    {
     "name": "stderr",
     "output_type": "stream",
     "text": [
      "2020-11-29 12:31:33,939 - thermomodel_None - INFO - # Model initialized with units kcal/mol and temperature 298.15 K\n",
      "2020-11-29 12:31:33,947 - thermomodel_None - INFO - # Model preparation starting...\n",
      "2020-11-29 12:31:36,438 - thermomodel_None - WARNING - Warning : NULL/U\n",
      "2020-11-29 12:31:36,438 - thermomodel_None - WARNING - Warning : NULL/L\n",
      "2020-11-29 12:31:36,438 - thermomodel_None - WARNING - Warning : NULL/L\n",
      "2020-11-29 12:31:36,438 - thermomodel_None - WARNING - Warning : NULL/U\n",
      "2020-11-29 12:31:36,438 - thermomodel_None - WARNING - Warning : NULL/L\n",
      "2020-11-29 12:31:36,438 - thermomodel_None - WARNING - Warning : NULL/L\n",
      "2020-11-29 12:31:36,657 - thermomodel_None - WARNING - Warning : NULL/U\n",
      "2020-11-29 12:31:36,657 - thermomodel_None - WARNING - Warning : NULL/L\n",
      "2020-11-29 12:31:36,657 - thermomodel_None - WARNING - Warning : NULL/L\n",
      "2020-11-29 12:31:36,657 - thermomodel_None - WARNING - Warning : NULL/U\n",
      "2020-11-29 12:31:36,657 - thermomodel_None - WARNING - Warning : NULL/L\n",
      "2020-11-29 12:31:36,657 - thermomodel_None - WARNING - Warning : NULL/L\n",
      "2020-11-29 12:31:36,820 - thermomodel_None - WARNING - Warning : NULL/U\n",
      "2020-11-29 12:31:36,820 - thermomodel_None - WARNING - Warning : NULL/L\n",
      "2020-11-29 12:31:36,820 - thermomodel_None - WARNING - Warning : NULL/L\n",
      "2020-11-29 12:31:36,820 - thermomodel_None - WARNING - Warning : NULL/U\n",
      "2020-11-29 12:31:36,820 - thermomodel_None - WARNING - Warning : NULL/L\n",
      "2020-11-29 12:31:36,820 - thermomodel_None - WARNING - Warning : NULL/L\n",
      "2020-11-29 12:31:36,873 - thermomodel_None - WARNING - Warning : NULL/U\n",
      "2020-11-29 12:31:36,873 - thermomodel_None - WARNING - Warning : NULL/L\n",
      "2020-11-29 12:31:36,873 - thermomodel_None - WARNING - Warning : NULL/L\n",
      "2020-11-29 12:31:36,873 - thermomodel_None - WARNING - Warning : NULL/U\n",
      "2020-11-29 12:31:36,873 - thermomodel_None - WARNING - Warning : NULL/L\n",
      "2020-11-29 12:31:36,873 - thermomodel_None - WARNING - Warning : NULL/L\n",
      "2020-11-29 12:31:36,889 - thermomodel_None - WARNING - Warning : NULL/U\n",
      "2020-11-29 12:31:36,889 - thermomodel_None - WARNING - Warning : NULL/L\n",
      "2020-11-29 12:31:36,889 - thermomodel_None - WARNING - Warning : NULL/L\n",
      "2020-11-29 12:31:36,889 - thermomodel_None - WARNING - Warning : NULL/U\n",
      "2020-11-29 12:31:36,889 - thermomodel_None - WARNING - Warning : NULL/L\n",
      "2020-11-29 12:31:36,889 - thermomodel_None - WARNING - Warning : NULL/L\n",
      "2020-11-29 12:31:36,889 - thermomodel_None - WARNING - Warning : NULL/U\n",
      "2020-11-29 12:31:36,889 - thermomodel_None - WARNING - Warning : NULL/L\n",
      "2020-11-29 12:31:36,889 - thermomodel_None - WARNING - Warning : NULL/L\n",
      "2020-11-29 12:31:36,889 - thermomodel_None - WARNING - Warning : NULL/U\n",
      "2020-11-29 12:31:36,889 - thermomodel_None - WARNING - Warning : NULL/L\n",
      "2020-11-29 12:31:36,889 - thermomodel_None - WARNING - Warning : NULL/L\n",
      "2020-11-29 12:31:36,889 - thermomodel_None - WARNING - Warning : NULL/U\n",
      "2020-11-29 12:31:36,889 - thermomodel_None - WARNING - Warning : NULL/L\n",
      "2020-11-29 12:31:36,889 - thermomodel_None - WARNING - Warning : NULL/L\n",
      "2020-11-29 12:31:36,889 - thermomodel_None - WARNING - Warning : NULL/U\n",
      "2020-11-29 12:31:36,889 - thermomodel_None - WARNING - Warning : NULL/L\n",
      "2020-11-29 12:31:36,889 - thermomodel_None - WARNING - Warning : NULL/L\n",
      "2020-11-29 12:31:37,020 - thermomodel_None - INFO - # Model preparation done.\n",
      "2020-11-29 12:31:37,020 - thermomodel_None - INFO - # Model conversion starting...\n",
      "2020-11-29 12:32:11,811 - thermomodel_None - INFO - # Model conversion done.\n",
      "2020-11-29 12:32:11,811 - thermomodel_None - INFO - # Updating cobra_model variables...\n",
      "2020-11-29 12:32:11,860 - thermomodel_None - INFO - # cobra_model variables are up-to-date\n"
     ]
    },
    {
     "name": "stdout",
     "output_type": "stream",
     "text": [
      "Read LP format model from file C:\\Users\\riheme\\AppData\\Local\\Temp\\tmpyjg1dnx3.lp\n",
      "Reading time = 0.02 seconds\n",
      ": 1807 rows, 5170 columns, 20304 nonzeros\n",
      "Read LP format model from file C:\\Users\\riheme\\AppData\\Local\\Temp\\tmpyfw1xfgr.lp\n",
      "Reading time = 0.02 seconds\n",
      ": 1807 rows, 5170 columns, 20304 nonzeros\n"
     ]
    },
    {
     "name": "stderr",
     "output_type": "stream",
     "text": [
      "2020-11-29 12:32:28,244 - thermomodel_Ecoli GLCptspp (Glc) 4 @ t = 1 - INFO - # Model initialized with units kcal/mol and temperature 298.15 K\n"
     ]
    },
    {
     "name": "stdout",
     "output_type": "stream",
     "text": [
      "Read LP format model from file C:\\Users\\riheme\\AppData\\Local\\Temp\\tmphuo9fb7e.lp\n",
      "Reading time = 0.02 seconds\n",
      ": 1807 rows, 5170 columns, 20304 nonzeros\n",
      "Read LP format model from file C:\\Users\\riheme\\AppData\\Local\\Temp\\tmp0le5ss1k.lp\n",
      "Reading time = 0.02 seconds\n",
      ": 1807 rows, 5170 columns, 20304 nonzeros\n"
     ]
    },
    {
     "name": "stderr",
     "output_type": "stream",
     "text": [
      "2020-11-29 12:32:53,308 - thermomodel_Ecoli GLCptspp (Glc) 4 @ t = 1 - INFO - # Model initialized with units kcal/mol and temperature 298.15 K\n",
      "2020-11-29 12:33:02,053 - thermomodel_Ecoli GLCptspp (Glc) 4 @ t = 1 - INFO - Adding slack constraints\n",
      "adding slacks: 100%|███████████████████████████████████████████████████████████████| 1824/1824 [00:36<00:00, 50.63it/s]\n",
      "2020-11-29 12:33:39,700 - thermomodel_Ecoli GLCptspp (Glc) 4 @ t = 1 - INFO - Optimizing slack model\n",
      "2020-11-29 12:33:45,277 - thermomodel_Ecoli GLCptspp (Glc) 4 @ t = 1 - INFO - Extracting relaxation\n",
      "applying slack: 100%|███████████████████████████████████████████████████████████| 2585/2585 [00:00<00:00, 48408.42it/s]\n",
      "2020-11-29 12:33:45,424 - thermomodel_Ecoli GLCptspp (Glc) 4 @ t = 1 - INFO - Testing relaxation\n"
     ]
    },
    {
     "name": "stdout",
     "output_type": "stream",
     "text": [
      "################################################################################\n",
      "Ecoli GLCptspp (Glc) 4 @ t = 3\n",
      "(28.99 min)\n",
      "################################################################################\n",
      "Read LP format model from file C:\\Users\\riheme\\AppData\\Local\\Temp\\tmp5fyo4l4k.lp\n",
      "Reading time = 0.02 seconds\n",
      ": 1807 rows, 5170 columns, 20334 nonzeros\n",
      "Read LP format model from file C:\\Users\\riheme\\AppData\\Local\\Temp\\tmpa8u9td4s.lp\n",
      "Reading time = 0.02 seconds\n",
      ": 1807 rows, 5170 columns, 20334 nonzeros\n"
     ]
    },
    {
     "name": "stderr",
     "output_type": "stream",
     "text": [
      "2020-11-29 12:34:00,047 - thermomodel_None - INFO - # Model initialized with units kcal/mol and temperature 298.15 K\n",
      "2020-11-29 12:34:00,058 - thermomodel_None - INFO - # Model preparation starting...\n",
      "2020-11-29 12:34:02,455 - thermomodel_None - WARNING - Warning : NULL/U\n",
      "2020-11-29 12:34:02,455 - thermomodel_None - WARNING - Warning : NULL/L\n",
      "2020-11-29 12:34:02,455 - thermomodel_None - WARNING - Warning : NULL/L\n",
      "2020-11-29 12:34:02,455 - thermomodel_None - WARNING - Warning : NULL/U\n",
      "2020-11-29 12:34:02,455 - thermomodel_None - WARNING - Warning : NULL/L\n",
      "2020-11-29 12:34:02,464 - thermomodel_None - WARNING - Warning : NULL/L\n",
      "2020-11-29 12:34:02,674 - thermomodel_None - WARNING - Warning : NULL/U\n",
      "2020-11-29 12:34:02,674 - thermomodel_None - WARNING - Warning : NULL/L\n",
      "2020-11-29 12:34:02,674 - thermomodel_None - WARNING - Warning : NULL/L\n",
      "2020-11-29 12:34:02,674 - thermomodel_None - WARNING - Warning : NULL/U\n",
      "2020-11-29 12:34:02,674 - thermomodel_None - WARNING - Warning : NULL/L\n",
      "2020-11-29 12:34:02,674 - thermomodel_None - WARNING - Warning : NULL/L\n",
      "2020-11-29 12:34:02,821 - thermomodel_None - WARNING - Warning : NULL/U\n",
      "2020-11-29 12:34:02,821 - thermomodel_None - WARNING - Warning : NULL/L\n",
      "2020-11-29 12:34:02,821 - thermomodel_None - WARNING - Warning : NULL/L\n",
      "2020-11-29 12:34:02,821 - thermomodel_None - WARNING - Warning : NULL/U\n",
      "2020-11-29 12:34:02,821 - thermomodel_None - WARNING - Warning : NULL/L\n",
      "2020-11-29 12:34:02,821 - thermomodel_None - WARNING - Warning : NULL/L\n",
      "2020-11-29 12:34:02,874 - thermomodel_None - WARNING - Warning : NULL/U\n",
      "2020-11-29 12:34:02,874 - thermomodel_None - WARNING - Warning : NULL/L\n",
      "2020-11-29 12:34:02,874 - thermomodel_None - WARNING - Warning : NULL/L\n",
      "2020-11-29 12:34:02,874 - thermomodel_None - WARNING - Warning : NULL/U\n",
      "2020-11-29 12:34:02,890 - thermomodel_None - WARNING - Warning : NULL/L\n",
      "2020-11-29 12:34:02,890 - thermomodel_None - WARNING - Warning : NULL/L\n",
      "2020-11-29 12:34:02,890 - thermomodel_None - WARNING - Warning : NULL/U\n",
      "2020-11-29 12:34:02,890 - thermomodel_None - WARNING - Warning : NULL/L\n",
      "2020-11-29 12:34:02,890 - thermomodel_None - WARNING - Warning : NULL/L\n",
      "2020-11-29 12:34:02,890 - thermomodel_None - WARNING - Warning : NULL/U\n",
      "2020-11-29 12:34:02,890 - thermomodel_None - WARNING - Warning : NULL/L\n",
      "2020-11-29 12:34:02,890 - thermomodel_None - WARNING - Warning : NULL/L\n",
      "2020-11-29 12:34:02,890 - thermomodel_None - WARNING - Warning : NULL/U\n",
      "2020-11-29 12:34:02,890 - thermomodel_None - WARNING - Warning : NULL/L\n",
      "2020-11-29 12:34:02,890 - thermomodel_None - WARNING - Warning : NULL/L\n",
      "2020-11-29 12:34:02,890 - thermomodel_None - WARNING - Warning : NULL/U\n",
      "2020-11-29 12:34:02,890 - thermomodel_None - WARNING - Warning : NULL/L\n",
      "2020-11-29 12:34:02,890 - thermomodel_None - WARNING - Warning : NULL/L\n",
      "2020-11-29 12:34:02,890 - thermomodel_None - WARNING - Warning : NULL/U\n",
      "2020-11-29 12:34:02,890 - thermomodel_None - WARNING - Warning : NULL/L\n",
      "2020-11-29 12:34:02,890 - thermomodel_None - WARNING - Warning : NULL/L\n",
      "2020-11-29 12:34:02,890 - thermomodel_None - WARNING - Warning : NULL/U\n",
      "2020-11-29 12:34:02,890 - thermomodel_None - WARNING - Warning : NULL/L\n",
      "2020-11-29 12:34:02,890 - thermomodel_None - WARNING - Warning : NULL/L\n",
      "2020-11-29 12:34:03,021 - thermomodel_None - INFO - # Model preparation done.\n",
      "2020-11-29 12:34:03,021 - thermomodel_None - INFO - # Model conversion starting...\n",
      "2020-11-29 12:34:37,946 - thermomodel_None - INFO - # Model conversion done.\n",
      "2020-11-29 12:34:37,954 - thermomodel_None - INFO - # Updating cobra_model variables...\n",
      "2020-11-29 12:34:37,996 - thermomodel_None - INFO - # cobra_model variables are up-to-date\n"
     ]
    },
    {
     "name": "stdout",
     "output_type": "stream",
     "text": [
      "Read LP format model from file C:\\Users\\riheme\\AppData\\Local\\Temp\\tmpz9ty69ny.lp\n",
      "Reading time = 0.02 seconds\n",
      ": 1807 rows, 5170 columns, 20304 nonzeros\n",
      "Read LP format model from file C:\\Users\\riheme\\AppData\\Local\\Temp\\tmpb9jalkiv.lp\n",
      "Reading time = 0.02 seconds\n",
      ": 1807 rows, 5170 columns, 20304 nonzeros\n"
     ]
    },
    {
     "name": "stderr",
     "output_type": "stream",
     "text": [
      "2020-11-29 12:34:54,457 - thermomodel_Ecoli GLCptspp (Glc) 4 @ t = 3 - INFO - # Model initialized with units kcal/mol and temperature 298.15 K\n"
     ]
    },
    {
     "name": "stdout",
     "output_type": "stream",
     "text": [
      "Read LP format model from file C:\\Users\\riheme\\AppData\\Local\\Temp\\tmp7g05ztwq.lp\n",
      "Reading time = 0.02 seconds\n",
      ": 1807 rows, 5170 columns, 20304 nonzeros\n",
      "Read LP format model from file C:\\Users\\riheme\\AppData\\Local\\Temp\\tmp6bxdv1jr.lp\n",
      "Reading time = 0.02 seconds\n",
      ": 1807 rows, 5170 columns, 20304 nonzeros\n"
     ]
    },
    {
     "name": "stderr",
     "output_type": "stream",
     "text": [
      "2020-11-29 12:35:19,601 - thermomodel_Ecoli GLCptspp (Glc) 4 @ t = 3 - INFO - # Model initialized with units kcal/mol and temperature 298.15 K\n",
      "2020-11-29 12:35:28,376 - thermomodel_Ecoli GLCptspp (Glc) 4 @ t = 3 - INFO - Adding slack constraints\n",
      "adding slacks: 100%|███████████████████████████████████████████████████████████████| 1824/1824 [00:36<00:00, 50.47it/s]\n",
      "2020-11-29 12:36:06,137 - thermomodel_Ecoli GLCptspp (Glc) 4 @ t = 3 - INFO - Optimizing slack model\n",
      "2020-11-29 12:36:11,179 - thermomodel_Ecoli GLCptspp (Glc) 4 @ t = 3 - INFO - Extracting relaxation\n",
      "applying slack: 100%|███████████████████████████████████████████████████████████| 2585/2585 [00:00<00:00, 51126.17it/s]\n",
      "2020-11-29 12:36:11,330 - thermomodel_Ecoli GLCptspp (Glc) 4 @ t = 3 - INFO - Testing relaxation\n"
     ]
    },
    {
     "name": "stdout",
     "output_type": "stream",
     "text": [
      "################################################################################\n",
      "Ecoli GLCptspp (Glc) 4 @ t = 4\n",
      "(31.42 min)\n",
      "################################################################################\n",
      "Read LP format model from file C:\\Users\\riheme\\AppData\\Local\\Temp\\tmpd4vb6du2.lp\n",
      "Reading time = 0.02 seconds\n",
      ": 1807 rows, 5170 columns, 20334 nonzeros\n",
      "Read LP format model from file C:\\Users\\riheme\\AppData\\Local\\Temp\\tmpguhvs6os.lp\n",
      "Reading time = 0.02 seconds\n",
      ": 1807 rows, 5170 columns, 20334 nonzeros\n"
     ]
    },
    {
     "name": "stderr",
     "output_type": "stream",
     "text": [
      "2020-11-29 12:36:25,984 - thermomodel_None - INFO - # Model initialized with units kcal/mol and temperature 298.15 K\n",
      "2020-11-29 12:36:25,992 - thermomodel_None - INFO - # Model preparation starting...\n",
      "2020-11-29 12:36:28,415 - thermomodel_None - WARNING - Warning : NULL/U\n",
      "2020-11-29 12:36:28,415 - thermomodel_None - WARNING - Warning : NULL/L\n",
      "2020-11-29 12:36:28,415 - thermomodel_None - WARNING - Warning : NULL/L\n",
      "2020-11-29 12:36:28,415 - thermomodel_None - WARNING - Warning : NULL/U\n",
      "2020-11-29 12:36:28,415 - thermomodel_None - WARNING - Warning : NULL/L\n",
      "2020-11-29 12:36:28,415 - thermomodel_None - WARNING - Warning : NULL/L\n",
      "2020-11-29 12:36:28,633 - thermomodel_None - WARNING - Warning : NULL/U\n",
      "2020-11-29 12:36:28,633 - thermomodel_None - WARNING - Warning : NULL/L\n",
      "2020-11-29 12:36:28,633 - thermomodel_None - WARNING - Warning : NULL/L\n",
      "2020-11-29 12:36:28,633 - thermomodel_None - WARNING - Warning : NULL/U\n",
      "2020-11-29 12:36:28,633 - thermomodel_None - WARNING - Warning : NULL/L\n",
      "2020-11-29 12:36:28,633 - thermomodel_None - WARNING - Warning : NULL/L\n",
      "2020-11-29 12:36:28,780 - thermomodel_None - WARNING - Warning : NULL/U\n",
      "2020-11-29 12:36:28,780 - thermomodel_None - WARNING - Warning : NULL/L\n",
      "2020-11-29 12:36:28,780 - thermomodel_None - WARNING - Warning : NULL/L\n",
      "2020-11-29 12:36:28,780 - thermomodel_None - WARNING - Warning : NULL/U\n",
      "2020-11-29 12:36:28,780 - thermomodel_None - WARNING - Warning : NULL/L\n",
      "2020-11-29 12:36:28,780 - thermomodel_None - WARNING - Warning : NULL/L\n",
      "2020-11-29 12:36:28,834 - thermomodel_None - WARNING - Warning : NULL/U\n",
      "2020-11-29 12:36:28,834 - thermomodel_None - WARNING - Warning : NULL/L\n",
      "2020-11-29 12:36:28,834 - thermomodel_None - WARNING - Warning : NULL/L\n",
      "2020-11-29 12:36:28,834 - thermomodel_None - WARNING - Warning : NULL/U\n",
      "2020-11-29 12:36:28,834 - thermomodel_None - WARNING - Warning : NULL/L\n",
      "2020-11-29 12:36:28,834 - thermomodel_None - WARNING - Warning : NULL/L\n",
      "2020-11-29 12:36:28,849 - thermomodel_None - WARNING - Warning : NULL/U\n",
      "2020-11-29 12:36:28,849 - thermomodel_None - WARNING - Warning : NULL/L\n",
      "2020-11-29 12:36:28,849 - thermomodel_None - WARNING - Warning : NULL/L\n",
      "2020-11-29 12:36:28,849 - thermomodel_None - WARNING - Warning : NULL/U\n",
      "2020-11-29 12:36:28,849 - thermomodel_None - WARNING - Warning : NULL/L\n",
      "2020-11-29 12:36:28,849 - thermomodel_None - WARNING - Warning : NULL/L\n",
      "2020-11-29 12:36:28,849 - thermomodel_None - WARNING - Warning : NULL/U\n",
      "2020-11-29 12:36:28,849 - thermomodel_None - WARNING - Warning : NULL/L\n",
      "2020-11-29 12:36:28,849 - thermomodel_None - WARNING - Warning : NULL/L\n",
      "2020-11-29 12:36:28,849 - thermomodel_None - WARNING - Warning : NULL/U\n",
      "2020-11-29 12:36:28,849 - thermomodel_None - WARNING - Warning : NULL/L\n",
      "2020-11-29 12:36:28,849 - thermomodel_None - WARNING - Warning : NULL/L\n",
      "2020-11-29 12:36:28,849 - thermomodel_None - WARNING - Warning : NULL/U\n",
      "2020-11-29 12:36:28,849 - thermomodel_None - WARNING - Warning : NULL/L\n",
      "2020-11-29 12:36:28,849 - thermomodel_None - WARNING - Warning : NULL/L\n",
      "2020-11-29 12:36:28,849 - thermomodel_None - WARNING - Warning : NULL/U\n",
      "2020-11-29 12:36:28,849 - thermomodel_None - WARNING - Warning : NULL/L\n",
      "2020-11-29 12:36:28,849 - thermomodel_None - WARNING - Warning : NULL/L\n",
      "2020-11-29 12:36:28,981 - thermomodel_None - INFO - # Model preparation done.\n",
      "2020-11-29 12:36:28,981 - thermomodel_None - INFO - # Model conversion starting...\n",
      "2020-11-29 12:37:03,364 - thermomodel_None - INFO - # Model conversion done.\n",
      "2020-11-29 12:37:03,364 - thermomodel_None - INFO - # Updating cobra_model variables...\n",
      "2020-11-29 12:37:03,412 - thermomodel_None - INFO - # cobra_model variables are up-to-date\n"
     ]
    },
    {
     "name": "stdout",
     "output_type": "stream",
     "text": [
      "Read LP format model from file C:\\Users\\riheme\\AppData\\Local\\Temp\\tmp2fd1kial.lp\n",
      "Reading time = 0.02 seconds\n",
      ": 1807 rows, 5170 columns, 20304 nonzeros\n",
      "Read LP format model from file C:\\Users\\riheme\\AppData\\Local\\Temp\\tmpz05s4wqh.lp\n",
      "Reading time = 0.02 seconds\n",
      ": 1807 rows, 5170 columns, 20304 nonzeros\n"
     ]
    },
    {
     "name": "stderr",
     "output_type": "stream",
     "text": [
      "2020-11-29 12:37:19,926 - thermomodel_Ecoli GLCptspp (Glc) 4 @ t = 4 - INFO - # Model initialized with units kcal/mol and temperature 298.15 K\n"
     ]
    },
    {
     "name": "stdout",
     "output_type": "stream",
     "text": [
      "Read LP format model from file C:\\Users\\riheme\\AppData\\Local\\Temp\\tmp9stsav2d.lp\n",
      "Reading time = 0.03 seconds\n",
      ": 1807 rows, 5170 columns, 20304 nonzeros\n",
      "Read LP format model from file C:\\Users\\riheme\\AppData\\Local\\Temp\\tmp0eczjy7p.lp\n",
      "Reading time = 0.02 seconds\n",
      ": 1807 rows, 5170 columns, 20304 nonzeros\n"
     ]
    },
    {
     "name": "stderr",
     "output_type": "stream",
     "text": [
      "2020-11-29 12:37:45,027 - thermomodel_Ecoli GLCptspp (Glc) 4 @ t = 4 - INFO - # Model initialized with units kcal/mol and temperature 298.15 K\n",
      "2020-11-29 12:37:54,247 - thermomodel_Ecoli GLCptspp (Glc) 4 @ t = 4 - INFO - Adding slack constraints\n",
      "adding slacks: 100%|███████████████████████████████████████████████████████████████| 1824/1824 [00:36<00:00, 50.56it/s]\n",
      "2020-11-29 12:38:32,010 - thermomodel_Ecoli GLCptspp (Glc) 4 @ t = 4 - INFO - Optimizing slack model\n",
      "2020-11-29 12:38:38,921 - thermomodel_Ecoli GLCptspp (Glc) 4 @ t = 4 - INFO - Extracting relaxation\n",
      "applying slack: 100%|███████████████████████████████████████████████████████████| 2585/2585 [00:00<00:00, 55159.85it/s]\n",
      "2020-11-29 12:38:39,073 - thermomodel_Ecoli GLCptspp (Glc) 4 @ t = 4 - INFO - Testing relaxation\n"
     ]
    },
    {
     "name": "stdout",
     "output_type": "stream",
     "text": [
      "################################################################################\n",
      "Ecoli GLCptspp (Glc) 4 @ t = 11\n",
      "(33.88 min)\n",
      "################################################################################\n",
      "Read LP format model from file C:\\Users\\riheme\\AppData\\Local\\Temp\\tmp9eii83c0.lp\n",
      "Reading time = 0.02 seconds\n",
      ": 1807 rows, 5170 columns, 20334 nonzeros\n",
      "Read LP format model from file C:\\Users\\riheme\\AppData\\Local\\Temp\\tmpoj8j_aqk.lp\n",
      "Reading time = 0.02 seconds\n",
      ": 1807 rows, 5170 columns, 20334 nonzeros\n"
     ]
    },
    {
     "name": "stderr",
     "output_type": "stream",
     "text": [
      "2020-11-29 12:38:53,795 - thermomodel_None - INFO - # Model initialized with units kcal/mol and temperature 298.15 K\n",
      "2020-11-29 12:38:53,805 - thermomodel_None - INFO - # Model preparation starting...\n",
      "2020-11-29 12:38:56,218 - thermomodel_None - WARNING - Warning : NULL/U\n",
      "2020-11-29 12:38:56,218 - thermomodel_None - WARNING - Warning : NULL/L\n",
      "2020-11-29 12:38:56,220 - thermomodel_None - WARNING - Warning : NULL/L\n",
      "2020-11-29 12:38:56,220 - thermomodel_None - WARNING - Warning : NULL/U\n",
      "2020-11-29 12:38:56,220 - thermomodel_None - WARNING - Warning : NULL/L\n",
      "2020-11-29 12:38:56,220 - thermomodel_None - WARNING - Warning : NULL/L\n",
      "2020-11-29 12:38:56,439 - thermomodel_None - WARNING - Warning : NULL/U\n",
      "2020-11-29 12:38:56,439 - thermomodel_None - WARNING - Warning : NULL/L\n",
      "2020-11-29 12:38:56,439 - thermomodel_None - WARNING - Warning : NULL/L\n",
      "2020-11-29 12:38:56,439 - thermomodel_None - WARNING - Warning : NULL/U\n",
      "2020-11-29 12:38:56,439 - thermomodel_None - WARNING - Warning : NULL/L\n",
      "2020-11-29 12:38:56,439 - thermomodel_None - WARNING - Warning : NULL/L\n",
      "2020-11-29 12:38:56,586 - thermomodel_None - WARNING - Warning : NULL/U\n",
      "2020-11-29 12:38:56,586 - thermomodel_None - WARNING - Warning : NULL/L\n",
      "2020-11-29 12:38:56,586 - thermomodel_None - WARNING - Warning : NULL/L\n",
      "2020-11-29 12:38:56,586 - thermomodel_None - WARNING - Warning : NULL/U\n",
      "2020-11-29 12:38:56,586 - thermomodel_None - WARNING - Warning : NULL/L\n",
      "2020-11-29 12:38:56,586 - thermomodel_None - WARNING - Warning : NULL/L\n",
      "2020-11-29 12:38:56,639 - thermomodel_None - WARNING - Warning : NULL/U\n",
      "2020-11-29 12:38:56,639 - thermomodel_None - WARNING - Warning : NULL/L\n",
      "2020-11-29 12:38:56,639 - thermomodel_None - WARNING - Warning : NULL/L\n",
      "2020-11-29 12:38:56,639 - thermomodel_None - WARNING - Warning : NULL/U\n",
      "2020-11-29 12:38:56,639 - thermomodel_None - WARNING - Warning : NULL/L\n",
      "2020-11-29 12:38:56,639 - thermomodel_None - WARNING - Warning : NULL/L\n",
      "2020-11-29 12:38:56,639 - thermomodel_None - WARNING - Warning : NULL/U\n",
      "2020-11-29 12:38:56,639 - thermomodel_None - WARNING - Warning : NULL/L\n",
      "2020-11-29 12:38:56,655 - thermomodel_None - WARNING - Warning : NULL/L\n",
      "2020-11-29 12:38:56,655 - thermomodel_None - WARNING - Warning : NULL/U\n",
      "2020-11-29 12:38:56,655 - thermomodel_None - WARNING - Warning : NULL/L\n",
      "2020-11-29 12:38:56,655 - thermomodel_None - WARNING - Warning : NULL/L\n",
      "2020-11-29 12:38:56,655 - thermomodel_None - WARNING - Warning : NULL/U\n",
      "2020-11-29 12:38:56,655 - thermomodel_None - WARNING - Warning : NULL/L\n",
      "2020-11-29 12:38:56,655 - thermomodel_None - WARNING - Warning : NULL/L\n",
      "2020-11-29 12:38:56,655 - thermomodel_None - WARNING - Warning : NULL/U\n",
      "2020-11-29 12:38:56,655 - thermomodel_None - WARNING - Warning : NULL/L\n",
      "2020-11-29 12:38:56,655 - thermomodel_None - WARNING - Warning : NULL/L\n",
      "2020-11-29 12:38:56,655 - thermomodel_None - WARNING - Warning : NULL/U\n",
      "2020-11-29 12:38:56,655 - thermomodel_None - WARNING - Warning : NULL/L\n",
      "2020-11-29 12:38:56,655 - thermomodel_None - WARNING - Warning : NULL/L\n",
      "2020-11-29 12:38:56,655 - thermomodel_None - WARNING - Warning : NULL/U\n",
      "2020-11-29 12:38:56,655 - thermomodel_None - WARNING - Warning : NULL/L\n",
      "2020-11-29 12:38:56,655 - thermomodel_None - WARNING - Warning : NULL/L\n",
      "2020-11-29 12:38:56,786 - thermomodel_None - INFO - # Model preparation done.\n",
      "2020-11-29 12:38:56,786 - thermomodel_None - INFO - # Model conversion starting...\n",
      "2020-11-29 12:39:31,524 - thermomodel_None - INFO - # Model conversion done.\n",
      "2020-11-29 12:39:31,524 - thermomodel_None - INFO - # Updating cobra_model variables...\n",
      "2020-11-29 12:39:31,558 - thermomodel_None - INFO - # cobra_model variables are up-to-date\n"
     ]
    },
    {
     "name": "stdout",
     "output_type": "stream",
     "text": [
      "Read LP format model from file C:\\Users\\riheme\\AppData\\Local\\Temp\\tmp7y5botif.lp\n",
      "Reading time = 0.02 seconds\n",
      ": 1807 rows, 5170 columns, 20304 nonzeros\n",
      "Read LP format model from file C:\\Users\\riheme\\AppData\\Local\\Temp\\tmpumel8zy0.lp\n",
      "Reading time = 0.03 seconds\n",
      ": 1807 rows, 5170 columns, 20304 nonzeros\n"
     ]
    },
    {
     "name": "stderr",
     "output_type": "stream",
     "text": [
      "2020-11-29 12:39:48,108 - thermomodel_Ecoli GLCptspp (Glc) 4 @ t = 11 - INFO - # Model initialized with units kcal/mol and temperature 298.15 K\n"
     ]
    },
    {
     "name": "stdout",
     "output_type": "stream",
     "text": [
      "Read LP format model from file C:\\Users\\riheme\\AppData\\Local\\Temp\\tmpclnuhl64.lp\n",
      "Reading time = 0.02 seconds\n",
      ": 1807 rows, 5170 columns, 20304 nonzeros\n",
      "Read LP format model from file C:\\Users\\riheme\\AppData\\Local\\Temp\\tmpz4c0vxja.lp\n",
      "Reading time = 0.03 seconds\n",
      ": 1807 rows, 5170 columns, 20304 nonzeros\n"
     ]
    },
    {
     "name": "stderr",
     "output_type": "stream",
     "text": [
      "2020-11-29 12:40:13,613 - thermomodel_Ecoli GLCptspp (Glc) 4 @ t = 11 - INFO - # Model initialized with units kcal/mol and temperature 298.15 K\n",
      "2020-11-29 12:40:22,472 - thermomodel_Ecoli GLCptspp (Glc) 4 @ t = 11 - INFO - Adding slack constraints\n",
      "adding slacks: 100%|███████████████████████████████████████████████████████████████| 1824/1824 [00:36<00:00, 50.36it/s]\n",
      "2020-11-29 12:41:00,332 - thermomodel_Ecoli GLCptspp (Glc) 4 @ t = 11 - INFO - Optimizing slack model\n",
      "2020-11-29 12:41:05,598 - thermomodel_Ecoli GLCptspp (Glc) 4 @ t = 11 - INFO - Extracting relaxation\n",
      "applying slack: 100%|███████████████████████████████████████████████████████████| 2585/2585 [00:00<00:00, 42479.91it/s]\n",
      "2020-11-29 12:41:05,750 - thermomodel_Ecoli GLCptspp (Glc) 4 @ t = 11 - INFO - Testing relaxation\n"
     ]
    },
    {
     "name": "stdout",
     "output_type": "stream",
     "text": [
      "################################################################################\n",
      "Ecoli GND (Glc) 0 @ t = 0\n",
      "(36.33 min)\n",
      "################################################################################\n",
      "Read LP format model from file C:\\Users\\riheme\\AppData\\Local\\Temp\\tmpbmfdsl1y.lp\n",
      "Reading time = 0.02 seconds\n",
      ": 1807 rows, 5170 columns, 20334 nonzeros\n",
      "Read LP format model from file C:\\Users\\riheme\\AppData\\Local\\Temp\\tmp6ld_t3kj.lp\n",
      "Reading time = 0.02 seconds\n",
      ": 1807 rows, 5170 columns, 20334 nonzeros\n"
     ]
    },
    {
     "name": "stderr",
     "output_type": "stream",
     "text": [
      "2020-11-29 12:41:20,634 - thermomodel_None - INFO - # Model initialized with units kcal/mol and temperature 298.15 K\n",
      "2020-11-29 12:41:20,644 - thermomodel_None - INFO - # Model preparation starting...\n",
      "2020-11-29 12:41:23,003 - thermomodel_None - WARNING - Warning : NULL/U\n",
      "2020-11-29 12:41:23,003 - thermomodel_None - WARNING - Warning : NULL/L\n",
      "2020-11-29 12:41:23,005 - thermomodel_None - WARNING - Warning : NULL/L\n",
      "2020-11-29 12:41:23,005 - thermomodel_None - WARNING - Warning : NULL/U\n",
      "2020-11-29 12:41:23,005 - thermomodel_None - WARNING - Warning : NULL/L\n",
      "2020-11-29 12:41:23,005 - thermomodel_None - WARNING - Warning : NULL/L\n",
      "2020-11-29 12:41:23,223 - thermomodel_None - WARNING - Warning : NULL/U\n",
      "2020-11-29 12:41:23,223 - thermomodel_None - WARNING - Warning : NULL/L\n",
      "2020-11-29 12:41:23,223 - thermomodel_None - WARNING - Warning : NULL/L\n",
      "2020-11-29 12:41:23,223 - thermomodel_None - WARNING - Warning : NULL/U\n",
      "2020-11-29 12:41:23,223 - thermomodel_None - WARNING - Warning : NULL/L\n",
      "2020-11-29 12:41:23,223 - thermomodel_None - WARNING - Warning : NULL/L\n",
      "2020-11-29 12:41:23,371 - thermomodel_None - WARNING - Warning : NULL/U\n",
      "2020-11-29 12:41:23,371 - thermomodel_None - WARNING - Warning : NULL/L\n",
      "2020-11-29 12:41:23,371 - thermomodel_None - WARNING - Warning : NULL/L\n",
      "2020-11-29 12:41:23,371 - thermomodel_None - WARNING - Warning : NULL/U\n",
      "2020-11-29 12:41:23,371 - thermomodel_None - WARNING - Warning : NULL/L\n",
      "2020-11-29 12:41:23,371 - thermomodel_None - WARNING - Warning : NULL/L\n",
      "2020-11-29 12:41:23,424 - thermomodel_None - WARNING - Warning : NULL/U\n",
      "2020-11-29 12:41:23,424 - thermomodel_None - WARNING - Warning : NULL/L\n",
      "2020-11-29 12:41:23,424 - thermomodel_None - WARNING - Warning : NULL/L\n",
      "2020-11-29 12:41:23,424 - thermomodel_None - WARNING - Warning : NULL/U\n",
      "2020-11-29 12:41:23,424 - thermomodel_None - WARNING - Warning : NULL/L\n",
      "2020-11-29 12:41:23,424 - thermomodel_None - WARNING - Warning : NULL/L\n",
      "2020-11-29 12:41:23,424 - thermomodel_None - WARNING - Warning : NULL/U\n",
      "2020-11-29 12:41:23,424 - thermomodel_None - WARNING - Warning : NULL/L\n",
      "2020-11-29 12:41:23,424 - thermomodel_None - WARNING - Warning : NULL/L\n",
      "2020-11-29 12:41:23,424 - thermomodel_None - WARNING - Warning : NULL/U\n",
      "2020-11-29 12:41:23,440 - thermomodel_None - WARNING - Warning : NULL/L\n",
      "2020-11-29 12:41:23,440 - thermomodel_None - WARNING - Warning : NULL/L\n",
      "2020-11-29 12:41:23,440 - thermomodel_None - WARNING - Warning : NULL/U\n",
      "2020-11-29 12:41:23,440 - thermomodel_None - WARNING - Warning : NULL/L\n",
      "2020-11-29 12:41:23,440 - thermomodel_None - WARNING - Warning : NULL/L\n",
      "2020-11-29 12:41:23,440 - thermomodel_None - WARNING - Warning : NULL/U\n",
      "2020-11-29 12:41:23,440 - thermomodel_None - WARNING - Warning : NULL/L\n",
      "2020-11-29 12:41:23,440 - thermomodel_None - WARNING - Warning : NULL/L\n",
      "2020-11-29 12:41:23,440 - thermomodel_None - WARNING - Warning : NULL/U\n",
      "2020-11-29 12:41:23,440 - thermomodel_None - WARNING - Warning : NULL/L\n",
      "2020-11-29 12:41:23,440 - thermomodel_None - WARNING - Warning : NULL/L\n",
      "2020-11-29 12:41:23,440 - thermomodel_None - WARNING - Warning : NULL/U\n",
      "2020-11-29 12:41:23,440 - thermomodel_None - WARNING - Warning : NULL/L\n",
      "2020-11-29 12:41:23,440 - thermomodel_None - WARNING - Warning : NULL/L\n",
      "2020-11-29 12:41:23,556 - thermomodel_None - INFO - # Model preparation done.\n",
      "2020-11-29 12:41:23,556 - thermomodel_None - INFO - # Model conversion starting...\n",
      "2020-11-29 12:41:58,213 - thermomodel_None - INFO - # Model conversion done.\n",
      "2020-11-29 12:41:58,213 - thermomodel_None - INFO - # Updating cobra_model variables...\n",
      "2020-11-29 12:41:58,249 - thermomodel_None - INFO - # cobra_model variables are up-to-date\n"
     ]
    },
    {
     "name": "stdout",
     "output_type": "stream",
     "text": [
      "Read LP format model from file C:\\Users\\riheme\\AppData\\Local\\Temp\\tmpurv1_qad.lp\n",
      "Reading time = 0.02 seconds\n",
      ": 1807 rows, 5170 columns, 20304 nonzeros\n",
      "Read LP format model from file C:\\Users\\riheme\\AppData\\Local\\Temp\\tmphw4g2pi6.lp\n",
      "Reading time = 0.02 seconds\n",
      ": 1807 rows, 5170 columns, 20304 nonzeros\n"
     ]
    },
    {
     "name": "stderr",
     "output_type": "stream",
     "text": [
      "2020-11-29 12:42:14,364 - thermomodel_Ecoli GND (Glc) 0 @ t = 0 - INFO - # Model initialized with units kcal/mol and temperature 298.15 K\n"
     ]
    },
    {
     "name": "stdout",
     "output_type": "stream",
     "text": [
      "Read LP format model from file C:\\Users\\riheme\\AppData\\Local\\Temp\\tmp9z9dqy1r.lp\n",
      "Reading time = 0.02 seconds\n",
      ": 1807 rows, 5170 columns, 20304 nonzeros\n",
      "Read LP format model from file C:\\Users\\riheme\\AppData\\Local\\Temp\\tmpjb5tfk3i.lp\n",
      "Reading time = 0.02 seconds\n",
      ": 1807 rows, 5170 columns, 20304 nonzeros\n"
     ]
    },
    {
     "name": "stderr",
     "output_type": "stream",
     "text": [
      "2020-11-29 12:42:39,683 - thermomodel_Ecoli GND (Glc) 0 @ t = 0 - INFO - # Model initialized with units kcal/mol and temperature 298.15 K\n",
      "2020-11-29 12:42:48,517 - thermomodel_Ecoli GND (Glc) 0 @ t = 0 - INFO - Adding slack constraints\n",
      "adding slacks: 100%|███████████████████████████████████████████████████████████████| 1824/1824 [00:37<00:00, 48.74it/s]\n",
      "2020-11-29 12:43:27,545 - thermomodel_Ecoli GND (Glc) 0 @ t = 0 - INFO - Optimizing slack model\n",
      "2020-11-29 12:43:35,173 - thermomodel_Ecoli GND (Glc) 0 @ t = 0 - INFO - Extracting relaxation\n",
      "applying slack: 100%|███████████████████████████████████████████████████████████| 2585/2585 [00:00<00:00, 50962.04it/s]\n",
      "2020-11-29 12:43:35,324 - thermomodel_Ecoli GND (Glc) 0 @ t = 0 - INFO - Testing relaxation\n"
     ]
    },
    {
     "name": "stdout",
     "output_type": "stream",
     "text": [
      "################################################################################\n",
      "Ecoli GND (Glc) 1 @ t = 11\n",
      "(38.82 min)\n",
      "################################################################################\n",
      "Read LP format model from file C:\\Users\\riheme\\AppData\\Local\\Temp\\tmp5khyhfwp.lp\n",
      "Reading time = 0.02 seconds\n",
      ": 1807 rows, 5170 columns, 20334 nonzeros\n",
      "Read LP format model from file C:\\Users\\riheme\\AppData\\Local\\Temp\\tmpsswf98nj.lp\n",
      "Reading time = 0.02 seconds\n",
      ": 1807 rows, 5170 columns, 20334 nonzeros\n"
     ]
    },
    {
     "name": "stderr",
     "output_type": "stream",
     "text": [
      "2020-11-29 12:43:50,059 - thermomodel_None - INFO - # Model initialized with units kcal/mol and temperature 298.15 K\n",
      "2020-11-29 12:43:50,067 - thermomodel_None - INFO - # Model preparation starting...\n",
      "2020-11-29 12:43:52,616 - thermomodel_None - WARNING - Warning : NULL/U\n",
      "2020-11-29 12:43:52,616 - thermomodel_None - WARNING - Warning : NULL/L\n",
      "2020-11-29 12:43:52,616 - thermomodel_None - WARNING - Warning : NULL/L\n",
      "2020-11-29 12:43:52,616 - thermomodel_None - WARNING - Warning : NULL/U\n",
      "2020-11-29 12:43:52,616 - thermomodel_None - WARNING - Warning : NULL/L\n",
      "2020-11-29 12:43:52,616 - thermomodel_None - WARNING - Warning : NULL/L\n",
      "2020-11-29 12:43:52,848 - thermomodel_None - WARNING - Warning : NULL/U\n",
      "2020-11-29 12:43:52,848 - thermomodel_None - WARNING - Warning : NULL/L\n",
      "2020-11-29 12:43:52,858 - thermomodel_None - WARNING - Warning : NULL/L\n",
      "2020-11-29 12:43:52,858 - thermomodel_None - WARNING - Warning : NULL/U\n",
      "2020-11-29 12:43:52,858 - thermomodel_None - WARNING - Warning : NULL/L\n",
      "2020-11-29 12:43:52,860 - thermomodel_None - WARNING - Warning : NULL/L\n",
      "2020-11-29 12:43:53,010 - thermomodel_None - WARNING - Warning : NULL/U\n",
      "2020-11-29 12:43:53,012 - thermomodel_None - WARNING - Warning : NULL/L\n",
      "2020-11-29 12:43:53,012 - thermomodel_None - WARNING - Warning : NULL/L\n",
      "2020-11-29 12:43:53,012 - thermomodel_None - WARNING - Warning : NULL/U\n",
      "2020-11-29 12:43:53,012 - thermomodel_None - WARNING - Warning : NULL/L\n",
      "2020-11-29 12:43:53,012 - thermomodel_None - WARNING - Warning : NULL/L\n",
      "2020-11-29 12:43:53,071 - thermomodel_None - WARNING - Warning : NULL/U\n",
      "2020-11-29 12:43:53,071 - thermomodel_None - WARNING - Warning : NULL/L\n",
      "2020-11-29 12:43:53,073 - thermomodel_None - WARNING - Warning : NULL/L\n",
      "2020-11-29 12:43:53,073 - thermomodel_None - WARNING - Warning : NULL/U\n",
      "2020-11-29 12:43:53,073 - thermomodel_None - WARNING - Warning : NULL/L\n",
      "2020-11-29 12:43:53,073 - thermomodel_None - WARNING - Warning : NULL/L\n",
      "2020-11-29 12:43:53,073 - thermomodel_None - WARNING - Warning : NULL/U\n",
      "2020-11-29 12:43:53,073 - thermomodel_None - WARNING - Warning : NULL/L\n",
      "2020-11-29 12:43:53,073 - thermomodel_None - WARNING - Warning : NULL/L\n",
      "2020-11-29 12:43:53,073 - thermomodel_None - WARNING - Warning : NULL/U\n",
      "2020-11-29 12:43:53,073 - thermomodel_None - WARNING - Warning : NULL/L\n",
      "2020-11-29 12:43:53,081 - thermomodel_None - WARNING - Warning : NULL/L\n",
      "2020-11-29 12:43:53,081 - thermomodel_None - WARNING - Warning : NULL/U\n",
      "2020-11-29 12:43:53,081 - thermomodel_None - WARNING - Warning : NULL/L\n",
      "2020-11-29 12:43:53,081 - thermomodel_None - WARNING - Warning : NULL/L\n",
      "2020-11-29 12:43:53,081 - thermomodel_None - WARNING - Warning : NULL/U\n",
      "2020-11-29 12:43:53,081 - thermomodel_None - WARNING - Warning : NULL/L\n",
      "2020-11-29 12:43:53,081 - thermomodel_None - WARNING - Warning : NULL/L\n",
      "2020-11-29 12:43:53,081 - thermomodel_None - WARNING - Warning : NULL/U\n",
      "2020-11-29 12:43:53,081 - thermomodel_None - WARNING - Warning : NULL/L\n",
      "2020-11-29 12:43:53,081 - thermomodel_None - WARNING - Warning : NULL/L\n",
      "2020-11-29 12:43:53,081 - thermomodel_None - WARNING - Warning : NULL/U\n",
      "2020-11-29 12:43:53,081 - thermomodel_None - WARNING - Warning : NULL/L\n",
      "2020-11-29 12:43:53,091 - thermomodel_None - WARNING - Warning : NULL/L\n",
      "2020-11-29 12:43:53,211 - thermomodel_None - INFO - # Model preparation done.\n",
      "2020-11-29 12:43:53,211 - thermomodel_None - INFO - # Model conversion starting...\n",
      "2020-11-29 12:44:28,034 - thermomodel_None - INFO - # Model conversion done.\n",
      "2020-11-29 12:44:28,036 - thermomodel_None - INFO - # Updating cobra_model variables...\n",
      "2020-11-29 12:44:28,076 - thermomodel_None - INFO - # cobra_model variables are up-to-date\n"
     ]
    },
    {
     "name": "stdout",
     "output_type": "stream",
     "text": [
      "Read LP format model from file C:\\Users\\riheme\\AppData\\Local\\Temp\\tmp7lnj44z6.lp\n",
      "Reading time = 0.02 seconds\n",
      ": 1807 rows, 5170 columns, 20304 nonzeros\n",
      "Read LP format model from file C:\\Users\\riheme\\AppData\\Local\\Temp\\tmpn1m9ou9n.lp\n",
      "Reading time = 0.02 seconds\n",
      ": 1807 rows, 5170 columns, 20304 nonzeros\n"
     ]
    },
    {
     "name": "stderr",
     "output_type": "stream",
     "text": [
      "2020-11-29 12:44:44,078 - thermomodel_Ecoli GND (Glc) 1 @ t = 11 - INFO - # Model initialized with units kcal/mol and temperature 298.15 K\n"
     ]
    },
    {
     "name": "stdout",
     "output_type": "stream",
     "text": [
      "Read LP format model from file C:\\Users\\riheme\\AppData\\Local\\Temp\\tmp_iw573av.lp\n",
      "Reading time = 0.02 seconds\n",
      ": 1807 rows, 5170 columns, 20304 nonzeros\n",
      "Read LP format model from file C:\\Users\\riheme\\AppData\\Local\\Temp\\tmpzzx69cvl.lp\n",
      "Reading time = 0.02 seconds\n",
      ": 1807 rows, 5170 columns, 20304 nonzeros\n"
     ]
    },
    {
     "name": "stderr",
     "output_type": "stream",
     "text": [
      "2020-11-29 12:45:09,529 - thermomodel_Ecoli GND (Glc) 1 @ t = 11 - INFO - # Model initialized with units kcal/mol and temperature 298.15 K\n",
      "2020-11-29 12:45:18,546 - thermomodel_Ecoli GND (Glc) 1 @ t = 11 - INFO - Adding slack constraints\n",
      "adding slacks: 100%|███████████████████████████████████████████████████████████████| 1824/1824 [00:37<00:00, 48.35it/s]\n",
      "2020-11-29 12:45:57,877 - thermomodel_Ecoli GND (Glc) 1 @ t = 11 - INFO - Optimizing slack model\n",
      "2020-11-29 12:46:04,265 - thermomodel_Ecoli GND (Glc) 1 @ t = 11 - INFO - Extracting relaxation\n",
      "applying slack: 100%|███████████████████████████████████████████████████████████| 2585/2585 [00:00<00:00, 52318.50it/s]\n",
      "2020-11-29 12:46:04,414 - thermomodel_Ecoli GND (Glc) 1 @ t = 11 - INFO - Testing relaxation\n"
     ]
    },
    {
     "name": "stdout",
     "output_type": "stream",
     "text": [
      "################################################################################\n",
      "Ecoli GND (Glc) 2 @ t = 11\n",
      "(41.31 min)\n",
      "################################################################################\n",
      "Read LP format model from file C:\\Users\\riheme\\AppData\\Local\\Temp\\tmppvrx18yz.lp\n",
      "Reading time = 0.02 seconds\n",
      ": 1807 rows, 5170 columns, 20334 nonzeros\n",
      "Read LP format model from file C:\\Users\\riheme\\AppData\\Local\\Temp\\tmpb96pfi1t.lp\n",
      "Reading time = 0.02 seconds\n",
      ": 1807 rows, 5170 columns, 20334 nonzeros\n"
     ]
    },
    {
     "name": "stderr",
     "output_type": "stream",
     "text": [
      "2020-11-29 12:46:19,410 - thermomodel_None - INFO - # Model initialized with units kcal/mol and temperature 298.15 K\n",
      "2020-11-29 12:46:19,420 - thermomodel_None - INFO - # Model preparation starting...\n",
      "2020-11-29 12:46:21,775 - thermomodel_None - WARNING - Warning : NULL/U\n",
      "2020-11-29 12:46:21,775 - thermomodel_None - WARNING - Warning : NULL/L\n",
      "2020-11-29 12:46:21,775 - thermomodel_None - WARNING - Warning : NULL/L\n",
      "2020-11-29 12:46:21,775 - thermomodel_None - WARNING - Warning : NULL/U\n",
      "2020-11-29 12:46:21,783 - thermomodel_None - WARNING - Warning : NULL/L\n",
      "2020-11-29 12:46:21,783 - thermomodel_None - WARNING - Warning : NULL/L\n",
      "2020-11-29 12:46:21,997 - thermomodel_None - WARNING - Warning : NULL/U\n",
      "2020-11-29 12:46:21,997 - thermomodel_None - WARNING - Warning : NULL/L\n",
      "2020-11-29 12:46:21,997 - thermomodel_None - WARNING - Warning : NULL/L\n",
      "2020-11-29 12:46:21,997 - thermomodel_None - WARNING - Warning : NULL/U\n",
      "2020-11-29 12:46:21,997 - thermomodel_None - WARNING - Warning : NULL/L\n",
      "2020-11-29 12:46:21,997 - thermomodel_None - WARNING - Warning : NULL/L\n",
      "2020-11-29 12:46:22,138 - thermomodel_None - WARNING - Warning : NULL/U\n",
      "2020-11-29 12:46:22,146 - thermomodel_None - WARNING - Warning : NULL/L\n",
      "2020-11-29 12:46:22,146 - thermomodel_None - WARNING - Warning : NULL/L\n",
      "2020-11-29 12:46:22,146 - thermomodel_None - WARNING - Warning : NULL/U\n",
      "2020-11-29 12:46:22,148 - thermomodel_None - WARNING - Warning : NULL/L\n",
      "2020-11-29 12:46:22,148 - thermomodel_None - WARNING - Warning : NULL/L\n",
      "2020-11-29 12:46:22,198 - thermomodel_None - WARNING - Warning : NULL/U\n",
      "2020-11-29 12:46:22,206 - thermomodel_None - WARNING - Warning : NULL/L\n",
      "2020-11-29 12:46:22,206 - thermomodel_None - WARNING - Warning : NULL/L\n",
      "2020-11-29 12:46:22,206 - thermomodel_None - WARNING - Warning : NULL/U\n",
      "2020-11-29 12:46:22,206 - thermomodel_None - WARNING - Warning : NULL/L\n",
      "2020-11-29 12:46:22,206 - thermomodel_None - WARNING - Warning : NULL/L\n",
      "2020-11-29 12:46:22,206 - thermomodel_None - WARNING - Warning : NULL/U\n",
      "2020-11-29 12:46:22,206 - thermomodel_None - WARNING - Warning : NULL/L\n",
      "2020-11-29 12:46:22,206 - thermomodel_None - WARNING - Warning : NULL/L\n",
      "2020-11-29 12:46:22,206 - thermomodel_None - WARNING - Warning : NULL/U\n",
      "2020-11-29 12:46:22,206 - thermomodel_None - WARNING - Warning : NULL/L\n",
      "2020-11-29 12:46:22,206 - thermomodel_None - WARNING - Warning : NULL/L\n",
      "2020-11-29 12:46:22,206 - thermomodel_None - WARNING - Warning : NULL/U\n",
      "2020-11-29 12:46:22,206 - thermomodel_None - WARNING - Warning : NULL/L\n",
      "2020-11-29 12:46:22,206 - thermomodel_None - WARNING - Warning : NULL/L\n",
      "2020-11-29 12:46:22,206 - thermomodel_None - WARNING - Warning : NULL/U\n",
      "2020-11-29 12:46:22,216 - thermomodel_None - WARNING - Warning : NULL/L\n",
      "2020-11-29 12:46:22,216 - thermomodel_None - WARNING - Warning : NULL/L\n",
      "2020-11-29 12:46:22,216 - thermomodel_None - WARNING - Warning : NULL/U\n",
      "2020-11-29 12:46:22,216 - thermomodel_None - WARNING - Warning : NULL/L\n",
      "2020-11-29 12:46:22,216 - thermomodel_None - WARNING - Warning : NULL/L\n",
      "2020-11-29 12:46:22,216 - thermomodel_None - WARNING - Warning : NULL/U\n",
      "2020-11-29 12:46:22,216 - thermomodel_None - WARNING - Warning : NULL/L\n",
      "2020-11-29 12:46:22,216 - thermomodel_None - WARNING - Warning : NULL/L\n",
      "2020-11-29 12:46:22,332 - thermomodel_None - INFO - # Model preparation done.\n",
      "2020-11-29 12:46:22,332 - thermomodel_None - INFO - # Model conversion starting...\n",
      "2020-11-29 12:46:57,154 - thermomodel_None - INFO - # Model conversion done.\n",
      "2020-11-29 12:46:57,154 - thermomodel_None - INFO - # Updating cobra_model variables...\n",
      "2020-11-29 12:46:57,194 - thermomodel_None - INFO - # cobra_model variables are up-to-date\n"
     ]
    },
    {
     "name": "stdout",
     "output_type": "stream",
     "text": [
      "Read LP format model from file C:\\Users\\riheme\\AppData\\Local\\Temp\\tmp_3h4v934.lp\n",
      "Reading time = 0.02 seconds\n",
      ": 1807 rows, 5170 columns, 20304 nonzeros\n",
      "Read LP format model from file C:\\Users\\riheme\\AppData\\Local\\Temp\\tmpoct7a9go.lp\n",
      "Reading time = 0.02 seconds\n",
      ": 1807 rows, 5170 columns, 20304 nonzeros\n"
     ]
    },
    {
     "name": "stderr",
     "output_type": "stream",
     "text": [
      "2020-11-29 12:47:13,315 - thermomodel_Ecoli GND (Glc) 2 @ t = 11 - INFO - # Model initialized with units kcal/mol and temperature 298.15 K\n"
     ]
    },
    {
     "name": "stdout",
     "output_type": "stream",
     "text": [
      "Read LP format model from file C:\\Users\\riheme\\AppData\\Local\\Temp\\tmpweiav26y.lp\n",
      "Reading time = 0.02 seconds\n",
      ": 1807 rows, 5170 columns, 20304 nonzeros\n",
      "Read LP format model from file C:\\Users\\riheme\\AppData\\Local\\Temp\\tmp_ricj27d.lp\n",
      "Reading time = 0.02 seconds\n",
      ": 1807 rows, 5170 columns, 20304 nonzeros\n"
     ]
    },
    {
     "name": "stderr",
     "output_type": "stream",
     "text": [
      "2020-11-29 12:47:39,259 - thermomodel_Ecoli GND (Glc) 2 @ t = 11 - INFO - # Model initialized with units kcal/mol and temperature 298.15 K\n",
      "2020-11-29 12:47:48,281 - thermomodel_Ecoli GND (Glc) 2 @ t = 11 - INFO - Adding slack constraints\n",
      "adding slacks: 100%|███████████████████████████████████████████████████████████████| 1824/1824 [00:41<00:00, 43.51it/s]\n",
      "2020-11-29 12:48:31,803 - thermomodel_Ecoli GND (Glc) 2 @ t = 11 - INFO - Optimizing slack model\n",
      "2020-11-29 12:48:38,090 - thermomodel_Ecoli GND (Glc) 2 @ t = 11 - INFO - Extracting relaxation\n",
      "applying slack: 100%|███████████████████████████████████████████████████████████| 2585/2585 [00:00<00:00, 55171.64it/s]\n",
      "2020-11-29 12:48:38,240 - thermomodel_Ecoli GND (Glc) 2 @ t = 11 - INFO - Testing relaxation\n"
     ]
    },
    {
     "name": "stdout",
     "output_type": "stream",
     "text": [
      "################################################################################\n",
      "Ecoli GND (Glc) 3 @ t = 11\n",
      "(43.87 min)\n",
      "################################################################################\n",
      "Read LP format model from file C:\\Users\\riheme\\AppData\\Local\\Temp\\tmpvqfagk09.lp\n",
      "Reading time = 0.02 seconds\n",
      ": 1807 rows, 5170 columns, 20334 nonzeros\n",
      "Read LP format model from file C:\\Users\\riheme\\AppData\\Local\\Temp\\tmpinntuxd0.lp\n",
      "Reading time = 0.02 seconds\n",
      ": 1807 rows, 5170 columns, 20334 nonzeros\n"
     ]
    },
    {
     "name": "stderr",
     "output_type": "stream",
     "text": [
      "2020-11-29 12:48:53,006 - thermomodel_None - INFO - # Model initialized with units kcal/mol and temperature 298.15 K\n",
      "2020-11-29 12:48:53,016 - thermomodel_None - INFO - # Model preparation starting...\n",
      "2020-11-29 12:48:55,391 - thermomodel_None - WARNING - Warning : NULL/U\n",
      "2020-11-29 12:48:55,391 - thermomodel_None - WARNING - Warning : NULL/L\n",
      "2020-11-29 12:48:55,391 - thermomodel_None - WARNING - Warning : NULL/L\n",
      "2020-11-29 12:48:55,393 - thermomodel_None - WARNING - Warning : NULL/U\n",
      "2020-11-29 12:48:55,393 - thermomodel_None - WARNING - Warning : NULL/L\n",
      "2020-11-29 12:48:55,393 - thermomodel_None - WARNING - Warning : NULL/L\n",
      "2020-11-29 12:48:55,616 - thermomodel_None - WARNING - Warning : NULL/U\n",
      "2020-11-29 12:48:55,616 - thermomodel_None - WARNING - Warning : NULL/L\n",
      "2020-11-29 12:48:55,616 - thermomodel_None - WARNING - Warning : NULL/L\n",
      "2020-11-29 12:48:55,618 - thermomodel_None - WARNING - Warning : NULL/U\n",
      "2020-11-29 12:48:55,618 - thermomodel_None - WARNING - Warning : NULL/L\n",
      "2020-11-29 12:48:55,618 - thermomodel_None - WARNING - Warning : NULL/L\n",
      "2020-11-29 12:48:55,752 - thermomodel_None - WARNING - Warning : NULL/U\n",
      "2020-11-29 12:48:55,752 - thermomodel_None - WARNING - Warning : NULL/L\n",
      "2020-11-29 12:48:55,752 - thermomodel_None - WARNING - Warning : NULL/L\n",
      "2020-11-29 12:48:55,752 - thermomodel_None - WARNING - Warning : NULL/U\n",
      "2020-11-29 12:48:55,752 - thermomodel_None - WARNING - Warning : NULL/L\n",
      "2020-11-29 12:48:55,752 - thermomodel_None - WARNING - Warning : NULL/L\n",
      "2020-11-29 12:48:55,815 - thermomodel_None - WARNING - Warning : NULL/U\n",
      "2020-11-29 12:48:55,815 - thermomodel_None - WARNING - Warning : NULL/L\n",
      "2020-11-29 12:48:55,815 - thermomodel_None - WARNING - Warning : NULL/L\n",
      "2020-11-29 12:48:55,815 - thermomodel_None - WARNING - Warning : NULL/U\n",
      "2020-11-29 12:48:55,815 - thermomodel_None - WARNING - Warning : NULL/L\n",
      "2020-11-29 12:48:55,815 - thermomodel_None - WARNING - Warning : NULL/L\n",
      "2020-11-29 12:48:55,815 - thermomodel_None - WARNING - Warning : NULL/U\n",
      "2020-11-29 12:48:55,815 - thermomodel_None - WARNING - Warning : NULL/L\n",
      "2020-11-29 12:48:55,815 - thermomodel_None - WARNING - Warning : NULL/L\n",
      "2020-11-29 12:48:55,815 - thermomodel_None - WARNING - Warning : NULL/U\n",
      "2020-11-29 12:48:55,815 - thermomodel_None - WARNING - Warning : NULL/L\n",
      "2020-11-29 12:48:55,815 - thermomodel_None - WARNING - Warning : NULL/L\n",
      "2020-11-29 12:48:55,815 - thermomodel_None - WARNING - Warning : NULL/U\n",
      "2020-11-29 12:48:55,815 - thermomodel_None - WARNING - Warning : NULL/L\n",
      "2020-11-29 12:48:55,815 - thermomodel_None - WARNING - Warning : NULL/L\n",
      "2020-11-29 12:48:55,815 - thermomodel_None - WARNING - Warning : NULL/U\n",
      "2020-11-29 12:48:55,830 - thermomodel_None - WARNING - Warning : NULL/L\n",
      "2020-11-29 12:48:55,830 - thermomodel_None - WARNING - Warning : NULL/L\n",
      "2020-11-29 12:48:55,830 - thermomodel_None - WARNING - Warning : NULL/U\n",
      "2020-11-29 12:48:55,830 - thermomodel_None - WARNING - Warning : NULL/L\n",
      "2020-11-29 12:48:55,830 - thermomodel_None - WARNING - Warning : NULL/L\n",
      "2020-11-29 12:48:55,830 - thermomodel_None - WARNING - Warning : NULL/U\n",
      "2020-11-29 12:48:55,830 - thermomodel_None - WARNING - Warning : NULL/L\n",
      "2020-11-29 12:48:55,830 - thermomodel_None - WARNING - Warning : NULL/L\n",
      "2020-11-29 12:48:55,937 - thermomodel_None - INFO - # Model preparation done.\n",
      "2020-11-29 12:48:55,937 - thermomodel_None - INFO - # Model conversion starting...\n",
      "2020-11-29 12:49:30,810 - thermomodel_None - INFO - # Model conversion done.\n",
      "2020-11-29 12:49:30,810 - thermomodel_None - INFO - # Updating cobra_model variables...\n",
      "2020-11-29 12:49:30,846 - thermomodel_None - INFO - # cobra_model variables are up-to-date\n"
     ]
    },
    {
     "name": "stdout",
     "output_type": "stream",
     "text": [
      "Read LP format model from file C:\\Users\\riheme\\AppData\\Local\\Temp\\tmpsykhiap3.lp\n",
      "Reading time = 0.02 seconds\n",
      ": 1807 rows, 5170 columns, 20304 nonzeros\n",
      "Read LP format model from file C:\\Users\\riheme\\AppData\\Local\\Temp\\tmpw0wlpvc8.lp\n",
      "Reading time = 0.02 seconds\n",
      ": 1807 rows, 5170 columns, 20304 nonzeros\n"
     ]
    },
    {
     "name": "stderr",
     "output_type": "stream",
     "text": [
      "2020-11-29 12:49:47,077 - thermomodel_Ecoli GND (Glc) 3 @ t = 11 - INFO - # Model initialized with units kcal/mol and temperature 298.15 K\n"
     ]
    },
    {
     "name": "stdout",
     "output_type": "stream",
     "text": [
      "Read LP format model from file C:\\Users\\riheme\\AppData\\Local\\Temp\\tmp8pu9k5bq.lp\n",
      "Reading time = 0.02 seconds\n",
      ": 1807 rows, 5170 columns, 20304 nonzeros\n",
      "Read LP format model from file C:\\Users\\riheme\\AppData\\Local\\Temp\\tmptcpt8cof.lp\n",
      "Reading time = 0.03 seconds\n",
      ": 1807 rows, 5170 columns, 20304 nonzeros\n"
     ]
    },
    {
     "name": "stderr",
     "output_type": "stream",
     "text": [
      "2020-11-29 12:50:12,729 - thermomodel_Ecoli GND (Glc) 3 @ t = 11 - INFO - # Model initialized with units kcal/mol and temperature 298.15 K\n",
      "2020-11-29 12:50:22,456 - thermomodel_Ecoli GND (Glc) 3 @ t = 11 - INFO - Adding slack constraints\n",
      "adding slacks: 100%|███████████████████████████████████████████████████████████████| 1824/1824 [00:36<00:00, 49.42it/s]\n",
      "2020-11-29 12:51:01,007 - thermomodel_Ecoli GND (Glc) 3 @ t = 11 - INFO - Optimizing slack model\n",
      "2020-11-29 12:51:07,298 - thermomodel_Ecoli GND (Glc) 3 @ t = 11 - INFO - Extracting relaxation\n",
      "applying slack: 100%|███████████████████████████████████████████████████████████| 2585/2585 [00:00<00:00, 40426.24it/s]\n",
      "2020-11-29 12:51:07,448 - thermomodel_Ecoli GND (Glc) 3 @ t = 11 - INFO - Testing relaxation\n"
     ]
    },
    {
     "name": "stdout",
     "output_type": "stream",
     "text": [
      "################################################################################\n",
      "Ecoli PGI (Glc) 0 @ t = 0\n",
      "(46.36 min)\n",
      "################################################################################\n",
      "Read LP format model from file C:\\Users\\riheme\\AppData\\Local\\Temp\\tmp38b2voxi.lp\n",
      "Reading time = 0.02 seconds\n",
      ": 1807 rows, 5170 columns, 20334 nonzeros\n",
      "Read LP format model from file C:\\Users\\riheme\\AppData\\Local\\Temp\\tmprc6gs3vl.lp\n",
      "Reading time = 0.02 seconds\n",
      ": 1807 rows, 5170 columns, 20334 nonzeros\n"
     ]
    },
    {
     "name": "stderr",
     "output_type": "stream",
     "text": [
      "2020-11-29 12:51:22,357 - thermomodel_None - INFO - # Model initialized with units kcal/mol and temperature 298.15 K\n",
      "2020-11-29 12:51:22,365 - thermomodel_None - INFO - # Model preparation starting...\n",
      "2020-11-29 12:51:24,753 - thermomodel_None - WARNING - Warning : NULL/U\n",
      "2020-11-29 12:51:24,753 - thermomodel_None - WARNING - Warning : NULL/L\n",
      "2020-11-29 12:51:24,761 - thermomodel_None - WARNING - Warning : NULL/L\n",
      "2020-11-29 12:51:24,761 - thermomodel_None - WARNING - Warning : NULL/U\n",
      "2020-11-29 12:51:24,761 - thermomodel_None - WARNING - Warning : NULL/L\n",
      "2020-11-29 12:51:24,761 - thermomodel_None - WARNING - Warning : NULL/L\n",
      "2020-11-29 12:51:24,974 - thermomodel_None - WARNING - Warning : NULL/U\n",
      "2020-11-29 12:51:24,974 - thermomodel_None - WARNING - Warning : NULL/L\n",
      "2020-11-29 12:51:24,974 - thermomodel_None - WARNING - Warning : NULL/L\n",
      "2020-11-29 12:51:24,974 - thermomodel_None - WARNING - Warning : NULL/U\n",
      "2020-11-29 12:51:24,974 - thermomodel_None - WARNING - Warning : NULL/L\n",
      "2020-11-29 12:51:24,982 - thermomodel_None - WARNING - Warning : NULL/L\n",
      "2020-11-29 12:51:25,118 - thermomodel_None - WARNING - Warning : NULL/U\n",
      "2020-11-29 12:51:25,118 - thermomodel_None - WARNING - Warning : NULL/L\n",
      "2020-11-29 12:51:25,118 - thermomodel_None - WARNING - Warning : NULL/L\n",
      "2020-11-29 12:51:25,118 - thermomodel_None - WARNING - Warning : NULL/U\n",
      "2020-11-29 12:51:25,118 - thermomodel_None - WARNING - Warning : NULL/L\n",
      "2020-11-29 12:51:25,118 - thermomodel_None - WARNING - Warning : NULL/L\n",
      "2020-11-29 12:51:25,180 - thermomodel_None - WARNING - Warning : NULL/U\n",
      "2020-11-29 12:51:25,180 - thermomodel_None - WARNING - Warning : NULL/L\n",
      "2020-11-29 12:51:25,180 - thermomodel_None - WARNING - Warning : NULL/L\n",
      "2020-11-29 12:51:25,180 - thermomodel_None - WARNING - Warning : NULL/U\n",
      "2020-11-29 12:51:25,180 - thermomodel_None - WARNING - Warning : NULL/L\n",
      "2020-11-29 12:51:25,180 - thermomodel_None - WARNING - Warning : NULL/L\n",
      "2020-11-29 12:51:25,180 - thermomodel_None - WARNING - Warning : NULL/U\n",
      "2020-11-29 12:51:25,180 - thermomodel_None - WARNING - Warning : NULL/L\n",
      "2020-11-29 12:51:25,180 - thermomodel_None - WARNING - Warning : NULL/L\n",
      "2020-11-29 12:51:25,180 - thermomodel_None - WARNING - Warning : NULL/U\n",
      "2020-11-29 12:51:25,180 - thermomodel_None - WARNING - Warning : NULL/L\n",
      "2020-11-29 12:51:25,180 - thermomodel_None - WARNING - Warning : NULL/L\n",
      "2020-11-29 12:51:25,180 - thermomodel_None - WARNING - Warning : NULL/U\n",
      "2020-11-29 12:51:25,196 - thermomodel_None - WARNING - Warning : NULL/L\n",
      "2020-11-29 12:51:25,196 - thermomodel_None - WARNING - Warning : NULL/L\n",
      "2020-11-29 12:51:25,196 - thermomodel_None - WARNING - Warning : NULL/U\n",
      "2020-11-29 12:51:25,196 - thermomodel_None - WARNING - Warning : NULL/L\n",
      "2020-11-29 12:51:25,196 - thermomodel_None - WARNING - Warning : NULL/L\n",
      "2020-11-29 12:51:25,196 - thermomodel_None - WARNING - Warning : NULL/U\n",
      "2020-11-29 12:51:25,196 - thermomodel_None - WARNING - Warning : NULL/L\n",
      "2020-11-29 12:51:25,196 - thermomodel_None - WARNING - Warning : NULL/L\n",
      "2020-11-29 12:51:25,202 - thermomodel_None - WARNING - Warning : NULL/U\n",
      "2020-11-29 12:51:25,202 - thermomodel_None - WARNING - Warning : NULL/L\n",
      "2020-11-29 12:51:25,202 - thermomodel_None - WARNING - Warning : NULL/L\n",
      "2020-11-29 12:51:25,318 - thermomodel_None - INFO - # Model preparation done.\n",
      "2020-11-29 12:51:25,318 - thermomodel_None - INFO - # Model conversion starting...\n",
      "2020-11-29 12:52:00,439 - thermomodel_None - INFO - # Model conversion done.\n",
      "2020-11-29 12:52:00,439 - thermomodel_None - INFO - # Updating cobra_model variables...\n",
      "2020-11-29 12:52:00,480 - thermomodel_None - INFO - # cobra_model variables are up-to-date\n"
     ]
    },
    {
     "name": "stdout",
     "output_type": "stream",
     "text": [
      "Read LP format model from file C:\\Users\\riheme\\AppData\\Local\\Temp\\tmpqtrkzgwd.lp\n",
      "Reading time = 0.02 seconds\n",
      ": 1807 rows, 5170 columns, 20304 nonzeros\n",
      "Read LP format model from file C:\\Users\\riheme\\AppData\\Local\\Temp\\tmp6sn7iw3w.lp\n",
      "Reading time = 0.02 seconds\n",
      ": 1807 rows, 5170 columns, 20304 nonzeros\n"
     ]
    },
    {
     "name": "stderr",
     "output_type": "stream",
     "text": [
      "2020-11-29 12:52:16,657 - thermomodel_Ecoli PGI (Glc) 0 @ t = 0 - INFO - # Model initialized with units kcal/mol and temperature 298.15 K\n"
     ]
    },
    {
     "name": "stdout",
     "output_type": "stream",
     "text": [
      "Read LP format model from file C:\\Users\\riheme\\AppData\\Local\\Temp\\tmph4l_7l5h.lp\n",
      "Reading time = 0.03 seconds\n",
      ": 1807 rows, 5170 columns, 20304 nonzeros\n",
      "Read LP format model from file C:\\Users\\riheme\\AppData\\Local\\Temp\\tmpv6ez0bhz.lp\n",
      "Reading time = 0.02 seconds\n",
      ": 1807 rows, 5170 columns, 20304 nonzeros\n"
     ]
    },
    {
     "name": "stderr",
     "output_type": "stream",
     "text": [
      "2020-11-29 12:52:42,260 - thermomodel_Ecoli PGI (Glc) 0 @ t = 0 - INFO - # Model initialized with units kcal/mol and temperature 298.15 K\n",
      "2020-11-29 12:52:51,946 - thermomodel_Ecoli PGI (Glc) 0 @ t = 0 - INFO - Adding slack constraints\n",
      "adding slacks: 100%|███████████████████████████████████████████████████████████████| 1824/1824 [00:37<00:00, 49.27it/s]\n",
      "2020-11-29 12:53:30,598 - thermomodel_Ecoli PGI (Glc) 0 @ t = 0 - INFO - Optimizing slack model\n",
      "2020-11-29 12:53:36,555 - thermomodel_Ecoli PGI (Glc) 0 @ t = 0 - INFO - Extracting relaxation\n",
      "applying slack: 100%|███████████████████████████████████████████████████████████| 2585/2585 [00:00<00:00, 55099.58it/s]\n",
      "2020-11-29 12:53:36,707 - thermomodel_Ecoli PGI (Glc) 0 @ t = 0 - INFO - Testing relaxation\n"
     ]
    },
    {
     "name": "stdout",
     "output_type": "stream",
     "text": [
      "################################################################################\n",
      "Ecoli PGI (Glc) 1 @ t = 1\n",
      "(48.85 min)\n",
      "################################################################################\n",
      "Read LP format model from file C:\\Users\\riheme\\AppData\\Local\\Temp\\tmpkok69adq.lp\n",
      "Reading time = 0.02 seconds\n",
      ": 1807 rows, 5170 columns, 20334 nonzeros\n",
      "Read LP format model from file C:\\Users\\riheme\\AppData\\Local\\Temp\\tmpouaipbu0.lp\n",
      "Reading time = 0.02 seconds\n",
      ": 1807 rows, 5170 columns, 20334 nonzeros\n"
     ]
    },
    {
     "name": "stderr",
     "output_type": "stream",
     "text": [
      "2020-11-29 12:53:51,609 - thermomodel_None - INFO - # Model initialized with units kcal/mol and temperature 298.15 K\n",
      "2020-11-29 12:53:51,618 - thermomodel_None - INFO - # Model preparation starting...\n",
      "2020-11-29 12:53:53,996 - thermomodel_None - WARNING - Warning : NULL/U\n",
      "2020-11-29 12:53:53,996 - thermomodel_None - WARNING - Warning : NULL/L\n",
      "2020-11-29 12:53:54,004 - thermomodel_None - WARNING - Warning : NULL/L\n",
      "2020-11-29 12:53:54,004 - thermomodel_None - WARNING - Warning : NULL/U\n",
      "2020-11-29 12:53:54,004 - thermomodel_None - WARNING - Warning : NULL/L\n",
      "2020-11-29 12:53:54,004 - thermomodel_None - WARNING - Warning : NULL/L\n",
      "2020-11-29 12:53:54,230 - thermomodel_None - WARNING - Warning : NULL/U\n",
      "2020-11-29 12:53:54,230 - thermomodel_None - WARNING - Warning : NULL/L\n",
      "2020-11-29 12:53:54,230 - thermomodel_None - WARNING - Warning : NULL/L\n",
      "2020-11-29 12:53:54,230 - thermomodel_None - WARNING - Warning : NULL/U\n",
      "2020-11-29 12:53:54,230 - thermomodel_None - WARNING - Warning : NULL/L\n",
      "2020-11-29 12:53:54,230 - thermomodel_None - WARNING - Warning : NULL/L\n",
      "2020-11-29 12:53:54,361 - thermomodel_None - WARNING - Warning : NULL/U\n",
      "2020-11-29 12:53:54,361 - thermomodel_None - WARNING - Warning : NULL/L\n",
      "2020-11-29 12:53:54,377 - thermomodel_None - WARNING - Warning : NULL/L\n",
      "2020-11-29 12:53:54,377 - thermomodel_None - WARNING - Warning : NULL/U\n",
      "2020-11-29 12:53:54,377 - thermomodel_None - WARNING - Warning : NULL/L\n",
      "2020-11-29 12:53:54,377 - thermomodel_None - WARNING - Warning : NULL/L\n",
      "2020-11-29 12:53:54,430 - thermomodel_None - WARNING - Warning : NULL/U\n",
      "2020-11-29 12:53:54,430 - thermomodel_None - WARNING - Warning : NULL/L\n",
      "2020-11-29 12:53:54,430 - thermomodel_None - WARNING - Warning : NULL/L\n",
      "2020-11-29 12:53:54,430 - thermomodel_None - WARNING - Warning : NULL/U\n",
      "2020-11-29 12:53:54,430 - thermomodel_None - WARNING - Warning : NULL/L\n",
      "2020-11-29 12:53:54,430 - thermomodel_None - WARNING - Warning : NULL/L\n",
      "2020-11-29 12:53:54,430 - thermomodel_None - WARNING - Warning : NULL/U\n",
      "2020-11-29 12:53:54,430 - thermomodel_None - WARNING - Warning : NULL/L\n",
      "2020-11-29 12:53:54,430 - thermomodel_None - WARNING - Warning : NULL/L\n",
      "2020-11-29 12:53:54,430 - thermomodel_None - WARNING - Warning : NULL/U\n",
      "2020-11-29 12:53:54,430 - thermomodel_None - WARNING - Warning : NULL/L\n",
      "2020-11-29 12:53:54,430 - thermomodel_None - WARNING - Warning : NULL/L\n",
      "2020-11-29 12:53:54,430 - thermomodel_None - WARNING - Warning : NULL/U\n",
      "2020-11-29 12:53:54,446 - thermomodel_None - WARNING - Warning : NULL/L\n",
      "2020-11-29 12:53:54,446 - thermomodel_None - WARNING - Warning : NULL/L\n",
      "2020-11-29 12:53:54,446 - thermomodel_None - WARNING - Warning : NULL/U\n",
      "2020-11-29 12:53:54,446 - thermomodel_None - WARNING - Warning : NULL/L\n",
      "2020-11-29 12:53:54,446 - thermomodel_None - WARNING - Warning : NULL/L\n",
      "2020-11-29 12:53:54,446 - thermomodel_None - WARNING - Warning : NULL/U\n",
      "2020-11-29 12:53:54,446 - thermomodel_None - WARNING - Warning : NULL/L\n",
      "2020-11-29 12:53:54,446 - thermomodel_None - WARNING - Warning : NULL/L\n",
      "2020-11-29 12:53:54,446 - thermomodel_None - WARNING - Warning : NULL/U\n",
      "2020-11-29 12:53:54,446 - thermomodel_None - WARNING - Warning : NULL/L\n",
      "2020-11-29 12:53:54,446 - thermomodel_None - WARNING - Warning : NULL/L\n",
      "2020-11-29 12:53:54,562 - thermomodel_None - INFO - # Model preparation done.\n",
      "2020-11-29 12:53:54,562 - thermomodel_None - INFO - # Model conversion starting...\n",
      "2020-11-29 12:54:29,485 - thermomodel_None - INFO - # Model conversion done.\n",
      "2020-11-29 12:54:29,485 - thermomodel_None - INFO - # Updating cobra_model variables...\n",
      "2020-11-29 12:54:29,529 - thermomodel_None - INFO - # cobra_model variables are up-to-date\n"
     ]
    },
    {
     "name": "stdout",
     "output_type": "stream",
     "text": [
      "Read LP format model from file C:\\Users\\riheme\\AppData\\Local\\Temp\\tmp4x5grifh.lp\n",
      "Reading time = 0.03 seconds\n",
      ": 1807 rows, 5170 columns, 20304 nonzeros\n",
      "Read LP format model from file C:\\Users\\riheme\\AppData\\Local\\Temp\\tmp32hptiis.lp\n",
      "Reading time = 0.03 seconds\n",
      ": 1807 rows, 5170 columns, 20304 nonzeros\n"
     ]
    },
    {
     "name": "stderr",
     "output_type": "stream",
     "text": [
      "2020-11-29 12:54:45,613 - thermomodel_Ecoli PGI (Glc) 1 @ t = 1 - INFO - # Model initialized with units kcal/mol and temperature 298.15 K\n"
     ]
    },
    {
     "name": "stdout",
     "output_type": "stream",
     "text": [
      "Read LP format model from file C:\\Users\\riheme\\AppData\\Local\\Temp\\tmpe5duq0xh.lp\n",
      "Reading time = 0.02 seconds\n",
      ": 1807 rows, 5170 columns, 20304 nonzeros\n",
      "Read LP format model from file C:\\Users\\riheme\\AppData\\Local\\Temp\\tmp1k7jo2k9.lp\n",
      "Reading time = 0.02 seconds\n",
      ": 1807 rows, 5170 columns, 20304 nonzeros\n"
     ]
    },
    {
     "name": "stderr",
     "output_type": "stream",
     "text": [
      "2020-11-29 12:55:11,502 - thermomodel_Ecoli PGI (Glc) 1 @ t = 1 - INFO - # Model initialized with units kcal/mol and temperature 298.15 K\n",
      "2020-11-29 12:55:20,517 - thermomodel_Ecoli PGI (Glc) 1 @ t = 1 - INFO - Adding slack constraints\n",
      "adding slacks: 100%|███████████████████████████████████████████████████████████████| 1824/1824 [00:37<00:00, 48.26it/s]\n",
      "2020-11-29 12:55:59,936 - thermomodel_Ecoli PGI (Glc) 1 @ t = 1 - INFO - Optimizing slack model\n",
      "2020-11-29 12:56:06,289 - thermomodel_Ecoli PGI (Glc) 1 @ t = 1 - INFO - Extracting relaxation\n",
      "applying slack: 100%|███████████████████████████████████████████████████████████| 2585/2585 [00:00<00:00, 42634.09it/s]\n",
      "2020-11-29 12:56:06,440 - thermomodel_Ecoli PGI (Glc) 1 @ t = 1 - INFO - Testing relaxation\n"
     ]
    },
    {
     "name": "stdout",
     "output_type": "stream",
     "text": [
      "################################################################################\n",
      "Ecoli PGI (Glc) 1 @ t = 2\n",
      "(51.34 min)\n",
      "################################################################################\n",
      "Read LP format model from file C:\\Users\\riheme\\AppData\\Local\\Temp\\tmpfr6738m3.lp\n",
      "Reading time = 0.02 seconds\n",
      ": 1807 rows, 5170 columns, 20334 nonzeros\n",
      "Read LP format model from file C:\\Users\\riheme\\AppData\\Local\\Temp\\tmpmt06rud6.lp\n",
      "Reading time = 0.02 seconds\n",
      ": 1807 rows, 5170 columns, 20334 nonzeros\n"
     ]
    },
    {
     "name": "stderr",
     "output_type": "stream",
     "text": [
      "2020-11-29 12:56:21,464 - thermomodel_None - INFO - # Model initialized with units kcal/mol and temperature 298.15 K\n",
      "2020-11-29 12:56:21,474 - thermomodel_None - INFO - # Model preparation starting...\n",
      "2020-11-29 12:56:23,836 - thermomodel_None - WARNING - Warning : NULL/U\n",
      "2020-11-29 12:56:23,838 - thermomodel_None - WARNING - Warning : NULL/L\n",
      "2020-11-29 12:56:23,838 - thermomodel_None - WARNING - Warning : NULL/L\n",
      "2020-11-29 12:56:23,838 - thermomodel_None - WARNING - Warning : NULL/U\n",
      "2020-11-29 12:56:23,838 - thermomodel_None - WARNING - Warning : NULL/L\n",
      "2020-11-29 12:56:23,838 - thermomodel_None - WARNING - Warning : NULL/L\n",
      "2020-11-29 12:56:24,049 - thermomodel_None - WARNING - Warning : NULL/U\n",
      "2020-11-29 12:56:24,049 - thermomodel_None - WARNING - Warning : NULL/L\n",
      "2020-11-29 12:56:24,049 - thermomodel_None - WARNING - Warning : NULL/L\n",
      "2020-11-29 12:56:24,049 - thermomodel_None - WARNING - Warning : NULL/U\n",
      "2020-11-29 12:56:24,049 - thermomodel_None - WARNING - Warning : NULL/L\n",
      "2020-11-29 12:56:24,059 - thermomodel_None - WARNING - Warning : NULL/L\n",
      "2020-11-29 12:56:24,190 - thermomodel_None - WARNING - Warning : NULL/U\n",
      "2020-11-29 12:56:24,190 - thermomodel_None - WARNING - Warning : NULL/L\n",
      "2020-11-29 12:56:24,190 - thermomodel_None - WARNING - Warning : NULL/L\n",
      "2020-11-29 12:56:24,206 - thermomodel_None - WARNING - Warning : NULL/U\n",
      "2020-11-29 12:56:24,206 - thermomodel_None - WARNING - Warning : NULL/L\n",
      "2020-11-29 12:56:24,206 - thermomodel_None - WARNING - Warning : NULL/L\n",
      "2020-11-29 12:56:24,259 - thermomodel_None - WARNING - Warning : NULL/U\n",
      "2020-11-29 12:56:24,259 - thermomodel_None - WARNING - Warning : NULL/L\n",
      "2020-11-29 12:56:24,259 - thermomodel_None - WARNING - Warning : NULL/L\n",
      "2020-11-29 12:56:24,259 - thermomodel_None - WARNING - Warning : NULL/U\n",
      "2020-11-29 12:56:24,259 - thermomodel_None - WARNING - Warning : NULL/L\n",
      "2020-11-29 12:56:24,259 - thermomodel_None - WARNING - Warning : NULL/L\n",
      "2020-11-29 12:56:24,259 - thermomodel_None - WARNING - Warning : NULL/U\n",
      "2020-11-29 12:56:24,259 - thermomodel_None - WARNING - Warning : NULL/L\n",
      "2020-11-29 12:56:24,259 - thermomodel_None - WARNING - Warning : NULL/L\n",
      "2020-11-29 12:56:24,259 - thermomodel_None - WARNING - Warning : NULL/U\n",
      "2020-11-29 12:56:24,259 - thermomodel_None - WARNING - Warning : NULL/L\n",
      "2020-11-29 12:56:24,259 - thermomodel_None - WARNING - Warning : NULL/L\n",
      "2020-11-29 12:56:24,259 - thermomodel_None - WARNING - Warning : NULL/U\n",
      "2020-11-29 12:56:24,259 - thermomodel_None - WARNING - Warning : NULL/L\n",
      "2020-11-29 12:56:24,259 - thermomodel_None - WARNING - Warning : NULL/L\n",
      "2020-11-29 12:56:24,259 - thermomodel_None - WARNING - Warning : NULL/U\n",
      "2020-11-29 12:56:24,259 - thermomodel_None - WARNING - Warning : NULL/L\n",
      "2020-11-29 12:56:24,275 - thermomodel_None - WARNING - Warning : NULL/L\n",
      "2020-11-29 12:56:24,275 - thermomodel_None - WARNING - Warning : NULL/U\n",
      "2020-11-29 12:56:24,275 - thermomodel_None - WARNING - Warning : NULL/L\n",
      "2020-11-29 12:56:24,275 - thermomodel_None - WARNING - Warning : NULL/L\n",
      "2020-11-29 12:56:24,275 - thermomodel_None - WARNING - Warning : NULL/U\n",
      "2020-11-29 12:56:24,275 - thermomodel_None - WARNING - Warning : NULL/L\n",
      "2020-11-29 12:56:24,275 - thermomodel_None - WARNING - Warning : NULL/L\n",
      "2020-11-29 12:56:24,391 - thermomodel_None - INFO - # Model preparation done.\n",
      "2020-11-29 12:56:24,391 - thermomodel_None - INFO - # Model conversion starting...\n",
      "2020-11-29 12:56:58,839 - thermomodel_None - INFO - # Model conversion done.\n",
      "2020-11-29 12:56:58,839 - thermomodel_None - INFO - # Updating cobra_model variables...\n",
      "2020-11-29 12:56:58,889 - thermomodel_None - INFO - # cobra_model variables are up-to-date\n"
     ]
    },
    {
     "name": "stdout",
     "output_type": "stream",
     "text": [
      "Read LP format model from file C:\\Users\\riheme\\AppData\\Local\\Temp\\tmpb0aihglu.lp\n",
      "Reading time = 0.03 seconds\n",
      ": 1807 rows, 5170 columns, 20304 nonzeros\n",
      "Read LP format model from file C:\\Users\\riheme\\AppData\\Local\\Temp\\tmp118yd1tb.lp\n",
      "Reading time = 0.02 seconds\n",
      ": 1807 rows, 5170 columns, 20304 nonzeros\n"
     ]
    },
    {
     "name": "stderr",
     "output_type": "stream",
     "text": [
      "2020-11-29 12:57:14,880 - thermomodel_Ecoli PGI (Glc) 1 @ t = 2 - INFO - # Model initialized with units kcal/mol and temperature 298.15 K\n"
     ]
    },
    {
     "name": "stdout",
     "output_type": "stream",
     "text": [
      "Read LP format model from file C:\\Users\\riheme\\AppData\\Local\\Temp\\tmpylx_lklr.lp\n",
      "Reading time = 0.02 seconds\n",
      ": 1807 rows, 5170 columns, 20304 nonzeros\n",
      "Read LP format model from file C:\\Users\\riheme\\AppData\\Local\\Temp\\tmp377jel1u.lp\n",
      "Reading time = 0.02 seconds\n",
      ": 1807 rows, 5170 columns, 20304 nonzeros\n"
     ]
    },
    {
     "name": "stderr",
     "output_type": "stream",
     "text": [
      "2020-11-29 12:57:40,601 - thermomodel_Ecoli PGI (Glc) 1 @ t = 2 - INFO - # Model initialized with units kcal/mol and temperature 298.15 K\n",
      "2020-11-29 12:57:49,524 - thermomodel_Ecoli PGI (Glc) 1 @ t = 2 - INFO - Adding slack constraints\n",
      "adding slacks: 100%|███████████████████████████████████████████████████████████████| 1824/1824 [00:38<00:00, 47.95it/s]\n",
      "2020-11-29 12:58:29,189 - thermomodel_Ecoli PGI (Glc) 1 @ t = 2 - INFO - Optimizing slack model\n",
      "2020-11-29 12:58:35,884 - thermomodel_Ecoli PGI (Glc) 1 @ t = 2 - INFO - Extracting relaxation\n",
      "applying slack: 100%|███████████████████████████████████████████████████████████| 2585/2585 [00:00<00:00, 41407.23it/s]\n",
      "2020-11-29 12:58:36,034 - thermomodel_Ecoli PGI (Glc) 1 @ t = 2 - INFO - Testing relaxation\n"
     ]
    },
    {
     "name": "stdout",
     "output_type": "stream",
     "text": [
      "################################################################################\n",
      "Ecoli PGI (Glc) 1 @ t = 11\n",
      "(53.83 min)\n",
      "################################################################################\n",
      "Read LP format model from file C:\\Users\\riheme\\AppData\\Local\\Temp\\tmpg_jau5f7.lp\n",
      "Reading time = 0.02 seconds\n",
      ": 1807 rows, 5170 columns, 20334 nonzeros\n",
      "Read LP format model from file C:\\Users\\riheme\\AppData\\Local\\Temp\\tmpf4ddugb4.lp\n",
      "Reading time = 0.02 seconds\n",
      ": 1807 rows, 5170 columns, 20334 nonzeros\n"
     ]
    },
    {
     "name": "stderr",
     "output_type": "stream",
     "text": [
      "2020-11-29 12:58:50,943 - thermomodel_None - INFO - # Model initialized with units kcal/mol and temperature 298.15 K\n",
      "2020-11-29 12:58:50,951 - thermomodel_None - INFO - # Model preparation starting...\n",
      "2020-11-29 12:58:53,292 - thermomodel_None - WARNING - Warning : NULL/U\n",
      "2020-11-29 12:58:53,292 - thermomodel_None - WARNING - Warning : NULL/L\n",
      "2020-11-29 12:58:53,292 - thermomodel_None - WARNING - Warning : NULL/L\n",
      "2020-11-29 12:58:53,300 - thermomodel_None - WARNING - Warning : NULL/U\n",
      "2020-11-29 12:58:53,300 - thermomodel_None - WARNING - Warning : NULL/L\n",
      "2020-11-29 12:58:53,300 - thermomodel_None - WARNING - Warning : NULL/L\n",
      "2020-11-29 12:58:53,520 - thermomodel_None - WARNING - Warning : NULL/U\n",
      "2020-11-29 12:58:53,520 - thermomodel_None - WARNING - Warning : NULL/L\n",
      "2020-11-29 12:58:53,520 - thermomodel_None - WARNING - Warning : NULL/L\n",
      "2020-11-29 12:58:53,520 - thermomodel_None - WARNING - Warning : NULL/U\n",
      "2020-11-29 12:58:53,520 - thermomodel_None - WARNING - Warning : NULL/L\n",
      "2020-11-29 12:58:53,520 - thermomodel_None - WARNING - Warning : NULL/L\n",
      "2020-11-29 12:58:53,667 - thermomodel_None - WARNING - Warning : NULL/U\n",
      "2020-11-29 12:58:53,667 - thermomodel_None - WARNING - Warning : NULL/L\n",
      "2020-11-29 12:58:53,667 - thermomodel_None - WARNING - Warning : NULL/L\n",
      "2020-11-29 12:58:53,667 - thermomodel_None - WARNING - Warning : NULL/U\n",
      "2020-11-29 12:58:53,667 - thermomodel_None - WARNING - Warning : NULL/L\n",
      "2020-11-29 12:58:53,667 - thermomodel_None - WARNING - Warning : NULL/L\n",
      "2020-11-29 12:58:53,721 - thermomodel_None - WARNING - Warning : NULL/U\n",
      "2020-11-29 12:58:53,721 - thermomodel_None - WARNING - Warning : NULL/L\n",
      "2020-11-29 12:58:53,721 - thermomodel_None - WARNING - Warning : NULL/L\n",
      "2020-11-29 12:58:53,721 - thermomodel_None - WARNING - Warning : NULL/U\n",
      "2020-11-29 12:58:53,721 - thermomodel_None - WARNING - Warning : NULL/L\n",
      "2020-11-29 12:58:53,721 - thermomodel_None - WARNING - Warning : NULL/L\n",
      "2020-11-29 12:58:53,736 - thermomodel_None - WARNING - Warning : NULL/U\n",
      "2020-11-29 12:58:53,736 - thermomodel_None - WARNING - Warning : NULL/L\n",
      "2020-11-29 12:58:53,736 - thermomodel_None - WARNING - Warning : NULL/L\n",
      "2020-11-29 12:58:53,736 - thermomodel_None - WARNING - Warning : NULL/U\n",
      "2020-11-29 12:58:53,736 - thermomodel_None - WARNING - Warning : NULL/L\n",
      "2020-11-29 12:58:53,736 - thermomodel_None - WARNING - Warning : NULL/L\n",
      "2020-11-29 12:58:53,736 - thermomodel_None - WARNING - Warning : NULL/U\n",
      "2020-11-29 12:58:53,736 - thermomodel_None - WARNING - Warning : NULL/L\n",
      "2020-11-29 12:58:53,736 - thermomodel_None - WARNING - Warning : NULL/L\n",
      "2020-11-29 12:58:53,736 - thermomodel_None - WARNING - Warning : NULL/U\n",
      "2020-11-29 12:58:53,736 - thermomodel_None - WARNING - Warning : NULL/L\n",
      "2020-11-29 12:58:53,736 - thermomodel_None - WARNING - Warning : NULL/L\n",
      "2020-11-29 12:58:53,736 - thermomodel_None - WARNING - Warning : NULL/U\n",
      "2020-11-29 12:58:53,736 - thermomodel_None - WARNING - Warning : NULL/L\n",
      "2020-11-29 12:58:53,736 - thermomodel_None - WARNING - Warning : NULL/L\n",
      "2020-11-29 12:58:53,736 - thermomodel_None - WARNING - Warning : NULL/U\n",
      "2020-11-29 12:58:53,736 - thermomodel_None - WARNING - Warning : NULL/L\n",
      "2020-11-29 12:58:53,736 - thermomodel_None - WARNING - Warning : NULL/L\n",
      "2020-11-29 12:58:53,868 - thermomodel_None - INFO - # Model preparation done.\n",
      "2020-11-29 12:58:53,868 - thermomodel_None - INFO - # Model conversion starting...\n",
      "2020-11-29 12:59:28,721 - thermomodel_None - INFO - # Model conversion done.\n",
      "2020-11-29 12:59:28,721 - thermomodel_None - INFO - # Updating cobra_model variables...\n",
      "2020-11-29 12:59:28,769 - thermomodel_None - INFO - # cobra_model variables are up-to-date\n"
     ]
    },
    {
     "name": "stdout",
     "output_type": "stream",
     "text": [
      "Read LP format model from file C:\\Users\\riheme\\AppData\\Local\\Temp\\tmp_9vu9dqu.lp\n",
      "Reading time = 0.03 seconds\n",
      ": 1807 rows, 5170 columns, 20304 nonzeros\n",
      "Read LP format model from file C:\\Users\\riheme\\AppData\\Local\\Temp\\tmphced_dm0.lp\n",
      "Reading time = 0.02 seconds\n",
      ": 1807 rows, 5170 columns, 20304 nonzeros\n"
     ]
    },
    {
     "name": "stderr",
     "output_type": "stream",
     "text": [
      "2020-11-29 12:59:44,969 - thermomodel_Ecoli PGI (Glc) 1 @ t = 11 - INFO - # Model initialized with units kcal/mol and temperature 298.15 K\n"
     ]
    },
    {
     "name": "stdout",
     "output_type": "stream",
     "text": [
      "Read LP format model from file C:\\Users\\riheme\\AppData\\Local\\Temp\\tmphiyf6bbq.lp\n",
      "Reading time = 0.02 seconds\n",
      ": 1807 rows, 5170 columns, 20304 nonzeros\n",
      "Read LP format model from file C:\\Users\\riheme\\AppData\\Local\\Temp\\tmp6bnpv_r6.lp\n",
      "Reading time = 0.02 seconds\n",
      ": 1807 rows, 5170 columns, 20304 nonzeros\n"
     ]
    },
    {
     "name": "stderr",
     "output_type": "stream",
     "text": [
      "2020-11-29 13:00:10,504 - thermomodel_Ecoli PGI (Glc) 1 @ t = 11 - INFO - # Model initialized with units kcal/mol and temperature 298.15 K\n",
      "2020-11-29 13:00:19,574 - thermomodel_Ecoli PGI (Glc) 1 @ t = 11 - INFO - Adding slack constraints\n",
      "adding slacks: 100%|███████████████████████████████████████████████████████████████| 1824/1824 [00:37<00:00, 48.51it/s]\n",
      "2020-11-29 13:00:58,791 - thermomodel_Ecoli PGI (Glc) 1 @ t = 11 - INFO - Optimizing slack model\n",
      "2020-11-29 13:01:05,953 - thermomodel_Ecoli PGI (Glc) 1 @ t = 11 - INFO - Extracting relaxation\n",
      "applying slack: 100%|███████████████████████████████████████████████████████████| 2585/2585 [00:00<00:00, 55142.74it/s]\n",
      "2020-11-29 13:01:06,105 - thermomodel_Ecoli PGI (Glc) 1 @ t = 11 - INFO - Testing relaxation\n"
     ]
    },
    {
     "name": "stdout",
     "output_type": "stream",
     "text": [
      "################################################################################\n",
      "Ecoli PGI (Glc) 2 @ t = 1\n",
      "(56.34 min)\n",
      "################################################################################\n",
      "Read LP format model from file C:\\Users\\riheme\\AppData\\Local\\Temp\\tmpkbh_tu15.lp\n",
      "Reading time = 0.02 seconds\n",
      ": 1807 rows, 5170 columns, 20334 nonzeros\n",
      "Read LP format model from file C:\\Users\\riheme\\AppData\\Local\\Temp\\tmpvvvz7lqk.lp\n",
      "Reading time = 0.02 seconds\n",
      ": 1807 rows, 5170 columns, 20334 nonzeros\n"
     ]
    },
    {
     "name": "stderr",
     "output_type": "stream",
     "text": [
      "2020-11-29 13:01:21,207 - thermomodel_None - INFO - # Model initialized with units kcal/mol and temperature 298.15 K\n",
      "2020-11-29 13:01:21,215 - thermomodel_None - INFO - # Model preparation starting...\n",
      "2020-11-29 13:01:23,594 - thermomodel_None - WARNING - Warning : NULL/U\n",
      "2020-11-29 13:01:23,594 - thermomodel_None - WARNING - Warning : NULL/L\n",
      "2020-11-29 13:01:23,594 - thermomodel_None - WARNING - Warning : NULL/L\n",
      "2020-11-29 13:01:23,602 - thermomodel_None - WARNING - Warning : NULL/U\n",
      "2020-11-29 13:01:23,602 - thermomodel_None - WARNING - Warning : NULL/L\n",
      "2020-11-29 13:01:23,602 - thermomodel_None - WARNING - Warning : NULL/L\n",
      "2020-11-29 13:01:23,818 - thermomodel_None - WARNING - Warning : NULL/U\n",
      "2020-11-29 13:01:23,818 - thermomodel_None - WARNING - Warning : NULL/L\n",
      "2020-11-29 13:01:23,818 - thermomodel_None - WARNING - Warning : NULL/L\n",
      "2020-11-29 13:01:23,818 - thermomodel_None - WARNING - Warning : NULL/U\n",
      "2020-11-29 13:01:23,818 - thermomodel_None - WARNING - Warning : NULL/L\n",
      "2020-11-29 13:01:23,818 - thermomodel_None - WARNING - Warning : NULL/L\n",
      "2020-11-29 13:01:23,968 - thermomodel_None - WARNING - Warning : NULL/U\n",
      "2020-11-29 13:01:23,968 - thermomodel_None - WARNING - Warning : NULL/L\n",
      "2020-11-29 13:01:23,968 - thermomodel_None - WARNING - Warning : NULL/L\n",
      "2020-11-29 13:01:23,968 - thermomodel_None - WARNING - Warning : NULL/U\n",
      "2020-11-29 13:01:23,968 - thermomodel_None - WARNING - Warning : NULL/L\n",
      "2020-11-29 13:01:23,968 - thermomodel_None - WARNING - Warning : NULL/L\n",
      "2020-11-29 13:01:24,015 - thermomodel_None - WARNING - Warning : NULL/U\n",
      "2020-11-29 13:01:24,015 - thermomodel_None - WARNING - Warning : NULL/L\n",
      "2020-11-29 13:01:24,015 - thermomodel_None - WARNING - Warning : NULL/L\n",
      "2020-11-29 13:01:24,015 - thermomodel_None - WARNING - Warning : NULL/U\n",
      "2020-11-29 13:01:24,015 - thermomodel_None - WARNING - Warning : NULL/L\n",
      "2020-11-29 13:01:24,015 - thermomodel_None - WARNING - Warning : NULL/L\n",
      "2020-11-29 13:01:24,015 - thermomodel_None - WARNING - Warning : NULL/U\n",
      "2020-11-29 13:01:24,030 - thermomodel_None - WARNING - Warning : NULL/L\n",
      "2020-11-29 13:01:24,030 - thermomodel_None - WARNING - Warning : NULL/L\n",
      "2020-11-29 13:01:24,030 - thermomodel_None - WARNING - Warning : NULL/U\n",
      "2020-11-29 13:01:24,030 - thermomodel_None - WARNING - Warning : NULL/L\n",
      "2020-11-29 13:01:24,030 - thermomodel_None - WARNING - Warning : NULL/L\n",
      "2020-11-29 13:01:24,030 - thermomodel_None - WARNING - Warning : NULL/U\n",
      "2020-11-29 13:01:24,030 - thermomodel_None - WARNING - Warning : NULL/L\n",
      "2020-11-29 13:01:24,030 - thermomodel_None - WARNING - Warning : NULL/L\n",
      "2020-11-29 13:01:24,037 - thermomodel_None - WARNING - Warning : NULL/U\n",
      "2020-11-29 13:01:24,037 - thermomodel_None - WARNING - Warning : NULL/L\n",
      "2020-11-29 13:01:24,037 - thermomodel_None - WARNING - Warning : NULL/L\n",
      "2020-11-29 13:01:24,037 - thermomodel_None - WARNING - Warning : NULL/U\n",
      "2020-11-29 13:01:24,037 - thermomodel_None - WARNING - Warning : NULL/L\n",
      "2020-11-29 13:01:24,037 - thermomodel_None - WARNING - Warning : NULL/L\n",
      "2020-11-29 13:01:24,037 - thermomodel_None - WARNING - Warning : NULL/U\n",
      "2020-11-29 13:01:24,037 - thermomodel_None - WARNING - Warning : NULL/L\n",
      "2020-11-29 13:01:24,037 - thermomodel_None - WARNING - Warning : NULL/L\n",
      "2020-11-29 13:01:24,153 - thermomodel_None - INFO - # Model preparation done.\n",
      "2020-11-29 13:01:24,153 - thermomodel_None - INFO - # Model conversion starting...\n",
      "2020-11-29 13:01:59,660 - thermomodel_None - INFO - # Model conversion done.\n",
      "2020-11-29 13:01:59,662 - thermomodel_None - INFO - # Updating cobra_model variables...\n",
      "2020-11-29 13:01:59,698 - thermomodel_None - INFO - # cobra_model variables are up-to-date\n"
     ]
    },
    {
     "name": "stdout",
     "output_type": "stream",
     "text": [
      "Read LP format model from file C:\\Users\\riheme\\AppData\\Local\\Temp\\tmp1d9zxoqi.lp\n",
      "Reading time = 0.02 seconds\n",
      ": 1807 rows, 5170 columns, 20304 nonzeros\n",
      "Read LP format model from file C:\\Users\\riheme\\AppData\\Local\\Temp\\tmput15uxso.lp\n",
      "Reading time = 0.02 seconds\n",
      ": 1807 rows, 5170 columns, 20304 nonzeros\n"
     ]
    },
    {
     "name": "stderr",
     "output_type": "stream",
     "text": [
      "2020-11-29 13:02:15,784 - thermomodel_Ecoli PGI (Glc) 2 @ t = 1 - INFO - # Model initialized with units kcal/mol and temperature 298.15 K\n"
     ]
    },
    {
     "name": "stdout",
     "output_type": "stream",
     "text": [
      "Read LP format model from file C:\\Users\\riheme\\AppData\\Local\\Temp\\tmpwez7fep_.lp\n",
      "Reading time = 0.02 seconds\n",
      ": 1807 rows, 5170 columns, 20304 nonzeros\n",
      "Read LP format model from file C:\\Users\\riheme\\AppData\\Local\\Temp\\tmp8unraq6j.lp\n",
      "Reading time = 0.02 seconds\n",
      ": 1807 rows, 5170 columns, 20304 nonzeros\n"
     ]
    },
    {
     "name": "stderr",
     "output_type": "stream",
     "text": [
      "2020-11-29 13:02:41,473 - thermomodel_Ecoli PGI (Glc) 2 @ t = 1 - INFO - # Model initialized with units kcal/mol and temperature 298.15 K\n",
      "2020-11-29 13:02:50,338 - thermomodel_Ecoli PGI (Glc) 2 @ t = 1 - INFO - Adding slack constraints\n",
      "adding slacks: 100%|███████████████████████████████████████████████████████████████| 1824/1824 [00:37<00:00, 48.25it/s]\n",
      "2020-11-29 13:03:29,756 - thermomodel_Ecoli PGI (Glc) 2 @ t = 1 - INFO - Optimizing slack model\n",
      "2020-11-29 13:03:35,473 - thermomodel_Ecoli PGI (Glc) 2 @ t = 1 - INFO - Extracting relaxation\n",
      "applying slack: 100%|███████████████████████████████████████████████████████████| 2585/2585 [00:00<00:00, 41369.78it/s]\n",
      "2020-11-29 13:03:35,623 - thermomodel_Ecoli PGI (Glc) 2 @ t = 1 - INFO - Testing relaxation\n"
     ]
    },
    {
     "name": "stdout",
     "output_type": "stream",
     "text": [
      "################################################################################\n",
      "Ecoli PGI (Glc) 2 @ t = 2\n",
      "(58.83 min)\n",
      "################################################################################\n",
      "Read LP format model from file C:\\Users\\riheme\\AppData\\Local\\Temp\\tmpxf_yi42d.lp\n",
      "Reading time = 0.02 seconds\n",
      ": 1807 rows, 5170 columns, 20334 nonzeros\n",
      "Read LP format model from file C:\\Users\\riheme\\AppData\\Local\\Temp\\tmp4d9vg6yn.lp\n",
      "Reading time = 0.02 seconds\n",
      ": 1807 rows, 5170 columns, 20334 nonzeros\n"
     ]
    },
    {
     "name": "stderr",
     "output_type": "stream",
     "text": [
      "2020-11-29 13:03:50,512 - thermomodel_None - INFO - # Model initialized with units kcal/mol and temperature 298.15 K\n",
      "2020-11-29 13:03:50,522 - thermomodel_None - INFO - # Model preparation starting...\n",
      "2020-11-29 13:03:52,885 - thermomodel_None - WARNING - Warning : NULL/U\n",
      "2020-11-29 13:03:52,885 - thermomodel_None - WARNING - Warning : NULL/L\n",
      "2020-11-29 13:03:52,885 - thermomodel_None - WARNING - Warning : NULL/L\n",
      "2020-11-29 13:03:52,885 - thermomodel_None - WARNING - Warning : NULL/U\n",
      "2020-11-29 13:03:52,885 - thermomodel_None - WARNING - Warning : NULL/L\n",
      "2020-11-29 13:03:52,885 - thermomodel_None - WARNING - Warning : NULL/L\n",
      "2020-11-29 13:03:53,104 - thermomodel_None - WARNING - Warning : NULL/U\n",
      "2020-11-29 13:03:53,104 - thermomodel_None - WARNING - Warning : NULL/L\n",
      "2020-11-29 13:03:53,104 - thermomodel_None - WARNING - Warning : NULL/L\n",
      "2020-11-29 13:03:53,104 - thermomodel_None - WARNING - Warning : NULL/U\n",
      "2020-11-29 13:03:53,104 - thermomodel_None - WARNING - Warning : NULL/L\n",
      "2020-11-29 13:03:53,104 - thermomodel_None - WARNING - Warning : NULL/L\n",
      "2020-11-29 13:03:53,251 - thermomodel_None - WARNING - Warning : NULL/U\n",
      "2020-11-29 13:03:53,251 - thermomodel_None - WARNING - Warning : NULL/L\n",
      "2020-11-29 13:03:53,251 - thermomodel_None - WARNING - Warning : NULL/L\n",
      "2020-11-29 13:03:53,251 - thermomodel_None - WARNING - Warning : NULL/U\n",
      "2020-11-29 13:03:53,251 - thermomodel_None - WARNING - Warning : NULL/L\n",
      "2020-11-29 13:03:53,251 - thermomodel_None - WARNING - Warning : NULL/L\n",
      "2020-11-29 13:03:53,304 - thermomodel_None - WARNING - Warning : NULL/U\n",
      "2020-11-29 13:03:53,304 - thermomodel_None - WARNING - Warning : NULL/L\n",
      "2020-11-29 13:03:53,304 - thermomodel_None - WARNING - Warning : NULL/L\n",
      "2020-11-29 13:03:53,304 - thermomodel_None - WARNING - Warning : NULL/U\n",
      "2020-11-29 13:03:53,304 - thermomodel_None - WARNING - Warning : NULL/L\n",
      "2020-11-29 13:03:53,304 - thermomodel_None - WARNING - Warning : NULL/L\n",
      "2020-11-29 13:03:53,304 - thermomodel_None - WARNING - Warning : NULL/U\n",
      "2020-11-29 13:03:53,304 - thermomodel_None - WARNING - Warning : NULL/L\n",
      "2020-11-29 13:03:53,304 - thermomodel_None - WARNING - Warning : NULL/L\n",
      "2020-11-29 13:03:53,304 - thermomodel_None - WARNING - Warning : NULL/U\n",
      "2020-11-29 13:03:53,304 - thermomodel_None - WARNING - Warning : NULL/L\n",
      "2020-11-29 13:03:53,320 - thermomodel_None - WARNING - Warning : NULL/L\n",
      "2020-11-29 13:03:53,320 - thermomodel_None - WARNING - Warning : NULL/U\n",
      "2020-11-29 13:03:53,320 - thermomodel_None - WARNING - Warning : NULL/L\n",
      "2020-11-29 13:03:53,320 - thermomodel_None - WARNING - Warning : NULL/L\n",
      "2020-11-29 13:03:53,320 - thermomodel_None - WARNING - Warning : NULL/U\n",
      "2020-11-29 13:03:53,320 - thermomodel_None - WARNING - Warning : NULL/L\n",
      "2020-11-29 13:03:53,320 - thermomodel_None - WARNING - Warning : NULL/L\n",
      "2020-11-29 13:03:53,320 - thermomodel_None - WARNING - Warning : NULL/U\n",
      "2020-11-29 13:03:53,320 - thermomodel_None - WARNING - Warning : NULL/L\n",
      "2020-11-29 13:03:53,320 - thermomodel_None - WARNING - Warning : NULL/L\n",
      "2020-11-29 13:03:53,320 - thermomodel_None - WARNING - Warning : NULL/U\n",
      "2020-11-29 13:03:53,320 - thermomodel_None - WARNING - Warning : NULL/L\n",
      "2020-11-29 13:03:53,320 - thermomodel_None - WARNING - Warning : NULL/L\n",
      "2020-11-29 13:03:53,436 - thermomodel_None - INFO - # Model preparation done.\n",
      "2020-11-29 13:03:53,436 - thermomodel_None - INFO - # Model conversion starting...\n",
      "2020-11-29 13:04:28,358 - thermomodel_None - INFO - # Model conversion done.\n",
      "2020-11-29 13:04:28,358 - thermomodel_None - INFO - # Updating cobra_model variables...\n",
      "2020-11-29 13:04:28,406 - thermomodel_None - INFO - # cobra_model variables are up-to-date\n"
     ]
    },
    {
     "name": "stdout",
     "output_type": "stream",
     "text": [
      "Read LP format model from file C:\\Users\\riheme\\AppData\\Local\\Temp\\tmpy3lzfpcs.lp\n",
      "Reading time = 0.02 seconds\n",
      ": 1807 rows, 5170 columns, 20304 nonzeros\n",
      "Read LP format model from file C:\\Users\\riheme\\AppData\\Local\\Temp\\tmp3vofru72.lp\n",
      "Reading time = 0.02 seconds\n",
      ": 1807 rows, 5170 columns, 20304 nonzeros\n"
     ]
    },
    {
     "name": "stderr",
     "output_type": "stream",
     "text": [
      "2020-11-29 13:04:44,562 - thermomodel_Ecoli PGI (Glc) 2 @ t = 2 - INFO - # Model initialized with units kcal/mol and temperature 298.15 K\n"
     ]
    },
    {
     "name": "stdout",
     "output_type": "stream",
     "text": [
      "Read LP format model from file C:\\Users\\riheme\\AppData\\Local\\Temp\\tmpitjep6sy.lp\n",
      "Reading time = 0.02 seconds\n",
      ": 1807 rows, 5170 columns, 20304 nonzeros\n",
      "Read LP format model from file C:\\Users\\riheme\\AppData\\Local\\Temp\\tmpoubdsr8d.lp\n",
      "Reading time = 0.02 seconds\n",
      ": 1807 rows, 5170 columns, 20304 nonzeros\n"
     ]
    },
    {
     "name": "stderr",
     "output_type": "stream",
     "text": [
      "2020-11-29 13:05:10,174 - thermomodel_Ecoli PGI (Glc) 2 @ t = 2 - INFO - # Model initialized with units kcal/mol and temperature 298.15 K\n",
      "2020-11-29 13:05:19,007 - thermomodel_Ecoli PGI (Glc) 2 @ t = 2 - INFO - Adding slack constraints\n",
      "adding slacks: 100%|███████████████████████████████████████████████████████████████| 1824/1824 [00:38<00:00, 47.83it/s]\n",
      "2020-11-29 13:05:58,783 - thermomodel_Ecoli PGI (Glc) 2 @ t = 2 - INFO - Optimizing slack model\n",
      "2020-11-29 13:06:04,428 - thermomodel_Ecoli PGI (Glc) 2 @ t = 2 - INFO - Extracting relaxation\n",
      "applying slack: 100%|███████████████████████████████████████████████████████████| 2585/2585 [00:00<00:00, 41372.15it/s]\n",
      "2020-11-29 13:06:04,582 - thermomodel_Ecoli PGI (Glc) 2 @ t = 2 - INFO - Testing relaxation\n"
     ]
    },
    {
     "name": "stdout",
     "output_type": "stream",
     "text": [
      "################################################################################\n",
      "Ecoli PGI (Glc) 2 @ t = 3\n",
      "(61.31 min)\n",
      "################################################################################\n",
      "Read LP format model from file C:\\Users\\riheme\\AppData\\Local\\Temp\\tmpmc7r5vmo.lp\n",
      "Reading time = 0.02 seconds\n",
      ": 1807 rows, 5170 columns, 20334 nonzeros\n",
      "Read LP format model from file C:\\Users\\riheme\\AppData\\Local\\Temp\\tmpz53bsof4.lp\n",
      "Reading time = 0.02 seconds\n",
      ": 1807 rows, 5170 columns, 20334 nonzeros\n"
     ]
    },
    {
     "name": "stderr",
     "output_type": "stream",
     "text": [
      "2020-11-29 13:06:19,605 - thermomodel_None - INFO - # Model initialized with units kcal/mol and temperature 298.15 K\n",
      "2020-11-29 13:06:19,613 - thermomodel_None - INFO - # Model preparation starting...\n",
      "2020-11-29 13:06:22,139 - thermomodel_None - WARNING - Warning : NULL/U\n",
      "2020-11-29 13:06:22,139 - thermomodel_None - WARNING - Warning : NULL/L\n",
      "2020-11-29 13:06:22,139 - thermomodel_None - WARNING - Warning : NULL/L\n",
      "2020-11-29 13:06:22,139 - thermomodel_None - WARNING - Warning : NULL/U\n",
      "2020-11-29 13:06:22,141 - thermomodel_None - WARNING - Warning : NULL/L\n",
      "2020-11-29 13:06:22,141 - thermomodel_None - WARNING - Warning : NULL/L\n",
      "2020-11-29 13:06:22,360 - thermomodel_None - WARNING - Warning : NULL/U\n",
      "2020-11-29 13:06:22,360 - thermomodel_None - WARNING - Warning : NULL/L\n",
      "2020-11-29 13:06:22,360 - thermomodel_None - WARNING - Warning : NULL/L\n",
      "2020-11-29 13:06:22,360 - thermomodel_None - WARNING - Warning : NULL/U\n",
      "2020-11-29 13:06:22,360 - thermomodel_None - WARNING - Warning : NULL/L\n",
      "2020-11-29 13:06:22,360 - thermomodel_None - WARNING - Warning : NULL/L\n",
      "2020-11-29 13:06:22,508 - thermomodel_None - WARNING - Warning : NULL/U\n",
      "2020-11-29 13:06:22,508 - thermomodel_None - WARNING - Warning : NULL/L\n",
      "2020-11-29 13:06:22,508 - thermomodel_None - WARNING - Warning : NULL/L\n",
      "2020-11-29 13:06:22,508 - thermomodel_None - WARNING - Warning : NULL/U\n",
      "2020-11-29 13:06:22,508 - thermomodel_None - WARNING - Warning : NULL/L\n",
      "2020-11-29 13:06:22,508 - thermomodel_None - WARNING - Warning : NULL/L\n",
      "2020-11-29 13:06:22,560 - thermomodel_None - WARNING - Warning : NULL/U\n",
      "2020-11-29 13:06:22,560 - thermomodel_None - WARNING - Warning : NULL/L\n",
      "2020-11-29 13:06:22,560 - thermomodel_None - WARNING - Warning : NULL/L\n",
      "2020-11-29 13:06:22,560 - thermomodel_None - WARNING - Warning : NULL/U\n",
      "2020-11-29 13:06:22,560 - thermomodel_None - WARNING - Warning : NULL/L\n",
      "2020-11-29 13:06:22,560 - thermomodel_None - WARNING - Warning : NULL/L\n",
      "2020-11-29 13:06:22,576 - thermomodel_None - WARNING - Warning : NULL/U\n",
      "2020-11-29 13:06:22,576 - thermomodel_None - WARNING - Warning : NULL/L\n",
      "2020-11-29 13:06:22,576 - thermomodel_None - WARNING - Warning : NULL/L\n",
      "2020-11-29 13:06:22,576 - thermomodel_None - WARNING - Warning : NULL/U\n",
      "2020-11-29 13:06:22,576 - thermomodel_None - WARNING - Warning : NULL/L\n",
      "2020-11-29 13:06:22,576 - thermomodel_None - WARNING - Warning : NULL/L\n",
      "2020-11-29 13:06:22,576 - thermomodel_None - WARNING - Warning : NULL/U\n",
      "2020-11-29 13:06:22,576 - thermomodel_None - WARNING - Warning : NULL/L\n",
      "2020-11-29 13:06:22,576 - thermomodel_None - WARNING - Warning : NULL/L\n",
      "2020-11-29 13:06:22,576 - thermomodel_None - WARNING - Warning : NULL/U\n",
      "2020-11-29 13:06:22,576 - thermomodel_None - WARNING - Warning : NULL/L\n",
      "2020-11-29 13:06:22,576 - thermomodel_None - WARNING - Warning : NULL/L\n",
      "2020-11-29 13:06:22,576 - thermomodel_None - WARNING - Warning : NULL/U\n",
      "2020-11-29 13:06:22,576 - thermomodel_None - WARNING - Warning : NULL/L\n",
      "2020-11-29 13:06:22,576 - thermomodel_None - WARNING - Warning : NULL/L\n",
      "2020-11-29 13:06:22,576 - thermomodel_None - WARNING - Warning : NULL/U\n",
      "2020-11-29 13:06:22,576 - thermomodel_None - WARNING - Warning : NULL/L\n",
      "2020-11-29 13:06:22,576 - thermomodel_None - WARNING - Warning : NULL/L\n",
      "2020-11-29 13:06:22,708 - thermomodel_None - INFO - # Model preparation done.\n",
      "2020-11-29 13:06:22,709 - thermomodel_None - INFO - # Model conversion starting...\n",
      "2020-11-29 13:06:57,358 - thermomodel_None - INFO - # Model conversion done.\n",
      "2020-11-29 13:06:57,366 - thermomodel_None - INFO - # Updating cobra_model variables...\n",
      "2020-11-29 13:06:57,407 - thermomodel_None - INFO - # cobra_model variables are up-to-date\n"
     ]
    },
    {
     "name": "stdout",
     "output_type": "stream",
     "text": [
      "Read LP format model from file C:\\Users\\riheme\\AppData\\Local\\Temp\\tmp5su3ji1c.lp\n",
      "Reading time = 0.03 seconds\n",
      ": 1807 rows, 5170 columns, 20304 nonzeros\n",
      "Read LP format model from file C:\\Users\\riheme\\AppData\\Local\\Temp\\tmpucctv5lx.lp\n",
      "Reading time = 0.02 seconds\n",
      ": 1807 rows, 5170 columns, 20304 nonzeros\n"
     ]
    },
    {
     "name": "stderr",
     "output_type": "stream",
     "text": [
      "2020-11-29 13:07:13,855 - thermomodel_Ecoli PGI (Glc) 2 @ t = 3 - INFO - # Model initialized with units kcal/mol and temperature 298.15 K\n"
     ]
    },
    {
     "name": "stdout",
     "output_type": "stream",
     "text": [
      "Read LP format model from file C:\\Users\\riheme\\AppData\\Local\\Temp\\tmp2xwbb5p9.lp\n",
      "Reading time = 0.02 seconds\n",
      ": 1807 rows, 5170 columns, 20304 nonzeros\n",
      "Read LP format model from file C:\\Users\\riheme\\AppData\\Local\\Temp\\tmp8hkkrpzu.lp\n",
      "Reading time = 0.03 seconds\n",
      ": 1807 rows, 5170 columns, 20304 nonzeros\n"
     ]
    },
    {
     "name": "stderr",
     "output_type": "stream",
     "text": [
      "2020-11-29 13:07:39,293 - thermomodel_Ecoli PGI (Glc) 2 @ t = 3 - INFO - # Model initialized with units kcal/mol and temperature 298.15 K\n",
      "2020-11-29 13:07:48,205 - thermomodel_Ecoli PGI (Glc) 2 @ t = 3 - INFO - Adding slack constraints\n",
      "adding slacks: 100%|███████████████████████████████████████████████████████████████| 1824/1824 [00:37<00:00, 48.47it/s]\n",
      "2020-11-29 13:08:27,444 - thermomodel_Ecoli PGI (Glc) 2 @ t = 3 - INFO - Optimizing slack model\n",
      "2020-11-29 13:08:33,602 - thermomodel_Ecoli PGI (Glc) 2 @ t = 3 - INFO - Extracting relaxation\n",
      "applying slack: 100%|███████████████████████████████████████████████████████████| 2585/2585 [00:00<00:00, 41346.12it/s]\n",
      "2020-11-29 13:08:33,752 - thermomodel_Ecoli PGI (Glc) 2 @ t = 3 - INFO - Testing relaxation\n"
     ]
    },
    {
     "name": "stdout",
     "output_type": "stream",
     "text": [
      "################################################################################\n",
      "Ecoli PGI (Glc) 2 @ t = 11\n",
      "(63.80 min)\n",
      "################################################################################\n",
      "Read LP format model from file C:\\Users\\riheme\\AppData\\Local\\Temp\\tmppacmya94.lp\n",
      "Reading time = 0.02 seconds\n",
      ": 1807 rows, 5170 columns, 20334 nonzeros\n",
      "Read LP format model from file C:\\Users\\riheme\\AppData\\Local\\Temp\\tmpvdw3xsjz.lp\n",
      "Reading time = 0.02 seconds\n",
      ": 1807 rows, 5170 columns, 20334 nonzeros\n"
     ]
    },
    {
     "name": "stderr",
     "output_type": "stream",
     "text": [
      "2020-11-29 13:08:48,760 - thermomodel_None - INFO - # Model initialized with units kcal/mol and temperature 298.15 K\n",
      "2020-11-29 13:08:48,768 - thermomodel_None - INFO - # Model preparation starting...\n",
      "2020-11-29 13:08:51,135 - thermomodel_None - WARNING - Warning : NULL/U\n",
      "2020-11-29 13:08:51,135 - thermomodel_None - WARNING - Warning : NULL/L\n",
      "2020-11-29 13:08:51,135 - thermomodel_None - WARNING - Warning : NULL/L\n",
      "2020-11-29 13:08:51,135 - thermomodel_None - WARNING - Warning : NULL/U\n",
      "2020-11-29 13:08:51,135 - thermomodel_None - WARNING - Warning : NULL/L\n",
      "2020-11-29 13:08:51,135 - thermomodel_None - WARNING - Warning : NULL/L\n",
      "2020-11-29 13:08:51,353 - thermomodel_None - WARNING - Warning : NULL/U\n",
      "2020-11-29 13:08:51,353 - thermomodel_None - WARNING - Warning : NULL/L\n",
      "2020-11-29 13:08:51,353 - thermomodel_None - WARNING - Warning : NULL/L\n",
      "2020-11-29 13:08:51,353 - thermomodel_None - WARNING - Warning : NULL/U\n",
      "2020-11-29 13:08:51,353 - thermomodel_None - WARNING - Warning : NULL/L\n",
      "2020-11-29 13:08:51,369 - thermomodel_None - WARNING - Warning : NULL/L\n",
      "2020-11-29 13:08:51,500 - thermomodel_None - WARNING - Warning : NULL/U\n",
      "2020-11-29 13:08:51,500 - thermomodel_None - WARNING - Warning : NULL/L\n",
      "2020-11-29 13:08:51,516 - thermomodel_None - WARNING - Warning : NULL/L\n",
      "2020-11-29 13:08:51,516 - thermomodel_None - WARNING - Warning : NULL/U\n",
      "2020-11-29 13:08:51,516 - thermomodel_None - WARNING - Warning : NULL/L\n",
      "2020-11-29 13:08:51,516 - thermomodel_None - WARNING - Warning : NULL/L\n",
      "2020-11-29 13:08:51,569 - thermomodel_None - WARNING - Warning : NULL/U\n",
      "2020-11-29 13:08:51,569 - thermomodel_None - WARNING - Warning : NULL/L\n",
      "2020-11-29 13:08:51,569 - thermomodel_None - WARNING - Warning : NULL/L\n",
      "2020-11-29 13:08:51,569 - thermomodel_None - WARNING - Warning : NULL/U\n",
      "2020-11-29 13:08:51,569 - thermomodel_None - WARNING - Warning : NULL/L\n",
      "2020-11-29 13:08:51,569 - thermomodel_None - WARNING - Warning : NULL/L\n",
      "2020-11-29 13:08:51,569 - thermomodel_None - WARNING - Warning : NULL/U\n",
      "2020-11-29 13:08:51,569 - thermomodel_None - WARNING - Warning : NULL/L\n",
      "2020-11-29 13:08:51,569 - thermomodel_None - WARNING - Warning : NULL/L\n",
      "2020-11-29 13:08:51,569 - thermomodel_None - WARNING - Warning : NULL/U\n",
      "2020-11-29 13:08:51,569 - thermomodel_None - WARNING - Warning : NULL/L\n",
      "2020-11-29 13:08:51,569 - thermomodel_None - WARNING - Warning : NULL/L\n",
      "2020-11-29 13:08:51,569 - thermomodel_None - WARNING - Warning : NULL/U\n",
      "2020-11-29 13:08:51,569 - thermomodel_None - WARNING - Warning : NULL/L\n",
      "2020-11-29 13:08:51,569 - thermomodel_None - WARNING - Warning : NULL/L\n",
      "2020-11-29 13:08:51,569 - thermomodel_None - WARNING - Warning : NULL/U\n",
      "2020-11-29 13:08:51,585 - thermomodel_None - WARNING - Warning : NULL/L\n",
      "2020-11-29 13:08:51,585 - thermomodel_None - WARNING - Warning : NULL/L\n",
      "2020-11-29 13:08:51,586 - thermomodel_None - WARNING - Warning : NULL/U\n",
      "2020-11-29 13:08:51,587 - thermomodel_None - WARNING - Warning : NULL/L\n",
      "2020-11-29 13:08:51,588 - thermomodel_None - WARNING - Warning : NULL/L\n",
      "2020-11-29 13:08:51,588 - thermomodel_None - WARNING - Warning : NULL/U\n",
      "2020-11-29 13:08:51,589 - thermomodel_None - WARNING - Warning : NULL/L\n",
      "2020-11-29 13:08:51,589 - thermomodel_None - WARNING - Warning : NULL/L\n",
      "2020-11-29 13:08:51,700 - thermomodel_None - INFO - # Model preparation done.\n",
      "2020-11-29 13:08:51,700 - thermomodel_None - INFO - # Model conversion starting...\n",
      "2020-11-29 13:09:26,514 - thermomodel_None - INFO - # Model conversion done.\n",
      "2020-11-29 13:09:26,514 - thermomodel_None - INFO - # Updating cobra_model variables...\n",
      "2020-11-29 13:09:26,555 - thermomodel_None - INFO - # cobra_model variables are up-to-date\n"
     ]
    },
    {
     "name": "stdout",
     "output_type": "stream",
     "text": [
      "Read LP format model from file C:\\Users\\riheme\\AppData\\Local\\Temp\\tmpymlv606e.lp\n",
      "Reading time = 0.02 seconds\n",
      ": 1807 rows, 5170 columns, 20304 nonzeros\n",
      "Read LP format model from file C:\\Users\\riheme\\AppData\\Local\\Temp\\tmpazr6lsvr.lp\n",
      "Reading time = 0.02 seconds\n",
      ": 1807 rows, 5170 columns, 20304 nonzeros\n"
     ]
    },
    {
     "name": "stderr",
     "output_type": "stream",
     "text": [
      "2020-11-29 13:09:42,737 - thermomodel_Ecoli PGI (Glc) 2 @ t = 11 - INFO - # Model initialized with units kcal/mol and temperature 298.15 K\n"
     ]
    },
    {
     "name": "stdout",
     "output_type": "stream",
     "text": [
      "Read LP format model from file C:\\Users\\riheme\\AppData\\Local\\Temp\\tmp_w_yizn5.lp\n",
      "Reading time = 0.02 seconds\n",
      ": 1807 rows, 5170 columns, 20304 nonzeros\n",
      "Read LP format model from file C:\\Users\\riheme\\AppData\\Local\\Temp\\tmp0vpwg7fe.lp\n",
      "Reading time = 0.02 seconds\n",
      ": 1807 rows, 5170 columns, 20304 nonzeros\n"
     ]
    },
    {
     "name": "stderr",
     "output_type": "stream",
     "text": [
      "2020-11-29 13:10:08,803 - thermomodel_Ecoli PGI (Glc) 2 @ t = 11 - INFO - # Model initialized with units kcal/mol and temperature 298.15 K\n",
      "2020-11-29 13:10:17,730 - thermomodel_Ecoli PGI (Glc) 2 @ t = 11 - INFO - Adding slack constraints\n",
      "adding slacks: 100%|███████████████████████████████████████████████████████████████| 1824/1824 [00:38<00:00, 47.91it/s]\n",
      "2020-11-29 13:10:57,408 - thermomodel_Ecoli PGI (Glc) 2 @ t = 11 - INFO - Optimizing slack model\n",
      "2020-11-29 13:11:03,707 - thermomodel_Ecoli PGI (Glc) 2 @ t = 11 - INFO - Extracting relaxation\n",
      "applying slack: 100%|███████████████████████████████████████████████████████████| 2585/2585 [00:00<00:00, 42646.00it/s]\n",
      "2020-11-29 13:11:03,859 - thermomodel_Ecoli PGI (Glc) 2 @ t = 11 - INFO - Testing relaxation\n"
     ]
    },
    {
     "name": "stdout",
     "output_type": "stream",
     "text": [
      "################################################################################\n",
      "Ecoli PGI (Glc) 3 @ t = 1\n",
      "(66.30 min)\n",
      "################################################################################\n",
      "Read LP format model from file C:\\Users\\riheme\\AppData\\Local\\Temp\\tmp641d0gax.lp\n",
      "Reading time = 0.02 seconds\n",
      ": 1807 rows, 5170 columns, 20334 nonzeros\n",
      "Read LP format model from file C:\\Users\\riheme\\AppData\\Local\\Temp\\tmpd1_aseud.lp\n",
      "Reading time = 0.02 seconds\n",
      ": 1807 rows, 5170 columns, 20334 nonzeros\n"
     ]
    },
    {
     "name": "stderr",
     "output_type": "stream",
     "text": [
      "2020-11-29 13:11:19,517 - thermomodel_None - INFO - # Model initialized with units kcal/mol and temperature 298.15 K\n",
      "2020-11-29 13:11:19,525 - thermomodel_None - INFO - # Model preparation starting...\n",
      "2020-11-29 13:11:22,049 - thermomodel_None - WARNING - Warning : NULL/U\n",
      "2020-11-29 13:11:22,049 - thermomodel_None - WARNING - Warning : NULL/L\n",
      "2020-11-29 13:11:22,049 - thermomodel_None - WARNING - Warning : NULL/L\n",
      "2020-11-29 13:11:22,049 - thermomodel_None - WARNING - Warning : NULL/U\n",
      "2020-11-29 13:11:22,049 - thermomodel_None - WARNING - Warning : NULL/L\n",
      "2020-11-29 13:11:22,065 - thermomodel_None - WARNING - Warning : NULL/L\n",
      "2020-11-29 13:11:22,312 - thermomodel_None - WARNING - Warning : NULL/U\n",
      "2020-11-29 13:11:22,312 - thermomodel_None - WARNING - Warning : NULL/L\n",
      "2020-11-29 13:11:22,312 - thermomodel_None - WARNING - Warning : NULL/L\n",
      "2020-11-29 13:11:22,327 - thermomodel_None - WARNING - Warning : NULL/U\n",
      "2020-11-29 13:11:22,327 - thermomodel_None - WARNING - Warning : NULL/L\n",
      "2020-11-29 13:11:22,327 - thermomodel_None - WARNING - Warning : NULL/L\n",
      "2020-11-29 13:11:22,481 - thermomodel_None - WARNING - Warning : NULL/U\n",
      "2020-11-29 13:11:22,481 - thermomodel_None - WARNING - Warning : NULL/L\n",
      "2020-11-29 13:11:22,481 - thermomodel_None - WARNING - Warning : NULL/L\n",
      "2020-11-29 13:11:22,481 - thermomodel_None - WARNING - Warning : NULL/U\n",
      "2020-11-29 13:11:22,481 - thermomodel_None - WARNING - Warning : NULL/L\n",
      "2020-11-29 13:11:22,481 - thermomodel_None - WARNING - Warning : NULL/L\n",
      "2020-11-29 13:11:22,550 - thermomodel_None - WARNING - Warning : NULL/U\n",
      "2020-11-29 13:11:22,550 - thermomodel_None - WARNING - Warning : NULL/L\n",
      "2020-11-29 13:11:22,550 - thermomodel_None - WARNING - Warning : NULL/L\n",
      "2020-11-29 13:11:22,550 - thermomodel_None - WARNING - Warning : NULL/U\n",
      "2020-11-29 13:11:22,550 - thermomodel_None - WARNING - Warning : NULL/L\n",
      "2020-11-29 13:11:22,550 - thermomodel_None - WARNING - Warning : NULL/L\n",
      "2020-11-29 13:11:22,550 - thermomodel_None - WARNING - Warning : NULL/U\n",
      "2020-11-29 13:11:22,550 - thermomodel_None - WARNING - Warning : NULL/L\n",
      "2020-11-29 13:11:22,550 - thermomodel_None - WARNING - Warning : NULL/L\n",
      "2020-11-29 13:11:22,550 - thermomodel_None - WARNING - Warning : NULL/U\n",
      "2020-11-29 13:11:22,550 - thermomodel_None - WARNING - Warning : NULL/L\n",
      "2020-11-29 13:11:22,550 - thermomodel_None - WARNING - Warning : NULL/L\n",
      "2020-11-29 13:11:22,550 - thermomodel_None - WARNING - Warning : NULL/U\n",
      "2020-11-29 13:11:22,550 - thermomodel_None - WARNING - Warning : NULL/L\n",
      "2020-11-29 13:11:22,550 - thermomodel_None - WARNING - Warning : NULL/L\n",
      "2020-11-29 13:11:22,550 - thermomodel_None - WARNING - Warning : NULL/U\n",
      "2020-11-29 13:11:22,550 - thermomodel_None - WARNING - Warning : NULL/L\n",
      "2020-11-29 13:11:22,565 - thermomodel_None - WARNING - Warning : NULL/L\n",
      "2020-11-29 13:11:22,565 - thermomodel_None - WARNING - Warning : NULL/U\n",
      "2020-11-29 13:11:22,565 - thermomodel_None - WARNING - Warning : NULL/L\n",
      "2020-11-29 13:11:22,565 - thermomodel_None - WARNING - Warning : NULL/L\n",
      "2020-11-29 13:11:22,565 - thermomodel_None - WARNING - Warning : NULL/U\n",
      "2020-11-29 13:11:22,565 - thermomodel_None - WARNING - Warning : NULL/L\n",
      "2020-11-29 13:11:22,565 - thermomodel_None - WARNING - Warning : NULL/L\n",
      "2020-11-29 13:11:22,698 - thermomodel_None - INFO - # Model preparation done.\n",
      "2020-11-29 13:11:22,698 - thermomodel_None - INFO - # Model conversion starting...\n",
      "2020-11-29 13:11:57,567 - thermomodel_None - INFO - # Model conversion done.\n",
      "2020-11-29 13:11:57,567 - thermomodel_None - INFO - # Updating cobra_model variables...\n",
      "2020-11-29 13:11:57,607 - thermomodel_None - INFO - # cobra_model variables are up-to-date\n"
     ]
    },
    {
     "name": "stdout",
     "output_type": "stream",
     "text": [
      "Read LP format model from file C:\\Users\\riheme\\AppData\\Local\\Temp\\tmp8vgi7gkq.lp\n",
      "Reading time = 0.02 seconds\n",
      ": 1807 rows, 5170 columns, 20304 nonzeros\n",
      "Read LP format model from file C:\\Users\\riheme\\AppData\\Local\\Temp\\tmpedykeol8.lp\n",
      "Reading time = 0.02 seconds\n",
      ": 1807 rows, 5170 columns, 20304 nonzeros\n"
     ]
    },
    {
     "name": "stderr",
     "output_type": "stream",
     "text": [
      "2020-11-29 13:12:13,658 - thermomodel_Ecoli PGI (Glc) 3 @ t = 1 - INFO - # Model initialized with units kcal/mol and temperature 298.15 K\n"
     ]
    },
    {
     "name": "stdout",
     "output_type": "stream",
     "text": [
      "Read LP format model from file C:\\Users\\riheme\\AppData\\Local\\Temp\\tmp22bjfrc0.lp\n",
      "Reading time = 0.02 seconds\n",
      ": 1807 rows, 5170 columns, 20304 nonzeros\n",
      "Read LP format model from file C:\\Users\\riheme\\AppData\\Local\\Temp\\tmp_9bmdkm3.lp\n",
      "Reading time = 0.02 seconds\n",
      ": 1807 rows, 5170 columns, 20304 nonzeros\n"
     ]
    },
    {
     "name": "stderr",
     "output_type": "stream",
     "text": [
      "2020-11-29 13:12:39,283 - thermomodel_Ecoli PGI (Glc) 3 @ t = 1 - INFO - # Model initialized with units kcal/mol and temperature 298.15 K\n",
      "2020-11-29 13:12:48,219 - thermomodel_Ecoli PGI (Glc) 3 @ t = 1 - INFO - Adding slack constraints\n",
      "adding slacks: 100%|███████████████████████████████████████████████████████████████| 1824/1824 [00:37<00:00, 48.32it/s]\n",
      "2020-11-29 13:13:27,578 - thermomodel_Ecoli PGI (Glc) 3 @ t = 1 - INFO - Optimizing slack model\n",
      "2020-11-29 13:13:34,310 - thermomodel_Ecoli PGI (Glc) 3 @ t = 1 - INFO - Extracting relaxation\n",
      "applying slack: 100%|███████████████████████████████████████████████████████████| 2585/2585 [00:00<00:00, 37453.54it/s]\n",
      "2020-11-29 13:13:34,460 - thermomodel_Ecoli PGI (Glc) 3 @ t = 1 - INFO - Testing relaxation\n"
     ]
    },
    {
     "name": "stdout",
     "output_type": "stream",
     "text": [
      "################################################################################\n",
      "Ecoli PGI (Glc) 3 @ t = 2\n",
      "(68.81 min)\n",
      "################################################################################\n",
      "Read LP format model from file C:\\Users\\riheme\\AppData\\Local\\Temp\\tmpd_h7sr90.lp\n",
      "Reading time = 0.02 seconds\n",
      ": 1807 rows, 5170 columns, 20334 nonzeros\n",
      "Read LP format model from file C:\\Users\\riheme\\AppData\\Local\\Temp\\tmpx9ptm4i7.lp\n",
      "Reading time = 0.02 seconds\n",
      ": 1807 rows, 5170 columns, 20334 nonzeros\n"
     ]
    },
    {
     "name": "stderr",
     "output_type": "stream",
     "text": [
      "2020-11-29 13:13:49,502 - thermomodel_None - INFO - # Model initialized with units kcal/mol and temperature 298.15 K\n",
      "2020-11-29 13:13:49,510 - thermomodel_None - INFO - # Model preparation starting...\n",
      "2020-11-29 13:13:51,893 - thermomodel_None - WARNING - Warning : NULL/U\n",
      "2020-11-29 13:13:51,893 - thermomodel_None - WARNING - Warning : NULL/L\n",
      "2020-11-29 13:13:51,893 - thermomodel_None - WARNING - Warning : NULL/L\n",
      "2020-11-29 13:13:51,893 - thermomodel_None - WARNING - Warning : NULL/U\n",
      "2020-11-29 13:13:51,893 - thermomodel_None - WARNING - Warning : NULL/L\n",
      "2020-11-29 13:13:51,893 - thermomodel_None - WARNING - Warning : NULL/L\n",
      "2020-11-29 13:13:52,104 - thermomodel_None - WARNING - Warning : NULL/U\n",
      "2020-11-29 13:13:52,112 - thermomodel_None - WARNING - Warning : NULL/L\n",
      "2020-11-29 13:13:52,112 - thermomodel_None - WARNING - Warning : NULL/L\n",
      "2020-11-29 13:13:52,112 - thermomodel_None - WARNING - Warning : NULL/U\n",
      "2020-11-29 13:13:52,112 - thermomodel_None - WARNING - Warning : NULL/L\n",
      "2020-11-29 13:13:52,112 - thermomodel_None - WARNING - Warning : NULL/L\n",
      "2020-11-29 13:13:52,254 - thermomodel_None - WARNING - Warning : NULL/U\n",
      "2020-11-29 13:13:52,254 - thermomodel_None - WARNING - Warning : NULL/L\n",
      "2020-11-29 13:13:52,254 - thermomodel_None - WARNING - Warning : NULL/L\n",
      "2020-11-29 13:13:52,254 - thermomodel_None - WARNING - Warning : NULL/U\n",
      "2020-11-29 13:13:52,254 - thermomodel_None - WARNING - Warning : NULL/L\n",
      "2020-11-29 13:13:52,254 - thermomodel_None - WARNING - Warning : NULL/L\n",
      "2020-11-29 13:13:52,316 - thermomodel_None - WARNING - Warning : NULL/U\n",
      "2020-11-29 13:13:52,323 - thermomodel_None - WARNING - Warning : NULL/L\n",
      "2020-11-29 13:13:52,323 - thermomodel_None - WARNING - Warning : NULL/L\n",
      "2020-11-29 13:13:52,323 - thermomodel_None - WARNING - Warning : NULL/U\n",
      "2020-11-29 13:13:52,323 - thermomodel_None - WARNING - Warning : NULL/L\n",
      "2020-11-29 13:13:52,323 - thermomodel_None - WARNING - Warning : NULL/L\n",
      "2020-11-29 13:13:52,323 - thermomodel_None - WARNING - Warning : NULL/U\n",
      "2020-11-29 13:13:52,323 - thermomodel_None - WARNING - Warning : NULL/L\n",
      "2020-11-29 13:13:52,323 - thermomodel_None - WARNING - Warning : NULL/L\n",
      "2020-11-29 13:13:52,323 - thermomodel_None - WARNING - Warning : NULL/U\n",
      "2020-11-29 13:13:52,323 - thermomodel_None - WARNING - Warning : NULL/L\n",
      "2020-11-29 13:13:52,323 - thermomodel_None - WARNING - Warning : NULL/L\n",
      "2020-11-29 13:13:52,323 - thermomodel_None - WARNING - Warning : NULL/U\n",
      "2020-11-29 13:13:52,323 - thermomodel_None - WARNING - Warning : NULL/L\n",
      "2020-11-29 13:13:52,323 - thermomodel_None - WARNING - Warning : NULL/L\n",
      "2020-11-29 13:13:52,323 - thermomodel_None - WARNING - Warning : NULL/U\n",
      "2020-11-29 13:13:52,323 - thermomodel_None - WARNING - Warning : NULL/L\n",
      "2020-11-29 13:13:52,323 - thermomodel_None - WARNING - Warning : NULL/L\n",
      "2020-11-29 13:13:52,323 - thermomodel_None - WARNING - Warning : NULL/U\n",
      "2020-11-29 13:13:52,323 - thermomodel_None - WARNING - Warning : NULL/L\n",
      "2020-11-29 13:13:52,323 - thermomodel_None - WARNING - Warning : NULL/L\n",
      "2020-11-29 13:13:52,323 - thermomodel_None - WARNING - Warning : NULL/U\n",
      "2020-11-29 13:13:52,323 - thermomodel_None - WARNING - Warning : NULL/L\n",
      "2020-11-29 13:13:52,338 - thermomodel_None - WARNING - Warning : NULL/L\n",
      "2020-11-29 13:13:52,454 - thermomodel_None - INFO - # Model preparation done.\n",
      "2020-11-29 13:13:52,454 - thermomodel_None - INFO - # Model conversion starting...\n",
      "2020-11-29 13:14:27,332 - thermomodel_None - INFO - # Model conversion done.\n",
      "2020-11-29 13:14:27,332 - thermomodel_None - INFO - # Updating cobra_model variables...\n",
      "2020-11-29 13:14:27,366 - thermomodel_None - INFO - # cobra_model variables are up-to-date\n"
     ]
    },
    {
     "name": "stdout",
     "output_type": "stream",
     "text": [
      "Read LP format model from file C:\\Users\\riheme\\AppData\\Local\\Temp\\tmpgaeo4obh.lp\n",
      "Reading time = 0.02 seconds\n",
      ": 1807 rows, 5170 columns, 20304 nonzeros\n",
      "Read LP format model from file C:\\Users\\riheme\\AppData\\Local\\Temp\\tmp9ge5v1vv.lp\n",
      "Reading time = 0.02 seconds\n",
      ": 1807 rows, 5170 columns, 20304 nonzeros\n"
     ]
    },
    {
     "name": "stderr",
     "output_type": "stream",
     "text": [
      "2020-11-29 13:14:43,432 - thermomodel_Ecoli PGI (Glc) 3 @ t = 2 - INFO - # Model initialized with units kcal/mol and temperature 298.15 K\n"
     ]
    },
    {
     "name": "stdout",
     "output_type": "stream",
     "text": [
      "Read LP format model from file C:\\Users\\riheme\\AppData\\Local\\Temp\\tmpw4u60mqv.lp\n",
      "Reading time = 0.03 seconds\n",
      ": 1807 rows, 5170 columns, 20304 nonzeros\n",
      "Read LP format model from file C:\\Users\\riheme\\AppData\\Local\\Temp\\tmpy6jtw34_.lp\n",
      "Reading time = 0.02 seconds\n",
      ": 1807 rows, 5170 columns, 20304 nonzeros\n"
     ]
    },
    {
     "name": "stderr",
     "output_type": "stream",
     "text": [
      "2020-11-29 13:15:08,960 - thermomodel_Ecoli PGI (Glc) 3 @ t = 2 - INFO - # Model initialized with units kcal/mol and temperature 298.15 K\n",
      "2020-11-29 13:15:17,841 - thermomodel_Ecoli PGI (Glc) 3 @ t = 2 - INFO - Adding slack constraints\n",
      "adding slacks: 100%|███████████████████████████████████████████████████████████████| 1824/1824 [00:38<00:00, 47.86it/s]\n",
      "2020-11-29 13:15:57,548 - thermomodel_Ecoli PGI (Glc) 3 @ t = 2 - INFO - Optimizing slack model\n",
      "2020-11-29 13:16:02,006 - thermomodel_Ecoli PGI (Glc) 3 @ t = 2 - INFO - Extracting relaxation\n",
      "applying slack: 100%|███████████████████████████████████████████████████████████| 2585/2585 [00:00<00:00, 50230.84it/s]\n",
      "2020-11-29 13:16:02,147 - thermomodel_Ecoli PGI (Glc) 3 @ t = 2 - INFO - Testing relaxation\n"
     ]
    },
    {
     "name": "stdout",
     "output_type": "stream",
     "text": [
      "################################################################################\n",
      "Ecoli PGI (Glc) 3 @ t = 3\n",
      "(71.27 min)\n",
      "################################################################################\n",
      "Read LP format model from file C:\\Users\\riheme\\AppData\\Local\\Temp\\tmp8gl182lx.lp\n",
      "Reading time = 0.02 seconds\n",
      ": 1807 rows, 5170 columns, 20334 nonzeros\n",
      "Read LP format model from file C:\\Users\\riheme\\AppData\\Local\\Temp\\tmpjnoef9w4.lp\n",
      "Reading time = 0.02 seconds\n",
      ": 1807 rows, 5170 columns, 20334 nonzeros\n"
     ]
    },
    {
     "name": "stderr",
     "output_type": "stream",
     "text": [
      "2020-11-29 13:16:16,949 - thermomodel_None - INFO - # Model initialized with units kcal/mol and temperature 298.15 K\n",
      "2020-11-29 13:16:16,960 - thermomodel_None - INFO - # Model preparation starting...\n",
      "2020-11-29 13:16:19,315 - thermomodel_None - WARNING - Warning : NULL/U\n",
      "2020-11-29 13:16:19,317 - thermomodel_None - WARNING - Warning : NULL/L\n",
      "2020-11-29 13:16:19,317 - thermomodel_None - WARNING - Warning : NULL/L\n",
      "2020-11-29 13:16:19,317 - thermomodel_None - WARNING - Warning : NULL/U\n",
      "2020-11-29 13:16:19,317 - thermomodel_None - WARNING - Warning : NULL/L\n",
      "2020-11-29 13:16:19,317 - thermomodel_None - WARNING - Warning : NULL/L\n",
      "2020-11-29 13:16:19,535 - thermomodel_None - WARNING - Warning : NULL/U\n",
      "2020-11-29 13:16:19,551 - thermomodel_None - WARNING - Warning : NULL/L\n",
      "2020-11-29 13:16:19,551 - thermomodel_None - WARNING - Warning : NULL/L\n",
      "2020-11-29 13:16:19,551 - thermomodel_None - WARNING - Warning : NULL/U\n",
      "2020-11-29 13:16:19,551 - thermomodel_None - WARNING - Warning : NULL/L\n",
      "2020-11-29 13:16:19,551 - thermomodel_None - WARNING - Warning : NULL/L\n",
      "2020-11-29 13:16:19,682 - thermomodel_None - WARNING - Warning : NULL/U\n",
      "2020-11-29 13:16:19,682 - thermomodel_None - WARNING - Warning : NULL/L\n",
      "2020-11-29 13:16:19,682 - thermomodel_None - WARNING - Warning : NULL/L\n",
      "2020-11-29 13:16:19,682 - thermomodel_None - WARNING - Warning : NULL/U\n",
      "2020-11-29 13:16:19,682 - thermomodel_None - WARNING - Warning : NULL/L\n",
      "2020-11-29 13:16:19,682 - thermomodel_None - WARNING - Warning : NULL/L\n",
      "2020-11-29 13:16:19,751 - thermomodel_None - WARNING - Warning : NULL/U\n",
      "2020-11-29 13:16:19,751 - thermomodel_None - WARNING - Warning : NULL/L\n",
      "2020-11-29 13:16:19,751 - thermomodel_None - WARNING - Warning : NULL/L\n",
      "2020-11-29 13:16:19,751 - thermomodel_None - WARNING - Warning : NULL/U\n",
      "2020-11-29 13:16:19,751 - thermomodel_None - WARNING - Warning : NULL/L\n",
      "2020-11-29 13:16:19,751 - thermomodel_None - WARNING - Warning : NULL/L\n",
      "2020-11-29 13:16:19,751 - thermomodel_None - WARNING - Warning : NULL/U\n",
      "2020-11-29 13:16:19,751 - thermomodel_None - WARNING - Warning : NULL/L\n",
      "2020-11-29 13:16:19,751 - thermomodel_None - WARNING - Warning : NULL/L\n",
      "2020-11-29 13:16:19,751 - thermomodel_None - WARNING - Warning : NULL/U\n",
      "2020-11-29 13:16:19,751 - thermomodel_None - WARNING - Warning : NULL/L\n",
      "2020-11-29 13:16:19,751 - thermomodel_None - WARNING - Warning : NULL/L\n",
      "2020-11-29 13:16:19,751 - thermomodel_None - WARNING - Warning : NULL/U\n",
      "2020-11-29 13:16:19,751 - thermomodel_None - WARNING - Warning : NULL/L\n",
      "2020-11-29 13:16:19,751 - thermomodel_None - WARNING - Warning : NULL/L\n",
      "2020-11-29 13:16:19,751 - thermomodel_None - WARNING - Warning : NULL/U\n",
      "2020-11-29 13:16:19,751 - thermomodel_None - WARNING - Warning : NULL/L\n",
      "2020-11-29 13:16:19,751 - thermomodel_None - WARNING - Warning : NULL/L\n",
      "2020-11-29 13:16:19,751 - thermomodel_None - WARNING - Warning : NULL/U\n",
      "2020-11-29 13:16:19,751 - thermomodel_None - WARNING - Warning : NULL/L\n",
      "2020-11-29 13:16:19,751 - thermomodel_None - WARNING - Warning : NULL/L\n",
      "2020-11-29 13:16:19,751 - thermomodel_None - WARNING - Warning : NULL/U\n",
      "2020-11-29 13:16:19,767 - thermomodel_None - WARNING - Warning : NULL/L\n",
      "2020-11-29 13:16:19,767 - thermomodel_None - WARNING - Warning : NULL/L\n",
      "2020-11-29 13:16:19,883 - thermomodel_None - INFO - # Model preparation done.\n",
      "2020-11-29 13:16:19,883 - thermomodel_None - INFO - # Model conversion starting...\n",
      "2020-11-29 13:16:54,734 - thermomodel_None - INFO - # Model conversion done.\n",
      "2020-11-29 13:16:54,734 - thermomodel_None - INFO - # Updating cobra_model variables...\n",
      "2020-11-29 13:16:54,785 - thermomodel_None - INFO - # cobra_model variables are up-to-date\n"
     ]
    },
    {
     "name": "stdout",
     "output_type": "stream",
     "text": [
      "Read LP format model from file C:\\Users\\riheme\\AppData\\Local\\Temp\\tmppz8vdghe.lp\n",
      "Reading time = 0.02 seconds\n",
      ": 1807 rows, 5170 columns, 20304 nonzeros\n",
      "Read LP format model from file C:\\Users\\riheme\\AppData\\Local\\Temp\\tmppashc_oq.lp\n",
      "Reading time = 0.02 seconds\n",
      ": 1807 rows, 5170 columns, 20304 nonzeros\n"
     ]
    },
    {
     "name": "stderr",
     "output_type": "stream",
     "text": [
      "2020-11-29 13:17:10,907 - thermomodel_Ecoli PGI (Glc) 3 @ t = 3 - INFO - # Model initialized with units kcal/mol and temperature 298.15 K\n"
     ]
    },
    {
     "name": "stdout",
     "output_type": "stream",
     "text": [
      "Read LP format model from file C:\\Users\\riheme\\AppData\\Local\\Temp\\tmphf3qhx1p.lp\n",
      "Reading time = 0.02 seconds\n",
      ": 1807 rows, 5170 columns, 20304 nonzeros\n",
      "Read LP format model from file C:\\Users\\riheme\\AppData\\Local\\Temp\\tmpjtar5dna.lp\n",
      "Reading time = 0.02 seconds\n",
      ": 1807 rows, 5170 columns, 20304 nonzeros\n"
     ]
    },
    {
     "name": "stderr",
     "output_type": "stream",
     "text": [
      "2020-11-29 13:17:36,656 - thermomodel_Ecoli PGI (Glc) 3 @ t = 3 - INFO - # Model initialized with units kcal/mol and temperature 298.15 K\n",
      "2020-11-29 13:17:45,685 - thermomodel_Ecoli PGI (Glc) 3 @ t = 3 - INFO - Adding slack constraints\n",
      "adding slacks: 100%|███████████████████████████████████████████████████████████████| 1824/1824 [00:38<00:00, 47.65it/s]\n",
      "2020-11-29 13:18:25,743 - thermomodel_Ecoli PGI (Glc) 3 @ t = 3 - INFO - Optimizing slack model\n",
      "2020-11-29 13:18:31,850 - thermomodel_Ecoli PGI (Glc) 3 @ t = 3 - INFO - Extracting relaxation\n",
      "applying slack: 100%|███████████████████████████████████████████████████████████| 2585/2585 [00:00<00:00, 52451.37it/s]\n",
      "2020-11-29 13:18:31,997 - thermomodel_Ecoli PGI (Glc) 3 @ t = 3 - INFO - Testing relaxation\n"
     ]
    },
    {
     "name": "stdout",
     "output_type": "stream",
     "text": [
      "################################################################################\n",
      "Ecoli PGI (Glc) 3 @ t = 11\n",
      "(73.77 min)\n",
      "################################################################################\n",
      "Read LP format model from file C:\\Users\\riheme\\AppData\\Local\\Temp\\tmplnxkx81n.lp\n",
      "Reading time = 0.02 seconds\n",
      ": 1807 rows, 5170 columns, 20334 nonzeros\n",
      "Read LP format model from file C:\\Users\\riheme\\AppData\\Local\\Temp\\tmp1ndd_22n.lp\n",
      "Reading time = 0.02 seconds\n",
      ": 1807 rows, 5170 columns, 20334 nonzeros\n"
     ]
    },
    {
     "name": "stderr",
     "output_type": "stream",
     "text": [
      "2020-11-29 13:18:46,922 - thermomodel_None - INFO - # Model initialized with units kcal/mol and temperature 298.15 K\n",
      "2020-11-29 13:18:46,930 - thermomodel_None - INFO - # Model preparation starting...\n",
      "2020-11-29 13:18:49,312 - thermomodel_None - WARNING - Warning : NULL/U\n",
      "2020-11-29 13:18:49,312 - thermomodel_None - WARNING - Warning : NULL/L\n",
      "2020-11-29 13:18:49,312 - thermomodel_None - WARNING - Warning : NULL/L\n",
      "2020-11-29 13:18:49,320 - thermomodel_None - WARNING - Warning : NULL/U\n",
      "2020-11-29 13:18:49,320 - thermomodel_None - WARNING - Warning : NULL/L\n",
      "2020-11-29 13:18:49,320 - thermomodel_None - WARNING - Warning : NULL/L\n",
      "2020-11-29 13:18:49,546 - thermomodel_None - WARNING - Warning : NULL/U\n",
      "2020-11-29 13:18:49,546 - thermomodel_None - WARNING - Warning : NULL/L\n",
      "2020-11-29 13:18:49,546 - thermomodel_None - WARNING - Warning : NULL/L\n",
      "2020-11-29 13:18:49,546 - thermomodel_None - WARNING - Warning : NULL/U\n",
      "2020-11-29 13:18:49,546 - thermomodel_None - WARNING - Warning : NULL/L\n",
      "2020-11-29 13:18:49,546 - thermomodel_None - WARNING - Warning : NULL/L\n",
      "2020-11-29 13:18:49,693 - thermomodel_None - WARNING - Warning : NULL/U\n",
      "2020-11-29 13:18:49,693 - thermomodel_None - WARNING - Warning : NULL/L\n",
      "2020-11-29 13:18:49,693 - thermomodel_None - WARNING - Warning : NULL/L\n",
      "2020-11-29 13:18:49,693 - thermomodel_None - WARNING - Warning : NULL/U\n",
      "2020-11-29 13:18:49,693 - thermomodel_None - WARNING - Warning : NULL/L\n",
      "2020-11-29 13:18:49,693 - thermomodel_None - WARNING - Warning : NULL/L\n",
      "2020-11-29 13:18:49,747 - thermomodel_None - WARNING - Warning : NULL/U\n",
      "2020-11-29 13:18:49,747 - thermomodel_None - WARNING - Warning : NULL/L\n",
      "2020-11-29 13:18:49,762 - thermomodel_None - WARNING - Warning : NULL/L\n",
      "2020-11-29 13:18:49,762 - thermomodel_None - WARNING - Warning : NULL/U\n",
      "2020-11-29 13:18:49,762 - thermomodel_None - WARNING - Warning : NULL/L\n",
      "2020-11-29 13:18:49,762 - thermomodel_None - WARNING - Warning : NULL/L\n",
      "2020-11-29 13:18:49,762 - thermomodel_None - WARNING - Warning : NULL/U\n",
      "2020-11-29 13:18:49,762 - thermomodel_None - WARNING - Warning : NULL/L\n",
      "2020-11-29 13:18:49,762 - thermomodel_None - WARNING - Warning : NULL/L\n",
      "2020-11-29 13:18:49,762 - thermomodel_None - WARNING - Warning : NULL/U\n",
      "2020-11-29 13:18:49,762 - thermomodel_None - WARNING - Warning : NULL/L\n",
      "2020-11-29 13:18:49,762 - thermomodel_None - WARNING - Warning : NULL/L\n",
      "2020-11-29 13:18:49,762 - thermomodel_None - WARNING - Warning : NULL/U\n",
      "2020-11-29 13:18:49,762 - thermomodel_None - WARNING - Warning : NULL/L\n",
      "2020-11-29 13:18:49,762 - thermomodel_None - WARNING - Warning : NULL/L\n",
      "2020-11-29 13:18:49,762 - thermomodel_None - WARNING - Warning : NULL/U\n",
      "2020-11-29 13:18:49,762 - thermomodel_None - WARNING - Warning : NULL/L\n",
      "2020-11-29 13:18:49,762 - thermomodel_None - WARNING - Warning : NULL/L\n",
      "2020-11-29 13:18:49,762 - thermomodel_None - WARNING - Warning : NULL/U\n",
      "2020-11-29 13:18:49,762 - thermomodel_None - WARNING - Warning : NULL/L\n",
      "2020-11-29 13:18:49,762 - thermomodel_None - WARNING - Warning : NULL/L\n",
      "2020-11-29 13:18:49,762 - thermomodel_None - WARNING - Warning : NULL/U\n",
      "2020-11-29 13:18:49,762 - thermomodel_None - WARNING - Warning : NULL/L\n",
      "2020-11-29 13:18:49,762 - thermomodel_None - WARNING - Warning : NULL/L\n",
      "2020-11-29 13:18:49,895 - thermomodel_None - INFO - # Model preparation done.\n",
      "2020-11-29 13:18:49,895 - thermomodel_None - INFO - # Model conversion starting...\n",
      "2020-11-29 13:19:25,070 - thermomodel_None - INFO - # Model conversion done.\n",
      "2020-11-29 13:19:25,070 - thermomodel_None - INFO - # Updating cobra_model variables...\n",
      "2020-11-29 13:19:25,121 - thermomodel_None - INFO - # cobra_model variables are up-to-date\n"
     ]
    },
    {
     "name": "stdout",
     "output_type": "stream",
     "text": [
      "Read LP format model from file C:\\Users\\riheme\\AppData\\Local\\Temp\\tmpgk3bo6my.lp\n",
      "Reading time = 0.02 seconds\n",
      ": 1807 rows, 5170 columns, 20304 nonzeros\n",
      "Read LP format model from file C:\\Users\\riheme\\AppData\\Local\\Temp\\tmp1tyqw2rd.lp\n",
      "Reading time = 0.02 seconds\n",
      ": 1807 rows, 5170 columns, 20304 nonzeros\n"
     ]
    },
    {
     "name": "stderr",
     "output_type": "stream",
     "text": [
      "2020-11-29 13:19:41,793 - thermomodel_Ecoli PGI (Glc) 3 @ t = 11 - INFO - # Model initialized with units kcal/mol and temperature 298.15 K\n"
     ]
    },
    {
     "name": "stdout",
     "output_type": "stream",
     "text": [
      "Read LP format model from file C:\\Users\\riheme\\AppData\\Local\\Temp\\tmpdbjx85q9.lp\n",
      "Reading time = 0.02 seconds\n",
      ": 1807 rows, 5170 columns, 20304 nonzeros\n",
      "Read LP format model from file C:\\Users\\riheme\\AppData\\Local\\Temp\\tmpg62ov487.lp\n",
      "Reading time = 0.02 seconds\n",
      ": 1807 rows, 5170 columns, 20304 nonzeros\n"
     ]
    },
    {
     "name": "stderr",
     "output_type": "stream",
     "text": [
      "2020-11-29 13:20:07,144 - thermomodel_Ecoli PGI (Glc) 3 @ t = 11 - INFO - # Model initialized with units kcal/mol and temperature 298.15 K\n",
      "2020-11-29 13:20:16,031 - thermomodel_Ecoli PGI (Glc) 3 @ t = 11 - INFO - Adding slack constraints\n",
      "adding slacks: 100%|███████████████████████████████████████████████████████████████| 1824/1824 [00:37<00:00, 48.82it/s]\n",
      "2020-11-29 13:20:55,012 - thermomodel_Ecoli PGI (Glc) 3 @ t = 11 - INFO - Optimizing slack model\n",
      "2020-11-29 13:21:00,953 - thermomodel_Ecoli PGI (Glc) 3 @ t = 11 - INFO - Extracting relaxation\n",
      "applying slack: 100%|███████████████████████████████████████████████████████████| 2585/2585 [00:00<00:00, 37447.07it/s]\n",
      "2020-11-29 13:21:01,102 - thermomodel_Ecoli PGI (Glc) 3 @ t = 11 - INFO - Testing relaxation\n"
     ]
    },
    {
     "name": "stdout",
     "output_type": "stream",
     "text": [
      "################################################################################\n",
      "Ecoli PGI (Glc) 4 @ t = 1\n",
      "(76.25 min)\n",
      "################################################################################\n",
      "Read LP format model from file C:\\Users\\riheme\\AppData\\Local\\Temp\\tmp5pkqiya1.lp\n",
      "Reading time = 0.02 seconds\n",
      ": 1807 rows, 5170 columns, 20334 nonzeros\n",
      "Read LP format model from file C:\\Users\\riheme\\AppData\\Local\\Temp\\tmpm65uj74k.lp\n",
      "Reading time = 0.03 seconds\n",
      ": 1807 rows, 5170 columns, 20334 nonzeros\n"
     ]
    },
    {
     "name": "stderr",
     "output_type": "stream",
     "text": [
      "2020-11-29 13:21:15,814 - thermomodel_None - INFO - # Model initialized with units kcal/mol and temperature 298.15 K\n",
      "2020-11-29 13:21:15,822 - thermomodel_None - INFO - # Model preparation starting...\n",
      "2020-11-29 13:21:18,237 - thermomodel_None - WARNING - Warning : NULL/U\n",
      "2020-11-29 13:21:18,237 - thermomodel_None - WARNING - Warning : NULL/L\n",
      "2020-11-29 13:21:18,237 - thermomodel_None - WARNING - Warning : NULL/L\n",
      "2020-11-29 13:21:18,237 - thermomodel_None - WARNING - Warning : NULL/U\n",
      "2020-11-29 13:21:18,245 - thermomodel_None - WARNING - Warning : NULL/L\n",
      "2020-11-29 13:21:18,245 - thermomodel_None - WARNING - Warning : NULL/L\n",
      "2020-11-29 13:21:18,456 - thermomodel_None - WARNING - Warning : NULL/U\n",
      "2020-11-29 13:21:18,456 - thermomodel_None - WARNING - Warning : NULL/L\n",
      "2020-11-29 13:21:18,456 - thermomodel_None - WARNING - Warning : NULL/L\n",
      "2020-11-29 13:21:18,456 - thermomodel_None - WARNING - Warning : NULL/U\n",
      "2020-11-29 13:21:18,456 - thermomodel_None - WARNING - Warning : NULL/L\n",
      "2020-11-29 13:21:18,456 - thermomodel_None - WARNING - Warning : NULL/L\n",
      "2020-11-29 13:21:18,603 - thermomodel_None - WARNING - Warning : NULL/U\n",
      "2020-11-29 13:21:18,603 - thermomodel_None - WARNING - Warning : NULL/L\n",
      "2020-11-29 13:21:18,603 - thermomodel_None - WARNING - Warning : NULL/L\n",
      "2020-11-29 13:21:18,603 - thermomodel_None - WARNING - Warning : NULL/U\n",
      "2020-11-29 13:21:18,603 - thermomodel_None - WARNING - Warning : NULL/L\n",
      "2020-11-29 13:21:18,603 - thermomodel_None - WARNING - Warning : NULL/L\n",
      "2020-11-29 13:21:18,672 - thermomodel_None - WARNING - Warning : NULL/U\n",
      "2020-11-29 13:21:18,672 - thermomodel_None - WARNING - Warning : NULL/L\n",
      "2020-11-29 13:21:18,672 - thermomodel_None - WARNING - Warning : NULL/L\n",
      "2020-11-29 13:21:18,672 - thermomodel_None - WARNING - Warning : NULL/U\n",
      "2020-11-29 13:21:18,672 - thermomodel_None - WARNING - Warning : NULL/L\n",
      "2020-11-29 13:21:18,672 - thermomodel_None - WARNING - Warning : NULL/L\n",
      "2020-11-29 13:21:18,672 - thermomodel_None - WARNING - Warning : NULL/U\n",
      "2020-11-29 13:21:18,672 - thermomodel_None - WARNING - Warning : NULL/L\n",
      "2020-11-29 13:21:18,672 - thermomodel_None - WARNING - Warning : NULL/L\n",
      "2020-11-29 13:21:18,672 - thermomodel_None - WARNING - Warning : NULL/U\n",
      "2020-11-29 13:21:18,672 - thermomodel_None - WARNING - Warning : NULL/L\n",
      "2020-11-29 13:21:18,672 - thermomodel_None - WARNING - Warning : NULL/L\n",
      "2020-11-29 13:21:18,672 - thermomodel_None - WARNING - Warning : NULL/U\n",
      "2020-11-29 13:21:18,672 - thermomodel_None - WARNING - Warning : NULL/L\n",
      "2020-11-29 13:21:18,672 - thermomodel_None - WARNING - Warning : NULL/L\n",
      "2020-11-29 13:21:18,672 - thermomodel_None - WARNING - Warning : NULL/U\n",
      "2020-11-29 13:21:18,672 - thermomodel_None - WARNING - Warning : NULL/L\n",
      "2020-11-29 13:21:18,672 - thermomodel_None - WARNING - Warning : NULL/L\n",
      "2020-11-29 13:21:18,672 - thermomodel_None - WARNING - Warning : NULL/U\n",
      "2020-11-29 13:21:18,687 - thermomodel_None - WARNING - Warning : NULL/L\n",
      "2020-11-29 13:21:18,687 - thermomodel_None - WARNING - Warning : NULL/L\n",
      "2020-11-29 13:21:18,687 - thermomodel_None - WARNING - Warning : NULL/U\n",
      "2020-11-29 13:21:18,687 - thermomodel_None - WARNING - Warning : NULL/L\n",
      "2020-11-29 13:21:18,687 - thermomodel_None - WARNING - Warning : NULL/L\n",
      "2020-11-29 13:21:18,803 - thermomodel_None - INFO - # Model preparation done.\n",
      "2020-11-29 13:21:18,803 - thermomodel_None - INFO - # Model conversion starting...\n",
      "2020-11-29 13:21:53,846 - thermomodel_None - INFO - # Model conversion done.\n",
      "2020-11-29 13:21:53,846 - thermomodel_None - INFO - # Updating cobra_model variables...\n",
      "2020-11-29 13:21:53,897 - thermomodel_None - INFO - # cobra_model variables are up-to-date\n"
     ]
    },
    {
     "name": "stdout",
     "output_type": "stream",
     "text": [
      "Read LP format model from file C:\\Users\\riheme\\AppData\\Local\\Temp\\tmp4f8pt_mx.lp\n",
      "Reading time = 0.02 seconds\n",
      ": 1807 rows, 5170 columns, 20304 nonzeros\n",
      "Read LP format model from file C:\\Users\\riheme\\AppData\\Local\\Temp\\tmpgdfdd18w.lp\n",
      "Reading time = 0.02 seconds\n",
      ": 1807 rows, 5170 columns, 20304 nonzeros\n"
     ]
    },
    {
     "name": "stderr",
     "output_type": "stream",
     "text": [
      "2020-11-29 13:22:09,954 - thermomodel_Ecoli PGI (Glc) 4 @ t = 1 - INFO - # Model initialized with units kcal/mol and temperature 298.15 K\n"
     ]
    },
    {
     "name": "stdout",
     "output_type": "stream",
     "text": [
      "Read LP format model from file C:\\Users\\riheme\\AppData\\Local\\Temp\\tmpdh9yle09.lp\n",
      "Reading time = 0.02 seconds\n",
      ": 1807 rows, 5170 columns, 20304 nonzeros\n",
      "Read LP format model from file C:\\Users\\riheme\\AppData\\Local\\Temp\\tmpxixg7yzv.lp\n",
      "Reading time = 0.02 seconds\n",
      ": 1807 rows, 5170 columns, 20304 nonzeros\n"
     ]
    },
    {
     "name": "stderr",
     "output_type": "stream",
     "text": [
      "2020-11-29 13:22:35,722 - thermomodel_Ecoli PGI (Glc) 4 @ t = 1 - INFO - # Model initialized with units kcal/mol and temperature 298.15 K\n",
      "2020-11-29 13:22:45,324 - thermomodel_Ecoli PGI (Glc) 4 @ t = 1 - INFO - Adding slack constraints\n",
      "adding slacks: 100%|███████████████████████████████████████████████████████████████| 1824/1824 [00:37<00:00, 49.16it/s]\n",
      "2020-11-29 13:23:24,044 - thermomodel_Ecoli PGI (Glc) 4 @ t = 1 - INFO - Optimizing slack model\n",
      "2020-11-29 13:23:29,899 - thermomodel_Ecoli PGI (Glc) 4 @ t = 1 - INFO - Extracting relaxation\n",
      "applying slack: 100%|███████████████████████████████████████████████████████████| 2585/2585 [00:00<00:00, 42703.95it/s]\n",
      "2020-11-29 13:23:30,044 - thermomodel_Ecoli PGI (Glc) 4 @ t = 1 - INFO - Testing relaxation\n"
     ]
    },
    {
     "name": "stdout",
     "output_type": "stream",
     "text": [
      "################################################################################\n",
      "Ecoli PGI (Glc) 4 @ t = 2\n",
      "(78.74 min)\n",
      "################################################################################\n",
      "Read LP format model from file C:\\Users\\riheme\\AppData\\Local\\Temp\\tmpbmn64jt0.lp\n",
      "Reading time = 0.02 seconds\n",
      ": 1807 rows, 5170 columns, 20334 nonzeros\n",
      "Read LP format model from file C:\\Users\\riheme\\AppData\\Local\\Temp\\tmpn85avpm0.lp\n",
      "Reading time = 0.02 seconds\n",
      ": 1807 rows, 5170 columns, 20334 nonzeros\n"
     ]
    },
    {
     "name": "stderr",
     "output_type": "stream",
     "text": [
      "2020-11-29 13:23:45,032 - thermomodel_None - INFO - # Model initialized with units kcal/mol and temperature 298.15 K\n",
      "2020-11-29 13:23:45,043 - thermomodel_None - INFO - # Model preparation starting...\n",
      "2020-11-29 13:23:47,482 - thermomodel_None - WARNING - Warning : NULL/U\n",
      "2020-11-29 13:23:47,482 - thermomodel_None - WARNING - Warning : NULL/L\n",
      "2020-11-29 13:23:47,482 - thermomodel_None - WARNING - Warning : NULL/L\n",
      "2020-11-29 13:23:47,482 - thermomodel_None - WARNING - Warning : NULL/U\n",
      "2020-11-29 13:23:47,482 - thermomodel_None - WARNING - Warning : NULL/L\n",
      "2020-11-29 13:23:47,482 - thermomodel_None - WARNING - Warning : NULL/L\n",
      "2020-11-29 13:23:47,701 - thermomodel_None - WARNING - Warning : NULL/U\n",
      "2020-11-29 13:23:47,701 - thermomodel_None - WARNING - Warning : NULL/L\n",
      "2020-11-29 13:23:47,701 - thermomodel_None - WARNING - Warning : NULL/L\n",
      "2020-11-29 13:23:47,716 - thermomodel_None - WARNING - Warning : NULL/U\n",
      "2020-11-29 13:23:47,716 - thermomodel_None - WARNING - Warning : NULL/L\n",
      "2020-11-29 13:23:47,716 - thermomodel_None - WARNING - Warning : NULL/L\n",
      "2020-11-29 13:23:47,848 - thermomodel_None - WARNING - Warning : NULL/U\n",
      "2020-11-29 13:23:47,848 - thermomodel_None - WARNING - Warning : NULL/L\n",
      "2020-11-29 13:23:47,848 - thermomodel_None - WARNING - Warning : NULL/L\n",
      "2020-11-29 13:23:47,863 - thermomodel_None - WARNING - Warning : NULL/U\n",
      "2020-11-29 13:23:47,863 - thermomodel_None - WARNING - Warning : NULL/L\n",
      "2020-11-29 13:23:47,863 - thermomodel_None - WARNING - Warning : NULL/L\n",
      "2020-11-29 13:23:47,918 - thermomodel_None - WARNING - Warning : NULL/U\n",
      "2020-11-29 13:23:47,918 - thermomodel_None - WARNING - Warning : NULL/L\n",
      "2020-11-29 13:23:47,918 - thermomodel_None - WARNING - Warning : NULL/L\n",
      "2020-11-29 13:23:47,918 - thermomodel_None - WARNING - Warning : NULL/U\n",
      "2020-11-29 13:23:47,918 - thermomodel_None - WARNING - Warning : NULL/L\n",
      "2020-11-29 13:23:47,918 - thermomodel_None - WARNING - Warning : NULL/L\n",
      "2020-11-29 13:23:47,918 - thermomodel_None - WARNING - Warning : NULL/U\n",
      "2020-11-29 13:23:47,918 - thermomodel_None - WARNING - Warning : NULL/L\n",
      "2020-11-29 13:23:47,918 - thermomodel_None - WARNING - Warning : NULL/L\n",
      "2020-11-29 13:23:47,918 - thermomodel_None - WARNING - Warning : NULL/U\n",
      "2020-11-29 13:23:47,918 - thermomodel_None - WARNING - Warning : NULL/L\n",
      "2020-11-29 13:23:47,918 - thermomodel_None - WARNING - Warning : NULL/L\n",
      "2020-11-29 13:23:47,918 - thermomodel_None - WARNING - Warning : NULL/U\n",
      "2020-11-29 13:23:47,918 - thermomodel_None - WARNING - Warning : NULL/L\n",
      "2020-11-29 13:23:47,934 - thermomodel_None - WARNING - Warning : NULL/L\n",
      "2020-11-29 13:23:47,934 - thermomodel_None - WARNING - Warning : NULL/U\n",
      "2020-11-29 13:23:47,934 - thermomodel_None - WARNING - Warning : NULL/L\n",
      "2020-11-29 13:23:47,934 - thermomodel_None - WARNING - Warning : NULL/L\n",
      "2020-11-29 13:23:47,934 - thermomodel_None - WARNING - Warning : NULL/U\n",
      "2020-11-29 13:23:47,934 - thermomodel_None - WARNING - Warning : NULL/L\n",
      "2020-11-29 13:23:47,934 - thermomodel_None - WARNING - Warning : NULL/L\n",
      "2020-11-29 13:23:47,934 - thermomodel_None - WARNING - Warning : NULL/U\n",
      "2020-11-29 13:23:47,934 - thermomodel_None - WARNING - Warning : NULL/L\n",
      "2020-11-29 13:23:47,934 - thermomodel_None - WARNING - Warning : NULL/L\n",
      "2020-11-29 13:23:48,048 - thermomodel_None - INFO - # Model preparation done.\n",
      "2020-11-29 13:23:48,048 - thermomodel_None - INFO - # Model conversion starting...\n",
      "2020-11-29 13:24:23,455 - thermomodel_None - INFO - # Model conversion done.\n",
      "2020-11-29 13:24:23,455 - thermomodel_None - INFO - # Updating cobra_model variables...\n",
      "2020-11-29 13:24:23,497 - thermomodel_None - INFO - # cobra_model variables are up-to-date\n"
     ]
    },
    {
     "name": "stdout",
     "output_type": "stream",
     "text": [
      "Read LP format model from file C:\\Users\\riheme\\AppData\\Local\\Temp\\tmpw7dgjyrf.lp\n",
      "Reading time = 0.03 seconds\n",
      ": 1807 rows, 5170 columns, 20304 nonzeros\n",
      "Read LP format model from file C:\\Users\\riheme\\AppData\\Local\\Temp\\tmpj3eqeg49.lp\n",
      "Reading time = 0.02 seconds\n",
      ": 1807 rows, 5170 columns, 20304 nonzeros\n"
     ]
    },
    {
     "name": "stderr",
     "output_type": "stream",
     "text": [
      "2020-11-29 13:24:39,658 - thermomodel_Ecoli PGI (Glc) 4 @ t = 2 - INFO - # Model initialized with units kcal/mol and temperature 298.15 K\n"
     ]
    },
    {
     "name": "stdout",
     "output_type": "stream",
     "text": [
      "Read LP format model from file C:\\Users\\riheme\\AppData\\Local\\Temp\\tmp4si1f2hn.lp\n",
      "Reading time = 0.02 seconds\n",
      ": 1807 rows, 5170 columns, 20304 nonzeros\n",
      "Read LP format model from file C:\\Users\\riheme\\AppData\\Local\\Temp\\tmpwtiy5p94.lp\n",
      "Reading time = 0.02 seconds\n",
      ": 1807 rows, 5170 columns, 20304 nonzeros\n"
     ]
    },
    {
     "name": "stderr",
     "output_type": "stream",
     "text": [
      "2020-11-29 13:25:05,507 - thermomodel_Ecoli PGI (Glc) 4 @ t = 2 - INFO - # Model initialized with units kcal/mol and temperature 298.15 K\n",
      "2020-11-29 13:25:14,418 - thermomodel_Ecoli PGI (Glc) 4 @ t = 2 - INFO - Adding slack constraints\n",
      "adding slacks: 100%|███████████████████████████████████████████████████████████████| 1824/1824 [00:38<00:00, 47.78it/s]\n",
      "2020-11-29 13:25:54,223 - thermomodel_Ecoli PGI (Glc) 4 @ t = 2 - INFO - Optimizing slack model\n",
      "2020-11-29 13:26:00,147 - thermomodel_Ecoli PGI (Glc) 4 @ t = 2 - INFO - Extracting relaxation\n",
      "applying slack: 100%|███████████████████████████████████████████████████████████| 2585/2585 [00:00<00:00, 42323.38it/s]\n",
      "2020-11-29 13:26:00,298 - thermomodel_Ecoli PGI (Glc) 4 @ t = 2 - INFO - Testing relaxation\n"
     ]
    },
    {
     "name": "stdout",
     "output_type": "stream",
     "text": [
      "################################################################################\n",
      "Ecoli PGI (Glc) 4 @ t = 3\n",
      "(81.24 min)\n",
      "################################################################################\n",
      "Read LP format model from file C:\\Users\\riheme\\AppData\\Local\\Temp\\tmpa6t23vfp.lp\n",
      "Reading time = 0.02 seconds\n",
      ": 1807 rows, 5170 columns, 20334 nonzeros\n",
      "Read LP format model from file C:\\Users\\riheme\\AppData\\Local\\Temp\\tmp2r42m69j.lp\n",
      "Reading time = 0.02 seconds\n",
      ": 1807 rows, 5170 columns, 20334 nonzeros\n"
     ]
    },
    {
     "name": "stderr",
     "output_type": "stream",
     "text": [
      "2020-11-29 13:26:15,190 - thermomodel_None - INFO - # Model initialized with units kcal/mol and temperature 298.15 K\n",
      "2020-11-29 13:26:15,200 - thermomodel_None - INFO - # Model preparation starting...\n",
      "2020-11-29 13:26:17,638 - thermomodel_None - WARNING - Warning : NULL/U\n",
      "2020-11-29 13:26:17,638 - thermomodel_None - WARNING - Warning : NULL/L\n",
      "2020-11-29 13:26:17,638 - thermomodel_None - WARNING - Warning : NULL/L\n",
      "2020-11-29 13:26:17,646 - thermomodel_None - WARNING - Warning : NULL/U\n",
      "2020-11-29 13:26:17,646 - thermomodel_None - WARNING - Warning : NULL/L\n",
      "2020-11-29 13:26:17,646 - thermomodel_None - WARNING - Warning : NULL/L\n",
      "2020-11-29 13:26:17,872 - thermomodel_None - WARNING - Warning : NULL/U\n",
      "2020-11-29 13:26:17,872 - thermomodel_None - WARNING - Warning : NULL/L\n",
      "2020-11-29 13:26:17,872 - thermomodel_None - WARNING - Warning : NULL/L\n",
      "2020-11-29 13:26:17,872 - thermomodel_None - WARNING - Warning : NULL/U\n",
      "2020-11-29 13:26:17,872 - thermomodel_None - WARNING - Warning : NULL/L\n",
      "2020-11-29 13:26:17,872 - thermomodel_None - WARNING - Warning : NULL/L\n",
      "2020-11-29 13:26:18,020 - thermomodel_None - WARNING - Warning : NULL/U\n",
      "2020-11-29 13:26:18,020 - thermomodel_None - WARNING - Warning : NULL/L\n",
      "2020-11-29 13:26:18,020 - thermomodel_None - WARNING - Warning : NULL/L\n",
      "2020-11-29 13:26:18,020 - thermomodel_None - WARNING - Warning : NULL/U\n",
      "2020-11-29 13:26:18,020 - thermomodel_None - WARNING - Warning : NULL/L\n",
      "2020-11-29 13:26:18,020 - thermomodel_None - WARNING - Warning : NULL/L\n",
      "2020-11-29 13:26:18,088 - thermomodel_None - WARNING - Warning : NULL/U\n",
      "2020-11-29 13:26:18,088 - thermomodel_None - WARNING - Warning : NULL/L\n",
      "2020-11-29 13:26:18,088 - thermomodel_None - WARNING - Warning : NULL/L\n",
      "2020-11-29 13:26:18,088 - thermomodel_None - WARNING - Warning : NULL/U\n",
      "2020-11-29 13:26:18,088 - thermomodel_None - WARNING - Warning : NULL/L\n",
      "2020-11-29 13:26:18,088 - thermomodel_None - WARNING - Warning : NULL/L\n",
      "2020-11-29 13:26:18,088 - thermomodel_None - WARNING - Warning : NULL/U\n",
      "2020-11-29 13:26:18,088 - thermomodel_None - WARNING - Warning : NULL/L\n",
      "2020-11-29 13:26:18,088 - thermomodel_None - WARNING - Warning : NULL/L\n",
      "2020-11-29 13:26:18,088 - thermomodel_None - WARNING - Warning : NULL/U\n",
      "2020-11-29 13:26:18,088 - thermomodel_None - WARNING - Warning : NULL/L\n",
      "2020-11-29 13:26:18,088 - thermomodel_None - WARNING - Warning : NULL/L\n",
      "2020-11-29 13:26:18,088 - thermomodel_None - WARNING - Warning : NULL/U\n",
      "2020-11-29 13:26:18,088 - thermomodel_None - WARNING - Warning : NULL/L\n",
      "2020-11-29 13:26:18,088 - thermomodel_None - WARNING - Warning : NULL/L\n",
      "2020-11-29 13:26:18,103 - thermomodel_None - WARNING - Warning : NULL/U\n",
      "2020-11-29 13:26:18,103 - thermomodel_None - WARNING - Warning : NULL/L\n",
      "2020-11-29 13:26:18,103 - thermomodel_None - WARNING - Warning : NULL/L\n",
      "2020-11-29 13:26:18,103 - thermomodel_None - WARNING - Warning : NULL/U\n",
      "2020-11-29 13:26:18,103 - thermomodel_None - WARNING - Warning : NULL/L\n",
      "2020-11-29 13:26:18,103 - thermomodel_None - WARNING - Warning : NULL/L\n",
      "2020-11-29 13:26:18,103 - thermomodel_None - WARNING - Warning : NULL/U\n",
      "2020-11-29 13:26:18,103 - thermomodel_None - WARNING - Warning : NULL/L\n",
      "2020-11-29 13:26:18,103 - thermomodel_None - WARNING - Warning : NULL/L\n",
      "2020-11-29 13:26:18,221 - thermomodel_None - INFO - # Model preparation done.\n",
      "2020-11-29 13:26:18,221 - thermomodel_None - INFO - # Model conversion starting...\n",
      "2020-11-29 13:26:53,965 - thermomodel_None - INFO - # Model conversion done.\n",
      "2020-11-29 13:26:53,967 - thermomodel_None - INFO - # Updating cobra_model variables...\n",
      "2020-11-29 13:26:54,008 - thermomodel_None - INFO - # cobra_model variables are up-to-date\n"
     ]
    },
    {
     "name": "stdout",
     "output_type": "stream",
     "text": [
      "Read LP format model from file C:\\Users\\riheme\\AppData\\Local\\Temp\\tmpt5cefidh.lp\n",
      "Reading time = 0.02 seconds\n",
      ": 1807 rows, 5170 columns, 20304 nonzeros\n",
      "Read LP format model from file C:\\Users\\riheme\\AppData\\Local\\Temp\\tmps1im3itd.lp\n",
      "Reading time = 0.02 seconds\n",
      ": 1807 rows, 5170 columns, 20304 nonzeros\n"
     ]
    },
    {
     "name": "stderr",
     "output_type": "stream",
     "text": [
      "2020-11-29 13:27:10,165 - thermomodel_Ecoli PGI (Glc) 4 @ t = 3 - INFO - # Model initialized with units kcal/mol and temperature 298.15 K\n"
     ]
    },
    {
     "name": "stdout",
     "output_type": "stream",
     "text": [
      "Read LP format model from file C:\\Users\\riheme\\AppData\\Local\\Temp\\tmppo41qup3.lp\n",
      "Reading time = 0.02 seconds\n",
      ": 1807 rows, 5170 columns, 20304 nonzeros\n",
      "Read LP format model from file C:\\Users\\riheme\\AppData\\Local\\Temp\\tmpfyyx87lj.lp\n",
      "Reading time = 0.02 seconds\n",
      ": 1807 rows, 5170 columns, 20304 nonzeros\n"
     ]
    },
    {
     "name": "stderr",
     "output_type": "stream",
     "text": [
      "2020-11-29 13:27:36,226 - thermomodel_Ecoli PGI (Glc) 4 @ t = 3 - INFO - # Model initialized with units kcal/mol and temperature 298.15 K\n",
      "2020-11-29 13:27:45,158 - thermomodel_Ecoli PGI (Glc) 4 @ t = 3 - INFO - Adding slack constraints\n",
      "adding slacks: 100%|███████████████████████████████████████████████████████████████| 1824/1824 [00:37<00:00, 48.87it/s]\n",
      "2020-11-29 13:28:24,863 - thermomodel_Ecoli PGI (Glc) 4 @ t = 3 - INFO - Optimizing slack model\n",
      "2020-11-29 13:28:31,252 - thermomodel_Ecoli PGI (Glc) 4 @ t = 3 - INFO - Extracting relaxation\n",
      "applying slack: 100%|███████████████████████████████████████████████████████████| 2585/2585 [00:00<00:00, 41405.02it/s]\n",
      "2020-11-29 13:28:31,402 - thermomodel_Ecoli PGI (Glc) 4 @ t = 3 - INFO - Testing relaxation\n"
     ]
    },
    {
     "name": "stdout",
     "output_type": "stream",
     "text": [
      "################################################################################\n",
      "Ecoli PGI (Glc) 4 @ t = 11\n",
      "(83.76 min)\n",
      "################################################################################\n",
      "Read LP format model from file C:\\Users\\riheme\\AppData\\Local\\Temp\\tmp3b4zynno.lp\n",
      "Reading time = 0.02 seconds\n",
      ": 1807 rows, 5170 columns, 20334 nonzeros\n",
      "Read LP format model from file C:\\Users\\riheme\\AppData\\Local\\Temp\\tmpu45hohem.lp\n",
      "Reading time = 0.02 seconds\n",
      ": 1807 rows, 5170 columns, 20334 nonzeros\n"
     ]
    },
    {
     "name": "stderr",
     "output_type": "stream",
     "text": [
      "2020-11-29 13:28:46,382 - thermomodel_None - INFO - # Model initialized with units kcal/mol and temperature 298.15 K\n",
      "2020-11-29 13:28:46,402 - thermomodel_None - INFO - # Model preparation starting...\n",
      "2020-11-29 13:28:48,736 - thermomodel_None - WARNING - Warning : NULL/U\n",
      "2020-11-29 13:28:48,744 - thermomodel_None - WARNING - Warning : NULL/L\n",
      "2020-11-29 13:28:48,744 - thermomodel_None - WARNING - Warning : NULL/L\n",
      "2020-11-29 13:28:48,744 - thermomodel_None - WARNING - Warning : NULL/U\n",
      "2020-11-29 13:28:48,744 - thermomodel_None - WARNING - Warning : NULL/L\n",
      "2020-11-29 13:28:48,746 - thermomodel_None - WARNING - Warning : NULL/L\n",
      "2020-11-29 13:28:48,968 - thermomodel_None - WARNING - Warning : NULL/U\n",
      "2020-11-29 13:28:48,968 - thermomodel_None - WARNING - Warning : NULL/L\n",
      "2020-11-29 13:28:48,968 - thermomodel_None - WARNING - Warning : NULL/L\n",
      "2020-11-29 13:28:48,968 - thermomodel_None - WARNING - Warning : NULL/U\n",
      "2020-11-29 13:28:48,968 - thermomodel_None - WARNING - Warning : NULL/L\n",
      "2020-11-29 13:28:48,968 - thermomodel_None - WARNING - Warning : NULL/L\n",
      "2020-11-29 13:28:49,118 - thermomodel_None - WARNING - Warning : NULL/U\n",
      "2020-11-29 13:28:49,118 - thermomodel_None - WARNING - Warning : NULL/L\n",
      "2020-11-29 13:28:49,118 - thermomodel_None - WARNING - Warning : NULL/L\n",
      "2020-11-29 13:28:49,118 - thermomodel_None - WARNING - Warning : NULL/U\n",
      "2020-11-29 13:28:49,118 - thermomodel_None - WARNING - Warning : NULL/L\n",
      "2020-11-29 13:28:49,118 - thermomodel_None - WARNING - Warning : NULL/L\n",
      "2020-11-29 13:28:49,165 - thermomodel_None - WARNING - Warning : NULL/U\n",
      "2020-11-29 13:28:49,165 - thermomodel_None - WARNING - Warning : NULL/L\n",
      "2020-11-29 13:28:49,165 - thermomodel_None - WARNING - Warning : NULL/L\n",
      "2020-11-29 13:28:49,165 - thermomodel_None - WARNING - Warning : NULL/U\n",
      "2020-11-29 13:28:49,165 - thermomodel_None - WARNING - Warning : NULL/L\n",
      "2020-11-29 13:28:49,165 - thermomodel_None - WARNING - Warning : NULL/L\n",
      "2020-11-29 13:28:49,165 - thermomodel_None - WARNING - Warning : NULL/U\n",
      "2020-11-29 13:28:49,165 - thermomodel_None - WARNING - Warning : NULL/L\n",
      "2020-11-29 13:28:49,165 - thermomodel_None - WARNING - Warning : NULL/L\n",
      "2020-11-29 13:28:49,180 - thermomodel_None - WARNING - Warning : NULL/U\n",
      "2020-11-29 13:28:49,180 - thermomodel_None - WARNING - Warning : NULL/L\n",
      "2020-11-29 13:28:49,180 - thermomodel_None - WARNING - Warning : NULL/L\n",
      "2020-11-29 13:28:49,180 - thermomodel_None - WARNING - Warning : NULL/U\n",
      "2020-11-29 13:28:49,180 - thermomodel_None - WARNING - Warning : NULL/L\n",
      "2020-11-29 13:28:49,180 - thermomodel_None - WARNING - Warning : NULL/L\n",
      "2020-11-29 13:28:49,180 - thermomodel_None - WARNING - Warning : NULL/U\n",
      "2020-11-29 13:28:49,180 - thermomodel_None - WARNING - Warning : NULL/L\n",
      "2020-11-29 13:28:49,180 - thermomodel_None - WARNING - Warning : NULL/L\n",
      "2020-11-29 13:28:49,187 - thermomodel_None - WARNING - Warning : NULL/U\n",
      "2020-11-29 13:28:49,187 - thermomodel_None - WARNING - Warning : NULL/L\n",
      "2020-11-29 13:28:49,187 - thermomodel_None - WARNING - Warning : NULL/L\n",
      "2020-11-29 13:28:49,187 - thermomodel_None - WARNING - Warning : NULL/U\n",
      "2020-11-29 13:28:49,187 - thermomodel_None - WARNING - Warning : NULL/L\n",
      "2020-11-29 13:28:49,187 - thermomodel_None - WARNING - Warning : NULL/L\n",
      "2020-11-29 13:28:49,303 - thermomodel_None - INFO - # Model preparation done.\n",
      "2020-11-29 13:28:49,303 - thermomodel_None - INFO - # Model conversion starting...\n",
      "2020-11-29 13:29:24,147 - thermomodel_None - INFO - # Model conversion done.\n",
      "2020-11-29 13:29:24,147 - thermomodel_None - INFO - # Updating cobra_model variables...\n",
      "2020-11-29 13:29:24,182 - thermomodel_None - INFO - # cobra_model variables are up-to-date\n"
     ]
    },
    {
     "name": "stdout",
     "output_type": "stream",
     "text": [
      "Read LP format model from file C:\\Users\\riheme\\AppData\\Local\\Temp\\tmpz_k_r4ny.lp\n",
      "Reading time = 0.02 seconds\n",
      ": 1807 rows, 5170 columns, 20304 nonzeros\n",
      "Read LP format model from file C:\\Users\\riheme\\AppData\\Local\\Temp\\tmpxzyr19_2.lp\n",
      "Reading time = 0.02 seconds\n",
      ": 1807 rows, 5170 columns, 20304 nonzeros\n"
     ]
    },
    {
     "name": "stderr",
     "output_type": "stream",
     "text": [
      "2020-11-29 13:29:40,780 - thermomodel_Ecoli PGI (Glc) 4 @ t = 11 - INFO - # Model initialized with units kcal/mol and temperature 298.15 K\n"
     ]
    },
    {
     "name": "stdout",
     "output_type": "stream",
     "text": [
      "Read LP format model from file C:\\Users\\riheme\\AppData\\Local\\Temp\\tmptxp5mpv9.lp\n",
      "Reading time = 0.02 seconds\n",
      ": 1807 rows, 5170 columns, 20304 nonzeros\n",
      "Read LP format model from file C:\\Users\\riheme\\AppData\\Local\\Temp\\tmptvh0hr7j.lp\n",
      "Reading time = 0.02 seconds\n",
      ": 1807 rows, 5170 columns, 20304 nonzeros\n"
     ]
    },
    {
     "name": "stderr",
     "output_type": "stream",
     "text": [
      "2020-11-29 13:30:06,231 - thermomodel_Ecoli PGI (Glc) 4 @ t = 11 - INFO - # Model initialized with units kcal/mol and temperature 298.15 K\n",
      "2020-11-29 13:30:15,161 - thermomodel_Ecoli PGI (Glc) 4 @ t = 11 - INFO - Adding slack constraints\n",
      "adding slacks: 100%|███████████████████████████████████████████████████████████████| 1824/1824 [00:38<00:00, 47.67it/s]\n",
      "2020-11-29 13:30:55,050 - thermomodel_Ecoli PGI (Glc) 4 @ t = 11 - INFO - Optimizing slack model\n",
      "2020-11-29 13:30:58,196 - thermomodel_Ecoli PGI (Glc) 4 @ t = 11 - INFO - Extracting relaxation\n",
      "applying slack: 100%|███████████████████████████████████████████████████████████| 2585/2585 [00:00<00:00, 55220.53it/s]\n",
      "2020-11-29 13:30:58,347 - thermomodel_Ecoli PGI (Glc) 4 @ t = 11 - INFO - Testing relaxation\n"
     ]
    },
    {
     "name": "stdout",
     "output_type": "stream",
     "text": [
      "################################################################################\n",
      "Ecoli PGI (Glc) 5 @ t = 1\n",
      "(86.21 min)\n",
      "################################################################################\n",
      "Read LP format model from file C:\\Users\\riheme\\AppData\\Local\\Temp\\tmp08k79vx9.lp\n",
      "Reading time = 0.02 seconds\n",
      ": 1807 rows, 5170 columns, 20334 nonzeros\n",
      "Read LP format model from file C:\\Users\\riheme\\AppData\\Local\\Temp\\tmpsb3nnqml.lp\n",
      "Reading time = 0.02 seconds\n",
      ": 1807 rows, 5170 columns, 20334 nonzeros\n"
     ]
    },
    {
     "name": "stderr",
     "output_type": "stream",
     "text": [
      "2020-11-29 13:31:13,395 - thermomodel_None - INFO - # Model initialized with units kcal/mol and temperature 298.15 K\n",
      "2020-11-29 13:31:13,403 - thermomodel_None - INFO - # Model preparation starting...\n",
      "2020-11-29 13:31:15,828 - thermomodel_None - WARNING - Warning : NULL/U\n",
      "2020-11-29 13:31:15,828 - thermomodel_None - WARNING - Warning : NULL/L\n",
      "2020-11-29 13:31:15,828 - thermomodel_None - WARNING - Warning : NULL/L\n",
      "2020-11-29 13:31:15,828 - thermomodel_None - WARNING - Warning : NULL/U\n",
      "2020-11-29 13:31:15,836 - thermomodel_None - WARNING - Warning : NULL/L\n",
      "2020-11-29 13:31:15,836 - thermomodel_None - WARNING - Warning : NULL/L\n",
      "2020-11-29 13:31:16,046 - thermomodel_None - WARNING - Warning : NULL/U\n",
      "2020-11-29 13:31:16,046 - thermomodel_None - WARNING - Warning : NULL/L\n",
      "2020-11-29 13:31:16,046 - thermomodel_None - WARNING - Warning : NULL/L\n",
      "2020-11-29 13:31:16,046 - thermomodel_None - WARNING - Warning : NULL/U\n",
      "2020-11-29 13:31:16,046 - thermomodel_None - WARNING - Warning : NULL/L\n",
      "2020-11-29 13:31:16,046 - thermomodel_None - WARNING - Warning : NULL/L\n",
      "2020-11-29 13:31:16,194 - thermomodel_None - WARNING - Warning : NULL/U\n",
      "2020-11-29 13:31:16,194 - thermomodel_None - WARNING - Warning : NULL/L\n",
      "2020-11-29 13:31:16,194 - thermomodel_None - WARNING - Warning : NULL/L\n",
      "2020-11-29 13:31:16,194 - thermomodel_None - WARNING - Warning : NULL/U\n",
      "2020-11-29 13:31:16,194 - thermomodel_None - WARNING - Warning : NULL/L\n",
      "2020-11-29 13:31:16,194 - thermomodel_None - WARNING - Warning : NULL/L\n",
      "2020-11-29 13:31:16,247 - thermomodel_None - WARNING - Warning : NULL/U\n",
      "2020-11-29 13:31:16,263 - thermomodel_None - WARNING - Warning : NULL/L\n",
      "2020-11-29 13:31:16,263 - thermomodel_None - WARNING - Warning : NULL/L\n",
      "2020-11-29 13:31:16,263 - thermomodel_None - WARNING - Warning : NULL/U\n",
      "2020-11-29 13:31:16,263 - thermomodel_None - WARNING - Warning : NULL/L\n",
      "2020-11-29 13:31:16,263 - thermomodel_None - WARNING - Warning : NULL/L\n",
      "2020-11-29 13:31:16,263 - thermomodel_None - WARNING - Warning : NULL/U\n",
      "2020-11-29 13:31:16,263 - thermomodel_None - WARNING - Warning : NULL/L\n",
      "2020-11-29 13:31:16,263 - thermomodel_None - WARNING - Warning : NULL/L\n",
      "2020-11-29 13:31:16,263 - thermomodel_None - WARNING - Warning : NULL/U\n",
      "2020-11-29 13:31:16,263 - thermomodel_None - WARNING - Warning : NULL/L\n",
      "2020-11-29 13:31:16,263 - thermomodel_None - WARNING - Warning : NULL/L\n",
      "2020-11-29 13:31:16,263 - thermomodel_None - WARNING - Warning : NULL/U\n",
      "2020-11-29 13:31:16,263 - thermomodel_None - WARNING - Warning : NULL/L\n",
      "2020-11-29 13:31:16,263 - thermomodel_None - WARNING - Warning : NULL/L\n",
      "2020-11-29 13:31:16,263 - thermomodel_None - WARNING - Warning : NULL/U\n",
      "2020-11-29 13:31:16,263 - thermomodel_None - WARNING - Warning : NULL/L\n",
      "2020-11-29 13:31:16,263 - thermomodel_None - WARNING - Warning : NULL/L\n",
      "2020-11-29 13:31:16,263 - thermomodel_None - WARNING - Warning : NULL/U\n",
      "2020-11-29 13:31:16,263 - thermomodel_None - WARNING - Warning : NULL/L\n",
      "2020-11-29 13:31:16,263 - thermomodel_None - WARNING - Warning : NULL/L\n",
      "2020-11-29 13:31:16,263 - thermomodel_None - WARNING - Warning : NULL/U\n",
      "2020-11-29 13:31:16,263 - thermomodel_None - WARNING - Warning : NULL/L\n",
      "2020-11-29 13:31:16,278 - thermomodel_None - WARNING - Warning : NULL/L\n",
      "2020-11-29 13:31:16,410 - thermomodel_None - INFO - # Model preparation done.\n",
      "2020-11-29 13:31:16,410 - thermomodel_None - INFO - # Model conversion starting...\n",
      "2020-11-29 13:31:51,542 - thermomodel_None - INFO - # Model conversion done.\n",
      "2020-11-29 13:31:51,542 - thermomodel_None - INFO - # Updating cobra_model variables...\n",
      "2020-11-29 13:31:51,583 - thermomodel_None - INFO - # cobra_model variables are up-to-date\n"
     ]
    },
    {
     "name": "stdout",
     "output_type": "stream",
     "text": [
      "Read LP format model from file C:\\Users\\riheme\\AppData\\Local\\Temp\\tmp37xwf5ty.lp\n",
      "Reading time = 0.02 seconds\n",
      ": 1807 rows, 5170 columns, 20304 nonzeros\n",
      "Read LP format model from file C:\\Users\\riheme\\AppData\\Local\\Temp\\tmpd0c5sieh.lp\n",
      "Reading time = 0.02 seconds\n",
      ": 1807 rows, 5170 columns, 20304 nonzeros\n"
     ]
    },
    {
     "name": "stderr",
     "output_type": "stream",
     "text": [
      "2020-11-29 13:32:07,764 - thermomodel_Ecoli PGI (Glc) 5 @ t = 1 - INFO - # Model initialized with units kcal/mol and temperature 298.15 K\n"
     ]
    },
    {
     "name": "stdout",
     "output_type": "stream",
     "text": [
      "Read LP format model from file C:\\Users\\riheme\\AppData\\Local\\Temp\\tmpvxfgqtb9.lp\n",
      "Reading time = 0.02 seconds\n",
      ": 1807 rows, 5170 columns, 20304 nonzeros\n",
      "Read LP format model from file C:\\Users\\riheme\\AppData\\Local\\Temp\\tmpkkpe_qu8.lp\n",
      "Reading time = 0.03 seconds\n",
      ": 1807 rows, 5170 columns, 20304 nonzeros\n"
     ]
    },
    {
     "name": "stderr",
     "output_type": "stream",
     "text": [
      "2020-11-29 13:32:33,521 - thermomodel_Ecoli PGI (Glc) 5 @ t = 1 - INFO - # Model initialized with units kcal/mol and temperature 298.15 K\n",
      "2020-11-29 13:32:42,428 - thermomodel_Ecoli PGI (Glc) 5 @ t = 1 - INFO - Adding slack constraints\n",
      "adding slacks: 100%|███████████████████████████████████████████████████████████████| 1824/1824 [00:38<00:00, 47.74it/s]\n",
      "2020-11-29 13:33:22,237 - thermomodel_Ecoli PGI (Glc) 5 @ t = 1 - INFO - Optimizing slack model\n",
      "2020-11-29 13:33:27,933 - thermomodel_Ecoli PGI (Glc) 5 @ t = 1 - INFO - Extracting relaxation\n",
      "applying slack: 100%|███████████████████████████████████████████████████████████| 2585/2585 [00:00<00:00, 55216.60it/s]\n",
      "2020-11-29 13:33:28,082 - thermomodel_Ecoli PGI (Glc) 5 @ t = 1 - INFO - Testing relaxation\n"
     ]
    },
    {
     "name": "stdout",
     "output_type": "stream",
     "text": [
      "################################################################################\n",
      "Ecoli PGI (Glc) 5 @ t = 2\n",
      "(88.70 min)\n",
      "################################################################################\n",
      "Read LP format model from file C:\\Users\\riheme\\AppData\\Local\\Temp\\tmp3kbti85t.lp\n",
      "Reading time = 0.02 seconds\n",
      ": 1807 rows, 5170 columns, 20334 nonzeros\n",
      "Read LP format model from file C:\\Users\\riheme\\AppData\\Local\\Temp\\tmpm0vv2oy2.lp\n",
      "Reading time = 0.02 seconds\n",
      ": 1807 rows, 5170 columns, 20334 nonzeros\n"
     ]
    },
    {
     "name": "stderr",
     "output_type": "stream",
     "text": [
      "2020-11-29 13:33:43,306 - thermomodel_None - INFO - # Model initialized with units kcal/mol and temperature 298.15 K\n",
      "2020-11-29 13:33:43,317 - thermomodel_None - INFO - # Model preparation starting...\n",
      "2020-11-29 13:33:45,652 - thermomodel_None - WARNING - Warning : NULL/U\n",
      "2020-11-29 13:33:45,654 - thermomodel_None - WARNING - Warning : NULL/L\n",
      "2020-11-29 13:33:45,654 - thermomodel_None - WARNING - Warning : NULL/L\n",
      "2020-11-29 13:33:45,654 - thermomodel_None - WARNING - Warning : NULL/U\n",
      "2020-11-29 13:33:45,654 - thermomodel_None - WARNING - Warning : NULL/L\n",
      "2020-11-29 13:33:45,654 - thermomodel_None - WARNING - Warning : NULL/L\n",
      "2020-11-29 13:33:45,873 - thermomodel_None - WARNING - Warning : NULL/U\n",
      "2020-11-29 13:33:45,873 - thermomodel_None - WARNING - Warning : NULL/L\n",
      "2020-11-29 13:33:45,873 - thermomodel_None - WARNING - Warning : NULL/L\n",
      "2020-11-29 13:33:45,873 - thermomodel_None - WARNING - Warning : NULL/U\n",
      "2020-11-29 13:33:45,873 - thermomodel_None - WARNING - Warning : NULL/L\n",
      "2020-11-29 13:33:45,873 - thermomodel_None - WARNING - Warning : NULL/L\n",
      "2020-11-29 13:33:46,020 - thermomodel_None - WARNING - Warning : NULL/U\n",
      "2020-11-29 13:33:46,020 - thermomodel_None - WARNING - Warning : NULL/L\n",
      "2020-11-29 13:33:46,020 - thermomodel_None - WARNING - Warning : NULL/L\n",
      "2020-11-29 13:33:46,020 - thermomodel_None - WARNING - Warning : NULL/U\n",
      "2020-11-29 13:33:46,020 - thermomodel_None - WARNING - Warning : NULL/L\n",
      "2020-11-29 13:33:46,020 - thermomodel_None - WARNING - Warning : NULL/L\n",
      "2020-11-29 13:33:46,073 - thermomodel_None - WARNING - Warning : NULL/U\n",
      "2020-11-29 13:33:46,073 - thermomodel_None - WARNING - Warning : NULL/L\n",
      "2020-11-29 13:33:46,073 - thermomodel_None - WARNING - Warning : NULL/L\n",
      "2020-11-29 13:33:46,073 - thermomodel_None - WARNING - Warning : NULL/U\n",
      "2020-11-29 13:33:46,073 - thermomodel_None - WARNING - Warning : NULL/L\n",
      "2020-11-29 13:33:46,073 - thermomodel_None - WARNING - Warning : NULL/L\n",
      "2020-11-29 13:33:46,073 - thermomodel_None - WARNING - Warning : NULL/U\n",
      "2020-11-29 13:33:46,073 - thermomodel_None - WARNING - Warning : NULL/L\n",
      "2020-11-29 13:33:46,073 - thermomodel_None - WARNING - Warning : NULL/L\n",
      "2020-11-29 13:33:46,073 - thermomodel_None - WARNING - Warning : NULL/U\n",
      "2020-11-29 13:33:46,073 - thermomodel_None - WARNING - Warning : NULL/L\n",
      "2020-11-29 13:33:46,073 - thermomodel_None - WARNING - Warning : NULL/L\n",
      "2020-11-29 13:33:46,073 - thermomodel_None - WARNING - Warning : NULL/U\n",
      "2020-11-29 13:33:46,073 - thermomodel_None - WARNING - Warning : NULL/L\n",
      "2020-11-29 13:33:46,089 - thermomodel_None - WARNING - Warning : NULL/L\n",
      "2020-11-29 13:33:46,089 - thermomodel_None - WARNING - Warning : NULL/U\n",
      "2020-11-29 13:33:46,089 - thermomodel_None - WARNING - Warning : NULL/L\n",
      "2020-11-29 13:33:46,089 - thermomodel_None - WARNING - Warning : NULL/L\n",
      "2020-11-29 13:33:46,089 - thermomodel_None - WARNING - Warning : NULL/U\n",
      "2020-11-29 13:33:46,089 - thermomodel_None - WARNING - Warning : NULL/L\n",
      "2020-11-29 13:33:46,089 - thermomodel_None - WARNING - Warning : NULL/L\n",
      "2020-11-29 13:33:46,089 - thermomodel_None - WARNING - Warning : NULL/U\n",
      "2020-11-29 13:33:46,089 - thermomodel_None - WARNING - Warning : NULL/L\n",
      "2020-11-29 13:33:46,089 - thermomodel_None - WARNING - Warning : NULL/L\n",
      "2020-11-29 13:33:46,205 - thermomodel_None - INFO - # Model preparation done.\n",
      "2020-11-29 13:33:46,205 - thermomodel_None - INFO - # Model conversion starting...\n",
      "2020-11-29 13:34:20,921 - thermomodel_None - INFO - # Model conversion done.\n",
      "2020-11-29 13:34:20,929 - thermomodel_None - INFO - # Updating cobra_model variables...\n",
      "2020-11-29 13:34:20,970 - thermomodel_None - INFO - # cobra_model variables are up-to-date\n"
     ]
    },
    {
     "name": "stdout",
     "output_type": "stream",
     "text": [
      "Read LP format model from file C:\\Users\\riheme\\AppData\\Local\\Temp\\tmpya1ruwx0.lp\n",
      "Reading time = 0.03 seconds\n",
      ": 1807 rows, 5170 columns, 20304 nonzeros\n",
      "Read LP format model from file C:\\Users\\riheme\\AppData\\Local\\Temp\\tmp3r0jqpso.lp\n",
      "Reading time = 0.02 seconds\n",
      ": 1807 rows, 5170 columns, 20304 nonzeros\n"
     ]
    },
    {
     "name": "stderr",
     "output_type": "stream",
     "text": [
      "2020-11-29 13:34:37,254 - thermomodel_Ecoli PGI (Glc) 5 @ t = 2 - INFO - # Model initialized with units kcal/mol and temperature 298.15 K\n"
     ]
    },
    {
     "name": "stdout",
     "output_type": "stream",
     "text": [
      "Read LP format model from file C:\\Users\\riheme\\AppData\\Local\\Temp\\tmpl6khcxw0.lp\n",
      "Reading time = 0.02 seconds\n",
      ": 1807 rows, 5170 columns, 20304 nonzeros\n",
      "Read LP format model from file C:\\Users\\riheme\\AppData\\Local\\Temp\\tmpn_b03ybq.lp\n",
      "Reading time = 0.02 seconds\n",
      ": 1807 rows, 5170 columns, 20304 nonzeros\n"
     ]
    },
    {
     "name": "stderr",
     "output_type": "stream",
     "text": [
      "2020-11-29 13:35:02,886 - thermomodel_Ecoli PGI (Glc) 5 @ t = 2 - INFO - # Model initialized with units kcal/mol and temperature 298.15 K\n",
      "2020-11-29 13:35:11,831 - thermomodel_Ecoli PGI (Glc) 5 @ t = 2 - INFO - Adding slack constraints\n",
      "adding slacks: 100%|███████████████████████████████████████████████████████████████| 1824/1824 [00:38<00:00, 47.92it/s]\n",
      "2020-11-29 13:35:51,509 - thermomodel_Ecoli PGI (Glc) 5 @ t = 2 - INFO - Optimizing slack model\n",
      "2020-11-29 13:35:56,197 - thermomodel_Ecoli PGI (Glc) 5 @ t = 2 - INFO - Extracting relaxation\n",
      "applying slack: 100%|███████████████████████████████████████████████████████████| 2585/2585 [00:00<00:00, 41403.12it/s]\n",
      "2020-11-29 13:35:56,347 - thermomodel_Ecoli PGI (Glc) 5 @ t = 2 - INFO - Testing relaxation\n"
     ]
    },
    {
     "name": "stdout",
     "output_type": "stream",
     "text": [
      "################################################################################\n",
      "Ecoli PGI (Glc) 5 @ t = 3\n",
      "(91.17 min)\n",
      "################################################################################\n",
      "Read LP format model from file C:\\Users\\riheme\\AppData\\Local\\Temp\\tmpq0gnl_ry.lp\n",
      "Reading time = 0.02 seconds\n",
      ": 1807 rows, 5170 columns, 20334 nonzeros\n",
      "Read LP format model from file C:\\Users\\riheme\\AppData\\Local\\Temp\\tmp63rh__ri.lp\n",
      "Reading time = 0.02 seconds\n",
      ": 1807 rows, 5170 columns, 20334 nonzeros\n"
     ]
    },
    {
     "name": "stderr",
     "output_type": "stream",
     "text": [
      "2020-11-29 13:36:11,376 - thermomodel_None - INFO - # Model initialized with units kcal/mol and temperature 298.15 K\n",
      "2020-11-29 13:36:11,394 - thermomodel_None - INFO - # Model preparation starting...\n",
      "2020-11-29 13:36:13,778 - thermomodel_None - WARNING - Warning : NULL/U\n",
      "2020-11-29 13:36:13,778 - thermomodel_None - WARNING - Warning : NULL/L\n",
      "2020-11-29 13:36:13,778 - thermomodel_None - WARNING - Warning : NULL/L\n",
      "2020-11-29 13:36:13,778 - thermomodel_None - WARNING - Warning : NULL/U\n",
      "2020-11-29 13:36:13,778 - thermomodel_None - WARNING - Warning : NULL/L\n",
      "2020-11-29 13:36:13,786 - thermomodel_None - WARNING - Warning : NULL/L\n",
      "2020-11-29 13:36:14,009 - thermomodel_None - WARNING - Warning : NULL/U\n",
      "2020-11-29 13:36:14,009 - thermomodel_None - WARNING - Warning : NULL/L\n",
      "2020-11-29 13:36:14,009 - thermomodel_None - WARNING - Warning : NULL/L\n",
      "2020-11-29 13:36:14,009 - thermomodel_None - WARNING - Warning : NULL/U\n",
      "2020-11-29 13:36:14,009 - thermomodel_None - WARNING - Warning : NULL/L\n",
      "2020-11-29 13:36:14,009 - thermomodel_None - WARNING - Warning : NULL/L\n",
      "2020-11-29 13:36:14,149 - thermomodel_None - WARNING - Warning : NULL/U\n",
      "2020-11-29 13:36:14,149 - thermomodel_None - WARNING - Warning : NULL/L\n",
      "2020-11-29 13:36:14,149 - thermomodel_None - WARNING - Warning : NULL/L\n",
      "2020-11-29 13:36:14,149 - thermomodel_None - WARNING - Warning : NULL/U\n",
      "2020-11-29 13:36:14,157 - thermomodel_None - WARNING - Warning : NULL/L\n",
      "2020-11-29 13:36:14,157 - thermomodel_None - WARNING - Warning : NULL/L\n",
      "2020-11-29 13:36:14,213 - thermomodel_None - WARNING - Warning : NULL/U\n",
      "2020-11-29 13:36:14,213 - thermomodel_None - WARNING - Warning : NULL/L\n",
      "2020-11-29 13:36:14,213 - thermomodel_None - WARNING - Warning : NULL/L\n",
      "2020-11-29 13:36:14,213 - thermomodel_None - WARNING - Warning : NULL/U\n",
      "2020-11-29 13:36:14,213 - thermomodel_None - WARNING - Warning : NULL/L\n",
      "2020-11-29 13:36:14,213 - thermomodel_None - WARNING - Warning : NULL/L\n",
      "2020-11-29 13:36:14,213 - thermomodel_None - WARNING - Warning : NULL/U\n",
      "2020-11-29 13:36:14,213 - thermomodel_None - WARNING - Warning : NULL/L\n",
      "2020-11-29 13:36:14,213 - thermomodel_None - WARNING - Warning : NULL/L\n",
      "2020-11-29 13:36:14,213 - thermomodel_None - WARNING - Warning : NULL/U\n",
      "2020-11-29 13:36:14,213 - thermomodel_None - WARNING - Warning : NULL/L\n",
      "2020-11-29 13:36:14,213 - thermomodel_None - WARNING - Warning : NULL/L\n",
      "2020-11-29 13:36:14,213 - thermomodel_None - WARNING - Warning : NULL/U\n",
      "2020-11-29 13:36:14,213 - thermomodel_None - WARNING - Warning : NULL/L\n",
      "2020-11-29 13:36:14,213 - thermomodel_None - WARNING - Warning : NULL/L\n",
      "2020-11-29 13:36:14,213 - thermomodel_None - WARNING - Warning : NULL/U\n",
      "2020-11-29 13:36:14,213 - thermomodel_None - WARNING - Warning : NULL/L\n",
      "2020-11-29 13:36:14,213 - thermomodel_None - WARNING - Warning : NULL/L\n",
      "2020-11-29 13:36:14,213 - thermomodel_None - WARNING - Warning : NULL/U\n",
      "2020-11-29 13:36:14,229 - thermomodel_None - WARNING - Warning : NULL/L\n",
      "2020-11-29 13:36:14,229 - thermomodel_None - WARNING - Warning : NULL/L\n",
      "2020-11-29 13:36:14,229 - thermomodel_None - WARNING - Warning : NULL/U\n",
      "2020-11-29 13:36:14,229 - thermomodel_None - WARNING - Warning : NULL/L\n",
      "2020-11-29 13:36:14,229 - thermomodel_None - WARNING - Warning : NULL/L\n",
      "2020-11-29 13:36:14,345 - thermomodel_None - INFO - # Model preparation done.\n",
      "2020-11-29 13:36:14,345 - thermomodel_None - INFO - # Model conversion starting...\n",
      "2020-11-29 13:36:49,077 - thermomodel_None - INFO - # Model conversion done.\n",
      "2020-11-29 13:36:49,077 - thermomodel_None - INFO - # Updating cobra_model variables...\n",
      "2020-11-29 13:36:49,117 - thermomodel_None - INFO - # cobra_model variables are up-to-date\n"
     ]
    },
    {
     "name": "stdout",
     "output_type": "stream",
     "text": [
      "Read LP format model from file C:\\Users\\riheme\\AppData\\Local\\Temp\\tmpemcqe5tf.lp\n",
      "Reading time = 0.02 seconds\n",
      ": 1807 rows, 5170 columns, 20304 nonzeros\n",
      "Read LP format model from file C:\\Users\\riheme\\AppData\\Local\\Temp\\tmpk6ltlt6l.lp\n",
      "Reading time = 0.03 seconds\n",
      ": 1807 rows, 5170 columns, 20304 nonzeros\n"
     ]
    },
    {
     "name": "stderr",
     "output_type": "stream",
     "text": [
      "2020-11-29 13:37:05,189 - thermomodel_Ecoli PGI (Glc) 5 @ t = 3 - INFO - # Model initialized with units kcal/mol and temperature 298.15 K\n"
     ]
    },
    {
     "name": "stdout",
     "output_type": "stream",
     "text": [
      "Read LP format model from file C:\\Users\\riheme\\AppData\\Local\\Temp\\tmpgn8o_oyh.lp\n",
      "Reading time = 0.02 seconds\n",
      ": 1807 rows, 5170 columns, 20304 nonzeros\n",
      "Read LP format model from file C:\\Users\\riheme\\AppData\\Local\\Temp\\tmp16j6dr8n.lp\n",
      "Reading time = 0.02 seconds\n",
      ": 1807 rows, 5170 columns, 20304 nonzeros\n"
     ]
    },
    {
     "name": "stderr",
     "output_type": "stream",
     "text": [
      "2020-11-29 13:37:30,847 - thermomodel_Ecoli PGI (Glc) 5 @ t = 3 - INFO - # Model initialized with units kcal/mol and temperature 298.15 K\n",
      "2020-11-29 13:37:39,950 - thermomodel_Ecoli PGI (Glc) 5 @ t = 3 - INFO - Adding slack constraints\n",
      "adding slacks: 100%|███████████████████████████████████████████████████████████████| 1824/1824 [00:37<00:00, 48.74it/s]\n",
      "2020-11-29 13:38:19,743 - thermomodel_Ecoli PGI (Glc) 5 @ t = 3 - INFO - Optimizing slack model\n",
      "2020-11-29 13:38:26,210 - thermomodel_Ecoli PGI (Glc) 5 @ t = 3 - INFO - Extracting relaxation\n",
      "applying slack: 100%|███████████████████████████████████████████████████████████| 2585/2585 [00:00<00:00, 42626.05it/s]\n",
      "2020-11-29 13:38:26,362 - thermomodel_Ecoli PGI (Glc) 5 @ t = 3 - INFO - Testing relaxation\n"
     ]
    },
    {
     "name": "stdout",
     "output_type": "stream",
     "text": [
      "################################################################################\n",
      "Ecoli PGI (Glc) 5 @ t = 11\n",
      "(93.67 min)\n",
      "################################################################################\n",
      "Read LP format model from file C:\\Users\\riheme\\AppData\\Local\\Temp\\tmpa_uqvi_t.lp\n",
      "Reading time = 0.02 seconds\n",
      ": 1807 rows, 5170 columns, 20334 nonzeros\n",
      "Read LP format model from file C:\\Users\\riheme\\AppData\\Local\\Temp\\tmpr_xxpvyc.lp\n",
      "Reading time = 0.02 seconds\n",
      ": 1807 rows, 5170 columns, 20334 nonzeros\n"
     ]
    },
    {
     "name": "stderr",
     "output_type": "stream",
     "text": [
      "2020-11-29 13:38:41,571 - thermomodel_None - INFO - # Model initialized with units kcal/mol and temperature 298.15 K\n",
      "2020-11-29 13:38:41,579 - thermomodel_None - INFO - # Model preparation starting...\n",
      "2020-11-29 13:38:43,907 - thermomodel_None - WARNING - Warning : NULL/U\n",
      "2020-11-29 13:38:43,907 - thermomodel_None - WARNING - Warning : NULL/L\n",
      "2020-11-29 13:38:43,907 - thermomodel_None - WARNING - Warning : NULL/L\n",
      "2020-11-29 13:38:43,909 - thermomodel_None - WARNING - Warning : NULL/U\n",
      "2020-11-29 13:38:43,909 - thermomodel_None - WARNING - Warning : NULL/L\n",
      "2020-11-29 13:38:43,909 - thermomodel_None - WARNING - Warning : NULL/L\n",
      "2020-11-29 13:38:44,129 - thermomodel_None - WARNING - Warning : NULL/U\n",
      "2020-11-29 13:38:44,129 - thermomodel_None - WARNING - Warning : NULL/L\n",
      "2020-11-29 13:38:44,129 - thermomodel_None - WARNING - Warning : NULL/L\n",
      "2020-11-29 13:38:44,129 - thermomodel_None - WARNING - Warning : NULL/U\n",
      "2020-11-29 13:38:44,129 - thermomodel_None - WARNING - Warning : NULL/L\n",
      "2020-11-29 13:38:44,129 - thermomodel_None - WARNING - Warning : NULL/L\n",
      "2020-11-29 13:38:44,283 - thermomodel_None - WARNING - Warning : NULL/U\n",
      "2020-11-29 13:38:44,283 - thermomodel_None - WARNING - Warning : NULL/L\n",
      "2020-11-29 13:38:44,283 - thermomodel_None - WARNING - Warning : NULL/L\n",
      "2020-11-29 13:38:44,283 - thermomodel_None - WARNING - Warning : NULL/U\n",
      "2020-11-29 13:38:44,283 - thermomodel_None - WARNING - Warning : NULL/L\n",
      "2020-11-29 13:38:44,283 - thermomodel_None - WARNING - Warning : NULL/L\n",
      "2020-11-29 13:38:44,334 - thermomodel_None - WARNING - Warning : NULL/U\n",
      "2020-11-29 13:38:44,342 - thermomodel_None - WARNING - Warning : NULL/L\n",
      "2020-11-29 13:38:44,342 - thermomodel_None - WARNING - Warning : NULL/L\n",
      "2020-11-29 13:38:44,342 - thermomodel_None - WARNING - Warning : NULL/U\n",
      "2020-11-29 13:38:44,342 - thermomodel_None - WARNING - Warning : NULL/L\n",
      "2020-11-29 13:38:44,342 - thermomodel_None - WARNING - Warning : NULL/L\n",
      "2020-11-29 13:38:44,342 - thermomodel_None - WARNING - Warning : NULL/U\n",
      "2020-11-29 13:38:44,342 - thermomodel_None - WARNING - Warning : NULL/L\n",
      "2020-11-29 13:38:44,342 - thermomodel_None - WARNING - Warning : NULL/L\n",
      "2020-11-29 13:38:44,342 - thermomodel_None - WARNING - Warning : NULL/U\n",
      "2020-11-29 13:38:44,342 - thermomodel_None - WARNING - Warning : NULL/L\n",
      "2020-11-29 13:38:44,342 - thermomodel_None - WARNING - Warning : NULL/L\n",
      "2020-11-29 13:38:44,342 - thermomodel_None - WARNING - Warning : NULL/U\n",
      "2020-11-29 13:38:44,342 - thermomodel_None - WARNING - Warning : NULL/L\n",
      "2020-11-29 13:38:44,342 - thermomodel_None - WARNING - Warning : NULL/L\n",
      "2020-11-29 13:38:44,352 - thermomodel_None - WARNING - Warning : NULL/U\n",
      "2020-11-29 13:38:44,352 - thermomodel_None - WARNING - Warning : NULL/L\n",
      "2020-11-29 13:38:44,352 - thermomodel_None - WARNING - Warning : NULL/L\n",
      "2020-11-29 13:38:44,352 - thermomodel_None - WARNING - Warning : NULL/U\n",
      "2020-11-29 13:38:44,352 - thermomodel_None - WARNING - Warning : NULL/L\n",
      "2020-11-29 13:38:44,352 - thermomodel_None - WARNING - Warning : NULL/L\n",
      "2020-11-29 13:38:44,352 - thermomodel_None - WARNING - Warning : NULL/U\n",
      "2020-11-29 13:38:44,352 - thermomodel_None - WARNING - Warning : NULL/L\n",
      "2020-11-29 13:38:44,352 - thermomodel_None - WARNING - Warning : NULL/L\n",
      "2020-11-29 13:38:44,468 - thermomodel_None - INFO - # Model preparation done.\n",
      "2020-11-29 13:38:44,468 - thermomodel_None - INFO - # Model conversion starting...\n",
      "2020-11-29 13:39:19,688 - thermomodel_None - INFO - # Model conversion done.\n",
      "2020-11-29 13:39:19,688 - thermomodel_None - INFO - # Updating cobra_model variables...\n",
      "2020-11-29 13:39:19,721 - thermomodel_None - INFO - # cobra_model variables are up-to-date\n"
     ]
    },
    {
     "name": "stdout",
     "output_type": "stream",
     "text": [
      "Read LP format model from file C:\\Users\\riheme\\AppData\\Local\\Temp\\tmpehw1zyfg.lp\n",
      "Reading time = 0.02 seconds\n",
      ": 1807 rows, 5170 columns, 20304 nonzeros\n",
      "Read LP format model from file C:\\Users\\riheme\\AppData\\Local\\Temp\\tmp2tu19zd_.lp\n",
      "Reading time = 0.02 seconds\n",
      ": 1807 rows, 5170 columns, 20304 nonzeros\n"
     ]
    },
    {
     "name": "stderr",
     "output_type": "stream",
     "text": [
      "2020-11-29 13:39:36,036 - thermomodel_Ecoli PGI (Glc) 5 @ t = 11 - INFO - # Model initialized with units kcal/mol and temperature 298.15 K\n"
     ]
    },
    {
     "name": "stdout",
     "output_type": "stream",
     "text": [
      "Read LP format model from file C:\\Users\\riheme\\AppData\\Local\\Temp\\tmpuppy8ljc.lp\n",
      "Reading time = 0.03 seconds\n",
      ": 1807 rows, 5170 columns, 20304 nonzeros\n",
      "Read LP format model from file C:\\Users\\riheme\\AppData\\Local\\Temp\\tmpuov15n3x.lp\n",
      "Reading time = 0.02 seconds\n",
      ": 1807 rows, 5170 columns, 20304 nonzeros\n"
     ]
    },
    {
     "name": "stderr",
     "output_type": "stream",
     "text": [
      "2020-11-29 13:40:01,785 - thermomodel_Ecoli PGI (Glc) 5 @ t = 11 - INFO - # Model initialized with units kcal/mol and temperature 298.15 K\n",
      "2020-11-29 13:40:10,762 - thermomodel_Ecoli PGI (Glc) 5 @ t = 11 - INFO - Adding slack constraints\n",
      "adding slacks: 100%|███████████████████████████████████████████████████████████████| 1824/1824 [00:39<00:00, 46.49it/s]\n",
      "2020-11-29 13:40:51,607 - thermomodel_Ecoli PGI (Glc) 5 @ t = 11 - INFO - Optimizing slack model\n",
      "2020-11-29 13:40:55,985 - thermomodel_Ecoli PGI (Glc) 5 @ t = 11 - INFO - Extracting relaxation\n",
      "applying slack: 100%|███████████████████████████████████████████████████████████| 2585/2585 [00:00<00:00, 55176.70it/s]\n",
      "2020-11-29 13:40:56,135 - thermomodel_Ecoli PGI (Glc) 5 @ t = 11 - INFO - Testing relaxation\n"
     ]
    },
    {
     "name": "stdout",
     "output_type": "stream",
     "text": [
      "################################################################################\n",
      "Ecoli PGI (Glc) 6 @ t = 1\n",
      "(96.17 min)\n",
      "################################################################################\n",
      "Read LP format model from file C:\\Users\\riheme\\AppData\\Local\\Temp\\tmpgoolonn4.lp\n",
      "Reading time = 0.02 seconds\n",
      ": 1807 rows, 5170 columns, 20334 nonzeros\n",
      "Read LP format model from file C:\\Users\\riheme\\AppData\\Local\\Temp\\tmpnfufrq5a.lp\n",
      "Reading time = 0.02 seconds\n",
      ": 1807 rows, 5170 columns, 20334 nonzeros\n"
     ]
    },
    {
     "name": "stderr",
     "output_type": "stream",
     "text": [
      "2020-11-29 13:41:11,008 - thermomodel_None - INFO - # Model initialized with units kcal/mol and temperature 298.15 K\n",
      "2020-11-29 13:41:11,016 - thermomodel_None - INFO - # Model preparation starting...\n",
      "2020-11-29 13:41:13,389 - thermomodel_None - WARNING - Warning : NULL/U\n",
      "2020-11-29 13:41:13,389 - thermomodel_None - WARNING - Warning : NULL/L\n",
      "2020-11-29 13:41:13,389 - thermomodel_None - WARNING - Warning : NULL/L\n",
      "2020-11-29 13:41:13,389 - thermomodel_None - WARNING - Warning : NULL/U\n",
      "2020-11-29 13:41:13,389 - thermomodel_None - WARNING - Warning : NULL/L\n",
      "2020-11-29 13:41:13,389 - thermomodel_None - WARNING - Warning : NULL/L\n",
      "2020-11-29 13:41:13,608 - thermomodel_None - WARNING - Warning : NULL/U\n",
      "2020-11-29 13:41:13,608 - thermomodel_None - WARNING - Warning : NULL/L\n",
      "2020-11-29 13:41:13,608 - thermomodel_None - WARNING - Warning : NULL/L\n",
      "2020-11-29 13:41:13,608 - thermomodel_None - WARNING - Warning : NULL/U\n",
      "2020-11-29 13:41:13,623 - thermomodel_None - WARNING - Warning : NULL/L\n",
      "2020-11-29 13:41:13,623 - thermomodel_None - WARNING - Warning : NULL/L\n",
      "2020-11-29 13:41:13,755 - thermomodel_None - WARNING - Warning : NULL/U\n",
      "2020-11-29 13:41:13,755 - thermomodel_None - WARNING - Warning : NULL/L\n",
      "2020-11-29 13:41:13,755 - thermomodel_None - WARNING - Warning : NULL/L\n",
      "2020-11-29 13:41:13,771 - thermomodel_None - WARNING - Warning : NULL/U\n",
      "2020-11-29 13:41:13,771 - thermomodel_None - WARNING - Warning : NULL/L\n",
      "2020-11-29 13:41:13,771 - thermomodel_None - WARNING - Warning : NULL/L\n",
      "2020-11-29 13:41:13,824 - thermomodel_None - WARNING - Warning : NULL/U\n",
      "2020-11-29 13:41:13,824 - thermomodel_None - WARNING - Warning : NULL/L\n",
      "2020-11-29 13:41:13,824 - thermomodel_None - WARNING - Warning : NULL/L\n",
      "2020-11-29 13:41:13,824 - thermomodel_None - WARNING - Warning : NULL/U\n",
      "2020-11-29 13:41:13,824 - thermomodel_None - WARNING - Warning : NULL/L\n",
      "2020-11-29 13:41:13,824 - thermomodel_None - WARNING - Warning : NULL/L\n",
      "2020-11-29 13:41:13,824 - thermomodel_None - WARNING - Warning : NULL/U\n",
      "2020-11-29 13:41:13,824 - thermomodel_None - WARNING - Warning : NULL/L\n",
      "2020-11-29 13:41:13,824 - thermomodel_None - WARNING - Warning : NULL/L\n",
      "2020-11-29 13:41:13,824 - thermomodel_None - WARNING - Warning : NULL/U\n",
      "2020-11-29 13:41:13,824 - thermomodel_None - WARNING - Warning : NULL/L\n",
      "2020-11-29 13:41:13,824 - thermomodel_None - WARNING - Warning : NULL/L\n",
      "2020-11-29 13:41:13,824 - thermomodel_None - WARNING - Warning : NULL/U\n",
      "2020-11-29 13:41:13,824 - thermomodel_None - WARNING - Warning : NULL/L\n",
      "2020-11-29 13:41:13,824 - thermomodel_None - WARNING - Warning : NULL/L\n",
      "2020-11-29 13:41:13,824 - thermomodel_None - WARNING - Warning : NULL/U\n",
      "2020-11-29 13:41:13,840 - thermomodel_None - WARNING - Warning : NULL/L\n",
      "2020-11-29 13:41:13,840 - thermomodel_None - WARNING - Warning : NULL/L\n",
      "2020-11-29 13:41:13,840 - thermomodel_None - WARNING - Warning : NULL/U\n",
      "2020-11-29 13:41:13,840 - thermomodel_None - WARNING - Warning : NULL/L\n",
      "2020-11-29 13:41:13,840 - thermomodel_None - WARNING - Warning : NULL/L\n",
      "2020-11-29 13:41:13,840 - thermomodel_None - WARNING - Warning : NULL/U\n",
      "2020-11-29 13:41:13,840 - thermomodel_None - WARNING - Warning : NULL/L\n",
      "2020-11-29 13:41:13,840 - thermomodel_None - WARNING - Warning : NULL/L\n",
      "2020-11-29 13:41:13,955 - thermomodel_None - INFO - # Model preparation done.\n",
      "2020-11-29 13:41:13,955 - thermomodel_None - INFO - # Model conversion starting...\n",
      "2020-11-29 13:41:49,141 - thermomodel_None - INFO - # Model conversion done.\n",
      "2020-11-29 13:41:49,141 - thermomodel_None - INFO - # Updating cobra_model variables...\n",
      "2020-11-29 13:41:49,189 - thermomodel_None - INFO - # cobra_model variables are up-to-date\n"
     ]
    },
    {
     "name": "stdout",
     "output_type": "stream",
     "text": [
      "Read LP format model from file C:\\Users\\riheme\\AppData\\Local\\Temp\\tmpcdk08g0s.lp\n",
      "Reading time = 0.02 seconds\n",
      ": 1807 rows, 5170 columns, 20304 nonzeros\n",
      "Read LP format model from file C:\\Users\\riheme\\AppData\\Local\\Temp\\tmpxdvfvc3l.lp\n",
      "Reading time = 0.03 seconds\n",
      ": 1807 rows, 5170 columns, 20304 nonzeros\n"
     ]
    },
    {
     "name": "stderr",
     "output_type": "stream",
     "text": [
      "2020-11-29 13:42:05,418 - thermomodel_Ecoli PGI (Glc) 6 @ t = 1 - INFO - # Model initialized with units kcal/mol and temperature 298.15 K\n"
     ]
    },
    {
     "name": "stdout",
     "output_type": "stream",
     "text": [
      "Read LP format model from file C:\\Users\\riheme\\AppData\\Local\\Temp\\tmpmy32qp3v.lp\n",
      "Reading time = 0.02 seconds\n",
      ": 1807 rows, 5170 columns, 20304 nonzeros\n",
      "Read LP format model from file C:\\Users\\riheme\\AppData\\Local\\Temp\\tmphvo17ry8.lp\n",
      "Reading time = 0.02 seconds\n",
      ": 1807 rows, 5170 columns, 20304 nonzeros\n"
     ]
    },
    {
     "name": "stderr",
     "output_type": "stream",
     "text": [
      "2020-11-29 13:42:31,028 - thermomodel_Ecoli PGI (Glc) 6 @ t = 1 - INFO - # Model initialized with units kcal/mol and temperature 298.15 K\n",
      "2020-11-29 13:42:40,751 - thermomodel_Ecoli PGI (Glc) 6 @ t = 1 - INFO - Adding slack constraints\n",
      "adding slacks: 100%|███████████████████████████████████████████████████████████████| 1824/1824 [00:37<00:00, 49.23it/s]\n",
      "2020-11-29 13:43:19,426 - thermomodel_Ecoli PGI (Glc) 6 @ t = 1 - INFO - Optimizing slack model\n",
      "2020-11-29 13:43:24,851 - thermomodel_Ecoli PGI (Glc) 6 @ t = 1 - INFO - Extracting relaxation\n",
      "applying slack: 100%|███████████████████████████████████████████████████████████| 2585/2585 [00:00<00:00, 47354.66it/s]\n",
      "2020-11-29 13:43:24,987 - thermomodel_Ecoli PGI (Glc) 6 @ t = 1 - INFO - Testing relaxation\n"
     ]
    },
    {
     "name": "stdout",
     "output_type": "stream",
     "text": [
      "################################################################################\n",
      "Ecoli PGI (Glc) 6 @ t = 2\n",
      "(98.65 min)\n",
      "################################################################################\n",
      "Read LP format model from file C:\\Users\\riheme\\AppData\\Local\\Temp\\tmpo15ijl4_.lp\n",
      "Reading time = 0.02 seconds\n",
      ": 1807 rows, 5170 columns, 20334 nonzeros\n",
      "Read LP format model from file C:\\Users\\riheme\\AppData\\Local\\Temp\\tmponkgenjr.lp\n",
      "Reading time = 0.03 seconds\n",
      ": 1807 rows, 5170 columns, 20334 nonzeros\n"
     ]
    },
    {
     "name": "stderr",
     "output_type": "stream",
     "text": [
      "2020-11-29 13:43:40,092 - thermomodel_None - INFO - # Model initialized with units kcal/mol and temperature 298.15 K\n",
      "2020-11-29 13:43:40,102 - thermomodel_None - INFO - # Model preparation starting...\n",
      "2020-11-29 13:43:42,520 - thermomodel_None - WARNING - Warning : NULL/U\n",
      "2020-11-29 13:43:42,520 - thermomodel_None - WARNING - Warning : NULL/L\n",
      "2020-11-29 13:43:42,520 - thermomodel_None - WARNING - Warning : NULL/L\n",
      "2020-11-29 13:43:42,520 - thermomodel_None - WARNING - Warning : NULL/U\n",
      "2020-11-29 13:43:42,520 - thermomodel_None - WARNING - Warning : NULL/L\n",
      "2020-11-29 13:43:42,520 - thermomodel_None - WARNING - Warning : NULL/L\n",
      "2020-11-29 13:43:42,749 - thermomodel_None - WARNING - Warning : NULL/U\n",
      "2020-11-29 13:43:42,749 - thermomodel_None - WARNING - Warning : NULL/L\n",
      "2020-11-29 13:43:42,749 - thermomodel_None - WARNING - Warning : NULL/L\n",
      "2020-11-29 13:43:42,749 - thermomodel_None - WARNING - Warning : NULL/U\n",
      "2020-11-29 13:43:42,749 - thermomodel_None - WARNING - Warning : NULL/L\n",
      "2020-11-29 13:43:42,749 - thermomodel_None - WARNING - Warning : NULL/L\n",
      "2020-11-29 13:43:42,896 - thermomodel_None - WARNING - Warning : NULL/U\n",
      "2020-11-29 13:43:42,896 - thermomodel_None - WARNING - Warning : NULL/L\n",
      "2020-11-29 13:43:42,912 - thermomodel_None - WARNING - Warning : NULL/L\n",
      "2020-11-29 13:43:42,912 - thermomodel_None - WARNING - Warning : NULL/U\n",
      "2020-11-29 13:43:42,912 - thermomodel_None - WARNING - Warning : NULL/L\n",
      "2020-11-29 13:43:42,912 - thermomodel_None - WARNING - Warning : NULL/L\n",
      "2020-11-29 13:43:42,965 - thermomodel_None - WARNING - Warning : NULL/U\n",
      "2020-11-29 13:43:42,965 - thermomodel_None - WARNING - Warning : NULL/L\n",
      "2020-11-29 13:43:42,965 - thermomodel_None - WARNING - Warning : NULL/L\n",
      "2020-11-29 13:43:42,965 - thermomodel_None - WARNING - Warning : NULL/U\n",
      "2020-11-29 13:43:42,965 - thermomodel_None - WARNING - Warning : NULL/L\n",
      "2020-11-29 13:43:42,965 - thermomodel_None - WARNING - Warning : NULL/L\n",
      "2020-11-29 13:43:42,965 - thermomodel_None - WARNING - Warning : NULL/U\n",
      "2020-11-29 13:43:42,965 - thermomodel_None - WARNING - Warning : NULL/L\n",
      "2020-11-29 13:43:42,965 - thermomodel_None - WARNING - Warning : NULL/L\n",
      "2020-11-29 13:43:42,965 - thermomodel_None - WARNING - Warning : NULL/U\n",
      "2020-11-29 13:43:42,965 - thermomodel_None - WARNING - Warning : NULL/L\n",
      "2020-11-29 13:43:42,965 - thermomodel_None - WARNING - Warning : NULL/L\n",
      "2020-11-29 13:43:42,965 - thermomodel_None - WARNING - Warning : NULL/U\n",
      "2020-11-29 13:43:42,965 - thermomodel_None - WARNING - Warning : NULL/L\n",
      "2020-11-29 13:43:42,965 - thermomodel_None - WARNING - Warning : NULL/L\n",
      "2020-11-29 13:43:42,965 - thermomodel_None - WARNING - Warning : NULL/U\n",
      "2020-11-29 13:43:42,965 - thermomodel_None - WARNING - Warning : NULL/L\n",
      "2020-11-29 13:43:42,965 - thermomodel_None - WARNING - Warning : NULL/L\n",
      "2020-11-29 13:43:42,965 - thermomodel_None - WARNING - Warning : NULL/U\n",
      "2020-11-29 13:43:42,981 - thermomodel_None - WARNING - Warning : NULL/L\n",
      "2020-11-29 13:43:42,981 - thermomodel_None - WARNING - Warning : NULL/L\n",
      "2020-11-29 13:43:42,981 - thermomodel_None - WARNING - Warning : NULL/U\n",
      "2020-11-29 13:43:42,981 - thermomodel_None - WARNING - Warning : NULL/L\n",
      "2020-11-29 13:43:42,981 - thermomodel_None - WARNING - Warning : NULL/L\n",
      "2020-11-29 13:43:43,097 - thermomodel_None - INFO - # Model preparation done.\n",
      "2020-11-29 13:43:43,097 - thermomodel_None - INFO - # Model conversion starting...\n",
      "2020-11-29 13:44:17,883 - thermomodel_None - INFO - # Model conversion done.\n",
      "2020-11-29 13:44:17,883 - thermomodel_None - INFO - # Updating cobra_model variables...\n",
      "2020-11-29 13:44:17,934 - thermomodel_None - INFO - # cobra_model variables are up-to-date\n"
     ]
    },
    {
     "name": "stdout",
     "output_type": "stream",
     "text": [
      "Read LP format model from file C:\\Users\\riheme\\AppData\\Local\\Temp\\tmpcsd6dcks.lp\n",
      "Reading time = 0.02 seconds\n",
      ": 1807 rows, 5170 columns, 20304 nonzeros\n",
      "Read LP format model from file C:\\Users\\riheme\\AppData\\Local\\Temp\\tmpdldoohjj.lp\n",
      "Reading time = 0.02 seconds\n",
      ": 1807 rows, 5170 columns, 20304 nonzeros\n"
     ]
    },
    {
     "name": "stderr",
     "output_type": "stream",
     "text": [
      "2020-11-29 13:44:33,986 - thermomodel_Ecoli PGI (Glc) 6 @ t = 2 - INFO - # Model initialized with units kcal/mol and temperature 298.15 K\n"
     ]
    },
    {
     "name": "stdout",
     "output_type": "stream",
     "text": [
      "Read LP format model from file C:\\Users\\riheme\\AppData\\Local\\Temp\\tmpwe0427uz.lp\n",
      "Reading time = 0.02 seconds\n",
      ": 1807 rows, 5170 columns, 20304 nonzeros\n",
      "Read LP format model from file C:\\Users\\riheme\\AppData\\Local\\Temp\\tmp23koz5kp.lp\n",
      "Reading time = 0.03 seconds\n",
      ": 1807 rows, 5170 columns, 20304 nonzeros\n"
     ]
    },
    {
     "name": "stderr",
     "output_type": "stream",
     "text": [
      "2020-11-29 13:44:59,679 - thermomodel_Ecoli PGI (Glc) 6 @ t = 2 - INFO - # Model initialized with units kcal/mol and temperature 298.15 K\n",
      "2020-11-29 13:45:08,619 - thermomodel_Ecoli PGI (Glc) 6 @ t = 2 - INFO - Adding slack constraints\n",
      "adding slacks: 100%|███████████████████████████████████████████████████████████████| 1824/1824 [00:38<00:00, 47.33it/s]\n",
      "2020-11-29 13:45:48,757 - thermomodel_Ecoli PGI (Glc) 6 @ t = 2 - INFO - Optimizing slack model\n",
      "2020-11-29 13:45:55,128 - thermomodel_Ecoli PGI (Glc) 6 @ t = 2 - INFO - Extracting relaxation\n",
      "applying slack: 100%|███████████████████████████████████████████████████████████| 2585/2585 [00:00<00:00, 44178.81it/s]\n",
      "2020-11-29 13:45:55,279 - thermomodel_Ecoli PGI (Glc) 6 @ t = 2 - INFO - Testing relaxation\n"
     ]
    },
    {
     "name": "stdout",
     "output_type": "stream",
     "text": [
      "################################################################################\n",
      "Ecoli PGI (Glc) 6 @ t = 3\n",
      "(101.15 min)\n",
      "################################################################################\n",
      "Read LP format model from file C:\\Users\\riheme\\AppData\\Local\\Temp\\tmptbix2vsf.lp\n",
      "Reading time = 0.02 seconds\n",
      ": 1807 rows, 5170 columns, 20334 nonzeros\n",
      "Read LP format model from file C:\\Users\\riheme\\AppData\\Local\\Temp\\tmpz95d5qmk.lp\n",
      "Reading time = 0.02 seconds\n",
      ": 1807 rows, 5170 columns, 20334 nonzeros\n"
     ]
    },
    {
     "name": "stderr",
     "output_type": "stream",
     "text": [
      "2020-11-29 13:46:09,940 - thermomodel_None - INFO - # Model initialized with units kcal/mol and temperature 298.15 K\n",
      "2020-11-29 13:46:09,948 - thermomodel_None - INFO - # Model preparation starting...\n",
      "2020-11-29 13:46:12,316 - thermomodel_None - WARNING - Warning : NULL/U\n",
      "2020-11-29 13:46:12,316 - thermomodel_None - WARNING - Warning : NULL/L\n",
      "2020-11-29 13:46:12,324 - thermomodel_None - WARNING - Warning : NULL/L\n",
      "2020-11-29 13:46:12,324 - thermomodel_None - WARNING - Warning : NULL/U\n",
      "2020-11-29 13:46:12,324 - thermomodel_None - WARNING - Warning : NULL/L\n",
      "2020-11-29 13:46:12,324 - thermomodel_None - WARNING - Warning : NULL/L\n",
      "2020-11-29 13:46:12,551 - thermomodel_None - WARNING - Warning : NULL/U\n",
      "2020-11-29 13:46:12,551 - thermomodel_None - WARNING - Warning : NULL/L\n",
      "2020-11-29 13:46:12,551 - thermomodel_None - WARNING - Warning : NULL/L\n",
      "2020-11-29 13:46:12,551 - thermomodel_None - WARNING - Warning : NULL/U\n",
      "2020-11-29 13:46:12,551 - thermomodel_None - WARNING - Warning : NULL/L\n",
      "2020-11-29 13:46:12,551 - thermomodel_None - WARNING - Warning : NULL/L\n",
      "2020-11-29 13:46:12,682 - thermomodel_None - WARNING - Warning : NULL/U\n",
      "2020-11-29 13:46:12,698 - thermomodel_None - WARNING - Warning : NULL/L\n",
      "2020-11-29 13:46:12,698 - thermomodel_None - WARNING - Warning : NULL/L\n",
      "2020-11-29 13:46:12,698 - thermomodel_None - WARNING - Warning : NULL/U\n",
      "2020-11-29 13:46:12,698 - thermomodel_None - WARNING - Warning : NULL/L\n",
      "2020-11-29 13:46:12,698 - thermomodel_None - WARNING - Warning : NULL/L\n",
      "2020-11-29 13:46:12,751 - thermomodel_None - WARNING - Warning : NULL/U\n",
      "2020-11-29 13:46:12,751 - thermomodel_None - WARNING - Warning : NULL/L\n",
      "2020-11-29 13:46:12,751 - thermomodel_None - WARNING - Warning : NULL/L\n",
      "2020-11-29 13:46:12,751 - thermomodel_None - WARNING - Warning : NULL/U\n",
      "2020-11-29 13:46:12,751 - thermomodel_None - WARNING - Warning : NULL/L\n",
      "2020-11-29 13:46:12,751 - thermomodel_None - WARNING - Warning : NULL/L\n",
      "2020-11-29 13:46:12,751 - thermomodel_None - WARNING - Warning : NULL/U\n",
      "2020-11-29 13:46:12,751 - thermomodel_None - WARNING - Warning : NULL/L\n",
      "2020-11-29 13:46:12,751 - thermomodel_None - WARNING - Warning : NULL/L\n",
      "2020-11-29 13:46:12,751 - thermomodel_None - WARNING - Warning : NULL/U\n",
      "2020-11-29 13:46:12,751 - thermomodel_None - WARNING - Warning : NULL/L\n",
      "2020-11-29 13:46:12,751 - thermomodel_None - WARNING - Warning : NULL/L\n",
      "2020-11-29 13:46:12,751 - thermomodel_None - WARNING - Warning : NULL/U\n",
      "2020-11-29 13:46:12,751 - thermomodel_None - WARNING - Warning : NULL/L\n",
      "2020-11-29 13:46:12,767 - thermomodel_None - WARNING - Warning : NULL/L\n",
      "2020-11-29 13:46:12,767 - thermomodel_None - WARNING - Warning : NULL/U\n",
      "2020-11-29 13:46:12,767 - thermomodel_None - WARNING - Warning : NULL/L\n",
      "2020-11-29 13:46:12,767 - thermomodel_None - WARNING - Warning : NULL/L\n",
      "2020-11-29 13:46:12,767 - thermomodel_None - WARNING - Warning : NULL/U\n",
      "2020-11-29 13:46:12,767 - thermomodel_None - WARNING - Warning : NULL/L\n",
      "2020-11-29 13:46:12,767 - thermomodel_None - WARNING - Warning : NULL/L\n",
      "2020-11-29 13:46:12,767 - thermomodel_None - WARNING - Warning : NULL/U\n",
      "2020-11-29 13:46:12,767 - thermomodel_None - WARNING - Warning : NULL/L\n",
      "2020-11-29 13:46:12,767 - thermomodel_None - WARNING - Warning : NULL/L\n",
      "2020-11-29 13:46:12,883 - thermomodel_None - INFO - # Model preparation done.\n",
      "2020-11-29 13:46:12,883 - thermomodel_None - INFO - # Model conversion starting...\n",
      "2020-11-29 13:46:48,067 - thermomodel_None - INFO - # Model conversion done.\n",
      "2020-11-29 13:46:48,075 - thermomodel_None - INFO - # Updating cobra_model variables...\n",
      "2020-11-29 13:46:48,116 - thermomodel_None - INFO - # cobra_model variables are up-to-date\n"
     ]
    },
    {
     "name": "stdout",
     "output_type": "stream",
     "text": [
      "Read LP format model from file C:\\Users\\riheme\\AppData\\Local\\Temp\\tmpezie0ev6.lp\n",
      "Reading time = 0.02 seconds\n",
      ": 1807 rows, 5170 columns, 20304 nonzeros\n",
      "Read LP format model from file C:\\Users\\riheme\\AppData\\Local\\Temp\\tmpowikggvr.lp\n",
      "Reading time = 0.02 seconds\n",
      ": 1807 rows, 5170 columns, 20304 nonzeros\n"
     ]
    },
    {
     "name": "stderr",
     "output_type": "stream",
     "text": [
      "2020-11-29 13:47:04,203 - thermomodel_Ecoli PGI (Glc) 6 @ t = 3 - INFO - # Model initialized with units kcal/mol and temperature 298.15 K\n"
     ]
    },
    {
     "name": "stdout",
     "output_type": "stream",
     "text": [
      "Read LP format model from file C:\\Users\\riheme\\AppData\\Local\\Temp\\tmp831cy9yo.lp\n",
      "Reading time = 0.02 seconds\n",
      ": 1807 rows, 5170 columns, 20304 nonzeros\n",
      "Read LP format model from file C:\\Users\\riheme\\AppData\\Local\\Temp\\tmp8x6aszyh.lp\n",
      "Reading time = 0.02 seconds\n",
      ": 1807 rows, 5170 columns, 20304 nonzeros\n"
     ]
    },
    {
     "name": "stderr",
     "output_type": "stream",
     "text": [
      "2020-11-29 13:47:29,963 - thermomodel_Ecoli PGI (Glc) 6 @ t = 3 - INFO - # Model initialized with units kcal/mol and temperature 298.15 K\n",
      "2020-11-29 13:47:39,390 - thermomodel_Ecoli PGI (Glc) 6 @ t = 3 - INFO - Adding slack constraints\n",
      "adding slacks: 100%|███████████████████████████████████████████████████████████████| 1824/1824 [00:39<00:00, 46.03it/s]\n",
      "2020-11-29 13:48:20,630 - thermomodel_Ecoli PGI (Glc) 6 @ t = 3 - INFO - Optimizing slack model\n",
      "2020-11-29 13:48:24,824 - thermomodel_Ecoli PGI (Glc) 6 @ t = 3 - INFO - Extracting relaxation\n",
      "applying slack: 100%|███████████████████████████████████████████████████████████| 2585/2585 [00:00<00:00, 50358.22it/s]\n",
      "2020-11-29 13:48:24,980 - thermomodel_Ecoli PGI (Glc) 6 @ t = 3 - INFO - Testing relaxation\n"
     ]
    },
    {
     "name": "stdout",
     "output_type": "stream",
     "text": [
      "################################################################################\n",
      "Ecoli PGI (Glc) 6 @ t = 11\n",
      "(103.65 min)\n",
      "################################################################################\n",
      "Read LP format model from file C:\\Users\\riheme\\AppData\\Local\\Temp\\tmpj31rt8ks.lp\n",
      "Reading time = 0.02 seconds\n",
      ": 1807 rows, 5170 columns, 20334 nonzeros\n",
      "Read LP format model from file C:\\Users\\riheme\\AppData\\Local\\Temp\\tmpynl28n9h.lp\n",
      "Reading time = 0.02 seconds\n",
      ": 1807 rows, 5170 columns, 20334 nonzeros\n"
     ]
    },
    {
     "name": "stderr",
     "output_type": "stream",
     "text": [
      "2020-11-29 13:48:40,054 - thermomodel_None - INFO - # Model initialized with units kcal/mol and temperature 298.15 K\n",
      "2020-11-29 13:48:40,062 - thermomodel_None - INFO - # Model preparation starting...\n",
      "2020-11-29 13:48:42,412 - thermomodel_None - WARNING - Warning : NULL/U\n",
      "2020-11-29 13:48:42,414 - thermomodel_None - WARNING - Warning : NULL/L\n",
      "2020-11-29 13:48:42,414 - thermomodel_None - WARNING - Warning : NULL/L\n",
      "2020-11-29 13:48:42,414 - thermomodel_None - WARNING - Warning : NULL/U\n",
      "2020-11-29 13:48:42,414 - thermomodel_None - WARNING - Warning : NULL/L\n",
      "2020-11-29 13:48:42,414 - thermomodel_None - WARNING - Warning : NULL/L\n",
      "2020-11-29 13:48:42,636 - thermomodel_None - WARNING - Warning : NULL/U\n",
      "2020-11-29 13:48:42,636 - thermomodel_None - WARNING - Warning : NULL/L\n",
      "2020-11-29 13:48:42,636 - thermomodel_None - WARNING - Warning : NULL/L\n",
      "2020-11-29 13:48:42,636 - thermomodel_None - WARNING - Warning : NULL/U\n",
      "2020-11-29 13:48:42,636 - thermomodel_None - WARNING - Warning : NULL/L\n",
      "2020-11-29 13:48:42,636 - thermomodel_None - WARNING - Warning : NULL/L\n",
      "2020-11-29 13:48:42,770 - thermomodel_None - WARNING - Warning : NULL/U\n",
      "2020-11-29 13:48:42,785 - thermomodel_None - WARNING - Warning : NULL/L\n",
      "2020-11-29 13:48:42,785 - thermomodel_None - WARNING - Warning : NULL/L\n",
      "2020-11-29 13:48:42,785 - thermomodel_None - WARNING - Warning : NULL/U\n",
      "2020-11-29 13:48:42,785 - thermomodel_None - WARNING - Warning : NULL/L\n",
      "2020-11-29 13:48:42,785 - thermomodel_None - WARNING - Warning : NULL/L\n",
      "2020-11-29 13:48:42,832 - thermomodel_None - WARNING - Warning : NULL/U\n",
      "2020-11-29 13:48:42,832 - thermomodel_None - WARNING - Warning : NULL/L\n",
      "2020-11-29 13:48:42,832 - thermomodel_None - WARNING - Warning : NULL/L\n",
      "2020-11-29 13:48:42,848 - thermomodel_None - WARNING - Warning : NULL/U\n",
      "2020-11-29 13:48:42,848 - thermomodel_None - WARNING - Warning : NULL/L\n",
      "2020-11-29 13:48:42,848 - thermomodel_None - WARNING - Warning : NULL/L\n",
      "2020-11-29 13:48:42,848 - thermomodel_None - WARNING - Warning : NULL/U\n",
      "2020-11-29 13:48:42,848 - thermomodel_None - WARNING - Warning : NULL/L\n",
      "2020-11-29 13:48:42,848 - thermomodel_None - WARNING - Warning : NULL/L\n",
      "2020-11-29 13:48:42,848 - thermomodel_None - WARNING - Warning : NULL/U\n",
      "2020-11-29 13:48:42,848 - thermomodel_None - WARNING - Warning : NULL/L\n",
      "2020-11-29 13:48:42,854 - thermomodel_None - WARNING - Warning : NULL/L\n",
      "2020-11-29 13:48:42,854 - thermomodel_None - WARNING - Warning : NULL/U\n",
      "2020-11-29 13:48:42,854 - thermomodel_None - WARNING - Warning : NULL/L\n",
      "2020-11-29 13:48:42,854 - thermomodel_None - WARNING - Warning : NULL/L\n",
      "2020-11-29 13:48:42,854 - thermomodel_None - WARNING - Warning : NULL/U\n",
      "2020-11-29 13:48:42,854 - thermomodel_None - WARNING - Warning : NULL/L\n",
      "2020-11-29 13:48:42,854 - thermomodel_None - WARNING - Warning : NULL/L\n",
      "2020-11-29 13:48:42,854 - thermomodel_None - WARNING - Warning : NULL/U\n",
      "2020-11-29 13:48:42,854 - thermomodel_None - WARNING - Warning : NULL/L\n",
      "2020-11-29 13:48:42,854 - thermomodel_None - WARNING - Warning : NULL/L\n",
      "2020-11-29 13:48:42,854 - thermomodel_None - WARNING - Warning : NULL/U\n",
      "2020-11-29 13:48:42,854 - thermomodel_None - WARNING - Warning : NULL/L\n",
      "2020-11-29 13:48:42,854 - thermomodel_None - WARNING - Warning : NULL/L\n",
      "2020-11-29 13:48:42,970 - thermomodel_None - INFO - # Model preparation done.\n",
      "2020-11-29 13:48:42,970 - thermomodel_None - INFO - # Model conversion starting...\n",
      "2020-11-29 13:49:17,570 - thermomodel_None - INFO - # Model conversion done.\n",
      "2020-11-29 13:49:17,570 - thermomodel_None - INFO - # Updating cobra_model variables...\n",
      "2020-11-29 13:49:17,603 - thermomodel_None - INFO - # cobra_model variables are up-to-date\n"
     ]
    },
    {
     "name": "stdout",
     "output_type": "stream",
     "text": [
      "Read LP format model from file C:\\Users\\riheme\\AppData\\Local\\Temp\\tmpdfv2sjrd.lp\n",
      "Reading time = 0.02 seconds\n",
      ": 1807 rows, 5170 columns, 20304 nonzeros\n",
      "Read LP format model from file C:\\Users\\riheme\\AppData\\Local\\Temp\\tmph5pk7mys.lp\n",
      "Reading time = 0.02 seconds\n",
      ": 1807 rows, 5170 columns, 20304 nonzeros\n"
     ]
    },
    {
     "name": "stderr",
     "output_type": "stream",
     "text": [
      "2020-11-29 13:49:33,674 - thermomodel_Ecoli PGI (Glc) 6 @ t = 11 - INFO - # Model initialized with units kcal/mol and temperature 298.15 K\n"
     ]
    },
    {
     "name": "stdout",
     "output_type": "stream",
     "text": [
      "Read LP format model from file C:\\Users\\riheme\\AppData\\Local\\Temp\\tmp8il9l74c.lp\n",
      "Reading time = 0.03 seconds\n",
      ": 1807 rows, 5170 columns, 20304 nonzeros\n",
      "Read LP format model from file C:\\Users\\riheme\\AppData\\Local\\Temp\\tmp0c37zkdu.lp\n",
      "Reading time = 0.02 seconds\n",
      ": 1807 rows, 5170 columns, 20304 nonzeros\n"
     ]
    },
    {
     "name": "stderr",
     "output_type": "stream",
     "text": [
      "2020-11-29 13:49:59,552 - thermomodel_Ecoli PGI (Glc) 6 @ t = 11 - INFO - # Model initialized with units kcal/mol and temperature 298.15 K\n",
      "2020-11-29 13:50:08,574 - thermomodel_Ecoli PGI (Glc) 6 @ t = 11 - INFO - Adding slack constraints\n",
      "adding slacks: 100%|███████████████████████████████████████████████████████████████| 1824/1824 [00:38<00:00, 47.76it/s]\n",
      "2020-11-29 13:50:48,381 - thermomodel_Ecoli PGI (Glc) 6 @ t = 11 - INFO - Optimizing slack model\n",
      "2020-11-29 13:50:51,652 - thermomodel_Ecoli PGI (Glc) 6 @ t = 11 - INFO - Extracting relaxation\n",
      "applying slack: 100%|███████████████████████████████████████████████████████████| 2585/2585 [00:00<00:00, 55176.98it/s]\n",
      "2020-11-29 13:50:51,801 - thermomodel_Ecoli PGI (Glc) 6 @ t = 11 - INFO - Testing relaxation\n"
     ]
    },
    {
     "name": "stdout",
     "output_type": "stream",
     "text": [
      "################################################################################\n",
      "Ecoli PGI (Glc) 7 @ t = 1\n",
      "(106.10 min)\n",
      "################################################################################\n",
      "Read LP format model from file C:\\Users\\riheme\\AppData\\Local\\Temp\\tmprs7ci4sj.lp\n",
      "Reading time = 0.02 seconds\n",
      ": 1807 rows, 5170 columns, 20334 nonzeros\n",
      "Read LP format model from file C:\\Users\\riheme\\AppData\\Local\\Temp\\tmpuvvzqwno.lp\n",
      "Reading time = 0.02 seconds\n",
      ": 1807 rows, 5170 columns, 20334 nonzeros\n"
     ]
    },
    {
     "name": "stderr",
     "output_type": "stream",
     "text": [
      "2020-11-29 13:51:06,781 - thermomodel_None - INFO - # Model initialized with units kcal/mol and temperature 298.15 K\n",
      "2020-11-29 13:51:06,793 - thermomodel_None - INFO - # Model preparation starting...\n",
      "2020-11-29 13:51:09,164 - thermomodel_None - WARNING - Warning : NULL/U\n",
      "2020-11-29 13:51:09,164 - thermomodel_None - WARNING - Warning : NULL/L\n",
      "2020-11-29 13:51:09,164 - thermomodel_None - WARNING - Warning : NULL/L\n",
      "2020-11-29 13:51:09,166 - thermomodel_None - WARNING - Warning : NULL/U\n",
      "2020-11-29 13:51:09,166 - thermomodel_None - WARNING - Warning : NULL/L\n",
      "2020-11-29 13:51:09,166 - thermomodel_None - WARNING - Warning : NULL/L\n",
      "2020-11-29 13:51:09,377 - thermomodel_None - WARNING - Warning : NULL/U\n",
      "2020-11-29 13:51:09,377 - thermomodel_None - WARNING - Warning : NULL/L\n",
      "2020-11-29 13:51:09,377 - thermomodel_None - WARNING - Warning : NULL/L\n",
      "2020-11-29 13:51:09,377 - thermomodel_None - WARNING - Warning : NULL/U\n",
      "2020-11-29 13:51:09,377 - thermomodel_None - WARNING - Warning : NULL/L\n",
      "2020-11-29 13:51:09,385 - thermomodel_None - WARNING - Warning : NULL/L\n",
      "2020-11-29 13:51:09,527 - thermomodel_None - WARNING - Warning : NULL/U\n",
      "2020-11-29 13:51:09,527 - thermomodel_None - WARNING - Warning : NULL/L\n",
      "2020-11-29 13:51:09,527 - thermomodel_None - WARNING - Warning : NULL/L\n",
      "2020-11-29 13:51:09,527 - thermomodel_None - WARNING - Warning : NULL/U\n",
      "2020-11-29 13:51:09,527 - thermomodel_None - WARNING - Warning : NULL/L\n",
      "2020-11-29 13:51:09,527 - thermomodel_None - WARNING - Warning : NULL/L\n",
      "2020-11-29 13:51:09,589 - thermomodel_None - WARNING - Warning : NULL/U\n",
      "2020-11-29 13:51:09,589 - thermomodel_None - WARNING - Warning : NULL/L\n",
      "2020-11-29 13:51:09,596 - thermomodel_None - WARNING - Warning : NULL/L\n",
      "2020-11-29 13:51:09,596 - thermomodel_None - WARNING - Warning : NULL/U\n",
      "2020-11-29 13:51:09,596 - thermomodel_None - WARNING - Warning : NULL/L\n",
      "2020-11-29 13:51:09,596 - thermomodel_None - WARNING - Warning : NULL/L\n",
      "2020-11-29 13:51:09,596 - thermomodel_None - WARNING - Warning : NULL/U\n",
      "2020-11-29 13:51:09,596 - thermomodel_None - WARNING - Warning : NULL/L\n",
      "2020-11-29 13:51:09,596 - thermomodel_None - WARNING - Warning : NULL/L\n",
      "2020-11-29 13:51:09,596 - thermomodel_None - WARNING - Warning : NULL/U\n",
      "2020-11-29 13:51:09,596 - thermomodel_None - WARNING - Warning : NULL/L\n",
      "2020-11-29 13:51:09,596 - thermomodel_None - WARNING - Warning : NULL/L\n",
      "2020-11-29 13:51:09,596 - thermomodel_None - WARNING - Warning : NULL/U\n",
      "2020-11-29 13:51:09,596 - thermomodel_None - WARNING - Warning : NULL/L\n",
      "2020-11-29 13:51:09,596 - thermomodel_None - WARNING - Warning : NULL/L\n",
      "2020-11-29 13:51:09,596 - thermomodel_None - WARNING - Warning : NULL/U\n",
      "2020-11-29 13:51:09,596 - thermomodel_None - WARNING - Warning : NULL/L\n",
      "2020-11-29 13:51:09,596 - thermomodel_None - WARNING - Warning : NULL/L\n",
      "2020-11-29 13:51:09,596 - thermomodel_None - WARNING - Warning : NULL/U\n",
      "2020-11-29 13:51:09,596 - thermomodel_None - WARNING - Warning : NULL/L\n",
      "2020-11-29 13:51:09,596 - thermomodel_None - WARNING - Warning : NULL/L\n",
      "2020-11-29 13:51:09,611 - thermomodel_None - WARNING - Warning : NULL/U\n",
      "2020-11-29 13:51:09,611 - thermomodel_None - WARNING - Warning : NULL/L\n",
      "2020-11-29 13:51:09,611 - thermomodel_None - WARNING - Warning : NULL/L\n",
      "2020-11-29 13:51:09,727 - thermomodel_None - INFO - # Model preparation done.\n",
      "2020-11-29 13:51:09,727 - thermomodel_None - INFO - # Model conversion starting...\n",
      "2020-11-29 13:51:45,088 - thermomodel_None - INFO - # Model conversion done.\n",
      "2020-11-29 13:51:45,088 - thermomodel_None - INFO - # Updating cobra_model variables...\n",
      "2020-11-29 13:51:45,122 - thermomodel_None - INFO - # cobra_model variables are up-to-date\n"
     ]
    },
    {
     "name": "stdout",
     "output_type": "stream",
     "text": [
      "Read LP format model from file C:\\Users\\riheme\\AppData\\Local\\Temp\\tmpgimtw5v3.lp\n",
      "Reading time = 0.02 seconds\n",
      ": 1807 rows, 5170 columns, 20304 nonzeros\n",
      "Read LP format model from file C:\\Users\\riheme\\AppData\\Local\\Temp\\tmphtghh8t9.lp\n",
      "Reading time = 0.02 seconds\n",
      ": 1807 rows, 5170 columns, 20304 nonzeros\n"
     ]
    },
    {
     "name": "stderr",
     "output_type": "stream",
     "text": [
      "2020-11-29 13:52:01,186 - thermomodel_Ecoli PGI (Glc) 7 @ t = 1 - INFO - # Model initialized with units kcal/mol and temperature 298.15 K\n"
     ]
    },
    {
     "name": "stdout",
     "output_type": "stream",
     "text": [
      "Read LP format model from file C:\\Users\\riheme\\AppData\\Local\\Temp\\tmpclhze7l_.lp\n",
      "Reading time = 0.02 seconds\n",
      ": 1807 rows, 5170 columns, 20304 nonzeros\n",
      "Read LP format model from file C:\\Users\\riheme\\AppData\\Local\\Temp\\tmpj6ybb8sl.lp\n",
      "Reading time = 0.02 seconds\n",
      ": 1807 rows, 5170 columns, 20304 nonzeros\n"
     ]
    },
    {
     "name": "stderr",
     "output_type": "stream",
     "text": [
      "2020-11-29 13:52:26,794 - thermomodel_Ecoli PGI (Glc) 7 @ t = 1 - INFO - # Model initialized with units kcal/mol and temperature 298.15 K\n",
      "2020-11-29 13:52:35,683 - thermomodel_Ecoli PGI (Glc) 7 @ t = 1 - INFO - Adding slack constraints\n",
      "adding slacks: 100%|███████████████████████████████████████████████████████████████| 1824/1824 [00:38<00:00, 47.85it/s]\n",
      "2020-11-29 13:53:15,424 - thermomodel_Ecoli PGI (Glc) 7 @ t = 1 - INFO - Optimizing slack model\n",
      "2020-11-29 13:53:20,578 - thermomodel_Ecoli PGI (Glc) 7 @ t = 1 - INFO - Extracting relaxation\n",
      "applying slack: 100%|███████████████████████████████████████████████████████████| 2585/2585 [00:00<00:00, 45449.60it/s]\n",
      "2020-11-29 13:53:20,725 - thermomodel_Ecoli PGI (Glc) 7 @ t = 1 - INFO - Testing relaxation\n"
     ]
    },
    {
     "name": "stdout",
     "output_type": "stream",
     "text": [
      "################################################################################\n",
      "Ecoli PGI (Glc) 7 @ t = 2\n",
      "(108.58 min)\n",
      "################################################################################\n",
      "Read LP format model from file C:\\Users\\riheme\\AppData\\Local\\Temp\\tmpaqtxz8sv.lp\n",
      "Reading time = 0.02 seconds\n",
      ": 1807 rows, 5170 columns, 20334 nonzeros\n",
      "Read LP format model from file C:\\Users\\riheme\\AppData\\Local\\Temp\\tmpfubwmlxh.lp\n",
      "Reading time = 0.02 seconds\n",
      ": 1807 rows, 5170 columns, 20334 nonzeros\n"
     ]
    },
    {
     "name": "stderr",
     "output_type": "stream",
     "text": [
      "2020-11-29 13:53:35,634 - thermomodel_None - INFO - # Model initialized with units kcal/mol and temperature 298.15 K\n",
      "2020-11-29 13:53:35,636 - thermomodel_None - INFO - # Model preparation starting...\n",
      "2020-11-29 13:53:38,072 - thermomodel_None - WARNING - Warning : NULL/U\n",
      "2020-11-29 13:53:38,072 - thermomodel_None - WARNING - Warning : NULL/L\n",
      "2020-11-29 13:53:38,074 - thermomodel_None - WARNING - Warning : NULL/L\n",
      "2020-11-29 13:53:38,074 - thermomodel_None - WARNING - Warning : NULL/U\n",
      "2020-11-29 13:53:38,074 - thermomodel_None - WARNING - Warning : NULL/L\n",
      "2020-11-29 13:53:38,074 - thermomodel_None - WARNING - Warning : NULL/L\n",
      "2020-11-29 13:53:38,317 - thermomodel_None - WARNING - Warning : NULL/U\n",
      "2020-11-29 13:53:38,317 - thermomodel_None - WARNING - Warning : NULL/L\n",
      "2020-11-29 13:53:38,317 - thermomodel_None - WARNING - Warning : NULL/L\n",
      "2020-11-29 13:53:38,317 - thermomodel_None - WARNING - Warning : NULL/U\n",
      "2020-11-29 13:53:38,317 - thermomodel_None - WARNING - Warning : NULL/L\n",
      "2020-11-29 13:53:38,317 - thermomodel_None - WARNING - Warning : NULL/L\n",
      "2020-11-29 13:53:38,501 - thermomodel_None - WARNING - Warning : NULL/U\n",
      "2020-11-29 13:53:38,501 - thermomodel_None - WARNING - Warning : NULL/L\n",
      "2020-11-29 13:53:38,501 - thermomodel_None - WARNING - Warning : NULL/L\n",
      "2020-11-29 13:53:38,501 - thermomodel_None - WARNING - Warning : NULL/U\n",
      "2020-11-29 13:53:38,501 - thermomodel_None - WARNING - Warning : NULL/L\n",
      "2020-11-29 13:53:38,501 - thermomodel_None - WARNING - Warning : NULL/L\n",
      "2020-11-29 13:53:38,575 - thermomodel_None - WARNING - Warning : NULL/U\n",
      "2020-11-29 13:53:38,591 - thermomodel_None - WARNING - Warning : NULL/L\n",
      "2020-11-29 13:53:38,591 - thermomodel_None - WARNING - Warning : NULL/L\n",
      "2020-11-29 13:53:38,591 - thermomodel_None - WARNING - Warning : NULL/U\n",
      "2020-11-29 13:53:38,591 - thermomodel_None - WARNING - Warning : NULL/L\n",
      "2020-11-29 13:53:38,591 - thermomodel_None - WARNING - Warning : NULL/L\n",
      "2020-11-29 13:53:38,591 - thermomodel_None - WARNING - Warning : NULL/U\n",
      "2020-11-29 13:53:38,591 - thermomodel_None - WARNING - Warning : NULL/L\n",
      "2020-11-29 13:53:38,591 - thermomodel_None - WARNING - Warning : NULL/L\n",
      "2020-11-29 13:53:38,591 - thermomodel_None - WARNING - Warning : NULL/U\n",
      "2020-11-29 13:53:38,591 - thermomodel_None - WARNING - Warning : NULL/L\n",
      "2020-11-29 13:53:38,591 - thermomodel_None - WARNING - Warning : NULL/L\n",
      "2020-11-29 13:53:38,591 - thermomodel_None - WARNING - Warning : NULL/U\n",
      "2020-11-29 13:53:38,591 - thermomodel_None - WARNING - Warning : NULL/L\n",
      "2020-11-29 13:53:38,607 - thermomodel_None - WARNING - Warning : NULL/L\n",
      "2020-11-29 13:53:38,607 - thermomodel_None - WARNING - Warning : NULL/U\n",
      "2020-11-29 13:53:38,607 - thermomodel_None - WARNING - Warning : NULL/L\n",
      "2020-11-29 13:53:38,607 - thermomodel_None - WARNING - Warning : NULL/L\n",
      "2020-11-29 13:53:38,607 - thermomodel_None - WARNING - Warning : NULL/U\n",
      "2020-11-29 13:53:38,607 - thermomodel_None - WARNING - Warning : NULL/L\n",
      "2020-11-29 13:53:38,607 - thermomodel_None - WARNING - Warning : NULL/L\n",
      "2020-11-29 13:53:38,607 - thermomodel_None - WARNING - Warning : NULL/U\n",
      "2020-11-29 13:53:38,607 - thermomodel_None - WARNING - Warning : NULL/L\n",
      "2020-11-29 13:53:38,607 - thermomodel_None - WARNING - Warning : NULL/L\n",
      "2020-11-29 13:53:38,771 - thermomodel_None - INFO - # Model preparation done.\n",
      "2020-11-29 13:53:38,771 - thermomodel_None - INFO - # Model conversion starting...\n",
      "2020-11-29 13:54:14,051 - thermomodel_None - INFO - # Model conversion done.\n",
      "2020-11-29 13:54:14,051 - thermomodel_None - INFO - # Updating cobra_model variables...\n",
      "2020-11-29 13:54:14,101 - thermomodel_None - INFO - # cobra_model variables are up-to-date\n"
     ]
    },
    {
     "name": "stdout",
     "output_type": "stream",
     "text": [
      "Read LP format model from file C:\\Users\\riheme\\AppData\\Local\\Temp\\tmpkv0qzon4.lp\n",
      "Reading time = 0.02 seconds\n",
      ": 1807 rows, 5170 columns, 20304 nonzeros\n",
      "Read LP format model from file C:\\Users\\riheme\\AppData\\Local\\Temp\\tmpddig6rbh.lp\n",
      "Reading time = 0.02 seconds\n",
      ": 1807 rows, 5170 columns, 20304 nonzeros\n"
     ]
    },
    {
     "name": "stderr",
     "output_type": "stream",
     "text": [
      "2020-11-29 13:54:30,220 - thermomodel_Ecoli PGI (Glc) 7 @ t = 2 - INFO - # Model initialized with units kcal/mol and temperature 298.15 K\n"
     ]
    },
    {
     "name": "stdout",
     "output_type": "stream",
     "text": [
      "Read LP format model from file C:\\Users\\riheme\\AppData\\Local\\Temp\\tmpoi6tv3h0.lp\n",
      "Reading time = 0.02 seconds\n",
      ": 1807 rows, 5170 columns, 20304 nonzeros\n",
      "Read LP format model from file C:\\Users\\riheme\\AppData\\Local\\Temp\\tmpgbeue01c.lp\n",
      "Reading time = 0.02 seconds\n",
      ": 1807 rows, 5170 columns, 20304 nonzeros\n"
     ]
    },
    {
     "name": "stderr",
     "output_type": "stream",
     "text": [
      "2020-11-29 13:54:56,388 - thermomodel_Ecoli PGI (Glc) 7 @ t = 2 - INFO - # Model initialized with units kcal/mol and temperature 298.15 K\n",
      "2020-11-29 13:55:05,524 - thermomodel_Ecoli PGI (Glc) 7 @ t = 2 - INFO - Adding slack constraints\n",
      "adding slacks: 100%|███████████████████████████████████████████████████████████████| 1824/1824 [00:37<00:00, 48.19it/s]\n",
      "2020-11-29 13:55:45,761 - thermomodel_Ecoli PGI (Glc) 7 @ t = 2 - INFO - Optimizing slack model\n",
      "2020-11-29 13:55:52,122 - thermomodel_Ecoli PGI (Glc) 7 @ t = 2 - INFO - Extracting relaxation\n",
      "applying slack: 100%|███████████████████████████████████████████████████████████| 2585/2585 [00:00<00:00, 42675.54it/s]\n",
      "2020-11-29 13:55:52,274 - thermomodel_Ecoli PGI (Glc) 7 @ t = 2 - INFO - Testing relaxation\n"
     ]
    },
    {
     "name": "stdout",
     "output_type": "stream",
     "text": [
      "################################################################################\n",
      "Ecoli PGI (Glc) 7 @ t = 3\n",
      "(111.11 min)\n",
      "################################################################################\n",
      "Read LP format model from file C:\\Users\\riheme\\AppData\\Local\\Temp\\tmpw_6yo3r0.lp\n",
      "Reading time = 0.02 seconds\n",
      ": 1807 rows, 5170 columns, 20334 nonzeros\n",
      "Read LP format model from file C:\\Users\\riheme\\AppData\\Local\\Temp\\tmpq3ufqv3o.lp\n",
      "Reading time = 0.02 seconds\n",
      ": 1807 rows, 5170 columns, 20334 nonzeros\n"
     ]
    },
    {
     "name": "stderr",
     "output_type": "stream",
     "text": [
      "2020-11-29 13:56:07,369 - thermomodel_None - INFO - # Model initialized with units kcal/mol and temperature 298.15 K\n",
      "2020-11-29 13:56:07,377 - thermomodel_None - INFO - # Model preparation starting...\n",
      "2020-11-29 13:56:09,744 - thermomodel_None - WARNING - Warning : NULL/U\n",
      "2020-11-29 13:56:09,744 - thermomodel_None - WARNING - Warning : NULL/L\n",
      "2020-11-29 13:56:09,744 - thermomodel_None - WARNING - Warning : NULL/L\n",
      "2020-11-29 13:56:09,744 - thermomodel_None - WARNING - Warning : NULL/U\n",
      "2020-11-29 13:56:09,744 - thermomodel_None - WARNING - Warning : NULL/L\n",
      "2020-11-29 13:56:09,744 - thermomodel_None - WARNING - Warning : NULL/L\n",
      "2020-11-29 13:56:09,974 - thermomodel_None - WARNING - Warning : NULL/U\n",
      "2020-11-29 13:56:09,974 - thermomodel_None - WARNING - Warning : NULL/L\n",
      "2020-11-29 13:56:09,974 - thermomodel_None - WARNING - Warning : NULL/L\n",
      "2020-11-29 13:56:09,974 - thermomodel_None - WARNING - Warning : NULL/U\n",
      "2020-11-29 13:56:09,982 - thermomodel_None - WARNING - Warning : NULL/L\n",
      "2020-11-29 13:56:09,982 - thermomodel_None - WARNING - Warning : NULL/L\n",
      "2020-11-29 13:56:10,124 - thermomodel_None - WARNING - Warning : NULL/U\n",
      "2020-11-29 13:56:10,124 - thermomodel_None - WARNING - Warning : NULL/L\n",
      "2020-11-29 13:56:10,124 - thermomodel_None - WARNING - Warning : NULL/L\n",
      "2020-11-29 13:56:10,124 - thermomodel_None - WARNING - Warning : NULL/U\n",
      "2020-11-29 13:56:10,124 - thermomodel_None - WARNING - Warning : NULL/L\n",
      "2020-11-29 13:56:10,124 - thermomodel_None - WARNING - Warning : NULL/L\n",
      "2020-11-29 13:56:10,186 - thermomodel_None - WARNING - Warning : NULL/U\n",
      "2020-11-29 13:56:10,186 - thermomodel_None - WARNING - Warning : NULL/L\n",
      "2020-11-29 13:56:10,186 - thermomodel_None - WARNING - Warning : NULL/L\n",
      "2020-11-29 13:56:10,186 - thermomodel_None - WARNING - Warning : NULL/U\n",
      "2020-11-29 13:56:10,193 - thermomodel_None - WARNING - Warning : NULL/L\n",
      "2020-11-29 13:56:10,193 - thermomodel_None - WARNING - Warning : NULL/L\n",
      "2020-11-29 13:56:10,193 - thermomodel_None - WARNING - Warning : NULL/U\n",
      "2020-11-29 13:56:10,193 - thermomodel_None - WARNING - Warning : NULL/L\n",
      "2020-11-29 13:56:10,193 - thermomodel_None - WARNING - Warning : NULL/L\n",
      "2020-11-29 13:56:10,193 - thermomodel_None - WARNING - Warning : NULL/U\n",
      "2020-11-29 13:56:10,193 - thermomodel_None - WARNING - Warning : NULL/L\n",
      "2020-11-29 13:56:10,193 - thermomodel_None - WARNING - Warning : NULL/L\n",
      "2020-11-29 13:56:10,193 - thermomodel_None - WARNING - Warning : NULL/U\n",
      "2020-11-29 13:56:10,193 - thermomodel_None - WARNING - Warning : NULL/L\n",
      "2020-11-29 13:56:10,193 - thermomodel_None - WARNING - Warning : NULL/L\n",
      "2020-11-29 13:56:10,193 - thermomodel_None - WARNING - Warning : NULL/U\n",
      "2020-11-29 13:56:10,193 - thermomodel_None - WARNING - Warning : NULL/L\n",
      "2020-11-29 13:56:10,193 - thermomodel_None - WARNING - Warning : NULL/L\n",
      "2020-11-29 13:56:10,193 - thermomodel_None - WARNING - Warning : NULL/U\n",
      "2020-11-29 13:56:10,193 - thermomodel_None - WARNING - Warning : NULL/L\n",
      "2020-11-29 13:56:10,193 - thermomodel_None - WARNING - Warning : NULL/L\n",
      "2020-11-29 13:56:10,193 - thermomodel_None - WARNING - Warning : NULL/U\n",
      "2020-11-29 13:56:10,193 - thermomodel_None - WARNING - Warning : NULL/L\n",
      "2020-11-29 13:56:10,193 - thermomodel_None - WARNING - Warning : NULL/L\n",
      "2020-11-29 13:56:10,324 - thermomodel_None - INFO - # Model preparation done.\n",
      "2020-11-29 13:56:10,324 - thermomodel_None - INFO - # Model conversion starting...\n",
      "2020-11-29 13:56:45,091 - thermomodel_None - INFO - # Model conversion done.\n",
      "2020-11-29 13:56:45,091 - thermomodel_None - INFO - # Updating cobra_model variables...\n",
      "2020-11-29 13:56:45,142 - thermomodel_None - INFO - # cobra_model variables are up-to-date\n"
     ]
    },
    {
     "name": "stdout",
     "output_type": "stream",
     "text": [
      "Read LP format model from file C:\\Users\\riheme\\AppData\\Local\\Temp\\tmp40urvlr1.lp\n",
      "Reading time = 0.02 seconds\n",
      ": 1807 rows, 5170 columns, 20304 nonzeros\n",
      "Read LP format model from file C:\\Users\\riheme\\AppData\\Local\\Temp\\tmps0gv78q1.lp\n",
      "Reading time = 0.03 seconds\n",
      ": 1807 rows, 5170 columns, 20304 nonzeros\n"
     ]
    },
    {
     "name": "stderr",
     "output_type": "stream",
     "text": [
      "2020-11-29 13:57:01,567 - thermomodel_Ecoli PGI (Glc) 7 @ t = 3 - INFO - # Model initialized with units kcal/mol and temperature 298.15 K\n"
     ]
    },
    {
     "name": "stdout",
     "output_type": "stream",
     "text": [
      "Read LP format model from file C:\\Users\\riheme\\AppData\\Local\\Temp\\tmpfs_x81tq.lp\n",
      "Reading time = 0.02 seconds\n",
      ": 1807 rows, 5170 columns, 20304 nonzeros\n",
      "Read LP format model from file C:\\Users\\riheme\\AppData\\Local\\Temp\\tmpeviky_dt.lp\n",
      "Reading time = 0.02 seconds\n",
      ": 1807 rows, 5170 columns, 20304 nonzeros\n"
     ]
    },
    {
     "name": "stderr",
     "output_type": "stream",
     "text": [
      "2020-11-29 13:57:27,046 - thermomodel_Ecoli PGI (Glc) 7 @ t = 3 - INFO - # Model initialized with units kcal/mol and temperature 298.15 K\n",
      "2020-11-29 13:57:36,044 - thermomodel_Ecoli PGI (Glc) 7 @ t = 3 - INFO - Adding slack constraints\n",
      "adding slacks: 100%|███████████████████████████████████████████████████████████████| 1824/1824 [00:38<00:00, 47.30it/s]\n",
      "2020-11-29 13:58:16,230 - thermomodel_Ecoli PGI (Glc) 7 @ t = 3 - INFO - Optimizing slack model\n",
      "2020-11-29 13:58:22,579 - thermomodel_Ecoli PGI (Glc) 7 @ t = 3 - INFO - Extracting relaxation\n",
      "applying slack: 100%|███████████████████████████████████████████████████████████| 2585/2585 [00:00<00:00, 41379.89it/s]\n",
      "2020-11-29 13:58:22,729 - thermomodel_Ecoli PGI (Glc) 7 @ t = 3 - INFO - Testing relaxation\n"
     ]
    },
    {
     "name": "stdout",
     "output_type": "stream",
     "text": [
      "################################################################################\n",
      "Ecoli PGI (Glc) 7 @ t = 11\n",
      "(113.61 min)\n",
      "################################################################################\n",
      "Read LP format model from file C:\\Users\\riheme\\AppData\\Local\\Temp\\tmpecal1abp.lp\n",
      "Reading time = 0.02 seconds\n",
      ": 1807 rows, 5170 columns, 20334 nonzeros\n",
      "Read LP format model from file C:\\Users\\riheme\\AppData\\Local\\Temp\\tmpzj197ud3.lp\n",
      "Reading time = 0.02 seconds\n",
      ": 1807 rows, 5170 columns, 20334 nonzeros\n"
     ]
    },
    {
     "name": "stderr",
     "output_type": "stream",
     "text": [
      "2020-11-29 13:58:37,742 - thermomodel_None - INFO - # Model initialized with units kcal/mol and temperature 298.15 K\n",
      "2020-11-29 13:58:37,754 - thermomodel_None - INFO - # Model preparation starting...\n",
      "2020-11-29 13:58:40,171 - thermomodel_None - WARNING - Warning : NULL/U\n",
      "2020-11-29 13:58:40,173 - thermomodel_None - WARNING - Warning : NULL/L\n",
      "2020-11-29 13:58:40,173 - thermomodel_None - WARNING - Warning : NULL/L\n",
      "2020-11-29 13:58:40,173 - thermomodel_None - WARNING - Warning : NULL/U\n",
      "2020-11-29 13:58:40,173 - thermomodel_None - WARNING - Warning : NULL/L\n",
      "2020-11-29 13:58:40,173 - thermomodel_None - WARNING - Warning : NULL/L\n",
      "2020-11-29 13:58:40,470 - thermomodel_None - WARNING - Warning : NULL/U\n",
      "2020-11-29 13:58:40,470 - thermomodel_None - WARNING - Warning : NULL/L\n",
      "2020-11-29 13:58:40,470 - thermomodel_None - WARNING - Warning : NULL/L\n",
      "2020-11-29 13:58:40,470 - thermomodel_None - WARNING - Warning : NULL/U\n",
      "2020-11-29 13:58:40,470 - thermomodel_None - WARNING - Warning : NULL/L\n",
      "2020-11-29 13:58:40,470 - thermomodel_None - WARNING - Warning : NULL/L\n",
      "2020-11-29 13:58:40,670 - thermomodel_None - WARNING - Warning : NULL/U\n",
      "2020-11-29 13:58:40,670 - thermomodel_None - WARNING - Warning : NULL/L\n",
      "2020-11-29 13:58:40,670 - thermomodel_None - WARNING - Warning : NULL/L\n",
      "2020-11-29 13:58:40,670 - thermomodel_None - WARNING - Warning : NULL/U\n",
      "2020-11-29 13:58:40,670 - thermomodel_None - WARNING - Warning : NULL/L\n",
      "2020-11-29 13:58:40,670 - thermomodel_None - WARNING - Warning : NULL/L\n",
      "2020-11-29 13:58:40,724 - thermomodel_None - WARNING - Warning : NULL/U\n",
      "2020-11-29 13:58:40,724 - thermomodel_None - WARNING - Warning : NULL/L\n",
      "2020-11-29 13:58:40,724 - thermomodel_None - WARNING - Warning : NULL/L\n",
      "2020-11-29 13:58:40,739 - thermomodel_None - WARNING - Warning : NULL/U\n",
      "2020-11-29 13:58:40,739 - thermomodel_None - WARNING - Warning : NULL/L\n",
      "2020-11-29 13:58:40,739 - thermomodel_None - WARNING - Warning : NULL/L\n",
      "2020-11-29 13:58:40,739 - thermomodel_None - WARNING - Warning : NULL/U\n",
      "2020-11-29 13:58:40,739 - thermomodel_None - WARNING - Warning : NULL/L\n",
      "2020-11-29 13:58:40,739 - thermomodel_None - WARNING - Warning : NULL/L\n",
      "2020-11-29 13:58:40,739 - thermomodel_None - WARNING - Warning : NULL/U\n",
      "2020-11-29 13:58:40,739 - thermomodel_None - WARNING - Warning : NULL/L\n",
      "2020-11-29 13:58:40,739 - thermomodel_None - WARNING - Warning : NULL/L\n",
      "2020-11-29 13:58:40,739 - thermomodel_None - WARNING - Warning : NULL/U\n",
      "2020-11-29 13:58:40,739 - thermomodel_None - WARNING - Warning : NULL/L\n",
      "2020-11-29 13:58:40,739 - thermomodel_None - WARNING - Warning : NULL/L\n",
      "2020-11-29 13:58:40,739 - thermomodel_None - WARNING - Warning : NULL/U\n",
      "2020-11-29 13:58:40,739 - thermomodel_None - WARNING - Warning : NULL/L\n",
      "2020-11-29 13:58:40,739 - thermomodel_None - WARNING - Warning : NULL/L\n",
      "2020-11-29 13:58:40,739 - thermomodel_None - WARNING - Warning : NULL/U\n",
      "2020-11-29 13:58:40,739 - thermomodel_None - WARNING - Warning : NULL/L\n",
      "2020-11-29 13:58:40,739 - thermomodel_None - WARNING - Warning : NULL/L\n",
      "2020-11-29 13:58:40,755 - thermomodel_None - WARNING - Warning : NULL/U\n",
      "2020-11-29 13:58:40,755 - thermomodel_None - WARNING - Warning : NULL/L\n",
      "2020-11-29 13:58:40,755 - thermomodel_None - WARNING - Warning : NULL/L\n",
      "2020-11-29 13:58:40,886 - thermomodel_None - INFO - # Model preparation done.\n",
      "2020-11-29 13:58:40,886 - thermomodel_None - INFO - # Model conversion starting...\n",
      "2020-11-29 13:59:15,744 - thermomodel_None - INFO - # Model conversion done.\n",
      "2020-11-29 13:59:15,744 - thermomodel_None - INFO - # Updating cobra_model variables...\n",
      "2020-11-29 13:59:15,787 - thermomodel_None - INFO - # cobra_model variables are up-to-date\n"
     ]
    },
    {
     "name": "stdout",
     "output_type": "stream",
     "text": [
      "Read LP format model from file C:\\Users\\riheme\\AppData\\Local\\Temp\\tmpyln146lr.lp\n",
      "Reading time = 0.02 seconds\n",
      ": 1807 rows, 5170 columns, 20304 nonzeros\n",
      "Read LP format model from file C:\\Users\\riheme\\AppData\\Local\\Temp\\tmp9zuwyg1b.lp\n",
      "Reading time = 0.02 seconds\n",
      ": 1807 rows, 5170 columns, 20304 nonzeros\n"
     ]
    },
    {
     "name": "stderr",
     "output_type": "stream",
     "text": [
      "2020-11-29 13:59:31,969 - thermomodel_Ecoli PGI (Glc) 7 @ t = 11 - INFO - # Model initialized with units kcal/mol and temperature 298.15 K\n"
     ]
    },
    {
     "name": "stdout",
     "output_type": "stream",
     "text": [
      "Read LP format model from file C:\\Users\\riheme\\AppData\\Local\\Temp\\tmprkuj1eng.lp\n",
      "Reading time = 0.02 seconds\n",
      ": 1807 rows, 5170 columns, 20304 nonzeros\n",
      "Read LP format model from file C:\\Users\\riheme\\AppData\\Local\\Temp\\tmpf39e7hfz.lp\n",
      "Reading time = 0.02 seconds\n",
      ": 1807 rows, 5170 columns, 20304 nonzeros\n"
     ]
    },
    {
     "name": "stderr",
     "output_type": "stream",
     "text": [
      "2020-11-29 13:59:58,003 - thermomodel_Ecoli PGI (Glc) 7 @ t = 11 - INFO - # Model initialized with units kcal/mol and temperature 298.15 K\n",
      "2020-11-29 14:00:06,921 - thermomodel_Ecoli PGI (Glc) 7 @ t = 11 - INFO - Adding slack constraints\n",
      "adding slacks: 100%|███████████████████████████████████████████████████████████████| 1824/1824 [00:38<00:00, 47.58it/s]\n",
      "2020-11-29 14:00:46,858 - thermomodel_Ecoli PGI (Glc) 7 @ t = 11 - INFO - Optimizing slack model\n",
      "2020-11-29 14:00:51,496 - thermomodel_Ecoli PGI (Glc) 7 @ t = 11 - INFO - Extracting relaxation\n",
      "applying slack: 100%|███████████████████████████████████████████████████████████| 2585/2585 [00:00<00:00, 40210.49it/s]\n",
      "2020-11-29 14:00:51,645 - thermomodel_Ecoli PGI (Glc) 7 @ t = 11 - INFO - Testing relaxation\n"
     ]
    },
    {
     "name": "stdout",
     "output_type": "stream",
     "text": [
      "################################################################################\n",
      "Ecoli PGI (Glc) 8 @ t = 1\n",
      "(116.10 min)\n",
      "################################################################################\n",
      "Read LP format model from file C:\\Users\\riheme\\AppData\\Local\\Temp\\tmpzq0mpduo.lp\n",
      "Reading time = 0.02 seconds\n",
      ": 1807 rows, 5170 columns, 20334 nonzeros\n",
      "Read LP format model from file C:\\Users\\riheme\\AppData\\Local\\Temp\\tmprahyihsd.lp\n",
      "Reading time = 0.02 seconds\n",
      ": 1807 rows, 5170 columns, 20334 nonzeros\n"
     ]
    },
    {
     "name": "stderr",
     "output_type": "stream",
     "text": [
      "2020-11-29 14:01:06,581 - thermomodel_None - INFO - # Model initialized with units kcal/mol and temperature 298.15 K\n",
      "2020-11-29 14:01:06,589 - thermomodel_None - INFO - # Model preparation starting...\n",
      "2020-11-29 14:01:08,945 - thermomodel_None - WARNING - Warning : NULL/U\n",
      "2020-11-29 14:01:08,945 - thermomodel_None - WARNING - Warning : NULL/L\n",
      "2020-11-29 14:01:08,945 - thermomodel_None - WARNING - Warning : NULL/L\n",
      "2020-11-29 14:01:08,945 - thermomodel_None - WARNING - Warning : NULL/U\n",
      "2020-11-29 14:01:08,945 - thermomodel_None - WARNING - Warning : NULL/L\n",
      "2020-11-29 14:01:08,945 - thermomodel_None - WARNING - Warning : NULL/L\n",
      "2020-11-29 14:01:09,165 - thermomodel_None - WARNING - Warning : NULL/U\n",
      "2020-11-29 14:01:09,173 - thermomodel_None - WARNING - Warning : NULL/L\n",
      "2020-11-29 14:01:09,173 - thermomodel_None - WARNING - Warning : NULL/L\n",
      "2020-11-29 14:01:09,173 - thermomodel_None - WARNING - Warning : NULL/U\n",
      "2020-11-29 14:01:09,173 - thermomodel_None - WARNING - Warning : NULL/L\n",
      "2020-11-29 14:01:09,173 - thermomodel_None - WARNING - Warning : NULL/L\n",
      "2020-11-29 14:01:09,315 - thermomodel_None - WARNING - Warning : NULL/U\n",
      "2020-11-29 14:01:09,315 - thermomodel_None - WARNING - Warning : NULL/L\n",
      "2020-11-29 14:01:09,315 - thermomodel_None - WARNING - Warning : NULL/L\n",
      "2020-11-29 14:01:09,315 - thermomodel_None - WARNING - Warning : NULL/U\n",
      "2020-11-29 14:01:09,315 - thermomodel_None - WARNING - Warning : NULL/L\n",
      "2020-11-29 14:01:09,315 - thermomodel_None - WARNING - Warning : NULL/L\n",
      "2020-11-29 14:01:09,384 - thermomodel_None - WARNING - Warning : NULL/U\n",
      "2020-11-29 14:01:09,384 - thermomodel_None - WARNING - Warning : NULL/L\n",
      "2020-11-29 14:01:09,384 - thermomodel_None - WARNING - Warning : NULL/L\n",
      "2020-11-29 14:01:09,384 - thermomodel_None - WARNING - Warning : NULL/U\n",
      "2020-11-29 14:01:09,384 - thermomodel_None - WARNING - Warning : NULL/L\n",
      "2020-11-29 14:01:09,384 - thermomodel_None - WARNING - Warning : NULL/L\n",
      "2020-11-29 14:01:09,384 - thermomodel_None - WARNING - Warning : NULL/U\n",
      "2020-11-29 14:01:09,384 - thermomodel_None - WARNING - Warning : NULL/L\n",
      "2020-11-29 14:01:09,384 - thermomodel_None - WARNING - Warning : NULL/L\n",
      "2020-11-29 14:01:09,384 - thermomodel_None - WARNING - Warning : NULL/U\n",
      "2020-11-29 14:01:09,384 - thermomodel_None - WARNING - Warning : NULL/L\n",
      "2020-11-29 14:01:09,384 - thermomodel_None - WARNING - Warning : NULL/L\n",
      "2020-11-29 14:01:09,384 - thermomodel_None - WARNING - Warning : NULL/U\n",
      "2020-11-29 14:01:09,384 - thermomodel_None - WARNING - Warning : NULL/L\n",
      "2020-11-29 14:01:09,384 - thermomodel_None - WARNING - Warning : NULL/L\n",
      "2020-11-29 14:01:09,384 - thermomodel_None - WARNING - Warning : NULL/U\n",
      "2020-11-29 14:01:09,384 - thermomodel_None - WARNING - Warning : NULL/L\n",
      "2020-11-29 14:01:09,384 - thermomodel_None - WARNING - Warning : NULL/L\n",
      "2020-11-29 14:01:09,400 - thermomodel_None - WARNING - Warning : NULL/U\n",
      "2020-11-29 14:01:09,400 - thermomodel_None - WARNING - Warning : NULL/L\n",
      "2020-11-29 14:01:09,400 - thermomodel_None - WARNING - Warning : NULL/L\n",
      "2020-11-29 14:01:09,400 - thermomodel_None - WARNING - Warning : NULL/U\n",
      "2020-11-29 14:01:09,400 - thermomodel_None - WARNING - Warning : NULL/L\n",
      "2020-11-29 14:01:09,400 - thermomodel_None - WARNING - Warning : NULL/L\n",
      "2020-11-29 14:01:09,516 - thermomodel_None - INFO - # Model preparation done.\n",
      "2020-11-29 14:01:09,516 - thermomodel_None - INFO - # Model conversion starting...\n",
      "2020-11-29 14:01:44,599 - thermomodel_None - INFO - # Model conversion done.\n",
      "2020-11-29 14:01:44,599 - thermomodel_None - INFO - # Updating cobra_model variables...\n",
      "2020-11-29 14:01:44,639 - thermomodel_None - INFO - # cobra_model variables are up-to-date\n"
     ]
    },
    {
     "name": "stdout",
     "output_type": "stream",
     "text": [
      "Read LP format model from file C:\\Users\\riheme\\AppData\\Local\\Temp\\tmpe3cqyone.lp\n",
      "Reading time = 0.02 seconds\n",
      ": 1807 rows, 5170 columns, 20304 nonzeros\n",
      "Read LP format model from file C:\\Users\\riheme\\AppData\\Local\\Temp\\tmpjxginkfb.lp\n",
      "Reading time = 0.02 seconds\n",
      ": 1807 rows, 5170 columns, 20304 nonzeros\n"
     ]
    },
    {
     "name": "stderr",
     "output_type": "stream",
     "text": [
      "2020-11-29 14:02:00,777 - thermomodel_Ecoli PGI (Glc) 8 @ t = 1 - INFO - # Model initialized with units kcal/mol and temperature 298.15 K\n"
     ]
    },
    {
     "name": "stdout",
     "output_type": "stream",
     "text": [
      "Read LP format model from file C:\\Users\\riheme\\AppData\\Local\\Temp\\tmptsp39gyq.lp\n",
      "Reading time = 0.02 seconds\n",
      ": 1807 rows, 5170 columns, 20304 nonzeros\n",
      "Read LP format model from file C:\\Users\\riheme\\AppData\\Local\\Temp\\tmpz0xz2t1d.lp\n",
      "Reading time = 0.03 seconds\n",
      ": 1807 rows, 5170 columns, 20304 nonzeros\n"
     ]
    },
    {
     "name": "stderr",
     "output_type": "stream",
     "text": [
      "2020-11-29 14:02:26,712 - thermomodel_Ecoli PGI (Glc) 8 @ t = 1 - INFO - # Model initialized with units kcal/mol and temperature 298.15 K\n",
      "2020-11-29 14:02:35,544 - thermomodel_Ecoli PGI (Glc) 8 @ t = 1 - INFO - Adding slack constraints\n",
      "adding slacks: 100%|███████████████████████████████████████████████████████████████| 1824/1824 [00:37<00:00, 48.84it/s]\n",
      "2020-11-29 14:03:15,278 - thermomodel_Ecoli PGI (Glc) 8 @ t = 1 - INFO - Optimizing slack model\n",
      "2020-11-29 14:03:18,590 - thermomodel_Ecoli PGI (Glc) 8 @ t = 1 - INFO - Extracting relaxation\n",
      "applying slack: 100%|███████████████████████████████████████████████████████████| 2585/2585 [00:00<00:00, 52379.16it/s]\n",
      "2020-11-29 14:03:18,736 - thermomodel_Ecoli PGI (Glc) 8 @ t = 1 - INFO - Testing relaxation\n"
     ]
    },
    {
     "name": "stdout",
     "output_type": "stream",
     "text": [
      "################################################################################\n",
      "Ecoli PGI (Glc) 8 @ t = 2\n",
      "(118.55 min)\n",
      "################################################################################\n",
      "Read LP format model from file C:\\Users\\riheme\\AppData\\Local\\Temp\\tmpah5wvnxs.lp\n",
      "Reading time = 0.02 seconds\n",
      ": 1807 rows, 5170 columns, 20334 nonzeros\n",
      "Read LP format model from file C:\\Users\\riheme\\AppData\\Local\\Temp\\tmp_rrrstz6.lp\n",
      "Reading time = 0.02 seconds\n",
      ": 1807 rows, 5170 columns, 20334 nonzeros\n"
     ]
    },
    {
     "name": "stderr",
     "output_type": "stream",
     "text": [
      "2020-11-29 14:03:33,786 - thermomodel_None - INFO - # Model initialized with units kcal/mol and temperature 298.15 K\n",
      "2020-11-29 14:03:33,794 - thermomodel_None - INFO - # Model preparation starting...\n",
      "2020-11-29 14:03:36,253 - thermomodel_None - WARNING - Warning : NULL/U\n",
      "2020-11-29 14:03:36,253 - thermomodel_None - WARNING - Warning : NULL/L\n",
      "2020-11-29 14:03:36,255 - thermomodel_None - WARNING - Warning : NULL/L\n",
      "2020-11-29 14:03:36,255 - thermomodel_None - WARNING - Warning : NULL/U\n",
      "2020-11-29 14:03:36,255 - thermomodel_None - WARNING - Warning : NULL/L\n",
      "2020-11-29 14:03:36,255 - thermomodel_None - WARNING - Warning : NULL/L\n",
      "2020-11-29 14:03:36,470 - thermomodel_None - WARNING - Warning : NULL/U\n",
      "2020-11-29 14:03:36,478 - thermomodel_None - WARNING - Warning : NULL/L\n",
      "2020-11-29 14:03:36,478 - thermomodel_None - WARNING - Warning : NULL/L\n",
      "2020-11-29 14:03:36,478 - thermomodel_None - WARNING - Warning : NULL/U\n",
      "2020-11-29 14:03:36,478 - thermomodel_None - WARNING - Warning : NULL/L\n",
      "2020-11-29 14:03:36,480 - thermomodel_None - WARNING - Warning : NULL/L\n",
      "2020-11-29 14:03:36,614 - thermomodel_None - WARNING - Warning : NULL/U\n",
      "2020-11-29 14:03:36,630 - thermomodel_None - WARNING - Warning : NULL/L\n",
      "2020-11-29 14:03:36,630 - thermomodel_None - WARNING - Warning : NULL/L\n",
      "2020-11-29 14:03:36,630 - thermomodel_None - WARNING - Warning : NULL/U\n",
      "2020-11-29 14:03:36,630 - thermomodel_None - WARNING - Warning : NULL/L\n",
      "2020-11-29 14:03:36,630 - thermomodel_None - WARNING - Warning : NULL/L\n",
      "2020-11-29 14:03:36,677 - thermomodel_None - WARNING - Warning : NULL/U\n",
      "2020-11-29 14:03:36,677 - thermomodel_None - WARNING - Warning : NULL/L\n",
      "2020-11-29 14:03:36,692 - thermomodel_None - WARNING - Warning : NULL/L\n",
      "2020-11-29 14:03:36,692 - thermomodel_None - WARNING - Warning : NULL/U\n",
      "2020-11-29 14:03:36,692 - thermomodel_None - WARNING - Warning : NULL/L\n",
      "2020-11-29 14:03:36,692 - thermomodel_None - WARNING - Warning : NULL/L\n",
      "2020-11-29 14:03:36,692 - thermomodel_None - WARNING - Warning : NULL/U\n",
      "2020-11-29 14:03:36,692 - thermomodel_None - WARNING - Warning : NULL/L\n",
      "2020-11-29 14:03:36,692 - thermomodel_None - WARNING - Warning : NULL/L\n",
      "2020-11-29 14:03:36,699 - thermomodel_None - WARNING - Warning : NULL/U\n",
      "2020-11-29 14:03:36,699 - thermomodel_None - WARNING - Warning : NULL/L\n",
      "2020-11-29 14:03:36,699 - thermomodel_None - WARNING - Warning : NULL/L\n",
      "2020-11-29 14:03:36,699 - thermomodel_None - WARNING - Warning : NULL/U\n",
      "2020-11-29 14:03:36,699 - thermomodel_None - WARNING - Warning : NULL/L\n",
      "2020-11-29 14:03:36,699 - thermomodel_None - WARNING - Warning : NULL/L\n",
      "2020-11-29 14:03:36,699 - thermomodel_None - WARNING - Warning : NULL/U\n",
      "2020-11-29 14:03:36,699 - thermomodel_None - WARNING - Warning : NULL/L\n",
      "2020-11-29 14:03:36,699 - thermomodel_None - WARNING - Warning : NULL/L\n",
      "2020-11-29 14:03:36,699 - thermomodel_None - WARNING - Warning : NULL/U\n",
      "2020-11-29 14:03:36,699 - thermomodel_None - WARNING - Warning : NULL/L\n",
      "2020-11-29 14:03:36,699 - thermomodel_None - WARNING - Warning : NULL/L\n",
      "2020-11-29 14:03:36,699 - thermomodel_None - WARNING - Warning : NULL/U\n",
      "2020-11-29 14:03:36,699 - thermomodel_None - WARNING - Warning : NULL/L\n",
      "2020-11-29 14:03:36,699 - thermomodel_None - WARNING - Warning : NULL/L\n",
      "2020-11-29 14:03:36,830 - thermomodel_None - INFO - # Model preparation done.\n",
      "2020-11-29 14:03:36,830 - thermomodel_None - INFO - # Model conversion starting...\n",
      "2020-11-29 14:04:11,467 - thermomodel_None - INFO - # Model conversion done.\n",
      "2020-11-29 14:04:11,467 - thermomodel_None - INFO - # Updating cobra_model variables...\n",
      "2020-11-29 14:04:11,501 - thermomodel_None - INFO - # cobra_model variables are up-to-date\n"
     ]
    },
    {
     "name": "stdout",
     "output_type": "stream",
     "text": [
      "Read LP format model from file C:\\Users\\riheme\\AppData\\Local\\Temp\\tmp3smou796.lp\n",
      "Reading time = 0.02 seconds\n",
      ": 1807 rows, 5170 columns, 20304 nonzeros\n",
      "Read LP format model from file C:\\Users\\riheme\\AppData\\Local\\Temp\\tmptlfacren.lp\n",
      "Reading time = 0.02 seconds\n",
      ": 1807 rows, 5170 columns, 20304 nonzeros\n"
     ]
    },
    {
     "name": "stderr",
     "output_type": "stream",
     "text": [
      "2020-11-29 14:04:27,781 - thermomodel_Ecoli PGI (Glc) 8 @ t = 2 - INFO - # Model initialized with units kcal/mol and temperature 298.15 K\n"
     ]
    },
    {
     "name": "stdout",
     "output_type": "stream",
     "text": [
      "Read LP format model from file C:\\Users\\riheme\\AppData\\Local\\Temp\\tmp54xthi56.lp\n",
      "Reading time = 0.02 seconds\n",
      ": 1807 rows, 5170 columns, 20304 nonzeros\n",
      "Read LP format model from file C:\\Users\\riheme\\AppData\\Local\\Temp\\tmp62c_p6z8.lp\n",
      "Reading time = 0.02 seconds\n",
      ": 1807 rows, 5170 columns, 20304 nonzeros\n"
     ]
    },
    {
     "name": "stderr",
     "output_type": "stream",
     "text": [
      "2020-11-29 14:04:53,369 - thermomodel_Ecoli PGI (Glc) 8 @ t = 2 - INFO - # Model initialized with units kcal/mol and temperature 298.15 K\n",
      "2020-11-29 14:05:03,069 - thermomodel_Ecoli PGI (Glc) 8 @ t = 2 - INFO - Adding slack constraints\n",
      "adding slacks: 100%|███████████████████████████████████████████████████████████████| 1824/1824 [00:38<00:00, 47.81it/s]\n",
      "2020-11-29 14:05:42,883 - thermomodel_Ecoli PGI (Glc) 8 @ t = 2 - INFO - Optimizing slack model\n",
      "2020-11-29 14:05:48,513 - thermomodel_Ecoli PGI (Glc) 8 @ t = 2 - INFO - Extracting relaxation\n",
      "applying slack: 100%|███████████████████████████████████████████████████████████| 2585/2585 [00:00<00:00, 37449.53it/s]\n",
      "2020-11-29 14:05:48,663 - thermomodel_Ecoli PGI (Glc) 8 @ t = 2 - INFO - Testing relaxation\n"
     ]
    },
    {
     "name": "stdout",
     "output_type": "stream",
     "text": [
      "################################################################################\n",
      "Ecoli PGI (Glc) 8 @ t = 3\n",
      "(121.05 min)\n",
      "################################################################################\n",
      "Read LP format model from file C:\\Users\\riheme\\AppData\\Local\\Temp\\tmpnrxu_smn.lp\n",
      "Reading time = 0.02 seconds\n",
      ": 1807 rows, 5170 columns, 20334 nonzeros\n",
      "Read LP format model from file C:\\Users\\riheme\\AppData\\Local\\Temp\\tmp735srclq.lp\n",
      "Reading time = 0.02 seconds\n",
      ": 1807 rows, 5170 columns, 20334 nonzeros\n"
     ]
    },
    {
     "name": "stderr",
     "output_type": "stream",
     "text": [
      "2020-11-29 14:06:03,658 - thermomodel_None - INFO - # Model initialized with units kcal/mol and temperature 298.15 K\n",
      "2020-11-29 14:06:03,666 - thermomodel_None - INFO - # Model preparation starting...\n",
      "2020-11-29 14:06:06,086 - thermomodel_None - WARNING - Warning : NULL/U\n",
      "2020-11-29 14:06:06,086 - thermomodel_None - WARNING - Warning : NULL/L\n",
      "2020-11-29 14:06:06,086 - thermomodel_None - WARNING - Warning : NULL/L\n",
      "2020-11-29 14:06:06,086 - thermomodel_None - WARNING - Warning : NULL/U\n",
      "2020-11-29 14:06:06,094 - thermomodel_None - WARNING - Warning : NULL/L\n",
      "2020-11-29 14:06:06,094 - thermomodel_None - WARNING - Warning : NULL/L\n",
      "2020-11-29 14:06:06,319 - thermomodel_None - WARNING - Warning : NULL/U\n",
      "2020-11-29 14:06:06,321 - thermomodel_None - WARNING - Warning : NULL/L\n",
      "2020-11-29 14:06:06,321 - thermomodel_None - WARNING - Warning : NULL/L\n",
      "2020-11-29 14:06:06,321 - thermomodel_None - WARNING - Warning : NULL/U\n",
      "2020-11-29 14:06:06,321 - thermomodel_None - WARNING - Warning : NULL/L\n",
      "2020-11-29 14:06:06,321 - thermomodel_None - WARNING - Warning : NULL/L\n",
      "2020-11-29 14:06:06,462 - thermomodel_None - WARNING - Warning : NULL/U\n",
      "2020-11-29 14:06:06,462 - thermomodel_None - WARNING - Warning : NULL/L\n",
      "2020-11-29 14:06:06,470 - thermomodel_None - WARNING - Warning : NULL/L\n",
      "2020-11-29 14:06:06,470 - thermomodel_None - WARNING - Warning : NULL/U\n",
      "2020-11-29 14:06:06,470 - thermomodel_None - WARNING - Warning : NULL/L\n",
      "2020-11-29 14:06:06,470 - thermomodel_None - WARNING - Warning : NULL/L\n",
      "2020-11-29 14:06:06,527 - thermomodel_None - WARNING - Warning : NULL/U\n",
      "2020-11-29 14:06:06,527 - thermomodel_None - WARNING - Warning : NULL/L\n",
      "2020-11-29 14:06:06,527 - thermomodel_None - WARNING - Warning : NULL/L\n",
      "2020-11-29 14:06:06,527 - thermomodel_None - WARNING - Warning : NULL/U\n",
      "2020-11-29 14:06:06,527 - thermomodel_None - WARNING - Warning : NULL/L\n",
      "2020-11-29 14:06:06,527 - thermomodel_None - WARNING - Warning : NULL/L\n",
      "2020-11-29 14:06:06,527 - thermomodel_None - WARNING - Warning : NULL/U\n",
      "2020-11-29 14:06:06,527 - thermomodel_None - WARNING - Warning : NULL/L\n",
      "2020-11-29 14:06:06,527 - thermomodel_None - WARNING - Warning : NULL/L\n",
      "2020-11-29 14:06:06,527 - thermomodel_None - WARNING - Warning : NULL/U\n",
      "2020-11-29 14:06:06,527 - thermomodel_None - WARNING - Warning : NULL/L\n",
      "2020-11-29 14:06:06,527 - thermomodel_None - WARNING - Warning : NULL/L\n",
      "2020-11-29 14:06:06,527 - thermomodel_None - WARNING - Warning : NULL/U\n",
      "2020-11-29 14:06:06,527 - thermomodel_None - WARNING - Warning : NULL/L\n",
      "2020-11-29 14:06:06,527 - thermomodel_None - WARNING - Warning : NULL/L\n",
      "2020-11-29 14:06:06,527 - thermomodel_None - WARNING - Warning : NULL/U\n",
      "2020-11-29 14:06:06,527 - thermomodel_None - WARNING - Warning : NULL/L\n",
      "2020-11-29 14:06:06,527 - thermomodel_None - WARNING - Warning : NULL/L\n",
      "2020-11-29 14:06:06,543 - thermomodel_None - WARNING - Warning : NULL/U\n",
      "2020-11-29 14:06:06,543 - thermomodel_None - WARNING - Warning : NULL/L\n",
      "2020-11-29 14:06:06,543 - thermomodel_None - WARNING - Warning : NULL/L\n",
      "2020-11-29 14:06:06,543 - thermomodel_None - WARNING - Warning : NULL/U\n",
      "2020-11-29 14:06:06,543 - thermomodel_None - WARNING - Warning : NULL/L\n",
      "2020-11-29 14:06:06,543 - thermomodel_None - WARNING - Warning : NULL/L\n",
      "2020-11-29 14:06:06,658 - thermomodel_None - INFO - # Model preparation done.\n",
      "2020-11-29 14:06:06,658 - thermomodel_None - INFO - # Model conversion starting...\n",
      "2020-11-29 14:06:41,365 - thermomodel_None - INFO - # Model conversion done.\n",
      "2020-11-29 14:06:41,367 - thermomodel_None - INFO - # Updating cobra_model variables...\n",
      "2020-11-29 14:06:41,400 - thermomodel_None - INFO - # cobra_model variables are up-to-date\n"
     ]
    },
    {
     "name": "stdout",
     "output_type": "stream",
     "text": [
      "Read LP format model from file C:\\Users\\riheme\\AppData\\Local\\Temp\\tmpnw_c4uwi.lp\n",
      "Reading time = 0.02 seconds\n",
      ": 1807 rows, 5170 columns, 20304 nonzeros\n",
      "Read LP format model from file C:\\Users\\riheme\\AppData\\Local\\Temp\\tmpo42_neyy.lp\n",
      "Reading time = 0.02 seconds\n",
      ": 1807 rows, 5170 columns, 20304 nonzeros\n"
     ]
    },
    {
     "name": "stderr",
     "output_type": "stream",
     "text": [
      "2020-11-29 14:06:57,650 - thermomodel_Ecoli PGI (Glc) 8 @ t = 3 - INFO - # Model initialized with units kcal/mol and temperature 298.15 K\n"
     ]
    },
    {
     "name": "stdout",
     "output_type": "stream",
     "text": [
      "Read LP format model from file C:\\Users\\riheme\\AppData\\Local\\Temp\\tmplb3moro4.lp\n",
      "Reading time = 0.02 seconds\n",
      ": 1807 rows, 5170 columns, 20304 nonzeros\n",
      "Read LP format model from file C:\\Users\\riheme\\AppData\\Local\\Temp\\tmptq_v4xzg.lp\n",
      "Reading time = 0.02 seconds\n",
      ": 1807 rows, 5170 columns, 20304 nonzeros\n"
     ]
    },
    {
     "name": "stderr",
     "output_type": "stream",
     "text": [
      "2020-11-29 14:07:23,302 - thermomodel_Ecoli PGI (Glc) 8 @ t = 3 - INFO - # Model initialized with units kcal/mol and temperature 298.15 K\n",
      "2020-11-29 14:07:32,189 - thermomodel_Ecoli PGI (Glc) 8 @ t = 3 - INFO - Adding slack constraints\n",
      "adding slacks: 100%|███████████████████████████████████████████████████████████████| 1824/1824 [00:38<00:00, 47.39it/s]\n",
      "2020-11-29 14:08:12,292 - thermomodel_Ecoli PGI (Glc) 8 @ t = 3 - INFO - Optimizing slack model\n",
      "2020-11-29 14:08:14,966 - thermomodel_Ecoli PGI (Glc) 8 @ t = 3 - INFO - Extracting relaxation\n",
      "applying slack: 100%|███████████████████████████████████████████████████████████| 2585/2585 [00:00<00:00, 50857.10it/s]\n",
      "2020-11-29 14:08:15,116 - thermomodel_Ecoli PGI (Glc) 8 @ t = 3 - INFO - Testing relaxation\n"
     ]
    },
    {
     "name": "stdout",
     "output_type": "stream",
     "text": [
      "################################################################################\n",
      "Ecoli PGI (Glc) 8 @ t = 11\n",
      "(123.49 min)\n",
      "################################################################################\n",
      "Read LP format model from file C:\\Users\\riheme\\AppData\\Local\\Temp\\tmp3bt330w6.lp\n",
      "Reading time = 0.02 seconds\n",
      ": 1807 rows, 5170 columns, 20334 nonzeros\n",
      "Read LP format model from file C:\\Users\\riheme\\AppData\\Local\\Temp\\tmp5tgbjq5x.lp\n",
      "Reading time = 0.02 seconds\n",
      ": 1807 rows, 5170 columns, 20334 nonzeros\n"
     ]
    },
    {
     "name": "stderr",
     "output_type": "stream",
     "text": [
      "2020-11-29 14:08:30,056 - thermomodel_None - INFO - # Model initialized with units kcal/mol and temperature 298.15 K\n",
      "2020-11-29 14:08:30,066 - thermomodel_None - INFO - # Model preparation starting...\n",
      "2020-11-29 14:08:32,448 - thermomodel_None - WARNING - Warning : NULL/U\n",
      "2020-11-29 14:08:32,448 - thermomodel_None - WARNING - Warning : NULL/L\n",
      "2020-11-29 14:08:32,448 - thermomodel_None - WARNING - Warning : NULL/L\n",
      "2020-11-29 14:08:32,448 - thermomodel_None - WARNING - Warning : NULL/U\n",
      "2020-11-29 14:08:32,448 - thermomodel_None - WARNING - Warning : NULL/L\n",
      "2020-11-29 14:08:32,448 - thermomodel_None - WARNING - Warning : NULL/L\n",
      "2020-11-29 14:08:32,679 - thermomodel_None - WARNING - Warning : NULL/U\n",
      "2020-11-29 14:08:32,679 - thermomodel_None - WARNING - Warning : NULL/L\n",
      "2020-11-29 14:08:32,679 - thermomodel_None - WARNING - Warning : NULL/L\n",
      "2020-11-29 14:08:32,679 - thermomodel_None - WARNING - Warning : NULL/U\n",
      "2020-11-29 14:08:32,679 - thermomodel_None - WARNING - Warning : NULL/L\n",
      "2020-11-29 14:08:32,679 - thermomodel_None - WARNING - Warning : NULL/L\n",
      "2020-11-29 14:08:32,828 - thermomodel_None - WARNING - Warning : NULL/U\n",
      "2020-11-29 14:08:32,828 - thermomodel_None - WARNING - Warning : NULL/L\n",
      "2020-11-29 14:08:32,828 - thermomodel_None - WARNING - Warning : NULL/L\n",
      "2020-11-29 14:08:32,828 - thermomodel_None - WARNING - Warning : NULL/U\n",
      "2020-11-29 14:08:32,828 - thermomodel_None - WARNING - Warning : NULL/L\n",
      "2020-11-29 14:08:32,828 - thermomodel_None - WARNING - Warning : NULL/L\n",
      "2020-11-29 14:08:32,875 - thermomodel_None - WARNING - Warning : NULL/U\n",
      "2020-11-29 14:08:32,875 - thermomodel_None - WARNING - Warning : NULL/L\n",
      "2020-11-29 14:08:32,890 - thermomodel_None - WARNING - Warning : NULL/L\n",
      "2020-11-29 14:08:32,890 - thermomodel_None - WARNING - Warning : NULL/U\n",
      "2020-11-29 14:08:32,890 - thermomodel_None - WARNING - Warning : NULL/L\n",
      "2020-11-29 14:08:32,890 - thermomodel_None - WARNING - Warning : NULL/L\n",
      "2020-11-29 14:08:32,890 - thermomodel_None - WARNING - Warning : NULL/U\n",
      "2020-11-29 14:08:32,890 - thermomodel_None - WARNING - Warning : NULL/L\n",
      "2020-11-29 14:08:32,890 - thermomodel_None - WARNING - Warning : NULL/L\n",
      "2020-11-29 14:08:32,890 - thermomodel_None - WARNING - Warning : NULL/U\n",
      "2020-11-29 14:08:32,897 - thermomodel_None - WARNING - Warning : NULL/L\n",
      "2020-11-29 14:08:32,897 - thermomodel_None - WARNING - Warning : NULL/L\n",
      "2020-11-29 14:08:32,897 - thermomodel_None - WARNING - Warning : NULL/U\n",
      "2020-11-29 14:08:32,897 - thermomodel_None - WARNING - Warning : NULL/L\n",
      "2020-11-29 14:08:32,897 - thermomodel_None - WARNING - Warning : NULL/L\n",
      "2020-11-29 14:08:32,897 - thermomodel_None - WARNING - Warning : NULL/U\n",
      "2020-11-29 14:08:32,897 - thermomodel_None - WARNING - Warning : NULL/L\n",
      "2020-11-29 14:08:32,897 - thermomodel_None - WARNING - Warning : NULL/L\n",
      "2020-11-29 14:08:32,897 - thermomodel_None - WARNING - Warning : NULL/U\n",
      "2020-11-29 14:08:32,897 - thermomodel_None - WARNING - Warning : NULL/L\n",
      "2020-11-29 14:08:32,897 - thermomodel_None - WARNING - Warning : NULL/L\n",
      "2020-11-29 14:08:32,897 - thermomodel_None - WARNING - Warning : NULL/U\n",
      "2020-11-29 14:08:32,897 - thermomodel_None - WARNING - Warning : NULL/L\n",
      "2020-11-29 14:08:32,897 - thermomodel_None - WARNING - Warning : NULL/L\n",
      "2020-11-29 14:08:33,017 - thermomodel_None - INFO - # Model preparation done.\n",
      "2020-11-29 14:08:33,017 - thermomodel_None - INFO - # Model conversion starting...\n",
      "2020-11-29 14:09:08,326 - thermomodel_None - INFO - # Model conversion done.\n",
      "2020-11-29 14:09:08,326 - thermomodel_None - INFO - # Updating cobra_model variables...\n",
      "2020-11-29 14:09:08,374 - thermomodel_None - INFO - # cobra_model variables are up-to-date\n"
     ]
    },
    {
     "name": "stdout",
     "output_type": "stream",
     "text": [
      "Read LP format model from file C:\\Users\\riheme\\AppData\\Local\\Temp\\tmp_um03u7z.lp\n",
      "Reading time = 0.02 seconds\n",
      ": 1807 rows, 5170 columns, 20304 nonzeros\n",
      "Read LP format model from file C:\\Users\\riheme\\AppData\\Local\\Temp\\tmppw0e2sr6.lp\n",
      "Reading time = 0.02 seconds\n",
      ": 1807 rows, 5170 columns, 20304 nonzeros\n"
     ]
    },
    {
     "name": "stderr",
     "output_type": "stream",
     "text": [
      "2020-11-29 14:09:24,483 - thermomodel_Ecoli PGI (Glc) 8 @ t = 11 - INFO - # Model initialized with units kcal/mol and temperature 298.15 K\n"
     ]
    },
    {
     "name": "stdout",
     "output_type": "stream",
     "text": [
      "Read LP format model from file C:\\Users\\riheme\\AppData\\Local\\Temp\\tmp6n6_5j92.lp\n",
      "Reading time = 0.02 seconds\n",
      ": 1807 rows, 5170 columns, 20304 nonzeros\n",
      "Read LP format model from file C:\\Users\\riheme\\AppData\\Local\\Temp\\tmpgontt56o.lp\n",
      "Reading time = 0.03 seconds\n",
      ": 1807 rows, 5170 columns, 20304 nonzeros\n"
     ]
    },
    {
     "name": "stderr",
     "output_type": "stream",
     "text": [
      "2020-11-29 14:09:50,438 - thermomodel_Ecoli PGI (Glc) 8 @ t = 11 - INFO - # Model initialized with units kcal/mol and temperature 298.15 K\n",
      "2020-11-29 14:09:59,325 - thermomodel_Ecoli PGI (Glc) 8 @ t = 11 - INFO - Adding slack constraints\n",
      "adding slacks: 100%|███████████████████████████████████████████████████████████████| 1824/1824 [00:37<00:00, 48.13it/s]\n",
      "2020-11-29 14:10:38,838 - thermomodel_Ecoli PGI (Glc) 8 @ t = 11 - INFO - Optimizing slack model\n",
      "2020-11-29 14:10:45,404 - thermomodel_Ecoli PGI (Glc) 8 @ t = 11 - INFO - Extracting relaxation\n",
      "applying slack: 100%|███████████████████████████████████████████████████████████| 2585/2585 [00:00<00:00, 52302.09it/s]\n",
      "2020-11-29 14:10:45,561 - thermomodel_Ecoli PGI (Glc) 8 @ t = 11 - INFO - Testing relaxation\n"
     ]
    },
    {
     "name": "stdout",
     "output_type": "stream",
     "text": [
      "################################################################################\n",
      "Ecoli SUCDi (Glc) 0 @ t = 0\n",
      "(125.99 min)\n",
      "################################################################################\n",
      "Read LP format model from file C:\\Users\\riheme\\AppData\\Local\\Temp\\tmpdx4hcfni.lp\n",
      "Reading time = 0.02 seconds\n",
      ": 1807 rows, 5170 columns, 20334 nonzeros\n",
      "Read LP format model from file C:\\Users\\riheme\\AppData\\Local\\Temp\\tmpith4er7s.lp\n",
      "Reading time = 0.02 seconds\n",
      ": 1807 rows, 5170 columns, 20334 nonzeros\n"
     ]
    },
    {
     "name": "stderr",
     "output_type": "stream",
     "text": [
      "2020-11-29 14:11:00,250 - thermomodel_None - INFO - # Model initialized with units kcal/mol and temperature 298.15 K\n",
      "2020-11-29 14:11:00,258 - thermomodel_None - INFO - # Model preparation starting...\n",
      "2020-11-29 14:11:02,617 - thermomodel_None - WARNING - Warning : NULL/U\n",
      "2020-11-29 14:11:02,617 - thermomodel_None - WARNING - Warning : NULL/L\n",
      "2020-11-29 14:11:02,617 - thermomodel_None - WARNING - Warning : NULL/L\n",
      "2020-11-29 14:11:02,617 - thermomodel_None - WARNING - Warning : NULL/U\n",
      "2020-11-29 14:11:02,617 - thermomodel_None - WARNING - Warning : NULL/L\n",
      "2020-11-29 14:11:02,625 - thermomodel_None - WARNING - Warning : NULL/L\n",
      "2020-11-29 14:11:02,835 - thermomodel_None - WARNING - Warning : NULL/U\n",
      "2020-11-29 14:11:02,835 - thermomodel_None - WARNING - Warning : NULL/L\n",
      "2020-11-29 14:11:02,835 - thermomodel_None - WARNING - Warning : NULL/L\n",
      "2020-11-29 14:11:02,835 - thermomodel_None - WARNING - Warning : NULL/U\n",
      "2020-11-29 14:11:02,835 - thermomodel_None - WARNING - Warning : NULL/L\n",
      "2020-11-29 14:11:02,835 - thermomodel_None - WARNING - Warning : NULL/L\n",
      "2020-11-29 14:11:02,982 - thermomodel_None - WARNING - Warning : NULL/U\n",
      "2020-11-29 14:11:02,982 - thermomodel_None - WARNING - Warning : NULL/L\n",
      "2020-11-29 14:11:02,982 - thermomodel_None - WARNING - Warning : NULL/L\n",
      "2020-11-29 14:11:02,982 - thermomodel_None - WARNING - Warning : NULL/U\n",
      "2020-11-29 14:11:02,982 - thermomodel_None - WARNING - Warning : NULL/L\n",
      "2020-11-29 14:11:02,982 - thermomodel_None - WARNING - Warning : NULL/L\n",
      "2020-11-29 14:11:03,036 - thermomodel_None - WARNING - Warning : NULL/U\n",
      "2020-11-29 14:11:03,036 - thermomodel_None - WARNING - Warning : NULL/L\n",
      "2020-11-29 14:11:03,036 - thermomodel_None - WARNING - Warning : NULL/L\n",
      "2020-11-29 14:11:03,036 - thermomodel_None - WARNING - Warning : NULL/U\n",
      "2020-11-29 14:11:03,036 - thermomodel_None - WARNING - Warning : NULL/L\n",
      "2020-11-29 14:11:03,036 - thermomodel_None - WARNING - Warning : NULL/L\n",
      "2020-11-29 14:11:03,036 - thermomodel_None - WARNING - Warning : NULL/U\n",
      "2020-11-29 14:11:03,036 - thermomodel_None - WARNING - Warning : NULL/L\n",
      "2020-11-29 14:11:03,036 - thermomodel_None - WARNING - Warning : NULL/L\n",
      "2020-11-29 14:11:03,051 - thermomodel_None - WARNING - Warning : NULL/U\n",
      "2020-11-29 14:11:03,051 - thermomodel_None - WARNING - Warning : NULL/L\n",
      "2020-11-29 14:11:03,051 - thermomodel_None - WARNING - Warning : NULL/L\n",
      "2020-11-29 14:11:03,051 - thermomodel_None - WARNING - Warning : NULL/U\n",
      "2020-11-29 14:11:03,051 - thermomodel_None - WARNING - Warning : NULL/L\n",
      "2020-11-29 14:11:03,051 - thermomodel_None - WARNING - Warning : NULL/L\n",
      "2020-11-29 14:11:03,051 - thermomodel_None - WARNING - Warning : NULL/U\n",
      "2020-11-29 14:11:03,051 - thermomodel_None - WARNING - Warning : NULL/L\n",
      "2020-11-29 14:11:03,051 - thermomodel_None - WARNING - Warning : NULL/L\n",
      "2020-11-29 14:11:03,051 - thermomodel_None - WARNING - Warning : NULL/U\n",
      "2020-11-29 14:11:03,051 - thermomodel_None - WARNING - Warning : NULL/L\n",
      "2020-11-29 14:11:03,051 - thermomodel_None - WARNING - Warning : NULL/L\n",
      "2020-11-29 14:11:03,051 - thermomodel_None - WARNING - Warning : NULL/U\n",
      "2020-11-29 14:11:03,051 - thermomodel_None - WARNING - Warning : NULL/L\n",
      "2020-11-29 14:11:03,051 - thermomodel_None - WARNING - Warning : NULL/L\n",
      "2020-11-29 14:11:03,183 - thermomodel_None - INFO - # Model preparation done.\n",
      "2020-11-29 14:11:03,183 - thermomodel_None - INFO - # Model conversion starting...\n",
      "2020-11-29 14:11:38,266 - thermomodel_None - INFO - # Model conversion done.\n",
      "2020-11-29 14:11:38,266 - thermomodel_None - INFO - # Updating cobra_model variables...\n",
      "2020-11-29 14:11:38,316 - thermomodel_None - INFO - # cobra_model variables are up-to-date\n"
     ]
    },
    {
     "name": "stdout",
     "output_type": "stream",
     "text": [
      "Read LP format model from file C:\\Users\\riheme\\AppData\\Local\\Temp\\tmpn3cmnkrs.lp\n",
      "Reading time = 0.02 seconds\n",
      ": 1807 rows, 5170 columns, 20304 nonzeros\n",
      "Read LP format model from file C:\\Users\\riheme\\AppData\\Local\\Temp\\tmp1_70jtwi.lp\n",
      "Reading time = 0.02 seconds\n",
      ": 1807 rows, 5170 columns, 20304 nonzeros\n"
     ]
    },
    {
     "name": "stderr",
     "output_type": "stream",
     "text": [
      "2020-11-29 14:11:54,762 - thermomodel_Ecoli SUCDi (Glc) 0 @ t = 0 - INFO - # Model initialized with units kcal/mol and temperature 298.15 K\n"
     ]
    },
    {
     "name": "stdout",
     "output_type": "stream",
     "text": [
      "Read LP format model from file C:\\Users\\riheme\\AppData\\Local\\Temp\\tmp25ls59gn.lp\n",
      "Reading time = 0.02 seconds\n",
      ": 1807 rows, 5170 columns, 20304 nonzeros\n",
      "Read LP format model from file C:\\Users\\riheme\\AppData\\Local\\Temp\\tmpitosvw4u.lp\n",
      "Reading time = 0.02 seconds\n",
      ": 1807 rows, 5170 columns, 20304 nonzeros\n"
     ]
    },
    {
     "name": "stderr",
     "output_type": "stream",
     "text": [
      "2020-11-29 14:12:20,162 - thermomodel_Ecoli SUCDi (Glc) 0 @ t = 0 - INFO - # Model initialized with units kcal/mol and temperature 298.15 K\n",
      "2020-11-29 14:12:29,753 - thermomodel_Ecoli SUCDi (Glc) 0 @ t = 0 - INFO - Adding slack constraints\n",
      "adding slacks: 100%|███████████████████████████████████████████████████████████████| 1824/1824 [00:38<00:00, 47.83it/s]\n",
      "2020-11-29 14:13:10,159 - thermomodel_Ecoli SUCDi (Glc) 0 @ t = 0 - INFO - Optimizing slack model\n",
      "2020-11-29 14:13:16,893 - thermomodel_Ecoli SUCDi (Glc) 0 @ t = 0 - INFO - Extracting relaxation\n",
      "applying slack: 100%|███████████████████████████████████████████████████████████| 2585/2585 [00:00<00:00, 41345.02it/s]\n",
      "2020-11-29 14:13:17,045 - thermomodel_Ecoli SUCDi (Glc) 0 @ t = 0 - INFO - Testing relaxation\n"
     ]
    },
    {
     "name": "stdout",
     "output_type": "stream",
     "text": [
      "################################################################################\n",
      "Ecoli SUCDi (Glc) 1 @ t = 11\n",
      "(128.52 min)\n",
      "################################################################################\n",
      "Read LP format model from file C:\\Users\\riheme\\AppData\\Local\\Temp\\tmplm5q5lop.lp\n",
      "Reading time = 0.02 seconds\n",
      ": 1807 rows, 5170 columns, 20334 nonzeros\n",
      "Read LP format model from file C:\\Users\\riheme\\AppData\\Local\\Temp\\tmph_5ihbty.lp\n",
      "Reading time = 0.02 seconds\n",
      ": 1807 rows, 5170 columns, 20334 nonzeros\n"
     ]
    },
    {
     "name": "stderr",
     "output_type": "stream",
     "text": [
      "2020-11-29 14:13:31,877 - thermomodel_None - INFO - # Model initialized with units kcal/mol and temperature 298.15 K\n",
      "2020-11-29 14:13:31,887 - thermomodel_None - INFO - # Model preparation starting...\n",
      "2020-11-29 14:13:34,264 - thermomodel_None - WARNING - Warning : NULL/U\n",
      "2020-11-29 14:13:34,264 - thermomodel_None - WARNING - Warning : NULL/L\n",
      "2020-11-29 14:13:34,264 - thermomodel_None - WARNING - Warning : NULL/L\n",
      "2020-11-29 14:13:34,264 - thermomodel_None - WARNING - Warning : NULL/U\n",
      "2020-11-29 14:13:34,264 - thermomodel_None - WARNING - Warning : NULL/L\n",
      "2020-11-29 14:13:34,272 - thermomodel_None - WARNING - Warning : NULL/L\n",
      "2020-11-29 14:13:34,483 - thermomodel_None - WARNING - Warning : NULL/U\n",
      "2020-11-29 14:13:34,483 - thermomodel_None - WARNING - Warning : NULL/L\n",
      "2020-11-29 14:13:34,483 - thermomodel_None - WARNING - Warning : NULL/L\n",
      "2020-11-29 14:13:34,483 - thermomodel_None - WARNING - Warning : NULL/U\n",
      "2020-11-29 14:13:34,483 - thermomodel_None - WARNING - Warning : NULL/L\n",
      "2020-11-29 14:13:34,483 - thermomodel_None - WARNING - Warning : NULL/L\n",
      "2020-11-29 14:13:34,615 - thermomodel_None - WARNING - Warning : NULL/U\n",
      "2020-11-29 14:13:34,630 - thermomodel_None - WARNING - Warning : NULL/L\n",
      "2020-11-29 14:13:34,630 - thermomodel_None - WARNING - Warning : NULL/L\n",
      "2020-11-29 14:13:34,630 - thermomodel_None - WARNING - Warning : NULL/U\n",
      "2020-11-29 14:13:34,630 - thermomodel_None - WARNING - Warning : NULL/L\n",
      "2020-11-29 14:13:34,630 - thermomodel_None - WARNING - Warning : NULL/L\n",
      "2020-11-29 14:13:34,684 - thermomodel_None - WARNING - Warning : NULL/U\n",
      "2020-11-29 14:13:34,684 - thermomodel_None - WARNING - Warning : NULL/L\n",
      "2020-11-29 14:13:34,684 - thermomodel_None - WARNING - Warning : NULL/L\n",
      "2020-11-29 14:13:34,684 - thermomodel_None - WARNING - Warning : NULL/U\n",
      "2020-11-29 14:13:34,684 - thermomodel_None - WARNING - Warning : NULL/L\n",
      "2020-11-29 14:13:34,684 - thermomodel_None - WARNING - Warning : NULL/L\n",
      "2020-11-29 14:13:34,684 - thermomodel_None - WARNING - Warning : NULL/U\n",
      "2020-11-29 14:13:34,684 - thermomodel_None - WARNING - Warning : NULL/L\n",
      "2020-11-29 14:13:34,684 - thermomodel_None - WARNING - Warning : NULL/L\n",
      "2020-11-29 14:13:34,684 - thermomodel_None - WARNING - Warning : NULL/U\n",
      "2020-11-29 14:13:34,684 - thermomodel_None - WARNING - Warning : NULL/L\n",
      "2020-11-29 14:13:34,684 - thermomodel_None - WARNING - Warning : NULL/L\n",
      "2020-11-29 14:13:34,684 - thermomodel_None - WARNING - Warning : NULL/U\n",
      "2020-11-29 14:13:34,684 - thermomodel_None - WARNING - Warning : NULL/L\n",
      "2020-11-29 14:13:34,684 - thermomodel_None - WARNING - Warning : NULL/L\n",
      "2020-11-29 14:13:34,684 - thermomodel_None - WARNING - Warning : NULL/U\n",
      "2020-11-29 14:13:34,699 - thermomodel_None - WARNING - Warning : NULL/L\n",
      "2020-11-29 14:13:34,699 - thermomodel_None - WARNING - Warning : NULL/L\n",
      "2020-11-29 14:13:34,699 - thermomodel_None - WARNING - Warning : NULL/U\n",
      "2020-11-29 14:13:34,699 - thermomodel_None - WARNING - Warning : NULL/L\n",
      "2020-11-29 14:13:34,699 - thermomodel_None - WARNING - Warning : NULL/L\n",
      "2020-11-29 14:13:34,699 - thermomodel_None - WARNING - Warning : NULL/U\n",
      "2020-11-29 14:13:34,699 - thermomodel_None - WARNING - Warning : NULL/L\n",
      "2020-11-29 14:13:34,699 - thermomodel_None - WARNING - Warning : NULL/L\n",
      "2020-11-29 14:13:34,815 - thermomodel_None - INFO - # Model preparation done.\n",
      "2020-11-29 14:13:34,815 - thermomodel_None - INFO - # Model conversion starting...\n",
      "2020-11-29 14:14:09,764 - thermomodel_None - INFO - # Model conversion done.\n",
      "2020-11-29 14:14:09,764 - thermomodel_None - INFO - # Updating cobra_model variables...\n",
      "2020-11-29 14:14:09,813 - thermomodel_None - INFO - # cobra_model variables are up-to-date\n"
     ]
    },
    {
     "name": "stdout",
     "output_type": "stream",
     "text": [
      "Read LP format model from file C:\\Users\\riheme\\AppData\\Local\\Temp\\tmp7ex0ikru.lp\n",
      "Reading time = 0.02 seconds\n",
      ": 1807 rows, 5170 columns, 20304 nonzeros\n",
      "Read LP format model from file C:\\Users\\riheme\\AppData\\Local\\Temp\\tmpcpdyd5xw.lp\n",
      "Reading time = 0.02 seconds\n",
      ": 1807 rows, 5170 columns, 20304 nonzeros\n"
     ]
    },
    {
     "name": "stderr",
     "output_type": "stream",
     "text": [
      "2020-11-29 14:14:26,116 - thermomodel_Ecoli SUCDi (Glc) 1 @ t = 11 - INFO - # Model initialized with units kcal/mol and temperature 298.15 K\n"
     ]
    },
    {
     "name": "stdout",
     "output_type": "stream",
     "text": [
      "Read LP format model from file C:\\Users\\riheme\\AppData\\Local\\Temp\\tmp4jqyf95b.lp\n",
      "Reading time = 0.02 seconds\n",
      ": 1807 rows, 5170 columns, 20304 nonzeros\n",
      "Read LP format model from file C:\\Users\\riheme\\AppData\\Local\\Temp\\tmp5x_fdyg0.lp\n",
      "Reading time = 0.03 seconds\n",
      ": 1807 rows, 5170 columns, 20304 nonzeros\n"
     ]
    },
    {
     "name": "stderr",
     "output_type": "stream",
     "text": [
      "2020-11-29 14:14:51,709 - thermomodel_Ecoli SUCDi (Glc) 1 @ t = 11 - INFO - # Model initialized with units kcal/mol and temperature 298.15 K\n",
      "2020-11-29 14:15:00,720 - thermomodel_Ecoli SUCDi (Glc) 1 @ t = 11 - INFO - Adding slack constraints\n",
      "adding slacks: 100%|███████████████████████████████████████████████████████████████| 1824/1824 [00:39<00:00, 46.63it/s]\n",
      "2020-11-29 14:15:41,448 - thermomodel_Ecoli SUCDi (Glc) 1 @ t = 11 - INFO - Optimizing slack model\n",
      "2020-11-29 14:15:47,467 - thermomodel_Ecoli SUCDi (Glc) 1 @ t = 11 - INFO - Extracting relaxation\n",
      "applying slack: 100%|███████████████████████████████████████████████████████████| 2585/2585 [00:00<00:00, 37457.29it/s]\n",
      "2020-11-29 14:15:47,633 - thermomodel_Ecoli SUCDi (Glc) 1 @ t = 11 - INFO - Testing relaxation\n"
     ]
    },
    {
     "name": "stdout",
     "output_type": "stream",
     "text": [
      "################################################################################\n",
      "Ecoli SUCDi (Glc) 2 @ t = 11\n",
      "(131.03 min)\n",
      "################################################################################\n",
      "Read LP format model from file C:\\Users\\riheme\\AppData\\Local\\Temp\\tmpxup_6swg.lp\n",
      "Reading time = 0.02 seconds\n",
      ": 1807 rows, 5170 columns, 20334 nonzeros\n",
      "Read LP format model from file C:\\Users\\riheme\\AppData\\Local\\Temp\\tmpg5pa2iru.lp\n",
      "Reading time = 0.02 seconds\n",
      ": 1807 rows, 5170 columns, 20334 nonzeros\n"
     ]
    },
    {
     "name": "stderr",
     "output_type": "stream",
     "text": [
      "2020-11-29 14:16:02,561 - thermomodel_None - INFO - # Model initialized with units kcal/mol and temperature 298.15 K\n",
      "2020-11-29 14:16:02,569 - thermomodel_None - INFO - # Model preparation starting...\n",
      "2020-11-29 14:16:04,907 - thermomodel_None - WARNING - Warning : NULL/U\n",
      "2020-11-29 14:16:04,907 - thermomodel_None - WARNING - Warning : NULL/L\n",
      "2020-11-29 14:16:04,907 - thermomodel_None - WARNING - Warning : NULL/L\n",
      "2020-11-29 14:16:04,907 - thermomodel_None - WARNING - Warning : NULL/U\n",
      "2020-11-29 14:16:04,907 - thermomodel_None - WARNING - Warning : NULL/L\n",
      "2020-11-29 14:16:04,915 - thermomodel_None - WARNING - Warning : NULL/L\n",
      "2020-11-29 14:16:05,128 - thermomodel_None - WARNING - Warning : NULL/U\n",
      "2020-11-29 14:16:05,130 - thermomodel_None - WARNING - Warning : NULL/L\n",
      "2020-11-29 14:16:05,130 - thermomodel_None - WARNING - Warning : NULL/L\n",
      "2020-11-29 14:16:05,130 - thermomodel_None - WARNING - Warning : NULL/U\n",
      "2020-11-29 14:16:05,130 - thermomodel_None - WARNING - Warning : NULL/L\n",
      "2020-11-29 14:16:05,130 - thermomodel_None - WARNING - Warning : NULL/L\n",
      "2020-11-29 14:16:05,280 - thermomodel_None - WARNING - Warning : NULL/U\n",
      "2020-11-29 14:16:05,280 - thermomodel_None - WARNING - Warning : NULL/L\n",
      "2020-11-29 14:16:05,280 - thermomodel_None - WARNING - Warning : NULL/L\n",
      "2020-11-29 14:16:05,280 - thermomodel_None - WARNING - Warning : NULL/U\n",
      "2020-11-29 14:16:05,280 - thermomodel_None - WARNING - Warning : NULL/L\n",
      "2020-11-29 14:16:05,280 - thermomodel_None - WARNING - Warning : NULL/L\n",
      "2020-11-29 14:16:05,326 - thermomodel_None - WARNING - Warning : NULL/U\n",
      "2020-11-29 14:16:05,326 - thermomodel_None - WARNING - Warning : NULL/L\n",
      "2020-11-29 14:16:05,326 - thermomodel_None - WARNING - Warning : NULL/L\n",
      "2020-11-29 14:16:05,342 - thermomodel_None - WARNING - Warning : NULL/U\n",
      "2020-11-29 14:16:05,342 - thermomodel_None - WARNING - Warning : NULL/L\n",
      "2020-11-29 14:16:05,342 - thermomodel_None - WARNING - Warning : NULL/L\n",
      "2020-11-29 14:16:05,342 - thermomodel_None - WARNING - Warning : NULL/U\n",
      "2020-11-29 14:16:05,342 - thermomodel_None - WARNING - Warning : NULL/L\n",
      "2020-11-29 14:16:05,342 - thermomodel_None - WARNING - Warning : NULL/L\n",
      "2020-11-29 14:16:05,342 - thermomodel_None - WARNING - Warning : NULL/U\n",
      "2020-11-29 14:16:05,342 - thermomodel_None - WARNING - Warning : NULL/L\n",
      "2020-11-29 14:16:05,342 - thermomodel_None - WARNING - Warning : NULL/L\n",
      "2020-11-29 14:16:05,349 - thermomodel_None - WARNING - Warning : NULL/U\n",
      "2020-11-29 14:16:05,349 - thermomodel_None - WARNING - Warning : NULL/L\n",
      "2020-11-29 14:16:05,349 - thermomodel_None - WARNING - Warning : NULL/L\n",
      "2020-11-29 14:16:05,349 - thermomodel_None - WARNING - Warning : NULL/U\n",
      "2020-11-29 14:16:05,349 - thermomodel_None - WARNING - Warning : NULL/L\n",
      "2020-11-29 14:16:05,349 - thermomodel_None - WARNING - Warning : NULL/L\n",
      "2020-11-29 14:16:05,349 - thermomodel_None - WARNING - Warning : NULL/U\n",
      "2020-11-29 14:16:05,349 - thermomodel_None - WARNING - Warning : NULL/L\n",
      "2020-11-29 14:16:05,349 - thermomodel_None - WARNING - Warning : NULL/L\n",
      "2020-11-29 14:16:05,349 - thermomodel_None - WARNING - Warning : NULL/U\n",
      "2020-11-29 14:16:05,349 - thermomodel_None - WARNING - Warning : NULL/L\n",
      "2020-11-29 14:16:05,349 - thermomodel_None - WARNING - Warning : NULL/L\n",
      "2020-11-29 14:16:05,480 - thermomodel_None - INFO - # Model preparation done.\n",
      "2020-11-29 14:16:05,480 - thermomodel_None - INFO - # Model conversion starting...\n",
      "2020-11-29 14:16:40,439 - thermomodel_None - INFO - # Model conversion done.\n",
      "2020-11-29 14:16:40,439 - thermomodel_None - INFO - # Updating cobra_model variables...\n",
      "2020-11-29 14:16:40,487 - thermomodel_None - INFO - # cobra_model variables are up-to-date\n"
     ]
    },
    {
     "name": "stdout",
     "output_type": "stream",
     "text": [
      "Read LP format model from file C:\\Users\\riheme\\AppData\\Local\\Temp\\tmp8iyy878m.lp\n",
      "Reading time = 0.02 seconds\n",
      ": 1807 rows, 5170 columns, 20304 nonzeros\n",
      "Read LP format model from file C:\\Users\\riheme\\AppData\\Local\\Temp\\tmp045ng6xv.lp\n",
      "Reading time = 0.02 seconds\n",
      ": 1807 rows, 5170 columns, 20304 nonzeros\n"
     ]
    },
    {
     "name": "stderr",
     "output_type": "stream",
     "text": [
      "2020-11-29 14:16:56,769 - thermomodel_Ecoli SUCDi (Glc) 2 @ t = 11 - INFO - # Model initialized with units kcal/mol and temperature 298.15 K\n"
     ]
    },
    {
     "name": "stdout",
     "output_type": "stream",
     "text": [
      "Read LP format model from file C:\\Users\\riheme\\AppData\\Local\\Temp\\tmpzaj5zofu.lp\n",
      "Reading time = 0.02 seconds\n",
      ": 1807 rows, 5170 columns, 20304 nonzeros\n",
      "Read LP format model from file C:\\Users\\riheme\\AppData\\Local\\Temp\\tmpa_y2a19h.lp\n",
      "Reading time = 0.02 seconds\n",
      ": 1807 rows, 5170 columns, 20304 nonzeros\n"
     ]
    },
    {
     "name": "stderr",
     "output_type": "stream",
     "text": [
      "2020-11-29 14:17:22,440 - thermomodel_Ecoli SUCDi (Glc) 2 @ t = 11 - INFO - # Model initialized with units kcal/mol and temperature 298.15 K\n",
      "2020-11-29 14:17:31,322 - thermomodel_Ecoli SUCDi (Glc) 2 @ t = 11 - INFO - Adding slack constraints\n",
      "adding slacks: 100%|███████████████████████████████████████████████████████████████| 1824/1824 [00:38<00:00, 47.03it/s]\n",
      "2020-11-29 14:18:11,723 - thermomodel_Ecoli SUCDi (Glc) 2 @ t = 11 - INFO - Optimizing slack model\n",
      "2020-11-29 14:18:18,235 - thermomodel_Ecoli SUCDi (Glc) 2 @ t = 11 - INFO - Extracting relaxation\n",
      "applying slack: 100%|███████████████████████████████████████████████████████████| 2585/2585 [00:00<00:00, 39769.20it/s]\n",
      "2020-11-29 14:18:18,382 - thermomodel_Ecoli SUCDi (Glc) 2 @ t = 11 - INFO - Testing relaxation\n"
     ]
    },
    {
     "name": "stdout",
     "output_type": "stream",
     "text": [
      "################################################################################\n",
      "Ecoli SUCDi (Glc) 3 @ t = 11\n",
      "(133.54 min)\n",
      "################################################################################\n",
      "Read LP format model from file C:\\Users\\riheme\\AppData\\Local\\Temp\\tmpsn85wwla.lp\n",
      "Reading time = 0.02 seconds\n",
      ": 1807 rows, 5170 columns, 20334 nonzeros\n",
      "Read LP format model from file C:\\Users\\riheme\\AppData\\Local\\Temp\\tmp74va0tfg.lp\n",
      "Reading time = 0.02 seconds\n",
      ": 1807 rows, 5170 columns, 20334 nonzeros\n"
     ]
    },
    {
     "name": "stderr",
     "output_type": "stream",
     "text": [
      "2020-11-29 14:18:33,168 - thermomodel_None - INFO - # Model initialized with units kcal/mol and temperature 298.15 K\n",
      "2020-11-29 14:18:33,176 - thermomodel_None - INFO - # Model preparation starting...\n",
      "2020-11-29 14:18:35,566 - thermomodel_None - WARNING - Warning : NULL/U\n",
      "2020-11-29 14:18:35,566 - thermomodel_None - WARNING - Warning : NULL/L\n",
      "2020-11-29 14:18:35,566 - thermomodel_None - WARNING - Warning : NULL/L\n",
      "2020-11-29 14:18:35,566 - thermomodel_None - WARNING - Warning : NULL/U\n",
      "2020-11-29 14:18:35,566 - thermomodel_None - WARNING - Warning : NULL/L\n",
      "2020-11-29 14:18:35,566 - thermomodel_None - WARNING - Warning : NULL/L\n",
      "2020-11-29 14:18:35,800 - thermomodel_None - WARNING - Warning : NULL/U\n",
      "2020-11-29 14:18:35,808 - thermomodel_None - WARNING - Warning : NULL/L\n",
      "2020-11-29 14:18:35,808 - thermomodel_None - WARNING - Warning : NULL/L\n",
      "2020-11-29 14:18:35,808 - thermomodel_None - WARNING - Warning : NULL/U\n",
      "2020-11-29 14:18:35,808 - thermomodel_None - WARNING - Warning : NULL/L\n",
      "2020-11-29 14:18:35,808 - thermomodel_None - WARNING - Warning : NULL/L\n",
      "2020-11-29 14:18:35,950 - thermomodel_None - WARNING - Warning : NULL/U\n",
      "2020-11-29 14:18:35,950 - thermomodel_None - WARNING - Warning : NULL/L\n",
      "2020-11-29 14:18:35,950 - thermomodel_None - WARNING - Warning : NULL/L\n",
      "2020-11-29 14:18:35,950 - thermomodel_None - WARNING - Warning : NULL/U\n",
      "2020-11-29 14:18:35,959 - thermomodel_None - WARNING - Warning : NULL/L\n",
      "2020-11-29 14:18:35,959 - thermomodel_None - WARNING - Warning : NULL/L\n",
      "2020-11-29 14:18:36,015 - thermomodel_None - WARNING - Warning : NULL/U\n",
      "2020-11-29 14:18:36,015 - thermomodel_None - WARNING - Warning : NULL/L\n",
      "2020-11-29 14:18:36,015 - thermomodel_None - WARNING - Warning : NULL/L\n",
      "2020-11-29 14:18:36,015 - thermomodel_None - WARNING - Warning : NULL/U\n",
      "2020-11-29 14:18:36,015 - thermomodel_None - WARNING - Warning : NULL/L\n",
      "2020-11-29 14:18:36,015 - thermomodel_None - WARNING - Warning : NULL/L\n",
      "2020-11-29 14:18:36,015 - thermomodel_None - WARNING - Warning : NULL/U\n",
      "2020-11-29 14:18:36,015 - thermomodel_None - WARNING - Warning : NULL/L\n",
      "2020-11-29 14:18:36,015 - thermomodel_None - WARNING - Warning : NULL/L\n",
      "2020-11-29 14:18:36,015 - thermomodel_None - WARNING - Warning : NULL/U\n",
      "2020-11-29 14:18:36,015 - thermomodel_None - WARNING - Warning : NULL/L\n",
      "2020-11-29 14:18:36,015 - thermomodel_None - WARNING - Warning : NULL/L\n",
      "2020-11-29 14:18:36,015 - thermomodel_None - WARNING - Warning : NULL/U\n",
      "2020-11-29 14:18:36,015 - thermomodel_None - WARNING - Warning : NULL/L\n",
      "2020-11-29 14:18:36,015 - thermomodel_None - WARNING - Warning : NULL/L\n",
      "2020-11-29 14:18:36,015 - thermomodel_None - WARNING - Warning : NULL/U\n",
      "2020-11-29 14:18:36,015 - thermomodel_None - WARNING - Warning : NULL/L\n",
      "2020-11-29 14:18:36,015 - thermomodel_None - WARNING - Warning : NULL/L\n",
      "2020-11-29 14:18:36,031 - thermomodel_None - WARNING - Warning : NULL/U\n",
      "2020-11-29 14:18:36,031 - thermomodel_None - WARNING - Warning : NULL/L\n",
      "2020-11-29 14:18:36,031 - thermomodel_None - WARNING - Warning : NULL/L\n",
      "2020-11-29 14:18:36,031 - thermomodel_None - WARNING - Warning : NULL/U\n",
      "2020-11-29 14:18:36,031 - thermomodel_None - WARNING - Warning : NULL/L\n",
      "2020-11-29 14:18:36,031 - thermomodel_None - WARNING - Warning : NULL/L\n",
      "2020-11-29 14:18:36,147 - thermomodel_None - INFO - # Model preparation done.\n",
      "2020-11-29 14:18:36,147 - thermomodel_None - INFO - # Model conversion starting...\n",
      "2020-11-29 14:19:11,394 - thermomodel_None - INFO - # Model conversion done.\n",
      "2020-11-29 14:19:11,394 - thermomodel_None - INFO - # Updating cobra_model variables...\n",
      "2020-11-29 14:19:11,443 - thermomodel_None - INFO - # cobra_model variables are up-to-date\n"
     ]
    },
    {
     "name": "stdout",
     "output_type": "stream",
     "text": [
      "Read LP format model from file C:\\Users\\riheme\\AppData\\Local\\Temp\\tmpslu62ms4.lp\n",
      "Reading time = 0.02 seconds\n",
      ": 1807 rows, 5170 columns, 20304 nonzeros\n",
      "Read LP format model from file C:\\Users\\riheme\\AppData\\Local\\Temp\\tmpe_aexg2x.lp\n",
      "Reading time = 0.03 seconds\n",
      ": 1807 rows, 5170 columns, 20304 nonzeros\n"
     ]
    },
    {
     "name": "stderr",
     "output_type": "stream",
     "text": [
      "2020-11-29 14:19:27,597 - thermomodel_Ecoli SUCDi (Glc) 3 @ t = 11 - INFO - # Model initialized with units kcal/mol and temperature 298.15 K\n"
     ]
    },
    {
     "name": "stdout",
     "output_type": "stream",
     "text": [
      "Read LP format model from file C:\\Users\\riheme\\AppData\\Local\\Temp\\tmpn7t6dhkn.lp\n",
      "Reading time = 0.02 seconds\n",
      ": 1807 rows, 5170 columns, 20304 nonzeros\n",
      "Read LP format model from file C:\\Users\\riheme\\AppData\\Local\\Temp\\tmprwprfsvy.lp\n",
      "Reading time = 0.02 seconds\n",
      ": 1807 rows, 5170 columns, 20304 nonzeros\n"
     ]
    },
    {
     "name": "stderr",
     "output_type": "stream",
     "text": [
      "2020-11-29 14:19:53,197 - thermomodel_Ecoli SUCDi (Glc) 3 @ t = 11 - INFO - # Model initialized with units kcal/mol and temperature 298.15 K\n",
      "2020-11-29 14:20:02,893 - thermomodel_Ecoli SUCDi (Glc) 3 @ t = 11 - INFO - Adding slack constraints\n",
      "adding slacks: 100%|███████████████████████████████████████████████████████████████| 1824/1824 [00:37<00:00, 48.10it/s]\n",
      "2020-11-29 14:20:42,433 - thermomodel_Ecoli SUCDi (Glc) 3 @ t = 11 - INFO - Optimizing slack model\n",
      "2020-11-29 14:20:48,898 - thermomodel_Ecoli SUCDi (Glc) 3 @ t = 11 - INFO - Extracting relaxation\n",
      "applying slack: 100%|███████████████████████████████████████████████████████████| 2585/2585 [00:00<00:00, 48620.94it/s]\n",
      "2020-11-29 14:20:49,045 - thermomodel_Ecoli SUCDi (Glc) 3 @ t = 11 - INFO - Testing relaxation\n"
     ]
    },
    {
     "name": "stdout",
     "output_type": "stream",
     "text": [
      "################################################################################\n",
      "Ecoli TPI (Glc) 0 @ t = 0\n",
      "(136.05 min)\n",
      "################################################################################\n",
      "Read LP format model from file C:\\Users\\riheme\\AppData\\Local\\Temp\\tmp8jle_wya.lp\n",
      "Reading time = 0.02 seconds\n",
      ": 1807 rows, 5170 columns, 20334 nonzeros\n",
      "Read LP format model from file C:\\Users\\riheme\\AppData\\Local\\Temp\\tmp4iwsawba.lp\n",
      "Reading time = 0.03 seconds\n",
      ": 1807 rows, 5170 columns, 20334 nonzeros\n"
     ]
    },
    {
     "name": "stderr",
     "output_type": "stream",
     "text": [
      "2020-11-29 14:21:03,901 - thermomodel_None - INFO - # Model initialized with units kcal/mol and temperature 298.15 K\n",
      "2020-11-29 14:21:03,911 - thermomodel_None - INFO - # Model preparation starting...\n",
      "2020-11-29 14:21:06,236 - thermomodel_None - WARNING - Warning : NULL/U\n",
      "2020-11-29 14:21:06,238 - thermomodel_None - WARNING - Warning : NULL/L\n",
      "2020-11-29 14:21:06,238 - thermomodel_None - WARNING - Warning : NULL/L\n",
      "2020-11-29 14:21:06,238 - thermomodel_None - WARNING - Warning : NULL/U\n",
      "2020-11-29 14:21:06,238 - thermomodel_None - WARNING - Warning : NULL/L\n",
      "2020-11-29 14:21:06,238 - thermomodel_None - WARNING - Warning : NULL/L\n",
      "2020-11-29 14:21:06,468 - thermomodel_None - WARNING - Warning : NULL/U\n",
      "2020-11-29 14:21:06,468 - thermomodel_None - WARNING - Warning : NULL/L\n",
      "2020-11-29 14:21:06,470 - thermomodel_None - WARNING - Warning : NULL/L\n",
      "2020-11-29 14:21:06,470 - thermomodel_None - WARNING - Warning : NULL/U\n",
      "2020-11-29 14:21:06,470 - thermomodel_None - WARNING - Warning : NULL/L\n",
      "2020-11-29 14:21:06,470 - thermomodel_None - WARNING - Warning : NULL/L\n",
      "2020-11-29 14:21:06,610 - thermomodel_None - WARNING - Warning : NULL/U\n",
      "2020-11-29 14:21:06,612 - thermomodel_None - WARNING - Warning : NULL/L\n",
      "2020-11-29 14:21:06,612 - thermomodel_None - WARNING - Warning : NULL/L\n",
      "2020-11-29 14:21:06,612 - thermomodel_None - WARNING - Warning : NULL/U\n",
      "2020-11-29 14:21:06,612 - thermomodel_None - WARNING - Warning : NULL/L\n",
      "2020-11-29 14:21:06,612 - thermomodel_None - WARNING - Warning : NULL/L\n",
      "2020-11-29 14:21:06,661 - thermomodel_None - WARNING - Warning : NULL/U\n",
      "2020-11-29 14:21:06,661 - thermomodel_None - WARNING - Warning : NULL/L\n",
      "2020-11-29 14:21:06,661 - thermomodel_None - WARNING - Warning : NULL/L\n",
      "2020-11-29 14:21:06,661 - thermomodel_None - WARNING - Warning : NULL/U\n",
      "2020-11-29 14:21:06,661 - thermomodel_None - WARNING - Warning : NULL/L\n",
      "2020-11-29 14:21:06,661 - thermomodel_None - WARNING - Warning : NULL/L\n",
      "2020-11-29 14:21:06,661 - thermomodel_None - WARNING - Warning : NULL/U\n",
      "2020-11-29 14:21:06,677 - thermomodel_None - WARNING - Warning : NULL/L\n",
      "2020-11-29 14:21:06,677 - thermomodel_None - WARNING - Warning : NULL/L\n",
      "2020-11-29 14:21:06,677 - thermomodel_None - WARNING - Warning : NULL/U\n",
      "2020-11-29 14:21:06,677 - thermomodel_None - WARNING - Warning : NULL/L\n",
      "2020-11-29 14:21:06,677 - thermomodel_None - WARNING - Warning : NULL/L\n",
      "2020-11-29 14:21:06,677 - thermomodel_None - WARNING - Warning : NULL/U\n",
      "2020-11-29 14:21:06,677 - thermomodel_None - WARNING - Warning : NULL/L\n",
      "2020-11-29 14:21:06,677 - thermomodel_None - WARNING - Warning : NULL/L\n",
      "2020-11-29 14:21:06,677 - thermomodel_None - WARNING - Warning : NULL/U\n",
      "2020-11-29 14:21:06,677 - thermomodel_None - WARNING - Warning : NULL/L\n",
      "2020-11-29 14:21:06,677 - thermomodel_None - WARNING - Warning : NULL/L\n",
      "2020-11-29 14:21:06,677 - thermomodel_None - WARNING - Warning : NULL/U\n",
      "2020-11-29 14:21:06,677 - thermomodel_None - WARNING - Warning : NULL/L\n",
      "2020-11-29 14:21:06,677 - thermomodel_None - WARNING - Warning : NULL/L\n",
      "2020-11-29 14:21:06,677 - thermomodel_None - WARNING - Warning : NULL/U\n",
      "2020-11-29 14:21:06,677 - thermomodel_None - WARNING - Warning : NULL/L\n",
      "2020-11-29 14:21:06,677 - thermomodel_None - WARNING - Warning : NULL/L\n",
      "2020-11-29 14:21:06,793 - thermomodel_None - INFO - # Model preparation done.\n",
      "2020-11-29 14:21:06,793 - thermomodel_None - INFO - # Model conversion starting...\n",
      "2020-11-29 14:22:31,561 - thermomodel_None - INFO - # Model conversion done.\n",
      "2020-11-29 14:22:31,564 - thermomodel_None - INFO - # Updating cobra_model variables...\n",
      "2020-11-29 14:22:31,659 - thermomodel_None - INFO - # cobra_model variables are up-to-date\n"
     ]
    },
    {
     "name": "stdout",
     "output_type": "stream",
     "text": [
      "Read LP format model from file C:\\Users\\riheme\\AppData\\Local\\Temp\\tmpi2nuwuo3.lp\n",
      "Reading time = 0.06 seconds\n",
      ": 1807 rows, 5170 columns, 20304 nonzeros\n",
      "Read LP format model from file C:\\Users\\riheme\\AppData\\Local\\Temp\\tmpk39j33tz.lp\n",
      "Reading time = 0.06 seconds\n",
      ": 1807 rows, 5170 columns, 20304 nonzeros\n"
     ]
    },
    {
     "name": "stderr",
     "output_type": "stream",
     "text": [
      "2020-11-29 14:23:17,706 - thermomodel_Ecoli TPI (Glc) 0 @ t = 0 - INFO - # Model initialized with units kcal/mol and temperature 298.15 K\n"
     ]
    },
    {
     "name": "stdout",
     "output_type": "stream",
     "text": [
      "Read LP format model from file C:\\Users\\riheme\\AppData\\Local\\Temp\\tmp9_zc2osy.lp\n",
      "Reading time = 0.06 seconds\n",
      ": 1807 rows, 5170 columns, 20304 nonzeros\n",
      "Read LP format model from file C:\\Users\\riheme\\AppData\\Local\\Temp\\tmp15973k7t.lp\n",
      "Reading time = 0.07 seconds\n",
      ": 1807 rows, 5170 columns, 20304 nonzeros\n"
     ]
    },
    {
     "name": "stderr",
     "output_type": "stream",
     "text": [
      "2020-11-29 14:24:32,217 - thermomodel_Ecoli TPI (Glc) 0 @ t = 0 - INFO - # Model initialized with units kcal/mol and temperature 298.15 K\n",
      "2020-11-29 14:25:03,235 - thermomodel_Ecoli TPI (Glc) 0 @ t = 0 - INFO - Adding slack constraints\n",
      "adding slacks: 100%|███████████████████████████████████████████████████████████████| 1824/1824 [01:50<00:00, 16.48it/s]\n",
      "2020-11-29 14:26:59,761 - thermomodel_Ecoli TPI (Glc) 0 @ t = 0 - INFO - Optimizing slack model\n",
      "2020-11-29 14:27:09,893 - thermomodel_Ecoli TPI (Glc) 0 @ t = 0 - INFO - Extracting relaxation\n",
      "applying slack: 100%|███████████████████████████████████████████████████████████| 2585/2585 [00:00<00:00, 15886.98it/s]\n",
      "2020-11-29 14:27:10,277 - thermomodel_Ecoli TPI (Glc) 0 @ t = 0 - INFO - Testing relaxation\n"
     ]
    },
    {
     "name": "stdout",
     "output_type": "stream",
     "text": [
      "################################################################################\n",
      "Ecoli TPI (Glc) 1 @ t = 1\n",
      "(142.47 min)\n",
      "################################################################################\n",
      "Read LP format model from file C:\\Users\\riheme\\AppData\\Local\\Temp\\tmpsp195zod.lp\n",
      "Reading time = 0.06 seconds\n",
      ": 1807 rows, 5170 columns, 20334 nonzeros\n",
      "Read LP format model from file C:\\Users\\riheme\\AppData\\Local\\Temp\\tmp9z3yzihe.lp\n",
      "Reading time = 0.06 seconds\n",
      ": 1807 rows, 5170 columns, 20334 nonzeros\n"
     ]
    },
    {
     "name": "stderr",
     "output_type": "stream",
     "text": [
      "2020-11-29 14:27:53,010 - thermomodel_None - INFO - # Model initialized with units kcal/mol and temperature 298.15 K\n",
      "2020-11-29 14:27:53,032 - thermomodel_None - INFO - # Model preparation starting...\n",
      "2020-11-29 14:28:00,072 - thermomodel_None - WARNING - Warning : NULL/U\n",
      "2020-11-29 14:28:00,082 - thermomodel_None - WARNING - Warning : NULL/L\n",
      "2020-11-29 14:28:00,082 - thermomodel_None - WARNING - Warning : NULL/L\n",
      "2020-11-29 14:28:00,082 - thermomodel_None - WARNING - Warning : NULL/U\n",
      "2020-11-29 14:28:00,082 - thermomodel_None - WARNING - Warning : NULL/L\n",
      "2020-11-29 14:28:00,090 - thermomodel_None - WARNING - Warning : NULL/L\n",
      "2020-11-29 14:28:00,722 - thermomodel_None - WARNING - Warning : NULL/U\n",
      "2020-11-29 14:28:00,722 - thermomodel_None - WARNING - Warning : NULL/L\n",
      "2020-11-29 14:28:00,722 - thermomodel_None - WARNING - Warning : NULL/L\n",
      "2020-11-29 14:28:00,730 - thermomodel_None - WARNING - Warning : NULL/U\n",
      "2020-11-29 14:28:00,732 - thermomodel_None - WARNING - Warning : NULL/L\n",
      "2020-11-29 14:28:00,733 - thermomodel_None - WARNING - Warning : NULL/L\n",
      "2020-11-29 14:28:01,120 - thermomodel_None - WARNING - Warning : NULL/U\n",
      "2020-11-29 14:28:01,120 - thermomodel_None - WARNING - Warning : NULL/L\n",
      "2020-11-29 14:28:01,128 - thermomodel_None - WARNING - Warning : NULL/L\n",
      "2020-11-29 14:28:01,128 - thermomodel_None - WARNING - Warning : NULL/U\n",
      "2020-11-29 14:28:01,128 - thermomodel_None - WARNING - Warning : NULL/L\n",
      "2020-11-29 14:28:01,128 - thermomodel_None - WARNING - Warning : NULL/L\n",
      "2020-11-29 14:28:01,285 - thermomodel_None - WARNING - Warning : NULL/U\n",
      "2020-11-29 14:28:01,285 - thermomodel_None - WARNING - Warning : NULL/L\n",
      "2020-11-29 14:28:01,285 - thermomodel_None - WARNING - Warning : NULL/L\n",
      "2020-11-29 14:28:01,293 - thermomodel_None - WARNING - Warning : NULL/U\n",
      "2020-11-29 14:28:01,293 - thermomodel_None - WARNING - Warning : NULL/L\n",
      "2020-11-29 14:28:01,293 - thermomodel_None - WARNING - Warning : NULL/L\n",
      "2020-11-29 14:28:01,293 - thermomodel_None - WARNING - Warning : NULL/U\n",
      "2020-11-29 14:28:01,293 - thermomodel_None - WARNING - Warning : NULL/L\n",
      "2020-11-29 14:28:01,303 - thermomodel_None - WARNING - Warning : NULL/L\n",
      "2020-11-29 14:28:01,306 - thermomodel_None - WARNING - Warning : NULL/U\n",
      "2020-11-29 14:28:01,306 - thermomodel_None - WARNING - Warning : NULL/L\n",
      "2020-11-29 14:28:01,306 - thermomodel_None - WARNING - Warning : NULL/L\n",
      "2020-11-29 14:28:01,306 - thermomodel_None - WARNING - Warning : NULL/U\n",
      "2020-11-29 14:28:01,313 - thermomodel_None - WARNING - Warning : NULL/L\n",
      "2020-11-29 14:28:01,315 - thermomodel_None - WARNING - Warning : NULL/L\n",
      "2020-11-29 14:28:01,315 - thermomodel_None - WARNING - Warning : NULL/U\n",
      "2020-11-29 14:28:01,315 - thermomodel_None - WARNING - Warning : NULL/L\n",
      "2020-11-29 14:28:01,315 - thermomodel_None - WARNING - Warning : NULL/L\n",
      "2020-11-29 14:28:01,315 - thermomodel_None - WARNING - Warning : NULL/U\n",
      "2020-11-29 14:28:01,325 - thermomodel_None - WARNING - Warning : NULL/L\n",
      "2020-11-29 14:28:01,327 - thermomodel_None - WARNING - Warning : NULL/L\n",
      "2020-11-29 14:28:01,328 - thermomodel_None - WARNING - Warning : NULL/U\n",
      "2020-11-29 14:28:01,328 - thermomodel_None - WARNING - Warning : NULL/L\n",
      "2020-11-29 14:28:01,328 - thermomodel_None - WARNING - Warning : NULL/L\n",
      "2020-11-29 14:28:01,652 - thermomodel_None - INFO - # Model preparation done.\n",
      "2020-11-29 14:28:01,652 - thermomodel_None - INFO - # Model conversion starting...\n",
      "2020-11-29 14:29:39,408 - thermomodel_None - INFO - # Model conversion done.\n",
      "2020-11-29 14:29:39,408 - thermomodel_None - INFO - # Updating cobra_model variables...\n",
      "2020-11-29 14:29:39,526 - thermomodel_None - INFO - # cobra_model variables are up-to-date\n"
     ]
    },
    {
     "name": "stdout",
     "output_type": "stream",
     "text": [
      "Read LP format model from file C:\\Users\\riheme\\AppData\\Local\\Temp\\tmpljl19g8l.lp\n",
      "Reading time = 0.08 seconds\n",
      ": 1807 rows, 5170 columns, 20304 nonzeros\n",
      "Read LP format model from file C:\\Users\\riheme\\AppData\\Local\\Temp\\tmp2hcscolf.lp\n",
      "Reading time = 0.06 seconds\n",
      ": 1807 rows, 5170 columns, 20304 nonzeros\n"
     ]
    },
    {
     "name": "stderr",
     "output_type": "stream",
     "text": [
      "2020-11-29 14:30:24,120 - thermomodel_Ecoli TPI (Glc) 1 @ t = 1 - INFO - # Model initialized with units kcal/mol and temperature 298.15 K\n"
     ]
    },
    {
     "name": "stdout",
     "output_type": "stream",
     "text": [
      "Read LP format model from file C:\\Users\\riheme\\AppData\\Local\\Temp\\tmpzusyk4q5.lp\n",
      "Reading time = 0.06 seconds\n",
      ": 1807 rows, 5170 columns, 20304 nonzeros\n",
      "Read LP format model from file C:\\Users\\riheme\\AppData\\Local\\Temp\\tmp7kugpnb9.lp\n",
      "Reading time = 0.06 seconds\n",
      ": 1807 rows, 5170 columns, 20304 nonzeros\n"
     ]
    },
    {
     "name": "stderr",
     "output_type": "stream",
     "text": [
      "2020-11-29 14:31:32,701 - thermomodel_Ecoli TPI (Glc) 1 @ t = 1 - INFO - # Model initialized with units kcal/mol and temperature 298.15 K\n",
      "2020-11-29 14:31:57,737 - thermomodel_Ecoli TPI (Glc) 1 @ t = 1 - INFO - Adding slack constraints\n",
      "adding slacks: 100%|███████████████████████████████████████████████████████████████| 1824/1824 [01:34<00:00, 19.30it/s]\n",
      "2020-11-29 14:33:36,555 - thermomodel_Ecoli TPI (Glc) 1 @ t = 1 - INFO - Optimizing slack model\n",
      "2020-11-29 14:33:42,706 - thermomodel_Ecoli TPI (Glc) 1 @ t = 1 - INFO - Extracting relaxation\n",
      "applying slack: 100%|███████████████████████████████████████████████████████████| 2585/2585 [00:00<00:00, 18420.48it/s]\n",
      "2020-11-29 14:33:43,063 - thermomodel_Ecoli TPI (Glc) 1 @ t = 1 - INFO - Testing relaxation\n"
     ]
    },
    {
     "name": "stdout",
     "output_type": "stream",
     "text": [
      "################################################################################\n",
      "Ecoli TPI (Glc) 1 @ t = 3\n",
      "(149.01 min)\n",
      "################################################################################\n",
      "Read LP format model from file C:\\Users\\riheme\\AppData\\Local\\Temp\\tmpsgfs1yry.lp\n",
      "Reading time = 0.06 seconds\n",
      ": 1807 rows, 5170 columns, 20334 nonzeros\n",
      "Read LP format model from file C:\\Users\\riheme\\AppData\\Local\\Temp\\tmpscnto06m.lp\n",
      "Reading time = 0.07 seconds\n",
      ": 1807 rows, 5170 columns, 20334 nonzeros\n"
     ]
    },
    {
     "name": "stderr",
     "output_type": "stream",
     "text": [
      "2020-11-29 14:34:23,397 - thermomodel_None - INFO - # Model initialized with units kcal/mol and temperature 298.15 K\n",
      "2020-11-29 14:34:23,423 - thermomodel_None - INFO - # Model preparation starting...\n",
      "2020-11-29 14:34:29,923 - thermomodel_None - WARNING - Warning : NULL/U\n",
      "2020-11-29 14:34:29,923 - thermomodel_None - WARNING - Warning : NULL/L\n",
      "2020-11-29 14:34:29,923 - thermomodel_None - WARNING - Warning : NULL/L\n",
      "2020-11-29 14:34:29,923 - thermomodel_None - WARNING - Warning : NULL/U\n",
      "2020-11-29 14:34:29,923 - thermomodel_None - WARNING - Warning : NULL/L\n",
      "2020-11-29 14:34:29,938 - thermomodel_None - WARNING - Warning : NULL/L\n",
      "2020-11-29 14:34:30,512 - thermomodel_None - WARNING - Warning : NULL/U\n",
      "2020-11-29 14:34:30,512 - thermomodel_None - WARNING - Warning : NULL/L\n",
      "2020-11-29 14:34:30,512 - thermomodel_None - WARNING - Warning : NULL/L\n",
      "2020-11-29 14:34:30,512 - thermomodel_None - WARNING - Warning : NULL/U\n",
      "2020-11-29 14:34:30,512 - thermomodel_None - WARNING - Warning : NULL/L\n",
      "2020-11-29 14:34:30,522 - thermomodel_None - WARNING - Warning : NULL/L\n",
      "2020-11-29 14:34:30,891 - thermomodel_None - WARNING - Warning : NULL/U\n",
      "2020-11-29 14:34:30,899 - thermomodel_None - WARNING - Warning : NULL/L\n",
      "2020-11-29 14:34:30,901 - thermomodel_None - WARNING - Warning : NULL/L\n",
      "2020-11-29 14:34:30,901 - thermomodel_None - WARNING - Warning : NULL/U\n",
      "2020-11-29 14:34:30,901 - thermomodel_None - WARNING - Warning : NULL/L\n",
      "2020-11-29 14:34:30,901 - thermomodel_None - WARNING - Warning : NULL/L\n",
      "2020-11-29 14:34:31,035 - thermomodel_None - WARNING - Warning : NULL/U\n",
      "2020-11-29 14:34:31,035 - thermomodel_None - WARNING - Warning : NULL/L\n",
      "2020-11-29 14:34:31,035 - thermomodel_None - WARNING - Warning : NULL/L\n",
      "2020-11-29 14:34:31,050 - thermomodel_None - WARNING - Warning : NULL/U\n",
      "2020-11-29 14:34:31,050 - thermomodel_None - WARNING - Warning : NULL/L\n",
      "2020-11-29 14:34:31,050 - thermomodel_None - WARNING - Warning : NULL/L\n",
      "2020-11-29 14:34:31,050 - thermomodel_None - WARNING - Warning : NULL/U\n",
      "2020-11-29 14:34:31,050 - thermomodel_None - WARNING - Warning : NULL/L\n",
      "2020-11-29 14:34:31,050 - thermomodel_None - WARNING - Warning : NULL/L\n",
      "2020-11-29 14:34:31,066 - thermomodel_None - WARNING - Warning : NULL/U\n",
      "2020-11-29 14:34:31,067 - thermomodel_None - WARNING - Warning : NULL/L\n",
      "2020-11-29 14:34:31,067 - thermomodel_None - WARNING - Warning : NULL/L\n",
      "2020-11-29 14:34:31,067 - thermomodel_None - WARNING - Warning : NULL/U\n",
      "2020-11-29 14:34:31,067 - thermomodel_None - WARNING - Warning : NULL/L\n",
      "2020-11-29 14:34:31,067 - thermomodel_None - WARNING - Warning : NULL/L\n",
      "2020-11-29 14:34:31,067 - thermomodel_None - WARNING - Warning : NULL/U\n",
      "2020-11-29 14:34:31,067 - thermomodel_None - WARNING - Warning : NULL/L\n",
      "2020-11-29 14:34:31,067 - thermomodel_None - WARNING - Warning : NULL/L\n",
      "2020-11-29 14:34:31,067 - thermomodel_None - WARNING - Warning : NULL/U\n",
      "2020-11-29 14:34:31,083 - thermomodel_None - WARNING - Warning : NULL/L\n",
      "2020-11-29 14:34:31,083 - thermomodel_None - WARNING - Warning : NULL/L\n",
      "2020-11-29 14:34:31,083 - thermomodel_None - WARNING - Warning : NULL/U\n",
      "2020-11-29 14:34:31,083 - thermomodel_None - WARNING - Warning : NULL/L\n",
      "2020-11-29 14:34:31,083 - thermomodel_None - WARNING - Warning : NULL/L\n",
      "2020-11-29 14:34:31,375 - thermomodel_None - INFO - # Model preparation done.\n",
      "2020-11-29 14:34:31,391 - thermomodel_None - INFO - # Model conversion starting...\n",
      "2020-11-29 14:36:07,855 - thermomodel_None - INFO - # Model conversion done.\n",
      "2020-11-29 14:36:07,899 - thermomodel_None - INFO - # Updating cobra_model variables...\n",
      "2020-11-29 14:36:08,003 - thermomodel_None - INFO - # cobra_model variables are up-to-date\n"
     ]
    },
    {
     "name": "stdout",
     "output_type": "stream",
     "text": [
      "Read LP format model from file C:\\Users\\riheme\\AppData\\Local\\Temp\\tmpcg9rm2p5.lp\n",
      "Reading time = 0.06 seconds\n",
      ": 1807 rows, 5170 columns, 20304 nonzeros\n",
      "Read LP format model from file C:\\Users\\riheme\\AppData\\Local\\Temp\\tmpx438x9rb.lp\n",
      "Reading time = 0.05 seconds\n",
      ": 1807 rows, 5170 columns, 20304 nonzeros\n"
     ]
    },
    {
     "name": "stderr",
     "output_type": "stream",
     "text": [
      "2020-11-29 14:36:50,834 - thermomodel_Ecoli TPI (Glc) 1 @ t = 3 - INFO - # Model initialized with units kcal/mol and temperature 298.15 K\n"
     ]
    },
    {
     "name": "stdout",
     "output_type": "stream",
     "text": [
      "Read LP format model from file C:\\Users\\riheme\\AppData\\Local\\Temp\\tmpfrut7pyi.lp\n",
      "Reading time = 0.06 seconds\n",
      ": 1807 rows, 5170 columns, 20304 nonzeros\n",
      "Read LP format model from file C:\\Users\\riheme\\AppData\\Local\\Temp\\tmpe5tu7hag.lp\n",
      "Reading time = 0.07 seconds\n",
      ": 1807 rows, 5170 columns, 20304 nonzeros\n"
     ]
    },
    {
     "name": "stderr",
     "output_type": "stream",
     "text": [
      "2020-11-29 14:38:01,268 - thermomodel_Ecoli TPI (Glc) 1 @ t = 3 - INFO - # Model initialized with units kcal/mol and temperature 298.15 K\n",
      "2020-11-29 14:38:28,284 - thermomodel_Ecoli TPI (Glc) 1 @ t = 3 - INFO - Adding slack constraints\n",
      "adding slacks: 100%|███████████████████████████████████████████████████████████████| 1824/1824 [01:38<00:00, 18.53it/s]\n",
      "2020-11-29 14:40:11,162 - thermomodel_Ecoli TPI (Glc) 1 @ t = 3 - INFO - Optimizing slack model\n",
      "2020-11-29 14:40:24,591 - thermomodel_Ecoli TPI (Glc) 1 @ t = 3 - INFO - Extracting relaxation\n",
      "applying slack: 100%|███████████████████████████████████████████████████████████| 2585/2585 [00:00<00:00, 15700.63it/s]\n",
      "2020-11-29 14:40:25,014 - thermomodel_Ecoli TPI (Glc) 1 @ t = 3 - INFO - Testing relaxation\n"
     ]
    },
    {
     "name": "stdout",
     "output_type": "stream",
     "text": [
      "################################################################################\n",
      "Ecoli TPI (Glc) 1 @ t = 11\n",
      "(155.72 min)\n",
      "################################################################################\n",
      "Read LP format model from file C:\\Users\\riheme\\AppData\\Local\\Temp\\tmpb0rvtu0m.lp\n",
      "Reading time = 0.06 seconds\n",
      ": 1807 rows, 5170 columns, 20334 nonzeros\n",
      "Read LP format model from file C:\\Users\\riheme\\AppData\\Local\\Temp\\tmp91vstdjl.lp\n",
      "Reading time = 0.06 seconds\n",
      ": 1807 rows, 5170 columns, 20334 nonzeros\n"
     ]
    },
    {
     "name": "stderr",
     "output_type": "stream",
     "text": [
      "2020-11-29 14:41:06,165 - thermomodel_None - INFO - # Model initialized with units kcal/mol and temperature 298.15 K\n",
      "2020-11-29 14:41:06,181 - thermomodel_None - INFO - # Model preparation starting...\n",
      "2020-11-29 14:41:12,858 - thermomodel_None - WARNING - Warning : NULL/U\n",
      "2020-11-29 14:41:12,860 - thermomodel_None - WARNING - Warning : NULL/L\n",
      "2020-11-29 14:41:12,860 - thermomodel_None - WARNING - Warning : NULL/L\n",
      "2020-11-29 14:41:12,860 - thermomodel_None - WARNING - Warning : NULL/U\n",
      "2020-11-29 14:41:12,866 - thermomodel_None - WARNING - Warning : NULL/L\n",
      "2020-11-29 14:41:12,868 - thermomodel_None - WARNING - Warning : NULL/L\n",
      "2020-11-29 14:41:13,434 - thermomodel_None - WARNING - Warning : NULL/U\n",
      "2020-11-29 14:41:13,434 - thermomodel_None - WARNING - Warning : NULL/L\n",
      "2020-11-29 14:41:13,442 - thermomodel_None - WARNING - Warning : NULL/L\n",
      "2020-11-29 14:41:13,447 - thermomodel_None - WARNING - Warning : NULL/U\n",
      "2020-11-29 14:41:13,450 - thermomodel_None - WARNING - Warning : NULL/L\n",
      "2020-11-29 14:41:13,453 - thermomodel_None - WARNING - Warning : NULL/L\n",
      "2020-11-29 14:41:13,824 - thermomodel_None - WARNING - Warning : NULL/U\n",
      "2020-11-29 14:41:13,832 - thermomodel_None - WARNING - Warning : NULL/L\n",
      "2020-11-29 14:41:13,832 - thermomodel_None - WARNING - Warning : NULL/L\n",
      "2020-11-29 14:41:13,839 - thermomodel_None - WARNING - Warning : NULL/U\n",
      "2020-11-29 14:41:13,841 - thermomodel_None - WARNING - Warning : NULL/L\n",
      "2020-11-29 14:41:13,846 - thermomodel_None - WARNING - Warning : NULL/L\n",
      "2020-11-29 14:41:13,977 - thermomodel_None - WARNING - Warning : NULL/U\n",
      "2020-11-29 14:41:13,977 - thermomodel_None - WARNING - Warning : NULL/L\n",
      "2020-11-29 14:41:13,977 - thermomodel_None - WARNING - Warning : NULL/L\n",
      "2020-11-29 14:41:13,987 - thermomodel_None - WARNING - Warning : NULL/U\n",
      "2020-11-29 14:41:13,988 - thermomodel_None - WARNING - Warning : NULL/L\n",
      "2020-11-29 14:41:13,988 - thermomodel_None - WARNING - Warning : NULL/L\n",
      "2020-11-29 14:41:13,993 - thermomodel_None - WARNING - Warning : NULL/U\n",
      "2020-11-29 14:41:13,994 - thermomodel_None - WARNING - Warning : NULL/L\n",
      "2020-11-29 14:41:13,996 - thermomodel_None - WARNING - Warning : NULL/L\n",
      "2020-11-29 14:41:13,998 - thermomodel_None - WARNING - Warning : NULL/U\n",
      "2020-11-29 14:41:14,000 - thermomodel_None - WARNING - Warning : NULL/L\n",
      "2020-11-29 14:41:14,001 - thermomodel_None - WARNING - Warning : NULL/L\n",
      "2020-11-29 14:41:14,002 - thermomodel_None - WARNING - Warning : NULL/U\n",
      "2020-11-29 14:41:14,005 - thermomodel_None - WARNING - Warning : NULL/L\n",
      "2020-11-29 14:41:14,007 - thermomodel_None - WARNING - Warning : NULL/L\n",
      "2020-11-29 14:41:14,012 - thermomodel_None - WARNING - Warning : NULL/U\n",
      "2020-11-29 14:41:14,014 - thermomodel_None - WARNING - Warning : NULL/L\n",
      "2020-11-29 14:41:14,015 - thermomodel_None - WARNING - Warning : NULL/L\n",
      "2020-11-29 14:41:14,019 - thermomodel_None - WARNING - Warning : NULL/U\n",
      "2020-11-29 14:41:14,020 - thermomodel_None - WARNING - Warning : NULL/L\n",
      "2020-11-29 14:41:14,022 - thermomodel_None - WARNING - Warning : NULL/L\n",
      "2020-11-29 14:41:14,023 - thermomodel_None - WARNING - Warning : NULL/U\n",
      "2020-11-29 14:41:14,025 - thermomodel_None - WARNING - Warning : NULL/L\n",
      "2020-11-29 14:41:14,029 - thermomodel_None - WARNING - Warning : NULL/L\n",
      "2020-11-29 14:41:14,313 - thermomodel_None - INFO - # Model preparation done.\n",
      "2020-11-29 14:41:14,324 - thermomodel_None - INFO - # Model conversion starting...\n",
      "2020-11-29 14:42:49,280 - thermomodel_None - INFO - # Model conversion done.\n",
      "2020-11-29 14:42:49,284 - thermomodel_None - INFO - # Updating cobra_model variables...\n",
      "2020-11-29 14:42:49,382 - thermomodel_None - INFO - # cobra_model variables are up-to-date\n"
     ]
    },
    {
     "name": "stdout",
     "output_type": "stream",
     "text": [
      "Read LP format model from file C:\\Users\\riheme\\AppData\\Local\\Temp\\tmpt1ulbk99.lp\n",
      "Reading time = 0.06 seconds\n",
      ": 1807 rows, 5170 columns, 20304 nonzeros\n",
      "Read LP format model from file C:\\Users\\riheme\\AppData\\Local\\Temp\\tmpvrw871bg.lp\n",
      "Reading time = 0.08 seconds\n",
      ": 1807 rows, 5170 columns, 20304 nonzeros\n"
     ]
    },
    {
     "name": "stderr",
     "output_type": "stream",
     "text": [
      "2020-11-29 14:43:34,294 - thermomodel_Ecoli TPI (Glc) 1 @ t = 11 - INFO - # Model initialized with units kcal/mol and temperature 298.15 K\n"
     ]
    },
    {
     "name": "stdout",
     "output_type": "stream",
     "text": [
      "Read LP format model from file C:\\Users\\riheme\\AppData\\Local\\Temp\\tmpxfkco17n.lp\n",
      "Reading time = 0.06 seconds\n",
      ": 1807 rows, 5170 columns, 20304 nonzeros\n",
      "Read LP format model from file C:\\Users\\riheme\\AppData\\Local\\Temp\\tmp88o7zmh7.lp\n",
      "Reading time = 0.05 seconds\n",
      ": 1807 rows, 5170 columns, 20304 nonzeros\n"
     ]
    },
    {
     "name": "stderr",
     "output_type": "stream",
     "text": [
      "2020-11-29 14:44:45,705 - thermomodel_Ecoli TPI (Glc) 1 @ t = 11 - INFO - # Model initialized with units kcal/mol and temperature 298.15 K\n",
      "2020-11-29 14:45:14,748 - thermomodel_Ecoli TPI (Glc) 1 @ t = 11 - INFO - Adding slack constraints\n",
      "adding slacks: 100%|███████████████████████████████████████████████████████████████| 1824/1824 [01:35<00:00, 19.16it/s]\n",
      "2020-11-29 14:46:54,327 - thermomodel_Ecoli TPI (Glc) 1 @ t = 11 - INFO - Optimizing slack model\n",
      "2020-11-29 14:47:08,002 - thermomodel_Ecoli TPI (Glc) 1 @ t = 11 - INFO - Extracting relaxation\n",
      "applying slack: 100%|███████████████████████████████████████████████████████████| 2585/2585 [00:00<00:00, 16547.69it/s]\n",
      "2020-11-29 14:47:08,369 - thermomodel_Ecoli TPI (Glc) 1 @ t = 11 - INFO - Testing relaxation\n"
     ]
    },
    {
     "name": "stdout",
     "output_type": "stream",
     "text": [
      "################################################################################\n",
      "Ecoli TPI (Glc) 2 @ t = 1\n",
      "(162.44 min)\n",
      "################################################################################\n",
      "Read LP format model from file C:\\Users\\riheme\\AppData\\Local\\Temp\\tmpdc2gui5o.lp\n",
      "Reading time = 0.06 seconds\n",
      ": 1807 rows, 5170 columns, 20334 nonzeros\n",
      "Read LP format model from file C:\\Users\\riheme\\AppData\\Local\\Temp\\tmpxs6c7_ph.lp\n",
      "Reading time = 0.06 seconds\n",
      ": 1807 rows, 5170 columns, 20334 nonzeros\n"
     ]
    },
    {
     "name": "stderr",
     "output_type": "stream",
     "text": [
      "2020-11-29 14:47:49,903 - thermomodel_None - INFO - # Model initialized with units kcal/mol and temperature 298.15 K\n",
      "2020-11-29 14:47:49,930 - thermomodel_None - INFO - # Model preparation starting...\n",
      "2020-11-29 14:47:58,016 - thermomodel_None - WARNING - Warning : NULL/U\n",
      "2020-11-29 14:47:58,017 - thermomodel_None - WARNING - Warning : NULL/L\n",
      "2020-11-29 14:47:58,017 - thermomodel_None - WARNING - Warning : NULL/L\n",
      "2020-11-29 14:47:58,020 - thermomodel_None - WARNING - Warning : NULL/U\n",
      "2020-11-29 14:47:58,022 - thermomodel_None - WARNING - Warning : NULL/L\n",
      "2020-11-29 14:47:58,025 - thermomodel_None - WARNING - Warning : NULL/L\n",
      "2020-11-29 14:47:58,671 - thermomodel_None - WARNING - Warning : NULL/U\n",
      "2020-11-29 14:47:58,672 - thermomodel_None - WARNING - Warning : NULL/L\n",
      "2020-11-29 14:47:58,673 - thermomodel_None - WARNING - Warning : NULL/L\n",
      "2020-11-29 14:47:58,673 - thermomodel_None - WARNING - Warning : NULL/U\n",
      "2020-11-29 14:47:58,680 - thermomodel_None - WARNING - Warning : NULL/L\n",
      "2020-11-29 14:47:58,683 - thermomodel_None - WARNING - Warning : NULL/L\n",
      "2020-11-29 14:47:59,077 - thermomodel_None - WARNING - Warning : NULL/U\n",
      "2020-11-29 14:47:59,077 - thermomodel_None - WARNING - Warning : NULL/L\n",
      "2020-11-29 14:47:59,087 - thermomodel_None - WARNING - Warning : NULL/L\n",
      "2020-11-29 14:47:59,088 - thermomodel_None - WARNING - Warning : NULL/U\n",
      "2020-11-29 14:47:59,093 - thermomodel_None - WARNING - Warning : NULL/L\n",
      "2020-11-29 14:47:59,095 - thermomodel_None - WARNING - Warning : NULL/L\n",
      "2020-11-29 14:47:59,237 - thermomodel_None - WARNING - Warning : NULL/U\n",
      "2020-11-29 14:47:59,237 - thermomodel_None - WARNING - Warning : NULL/L\n",
      "2020-11-29 14:47:59,237 - thermomodel_None - WARNING - Warning : NULL/L\n",
      "2020-11-29 14:47:59,246 - thermomodel_None - WARNING - Warning : NULL/U\n",
      "2020-11-29 14:47:59,246 - thermomodel_None - WARNING - Warning : NULL/L\n",
      "2020-11-29 14:47:59,251 - thermomodel_None - WARNING - Warning : NULL/L\n",
      "2020-11-29 14:47:59,253 - thermomodel_None - WARNING - Warning : NULL/U\n",
      "2020-11-29 14:47:59,256 - thermomodel_None - WARNING - Warning : NULL/L\n",
      "2020-11-29 14:47:59,257 - thermomodel_None - WARNING - Warning : NULL/L\n",
      "2020-11-29 14:47:59,258 - thermomodel_None - WARNING - Warning : NULL/U\n",
      "2020-11-29 14:47:59,259 - thermomodel_None - WARNING - Warning : NULL/L\n",
      "2020-11-29 14:47:59,262 - thermomodel_None - WARNING - Warning : NULL/L\n",
      "2020-11-29 14:47:59,264 - thermomodel_None - WARNING - Warning : NULL/U\n",
      "2020-11-29 14:47:59,264 - thermomodel_None - WARNING - Warning : NULL/L\n",
      "2020-11-29 14:47:59,268 - thermomodel_None - WARNING - Warning : NULL/L\n",
      "2020-11-29 14:47:59,270 - thermomodel_None - WARNING - Warning : NULL/U\n",
      "2020-11-29 14:47:59,270 - thermomodel_None - WARNING - Warning : NULL/L\n",
      "2020-11-29 14:47:59,273 - thermomodel_None - WARNING - Warning : NULL/L\n",
      "2020-11-29 14:47:59,274 - thermomodel_None - WARNING - Warning : NULL/U\n",
      "2020-11-29 14:47:59,277 - thermomodel_None - WARNING - Warning : NULL/L\n",
      "2020-11-29 14:47:59,279 - thermomodel_None - WARNING - Warning : NULL/L\n",
      "2020-11-29 14:47:59,281 - thermomodel_None - WARNING - Warning : NULL/U\n",
      "2020-11-29 14:47:59,282 - thermomodel_None - WARNING - Warning : NULL/L\n",
      "2020-11-29 14:47:59,284 - thermomodel_None - WARNING - Warning : NULL/L\n",
      "2020-11-29 14:47:59,622 - thermomodel_None - INFO - # Model preparation done.\n",
      "2020-11-29 14:47:59,624 - thermomodel_None - INFO - # Model conversion starting...\n",
      "2020-11-29 14:49:36,566 - thermomodel_None - INFO - # Model conversion done.\n",
      "2020-11-29 14:49:36,566 - thermomodel_None - INFO - # Updating cobra_model variables...\n",
      "2020-11-29 14:49:36,661 - thermomodel_None - INFO - # cobra_model variables are up-to-date\n"
     ]
    },
    {
     "name": "stdout",
     "output_type": "stream",
     "text": [
      "Read LP format model from file C:\\Users\\riheme\\AppData\\Local\\Temp\\tmphdcjjh4i.lp\n",
      "Reading time = 0.06 seconds\n",
      ": 1807 rows, 5170 columns, 20304 nonzeros\n",
      "Read LP format model from file C:\\Users\\riheme\\AppData\\Local\\Temp\\tmp4v416992.lp\n",
      "Reading time = 0.06 seconds\n",
      ": 1807 rows, 5170 columns, 20304 nonzeros\n"
     ]
    },
    {
     "name": "stderr",
     "output_type": "stream",
     "text": [
      "2020-11-29 14:50:24,411 - thermomodel_Ecoli TPI (Glc) 2 @ t = 1 - INFO - # Model initialized with units kcal/mol and temperature 298.15 K\n"
     ]
    },
    {
     "name": "stdout",
     "output_type": "stream",
     "text": [
      "Read LP format model from file C:\\Users\\riheme\\AppData\\Local\\Temp\\tmp_zg0tka7.lp\n",
      "Reading time = 0.07 seconds\n",
      ": 1807 rows, 5170 columns, 20304 nonzeros\n",
      "Read LP format model from file C:\\Users\\riheme\\AppData\\Local\\Temp\\tmpa2_6y0ib.lp\n",
      "Reading time = 0.06 seconds\n",
      ": 1807 rows, 5170 columns, 20304 nonzeros\n"
     ]
    },
    {
     "name": "stderr",
     "output_type": "stream",
     "text": [
      "2020-11-29 14:51:35,484 - thermomodel_Ecoli TPI (Glc) 2 @ t = 1 - INFO - # Model initialized with units kcal/mol and temperature 298.15 K\n",
      "2020-11-29 14:52:01,954 - thermomodel_Ecoli TPI (Glc) 2 @ t = 1 - INFO - Adding slack constraints\n",
      "adding slacks: 100%|███████████████████████████████████████████████████████████████| 1824/1824 [01:37<00:00, 18.65it/s]\n",
      "2020-11-29 14:53:44,315 - thermomodel_Ecoli TPI (Glc) 2 @ t = 1 - INFO - Optimizing slack model\n",
      "2020-11-29 14:53:54,404 - thermomodel_Ecoli TPI (Glc) 2 @ t = 1 - INFO - Extracting relaxation\n",
      "applying slack: 100%|███████████████████████████████████████████████████████████| 2585/2585 [00:00<00:00, 15144.22it/s]\n",
      "2020-11-29 14:53:54,876 - thermomodel_Ecoli TPI (Glc) 2 @ t = 1 - INFO - Testing relaxation\n"
     ]
    },
    {
     "name": "stdout",
     "output_type": "stream",
     "text": [
      "################################################################################\n",
      "Ecoli TPI (Glc) 2 @ t = 3\n",
      "(169.21 min)\n",
      "################################################################################\n",
      "Read LP format model from file C:\\Users\\riheme\\AppData\\Local\\Temp\\tmpsxit3xgn.lp\n",
      "Reading time = 0.06 seconds\n",
      ": 1807 rows, 5170 columns, 20334 nonzeros\n",
      "Read LP format model from file C:\\Users\\riheme\\AppData\\Local\\Temp\\tmpylcicuxn.lp\n",
      "Reading time = 0.06 seconds\n",
      ": 1807 rows, 5170 columns, 20334 nonzeros\n"
     ]
    },
    {
     "name": "stderr",
     "output_type": "stream",
     "text": [
      "2020-11-29 14:54:36,986 - thermomodel_None - INFO - # Model initialized with units kcal/mol and temperature 298.15 K\n",
      "2020-11-29 14:54:37,018 - thermomodel_None - INFO - # Model preparation starting...\n",
      "2020-11-29 14:54:43,816 - thermomodel_None - WARNING - Warning : NULL/U\n",
      "2020-11-29 14:54:43,816 - thermomodel_None - WARNING - Warning : NULL/L\n",
      "2020-11-29 14:54:43,816 - thermomodel_None - WARNING - Warning : NULL/L\n",
      "2020-11-29 14:54:43,823 - thermomodel_None - WARNING - Warning : NULL/U\n",
      "2020-11-29 14:54:43,824 - thermomodel_None - WARNING - Warning : NULL/L\n",
      "2020-11-29 14:54:43,827 - thermomodel_None - WARNING - Warning : NULL/L\n",
      "2020-11-29 14:54:44,482 - thermomodel_None - WARNING - Warning : NULL/U\n",
      "2020-11-29 14:54:44,482 - thermomodel_None - WARNING - Warning : NULL/L\n",
      "2020-11-29 14:54:44,482 - thermomodel_None - WARNING - Warning : NULL/L\n",
      "2020-11-29 14:54:44,482 - thermomodel_None - WARNING - Warning : NULL/U\n",
      "2020-11-29 14:54:44,482 - thermomodel_None - WARNING - Warning : NULL/L\n",
      "2020-11-29 14:54:44,491 - thermomodel_None - WARNING - Warning : NULL/L\n",
      "2020-11-29 14:54:44,974 - thermomodel_None - WARNING - Warning : NULL/U\n",
      "2020-11-29 14:54:44,979 - thermomodel_None - WARNING - Warning : NULL/L\n",
      "2020-11-29 14:54:44,981 - thermomodel_None - WARNING - Warning : NULL/L\n",
      "2020-11-29 14:54:44,982 - thermomodel_None - WARNING - Warning : NULL/U\n",
      "2020-11-29 14:54:44,984 - thermomodel_None - WARNING - Warning : NULL/L\n",
      "2020-11-29 14:54:44,986 - thermomodel_None - WARNING - Warning : NULL/L\n",
      "2020-11-29 14:54:45,130 - thermomodel_None - WARNING - Warning : NULL/U\n",
      "2020-11-29 14:54:45,131 - thermomodel_None - WARNING - Warning : NULL/L\n",
      "2020-11-29 14:54:45,132 - thermomodel_None - WARNING - Warning : NULL/L\n",
      "2020-11-29 14:54:45,134 - thermomodel_None - WARNING - Warning : NULL/U\n",
      "2020-11-29 14:54:45,136 - thermomodel_None - WARNING - Warning : NULL/L\n",
      "2020-11-29 14:54:45,137 - thermomodel_None - WARNING - Warning : NULL/L\n",
      "2020-11-29 14:54:45,140 - thermomodel_None - WARNING - Warning : NULL/U\n",
      "2020-11-29 14:54:45,141 - thermomodel_None - WARNING - Warning : NULL/L\n",
      "2020-11-29 14:54:45,142 - thermomodel_None - WARNING - Warning : NULL/L\n",
      "2020-11-29 14:54:45,145 - thermomodel_None - WARNING - Warning : NULL/U\n",
      "2020-11-29 14:54:45,147 - thermomodel_None - WARNING - Warning : NULL/L\n",
      "2020-11-29 14:54:45,150 - thermomodel_None - WARNING - Warning : NULL/L\n",
      "2020-11-29 14:54:45,153 - thermomodel_None - WARNING - Warning : NULL/U\n",
      "2020-11-29 14:54:45,154 - thermomodel_None - WARNING - Warning : NULL/L\n",
      "2020-11-29 14:54:45,156 - thermomodel_None - WARNING - Warning : NULL/L\n",
      "2020-11-29 14:54:45,158 - thermomodel_None - WARNING - Warning : NULL/U\n",
      "2020-11-29 14:54:45,158 - thermomodel_None - WARNING - Warning : NULL/L\n",
      "2020-11-29 14:54:45,158 - thermomodel_None - WARNING - Warning : NULL/L\n",
      "2020-11-29 14:54:45,164 - thermomodel_None - WARNING - Warning : NULL/U\n",
      "2020-11-29 14:54:45,166 - thermomodel_None - WARNING - Warning : NULL/L\n",
      "2020-11-29 14:54:45,167 - thermomodel_None - WARNING - Warning : NULL/L\n",
      "2020-11-29 14:54:45,168 - thermomodel_None - WARNING - Warning : NULL/U\n",
      "2020-11-29 14:54:45,168 - thermomodel_None - WARNING - Warning : NULL/L\n",
      "2020-11-29 14:54:45,172 - thermomodel_None - WARNING - Warning : NULL/L\n",
      "2020-11-29 14:54:45,536 - thermomodel_None - INFO - # Model preparation done.\n",
      "2020-11-29 14:54:45,537 - thermomodel_None - INFO - # Model conversion starting...\n",
      "2020-11-29 14:56:26,160 - thermomodel_None - INFO - # Model conversion done.\n",
      "2020-11-29 14:56:26,163 - thermomodel_None - INFO - # Updating cobra_model variables...\n",
      "2020-11-29 14:56:26,266 - thermomodel_None - INFO - # cobra_model variables are up-to-date\n"
     ]
    },
    {
     "name": "stdout",
     "output_type": "stream",
     "text": [
      "Read LP format model from file C:\\Users\\riheme\\AppData\\Local\\Temp\\tmprpraavev.lp\n",
      "Reading time = 0.07 seconds\n",
      ": 1807 rows, 5170 columns, 20304 nonzeros\n",
      "Read LP format model from file C:\\Users\\riheme\\AppData\\Local\\Temp\\tmpx8rivcrm.lp\n",
      "Reading time = 0.06 seconds\n",
      ": 1807 rows, 5170 columns, 20304 nonzeros\n"
     ]
    },
    {
     "name": "stderr",
     "output_type": "stream",
     "text": [
      "2020-11-29 14:57:10,537 - thermomodel_Ecoli TPI (Glc) 2 @ t = 3 - INFO - # Model initialized with units kcal/mol and temperature 298.15 K\n"
     ]
    },
    {
     "name": "stdout",
     "output_type": "stream",
     "text": [
      "Read LP format model from file C:\\Users\\riheme\\AppData\\Local\\Temp\\tmp4zj1ch0c.lp\n",
      "Reading time = 0.06 seconds\n",
      ": 1807 rows, 5170 columns, 20304 nonzeros\n",
      "Read LP format model from file C:\\Users\\riheme\\AppData\\Local\\Temp\\tmpqdlzoc5e.lp\n",
      "Reading time = 0.05 seconds\n",
      ": 1807 rows, 5170 columns, 20304 nonzeros\n"
     ]
    },
    {
     "name": "stderr",
     "output_type": "stream",
     "text": [
      "2020-11-29 14:58:26,238 - thermomodel_Ecoli TPI (Glc) 2 @ t = 3 - INFO - # Model initialized with units kcal/mol and temperature 298.15 K\n",
      "2020-11-29 14:58:57,658 - thermomodel_Ecoli TPI (Glc) 2 @ t = 3 - INFO - Adding slack constraints\n",
      "adding slacks: 100%|███████████████████████████████████████████████████████████████| 1824/1824 [01:45<00:00, 17.31it/s]\n",
      "2020-11-29 15:00:47,771 - thermomodel_Ecoli TPI (Glc) 2 @ t = 3 - INFO - Optimizing slack model\n",
      "2020-11-29 15:01:00,570 - thermomodel_Ecoli TPI (Glc) 2 @ t = 3 - INFO - Extracting relaxation\n",
      "applying slack: 100%|███████████████████████████████████████████████████████████| 2585/2585 [00:00<00:00, 13608.18it/s]\n",
      "2020-11-29 15:01:01,026 - thermomodel_Ecoli TPI (Glc) 2 @ t = 3 - INFO - Testing relaxation\n"
     ]
    },
    {
     "name": "stdout",
     "output_type": "stream",
     "text": [
      "################################################################################\n",
      "Ecoli TPI (Glc) 2 @ t = 11\n",
      "(176.31 min)\n",
      "################################################################################\n",
      "Read LP format model from file C:\\Users\\riheme\\AppData\\Local\\Temp\\tmpv3tk0ebw.lp\n",
      "Reading time = 0.06 seconds\n",
      ": 1807 rows, 5170 columns, 20334 nonzeros\n",
      "Read LP format model from file C:\\Users\\riheme\\AppData\\Local\\Temp\\tmpo2edzp7v.lp\n",
      "Reading time = 0.08 seconds\n",
      ": 1807 rows, 5170 columns, 20334 nonzeros\n"
     ]
    },
    {
     "name": "stderr",
     "output_type": "stream",
     "text": [
      "2020-11-29 15:01:44,458 - thermomodel_None - INFO - # Model initialized with units kcal/mol and temperature 298.15 K\n",
      "2020-11-29 15:01:44,489 - thermomodel_None - INFO - # Model preparation starting...\n",
      "2020-11-29 15:01:51,833 - thermomodel_None - WARNING - Warning : NULL/U\n",
      "2020-11-29 15:01:51,841 - thermomodel_None - WARNING - Warning : NULL/L\n",
      "2020-11-29 15:01:51,843 - thermomodel_None - WARNING - Warning : NULL/L\n",
      "2020-11-29 15:01:51,844 - thermomodel_None - WARNING - Warning : NULL/U\n",
      "2020-11-29 15:01:51,846 - thermomodel_None - WARNING - Warning : NULL/L\n",
      "2020-11-29 15:01:51,847 - thermomodel_None - WARNING - Warning : NULL/L\n",
      "2020-11-29 15:01:52,494 - thermomodel_None - WARNING - Warning : NULL/U\n",
      "2020-11-29 15:01:52,494 - thermomodel_None - WARNING - Warning : NULL/L\n",
      "2020-11-29 15:01:52,494 - thermomodel_None - WARNING - Warning : NULL/L\n",
      "2020-11-29 15:01:52,505 - thermomodel_None - WARNING - Warning : NULL/U\n",
      "2020-11-29 15:01:52,507 - thermomodel_None - WARNING - Warning : NULL/L\n",
      "2020-11-29 15:01:52,510 - thermomodel_None - WARNING - Warning : NULL/L\n",
      "2020-11-29 15:01:52,952 - thermomodel_None - WARNING - Warning : NULL/U\n",
      "2020-11-29 15:01:52,954 - thermomodel_None - WARNING - Warning : NULL/L\n",
      "2020-11-29 15:01:52,955 - thermomodel_None - WARNING - Warning : NULL/L\n",
      "2020-11-29 15:01:52,958 - thermomodel_None - WARNING - Warning : NULL/U\n",
      "2020-11-29 15:01:52,961 - thermomodel_None - WARNING - Warning : NULL/L\n",
      "2020-11-29 15:01:52,964 - thermomodel_None - WARNING - Warning : NULL/L\n",
      "2020-11-29 15:01:53,132 - thermomodel_None - WARNING - Warning : NULL/U\n",
      "2020-11-29 15:01:53,133 - thermomodel_None - WARNING - Warning : NULL/L\n",
      "2020-11-29 15:01:53,133 - thermomodel_None - WARNING - Warning : NULL/L\n",
      "2020-11-29 15:01:53,133 - thermomodel_None - WARNING - Warning : NULL/U\n",
      "2020-11-29 15:01:53,138 - thermomodel_None - WARNING - Warning : NULL/L\n",
      "2020-11-29 15:01:53,141 - thermomodel_None - WARNING - Warning : NULL/L\n",
      "2020-11-29 15:01:53,145 - thermomodel_None - WARNING - Warning : NULL/U\n",
      "2020-11-29 15:01:53,148 - thermomodel_None - WARNING - Warning : NULL/L\n",
      "2020-11-29 15:01:53,150 - thermomodel_None - WARNING - Warning : NULL/L\n",
      "2020-11-29 15:01:53,152 - thermomodel_None - WARNING - Warning : NULL/U\n",
      "2020-11-29 15:01:53,152 - thermomodel_None - WARNING - Warning : NULL/L\n",
      "2020-11-29 15:01:53,154 - thermomodel_None - WARNING - Warning : NULL/L\n",
      "2020-11-29 15:01:53,157 - thermomodel_None - WARNING - Warning : NULL/U\n",
      "2020-11-29 15:01:53,159 - thermomodel_None - WARNING - Warning : NULL/L\n",
      "2020-11-29 15:01:53,161 - thermomodel_None - WARNING - Warning : NULL/L\n",
      "2020-11-29 15:01:53,164 - thermomodel_None - WARNING - Warning : NULL/U\n",
      "2020-11-29 15:01:53,167 - thermomodel_None - WARNING - Warning : NULL/L\n",
      "2020-11-29 15:01:53,168 - thermomodel_None - WARNING - Warning : NULL/L\n",
      "2020-11-29 15:01:53,171 - thermomodel_None - WARNING - Warning : NULL/U\n",
      "2020-11-29 15:01:53,173 - thermomodel_None - WARNING - Warning : NULL/L\n",
      "2020-11-29 15:01:53,174 - thermomodel_None - WARNING - Warning : NULL/L\n",
      "2020-11-29 15:01:53,176 - thermomodel_None - WARNING - Warning : NULL/U\n",
      "2020-11-29 15:01:53,177 - thermomodel_None - WARNING - Warning : NULL/L\n",
      "2020-11-29 15:01:53,181 - thermomodel_None - WARNING - Warning : NULL/L\n",
      "2020-11-29 15:01:53,534 - thermomodel_None - INFO - # Model preparation done.\n",
      "2020-11-29 15:01:53,536 - thermomodel_None - INFO - # Model conversion starting...\n",
      "2020-11-29 15:03:37,059 - thermomodel_None - INFO - # Model conversion done.\n",
      "2020-11-29 15:03:37,062 - thermomodel_None - INFO - # Updating cobra_model variables...\n",
      "2020-11-29 15:03:37,162 - thermomodel_None - INFO - # cobra_model variables are up-to-date\n"
     ]
    },
    {
     "name": "stdout",
     "output_type": "stream",
     "text": [
      "Read LP format model from file C:\\Users\\riheme\\AppData\\Local\\Temp\\tmpeqhk095r.lp\n",
      "Reading time = 0.06 seconds\n",
      ": 1807 rows, 5170 columns, 20304 nonzeros\n",
      "Read LP format model from file C:\\Users\\riheme\\AppData\\Local\\Temp\\tmpva2kqy11.lp\n",
      "Reading time = 0.06 seconds\n",
      ": 1807 rows, 5170 columns, 20304 nonzeros\n"
     ]
    },
    {
     "name": "stderr",
     "output_type": "stream",
     "text": [
      "2020-11-29 15:04:21,955 - thermomodel_Ecoli TPI (Glc) 2 @ t = 11 - INFO - # Model initialized with units kcal/mol and temperature 298.15 K\n"
     ]
    },
    {
     "name": "stdout",
     "output_type": "stream",
     "text": [
      "Read LP format model from file C:\\Users\\riheme\\AppData\\Local\\Temp\\tmpbn2555i9.lp\n",
      "Reading time = 0.06 seconds\n",
      ": 1807 rows, 5170 columns, 20304 nonzeros\n",
      "Read LP format model from file C:\\Users\\riheme\\AppData\\Local\\Temp\\tmp7pubkqw6.lp\n",
      "Reading time = 0.08 seconds\n",
      ": 1807 rows, 5170 columns, 20304 nonzeros\n"
     ]
    },
    {
     "name": "stderr",
     "output_type": "stream",
     "text": [
      "2020-11-29 15:05:36,967 - thermomodel_Ecoli TPI (Glc) 2 @ t = 11 - INFO - # Model initialized with units kcal/mol and temperature 298.15 K\n",
      "2020-11-29 15:06:05,373 - thermomodel_Ecoli TPI (Glc) 2 @ t = 11 - INFO - Adding slack constraints\n",
      "adding slacks: 100%|███████████████████████████████████████████████████████████████| 1824/1824 [01:47<00:00, 16.93it/s]\n",
      "2020-11-29 15:07:57,055 - thermomodel_Ecoli TPI (Glc) 2 @ t = 11 - INFO - Optimizing slack model\n",
      "2020-11-29 15:08:03,910 - thermomodel_Ecoli TPI (Glc) 2 @ t = 11 - INFO - Extracting relaxation\n",
      "applying slack: 100%|███████████████████████████████████████████████████████████| 2585/2585 [00:00<00:00, 20086.70it/s]\n",
      "2020-11-29 15:08:04,260 - thermomodel_Ecoli TPI (Glc) 2 @ t = 11 - INFO - Testing relaxation\n"
     ]
    },
    {
     "name": "stdout",
     "output_type": "stream",
     "text": [
      "################################################################################\n",
      "Ecoli TPI (Glc) 3 @ t = 1\n",
      "(183.36 min)\n",
      "################################################################################\n",
      "Read LP format model from file C:\\Users\\riheme\\AppData\\Local\\Temp\\tmpr4aac1vo.lp\n",
      "Reading time = 0.05 seconds\n",
      ": 1807 rows, 5170 columns, 20334 nonzeros\n",
      "Read LP format model from file C:\\Users\\riheme\\AppData\\Local\\Temp\\tmp4nn278hw.lp\n",
      "Reading time = 0.07 seconds\n",
      ": 1807 rows, 5170 columns, 20334 nonzeros\n"
     ]
    },
    {
     "name": "stderr",
     "output_type": "stream",
     "text": [
      "2020-11-29 15:08:46,612 - thermomodel_None - INFO - # Model initialized with units kcal/mol and temperature 298.15 K\n",
      "2020-11-29 15:08:46,654 - thermomodel_None - INFO - # Model preparation starting...\n",
      "2020-11-29 15:08:54,191 - thermomodel_None - WARNING - Warning : NULL/U\n",
      "2020-11-29 15:08:54,193 - thermomodel_None - WARNING - Warning : NULL/L\n",
      "2020-11-29 15:08:54,196 - thermomodel_None - WARNING - Warning : NULL/L\n",
      "2020-11-29 15:08:54,199 - thermomodel_None - WARNING - Warning : NULL/U\n",
      "2020-11-29 15:08:54,201 - thermomodel_None - WARNING - Warning : NULL/L\n",
      "2020-11-29 15:08:54,204 - thermomodel_None - WARNING - Warning : NULL/L\n",
      "2020-11-29 15:08:55,085 - thermomodel_None - WARNING - Warning : NULL/U\n",
      "2020-11-29 15:08:55,085 - thermomodel_None - WARNING - Warning : NULL/L\n",
      "2020-11-29 15:08:55,091 - thermomodel_None - WARNING - Warning : NULL/L\n",
      "2020-11-29 15:08:55,093 - thermomodel_None - WARNING - Warning : NULL/U\n",
      "2020-11-29 15:08:55,095 - thermomodel_None - WARNING - Warning : NULL/L\n",
      "2020-11-29 15:08:55,097 - thermomodel_None - WARNING - Warning : NULL/L\n",
      "2020-11-29 15:08:55,575 - thermomodel_None - WARNING - Warning : NULL/U\n",
      "2020-11-29 15:08:55,578 - thermomodel_None - WARNING - Warning : NULL/L\n",
      "2020-11-29 15:08:55,580 - thermomodel_None - WARNING - Warning : NULL/L\n",
      "2020-11-29 15:08:55,582 - thermomodel_None - WARNING - Warning : NULL/U\n",
      "2020-11-29 15:08:55,584 - thermomodel_None - WARNING - Warning : NULL/L\n",
      "2020-11-29 15:08:55,586 - thermomodel_None - WARNING - Warning : NULL/L\n",
      "2020-11-29 15:08:55,733 - thermomodel_None - WARNING - Warning : NULL/U\n",
      "2020-11-29 15:08:55,733 - thermomodel_None - WARNING - Warning : NULL/L\n",
      "2020-11-29 15:08:55,733 - thermomodel_None - WARNING - Warning : NULL/L\n",
      "2020-11-29 15:08:55,733 - thermomodel_None - WARNING - Warning : NULL/U\n",
      "2020-11-29 15:08:55,743 - thermomodel_None - WARNING - Warning : NULL/L\n",
      "2020-11-29 15:08:55,744 - thermomodel_None - WARNING - Warning : NULL/L\n",
      "2020-11-29 15:08:55,746 - thermomodel_None - WARNING - Warning : NULL/U\n",
      "2020-11-29 15:08:55,749 - thermomodel_None - WARNING - Warning : NULL/L\n",
      "2020-11-29 15:08:55,750 - thermomodel_None - WARNING - Warning : NULL/L\n",
      "2020-11-29 15:08:55,753 - thermomodel_None - WARNING - Warning : NULL/U\n",
      "2020-11-29 15:08:55,755 - thermomodel_None - WARNING - Warning : NULL/L\n",
      "2020-11-29 15:08:55,756 - thermomodel_None - WARNING - Warning : NULL/L\n",
      "2020-11-29 15:08:55,760 - thermomodel_None - WARNING - Warning : NULL/U\n",
      "2020-11-29 15:08:55,763 - thermomodel_None - WARNING - Warning : NULL/L\n",
      "2020-11-29 15:08:55,766 - thermomodel_None - WARNING - Warning : NULL/L\n",
      "2020-11-29 15:08:55,768 - thermomodel_None - WARNING - Warning : NULL/U\n",
      "2020-11-29 15:08:55,774 - thermomodel_None - WARNING - Warning : NULL/L\n",
      "2020-11-29 15:08:55,775 - thermomodel_None - WARNING - Warning : NULL/L\n",
      "2020-11-29 15:08:55,778 - thermomodel_None - WARNING - Warning : NULL/U\n",
      "2020-11-29 15:08:55,779 - thermomodel_None - WARNING - Warning : NULL/L\n",
      "2020-11-29 15:08:55,781 - thermomodel_None - WARNING - Warning : NULL/L\n",
      "2020-11-29 15:08:55,784 - thermomodel_None - WARNING - Warning : NULL/U\n",
      "2020-11-29 15:08:55,786 - thermomodel_None - WARNING - Warning : NULL/L\n",
      "2020-11-29 15:08:55,788 - thermomodel_None - WARNING - Warning : NULL/L\n",
      "2020-11-29 15:08:56,133 - thermomodel_None - INFO - # Model preparation done.\n",
      "2020-11-29 15:08:56,133 - thermomodel_None - INFO - # Model conversion starting...\n",
      "2020-11-29 15:10:42,530 - thermomodel_None - INFO - # Model conversion done.\n",
      "2020-11-29 15:10:42,536 - thermomodel_None - INFO - # Updating cobra_model variables...\n",
      "2020-11-29 15:10:42,639 - thermomodel_None - INFO - # cobra_model variables are up-to-date\n"
     ]
    },
    {
     "name": "stdout",
     "output_type": "stream",
     "text": [
      "Read LP format model from file C:\\Users\\riheme\\AppData\\Local\\Temp\\tmpi9qjx87_.lp\n",
      "Reading time = 0.06 seconds\n",
      ": 1807 rows, 5170 columns, 20304 nonzeros\n",
      "Read LP format model from file C:\\Users\\riheme\\AppData\\Local\\Temp\\tmpsk2w507o.lp\n",
      "Reading time = 0.05 seconds\n",
      ": 1807 rows, 5170 columns, 20304 nonzeros\n"
     ]
    },
    {
     "name": "stderr",
     "output_type": "stream",
     "text": [
      "2020-11-29 15:11:28,063 - thermomodel_Ecoli TPI (Glc) 3 @ t = 1 - INFO - # Model initialized with units kcal/mol and temperature 298.15 K\n"
     ]
    },
    {
     "name": "stdout",
     "output_type": "stream",
     "text": [
      "Read LP format model from file C:\\Users\\riheme\\AppData\\Local\\Temp\\tmpnzqel5ks.lp\n",
      "Reading time = 0.05 seconds\n",
      ": 1807 rows, 5170 columns, 20304 nonzeros\n",
      "Read LP format model from file C:\\Users\\riheme\\AppData\\Local\\Temp\\tmp1eu0cngf.lp\n",
      "Reading time = 0.05 seconds\n",
      ": 1807 rows, 5170 columns, 20304 nonzeros\n"
     ]
    },
    {
     "name": "stderr",
     "output_type": "stream",
     "text": [
      "2020-11-29 15:12:37,789 - thermomodel_Ecoli TPI (Glc) 3 @ t = 1 - INFO - # Model initialized with units kcal/mol and temperature 298.15 K\n",
      "2020-11-29 15:13:02,954 - thermomodel_Ecoli TPI (Glc) 3 @ t = 1 - INFO - Adding slack constraints\n",
      "adding slacks: 100%|███████████████████████████████████████████████████████████████| 1824/1824 [01:37<00:00, 18.73it/s]\n",
      "2020-11-29 15:14:44,694 - thermomodel_Ecoli TPI (Glc) 3 @ t = 1 - INFO - Optimizing slack model\n",
      "2020-11-29 15:14:57,408 - thermomodel_Ecoli TPI (Glc) 3 @ t = 1 - INFO - Extracting relaxation\n",
      "applying slack: 100%|███████████████████████████████████████████████████████████| 2585/2585 [00:00<00:00, 17537.72it/s]\n",
      "2020-11-29 15:14:57,773 - thermomodel_Ecoli TPI (Glc) 3 @ t = 1 - INFO - Testing relaxation\n"
     ]
    },
    {
     "name": "stdout",
     "output_type": "stream",
     "text": [
      "################################################################################\n",
      "Ecoli TPI (Glc) 3 @ t = 3\n",
      "(190.26 min)\n",
      "################################################################################\n",
      "Read LP format model from file C:\\Users\\riheme\\AppData\\Local\\Temp\\tmpi6b2b77h.lp\n",
      "Reading time = 0.06 seconds\n",
      ": 1807 rows, 5170 columns, 20334 nonzeros\n",
      "Read LP format model from file C:\\Users\\riheme\\AppData\\Local\\Temp\\tmpldege7a_.lp\n",
      "Reading time = 0.06 seconds\n",
      ": 1807 rows, 5170 columns, 20334 nonzeros\n"
     ]
    },
    {
     "name": "stderr",
     "output_type": "stream",
     "text": [
      "2020-11-29 15:15:39,298 - thermomodel_None - INFO - # Model initialized with units kcal/mol and temperature 298.15 K\n",
      "2020-11-29 15:15:39,323 - thermomodel_None - INFO - # Model preparation starting...\n",
      "2020-11-29 15:15:46,378 - thermomodel_None - WARNING - Warning : NULL/U\n",
      "2020-11-29 15:15:46,378 - thermomodel_None - WARNING - Warning : NULL/L\n",
      "2020-11-29 15:15:46,378 - thermomodel_None - WARNING - Warning : NULL/L\n",
      "2020-11-29 15:15:46,378 - thermomodel_None - WARNING - Warning : NULL/U\n",
      "2020-11-29 15:15:46,389 - thermomodel_None - WARNING - Warning : NULL/L\n",
      "2020-11-29 15:15:46,391 - thermomodel_None - WARNING - Warning : NULL/L\n",
      "2020-11-29 15:15:46,961 - thermomodel_None - WARNING - Warning : NULL/U\n",
      "2020-11-29 15:15:46,976 - thermomodel_None - WARNING - Warning : NULL/L\n",
      "2020-11-29 15:15:46,978 - thermomodel_None - WARNING - Warning : NULL/L\n",
      "2020-11-29 15:15:46,982 - thermomodel_None - WARNING - Warning : NULL/U\n",
      "2020-11-29 15:15:46,982 - thermomodel_None - WARNING - Warning : NULL/L\n",
      "2020-11-29 15:15:46,982 - thermomodel_None - WARNING - Warning : NULL/L\n",
      "2020-11-29 15:15:47,361 - thermomodel_None - WARNING - Warning : NULL/U\n",
      "2020-11-29 15:15:47,361 - thermomodel_None - WARNING - Warning : NULL/L\n",
      "2020-11-29 15:15:47,376 - thermomodel_None - WARNING - Warning : NULL/L\n",
      "2020-11-29 15:15:47,380 - thermomodel_None - WARNING - Warning : NULL/U\n",
      "2020-11-29 15:15:47,381 - thermomodel_None - WARNING - Warning : NULL/L\n",
      "2020-11-29 15:15:47,381 - thermomodel_None - WARNING - Warning : NULL/L\n",
      "2020-11-29 15:15:47,511 - thermomodel_None - WARNING - Warning : NULL/U\n",
      "2020-11-29 15:15:47,511 - thermomodel_None - WARNING - Warning : NULL/L\n",
      "2020-11-29 15:15:47,525 - thermomodel_None - WARNING - Warning : NULL/L\n",
      "2020-11-29 15:15:47,528 - thermomodel_None - WARNING - Warning : NULL/U\n",
      "2020-11-29 15:15:47,529 - thermomodel_None - WARNING - Warning : NULL/L\n",
      "2020-11-29 15:15:47,530 - thermomodel_None - WARNING - Warning : NULL/L\n",
      "2020-11-29 15:15:47,533 - thermomodel_None - WARNING - Warning : NULL/U\n",
      "2020-11-29 15:15:47,536 - thermomodel_None - WARNING - Warning : NULL/L\n",
      "2020-11-29 15:15:47,538 - thermomodel_None - WARNING - Warning : NULL/L\n",
      "2020-11-29 15:15:47,539 - thermomodel_None - WARNING - Warning : NULL/U\n",
      "2020-11-29 15:15:47,542 - thermomodel_None - WARNING - Warning : NULL/L\n",
      "2020-11-29 15:15:47,543 - thermomodel_None - WARNING - Warning : NULL/L\n",
      "2020-11-29 15:15:47,547 - thermomodel_None - WARNING - Warning : NULL/U\n",
      "2020-11-29 15:15:47,548 - thermomodel_None - WARNING - Warning : NULL/L\n",
      "2020-11-29 15:15:47,550 - thermomodel_None - WARNING - Warning : NULL/L\n",
      "2020-11-29 15:15:47,551 - thermomodel_None - WARNING - Warning : NULL/U\n",
      "2020-11-29 15:15:47,557 - thermomodel_None - WARNING - Warning : NULL/L\n",
      "2020-11-29 15:15:47,559 - thermomodel_None - WARNING - Warning : NULL/L\n",
      "2020-11-29 15:15:47,560 - thermomodel_None - WARNING - Warning : NULL/U\n",
      "2020-11-29 15:15:47,560 - thermomodel_None - WARNING - Warning : NULL/L\n",
      "2020-11-29 15:15:47,560 - thermomodel_None - WARNING - Warning : NULL/L\n",
      "2020-11-29 15:15:47,560 - thermomodel_None - WARNING - Warning : NULL/U\n",
      "2020-11-29 15:15:47,560 - thermomodel_None - WARNING - Warning : NULL/L\n",
      "2020-11-29 15:15:47,560 - thermomodel_None - WARNING - Warning : NULL/L\n",
      "2020-11-29 15:15:47,860 - thermomodel_None - INFO - # Model preparation done.\n",
      "2020-11-29 15:15:47,860 - thermomodel_None - INFO - # Model conversion starting...\n",
      "2020-11-29 15:17:25,319 - thermomodel_None - INFO - # Model conversion done.\n",
      "2020-11-29 15:17:25,335 - thermomodel_None - INFO - # Updating cobra_model variables...\n",
      "2020-11-29 15:17:25,435 - thermomodel_None - INFO - # cobra_model variables are up-to-date\n"
     ]
    },
    {
     "name": "stdout",
     "output_type": "stream",
     "text": [
      "Read LP format model from file C:\\Users\\riheme\\AppData\\Local\\Temp\\tmpevjt0v4w.lp\n",
      "Reading time = 0.05 seconds\n",
      ": 1807 rows, 5170 columns, 20304 nonzeros\n",
      "Read LP format model from file C:\\Users\\riheme\\AppData\\Local\\Temp\\tmpb4xn1a4y.lp\n",
      "Reading time = 0.07 seconds\n",
      ": 1807 rows, 5170 columns, 20304 nonzeros\n"
     ]
    },
    {
     "name": "stderr",
     "output_type": "stream",
     "text": [
      "2020-11-29 15:18:08,679 - thermomodel_Ecoli TPI (Glc) 3 @ t = 3 - INFO - # Model initialized with units kcal/mol and temperature 298.15 K\n"
     ]
    },
    {
     "name": "stdout",
     "output_type": "stream",
     "text": [
      "Read LP format model from file C:\\Users\\riheme\\AppData\\Local\\Temp\\tmpakfkr54w.lp\n",
      "Reading time = 0.06 seconds\n",
      ": 1807 rows, 5170 columns, 20304 nonzeros\n",
      "Read LP format model from file C:\\Users\\riheme\\AppData\\Local\\Temp\\tmpn8tj42ok.lp\n",
      "Reading time = 0.07 seconds\n",
      ": 1807 rows, 5170 columns, 20304 nonzeros\n"
     ]
    },
    {
     "name": "stderr",
     "output_type": "stream",
     "text": [
      "2020-11-29 15:19:19,961 - thermomodel_Ecoli TPI (Glc) 3 @ t = 3 - INFO - # Model initialized with units kcal/mol and temperature 298.15 K\n",
      "2020-11-29 15:19:47,685 - thermomodel_Ecoli TPI (Glc) 3 @ t = 3 - INFO - Adding slack constraints\n",
      "adding slacks: 100%|███████████████████████████████████████████████████████████████| 1824/1824 [01:35<00:00, 19.16it/s]\n",
      "2020-11-29 15:21:27,210 - thermomodel_Ecoli TPI (Glc) 3 @ t = 3 - INFO - Optimizing slack model\n",
      "2020-11-29 15:21:34,608 - thermomodel_Ecoli TPI (Glc) 3 @ t = 3 - INFO - Extracting relaxation\n",
      "applying slack: 100%|███████████████████████████████████████████████████████████| 2585/2585 [00:00<00:00, 17977.10it/s]\n",
      "2020-11-29 15:21:34,967 - thermomodel_Ecoli TPI (Glc) 3 @ t = 3 - INFO - Testing relaxation\n"
     ]
    },
    {
     "name": "stdout",
     "output_type": "stream",
     "text": [
      "################################################################################\n",
      "Ecoli TPI (Glc) 3 @ t = 11\n",
      "(196.87 min)\n",
      "################################################################################\n",
      "Read LP format model from file C:\\Users\\riheme\\AppData\\Local\\Temp\\tmpj_hezc1f.lp\n",
      "Reading time = 0.05 seconds\n",
      ": 1807 rows, 5170 columns, 20334 nonzeros\n",
      "Read LP format model from file C:\\Users\\riheme\\AppData\\Local\\Temp\\tmpi4v0nfkk.lp\n",
      "Reading time = 0.06 seconds\n",
      ": 1807 rows, 5170 columns, 20334 nonzeros\n"
     ]
    },
    {
     "name": "stderr",
     "output_type": "stream",
     "text": [
      "2020-11-29 15:22:15,930 - thermomodel_None - INFO - # Model initialized with units kcal/mol and temperature 298.15 K\n",
      "2020-11-29 15:22:15,962 - thermomodel_None - INFO - # Model preparation starting...\n",
      "2020-11-29 15:22:22,496 - thermomodel_None - WARNING - Warning : NULL/U\n",
      "2020-11-29 15:22:22,496 - thermomodel_None - WARNING - Warning : NULL/L\n",
      "2020-11-29 15:22:22,496 - thermomodel_None - WARNING - Warning : NULL/L\n",
      "2020-11-29 15:22:22,506 - thermomodel_None - WARNING - Warning : NULL/U\n",
      "2020-11-29 15:22:22,506 - thermomodel_None - WARNING - Warning : NULL/L\n",
      "2020-11-29 15:22:22,509 - thermomodel_None - WARNING - Warning : NULL/L\n",
      "2020-11-29 15:22:23,089 - thermomodel_None - WARNING - Warning : NULL/U\n",
      "2020-11-29 15:22:23,089 - thermomodel_None - WARNING - Warning : NULL/L\n",
      "2020-11-29 15:22:23,089 - thermomodel_None - WARNING - Warning : NULL/L\n",
      "2020-11-29 15:22:23,101 - thermomodel_None - WARNING - Warning : NULL/U\n",
      "2020-11-29 15:22:23,103 - thermomodel_None - WARNING - Warning : NULL/L\n",
      "2020-11-29 15:22:23,104 - thermomodel_None - WARNING - Warning : NULL/L\n",
      "2020-11-29 15:22:23,488 - thermomodel_None - WARNING - Warning : NULL/U\n",
      "2020-11-29 15:22:23,489 - thermomodel_None - WARNING - Warning : NULL/L\n",
      "2020-11-29 15:22:23,489 - thermomodel_None - WARNING - Warning : NULL/L\n",
      "2020-11-29 15:22:23,496 - thermomodel_None - WARNING - Warning : NULL/U\n",
      "2020-11-29 15:22:23,497 - thermomodel_None - WARNING - Warning : NULL/L\n",
      "2020-11-29 15:22:23,497 - thermomodel_None - WARNING - Warning : NULL/L\n",
      "2020-11-29 15:22:23,639 - thermomodel_None - WARNING - Warning : NULL/U\n",
      "2020-11-29 15:22:23,639 - thermomodel_None - WARNING - Warning : NULL/L\n",
      "2020-11-29 15:22:23,639 - thermomodel_None - WARNING - Warning : NULL/L\n",
      "2020-11-29 15:22:23,649 - thermomodel_None - WARNING - Warning : NULL/U\n",
      "2020-11-29 15:22:23,649 - thermomodel_None - WARNING - Warning : NULL/L\n",
      "2020-11-29 15:22:23,654 - thermomodel_None - WARNING - Warning : NULL/L\n",
      "2020-11-29 15:22:23,656 - thermomodel_None - WARNING - Warning : NULL/U\n",
      "2020-11-29 15:22:23,659 - thermomodel_None - WARNING - Warning : NULL/L\n",
      "2020-11-29 15:22:23,660 - thermomodel_None - WARNING - Warning : NULL/L\n",
      "2020-11-29 15:22:23,665 - thermomodel_None - WARNING - Warning : NULL/U\n",
      "2020-11-29 15:22:23,666 - thermomodel_None - WARNING - Warning : NULL/L\n",
      "2020-11-29 15:22:23,669 - thermomodel_None - WARNING - Warning : NULL/L\n",
      "2020-11-29 15:22:23,671 - thermomodel_None - WARNING - Warning : NULL/U\n",
      "2020-11-29 15:22:23,672 - thermomodel_None - WARNING - Warning : NULL/L\n",
      "2020-11-29 15:22:23,674 - thermomodel_None - WARNING - Warning : NULL/L\n",
      "2020-11-29 15:22:23,675 - thermomodel_None - WARNING - Warning : NULL/U\n",
      "2020-11-29 15:22:23,678 - thermomodel_None - WARNING - Warning : NULL/L\n",
      "2020-11-29 15:22:23,681 - thermomodel_None - WARNING - Warning : NULL/L\n",
      "2020-11-29 15:22:23,688 - thermomodel_None - WARNING - Warning : NULL/U\n",
      "2020-11-29 15:22:23,689 - thermomodel_None - WARNING - Warning : NULL/L\n",
      "2020-11-29 15:22:23,690 - thermomodel_None - WARNING - Warning : NULL/L\n",
      "2020-11-29 15:22:23,693 - thermomodel_None - WARNING - Warning : NULL/U\n",
      "2020-11-29 15:22:23,697 - thermomodel_None - WARNING - Warning : NULL/L\n",
      "2020-11-29 15:22:23,699 - thermomodel_None - WARNING - Warning : NULL/L\n",
      "2020-11-29 15:22:23,999 - thermomodel_None - INFO - # Model preparation done.\n",
      "2020-11-29 15:22:24,002 - thermomodel_None - INFO - # Model conversion starting...\n",
      "2020-11-29 15:24:06,609 - thermomodel_None - INFO - # Model conversion done.\n",
      "2020-11-29 15:24:06,613 - thermomodel_None - INFO - # Updating cobra_model variables...\n",
      "2020-11-29 15:24:06,711 - thermomodel_None - INFO - # cobra_model variables are up-to-date\n"
     ]
    },
    {
     "name": "stdout",
     "output_type": "stream",
     "text": [
      "Read LP format model from file C:\\Users\\riheme\\AppData\\Local\\Temp\\tmp2ku8y57s.lp\n",
      "Reading time = 0.06 seconds\n",
      ": 1807 rows, 5170 columns, 20304 nonzeros\n",
      "Read LP format model from file C:\\Users\\riheme\\AppData\\Local\\Temp\\tmpghe75ujf.lp\n",
      "Reading time = 0.06 seconds\n",
      ": 1807 rows, 5170 columns, 20304 nonzeros\n"
     ]
    },
    {
     "name": "stderr",
     "output_type": "stream",
     "text": [
      "2020-11-29 15:24:52,042 - thermomodel_Ecoli TPI (Glc) 3 @ t = 11 - INFO - # Model initialized with units kcal/mol and temperature 298.15 K\n"
     ]
    },
    {
     "name": "stdout",
     "output_type": "stream",
     "text": [
      "Read LP format model from file C:\\Users\\riheme\\AppData\\Local\\Temp\\tmph8cxqmjf.lp\n",
      "Reading time = 0.05 seconds\n",
      ": 1807 rows, 5170 columns, 20304 nonzeros\n",
      "Read LP format model from file C:\\Users\\riheme\\AppData\\Local\\Temp\\tmpfb95gw6a.lp\n",
      "Reading time = 0.08 seconds\n",
      ": 1807 rows, 5170 columns, 20304 nonzeros\n"
     ]
    },
    {
     "name": "stderr",
     "output_type": "stream",
     "text": [
      "2020-11-29 15:26:06,238 - thermomodel_Ecoli TPI (Glc) 3 @ t = 11 - INFO - # Model initialized with units kcal/mol and temperature 298.15 K\n",
      "2020-11-29 15:26:32,139 - thermomodel_Ecoli TPI (Glc) 3 @ t = 11 - INFO - Adding slack constraints\n",
      "adding slacks: 100%|███████████████████████████████████████████████████████████████| 1824/1824 [01:35<00:00, 19.16it/s]\n",
      "2020-11-29 15:28:11,609 - thermomodel_Ecoli TPI (Glc) 3 @ t = 11 - INFO - Optimizing slack model\n",
      "2020-11-29 15:28:23,572 - thermomodel_Ecoli TPI (Glc) 3 @ t = 11 - INFO - Extracting relaxation\n",
      "applying slack: 100%|███████████████████████████████████████████████████████████| 2585/2585 [00:00<00:00, 19324.70it/s]\n",
      "2020-11-29 15:28:23,918 - thermomodel_Ecoli TPI (Glc) 3 @ t = 11 - INFO - Testing relaxation\n"
     ]
    },
    {
     "name": "stdout",
     "output_type": "stream",
     "text": [
      "################################################################################\n",
      "Ecoli TPI (Glc) 4 @ t = 1\n",
      "(203.69 min)\n",
      "################################################################################\n",
      "Read LP format model from file C:\\Users\\riheme\\AppData\\Local\\Temp\\tmpe038tu85.lp\n",
      "Reading time = 0.06 seconds\n",
      ": 1807 rows, 5170 columns, 20334 nonzeros\n",
      "Read LP format model from file C:\\Users\\riheme\\AppData\\Local\\Temp\\tmpihwmebmb.lp\n",
      "Reading time = 0.06 seconds\n",
      ": 1807 rows, 5170 columns, 20334 nonzeros\n"
     ]
    },
    {
     "name": "stderr",
     "output_type": "stream",
     "text": [
      "2020-11-29 15:29:06,209 - thermomodel_None - INFO - # Model initialized with units kcal/mol and temperature 298.15 K\n",
      "2020-11-29 15:29:06,236 - thermomodel_None - INFO - # Model preparation starting...\n",
      "2020-11-29 15:29:12,787 - thermomodel_None - WARNING - Warning : NULL/U\n",
      "2020-11-29 15:29:12,787 - thermomodel_None - WARNING - Warning : NULL/L\n",
      "2020-11-29 15:29:12,787 - thermomodel_None - WARNING - Warning : NULL/L\n",
      "2020-11-29 15:29:12,802 - thermomodel_None - WARNING - Warning : NULL/U\n",
      "2020-11-29 15:29:12,804 - thermomodel_None - WARNING - Warning : NULL/L\n",
      "2020-11-29 15:29:12,805 - thermomodel_None - WARNING - Warning : NULL/L\n",
      "2020-11-29 15:29:13,486 - thermomodel_None - WARNING - Warning : NULL/U\n",
      "2020-11-29 15:29:13,488 - thermomodel_None - WARNING - Warning : NULL/L\n",
      "2020-11-29 15:29:13,488 - thermomodel_None - WARNING - Warning : NULL/L\n",
      "2020-11-29 15:29:13,493 - thermomodel_None - WARNING - Warning : NULL/U\n",
      "2020-11-29 15:29:13,494 - thermomodel_None - WARNING - Warning : NULL/L\n",
      "2020-11-29 15:29:13,496 - thermomodel_None - WARNING - Warning : NULL/L\n",
      "2020-11-29 15:29:13,902 - thermomodel_None - WARNING - Warning : NULL/U\n",
      "2020-11-29 15:29:13,904 - thermomodel_None - WARNING - Warning : NULL/L\n",
      "2020-11-29 15:29:13,906 - thermomodel_None - WARNING - Warning : NULL/L\n",
      "2020-11-29 15:29:13,908 - thermomodel_None - WARNING - Warning : NULL/U\n",
      "2020-11-29 15:29:13,910 - thermomodel_None - WARNING - Warning : NULL/L\n",
      "2020-11-29 15:29:13,912 - thermomodel_None - WARNING - Warning : NULL/L\n",
      "2020-11-29 15:29:14,075 - thermomodel_None - WARNING - Warning : NULL/U\n",
      "2020-11-29 15:29:14,079 - thermomodel_None - WARNING - Warning : NULL/L\n",
      "2020-11-29 15:29:14,081 - thermomodel_None - WARNING - Warning : NULL/L\n",
      "2020-11-29 15:29:14,083 - thermomodel_None - WARNING - Warning : NULL/U\n",
      "2020-11-29 15:29:14,086 - thermomodel_None - WARNING - Warning : NULL/L\n",
      "2020-11-29 15:29:14,090 - thermomodel_None - WARNING - Warning : NULL/L\n",
      "2020-11-29 15:29:14,092 - thermomodel_None - WARNING - Warning : NULL/U\n",
      "2020-11-29 15:29:14,095 - thermomodel_None - WARNING - Warning : NULL/L\n",
      "2020-11-29 15:29:14,097 - thermomodel_None - WARNING - Warning : NULL/L\n",
      "2020-11-29 15:29:14,098 - thermomodel_None - WARNING - Warning : NULL/U\n",
      "2020-11-29 15:29:14,100 - thermomodel_None - WARNING - Warning : NULL/L\n",
      "2020-11-29 15:29:14,102 - thermomodel_None - WARNING - Warning : NULL/L\n",
      "2020-11-29 15:29:14,105 - thermomodel_None - WARNING - Warning : NULL/U\n",
      "2020-11-29 15:29:14,106 - thermomodel_None - WARNING - Warning : NULL/L\n",
      "2020-11-29 15:29:14,109 - thermomodel_None - WARNING - Warning : NULL/L\n",
      "2020-11-29 15:29:14,112 - thermomodel_None - WARNING - Warning : NULL/U\n",
      "2020-11-29 15:29:14,113 - thermomodel_None - WARNING - Warning : NULL/L\n",
      "2020-11-29 15:29:14,121 - thermomodel_None - WARNING - Warning : NULL/L\n",
      "2020-11-29 15:29:14,124 - thermomodel_None - WARNING - Warning : NULL/U\n",
      "2020-11-29 15:29:14,128 - thermomodel_None - WARNING - Warning : NULL/L\n",
      "2020-11-29 15:29:14,130 - thermomodel_None - WARNING - Warning : NULL/L\n",
      "2020-11-29 15:29:14,131 - thermomodel_None - WARNING - Warning : NULL/U\n",
      "2020-11-29 15:29:14,132 - thermomodel_None - WARNING - Warning : NULL/L\n",
      "2020-11-29 15:29:14,135 - thermomodel_None - WARNING - Warning : NULL/L\n",
      "2020-11-29 15:29:14,461 - thermomodel_None - INFO - # Model preparation done.\n",
      "2020-11-29 15:29:14,467 - thermomodel_None - INFO - # Model conversion starting...\n",
      "2020-11-29 15:30:59,508 - thermomodel_None - INFO - # Model conversion done.\n",
      "2020-11-29 15:30:59,511 - thermomodel_None - INFO - # Updating cobra_model variables...\n",
      "2020-11-29 15:30:59,620 - thermomodel_None - INFO - # cobra_model variables are up-to-date\n"
     ]
    },
    {
     "name": "stdout",
     "output_type": "stream",
     "text": [
      "Read LP format model from file C:\\Users\\riheme\\AppData\\Local\\Temp\\tmpqe9x_a9q.lp\n",
      "Reading time = 0.07 seconds\n",
      ": 1807 rows, 5170 columns, 20304 nonzeros\n",
      "Read LP format model from file C:\\Users\\riheme\\AppData\\Local\\Temp\\tmpvq2_0lfx.lp\n",
      "Reading time = 0.05 seconds\n",
      ": 1807 rows, 5170 columns, 20304 nonzeros\n"
     ]
    },
    {
     "name": "stderr",
     "output_type": "stream",
     "text": [
      "2020-11-29 15:31:45,370 - thermomodel_Ecoli TPI (Glc) 4 @ t = 1 - INFO - # Model initialized with units kcal/mol and temperature 298.15 K\n"
     ]
    },
    {
     "name": "stdout",
     "output_type": "stream",
     "text": [
      "Read LP format model from file C:\\Users\\riheme\\AppData\\Local\\Temp\\tmps83ksnr_.lp\n",
      "Reading time = 0.06 seconds\n",
      ": 1807 rows, 5170 columns, 20304 nonzeros\n",
      "Read LP format model from file C:\\Users\\riheme\\AppData\\Local\\Temp\\tmpq_szfhm2.lp\n",
      "Reading time = 0.06 seconds\n",
      ": 1807 rows, 5170 columns, 20304 nonzeros\n"
     ]
    },
    {
     "name": "stderr",
     "output_type": "stream",
     "text": [
      "2020-11-29 15:32:58,591 - thermomodel_Ecoli TPI (Glc) 4 @ t = 1 - INFO - # Model initialized with units kcal/mol and temperature 298.15 K\n",
      "2020-11-29 15:33:26,004 - thermomodel_Ecoli TPI (Glc) 4 @ t = 1 - INFO - Adding slack constraints\n",
      "adding slacks: 100%|███████████████████████████████████████████████████████████████| 1824/1824 [01:38<00:00, 18.48it/s]\n",
      "2020-11-29 15:35:09,924 - thermomodel_Ecoli TPI (Glc) 4 @ t = 1 - INFO - Optimizing slack model\n",
      "2020-11-29 15:35:17,914 - thermomodel_Ecoli TPI (Glc) 4 @ t = 1 - INFO - Extracting relaxation\n",
      "applying slack: 100%|███████████████████████████████████████████████████████████| 2585/2585 [00:00<00:00, 17215.02it/s]\n",
      "2020-11-29 15:35:18,281 - thermomodel_Ecoli TPI (Glc) 4 @ t = 1 - INFO - Testing relaxation\n"
     ]
    },
    {
     "name": "stdout",
     "output_type": "stream",
     "text": [
      "################################################################################\n",
      "Ecoli TPI (Glc) 4 @ t = 3\n",
      "(210.60 min)\n",
      "################################################################################\n",
      "Read LP format model from file C:\\Users\\riheme\\AppData\\Local\\Temp\\tmpi6_1blso.lp\n",
      "Reading time = 0.06 seconds\n",
      ": 1807 rows, 5170 columns, 20334 nonzeros\n",
      "Read LP format model from file C:\\Users\\riheme\\AppData\\Local\\Temp\\tmpmddvzuex.lp\n",
      "Reading time = 0.05 seconds\n",
      ": 1807 rows, 5170 columns, 20334 nonzeros\n"
     ]
    },
    {
     "name": "stderr",
     "output_type": "stream",
     "text": [
      "2020-11-29 15:35:59,892 - thermomodel_None - INFO - # Model initialized with units kcal/mol and temperature 298.15 K\n",
      "2020-11-29 15:35:59,923 - thermomodel_None - INFO - # Model preparation starting...\n",
      "2020-11-29 15:36:06,656 - thermomodel_None - WARNING - Warning : NULL/U\n",
      "2020-11-29 15:36:06,659 - thermomodel_None - WARNING - Warning : NULL/L\n",
      "2020-11-29 15:36:06,662 - thermomodel_None - WARNING - Warning : NULL/L\n",
      "2020-11-29 15:36:06,664 - thermomodel_None - WARNING - Warning : NULL/U\n",
      "2020-11-29 15:36:06,665 - thermomodel_None - WARNING - Warning : NULL/L\n",
      "2020-11-29 15:36:06,670 - thermomodel_None - WARNING - Warning : NULL/L\n",
      "2020-11-29 15:36:07,335 - thermomodel_None - WARNING - Warning : NULL/U\n",
      "2020-11-29 15:36:07,335 - thermomodel_None - WARNING - Warning : NULL/L\n",
      "2020-11-29 15:36:07,335 - thermomodel_None - WARNING - Warning : NULL/L\n",
      "2020-11-29 15:36:07,335 - thermomodel_None - WARNING - Warning : NULL/U\n",
      "2020-11-29 15:36:07,335 - thermomodel_None - WARNING - Warning : NULL/L\n",
      "2020-11-29 15:36:07,345 - thermomodel_None - WARNING - Warning : NULL/L\n",
      "2020-11-29 15:36:07,738 - thermomodel_None - WARNING - Warning : NULL/U\n",
      "2020-11-29 15:36:07,738 - thermomodel_None - WARNING - Warning : NULL/L\n",
      "2020-11-29 15:36:07,746 - thermomodel_None - WARNING - Warning : NULL/L\n",
      "2020-11-29 15:36:07,750 - thermomodel_None - WARNING - Warning : NULL/U\n",
      "2020-11-29 15:36:07,750 - thermomodel_None - WARNING - Warning : NULL/L\n",
      "2020-11-29 15:36:07,750 - thermomodel_None - WARNING - Warning : NULL/L\n",
      "2020-11-29 15:36:07,914 - thermomodel_None - WARNING - Warning : NULL/U\n",
      "2020-11-29 15:36:07,914 - thermomodel_None - WARNING - Warning : NULL/L\n",
      "2020-11-29 15:36:07,914 - thermomodel_None - WARNING - Warning : NULL/L\n",
      "2020-11-29 15:36:07,914 - thermomodel_None - WARNING - Warning : NULL/U\n",
      "2020-11-29 15:36:07,923 - thermomodel_None - WARNING - Warning : NULL/L\n",
      "2020-11-29 15:36:07,924 - thermomodel_None - WARNING - Warning : NULL/L\n",
      "2020-11-29 15:36:07,928 - thermomodel_None - WARNING - Warning : NULL/U\n",
      "2020-11-29 15:36:07,929 - thermomodel_None - WARNING - Warning : NULL/L\n",
      "2020-11-29 15:36:07,930 - thermomodel_None - WARNING - Warning : NULL/L\n",
      "2020-11-29 15:36:07,932 - thermomodel_None - WARNING - Warning : NULL/U\n",
      "2020-11-29 15:36:07,935 - thermomodel_None - WARNING - Warning : NULL/L\n",
      "2020-11-29 15:36:07,936 - thermomodel_None - WARNING - Warning : NULL/L\n",
      "2020-11-29 15:36:07,938 - thermomodel_None - WARNING - Warning : NULL/U\n",
      "2020-11-29 15:36:07,939 - thermomodel_None - WARNING - Warning : NULL/L\n",
      "2020-11-29 15:36:07,942 - thermomodel_None - WARNING - Warning : NULL/L\n",
      "2020-11-29 15:36:07,944 - thermomodel_None - WARNING - Warning : NULL/U\n",
      "2020-11-29 15:36:07,946 - thermomodel_None - WARNING - Warning : NULL/L\n",
      "2020-11-29 15:36:07,948 - thermomodel_None - WARNING - Warning : NULL/L\n",
      "2020-11-29 15:36:07,950 - thermomodel_None - WARNING - Warning : NULL/U\n",
      "2020-11-29 15:36:07,953 - thermomodel_None - WARNING - Warning : NULL/L\n",
      "2020-11-29 15:36:07,955 - thermomodel_None - WARNING - Warning : NULL/L\n",
      "2020-11-29 15:36:07,957 - thermomodel_None - WARNING - Warning : NULL/U\n",
      "2020-11-29 15:36:07,959 - thermomodel_None - WARNING - Warning : NULL/L\n",
      "2020-11-29 15:36:07,961 - thermomodel_None - WARNING - Warning : NULL/L\n",
      "2020-11-29 15:36:08,433 - thermomodel_None - INFO - # Model preparation done.\n",
      "2020-11-29 15:36:08,435 - thermomodel_None - INFO - # Model conversion starting...\n",
      "2020-11-29 15:37:50,498 - thermomodel_None - INFO - # Model conversion done.\n",
      "2020-11-29 15:37:50,503 - thermomodel_None - INFO - # Updating cobra_model variables...\n",
      "2020-11-29 15:37:50,591 - thermomodel_None - INFO - # cobra_model variables are up-to-date\n"
     ]
    },
    {
     "name": "stdout",
     "output_type": "stream",
     "text": [
      "Read LP format model from file C:\\Users\\riheme\\AppData\\Local\\Temp\\tmptowenutf.lp\n",
      "Reading time = 0.06 seconds\n",
      ": 1807 rows, 5170 columns, 20304 nonzeros\n",
      "Read LP format model from file C:\\Users\\riheme\\AppData\\Local\\Temp\\tmp6_emuka3.lp\n",
      "Reading time = 0.06 seconds\n",
      ": 1807 rows, 5170 columns, 20304 nonzeros\n"
     ]
    },
    {
     "name": "stderr",
     "output_type": "stream",
     "text": [
      "2020-11-29 15:38:32,384 - thermomodel_Ecoli TPI (Glc) 4 @ t = 3 - INFO - # Model initialized with units kcal/mol and temperature 298.15 K\n"
     ]
    },
    {
     "name": "stdout",
     "output_type": "stream",
     "text": [
      "Read LP format model from file C:\\Users\\riheme\\AppData\\Local\\Temp\\tmpykfy2ty7.lp\n",
      "Reading time = 0.07 seconds\n",
      ": 1807 rows, 5170 columns, 20304 nonzeros\n",
      "Read LP format model from file C:\\Users\\riheme\\AppData\\Local\\Temp\\tmp7f6sxrp9.lp\n",
      "Reading time = 0.05 seconds\n",
      ": 1807 rows, 5170 columns, 20304 nonzeros\n"
     ]
    },
    {
     "name": "stderr",
     "output_type": "stream",
     "text": [
      "2020-11-29 15:39:45,227 - thermomodel_Ecoli TPI (Glc) 4 @ t = 3 - INFO - # Model initialized with units kcal/mol and temperature 298.15 K\n",
      "2020-11-29 15:40:10,751 - thermomodel_Ecoli TPI (Glc) 4 @ t = 3 - INFO - Adding slack constraints\n",
      "adding slacks: 100%|███████████████████████████████████████████████████████████████| 1824/1824 [01:33<00:00, 19.41it/s]\n",
      "2020-11-29 15:41:49,081 - thermomodel_Ecoli TPI (Glc) 4 @ t = 3 - INFO - Optimizing slack model\n",
      "2020-11-29 15:41:59,997 - thermomodel_Ecoli TPI (Glc) 4 @ t = 3 - INFO - Extracting relaxation\n",
      "applying slack: 100%|███████████████████████████████████████████████████████████| 2585/2585 [00:00<00:00, 16995.04it/s]\n",
      "2020-11-29 15:42:00,368 - thermomodel_Ecoli TPI (Glc) 4 @ t = 3 - INFO - Testing relaxation\n"
     ]
    },
    {
     "name": "stdout",
     "output_type": "stream",
     "text": [
      "################################################################################\n",
      "Ecoli TPI (Glc) 4 @ t = 11\n",
      "(217.30 min)\n",
      "################################################################################\n",
      "Read LP format model from file C:\\Users\\riheme\\AppData\\Local\\Temp\\tmpl_me3462.lp\n",
      "Reading time = 0.06 seconds\n",
      ": 1807 rows, 5170 columns, 20334 nonzeros\n",
      "Read LP format model from file C:\\Users\\riheme\\AppData\\Local\\Temp\\tmpehv8uo4z.lp\n",
      "Reading time = 0.06 seconds\n",
      ": 1807 rows, 5170 columns, 20334 nonzeros\n"
     ]
    },
    {
     "name": "stderr",
     "output_type": "stream",
     "text": [
      "2020-11-29 15:42:40,640 - thermomodel_None - INFO - # Model initialized with units kcal/mol and temperature 298.15 K\n",
      "2020-11-29 15:42:40,670 - thermomodel_None - INFO - # Model preparation starting...\n",
      "2020-11-29 15:42:47,066 - thermomodel_None - WARNING - Warning : NULL/U\n",
      "2020-11-29 15:42:47,069 - thermomodel_None - WARNING - Warning : NULL/L\n",
      "2020-11-29 15:42:47,069 - thermomodel_None - WARNING - Warning : NULL/L\n",
      "2020-11-29 15:42:47,076 - thermomodel_None - WARNING - Warning : NULL/U\n",
      "2020-11-29 15:42:47,078 - thermomodel_None - WARNING - Warning : NULL/L\n",
      "2020-11-29 15:42:47,080 - thermomodel_None - WARNING - Warning : NULL/L\n",
      "2020-11-29 15:42:47,654 - thermomodel_None - WARNING - Warning : NULL/U\n",
      "2020-11-29 15:42:47,654 - thermomodel_None - WARNING - Warning : NULL/L\n",
      "2020-11-29 15:42:47,662 - thermomodel_None - WARNING - Warning : NULL/L\n",
      "2020-11-29 15:42:47,666 - thermomodel_None - WARNING - Warning : NULL/U\n",
      "2020-11-29 15:42:47,666 - thermomodel_None - WARNING - Warning : NULL/L\n",
      "2020-11-29 15:42:47,666 - thermomodel_None - WARNING - Warning : NULL/L\n",
      "2020-11-29 15:42:48,114 - thermomodel_None - WARNING - Warning : NULL/U\n",
      "2020-11-29 15:42:48,130 - thermomodel_None - WARNING - Warning : NULL/L\n",
      "2020-11-29 15:42:48,131 - thermomodel_None - WARNING - Warning : NULL/L\n",
      "2020-11-29 15:42:48,133 - thermomodel_None - WARNING - Warning : NULL/U\n",
      "2020-11-29 15:42:48,135 - thermomodel_None - WARNING - Warning : NULL/L\n",
      "2020-11-29 15:42:48,137 - thermomodel_None - WARNING - Warning : NULL/L\n",
      "2020-11-29 15:42:48,270 - thermomodel_None - WARNING - Warning : NULL/U\n",
      "2020-11-29 15:42:48,275 - thermomodel_None - WARNING - Warning : NULL/L\n",
      "2020-11-29 15:42:48,275 - thermomodel_None - WARNING - Warning : NULL/L\n",
      "2020-11-29 15:42:48,275 - thermomodel_None - WARNING - Warning : NULL/U\n",
      "2020-11-29 15:42:48,275 - thermomodel_None - WARNING - Warning : NULL/L\n",
      "2020-11-29 15:42:48,282 - thermomodel_None - WARNING - Warning : NULL/L\n",
      "2020-11-29 15:42:48,283 - thermomodel_None - WARNING - Warning : NULL/U\n",
      "2020-11-29 15:42:48,284 - thermomodel_None - WARNING - Warning : NULL/L\n",
      "2020-11-29 15:42:48,286 - thermomodel_None - WARNING - Warning : NULL/L\n",
      "2020-11-29 15:42:48,287 - thermomodel_None - WARNING - Warning : NULL/U\n",
      "2020-11-29 15:42:48,289 - thermomodel_None - WARNING - Warning : NULL/L\n",
      "2020-11-29 15:42:48,290 - thermomodel_None - WARNING - Warning : NULL/L\n",
      "2020-11-29 15:42:48,293 - thermomodel_None - WARNING - Warning : NULL/U\n",
      "2020-11-29 15:42:48,296 - thermomodel_None - WARNING - Warning : NULL/L\n",
      "2020-11-29 15:42:48,297 - thermomodel_None - WARNING - Warning : NULL/L\n",
      "2020-11-29 15:42:48,298 - thermomodel_None - WARNING - Warning : NULL/U\n",
      "2020-11-29 15:42:48,300 - thermomodel_None - WARNING - Warning : NULL/L\n",
      "2020-11-29 15:42:48,301 - thermomodel_None - WARNING - Warning : NULL/L\n",
      "2020-11-29 15:42:48,306 - thermomodel_None - WARNING - Warning : NULL/U\n",
      "2020-11-29 15:42:48,308 - thermomodel_None - WARNING - Warning : NULL/L\n",
      "2020-11-29 15:42:48,309 - thermomodel_None - WARNING - Warning : NULL/L\n",
      "2020-11-29 15:42:48,312 - thermomodel_None - WARNING - Warning : NULL/U\n",
      "2020-11-29 15:42:48,314 - thermomodel_None - WARNING - Warning : NULL/L\n",
      "2020-11-29 15:42:48,318 - thermomodel_None - WARNING - Warning : NULL/L\n",
      "2020-11-29 15:42:48,589 - thermomodel_None - INFO - # Model preparation done.\n",
      "2020-11-29 15:42:48,589 - thermomodel_None - INFO - # Model conversion starting...\n",
      "2020-11-29 15:44:25,469 - thermomodel_None - INFO - # Model conversion done.\n",
      "2020-11-29 15:44:25,477 - thermomodel_None - INFO - # Updating cobra_model variables...\n",
      "2020-11-29 15:44:25,563 - thermomodel_None - INFO - # cobra_model variables are up-to-date\n"
     ]
    },
    {
     "name": "stdout",
     "output_type": "stream",
     "text": [
      "Read LP format model from file C:\\Users\\riheme\\AppData\\Local\\Temp\\tmptgba2s4n.lp\n",
      "Reading time = 0.05 seconds\n",
      ": 1807 rows, 5170 columns, 20304 nonzeros\n",
      "Read LP format model from file C:\\Users\\riheme\\AppData\\Local\\Temp\\tmpxb4u5zji.lp\n",
      "Reading time = 0.08 seconds\n",
      ": 1807 rows, 5170 columns, 20304 nonzeros\n"
     ]
    },
    {
     "name": "stderr",
     "output_type": "stream",
     "text": [
      "2020-11-29 15:45:09,233 - thermomodel_Ecoli TPI (Glc) 4 @ t = 11 - INFO - # Model initialized with units kcal/mol and temperature 298.15 K\n"
     ]
    },
    {
     "name": "stdout",
     "output_type": "stream",
     "text": [
      "Read LP format model from file C:\\Users\\riheme\\AppData\\Local\\Temp\\tmpp_q1nir4.lp\n",
      "Reading time = 0.04 seconds\n",
      ": 1807 rows, 5170 columns, 20304 nonzeros\n",
      "Read LP format model from file C:\\Users\\riheme\\AppData\\Local\\Temp\\tmplbnlrchn.lp\n",
      "Reading time = 0.06 seconds\n",
      ": 1807 rows, 5170 columns, 20304 nonzeros\n"
     ]
    },
    {
     "name": "stderr",
     "output_type": "stream",
     "text": [
      "2020-11-29 15:46:19,730 - thermomodel_Ecoli TPI (Glc) 4 @ t = 11 - INFO - # Model initialized with units kcal/mol and temperature 298.15 K\n",
      "2020-11-29 15:46:45,756 - thermomodel_Ecoli TPI (Glc) 4 @ t = 11 - INFO - Adding slack constraints\n",
      "adding slacks: 100%|███████████████████████████████████████████████████████████████| 1824/1824 [01:35<00:00, 19.18it/s]\n",
      "2020-11-29 15:48:24,545 - thermomodel_Ecoli TPI (Glc) 4 @ t = 11 - INFO - Optimizing slack model\n",
      "2020-11-29 15:48:37,201 - thermomodel_Ecoli TPI (Glc) 4 @ t = 11 - INFO - Extracting relaxation\n",
      "applying slack: 100%|███████████████████████████████████████████████████████████| 2585/2585 [00:00<00:00, 17279.82it/s]\n",
      "2020-11-29 15:48:37,584 - thermomodel_Ecoli TPI (Glc) 4 @ t = 11 - INFO - Testing relaxation\n"
     ]
    },
    {
     "name": "stdout",
     "output_type": "stream",
     "text": [
      "################################################################################\n",
      "Ecoli wt (Glc) 0 @ t = 0\n",
      "(223.94 min)\n",
      "################################################################################\n",
      "Read LP format model from file C:\\Users\\riheme\\AppData\\Local\\Temp\\tmpjknt9_2k.lp\n",
      "Reading time = 0.06 seconds\n",
      ": 1807 rows, 5170 columns, 20334 nonzeros\n",
      "Read LP format model from file C:\\Users\\riheme\\AppData\\Local\\Temp\\tmp5iyg9av5.lp\n",
      "Reading time = 0.07 seconds\n",
      ": 1807 rows, 5170 columns, 20334 nonzeros\n"
     ]
    },
    {
     "name": "stderr",
     "output_type": "stream",
     "text": [
      "2020-11-29 15:49:21,062 - thermomodel_None - INFO - # Model initialized with units kcal/mol and temperature 298.15 K\n",
      "2020-11-29 15:49:21,086 - thermomodel_None - INFO - # Model preparation starting...\n",
      "2020-11-29 15:49:28,534 - thermomodel_None - WARNING - Warning : NULL/U\n",
      "2020-11-29 15:49:28,537 - thermomodel_None - WARNING - Warning : NULL/L\n",
      "2020-11-29 15:49:28,539 - thermomodel_None - WARNING - Warning : NULL/L\n",
      "2020-11-29 15:49:28,540 - thermomodel_None - WARNING - Warning : NULL/U\n",
      "2020-11-29 15:49:28,542 - thermomodel_None - WARNING - Warning : NULL/L\n",
      "2020-11-29 15:49:28,544 - thermomodel_None - WARNING - Warning : NULL/L\n",
      "2020-11-29 15:49:29,300 - thermomodel_None - WARNING - Warning : NULL/U\n",
      "2020-11-29 15:49:29,303 - thermomodel_None - WARNING - Warning : NULL/L\n",
      "2020-11-29 15:49:29,306 - thermomodel_None - WARNING - Warning : NULL/L\n",
      "2020-11-29 15:49:29,308 - thermomodel_None - WARNING - Warning : NULL/U\n",
      "2020-11-29 15:49:29,309 - thermomodel_None - WARNING - Warning : NULL/L\n",
      "2020-11-29 15:49:29,311 - thermomodel_None - WARNING - Warning : NULL/L\n",
      "2020-11-29 15:49:29,733 - thermomodel_None - WARNING - Warning : NULL/U\n",
      "2020-11-29 15:49:29,733 - thermomodel_None - WARNING - Warning : NULL/L\n",
      "2020-11-29 15:49:29,733 - thermomodel_None - WARNING - Warning : NULL/L\n",
      "2020-11-29 15:49:29,747 - thermomodel_None - WARNING - Warning : NULL/U\n",
      "2020-11-29 15:49:29,748 - thermomodel_None - WARNING - Warning : NULL/L\n",
      "2020-11-29 15:49:29,750 - thermomodel_None - WARNING - Warning : NULL/L\n",
      "2020-11-29 15:49:29,941 - thermomodel_None - WARNING - Warning : NULL/U\n",
      "2020-11-29 15:49:29,941 - thermomodel_None - WARNING - Warning : NULL/L\n",
      "2020-11-29 15:49:29,941 - thermomodel_None - WARNING - Warning : NULL/L\n",
      "2020-11-29 15:49:29,955 - thermomodel_None - WARNING - Warning : NULL/U\n",
      "2020-11-29 15:49:29,958 - thermomodel_None - WARNING - Warning : NULL/L\n",
      "2020-11-29 15:49:29,958 - thermomodel_None - WARNING - Warning : NULL/L\n",
      "2020-11-29 15:49:29,963 - thermomodel_None - WARNING - Warning : NULL/U\n",
      "2020-11-29 15:49:29,964 - thermomodel_None - WARNING - Warning : NULL/L\n",
      "2020-11-29 15:49:29,966 - thermomodel_None - WARNING - Warning : NULL/L\n",
      "2020-11-29 15:49:29,967 - thermomodel_None - WARNING - Warning : NULL/U\n",
      "2020-11-29 15:49:29,970 - thermomodel_None - WARNING - Warning : NULL/L\n",
      "2020-11-29 15:49:29,971 - thermomodel_None - WARNING - Warning : NULL/L\n",
      "2020-11-29 15:49:29,974 - thermomodel_None - WARNING - Warning : NULL/U\n",
      "2020-11-29 15:49:29,975 - thermomodel_None - WARNING - Warning : NULL/L\n",
      "2020-11-29 15:49:29,978 - thermomodel_None - WARNING - Warning : NULL/L\n",
      "2020-11-29 15:49:29,980 - thermomodel_None - WARNING - Warning : NULL/U\n",
      "2020-11-29 15:49:29,981 - thermomodel_None - WARNING - Warning : NULL/L\n",
      "2020-11-29 15:49:29,984 - thermomodel_None - WARNING - Warning : NULL/L\n",
      "2020-11-29 15:49:29,986 - thermomodel_None - WARNING - Warning : NULL/U\n",
      "2020-11-29 15:49:29,986 - thermomodel_None - WARNING - Warning : NULL/L\n",
      "2020-11-29 15:49:29,989 - thermomodel_None - WARNING - Warning : NULL/L\n",
      "2020-11-29 15:49:29,991 - thermomodel_None - WARNING - Warning : NULL/U\n",
      "2020-11-29 15:49:29,992 - thermomodel_None - WARNING - Warning : NULL/L\n",
      "2020-11-29 15:49:29,993 - thermomodel_None - WARNING - Warning : NULL/L\n",
      "2020-11-29 15:49:30,309 - thermomodel_None - INFO - # Model preparation done.\n",
      "2020-11-29 15:49:30,309 - thermomodel_None - INFO - # Model conversion starting...\n",
      "2020-11-29 15:51:10,377 - thermomodel_None - INFO - # Model conversion done.\n",
      "2020-11-29 15:51:10,380 - thermomodel_None - INFO - # Updating cobra_model variables...\n",
      "2020-11-29 15:51:10,486 - thermomodel_None - INFO - # cobra_model variables are up-to-date\n"
     ]
    },
    {
     "name": "stdout",
     "output_type": "stream",
     "text": [
      "Read LP format model from file C:\\Users\\riheme\\AppData\\Local\\Temp\\tmpnzwivzdi.lp\n",
      "Reading time = 0.07 seconds\n",
      ": 1807 rows, 5170 columns, 20304 nonzeros\n",
      "Read LP format model from file C:\\Users\\riheme\\AppData\\Local\\Temp\\tmpcy6xyzmy.lp\n",
      "Reading time = 0.06 seconds\n",
      ": 1807 rows, 5170 columns, 20304 nonzeros\n"
     ]
    },
    {
     "name": "stderr",
     "output_type": "stream",
     "text": [
      "2020-11-29 15:51:56,142 - thermomodel_Ecoli wt (Glc) 0 @ t = 0 - INFO - # Model initialized with units kcal/mol and temperature 298.15 K\n"
     ]
    },
    {
     "name": "stdout",
     "output_type": "stream",
     "text": [
      "Read LP format model from file C:\\Users\\riheme\\AppData\\Local\\Temp\\tmpzaap7j4m.lp\n",
      "Reading time = 0.06 seconds\n",
      ": 1807 rows, 5170 columns, 20304 nonzeros\n",
      "Read LP format model from file C:\\Users\\riheme\\AppData\\Local\\Temp\\tmpy5se_i4w.lp\n",
      "Reading time = 0.05 seconds\n",
      ": 1807 rows, 5170 columns, 20304 nonzeros\n"
     ]
    },
    {
     "name": "stderr",
     "output_type": "stream",
     "text": [
      "2020-11-29 15:53:08,660 - thermomodel_Ecoli wt (Glc) 0 @ t = 0 - INFO - # Model initialized with units kcal/mol and temperature 298.15 K\n",
      "2020-11-29 15:53:36,708 - thermomodel_Ecoli wt (Glc) 0 @ t = 0 - INFO - Adding slack constraints\n",
      "adding slacks: 100%|███████████████████████████████████████████████████████████████| 1824/1824 [01:36<00:00, 18.91it/s]\n",
      "2020-11-29 15:55:18,794 - thermomodel_Ecoli wt (Glc) 0 @ t = 0 - INFO - Optimizing slack model\n",
      "2020-11-29 15:55:33,377 - thermomodel_Ecoli wt (Glc) 0 @ t = 0 - INFO - Extracting relaxation\n",
      "applying slack: 100%|███████████████████████████████████████████████████████████| 2585/2585 [00:00<00:00, 17389.46it/s]\n",
      "2020-11-29 15:55:33,759 - thermomodel_Ecoli wt (Glc) 0 @ t = 0 - INFO - Testing relaxation\n"
     ]
    },
    {
     "name": "stdout",
     "output_type": "stream",
     "text": [
      "################################################################################\n",
      "Ecoli wt (Glc) 1 @ t = 11\n",
      "(230.85 min)\n",
      "################################################################################\n",
      "Read LP format model from file C:\\Users\\riheme\\AppData\\Local\\Temp\\tmp8ew88m4_.lp\n",
      "Reading time = 0.06 seconds\n",
      ": 1807 rows, 5170 columns, 20334 nonzeros\n",
      "Read LP format model from file C:\\Users\\riheme\\AppData\\Local\\Temp\\tmp1_9u4d4v.lp\n",
      "Reading time = 0.06 seconds\n",
      ": 1807 rows, 5170 columns, 20334 nonzeros\n"
     ]
    },
    {
     "name": "stderr",
     "output_type": "stream",
     "text": [
      "2020-11-29 15:56:14,991 - thermomodel_None - INFO - # Model initialized with units kcal/mol and temperature 298.15 K\n",
      "2020-11-29 15:56:15,009 - thermomodel_None - INFO - # Model preparation starting...\n",
      "2020-11-29 15:56:22,681 - thermomodel_None - WARNING - Warning : NULL/U\n",
      "2020-11-29 15:56:22,684 - thermomodel_None - WARNING - Warning : NULL/L\n",
      "2020-11-29 15:56:22,686 - thermomodel_None - WARNING - Warning : NULL/L\n",
      "2020-11-29 15:56:22,690 - thermomodel_None - WARNING - Warning : NULL/U\n",
      "2020-11-29 15:56:22,692 - thermomodel_None - WARNING - Warning : NULL/L\n",
      "2020-11-29 15:56:22,695 - thermomodel_None - WARNING - Warning : NULL/L\n",
      "2020-11-29 15:56:23,285 - thermomodel_None - WARNING - Warning : NULL/U\n",
      "2020-11-29 15:56:23,285 - thermomodel_None - WARNING - Warning : NULL/L\n",
      "2020-11-29 15:56:23,293 - thermomodel_None - WARNING - Warning : NULL/L\n",
      "2020-11-29 15:56:23,298 - thermomodel_None - WARNING - Warning : NULL/U\n",
      "2020-11-29 15:56:23,298 - thermomodel_None - WARNING - Warning : NULL/L\n",
      "2020-11-29 15:56:23,303 - thermomodel_None - WARNING - Warning : NULL/L\n",
      "2020-11-29 15:56:23,681 - thermomodel_None - WARNING - Warning : NULL/U\n",
      "2020-11-29 15:56:23,681 - thermomodel_None - WARNING - Warning : NULL/L\n",
      "2020-11-29 15:56:23,681 - thermomodel_None - WARNING - Warning : NULL/L\n",
      "2020-11-29 15:56:23,681 - thermomodel_None - WARNING - Warning : NULL/U\n",
      "2020-11-29 15:56:23,689 - thermomodel_None - WARNING - Warning : NULL/L\n",
      "2020-11-29 15:56:23,692 - thermomodel_None - WARNING - Warning : NULL/L\n",
      "2020-11-29 15:56:23,826 - thermomodel_None - WARNING - Warning : NULL/U\n",
      "2020-11-29 15:56:23,826 - thermomodel_None - WARNING - Warning : NULL/L\n",
      "2020-11-29 15:56:23,826 - thermomodel_None - WARNING - Warning : NULL/L\n",
      "2020-11-29 15:56:23,838 - thermomodel_None - WARNING - Warning : NULL/U\n",
      "2020-11-29 15:56:23,840 - thermomodel_None - WARNING - Warning : NULL/L\n",
      "2020-11-29 15:56:23,842 - thermomodel_None - WARNING - Warning : NULL/L\n",
      "2020-11-29 15:56:23,844 - thermomodel_None - WARNING - Warning : NULL/U\n",
      "2020-11-29 15:56:23,845 - thermomodel_None - WARNING - Warning : NULL/L\n",
      "2020-11-29 15:56:23,847 - thermomodel_None - WARNING - Warning : NULL/L\n",
      "2020-11-29 15:56:23,849 - thermomodel_None - WARNING - Warning : NULL/U\n",
      "2020-11-29 15:56:23,852 - thermomodel_None - WARNING - Warning : NULL/L\n",
      "2020-11-29 15:56:23,853 - thermomodel_None - WARNING - Warning : NULL/L\n",
      "2020-11-29 15:56:23,855 - thermomodel_None - WARNING - Warning : NULL/U\n",
      "2020-11-29 15:56:23,857 - thermomodel_None - WARNING - Warning : NULL/L\n",
      "2020-11-29 15:56:23,858 - thermomodel_None - WARNING - Warning : NULL/L\n",
      "2020-11-29 15:56:23,860 - thermomodel_None - WARNING - Warning : NULL/U\n",
      "2020-11-29 15:56:23,860 - thermomodel_None - WARNING - Warning : NULL/L\n",
      "2020-11-29 15:56:23,864 - thermomodel_None - WARNING - Warning : NULL/L\n",
      "2020-11-29 15:56:23,866 - thermomodel_None - WARNING - Warning : NULL/U\n",
      "2020-11-29 15:56:23,869 - thermomodel_None - WARNING - Warning : NULL/L\n",
      "2020-11-29 15:56:23,871 - thermomodel_None - WARNING - Warning : NULL/L\n",
      "2020-11-29 15:56:23,872 - thermomodel_None - WARNING - Warning : NULL/U\n",
      "2020-11-29 15:56:23,875 - thermomodel_None - WARNING - Warning : NULL/L\n",
      "2020-11-29 15:56:23,876 - thermomodel_None - WARNING - Warning : NULL/L\n",
      "2020-11-29 15:56:24,138 - thermomodel_None - INFO - # Model preparation done.\n",
      "2020-11-29 15:56:24,154 - thermomodel_None - INFO - # Model conversion starting...\n",
      "2020-11-29 15:58:03,107 - thermomodel_None - INFO - # Model conversion done.\n",
      "2020-11-29 15:58:03,109 - thermomodel_None - INFO - # Updating cobra_model variables...\n",
      "2020-11-29 15:58:03,201 - thermomodel_None - INFO - # cobra_model variables are up-to-date\n"
     ]
    },
    {
     "name": "stdout",
     "output_type": "stream",
     "text": [
      "Read LP format model from file C:\\Users\\riheme\\AppData\\Local\\Temp\\tmpv323ydyh.lp\n",
      "Reading time = 0.06 seconds\n",
      ": 1807 rows, 5170 columns, 20304 nonzeros\n",
      "Read LP format model from file C:\\Users\\riheme\\AppData\\Local\\Temp\\tmp4rtkekyb.lp\n",
      "Reading time = 0.07 seconds\n",
      ": 1807 rows, 5170 columns, 20304 nonzeros\n"
     ]
    },
    {
     "name": "stderr",
     "output_type": "stream",
     "text": [
      "2020-11-29 15:58:48,688 - thermomodel_Ecoli wt (Glc) 1 @ t = 11 - INFO - # Model initialized with units kcal/mol and temperature 298.15 K\n"
     ]
    },
    {
     "name": "stdout",
     "output_type": "stream",
     "text": [
      "Read LP format model from file C:\\Users\\riheme\\AppData\\Local\\Temp\\tmpyd5ytp7a.lp\n",
      "Reading time = 0.06 seconds\n",
      ": 1807 rows, 5170 columns, 20304 nonzeros\n",
      "Read LP format model from file C:\\Users\\riheme\\AppData\\Local\\Temp\\tmp74tqsuv5.lp\n",
      "Reading time = 0.10 seconds\n",
      ": 1807 rows, 5170 columns, 20304 nonzeros\n"
     ]
    },
    {
     "name": "stderr",
     "output_type": "stream",
     "text": [
      "2020-11-29 16:00:01,483 - thermomodel_Ecoli wt (Glc) 1 @ t = 11 - INFO - # Model initialized with units kcal/mol and temperature 298.15 K\n",
      "2020-11-29 16:00:28,786 - thermomodel_Ecoli wt (Glc) 1 @ t = 11 - INFO - Adding slack constraints\n",
      "adding slacks: 100%|███████████████████████████████████████████████████████████████| 1824/1824 [01:36<00:00, 18.92it/s]\n",
      "2020-11-29 16:02:09,781 - thermomodel_Ecoli wt (Glc) 1 @ t = 11 - INFO - Optimizing slack model\n",
      "2020-11-29 16:02:22,387 - thermomodel_Ecoli wt (Glc) 1 @ t = 11 - INFO - Extracting relaxation\n",
      "applying slack: 100%|███████████████████████████████████████████████████████████| 2585/2585 [00:00<00:00, 16411.53it/s]\n",
      "2020-11-29 16:02:22,809 - thermomodel_Ecoli wt (Glc) 1 @ t = 11 - INFO - Testing relaxation\n"
     ]
    },
    {
     "name": "stdout",
     "output_type": "stream",
     "text": [
      "################################################################################\n",
      "Ecoli wt (Glc) 2 @ t = 11\n",
      "(237.68 min)\n",
      "################################################################################\n",
      "Read LP format model from file C:\\Users\\riheme\\AppData\\Local\\Temp\\tmpp6c3mnhw.lp\n",
      "Reading time = 0.08 seconds\n",
      ": 1807 rows, 5170 columns, 20334 nonzeros\n",
      "Read LP format model from file C:\\Users\\riheme\\AppData\\Local\\Temp\\tmp64d0062i.lp\n",
      "Reading time = 0.06 seconds\n",
      ": 1807 rows, 5170 columns, 20334 nonzeros\n"
     ]
    },
    {
     "name": "stderr",
     "output_type": "stream",
     "text": [
      "2020-11-29 16:03:03,854 - thermomodel_None - INFO - # Model initialized with units kcal/mol and temperature 298.15 K\n",
      "2020-11-29 16:03:03,880 - thermomodel_None - INFO - # Model preparation starting...\n",
      "2020-11-29 16:03:10,363 - thermomodel_None - WARNING - Warning : NULL/U\n",
      "2020-11-29 16:03:10,363 - thermomodel_None - WARNING - Warning : NULL/L\n",
      "2020-11-29 16:03:10,363 - thermomodel_None - WARNING - Warning : NULL/L\n",
      "2020-11-29 16:03:10,372 - thermomodel_None - WARNING - Warning : NULL/U\n",
      "2020-11-29 16:03:10,376 - thermomodel_None - WARNING - Warning : NULL/L\n",
      "2020-11-29 16:03:10,376 - thermomodel_None - WARNING - Warning : NULL/L\n",
      "2020-11-29 16:03:10,955 - thermomodel_None - WARNING - Warning : NULL/U\n",
      "2020-11-29 16:03:10,957 - thermomodel_None - WARNING - Warning : NULL/L\n",
      "2020-11-29 16:03:10,958 - thermomodel_None - WARNING - Warning : NULL/L\n",
      "2020-11-29 16:03:10,962 - thermomodel_None - WARNING - Warning : NULL/U\n",
      "2020-11-29 16:03:10,965 - thermomodel_None - WARNING - Warning : NULL/L\n",
      "2020-11-29 16:03:10,965 - thermomodel_None - WARNING - Warning : NULL/L\n",
      "2020-11-29 16:03:11,339 - thermomodel_None - WARNING - Warning : NULL/U\n",
      "2020-11-29 16:03:11,347 - thermomodel_None - WARNING - Warning : NULL/L\n",
      "2020-11-29 16:03:11,349 - thermomodel_None - WARNING - Warning : NULL/L\n",
      "2020-11-29 16:03:11,349 - thermomodel_None - WARNING - Warning : NULL/U\n",
      "2020-11-29 16:03:11,349 - thermomodel_None - WARNING - Warning : NULL/L\n",
      "2020-11-29 16:03:11,354 - thermomodel_None - WARNING - Warning : NULL/L\n",
      "2020-11-29 16:03:11,506 - thermomodel_None - WARNING - Warning : NULL/U\n",
      "2020-11-29 16:03:11,506 - thermomodel_None - WARNING - Warning : NULL/L\n",
      "2020-11-29 16:03:11,506 - thermomodel_None - WARNING - Warning : NULL/L\n",
      "2020-11-29 16:03:11,506 - thermomodel_None - WARNING - Warning : NULL/U\n",
      "2020-11-29 16:03:11,517 - thermomodel_None - WARNING - Warning : NULL/L\n",
      "2020-11-29 16:03:11,520 - thermomodel_None - WARNING - Warning : NULL/L\n",
      "2020-11-29 16:03:11,524 - thermomodel_None - WARNING - Warning : NULL/U\n",
      "2020-11-29 16:03:11,526 - thermomodel_None - WARNING - Warning : NULL/L\n",
      "2020-11-29 16:03:11,528 - thermomodel_None - WARNING - Warning : NULL/L\n",
      "2020-11-29 16:03:11,531 - thermomodel_None - WARNING - Warning : NULL/U\n",
      "2020-11-29 16:03:11,533 - thermomodel_None - WARNING - Warning : NULL/L\n",
      "2020-11-29 16:03:11,534 - thermomodel_None - WARNING - Warning : NULL/L\n",
      "2020-11-29 16:03:11,536 - thermomodel_None - WARNING - Warning : NULL/U\n",
      "2020-11-29 16:03:11,539 - thermomodel_None - WARNING - Warning : NULL/L\n",
      "2020-11-29 16:03:11,540 - thermomodel_None - WARNING - Warning : NULL/L\n",
      "2020-11-29 16:03:11,540 - thermomodel_None - WARNING - Warning : NULL/U\n",
      "2020-11-29 16:03:11,545 - thermomodel_None - WARNING - Warning : NULL/L\n",
      "2020-11-29 16:03:11,547 - thermomodel_None - WARNING - Warning : NULL/L\n",
      "2020-11-29 16:03:11,551 - thermomodel_None - WARNING - Warning : NULL/U\n",
      "2020-11-29 16:03:11,553 - thermomodel_None - WARNING - Warning : NULL/L\n",
      "2020-11-29 16:03:11,555 - thermomodel_None - WARNING - Warning : NULL/L\n",
      "2020-11-29 16:03:11,557 - thermomodel_None - WARNING - Warning : NULL/U\n",
      "2020-11-29 16:03:11,558 - thermomodel_None - WARNING - Warning : NULL/L\n",
      "2020-11-29 16:03:11,561 - thermomodel_None - WARNING - Warning : NULL/L\n",
      "2020-11-29 16:03:11,840 - thermomodel_None - INFO - # Model preparation done.\n",
      "2020-11-29 16:03:11,854 - thermomodel_None - INFO - # Model conversion starting...\n",
      "2020-11-29 16:04:49,348 - thermomodel_None - INFO - # Model conversion done.\n",
      "2020-11-29 16:04:49,352 - thermomodel_None - INFO - # Updating cobra_model variables...\n",
      "2020-11-29 16:04:49,447 - thermomodel_None - INFO - # cobra_model variables are up-to-date\n"
     ]
    },
    {
     "name": "stdout",
     "output_type": "stream",
     "text": [
      "Read LP format model from file C:\\Users\\riheme\\AppData\\Local\\Temp\\tmpzczau856.lp\n",
      "Reading time = 0.05 seconds\n",
      ": 1807 rows, 5170 columns, 20304 nonzeros\n",
      "Read LP format model from file C:\\Users\\riheme\\AppData\\Local\\Temp\\tmprdn6qkk1.lp\n",
      "Reading time = 0.07 seconds\n",
      ": 1807 rows, 5170 columns, 20304 nonzeros\n"
     ]
    },
    {
     "name": "stderr",
     "output_type": "stream",
     "text": [
      "2020-11-29 16:05:34,489 - thermomodel_Ecoli wt (Glc) 2 @ t = 11 - INFO - # Model initialized with units kcal/mol and temperature 298.15 K\n"
     ]
    },
    {
     "name": "stdout",
     "output_type": "stream",
     "text": [
      "Read LP format model from file C:\\Users\\riheme\\AppData\\Local\\Temp\\tmp7tbytn71.lp\n",
      "Reading time = 0.06 seconds\n",
      ": 1807 rows, 5170 columns, 20304 nonzeros\n",
      "Read LP format model from file C:\\Users\\riheme\\AppData\\Local\\Temp\\tmpdoa5_3kt.lp\n",
      "Reading time = 0.06 seconds\n",
      ": 1807 rows, 5170 columns, 20304 nonzeros\n"
     ]
    },
    {
     "name": "stderr",
     "output_type": "stream",
     "text": [
      "2020-11-29 16:06:45,955 - thermomodel_Ecoli wt (Glc) 2 @ t = 11 - INFO - # Model initialized with units kcal/mol and temperature 298.15 K\n",
      "2020-11-29 16:07:12,179 - thermomodel_Ecoli wt (Glc) 2 @ t = 11 - INFO - Adding slack constraints\n",
      "adding slacks: 100%|███████████████████████████████████████████████████████████████| 1824/1824 [01:34<00:00, 19.21it/s]\n",
      "2020-11-29 16:08:51,669 - thermomodel_Ecoli wt (Glc) 2 @ t = 11 - INFO - Optimizing slack model\n",
      "2020-11-29 16:09:03,193 - thermomodel_Ecoli wt (Glc) 2 @ t = 11 - INFO - Extracting relaxation\n",
      "applying slack: 100%|███████████████████████████████████████████████████████████| 2585/2585 [00:00<00:00, 17242.12it/s]\n",
      "2020-11-29 16:09:03,558 - thermomodel_Ecoli wt (Glc) 2 @ t = 11 - INFO - Testing relaxation\n"
     ]
    },
    {
     "name": "stdout",
     "output_type": "stream",
     "text": [
      "Elapsed time: 4.07 h\n"
     ]
    }
   ],
   "source": [
    "start = now()\n",
    "\n",
    "results = []\n",
    "\n",
    "media = 'Glc'\n",
    "media_mask = bounds['media'] == media\n",
    "for ko_id in bounds[ media_mask ]['ko'].unique():\n",
    "    ko_mask = bounds['ko'] == ko_id\n",
    "    for strain in bounds[ ko_mask & media_mask ]['strain'].unique():\n",
    "        strain_mask = bounds['strain'] == strain\n",
    "        for time in bounds[ ko_mask & media_mask & strain_mask ]['time_point'].unique():\n",
    "            mask = ko_mask & media_mask & strain_mask & ( bounds['time_point'] == time )\n",
    "            name = f'Ecoli {ko_id} ({media}) {strain} @ t = {time}'\n",
    "            print( '\\n'.join( ['#'*80, name, f'({(now()-start)/60:.2f} min)', '#'*80] ) )\n",
    "\n",
    "            # get log concentration and reaction bounds\n",
    "            lc_bounds = bounds[ mask & ( bounds['bound_type'] == 'log_concentration' ) ]\n",
    "            rxn_bounds = bounds[ mask & ( bounds['bound_type'] == 'reaction' ) ]\n",
    "\n",
    "            # create, adjust, and run thermodynamic model\n",
    "            tmodel = utils.create_model( name, COBRA_PATH, thermo_data, lexicon, compartment_data, BIOMASS_ID )\n",
    "            utils.adjust_model( tmodel, lc_bounds, rxn_bounds )\n",
    "            tmodel, relax_table = utils.optimize( tmodel, relax = 'dgo' )\n",
    "\n",
    "            # store free energies, log concentrations, and fluxes\n",
    "            cols = dict( strain = strain, ko = ko_id, media = media, time_point = time )\n",
    "            results.append( gen_rows( utils.get_flux( tmodel ), **cols ) )\n",
    "            results.append( gen_rows( utils.get_delta_g( tmodel ), **cols ) )\n",
    "            results.append( gen_rows( utils.get_log_concentration( tmodel ), **cols ) )\n",
    "            results.append( gen_rows( relax_table, **cols ) )\n",
    "\n",
    "results = pd.concat(results, ignore_index = True)\n",
    "results.to_csv('data/results.csv', index = False)\n",
    "\n",
    "print(f'Elapsed time: {(now()-start)/3600:.2f} h')"
   ]
  },
  {
   "cell_type": "markdown",
   "metadata": {},
   "source": [
    "3. Inspect results"
   ]
  },
  {
   "cell_type": "code",
   "execution_count": 5,
   "metadata": {},
   "outputs": [
    {
     "data": {
      "text/html": [
       "<div>\n",
       "<style scoped>\n",
       "    .dataframe tbody tr th:only-of-type {\n",
       "        vertical-align: middle;\n",
       "    }\n",
       "\n",
       "    .dataframe tbody tr th {\n",
       "        vertical-align: top;\n",
       "    }\n",
       "\n",
       "    .dataframe thead th {\n",
       "        text-align: right;\n",
       "    }\n",
       "</style>\n",
       "<table border=\"1\" class=\"dataframe\">\n",
       "  <thead>\n",
       "    <tr style=\"text-align: right;\">\n",
       "      <th></th>\n",
       "      <th>value_type</th>\n",
       "      <th>strain</th>\n",
       "      <th>ko</th>\n",
       "      <th>media</th>\n",
       "      <th>time_point</th>\n",
       "      <th>id</th>\n",
       "      <th>value</th>\n",
       "      <th>tag</th>\n",
       "    </tr>\n",
       "  </thead>\n",
       "  <tbody>\n",
       "    <tr>\n",
       "      <th>0</th>\n",
       "      <td>flux</td>\n",
       "      <td>0</td>\n",
       "      <td>GLCptspp</td>\n",
       "      <td>Glc</td>\n",
       "      <td>0</td>\n",
       "      <td>DM_4CRSOL</td>\n",
       "      <td>4.467703e-05</td>\n",
       "      <td>Exchange</td>\n",
       "    </tr>\n",
       "    <tr>\n",
       "      <th>1</th>\n",
       "      <td>flux</td>\n",
       "      <td>0</td>\n",
       "      <td>GLCptspp</td>\n",
       "      <td>Glc</td>\n",
       "      <td>0</td>\n",
       "      <td>DM_5DRIB</td>\n",
       "      <td>4.627979e-05</td>\n",
       "      <td>Exchange</td>\n",
       "    </tr>\n",
       "    <tr>\n",
       "      <th>2</th>\n",
       "      <td>flux</td>\n",
       "      <td>0</td>\n",
       "      <td>GLCptspp</td>\n",
       "      <td>Glc</td>\n",
       "      <td>0</td>\n",
       "      <td>DM_AACALD</td>\n",
       "      <td>0.000000e+00</td>\n",
       "      <td>Exchange</td>\n",
       "    </tr>\n",
       "    <tr>\n",
       "      <th>3</th>\n",
       "      <td>flux</td>\n",
       "      <td>0</td>\n",
       "      <td>GLCptspp</td>\n",
       "      <td>Glc</td>\n",
       "      <td>0</td>\n",
       "      <td>DM_AMOB</td>\n",
       "      <td>4.006909e-07</td>\n",
       "      <td>Exchange</td>\n",
       "    </tr>\n",
       "    <tr>\n",
       "      <th>4</th>\n",
       "      <td>flux</td>\n",
       "      <td>0</td>\n",
       "      <td>GLCptspp</td>\n",
       "      <td>Glc</td>\n",
       "      <td>0</td>\n",
       "      <td>DM_MTHTHF</td>\n",
       "      <td>2.684629e-04</td>\n",
       "      <td>Exchange</td>\n",
       "    </tr>\n",
       "  </tbody>\n",
       "</table>\n",
       "</div>"
      ],
      "text/plain": [
       "  value_type  strain        ko media  time_point         id         value  \\\n",
       "0       flux       0  GLCptspp   Glc           0  DM_4CRSOL  4.467703e-05   \n",
       "1       flux       0  GLCptspp   Glc           0   DM_5DRIB  4.627979e-05   \n",
       "2       flux       0  GLCptspp   Glc           0  DM_AACALD  0.000000e+00   \n",
       "3       flux       0  GLCptspp   Glc           0    DM_AMOB  4.006909e-07   \n",
       "4       flux       0  GLCptspp   Glc           0  DM_MTHTHF  2.684629e-04   \n",
       "\n",
       "        tag  \n",
       "0  Exchange  \n",
       "1  Exchange  \n",
       "2  Exchange  \n",
       "3  Exchange  \n",
       "4  Exchange  "
      ]
     },
     "execution_count": 5,
     "metadata": {},
     "output_type": "execute_result"
    }
   ],
   "source": [
    "results.head()"
   ]
  }
 ],
 "metadata": {
  "kernelspec": {
   "display_name": "Python 3",
   "language": "python",
   "name": "python3"
  },
  "language_info": {
   "codemirror_mode": {
    "name": "ipython",
    "version": 3
   },
   "file_extension": ".py",
   "mimetype": "text/x-python",
   "name": "python",
   "nbconvert_exporter": "python",
   "pygments_lexer": "ipython3",
   "version": "3.6.10"
  }
 },
 "nbformat": 4,
 "nbformat_minor": 4
}
