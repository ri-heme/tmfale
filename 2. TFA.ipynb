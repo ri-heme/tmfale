{
 "cells": [
  {
   "cell_type": "code",
   "execution_count": 1,
   "metadata": {},
   "outputs": [
    {
     "name": "stdout",
     "output_type": "stream",
     "text": [
      "Using license file C:\\Users\\riheme\\gurobi.lic\n",
      "Academic license - for non-commercial use only\n"
     ]
    }
   ],
   "source": [
    "from time import time as now\n",
    "\n",
    "import numpy as np\n",
    "import pandas as pd\n",
    "import utils\n",
    "\n",
    "COBRA_PATH = 'data/iJO1366.json'\n",
    "BIOMASS_ID = 'Ec_biomass_iJO1366_WT_53p95M'"
   ]
  },
  {
   "cell_type": "code",
   "execution_count": 2,
   "metadata": {},
   "outputs": [],
   "source": [
    "# generates a stacked DataFrame that shares values in columns\n",
    "def gen_rows( data, **kwargs ):\n",
    "    # we receive fluxes, log concentrations, or free energies\n",
    "    # correctly identify that type of value\n",
    "    labels = { 'value_type': data.columns[0], **kwargs }\n",
    "    # the original data has to be renamed, so when these rows are stacked they don't create additional columns\n",
    "    mapper = { data.index.name: 'id', data.columns[0]: 'value', data.columns[1]: 'tag' }\n",
    "    # create new DataFrame and rename it\n",
    "    rows = pd.DataFrame( data ).reset_index()\n",
    "    rows.rename( columns = mapper, inplace = True )\n",
    "    # add labels as columns\n",
    "    for i, (col, value) in enumerate(labels.items()):\n",
    "        rows.insert( i, col, value )\n",
    "    return rows"
   ]
  },
  {
   "cell_type": "markdown",
   "metadata": {},
   "source": [
    "# TFA\n",
    "\n",
    "1. Load necessary data (thermo DB, lexicon, compartment data, LC bounds, rate bounds)"
   ]
  },
  {
   "cell_type": "code",
   "execution_count": 3,
   "metadata": {},
   "outputs": [
    {
     "data": {
      "text/html": [
       "<div>\n",
       "<style scoped>\n",
       "    .dataframe tbody tr th:only-of-type {\n",
       "        vertical-align: middle;\n",
       "    }\n",
       "\n",
       "    .dataframe tbody tr th {\n",
       "        vertical-align: top;\n",
       "    }\n",
       "\n",
       "    .dataframe thead th {\n",
       "        text-align: right;\n",
       "    }\n",
       "</style>\n",
       "<table border=\"1\" class=\"dataframe\">\n",
       "  <thead>\n",
       "    <tr style=\"text-align: right;\">\n",
       "      <th></th>\n",
       "      <th>bound_type</th>\n",
       "      <th>strain</th>\n",
       "      <th>ko</th>\n",
       "      <th>media</th>\n",
       "      <th>time_point</th>\n",
       "      <th>id</th>\n",
       "      <th>lb</th>\n",
       "      <th>ub</th>\n",
       "    </tr>\n",
       "  </thead>\n",
       "  <tbody>\n",
       "    <tr>\n",
       "      <th>0</th>\n",
       "      <td>log_concentration</td>\n",
       "      <td>0</td>\n",
       "      <td>GLCptspp</td>\n",
       "      <td>Glc</td>\n",
       "      <td>0</td>\n",
       "      <td>23dpg</td>\n",
       "      <td>-7.860059</td>\n",
       "      <td>-7.424463</td>\n",
       "    </tr>\n",
       "    <tr>\n",
       "      <th>1</th>\n",
       "      <td>log_concentration</td>\n",
       "      <td>0</td>\n",
       "      <td>GLCptspp</td>\n",
       "      <td>Glc</td>\n",
       "      <td>0</td>\n",
       "      <td>6pgc</td>\n",
       "      <td>-8.785181</td>\n",
       "      <td>-8.248013</td>\n",
       "    </tr>\n",
       "    <tr>\n",
       "      <th>2</th>\n",
       "      <td>log_concentration</td>\n",
       "      <td>0</td>\n",
       "      <td>GLCptspp</td>\n",
       "      <td>Glc</td>\n",
       "      <td>0</td>\n",
       "      <td>Lcystin</td>\n",
       "      <td>-9.206868</td>\n",
       "      <td>-8.559319</td>\n",
       "    </tr>\n",
       "    <tr>\n",
       "      <th>3</th>\n",
       "      <td>log_concentration</td>\n",
       "      <td>0</td>\n",
       "      <td>GLCptspp</td>\n",
       "      <td>Glc</td>\n",
       "      <td>0</td>\n",
       "      <td>Pool_2pg_3pg</td>\n",
       "      <td>-6.367578</td>\n",
       "      <td>-5.712819</td>\n",
       "    </tr>\n",
       "    <tr>\n",
       "      <th>4</th>\n",
       "      <td>log_concentration</td>\n",
       "      <td>0</td>\n",
       "      <td>GLCptspp</td>\n",
       "      <td>Glc</td>\n",
       "      <td>0</td>\n",
       "      <td>accoa</td>\n",
       "      <td>-8.114400</td>\n",
       "      <td>-7.619540</td>\n",
       "    </tr>\n",
       "  </tbody>\n",
       "</table>\n",
       "</div>"
      ],
      "text/plain": [
       "          bound_type  strain        ko media  time_point            id  \\\n",
       "0  log_concentration       0  GLCptspp   Glc           0         23dpg   \n",
       "1  log_concentration       0  GLCptspp   Glc           0          6pgc   \n",
       "2  log_concentration       0  GLCptspp   Glc           0       Lcystin   \n",
       "3  log_concentration       0  GLCptspp   Glc           0  Pool_2pg_3pg   \n",
       "4  log_concentration       0  GLCptspp   Glc           0         accoa   \n",
       "\n",
       "         lb        ub  \n",
       "0 -7.860059 -7.424463  \n",
       "1 -8.785181 -8.248013  \n",
       "2 -9.206868 -8.559319  \n",
       "3 -6.367578 -5.712819  \n",
       "4 -8.114400 -7.619540  "
      ]
     },
     "execution_count": 3,
     "metadata": {},
     "output_type": "execute_result"
    }
   ],
   "source": [
    "thermo_data, lexicon, compartment_data = utils.load_data(\n",
    "    'data/thermo_data.thermodb',\n",
    "    'data/lexicon.csv',\n",
    "    'data/compartment_data.json' )\n",
    "bounds = pd.read_csv('data/bounds.csv')\n",
    "bounds.head()"
   ]
  },
  {
   "cell_type": "markdown",
   "metadata": {},
   "source": [
    "2. Run simulations!"
   ]
  },
  {
   "cell_type": "code",
   "execution_count": 13,
   "metadata": {},
   "outputs": [
    {
     "name": "stdout",
     "output_type": "stream",
     "text": [
      "################################################################################\n",
      "Ecoli GLCptspp (Glc) 0 @ t = 0\n",
      "(0.00 min)\n",
      "################################################################################\n",
      "Read LP format model from file C:\\Users\\riheme\\AppData\\Local\\Temp\\tmp1jus9n5z.lp\n",
      "Reading time = 0.02 seconds\n",
      ": 1807 rows, 5170 columns, 20334 nonzeros\n",
      "Read LP format model from file C:\\Users\\riheme\\AppData\\Local\\Temp\\tmpw93l8mtk.lp\n",
      "Reading time = 0.03 seconds\n",
      ": 1807 rows, 5170 columns, 20334 nonzeros\n"
     ]
    },
    {
     "name": "stderr",
     "output_type": "stream",
     "text": [
      "2020-11-19 00:26:50,666 - thermomodel_None - INFO - # Model initialized with units kcal/mol and temperature 298.15 K\n",
      "2020-11-19 00:26:50,674 - thermomodel_None - INFO - # Model preparation starting...\n",
      "2020-11-19 00:26:52,962 - thermomodel_None - WARNING - Warning : NULL/U\n",
      "2020-11-19 00:26:52,962 - thermomodel_None - WARNING - Warning : NULL/L\n",
      "2020-11-19 00:26:52,962 - thermomodel_None - WARNING - Warning : NULL/L\n",
      "2020-11-19 00:26:52,962 - thermomodel_None - WARNING - Warning : NULL/U\n",
      "2020-11-19 00:26:52,962 - thermomodel_None - WARNING - Warning : NULL/L\n",
      "2020-11-19 00:26:52,970 - thermomodel_None - WARNING - Warning : NULL/L\n",
      "2020-11-19 00:26:53,191 - thermomodel_None - WARNING - Warning : NULL/U\n",
      "2020-11-19 00:26:53,191 - thermomodel_None - WARNING - Warning : NULL/L\n",
      "2020-11-19 00:26:53,191 - thermomodel_None - WARNING - Warning : NULL/L\n",
      "2020-11-19 00:26:53,191 - thermomodel_None - WARNING - Warning : NULL/U\n",
      "2020-11-19 00:26:53,191 - thermomodel_None - WARNING - Warning : NULL/L\n",
      "2020-11-19 00:26:53,191 - thermomodel_None - WARNING - Warning : NULL/L\n",
      "2020-11-19 00:26:53,354 - thermomodel_None - WARNING - Warning : NULL/U\n",
      "2020-11-19 00:26:53,354 - thermomodel_None - WARNING - Warning : NULL/L\n",
      "2020-11-19 00:26:53,354 - thermomodel_None - WARNING - Warning : NULL/L\n",
      "2020-11-19 00:26:53,354 - thermomodel_None - WARNING - Warning : NULL/U\n",
      "2020-11-19 00:26:53,354 - thermomodel_None - WARNING - Warning : NULL/L\n",
      "2020-11-19 00:26:53,354 - thermomodel_None - WARNING - Warning : NULL/L\n",
      "2020-11-19 00:26:53,423 - thermomodel_None - WARNING - Warning : NULL/U\n",
      "2020-11-19 00:26:53,423 - thermomodel_None - WARNING - Warning : NULL/L\n",
      "2020-11-19 00:26:53,423 - thermomodel_None - WARNING - Warning : NULL/L\n",
      "2020-11-19 00:26:53,423 - thermomodel_None - WARNING - Warning : NULL/U\n",
      "2020-11-19 00:26:53,423 - thermomodel_None - WARNING - Warning : NULL/L\n",
      "2020-11-19 00:26:53,423 - thermomodel_None - WARNING - Warning : NULL/L\n",
      "2020-11-19 00:26:53,423 - thermomodel_None - WARNING - Warning : NULL/U\n",
      "2020-11-19 00:26:53,423 - thermomodel_None - WARNING - Warning : NULL/L\n",
      "2020-11-19 00:26:53,423 - thermomodel_None - WARNING - Warning : NULL/L\n",
      "2020-11-19 00:26:53,423 - thermomodel_None - WARNING - Warning : NULL/U\n",
      "2020-11-19 00:26:53,423 - thermomodel_None - WARNING - Warning : NULL/L\n",
      "2020-11-19 00:26:53,423 - thermomodel_None - WARNING - Warning : NULL/L\n",
      "2020-11-19 00:26:53,423 - thermomodel_None - WARNING - Warning : NULL/U\n",
      "2020-11-19 00:26:53,423 - thermomodel_None - WARNING - Warning : NULL/L\n",
      "2020-11-19 00:26:53,423 - thermomodel_None - WARNING - Warning : NULL/L\n",
      "2020-11-19 00:26:53,423 - thermomodel_None - WARNING - Warning : NULL/U\n",
      "2020-11-19 00:26:53,423 - thermomodel_None - WARNING - Warning : NULL/L\n",
      "2020-11-19 00:26:53,438 - thermomodel_None - WARNING - Warning : NULL/L\n",
      "2020-11-19 00:26:53,438 - thermomodel_None - WARNING - Warning : NULL/U\n",
      "2020-11-19 00:26:53,438 - thermomodel_None - WARNING - Warning : NULL/L\n",
      "2020-11-19 00:26:53,438 - thermomodel_None - WARNING - Warning : NULL/L\n",
      "2020-11-19 00:26:53,438 - thermomodel_None - WARNING - Warning : NULL/U\n",
      "2020-11-19 00:26:53,438 - thermomodel_None - WARNING - Warning : NULL/L\n",
      "2020-11-19 00:26:53,438 - thermomodel_None - WARNING - Warning : NULL/L\n",
      "2020-11-19 00:26:53,554 - thermomodel_None - INFO - # Model preparation done.\n",
      "2020-11-19 00:26:53,554 - thermomodel_None - INFO - # Model conversion starting...\n",
      "2020-11-19 00:27:29,472 - thermomodel_None - INFO - # Model conversion done.\n",
      "2020-11-19 00:27:29,472 - thermomodel_None - INFO - # Updating cobra_model variables...\n",
      "2020-11-19 00:27:29,522 - thermomodel_None - INFO - # cobra_model variables are up-to-date\n",
      "C:\\Users\\riheme\\Anaconda3\\lib\\site-packages\\cobra\\util\\solver.py:430: UserWarning: solver status is 'infeasible'\n",
      "  warn(\"solver status is '{}'\".format(status), UserWarning)\n"
     ]
    },
    {
     "name": "stdout",
     "output_type": "stream",
     "text": [
      "Read LP format model from file C:\\Users\\riheme\\AppData\\Local\\Temp\\tmp_m3upkk5.lp\n",
      "Reading time = 0.02 seconds\n",
      ": 1807 rows, 5170 columns, 20304 nonzeros\n",
      "Read LP format model from file C:\\Users\\riheme\\AppData\\Local\\Temp\\tmp99nf3rh9.lp\n",
      "Reading time = 0.03 seconds\n",
      ": 1807 rows, 5170 columns, 20304 nonzeros\n"
     ]
    },
    {
     "name": "stderr",
     "output_type": "stream",
     "text": [
      "2020-11-19 00:27:45,855 - thermomodel_Ecoli GLCptspp (Glc) 0 @ t = 0 - INFO - # Model initialized with units kcal/mol and temperature 298.15 K\n",
      "C:\\Users\\riheme\\Anaconda3\\lib\\site-packages\\sympy\\__init__.py:676: SymPyDeprecationWarning: \n",
      "\n",
      "importing sympy.core.numbers with 'from sympy import *' has been\n",
      "deprecated since SymPy 1.6. Use import sympy.core.numbers instead. See\n",
      "https://github.com/sympy/sympy/issues/18245 for more info.\n",
      "\n",
      "  deprecated_since_version=\"1.6\").warn()\n"
     ]
    },
    {
     "name": "stdout",
     "output_type": "stream",
     "text": [
      "Read LP format model from file C:\\Users\\riheme\\AppData\\Local\\Temp\\tmpy6twprm8.lp\n",
      "Reading time = 0.02 seconds\n",
      ": 1807 rows, 5170 columns, 20304 nonzeros\n",
      "Read LP format model from file C:\\Users\\riheme\\AppData\\Local\\Temp\\tmpdci55agz.lp\n",
      "Reading time = 0.02 seconds\n",
      ": 1807 rows, 5170 columns, 20304 nonzeros\n"
     ]
    },
    {
     "name": "stderr",
     "output_type": "stream",
     "text": [
      "2020-11-19 00:28:11,960 - thermomodel_Ecoli GLCptspp (Glc) 0 @ t = 0 - INFO - # Model initialized with units kcal/mol and temperature 298.15 K\n",
      "2020-11-19 00:28:21,572 - thermomodel_Ecoli GLCptspp (Glc) 0 @ t = 0 - INFO - Adding slack constraints\n",
      "adding slacks: 100%|███████████████████████████████████████████████████████████████| 1824/1824 [00:34<00:00, 52.98it/s]\n",
      "2020-11-19 00:28:57,590 - thermomodel_Ecoli GLCptspp (Glc) 0 @ t = 0 - INFO - Optimizing slack model\n",
      "2020-11-19 00:29:02,396 - thermomodel_Ecoli GLCptspp (Glc) 0 @ t = 0 - INFO - Extracting relaxation\n",
      "applying slack: 100%|███████████████████████████████████████████████████████████| 2585/2585 [00:00<00:00, 53580.73it/s]\n",
      "2020-11-19 00:29:02,535 - thermomodel_Ecoli GLCptspp (Glc) 0 @ t = 0 - INFO - Testing relaxation\n"
     ]
    },
    {
     "name": "stdout",
     "output_type": "stream",
     "text": [
      "################################################################################\n",
      "Ecoli GLCptspp (Glc) 1 @ t = 1\n",
      "(2.44 min)\n",
      "################################################################################\n",
      "Read LP format model from file C:\\Users\\riheme\\AppData\\Local\\Temp\\tmpw01iia06.lp\n",
      "Reading time = 0.02 seconds\n",
      ": 1807 rows, 5170 columns, 20334 nonzeros\n",
      "Read LP format model from file C:\\Users\\riheme\\AppData\\Local\\Temp\\tmpuqy2wj7o.lp\n",
      "Reading time = 0.02 seconds\n",
      ": 1807 rows, 5170 columns, 20334 nonzeros\n"
     ]
    },
    {
     "name": "stderr",
     "output_type": "stream",
     "text": [
      "2020-11-19 00:29:17,172 - thermomodel_None - INFO - # Model initialized with units kcal/mol and temperature 298.15 K\n",
      "2020-11-19 00:29:17,182 - thermomodel_None - INFO - # Model preparation starting...\n",
      "2020-11-19 00:29:19,472 - thermomodel_None - WARNING - Warning : NULL/U\n",
      "2020-11-19 00:29:19,472 - thermomodel_None - WARNING - Warning : NULL/L\n",
      "2020-11-19 00:29:19,472 - thermomodel_None - WARNING - Warning : NULL/L\n",
      "2020-11-19 00:29:19,472 - thermomodel_None - WARNING - Warning : NULL/U\n",
      "2020-11-19 00:29:19,472 - thermomodel_None - WARNING - Warning : NULL/L\n",
      "2020-11-19 00:29:19,472 - thermomodel_None - WARNING - Warning : NULL/L\n",
      "2020-11-19 00:29:19,683 - thermomodel_None - WARNING - Warning : NULL/U\n",
      "2020-11-19 00:29:19,683 - thermomodel_None - WARNING - Warning : NULL/L\n",
      "2020-11-19 00:29:19,690 - thermomodel_None - WARNING - Warning : NULL/L\n",
      "2020-11-19 00:29:19,690 - thermomodel_None - WARNING - Warning : NULL/U\n",
      "2020-11-19 00:29:19,690 - thermomodel_None - WARNING - Warning : NULL/L\n",
      "2020-11-19 00:29:19,690 - thermomodel_None - WARNING - Warning : NULL/L\n",
      "2020-11-19 00:29:19,821 - thermomodel_None - WARNING - Warning : NULL/U\n",
      "2020-11-19 00:29:19,821 - thermomodel_None - WARNING - Warning : NULL/L\n",
      "2020-11-19 00:29:19,821 - thermomodel_None - WARNING - Warning : NULL/L\n",
      "2020-11-19 00:29:19,821 - thermomodel_None - WARNING - Warning : NULL/U\n",
      "2020-11-19 00:29:19,821 - thermomodel_None - WARNING - Warning : NULL/L\n",
      "2020-11-19 00:29:19,821 - thermomodel_None - WARNING - Warning : NULL/L\n",
      "2020-11-19 00:29:19,884 - thermomodel_None - WARNING - Warning : NULL/U\n",
      "2020-11-19 00:29:19,884 - thermomodel_None - WARNING - Warning : NULL/L\n",
      "2020-11-19 00:29:19,884 - thermomodel_None - WARNING - Warning : NULL/L\n",
      "2020-11-19 00:29:19,884 - thermomodel_None - WARNING - Warning : NULL/U\n",
      "2020-11-19 00:29:19,884 - thermomodel_None - WARNING - Warning : NULL/L\n",
      "2020-11-19 00:29:19,890 - thermomodel_None - WARNING - Warning : NULL/L\n",
      "2020-11-19 00:29:19,890 - thermomodel_None - WARNING - Warning : NULL/U\n",
      "2020-11-19 00:29:19,890 - thermomodel_None - WARNING - Warning : NULL/L\n",
      "2020-11-19 00:29:19,890 - thermomodel_None - WARNING - Warning : NULL/L\n",
      "2020-11-19 00:29:19,890 - thermomodel_None - WARNING - Warning : NULL/U\n",
      "2020-11-19 00:29:19,890 - thermomodel_None - WARNING - Warning : NULL/L\n",
      "2020-11-19 00:29:19,890 - thermomodel_None - WARNING - Warning : NULL/L\n",
      "2020-11-19 00:29:19,890 - thermomodel_None - WARNING - Warning : NULL/U\n",
      "2020-11-19 00:29:19,890 - thermomodel_None - WARNING - Warning : NULL/L\n",
      "2020-11-19 00:29:19,890 - thermomodel_None - WARNING - Warning : NULL/L\n",
      "2020-11-19 00:29:19,890 - thermomodel_None - WARNING - Warning : NULL/U\n",
      "2020-11-19 00:29:19,890 - thermomodel_None - WARNING - Warning : NULL/L\n",
      "2020-11-19 00:29:19,890 - thermomodel_None - WARNING - Warning : NULL/L\n",
      "2020-11-19 00:29:19,890 - thermomodel_None - WARNING - Warning : NULL/U\n",
      "2020-11-19 00:29:19,890 - thermomodel_None - WARNING - Warning : NULL/L\n",
      "2020-11-19 00:29:19,890 - thermomodel_None - WARNING - Warning : NULL/L\n",
      "2020-11-19 00:29:19,890 - thermomodel_None - WARNING - Warning : NULL/U\n",
      "2020-11-19 00:29:19,890 - thermomodel_None - WARNING - Warning : NULL/L\n",
      "2020-11-19 00:29:19,906 - thermomodel_None - WARNING - Warning : NULL/L\n",
      "2020-11-19 00:29:20,006 - thermomodel_None - INFO - # Model preparation done.\n",
      "2020-11-19 00:29:20,006 - thermomodel_None - INFO - # Model conversion starting...\n",
      "2020-11-19 00:29:53,509 - thermomodel_None - INFO - # Model conversion done.\n",
      "2020-11-19 00:29:53,509 - thermomodel_None - INFO - # Updating cobra_model variables...\n",
      "2020-11-19 00:29:53,542 - thermomodel_None - INFO - # cobra_model variables are up-to-date\n"
     ]
    },
    {
     "name": "stdout",
     "output_type": "stream",
     "text": [
      "Read LP format model from file C:\\Users\\riheme\\AppData\\Local\\Temp\\tmpxyo_dch0.lp\n",
      "Reading time = 0.03 seconds\n",
      ": 1807 rows, 5170 columns, 20304 nonzeros\n",
      "Read LP format model from file C:\\Users\\riheme\\AppData\\Local\\Temp\\tmpsayr1qny.lp\n",
      "Reading time = 0.02 seconds\n",
      ": 1807 rows, 5170 columns, 20304 nonzeros\n"
     ]
    },
    {
     "name": "stderr",
     "output_type": "stream",
     "text": [
      "2020-11-19 00:30:09,416 - thermomodel_Ecoli GLCptspp (Glc) 1 @ t = 1 - INFO - # Model initialized with units kcal/mol and temperature 298.15 K\n"
     ]
    },
    {
     "name": "stdout",
     "output_type": "stream",
     "text": [
      "Read LP format model from file C:\\Users\\riheme\\AppData\\Local\\Temp\\tmp9ic_l97k.lp\n",
      "Reading time = 0.02 seconds\n",
      ": 1807 rows, 5170 columns, 20304 nonzeros\n",
      "Read LP format model from file C:\\Users\\riheme\\AppData\\Local\\Temp\\tmp_lzbgj0b.lp\n",
      "Reading time = 0.02 seconds\n",
      ": 1807 rows, 5170 columns, 20304 nonzeros\n"
     ]
    },
    {
     "name": "stderr",
     "output_type": "stream",
     "text": [
      "2020-11-19 00:30:34,614 - thermomodel_Ecoli GLCptspp (Glc) 1 @ t = 1 - INFO - # Model initialized with units kcal/mol and temperature 298.15 K\n",
      "2020-11-19 00:30:43,607 - thermomodel_Ecoli GLCptspp (Glc) 1 @ t = 1 - INFO - Adding slack constraints\n",
      "adding slacks: 100%|███████████████████████████████████████████████████████████████| 1824/1824 [00:34<00:00, 53.42it/s]\n",
      "2020-11-19 00:31:19,322 - thermomodel_Ecoli GLCptspp (Glc) 1 @ t = 1 - INFO - Optimizing slack model\n",
      "2020-11-19 00:31:24,705 - thermomodel_Ecoli GLCptspp (Glc) 1 @ t = 1 - INFO - Extracting relaxation\n",
      "applying slack: 100%|███████████████████████████████████████████████████████████| 2585/2585 [00:00<00:00, 51230.53it/s]\n",
      "2020-11-19 00:31:24,840 - thermomodel_Ecoli GLCptspp (Glc) 1 @ t = 1 - INFO - Testing relaxation\n"
     ]
    },
    {
     "name": "stdout",
     "output_type": "stream",
     "text": [
      "################################################################################\n",
      "Ecoli GLCptspp (Glc) 1 @ t = 3\n",
      "(4.81 min)\n",
      "################################################################################\n",
      "Read LP format model from file C:\\Users\\riheme\\AppData\\Local\\Temp\\tmp3za5nucb.lp\n",
      "Reading time = 0.02 seconds\n",
      ": 1807 rows, 5170 columns, 20334 nonzeros\n",
      "Read LP format model from file C:\\Users\\riheme\\AppData\\Local\\Temp\\tmpcnro4wqq.lp\n",
      "Reading time = 0.02 seconds\n",
      ": 1807 rows, 5170 columns, 20334 nonzeros\n"
     ]
    },
    {
     "name": "stderr",
     "output_type": "stream",
     "text": [
      "2020-11-19 00:31:39,545 - thermomodel_None - INFO - # Model initialized with units kcal/mol and temperature 298.15 K\n",
      "2020-11-19 00:31:39,563 - thermomodel_None - INFO - # Model preparation starting...\n",
      "2020-11-19 00:31:41,830 - thermomodel_None - WARNING - Warning : NULL/U\n",
      "2020-11-19 00:31:41,830 - thermomodel_None - WARNING - Warning : NULL/L\n",
      "2020-11-19 00:31:41,830 - thermomodel_None - WARNING - Warning : NULL/L\n",
      "2020-11-19 00:31:41,832 - thermomodel_None - WARNING - Warning : NULL/U\n",
      "2020-11-19 00:31:41,832 - thermomodel_None - WARNING - Warning : NULL/L\n",
      "2020-11-19 00:31:41,832 - thermomodel_None - WARNING - Warning : NULL/L\n",
      "2020-11-19 00:31:42,045 - thermomodel_None - WARNING - Warning : NULL/U\n",
      "2020-11-19 00:31:42,045 - thermomodel_None - WARNING - Warning : NULL/L\n",
      "2020-11-19 00:31:42,045 - thermomodel_None - WARNING - Warning : NULL/L\n",
      "2020-11-19 00:31:42,045 - thermomodel_None - WARNING - Warning : NULL/U\n",
      "2020-11-19 00:31:42,045 - thermomodel_None - WARNING - Warning : NULL/L\n",
      "2020-11-19 00:31:42,045 - thermomodel_None - WARNING - Warning : NULL/L\n",
      "2020-11-19 00:31:42,183 - thermomodel_None - WARNING - Warning : NULL/U\n",
      "2020-11-19 00:31:42,183 - thermomodel_None - WARNING - Warning : NULL/L\n",
      "2020-11-19 00:31:42,183 - thermomodel_None - WARNING - Warning : NULL/L\n",
      "2020-11-19 00:31:42,183 - thermomodel_None - WARNING - Warning : NULL/U\n",
      "2020-11-19 00:31:42,183 - thermomodel_None - WARNING - Warning : NULL/L\n",
      "2020-11-19 00:31:42,183 - thermomodel_None - WARNING - Warning : NULL/L\n",
      "2020-11-19 00:31:42,229 - thermomodel_None - WARNING - Warning : NULL/U\n",
      "2020-11-19 00:31:42,229 - thermomodel_None - WARNING - Warning : NULL/L\n",
      "2020-11-19 00:31:42,245 - thermomodel_None - WARNING - Warning : NULL/L\n",
      "2020-11-19 00:31:42,245 - thermomodel_None - WARNING - Warning : NULL/U\n",
      "2020-11-19 00:31:42,245 - thermomodel_None - WARNING - Warning : NULL/L\n",
      "2020-11-19 00:31:42,245 - thermomodel_None - WARNING - Warning : NULL/L\n",
      "2020-11-19 00:31:42,245 - thermomodel_None - WARNING - Warning : NULL/U\n",
      "2020-11-19 00:31:42,245 - thermomodel_None - WARNING - Warning : NULL/L\n",
      "2020-11-19 00:31:42,245 - thermomodel_None - WARNING - Warning : NULL/L\n",
      "2020-11-19 00:31:42,252 - thermomodel_None - WARNING - Warning : NULL/U\n",
      "2020-11-19 00:31:42,252 - thermomodel_None - WARNING - Warning : NULL/L\n",
      "2020-11-19 00:31:42,252 - thermomodel_None - WARNING - Warning : NULL/L\n",
      "2020-11-19 00:31:42,252 - thermomodel_None - WARNING - Warning : NULL/U\n",
      "2020-11-19 00:31:42,252 - thermomodel_None - WARNING - Warning : NULL/L\n",
      "2020-11-19 00:31:42,252 - thermomodel_None - WARNING - Warning : NULL/L\n",
      "2020-11-19 00:31:42,252 - thermomodel_None - WARNING - Warning : NULL/U\n",
      "2020-11-19 00:31:42,252 - thermomodel_None - WARNING - Warning : NULL/L\n",
      "2020-11-19 00:31:42,252 - thermomodel_None - WARNING - Warning : NULL/L\n",
      "2020-11-19 00:31:42,252 - thermomodel_None - WARNING - Warning : NULL/U\n",
      "2020-11-19 00:31:42,252 - thermomodel_None - WARNING - Warning : NULL/L\n",
      "2020-11-19 00:31:42,252 - thermomodel_None - WARNING - Warning : NULL/L\n",
      "2020-11-19 00:31:42,252 - thermomodel_None - WARNING - Warning : NULL/U\n",
      "2020-11-19 00:31:42,252 - thermomodel_None - WARNING - Warning : NULL/L\n",
      "2020-11-19 00:31:42,252 - thermomodel_None - WARNING - Warning : NULL/L\n",
      "2020-11-19 00:31:42,367 - thermomodel_None - INFO - # Model preparation done.\n",
      "2020-11-19 00:31:42,367 - thermomodel_None - INFO - # Model conversion starting...\n",
      "2020-11-19 00:32:16,138 - thermomodel_None - INFO - # Model conversion done.\n",
      "2020-11-19 00:32:16,138 - thermomodel_None - INFO - # Updating cobra_model variables...\n",
      "2020-11-19 00:32:16,179 - thermomodel_None - INFO - # cobra_model variables are up-to-date\n"
     ]
    },
    {
     "name": "stdout",
     "output_type": "stream",
     "text": [
      "Read LP format model from file C:\\Users\\riheme\\AppData\\Local\\Temp\\tmpz7q130ci.lp\n",
      "Reading time = 0.02 seconds\n",
      ": 1807 rows, 5170 columns, 20304 nonzeros\n",
      "Read LP format model from file C:\\Users\\riheme\\AppData\\Local\\Temp\\tmpsebaqvys.lp\n",
      "Reading time = 0.02 seconds\n",
      ": 1807 rows, 5170 columns, 20304 nonzeros\n"
     ]
    },
    {
     "name": "stderr",
     "output_type": "stream",
     "text": [
      "2020-11-19 00:32:32,650 - thermomodel_Ecoli GLCptspp (Glc) 1 @ t = 3 - INFO - # Model initialized with units kcal/mol and temperature 298.15 K\n"
     ]
    },
    {
     "name": "stdout",
     "output_type": "stream",
     "text": [
      "Read LP format model from file C:\\Users\\riheme\\AppData\\Local\\Temp\\tmpq5kj1c9c.lp\n",
      "Reading time = 0.02 seconds\n",
      ": 1807 rows, 5170 columns, 20304 nonzeros\n",
      "Read LP format model from file C:\\Users\\riheme\\AppData\\Local\\Temp\\tmpiebdsn9o.lp\n",
      "Reading time = 0.06 seconds\n",
      ": 1807 rows, 5170 columns, 20304 nonzeros\n"
     ]
    },
    {
     "name": "stderr",
     "output_type": "stream",
     "text": [
      "2020-11-19 00:33:08,563 - thermomodel_Ecoli GLCptspp (Glc) 1 @ t = 3 - INFO - # Model initialized with units kcal/mol and temperature 298.15 K\n",
      "2020-11-19 00:33:23,199 - thermomodel_Ecoli GLCptspp (Glc) 1 @ t = 3 - INFO - Adding slack constraints\n",
      "adding slacks: 100%|███████████████████████████████████████████████████████████████| 1824/1824 [00:47<00:00, 38.35it/s]\n",
      "2020-11-19 00:34:12,735 - thermomodel_Ecoli GLCptspp (Glc) 1 @ t = 3 - INFO - Optimizing slack model\n",
      "2020-11-19 00:34:18,857 - thermomodel_Ecoli GLCptspp (Glc) 1 @ t = 3 - INFO - Extracting relaxation\n",
      "applying slack: 100%|███████████████████████████████████████████████████████████| 2585/2585 [00:00<00:00, 37467.52it/s]\n",
      "2020-11-19 00:34:19,038 - thermomodel_Ecoli GLCptspp (Glc) 1 @ t = 3 - INFO - Testing relaxation\n"
     ]
    },
    {
     "name": "stdout",
     "output_type": "stream",
     "text": [
      "################################################################################\n",
      "Ecoli GLCptspp (Glc) 1 @ t = 11\n",
      "(7.72 min)\n",
      "################################################################################\n",
      "Read LP format model from file C:\\Users\\riheme\\AppData\\Local\\Temp\\tmpjjufv9l6.lp\n",
      "Reading time = 0.02 seconds\n",
      ": 1807 rows, 5170 columns, 20334 nonzeros\n",
      "Read LP format model from file C:\\Users\\riheme\\AppData\\Local\\Temp\\tmp2z4jjm_z.lp\n",
      "Reading time = 0.02 seconds\n",
      ": 1807 rows, 5170 columns, 20334 nonzeros\n"
     ]
    },
    {
     "name": "stderr",
     "output_type": "stream",
     "text": [
      "2020-11-19 00:34:36,595 - thermomodel_None - INFO - # Model initialized with units kcal/mol and temperature 298.15 K\n",
      "2020-11-19 00:34:36,605 - thermomodel_None - INFO - # Model preparation starting...\n",
      "2020-11-19 00:34:39,603 - thermomodel_None - WARNING - Warning : NULL/U\n",
      "2020-11-19 00:34:39,603 - thermomodel_None - WARNING - Warning : NULL/L\n",
      "2020-11-19 00:34:39,611 - thermomodel_None - WARNING - Warning : NULL/L\n",
      "2020-11-19 00:34:39,611 - thermomodel_None - WARNING - Warning : NULL/U\n",
      "2020-11-19 00:34:39,614 - thermomodel_None - WARNING - Warning : NULL/L\n",
      "2020-11-19 00:34:39,614 - thermomodel_None - WARNING - Warning : NULL/L\n",
      "2020-11-19 00:34:39,894 - thermomodel_None - WARNING - Warning : NULL/U\n",
      "2020-11-19 00:34:39,894 - thermomodel_None - WARNING - Warning : NULL/L\n",
      "2020-11-19 00:34:39,894 - thermomodel_None - WARNING - Warning : NULL/L\n",
      "2020-11-19 00:34:39,896 - thermomodel_None - WARNING - Warning : NULL/U\n",
      "2020-11-19 00:34:39,896 - thermomodel_None - WARNING - Warning : NULL/L\n",
      "2020-11-19 00:34:39,896 - thermomodel_None - WARNING - Warning : NULL/L\n",
      "2020-11-19 00:34:40,077 - thermomodel_None - WARNING - Warning : NULL/U\n",
      "2020-11-19 00:34:40,077 - thermomodel_None - WARNING - Warning : NULL/L\n",
      "2020-11-19 00:34:40,077 - thermomodel_None - WARNING - Warning : NULL/L\n",
      "2020-11-19 00:34:40,077 - thermomodel_None - WARNING - Warning : NULL/U\n",
      "2020-11-19 00:34:40,077 - thermomodel_None - WARNING - Warning : NULL/L\n",
      "2020-11-19 00:34:40,077 - thermomodel_None - WARNING - Warning : NULL/L\n",
      "2020-11-19 00:34:40,148 - thermomodel_None - WARNING - Warning : NULL/U\n",
      "2020-11-19 00:34:40,148 - thermomodel_None - WARNING - Warning : NULL/L\n",
      "2020-11-19 00:34:40,148 - thermomodel_None - WARNING - Warning : NULL/L\n",
      "2020-11-19 00:34:40,148 - thermomodel_None - WARNING - Warning : NULL/U\n",
      "2020-11-19 00:34:40,148 - thermomodel_None - WARNING - Warning : NULL/L\n",
      "2020-11-19 00:34:40,148 - thermomodel_None - WARNING - Warning : NULL/L\n",
      "2020-11-19 00:34:40,148 - thermomodel_None - WARNING - Warning : NULL/U\n",
      "2020-11-19 00:34:40,148 - thermomodel_None - WARNING - Warning : NULL/L\n",
      "2020-11-19 00:34:40,148 - thermomodel_None - WARNING - Warning : NULL/L\n",
      "2020-11-19 00:34:40,148 - thermomodel_None - WARNING - Warning : NULL/U\n",
      "2020-11-19 00:34:40,156 - thermomodel_None - WARNING - Warning : NULL/L\n",
      "2020-11-19 00:34:40,156 - thermomodel_None - WARNING - Warning : NULL/L\n",
      "2020-11-19 00:34:40,158 - thermomodel_None - WARNING - Warning : NULL/U\n",
      "2020-11-19 00:34:40,158 - thermomodel_None - WARNING - Warning : NULL/L\n",
      "2020-11-19 00:34:40,158 - thermomodel_None - WARNING - Warning : NULL/L\n",
      "2020-11-19 00:34:40,158 - thermomodel_None - WARNING - Warning : NULL/U\n",
      "2020-11-19 00:34:40,158 - thermomodel_None - WARNING - Warning : NULL/L\n",
      "2020-11-19 00:34:40,158 - thermomodel_None - WARNING - Warning : NULL/L\n",
      "2020-11-19 00:34:40,158 - thermomodel_None - WARNING - Warning : NULL/U\n",
      "2020-11-19 00:34:40,158 - thermomodel_None - WARNING - Warning : NULL/L\n",
      "2020-11-19 00:34:40,166 - thermomodel_None - WARNING - Warning : NULL/L\n",
      "2020-11-19 00:34:40,166 - thermomodel_None - WARNING - Warning : NULL/U\n",
      "2020-11-19 00:34:40,166 - thermomodel_None - WARNING - Warning : NULL/L\n",
      "2020-11-19 00:34:40,168 - thermomodel_None - WARNING - Warning : NULL/L\n",
      "2020-11-19 00:34:40,312 - thermomodel_None - INFO - # Model preparation done.\n",
      "2020-11-19 00:34:40,312 - thermomodel_None - INFO - # Model conversion starting...\n",
      "2020-11-19 00:35:22,603 - thermomodel_None - INFO - # Model conversion done.\n",
      "2020-11-19 00:35:22,603 - thermomodel_None - INFO - # Updating cobra_model variables...\n",
      "2020-11-19 00:35:22,654 - thermomodel_None - INFO - # cobra_model variables are up-to-date\n"
     ]
    },
    {
     "name": "stdout",
     "output_type": "stream",
     "text": [
      "Read LP format model from file C:\\Users\\riheme\\AppData\\Local\\Temp\\tmpysahltt1.lp\n",
      "Reading time = 0.02 seconds\n",
      ": 1807 rows, 5170 columns, 20304 nonzeros\n",
      "Read LP format model from file C:\\Users\\riheme\\AppData\\Local\\Temp\\tmpenultut2.lp\n",
      "Reading time = 0.02 seconds\n",
      ": 1807 rows, 5170 columns, 20304 nonzeros\n"
     ]
    },
    {
     "name": "stderr",
     "output_type": "stream",
     "text": [
      "2020-11-19 00:35:41,631 - thermomodel_Ecoli GLCptspp (Glc) 1 @ t = 11 - INFO - # Model initialized with units kcal/mol and temperature 298.15 K\n"
     ]
    },
    {
     "name": "stdout",
     "output_type": "stream",
     "text": [
      "Read LP format model from file C:\\Users\\riheme\\AppData\\Local\\Temp\\tmpd_oje6l2.lp\n",
      "Reading time = 0.02 seconds\n",
      ": 1807 rows, 5170 columns, 20304 nonzeros\n",
      "Read LP format model from file C:\\Users\\riheme\\AppData\\Local\\Temp\\tmpnjozr_wy.lp\n",
      "Reading time = 0.02 seconds\n",
      ": 1807 rows, 5170 columns, 20304 nonzeros\n"
     ]
    },
    {
     "name": "stderr",
     "output_type": "stream",
     "text": [
      "2020-11-19 00:36:09,259 - thermomodel_Ecoli GLCptspp (Glc) 1 @ t = 11 - INFO - # Model initialized with units kcal/mol and temperature 298.15 K\n",
      "2020-11-19 00:36:18,110 - thermomodel_Ecoli GLCptspp (Glc) 1 @ t = 11 - INFO - Adding slack constraints\n",
      "adding slacks: 100%|███████████████████████████████████████████████████████████████| 1824/1824 [00:35<00:00, 51.69it/s]\n",
      "2020-11-19 00:36:54,998 - thermomodel_Ecoli GLCptspp (Glc) 1 @ t = 11 - INFO - Optimizing slack model\n",
      "2020-11-19 00:36:58,742 - thermomodel_Ecoli GLCptspp (Glc) 1 @ t = 11 - INFO - Extracting relaxation\n",
      "applying slack: 100%|███████████████████████████████████████████████████████████| 2585/2585 [00:00<00:00, 53455.78it/s]\n",
      "2020-11-19 00:36:58,883 - thermomodel_Ecoli GLCptspp (Glc) 1 @ t = 11 - INFO - Testing relaxation\n"
     ]
    },
    {
     "name": "stdout",
     "output_type": "stream",
     "text": [
      "################################################################################\n",
      "Ecoli GLCptspp (Glc) 2 @ t = 1\n",
      "(10.38 min)\n",
      "################################################################################\n",
      "Read LP format model from file C:\\Users\\riheme\\AppData\\Local\\Temp\\tmp2gcukf5u.lp\n",
      "Reading time = 0.02 seconds\n",
      ": 1807 rows, 5170 columns, 20334 nonzeros\n",
      "Read LP format model from file C:\\Users\\riheme\\AppData\\Local\\Temp\\tmpv9qy4vko.lp\n",
      "Reading time = 0.02 seconds\n",
      ": 1807 rows, 5170 columns, 20334 nonzeros\n"
     ]
    },
    {
     "name": "stderr",
     "output_type": "stream",
     "text": [
      "2020-11-19 00:37:13,808 - thermomodel_None - INFO - # Model initialized with units kcal/mol and temperature 298.15 K\n",
      "2020-11-19 00:37:13,816 - thermomodel_None - INFO - # Model preparation starting...\n",
      "2020-11-19 00:37:16,156 - thermomodel_None - WARNING - Warning : NULL/U\n",
      "2020-11-19 00:37:16,156 - thermomodel_None - WARNING - Warning : NULL/L\n",
      "2020-11-19 00:37:16,164 - thermomodel_None - WARNING - Warning : NULL/L\n",
      "2020-11-19 00:37:16,164 - thermomodel_None - WARNING - Warning : NULL/U\n",
      "2020-11-19 00:37:16,164 - thermomodel_None - WARNING - Warning : NULL/L\n",
      "2020-11-19 00:37:16,164 - thermomodel_None - WARNING - Warning : NULL/L\n",
      "2020-11-19 00:37:16,368 - thermomodel_None - WARNING - Warning : NULL/U\n",
      "2020-11-19 00:37:16,376 - thermomodel_None - WARNING - Warning : NULL/L\n",
      "2020-11-19 00:37:16,376 - thermomodel_None - WARNING - Warning : NULL/L\n",
      "2020-11-19 00:37:16,376 - thermomodel_None - WARNING - Warning : NULL/U\n",
      "2020-11-19 00:37:16,376 - thermomodel_None - WARNING - Warning : NULL/L\n",
      "2020-11-19 00:37:16,376 - thermomodel_None - WARNING - Warning : NULL/L\n",
      "2020-11-19 00:37:16,517 - thermomodel_None - WARNING - Warning : NULL/U\n",
      "2020-11-19 00:37:16,519 - thermomodel_None - WARNING - Warning : NULL/L\n",
      "2020-11-19 00:37:16,519 - thermomodel_None - WARNING - Warning : NULL/L\n",
      "2020-11-19 00:37:16,519 - thermomodel_None - WARNING - Warning : NULL/U\n",
      "2020-11-19 00:37:16,519 - thermomodel_None - WARNING - Warning : NULL/L\n",
      "2020-11-19 00:37:16,519 - thermomodel_None - WARNING - Warning : NULL/L\n",
      "2020-11-19 00:37:16,568 - thermomodel_None - WARNING - Warning : NULL/U\n",
      "2020-11-19 00:37:16,568 - thermomodel_None - WARNING - Warning : NULL/L\n",
      "2020-11-19 00:37:16,568 - thermomodel_None - WARNING - Warning : NULL/L\n",
      "2020-11-19 00:37:16,568 - thermomodel_None - WARNING - Warning : NULL/U\n",
      "2020-11-19 00:37:16,568 - thermomodel_None - WARNING - Warning : NULL/L\n",
      "2020-11-19 00:37:16,568 - thermomodel_None - WARNING - Warning : NULL/L\n",
      "2020-11-19 00:37:16,568 - thermomodel_None - WARNING - Warning : NULL/U\n",
      "2020-11-19 00:37:16,568 - thermomodel_None - WARNING - Warning : NULL/L\n",
      "2020-11-19 00:37:16,568 - thermomodel_None - WARNING - Warning : NULL/L\n",
      "2020-11-19 00:37:16,584 - thermomodel_None - WARNING - Warning : NULL/U\n",
      "2020-11-19 00:37:16,584 - thermomodel_None - WARNING - Warning : NULL/L\n",
      "2020-11-19 00:37:16,584 - thermomodel_None - WARNING - Warning : NULL/L\n",
      "2020-11-19 00:37:16,584 - thermomodel_None - WARNING - Warning : NULL/U\n",
      "2020-11-19 00:37:16,584 - thermomodel_None - WARNING - Warning : NULL/L\n",
      "2020-11-19 00:37:16,584 - thermomodel_None - WARNING - Warning : NULL/L\n",
      "2020-11-19 00:37:16,584 - thermomodel_None - WARNING - Warning : NULL/U\n",
      "2020-11-19 00:37:16,584 - thermomodel_None - WARNING - Warning : NULL/L\n",
      "2020-11-19 00:37:16,584 - thermomodel_None - WARNING - Warning : NULL/L\n",
      "2020-11-19 00:37:16,584 - thermomodel_None - WARNING - Warning : NULL/U\n",
      "2020-11-19 00:37:16,584 - thermomodel_None - WARNING - Warning : NULL/L\n",
      "2020-11-19 00:37:16,584 - thermomodel_None - WARNING - Warning : NULL/L\n",
      "2020-11-19 00:37:16,584 - thermomodel_None - WARNING - Warning : NULL/U\n",
      "2020-11-19 00:37:16,584 - thermomodel_None - WARNING - Warning : NULL/L\n",
      "2020-11-19 00:37:16,584 - thermomodel_None - WARNING - Warning : NULL/L\n",
      "2020-11-19 00:37:16,701 - thermomodel_None - INFO - # Model preparation done.\n",
      "2020-11-19 00:37:16,701 - thermomodel_None - INFO - # Model conversion starting...\n",
      "2020-11-19 00:37:50,639 - thermomodel_None - INFO - # Model conversion done.\n",
      "2020-11-19 00:37:50,641 - thermomodel_None - INFO - # Updating cobra_model variables...\n",
      "2020-11-19 00:37:50,674 - thermomodel_None - INFO - # cobra_model variables are up-to-date\n"
     ]
    },
    {
     "name": "stdout",
     "output_type": "stream",
     "text": [
      "Read LP format model from file C:\\Users\\riheme\\AppData\\Local\\Temp\\tmp_8jvns9u.lp\n",
      "Reading time = 0.02 seconds\n",
      ": 1807 rows, 5170 columns, 20304 nonzeros\n",
      "Read LP format model from file C:\\Users\\riheme\\AppData\\Local\\Temp\\tmpb7tm760s.lp\n",
      "Reading time = 0.02 seconds\n",
      ": 1807 rows, 5170 columns, 20304 nonzeros\n"
     ]
    },
    {
     "name": "stderr",
     "output_type": "stream",
     "text": [
      "2020-11-19 00:38:06,944 - thermomodel_Ecoli GLCptspp (Glc) 2 @ t = 1 - INFO - # Model initialized with units kcal/mol and temperature 298.15 K\n"
     ]
    },
    {
     "name": "stdout",
     "output_type": "stream",
     "text": [
      "Read LP format model from file C:\\Users\\riheme\\AppData\\Local\\Temp\\tmpvevgmqql.lp\n",
      "Reading time = 0.02 seconds\n",
      ": 1807 rows, 5170 columns, 20304 nonzeros\n",
      "Read LP format model from file C:\\Users\\riheme\\AppData\\Local\\Temp\\tmpdrgxsikl.lp\n",
      "Reading time = 0.02 seconds\n",
      ": 1807 rows, 5170 columns, 20304 nonzeros\n"
     ]
    },
    {
     "name": "stderr",
     "output_type": "stream",
     "text": [
      "2020-11-19 00:38:32,239 - thermomodel_Ecoli GLCptspp (Glc) 2 @ t = 1 - INFO - # Model initialized with units kcal/mol and temperature 298.15 K\n",
      "2020-11-19 00:38:41,719 - thermomodel_Ecoli GLCptspp (Glc) 2 @ t = 1 - INFO - Adding slack constraints\n",
      "adding slacks: 100%|███████████████████████████████████████████████████████████████| 1824/1824 [00:35<00:00, 51.88it/s]\n",
      "2020-11-19 00:39:18,466 - thermomodel_Ecoli GLCptspp (Glc) 2 @ t = 1 - INFO - Optimizing slack model\n",
      "2020-11-19 00:39:23,446 - thermomodel_Ecoli GLCptspp (Glc) 2 @ t = 1 - INFO - Extracting relaxation\n",
      "applying slack: 100%|███████████████████████████████████████████████████████████| 2585/2585 [00:00<00:00, 45434.37it/s]\n",
      "2020-11-19 00:39:23,583 - thermomodel_Ecoli GLCptspp (Glc) 2 @ t = 1 - INFO - Testing relaxation\n"
     ]
    },
    {
     "name": "stdout",
     "output_type": "stream",
     "text": [
      "################################################################################\n",
      "Ecoli GLCptspp (Glc) 2 @ t = 3\n",
      "(12.79 min)\n",
      "################################################################################\n",
      "Read LP format model from file C:\\Users\\riheme\\AppData\\Local\\Temp\\tmp46g1ejwf.lp\n",
      "Reading time = 0.02 seconds\n",
      ": 1807 rows, 5170 columns, 20334 nonzeros\n",
      "Read LP format model from file C:\\Users\\riheme\\AppData\\Local\\Temp\\tmpebh7l0s8.lp\n",
      "Reading time = 0.02 seconds\n",
      ": 1807 rows, 5170 columns, 20334 nonzeros\n"
     ]
    },
    {
     "name": "stderr",
     "output_type": "stream",
     "text": [
      "2020-11-19 00:39:38,080 - thermomodel_None - INFO - # Model initialized with units kcal/mol and temperature 298.15 K\n",
      "2020-11-19 00:39:38,088 - thermomodel_None - INFO - # Model preparation starting...\n",
      "2020-11-19 00:39:40,393 - thermomodel_None - WARNING - Warning : NULL/U\n",
      "2020-11-19 00:39:40,393 - thermomodel_None - WARNING - Warning : NULL/L\n",
      "2020-11-19 00:39:40,393 - thermomodel_None - WARNING - Warning : NULL/L\n",
      "2020-11-19 00:39:40,393 - thermomodel_None - WARNING - Warning : NULL/U\n",
      "2020-11-19 00:39:40,393 - thermomodel_None - WARNING - Warning : NULL/L\n",
      "2020-11-19 00:39:40,393 - thermomodel_None - WARNING - Warning : NULL/L\n",
      "2020-11-19 00:39:40,604 - thermomodel_None - WARNING - Warning : NULL/U\n",
      "2020-11-19 00:39:40,604 - thermomodel_None - WARNING - Warning : NULL/L\n",
      "2020-11-19 00:39:40,604 - thermomodel_None - WARNING - Warning : NULL/L\n",
      "2020-11-19 00:39:40,604 - thermomodel_None - WARNING - Warning : NULL/U\n",
      "2020-11-19 00:39:40,604 - thermomodel_None - WARNING - Warning : NULL/L\n",
      "2020-11-19 00:39:40,604 - thermomodel_None - WARNING - Warning : NULL/L\n",
      "2020-11-19 00:39:40,744 - thermomodel_None - WARNING - Warning : NULL/U\n",
      "2020-11-19 00:39:40,752 - thermomodel_None - WARNING - Warning : NULL/L\n",
      "2020-11-19 00:39:40,752 - thermomodel_None - WARNING - Warning : NULL/L\n",
      "2020-11-19 00:39:40,752 - thermomodel_None - WARNING - Warning : NULL/U\n",
      "2020-11-19 00:39:40,754 - thermomodel_None - WARNING - Warning : NULL/L\n",
      "2020-11-19 00:39:40,754 - thermomodel_None - WARNING - Warning : NULL/L\n",
      "2020-11-19 00:39:40,805 - thermomodel_None - WARNING - Warning : NULL/U\n",
      "2020-11-19 00:39:40,805 - thermomodel_None - WARNING - Warning : NULL/L\n",
      "2020-11-19 00:39:40,805 - thermomodel_None - WARNING - Warning : NULL/L\n",
      "2020-11-19 00:39:40,813 - thermomodel_None - WARNING - Warning : NULL/U\n",
      "2020-11-19 00:39:40,813 - thermomodel_None - WARNING - Warning : NULL/L\n",
      "2020-11-19 00:39:40,813 - thermomodel_None - WARNING - Warning : NULL/L\n",
      "2020-11-19 00:39:40,813 - thermomodel_None - WARNING - Warning : NULL/U\n",
      "2020-11-19 00:39:40,813 - thermomodel_None - WARNING - Warning : NULL/L\n",
      "2020-11-19 00:39:40,813 - thermomodel_None - WARNING - Warning : NULL/L\n",
      "2020-11-19 00:39:40,813 - thermomodel_None - WARNING - Warning : NULL/U\n",
      "2020-11-19 00:39:40,813 - thermomodel_None - WARNING - Warning : NULL/L\n",
      "2020-11-19 00:39:40,813 - thermomodel_None - WARNING - Warning : NULL/L\n",
      "2020-11-19 00:39:40,813 - thermomodel_None - WARNING - Warning : NULL/U\n",
      "2020-11-19 00:39:40,813 - thermomodel_None - WARNING - Warning : NULL/L\n",
      "2020-11-19 00:39:40,813 - thermomodel_None - WARNING - Warning : NULL/L\n",
      "2020-11-19 00:39:40,813 - thermomodel_None - WARNING - Warning : NULL/U\n",
      "2020-11-19 00:39:40,813 - thermomodel_None - WARNING - Warning : NULL/L\n",
      "2020-11-19 00:39:40,813 - thermomodel_None - WARNING - Warning : NULL/L\n",
      "2020-11-19 00:39:40,823 - thermomodel_None - WARNING - Warning : NULL/U\n",
      "2020-11-19 00:39:40,823 - thermomodel_None - WARNING - Warning : NULL/L\n",
      "2020-11-19 00:39:40,823 - thermomodel_None - WARNING - Warning : NULL/L\n",
      "2020-11-19 00:39:40,825 - thermomodel_None - WARNING - Warning : NULL/U\n",
      "2020-11-19 00:39:40,825 - thermomodel_None - WARNING - Warning : NULL/L\n",
      "2020-11-19 00:39:40,825 - thermomodel_None - WARNING - Warning : NULL/L\n",
      "2020-11-19 00:39:40,931 - thermomodel_None - INFO - # Model preparation done.\n",
      "2020-11-19 00:39:40,931 - thermomodel_None - INFO - # Model conversion starting...\n",
      "2020-11-19 00:40:14,451 - thermomodel_None - INFO - # Model conversion done.\n",
      "2020-11-19 00:40:14,451 - thermomodel_None - INFO - # Updating cobra_model variables...\n",
      "2020-11-19 00:40:14,485 - thermomodel_None - INFO - # cobra_model variables are up-to-date\n"
     ]
    },
    {
     "name": "stdout",
     "output_type": "stream",
     "text": [
      "Read LP format model from file C:\\Users\\riheme\\AppData\\Local\\Temp\\tmpil5zbak4.lp\n",
      "Reading time = 0.02 seconds\n",
      ": 1807 rows, 5170 columns, 20304 nonzeros\n",
      "Read LP format model from file C:\\Users\\riheme\\AppData\\Local\\Temp\\tmpdrnda2hr.lp\n",
      "Reading time = 0.02 seconds\n",
      ": 1807 rows, 5170 columns, 20304 nonzeros\n"
     ]
    },
    {
     "name": "stderr",
     "output_type": "stream",
     "text": [
      "2020-11-19 00:40:30,425 - thermomodel_Ecoli GLCptspp (Glc) 2 @ t = 3 - INFO - # Model initialized with units kcal/mol and temperature 298.15 K\n"
     ]
    },
    {
     "name": "stdout",
     "output_type": "stream",
     "text": [
      "Read LP format model from file C:\\Users\\riheme\\AppData\\Local\\Temp\\tmpm68zccy3.lp\n",
      "Reading time = 0.02 seconds\n",
      ": 1807 rows, 5170 columns, 20304 nonzeros\n",
      "Read LP format model from file C:\\Users\\riheme\\AppData\\Local\\Temp\\tmpaxo0feoa.lp\n",
      "Reading time = 0.02 seconds\n",
      ": 1807 rows, 5170 columns, 20304 nonzeros\n"
     ]
    },
    {
     "name": "stderr",
     "output_type": "stream",
     "text": [
      "2020-11-19 00:40:55,880 - thermomodel_Ecoli GLCptspp (Glc) 2 @ t = 3 - INFO - # Model initialized with units kcal/mol and temperature 298.15 K\n",
      "2020-11-19 00:41:05,391 - thermomodel_Ecoli GLCptspp (Glc) 2 @ t = 3 - INFO - Adding slack constraints\n",
      "adding slacks: 100%|███████████████████████████████████████████████████████████████| 1824/1824 [00:35<00:00, 52.05it/s]\n",
      "2020-11-19 00:41:42,033 - thermomodel_Ecoli GLCptspp (Glc) 2 @ t = 3 - INFO - Optimizing slack model\n",
      "2020-11-19 00:41:46,784 - thermomodel_Ecoli GLCptspp (Glc) 2 @ t = 3 - INFO - Extracting relaxation\n",
      "applying slack: 100%|███████████████████████████████████████████████████████████| 2585/2585 [00:00<00:00, 51390.06it/s]\n",
      "2020-11-19 00:41:46,925 - thermomodel_Ecoli GLCptspp (Glc) 2 @ t = 3 - INFO - Testing relaxation\n"
     ]
    },
    {
     "name": "stdout",
     "output_type": "stream",
     "text": [
      "################################################################################\n",
      "Ecoli GLCptspp (Glc) 2 @ t = 11\n",
      "(15.18 min)\n",
      "################################################################################\n",
      "Read LP format model from file C:\\Users\\riheme\\AppData\\Local\\Temp\\tmpn978b1c9.lp\n",
      "Reading time = 0.02 seconds\n",
      ": 1807 rows, 5170 columns, 20334 nonzeros\n",
      "Read LP format model from file C:\\Users\\riheme\\AppData\\Local\\Temp\\tmp0zddj5vv.lp\n",
      "Reading time = 0.02 seconds\n",
      ": 1807 rows, 5170 columns, 20334 nonzeros\n"
     ]
    },
    {
     "name": "stderr",
     "output_type": "stream",
     "text": [
      "2020-11-19 00:42:01,517 - thermomodel_None - INFO - # Model initialized with units kcal/mol and temperature 298.15 K\n",
      "2020-11-19 00:42:01,525 - thermomodel_None - INFO - # Model preparation starting...\n",
      "2020-11-19 00:42:03,808 - thermomodel_None - WARNING - Warning : NULL/U\n",
      "2020-11-19 00:42:03,808 - thermomodel_None - WARNING - Warning : NULL/L\n",
      "2020-11-19 00:42:03,808 - thermomodel_None - WARNING - Warning : NULL/L\n",
      "2020-11-19 00:42:03,808 - thermomodel_None - WARNING - Warning : NULL/U\n",
      "2020-11-19 00:42:03,808 - thermomodel_None - WARNING - Warning : NULL/L\n",
      "2020-11-19 00:42:03,808 - thermomodel_None - WARNING - Warning : NULL/L\n",
      "2020-11-19 00:42:04,021 - thermomodel_None - WARNING - Warning : NULL/U\n",
      "2020-11-19 00:42:04,021 - thermomodel_None - WARNING - Warning : NULL/L\n",
      "2020-11-19 00:42:04,021 - thermomodel_None - WARNING - Warning : NULL/L\n",
      "2020-11-19 00:42:04,021 - thermomodel_None - WARNING - Warning : NULL/U\n",
      "2020-11-19 00:42:04,029 - thermomodel_None - WARNING - Warning : NULL/L\n",
      "2020-11-19 00:42:04,029 - thermomodel_None - WARNING - Warning : NULL/L\n",
      "2020-11-19 00:42:04,162 - thermomodel_None - WARNING - Warning : NULL/U\n",
      "2020-11-19 00:42:04,162 - thermomodel_None - WARNING - Warning : NULL/L\n",
      "2020-11-19 00:42:04,162 - thermomodel_None - WARNING - Warning : NULL/L\n",
      "2020-11-19 00:42:04,170 - thermomodel_None - WARNING - Warning : NULL/U\n",
      "2020-11-19 00:42:04,171 - thermomodel_None - WARNING - Warning : NULL/L\n",
      "2020-11-19 00:42:04,171 - thermomodel_None - WARNING - Warning : NULL/L\n",
      "2020-11-19 00:42:04,211 - thermomodel_None - WARNING - Warning : NULL/U\n",
      "2020-11-19 00:42:04,227 - thermomodel_None - WARNING - Warning : NULL/L\n",
      "2020-11-19 00:42:04,227 - thermomodel_None - WARNING - Warning : NULL/L\n",
      "2020-11-19 00:42:04,227 - thermomodel_None - WARNING - Warning : NULL/U\n",
      "2020-11-19 00:42:04,227 - thermomodel_None - WARNING - Warning : NULL/L\n",
      "2020-11-19 00:42:04,227 - thermomodel_None - WARNING - Warning : NULL/L\n",
      "2020-11-19 00:42:04,227 - thermomodel_None - WARNING - Warning : NULL/U\n",
      "2020-11-19 00:42:04,227 - thermomodel_None - WARNING - Warning : NULL/L\n",
      "2020-11-19 00:42:04,227 - thermomodel_None - WARNING - Warning : NULL/L\n",
      "2020-11-19 00:42:04,227 - thermomodel_None - WARNING - Warning : NULL/U\n",
      "2020-11-19 00:42:04,227 - thermomodel_None - WARNING - Warning : NULL/L\n",
      "2020-11-19 00:42:04,227 - thermomodel_None - WARNING - Warning : NULL/L\n",
      "2020-11-19 00:42:04,227 - thermomodel_None - WARNING - Warning : NULL/U\n",
      "2020-11-19 00:42:04,227 - thermomodel_None - WARNING - Warning : NULL/L\n",
      "2020-11-19 00:42:04,227 - thermomodel_None - WARNING - Warning : NULL/L\n",
      "2020-11-19 00:42:04,227 - thermomodel_None - WARNING - Warning : NULL/U\n",
      "2020-11-19 00:42:04,227 - thermomodel_None - WARNING - Warning : NULL/L\n",
      "2020-11-19 00:42:04,227 - thermomodel_None - WARNING - Warning : NULL/L\n",
      "2020-11-19 00:42:04,227 - thermomodel_None - WARNING - Warning : NULL/U\n",
      "2020-11-19 00:42:04,227 - thermomodel_None - WARNING - Warning : NULL/L\n",
      "2020-11-19 00:42:04,227 - thermomodel_None - WARNING - Warning : NULL/L\n",
      "2020-11-19 00:42:04,227 - thermomodel_None - WARNING - Warning : NULL/U\n",
      "2020-11-19 00:42:04,227 - thermomodel_None - WARNING - Warning : NULL/L\n",
      "2020-11-19 00:42:04,242 - thermomodel_None - WARNING - Warning : NULL/L\n",
      "2020-11-19 00:42:04,342 - thermomodel_None - INFO - # Model preparation done.\n",
      "2020-11-19 00:42:04,342 - thermomodel_None - INFO - # Model conversion starting...\n",
      "2020-11-19 00:42:38,026 - thermomodel_None - INFO - # Model conversion done.\n",
      "2020-11-19 00:42:38,026 - thermomodel_None - INFO - # Updating cobra_model variables...\n",
      "2020-11-19 00:42:38,060 - thermomodel_None - INFO - # cobra_model variables are up-to-date\n"
     ]
    },
    {
     "name": "stdout",
     "output_type": "stream",
     "text": [
      "Read LP format model from file C:\\Users\\riheme\\AppData\\Local\\Temp\\tmpeij6y354.lp\n",
      "Reading time = 0.02 seconds\n",
      ": 1807 rows, 5170 columns, 20304 nonzeros\n",
      "Read LP format model from file C:\\Users\\riheme\\AppData\\Local\\Temp\\tmp8qnelm50.lp\n",
      "Reading time = 0.02 seconds\n",
      ": 1807 rows, 5170 columns, 20304 nonzeros\n"
     ]
    },
    {
     "name": "stderr",
     "output_type": "stream",
     "text": [
      "2020-11-19 00:42:53,952 - thermomodel_Ecoli GLCptspp (Glc) 2 @ t = 11 - INFO - # Model initialized with units kcal/mol and temperature 298.15 K\n"
     ]
    },
    {
     "name": "stdout",
     "output_type": "stream",
     "text": [
      "Read LP format model from file C:\\Users\\riheme\\AppData\\Local\\Temp\\tmpcvlphqsi.lp\n",
      "Reading time = 0.02 seconds\n",
      ": 1807 rows, 5170 columns, 20304 nonzeros\n",
      "Read LP format model from file C:\\Users\\riheme\\AppData\\Local\\Temp\\tmppkyd8edp.lp\n",
      "Reading time = 0.02 seconds\n",
      ": 1807 rows, 5170 columns, 20304 nonzeros\n"
     ]
    },
    {
     "name": "stderr",
     "output_type": "stream",
     "text": [
      "2020-11-19 00:43:19,536 - thermomodel_Ecoli GLCptspp (Glc) 2 @ t = 11 - INFO - # Model initialized with units kcal/mol and temperature 298.15 K\n",
      "2020-11-19 00:43:28,432 - thermomodel_Ecoli GLCptspp (Glc) 2 @ t = 11 - INFO - Adding slack constraints\n",
      "adding slacks: 100%|███████████████████████████████████████████████████████████████| 1824/1824 [00:36<00:00, 50.66it/s]\n",
      "2020-11-19 00:44:06,037 - thermomodel_Ecoli GLCptspp (Glc) 2 @ t = 11 - INFO - Optimizing slack model\n",
      "2020-11-19 00:44:10,601 - thermomodel_Ecoli GLCptspp (Glc) 2 @ t = 11 - INFO - Extracting relaxation\n",
      "applying slack: 100%|███████████████████████████████████████████████████████████| 2585/2585 [00:00<00:00, 50847.32it/s]\n",
      "2020-11-19 00:44:10,726 - thermomodel_Ecoli GLCptspp (Glc) 2 @ t = 11 - INFO - Testing relaxation\n"
     ]
    },
    {
     "name": "stdout",
     "output_type": "stream",
     "text": [
      "################################################################################\n",
      "Ecoli GLCptspp (Glc) 3 @ t = 1\n",
      "(17.57 min)\n",
      "################################################################################\n",
      "Read LP format model from file C:\\Users\\riheme\\AppData\\Local\\Temp\\tmpszp7juwj.lp\n",
      "Reading time = 0.02 seconds\n",
      ": 1807 rows, 5170 columns, 20334 nonzeros\n",
      "Read LP format model from file C:\\Users\\riheme\\AppData\\Local\\Temp\\tmpt8cw4t8g.lp\n",
      "Reading time = 0.02 seconds\n",
      ": 1807 rows, 5170 columns, 20334 nonzeros\n"
     ]
    },
    {
     "name": "stderr",
     "output_type": "stream",
     "text": [
      "2020-11-19 00:44:25,249 - thermomodel_None - INFO - # Model initialized with units kcal/mol and temperature 298.15 K\n",
      "2020-11-19 00:44:25,259 - thermomodel_None - INFO - # Model preparation starting...\n",
      "2020-11-19 00:44:27,527 - thermomodel_None - WARNING - Warning : NULL/U\n",
      "2020-11-19 00:44:27,527 - thermomodel_None - WARNING - Warning : NULL/L\n",
      "2020-11-19 00:44:27,527 - thermomodel_None - WARNING - Warning : NULL/L\n",
      "2020-11-19 00:44:27,527 - thermomodel_None - WARNING - Warning : NULL/U\n",
      "2020-11-19 00:44:27,527 - thermomodel_None - WARNING - Warning : NULL/L\n",
      "2020-11-19 00:44:27,527 - thermomodel_None - WARNING - Warning : NULL/L\n",
      "2020-11-19 00:44:27,746 - thermomodel_None - WARNING - Warning : NULL/U\n",
      "2020-11-19 00:44:27,746 - thermomodel_None - WARNING - Warning : NULL/L\n",
      "2020-11-19 00:44:27,746 - thermomodel_None - WARNING - Warning : NULL/L\n",
      "2020-11-19 00:44:27,746 - thermomodel_None - WARNING - Warning : NULL/U\n",
      "2020-11-19 00:44:27,746 - thermomodel_None - WARNING - Warning : NULL/L\n",
      "2020-11-19 00:44:27,746 - thermomodel_None - WARNING - Warning : NULL/L\n",
      "2020-11-19 00:44:27,893 - thermomodel_None - WARNING - Warning : NULL/U\n",
      "2020-11-19 00:44:27,893 - thermomodel_None - WARNING - Warning : NULL/L\n",
      "2020-11-19 00:44:27,893 - thermomodel_None - WARNING - Warning : NULL/L\n",
      "2020-11-19 00:44:27,893 - thermomodel_None - WARNING - Warning : NULL/U\n",
      "2020-11-19 00:44:27,893 - thermomodel_None - WARNING - Warning : NULL/L\n",
      "2020-11-19 00:44:27,893 - thermomodel_None - WARNING - Warning : NULL/L\n",
      "2020-11-19 00:44:27,946 - thermomodel_None - WARNING - Warning : NULL/U\n",
      "2020-11-19 00:44:27,946 - thermomodel_None - WARNING - Warning : NULL/L\n",
      "2020-11-19 00:44:27,946 - thermomodel_None - WARNING - Warning : NULL/L\n",
      "2020-11-19 00:44:27,946 - thermomodel_None - WARNING - Warning : NULL/U\n",
      "2020-11-19 00:44:27,946 - thermomodel_None - WARNING - Warning : NULL/L\n",
      "2020-11-19 00:44:27,946 - thermomodel_None - WARNING - Warning : NULL/L\n",
      "2020-11-19 00:44:27,946 - thermomodel_None - WARNING - Warning : NULL/U\n",
      "2020-11-19 00:44:27,946 - thermomodel_None - WARNING - Warning : NULL/L\n",
      "2020-11-19 00:44:27,946 - thermomodel_None - WARNING - Warning : NULL/L\n",
      "2020-11-19 00:44:27,946 - thermomodel_None - WARNING - Warning : NULL/U\n",
      "2020-11-19 00:44:27,946 - thermomodel_None - WARNING - Warning : NULL/L\n",
      "2020-11-19 00:44:27,946 - thermomodel_None - WARNING - Warning : NULL/L\n",
      "2020-11-19 00:44:27,946 - thermomodel_None - WARNING - Warning : NULL/U\n",
      "2020-11-19 00:44:27,946 - thermomodel_None - WARNING - Warning : NULL/L\n",
      "2020-11-19 00:44:27,962 - thermomodel_None - WARNING - Warning : NULL/L\n",
      "2020-11-19 00:44:27,962 - thermomodel_None - WARNING - Warning : NULL/U\n",
      "2020-11-19 00:44:27,962 - thermomodel_None - WARNING - Warning : NULL/L\n",
      "2020-11-19 00:44:27,962 - thermomodel_None - WARNING - Warning : NULL/L\n",
      "2020-11-19 00:44:27,962 - thermomodel_None - WARNING - Warning : NULL/U\n",
      "2020-11-19 00:44:27,962 - thermomodel_None - WARNING - Warning : NULL/L\n",
      "2020-11-19 00:44:27,962 - thermomodel_None - WARNING - Warning : NULL/L\n",
      "2020-11-19 00:44:27,962 - thermomodel_None - WARNING - Warning : NULL/U\n",
      "2020-11-19 00:44:27,962 - thermomodel_None - WARNING - Warning : NULL/L\n",
      "2020-11-19 00:44:27,962 - thermomodel_None - WARNING - Warning : NULL/L\n",
      "2020-11-19 00:44:28,078 - thermomodel_None - INFO - # Model preparation done.\n",
      "2020-11-19 00:44:28,078 - thermomodel_None - INFO - # Model conversion starting...\n",
      "2020-11-19 00:45:01,862 - thermomodel_None - INFO - # Model conversion done.\n",
      "2020-11-19 00:45:01,862 - thermomodel_None - INFO - # Updating cobra_model variables...\n",
      "2020-11-19 00:45:01,896 - thermomodel_None - INFO - # cobra_model variables are up-to-date\n"
     ]
    },
    {
     "name": "stdout",
     "output_type": "stream",
     "text": [
      "Read LP format model from file C:\\Users\\riheme\\AppData\\Local\\Temp\\tmpilmq81xr.lp\n",
      "Reading time = 0.02 seconds\n",
      ": 1807 rows, 5170 columns, 20304 nonzeros\n",
      "Read LP format model from file C:\\Users\\riheme\\AppData\\Local\\Temp\\tmp4clxdh1v.lp\n",
      "Reading time = 0.02 seconds\n",
      ": 1807 rows, 5170 columns, 20304 nonzeros\n"
     ]
    },
    {
     "name": "stderr",
     "output_type": "stream",
     "text": [
      "2020-11-19 00:45:18,068 - thermomodel_Ecoli GLCptspp (Glc) 3 @ t = 1 - INFO - # Model initialized with units kcal/mol and temperature 298.15 K\n"
     ]
    },
    {
     "name": "stdout",
     "output_type": "stream",
     "text": [
      "Read LP format model from file C:\\Users\\riheme\\AppData\\Local\\Temp\\tmptmutffmt.lp\n",
      "Reading time = 0.02 seconds\n",
      ": 1807 rows, 5170 columns, 20304 nonzeros\n",
      "Read LP format model from file C:\\Users\\riheme\\AppData\\Local\\Temp\\tmp687fgsje.lp\n",
      "Reading time = 0.02 seconds\n",
      ": 1807 rows, 5170 columns, 20304 nonzeros\n"
     ]
    },
    {
     "name": "stderr",
     "output_type": "stream",
     "text": [
      "2020-11-19 00:45:43,778 - thermomodel_Ecoli GLCptspp (Glc) 3 @ t = 1 - INFO - # Model initialized with units kcal/mol and temperature 298.15 K\n",
      "2020-11-19 00:45:52,682 - thermomodel_Ecoli GLCptspp (Glc) 3 @ t = 1 - INFO - Adding slack constraints\n",
      "adding slacks: 100%|███████████████████████████████████████████████████████████████| 1824/1824 [00:35<00:00, 50.96it/s]\n",
      "2020-11-19 00:46:30,062 - thermomodel_Ecoli GLCptspp (Glc) 3 @ t = 1 - INFO - Optimizing slack model\n",
      "2020-11-19 00:46:35,760 - thermomodel_Ecoli GLCptspp (Glc) 3 @ t = 1 - INFO - Extracting relaxation\n",
      "applying slack: 100%|███████████████████████████████████████████████████████████| 2585/2585 [00:00<00:00, 43909.19it/s]\n",
      "2020-11-19 00:46:35,901 - thermomodel_Ecoli GLCptspp (Glc) 3 @ t = 1 - INFO - Testing relaxation\n"
     ]
    },
    {
     "name": "stdout",
     "output_type": "stream",
     "text": [
      "################################################################################\n",
      "Ecoli GLCptspp (Glc) 3 @ t = 3\n",
      "(19.99 min)\n",
      "################################################################################\n",
      "Read LP format model from file C:\\Users\\riheme\\AppData\\Local\\Temp\\tmpkpwduzyw.lp\n",
      "Reading time = 0.02 seconds\n",
      ": 1807 rows, 5170 columns, 20334 nonzeros\n",
      "Read LP format model from file C:\\Users\\riheme\\AppData\\Local\\Temp\\tmptb1qxx_g.lp\n",
      "Reading time = 0.02 seconds\n",
      ": 1807 rows, 5170 columns, 20334 nonzeros\n"
     ]
    },
    {
     "name": "stderr",
     "output_type": "stream",
     "text": [
      "2020-11-19 00:46:50,578 - thermomodel_None - INFO - # Model initialized with units kcal/mol and temperature 298.15 K\n",
      "2020-11-19 00:46:50,588 - thermomodel_None - INFO - # Model preparation starting...\n",
      "2020-11-19 00:46:52,903 - thermomodel_None - WARNING - Warning : NULL/U\n",
      "2020-11-19 00:46:52,903 - thermomodel_None - WARNING - Warning : NULL/L\n",
      "2020-11-19 00:46:52,903 - thermomodel_None - WARNING - Warning : NULL/L\n",
      "2020-11-19 00:46:52,903 - thermomodel_None - WARNING - Warning : NULL/U\n",
      "2020-11-19 00:46:52,903 - thermomodel_None - WARNING - Warning : NULL/L\n",
      "2020-11-19 00:46:52,903 - thermomodel_None - WARNING - Warning : NULL/L\n",
      "2020-11-19 00:46:53,123 - thermomodel_None - WARNING - Warning : NULL/U\n",
      "2020-11-19 00:46:53,123 - thermomodel_None - WARNING - Warning : NULL/L\n",
      "2020-11-19 00:46:53,125 - thermomodel_None - WARNING - Warning : NULL/L\n",
      "2020-11-19 00:46:53,125 - thermomodel_None - WARNING - Warning : NULL/U\n",
      "2020-11-19 00:46:53,125 - thermomodel_None - WARNING - Warning : NULL/L\n",
      "2020-11-19 00:46:53,125 - thermomodel_None - WARNING - Warning : NULL/L\n",
      "2020-11-19 00:46:53,264 - thermomodel_None - WARNING - Warning : NULL/U\n",
      "2020-11-19 00:46:53,264 - thermomodel_None - WARNING - Warning : NULL/L\n",
      "2020-11-19 00:46:53,264 - thermomodel_None - WARNING - Warning : NULL/L\n",
      "2020-11-19 00:46:53,264 - thermomodel_None - WARNING - Warning : NULL/U\n",
      "2020-11-19 00:46:53,264 - thermomodel_None - WARNING - Warning : NULL/L\n",
      "2020-11-19 00:46:53,264 - thermomodel_None - WARNING - Warning : NULL/L\n",
      "2020-11-19 00:46:53,321 - thermomodel_None - WARNING - Warning : NULL/U\n",
      "2020-11-19 00:46:53,321 - thermomodel_None - WARNING - Warning : NULL/L\n",
      "2020-11-19 00:46:53,321 - thermomodel_None - WARNING - Warning : NULL/L\n",
      "2020-11-19 00:46:53,321 - thermomodel_None - WARNING - Warning : NULL/U\n",
      "2020-11-19 00:46:53,321 - thermomodel_None - WARNING - Warning : NULL/L\n",
      "2020-11-19 00:46:53,321 - thermomodel_None - WARNING - Warning : NULL/L\n",
      "2020-11-19 00:46:53,321 - thermomodel_None - WARNING - Warning : NULL/U\n",
      "2020-11-19 00:46:53,321 - thermomodel_None - WARNING - Warning : NULL/L\n",
      "2020-11-19 00:46:53,321 - thermomodel_None - WARNING - Warning : NULL/L\n",
      "2020-11-19 00:46:53,321 - thermomodel_None - WARNING - Warning : NULL/U\n",
      "2020-11-19 00:46:53,321 - thermomodel_None - WARNING - Warning : NULL/L\n",
      "2020-11-19 00:46:53,321 - thermomodel_None - WARNING - Warning : NULL/L\n",
      "2020-11-19 00:46:53,321 - thermomodel_None - WARNING - Warning : NULL/U\n",
      "2020-11-19 00:46:53,321 - thermomodel_None - WARNING - Warning : NULL/L\n",
      "2020-11-19 00:46:53,321 - thermomodel_None - WARNING - Warning : NULL/L\n",
      "2020-11-19 00:46:53,321 - thermomodel_None - WARNING - Warning : NULL/U\n",
      "2020-11-19 00:46:53,321 - thermomodel_None - WARNING - Warning : NULL/L\n",
      "2020-11-19 00:46:53,321 - thermomodel_None - WARNING - Warning : NULL/L\n",
      "2020-11-19 00:46:53,336 - thermomodel_None - WARNING - Warning : NULL/U\n",
      "2020-11-19 00:46:53,336 - thermomodel_None - WARNING - Warning : NULL/L\n",
      "2020-11-19 00:46:53,336 - thermomodel_None - WARNING - Warning : NULL/L\n",
      "2020-11-19 00:46:53,336 - thermomodel_None - WARNING - Warning : NULL/U\n",
      "2020-11-19 00:46:53,336 - thermomodel_None - WARNING - Warning : NULL/L\n",
      "2020-11-19 00:46:53,336 - thermomodel_None - WARNING - Warning : NULL/L\n",
      "2020-11-19 00:46:53,452 - thermomodel_None - INFO - # Model preparation done.\n",
      "2020-11-19 00:46:53,452 - thermomodel_None - INFO - # Model conversion starting...\n",
      "2020-11-19 00:47:27,230 - thermomodel_None - INFO - # Model conversion done.\n",
      "2020-11-19 00:47:27,230 - thermomodel_None - INFO - # Updating cobra_model variables...\n",
      "2020-11-19 00:47:27,270 - thermomodel_None - INFO - # cobra_model variables are up-to-date\n"
     ]
    },
    {
     "name": "stdout",
     "output_type": "stream",
     "text": [
      "Read LP format model from file C:\\Users\\riheme\\AppData\\Local\\Temp\\tmp4za6w22i.lp\n",
      "Reading time = 0.02 seconds\n",
      ": 1807 rows, 5170 columns, 20304 nonzeros\n",
      "Read LP format model from file C:\\Users\\riheme\\AppData\\Local\\Temp\\tmptto5n6hx.lp\n",
      "Reading time = 0.02 seconds\n",
      ": 1807 rows, 5170 columns, 20304 nonzeros\n"
     ]
    },
    {
     "name": "stderr",
     "output_type": "stream",
     "text": [
      "2020-11-19 00:47:43,400 - thermomodel_Ecoli GLCptspp (Glc) 3 @ t = 3 - INFO - # Model initialized with units kcal/mol and temperature 298.15 K\n"
     ]
    },
    {
     "name": "stdout",
     "output_type": "stream",
     "text": [
      "Read LP format model from file C:\\Users\\riheme\\AppData\\Local\\Temp\\tmpqwn5fkbi.lp\n",
      "Reading time = 0.02 seconds\n",
      ": 1807 rows, 5170 columns, 20304 nonzeros\n",
      "Read LP format model from file C:\\Users\\riheme\\AppData\\Local\\Temp\\tmpwe0w42vg.lp\n",
      "Reading time = 0.02 seconds\n",
      ": 1807 rows, 5170 columns, 20304 nonzeros\n"
     ]
    },
    {
     "name": "stderr",
     "output_type": "stream",
     "text": [
      "2020-11-19 00:48:09,197 - thermomodel_Ecoli GLCptspp (Glc) 3 @ t = 3 - INFO - # Model initialized with units kcal/mol and temperature 298.15 K\n",
      "2020-11-19 00:48:18,142 - thermomodel_Ecoli GLCptspp (Glc) 3 @ t = 3 - INFO - Adding slack constraints\n",
      "adding slacks: 100%|███████████████████████████████████████████████████████████████| 1824/1824 [00:35<00:00, 51.00it/s]\n",
      "2020-11-19 00:48:55,517 - thermomodel_Ecoli GLCptspp (Glc) 3 @ t = 3 - INFO - Optimizing slack model\n",
      "2020-11-19 00:48:59,344 - thermomodel_Ecoli GLCptspp (Glc) 3 @ t = 3 - INFO - Extracting relaxation\n",
      "applying slack: 100%|███████████████████████████████████████████████████████████| 2585/2585 [00:00<00:00, 55180.35it/s]\n",
      "2020-11-19 00:48:59,478 - thermomodel_Ecoli GLCptspp (Glc) 3 @ t = 3 - INFO - Testing relaxation\n"
     ]
    },
    {
     "name": "stdout",
     "output_type": "stream",
     "text": [
      "################################################################################\n",
      "Ecoli GLCptspp (Glc) 3 @ t = 4\n",
      "(22.39 min)\n",
      "################################################################################\n",
      "Read LP format model from file C:\\Users\\riheme\\AppData\\Local\\Temp\\tmp50iedj20.lp\n",
      "Reading time = 0.02 seconds\n",
      ": 1807 rows, 5170 columns, 20334 nonzeros\n",
      "Read LP format model from file C:\\Users\\riheme\\AppData\\Local\\Temp\\tmpzacnyeki.lp\n",
      "Reading time = 0.02 seconds\n",
      ": 1807 rows, 5170 columns, 20334 nonzeros\n"
     ]
    },
    {
     "name": "stderr",
     "output_type": "stream",
     "text": [
      "2020-11-19 00:49:14,063 - thermomodel_None - INFO - # Model initialized with units kcal/mol and temperature 298.15 K\n",
      "2020-11-19 00:49:14,073 - thermomodel_None - INFO - # Model preparation starting...\n",
      "2020-11-19 00:49:16,356 - thermomodel_None - WARNING - Warning : NULL/U\n",
      "2020-11-19 00:49:16,364 - thermomodel_None - WARNING - Warning : NULL/L\n",
      "2020-11-19 00:49:16,364 - thermomodel_None - WARNING - Warning : NULL/L\n",
      "2020-11-19 00:49:16,366 - thermomodel_None - WARNING - Warning : NULL/U\n",
      "2020-11-19 00:49:16,366 - thermomodel_None - WARNING - Warning : NULL/L\n",
      "2020-11-19 00:49:16,366 - thermomodel_None - WARNING - Warning : NULL/L\n",
      "2020-11-19 00:49:16,566 - thermomodel_None - WARNING - Warning : NULL/U\n",
      "2020-11-19 00:49:16,566 - thermomodel_None - WARNING - Warning : NULL/L\n",
      "2020-11-19 00:49:16,566 - thermomodel_None - WARNING - Warning : NULL/L\n",
      "2020-11-19 00:49:16,581 - thermomodel_None - WARNING - Warning : NULL/U\n",
      "2020-11-19 00:49:16,581 - thermomodel_None - WARNING - Warning : NULL/L\n",
      "2020-11-19 00:49:16,581 - thermomodel_None - WARNING - Warning : NULL/L\n",
      "2020-11-19 00:49:16,716 - thermomodel_None - WARNING - Warning : NULL/U\n",
      "2020-11-19 00:49:16,716 - thermomodel_None - WARNING - Warning : NULL/L\n",
      "2020-11-19 00:49:16,716 - thermomodel_None - WARNING - Warning : NULL/L\n",
      "2020-11-19 00:49:16,716 - thermomodel_None - WARNING - Warning : NULL/U\n",
      "2020-11-19 00:49:16,716 - thermomodel_None - WARNING - Warning : NULL/L\n",
      "2020-11-19 00:49:16,716 - thermomodel_None - WARNING - Warning : NULL/L\n",
      "2020-11-19 00:49:16,767 - thermomodel_None - WARNING - Warning : NULL/U\n",
      "2020-11-19 00:49:16,767 - thermomodel_None - WARNING - Warning : NULL/L\n",
      "2020-11-19 00:49:16,767 - thermomodel_None - WARNING - Warning : NULL/L\n",
      "2020-11-19 00:49:16,767 - thermomodel_None - WARNING - Warning : NULL/U\n",
      "2020-11-19 00:49:16,767 - thermomodel_None - WARNING - Warning : NULL/L\n",
      "2020-11-19 00:49:16,783 - thermomodel_None - WARNING - Warning : NULL/L\n",
      "2020-11-19 00:49:16,783 - thermomodel_None - WARNING - Warning : NULL/U\n",
      "2020-11-19 00:49:16,785 - thermomodel_None - WARNING - Warning : NULL/L\n",
      "2020-11-19 00:49:16,785 - thermomodel_None - WARNING - Warning : NULL/L\n",
      "2020-11-19 00:49:16,785 - thermomodel_None - WARNING - Warning : NULL/U\n",
      "2020-11-19 00:49:16,785 - thermomodel_None - WARNING - Warning : NULL/L\n",
      "2020-11-19 00:49:16,785 - thermomodel_None - WARNING - Warning : NULL/L\n",
      "2020-11-19 00:49:16,785 - thermomodel_None - WARNING - Warning : NULL/U\n",
      "2020-11-19 00:49:16,785 - thermomodel_None - WARNING - Warning : NULL/L\n",
      "2020-11-19 00:49:16,785 - thermomodel_None - WARNING - Warning : NULL/L\n",
      "2020-11-19 00:49:16,785 - thermomodel_None - WARNING - Warning : NULL/U\n",
      "2020-11-19 00:49:16,785 - thermomodel_None - WARNING - Warning : NULL/L\n",
      "2020-11-19 00:49:16,785 - thermomodel_None - WARNING - Warning : NULL/L\n",
      "2020-11-19 00:49:16,785 - thermomodel_None - WARNING - Warning : NULL/U\n",
      "2020-11-19 00:49:16,785 - thermomodel_None - WARNING - Warning : NULL/L\n",
      "2020-11-19 00:49:16,785 - thermomodel_None - WARNING - Warning : NULL/L\n",
      "2020-11-19 00:49:16,785 - thermomodel_None - WARNING - Warning : NULL/U\n",
      "2020-11-19 00:49:16,785 - thermomodel_None - WARNING - Warning : NULL/L\n",
      "2020-11-19 00:49:16,785 - thermomodel_None - WARNING - Warning : NULL/L\n",
      "2020-11-19 00:49:16,901 - thermomodel_None - INFO - # Model preparation done.\n",
      "2020-11-19 00:49:16,901 - thermomodel_None - INFO - # Model conversion starting...\n",
      "2020-11-19 00:49:50,692 - thermomodel_None - INFO - # Model conversion done.\n",
      "2020-11-19 00:49:50,692 - thermomodel_None - INFO - # Updating cobra_model variables...\n",
      "2020-11-19 00:49:50,741 - thermomodel_None - INFO - # cobra_model variables are up-to-date\n"
     ]
    },
    {
     "name": "stdout",
     "output_type": "stream",
     "text": [
      "Read LP format model from file C:\\Users\\riheme\\AppData\\Local\\Temp\\tmptwkosljz.lp\n",
      "Reading time = 0.02 seconds\n",
      ": 1807 rows, 5170 columns, 20304 nonzeros\n",
      "Read LP format model from file C:\\Users\\riheme\\AppData\\Local\\Temp\\tmp1sr_dyq9.lp\n",
      "Reading time = 0.02 seconds\n",
      ": 1807 rows, 5170 columns, 20304 nonzeros\n"
     ]
    },
    {
     "name": "stderr",
     "output_type": "stream",
     "text": [
      "2020-11-19 00:50:06,702 - thermomodel_Ecoli GLCptspp (Glc) 3 @ t = 4 - INFO - # Model initialized with units kcal/mol and temperature 298.15 K\n"
     ]
    },
    {
     "name": "stdout",
     "output_type": "stream",
     "text": [
      "Read LP format model from file C:\\Users\\riheme\\AppData\\Local\\Temp\\tmppgo75re9.lp\n",
      "Reading time = 0.02 seconds\n",
      ": 1807 rows, 5170 columns, 20304 nonzeros\n",
      "Read LP format model from file C:\\Users\\riheme\\AppData\\Local\\Temp\\tmpkkjzgfbq.lp\n",
      "Reading time = 0.02 seconds\n",
      ": 1807 rows, 5170 columns, 20304 nonzeros\n"
     ]
    },
    {
     "name": "stderr",
     "output_type": "stream",
     "text": [
      "2020-11-19 00:50:32,117 - thermomodel_Ecoli GLCptspp (Glc) 3 @ t = 4 - INFO - # Model initialized with units kcal/mol and temperature 298.15 K\n",
      "2020-11-19 00:50:41,009 - thermomodel_Ecoli GLCptspp (Glc) 3 @ t = 4 - INFO - Adding slack constraints\n",
      "adding slacks: 100%|███████████████████████████████████████████████████████████████| 1824/1824 [00:35<00:00, 50.74it/s]\n",
      "2020-11-19 00:51:18,538 - thermomodel_Ecoli GLCptspp (Glc) 3 @ t = 4 - INFO - Optimizing slack model\n",
      "2020-11-19 00:51:23,165 - thermomodel_Ecoli GLCptspp (Glc) 3 @ t = 4 - INFO - Extracting relaxation\n",
      "applying slack: 100%|███████████████████████████████████████████████████████████| 2585/2585 [00:00<00:00, 53708.40it/s]\n",
      "2020-11-19 00:51:23,299 - thermomodel_Ecoli GLCptspp (Glc) 3 @ t = 4 - INFO - Testing relaxation\n"
     ]
    },
    {
     "name": "stdout",
     "output_type": "stream",
     "text": [
      "################################################################################\n",
      "Ecoli GLCptspp (Glc) 3 @ t = 11\n",
      "(24.78 min)\n",
      "################################################################################\n",
      "Read LP format model from file C:\\Users\\riheme\\AppData\\Local\\Temp\\tmpfxj7cn1q.lp\n",
      "Reading time = 0.02 seconds\n",
      ": 1807 rows, 5170 columns, 20334 nonzeros\n",
      "Read LP format model from file C:\\Users\\riheme\\AppData\\Local\\Temp\\tmpieiuarm7.lp\n",
      "Reading time = 0.02 seconds\n",
      ": 1807 rows, 5170 columns, 20334 nonzeros\n"
     ]
    },
    {
     "name": "stderr",
     "output_type": "stream",
     "text": [
      "2020-11-19 00:51:37,762 - thermomodel_None - INFO - # Model initialized with units kcal/mol and temperature 298.15 K\n",
      "2020-11-19 00:51:37,770 - thermomodel_None - INFO - # Model preparation starting...\n",
      "2020-11-19 00:51:40,068 - thermomodel_None - WARNING - Warning : NULL/U\n",
      "2020-11-19 00:51:40,076 - thermomodel_None - WARNING - Warning : NULL/L\n",
      "2020-11-19 00:51:40,076 - thermomodel_None - WARNING - Warning : NULL/L\n",
      "2020-11-19 00:51:40,076 - thermomodel_None - WARNING - Warning : NULL/U\n",
      "2020-11-19 00:51:40,076 - thermomodel_None - WARNING - Warning : NULL/L\n",
      "2020-11-19 00:51:40,076 - thermomodel_None - WARNING - Warning : NULL/L\n",
      "2020-11-19 00:51:40,288 - thermomodel_None - WARNING - Warning : NULL/U\n",
      "2020-11-19 00:51:40,288 - thermomodel_None - WARNING - Warning : NULL/L\n",
      "2020-11-19 00:51:40,288 - thermomodel_None - WARNING - Warning : NULL/L\n",
      "2020-11-19 00:51:40,288 - thermomodel_None - WARNING - Warning : NULL/U\n",
      "2020-11-19 00:51:40,288 - thermomodel_None - WARNING - Warning : NULL/L\n",
      "2020-11-19 00:51:40,288 - thermomodel_None - WARNING - Warning : NULL/L\n",
      "2020-11-19 00:51:40,429 - thermomodel_None - WARNING - Warning : NULL/U\n",
      "2020-11-19 00:51:40,429 - thermomodel_None - WARNING - Warning : NULL/L\n",
      "2020-11-19 00:51:40,429 - thermomodel_None - WARNING - Warning : NULL/L\n",
      "2020-11-19 00:51:40,429 - thermomodel_None - WARNING - Warning : NULL/U\n",
      "2020-11-19 00:51:40,429 - thermomodel_None - WARNING - Warning : NULL/L\n",
      "2020-11-19 00:51:40,429 - thermomodel_None - WARNING - Warning : NULL/L\n",
      "2020-11-19 00:51:40,476 - thermomodel_None - WARNING - Warning : NULL/U\n",
      "2020-11-19 00:51:40,476 - thermomodel_None - WARNING - Warning : NULL/L\n",
      "2020-11-19 00:51:40,476 - thermomodel_None - WARNING - Warning : NULL/L\n",
      "2020-11-19 00:51:40,476 - thermomodel_None - WARNING - Warning : NULL/U\n",
      "2020-11-19 00:51:40,476 - thermomodel_None - WARNING - Warning : NULL/L\n",
      "2020-11-19 00:51:40,476 - thermomodel_None - WARNING - Warning : NULL/L\n",
      "2020-11-19 00:51:40,476 - thermomodel_None - WARNING - Warning : NULL/U\n",
      "2020-11-19 00:51:40,476 - thermomodel_None - WARNING - Warning : NULL/L\n",
      "2020-11-19 00:51:40,492 - thermomodel_None - WARNING - Warning : NULL/L\n",
      "2020-11-19 00:51:40,492 - thermomodel_None - WARNING - Warning : NULL/U\n",
      "2020-11-19 00:51:40,492 - thermomodel_None - WARNING - Warning : NULL/L\n",
      "2020-11-19 00:51:40,492 - thermomodel_None - WARNING - Warning : NULL/L\n",
      "2020-11-19 00:51:40,492 - thermomodel_None - WARNING - Warning : NULL/U\n",
      "2020-11-19 00:51:40,492 - thermomodel_None - WARNING - Warning : NULL/L\n",
      "2020-11-19 00:51:40,492 - thermomodel_None - WARNING - Warning : NULL/L\n",
      "2020-11-19 00:51:40,492 - thermomodel_None - WARNING - Warning : NULL/U\n",
      "2020-11-19 00:51:40,492 - thermomodel_None - WARNING - Warning : NULL/L\n",
      "2020-11-19 00:51:40,492 - thermomodel_None - WARNING - Warning : NULL/L\n",
      "2020-11-19 00:51:40,492 - thermomodel_None - WARNING - Warning : NULL/U\n",
      "2020-11-19 00:51:40,498 - thermomodel_None - WARNING - Warning : NULL/L\n",
      "2020-11-19 00:51:40,498 - thermomodel_None - WARNING - Warning : NULL/L\n",
      "2020-11-19 00:51:40,498 - thermomodel_None - WARNING - Warning : NULL/U\n",
      "2020-11-19 00:51:40,498 - thermomodel_None - WARNING - Warning : NULL/L\n",
      "2020-11-19 00:51:40,498 - thermomodel_None - WARNING - Warning : NULL/L\n",
      "2020-11-19 00:51:40,599 - thermomodel_None - INFO - # Model preparation done.\n",
      "2020-11-19 00:51:40,599 - thermomodel_None - INFO - # Model conversion starting...\n",
      "2020-11-19 00:52:14,270 - thermomodel_None - INFO - # Model conversion done.\n",
      "2020-11-19 00:52:14,270 - thermomodel_None - INFO - # Updating cobra_model variables...\n",
      "2020-11-19 00:52:14,319 - thermomodel_None - INFO - # cobra_model variables are up-to-date\n"
     ]
    },
    {
     "name": "stdout",
     "output_type": "stream",
     "text": [
      "Read LP format model from file C:\\Users\\riheme\\AppData\\Local\\Temp\\tmp9r0tmuwj.lp\n",
      "Reading time = 0.02 seconds\n",
      ": 1807 rows, 5170 columns, 20304 nonzeros\n",
      "Read LP format model from file C:\\Users\\riheme\\AppData\\Local\\Temp\\tmp5o0vwlg6.lp\n",
      "Reading time = 0.02 seconds\n",
      ": 1807 rows, 5170 columns, 20304 nonzeros\n"
     ]
    },
    {
     "name": "stderr",
     "output_type": "stream",
     "text": [
      "2020-11-19 00:52:30,624 - thermomodel_Ecoli GLCptspp (Glc) 3 @ t = 11 - INFO - # Model initialized with units kcal/mol and temperature 298.15 K\n"
     ]
    },
    {
     "name": "stdout",
     "output_type": "stream",
     "text": [
      "Read LP format model from file C:\\Users\\riheme\\AppData\\Local\\Temp\\tmp99ls53mh.lp\n",
      "Reading time = 0.02 seconds\n",
      ": 1807 rows, 5170 columns, 20304 nonzeros\n",
      "Read LP format model from file C:\\Users\\riheme\\AppData\\Local\\Temp\\tmppax2l647.lp\n",
      "Reading time = 0.02 seconds\n",
      ": 1807 rows, 5170 columns, 20304 nonzeros\n"
     ]
    },
    {
     "name": "stderr",
     "output_type": "stream",
     "text": [
      "2020-11-19 00:52:55,861 - thermomodel_Ecoli GLCptspp (Glc) 3 @ t = 11 - INFO - # Model initialized with units kcal/mol and temperature 298.15 K\n",
      "2020-11-19 00:53:04,693 - thermomodel_Ecoli GLCptspp (Glc) 3 @ t = 11 - INFO - Adding slack constraints\n",
      "adding slacks: 100%|███████████████████████████████████████████████████████████████| 1824/1824 [00:35<00:00, 51.23it/s]\n",
      "2020-11-19 00:53:41,897 - thermomodel_Ecoli GLCptspp (Glc) 3 @ t = 11 - INFO - Optimizing slack model\n",
      "2020-11-19 00:53:47,218 - thermomodel_Ecoli GLCptspp (Glc) 3 @ t = 11 - INFO - Extracting relaxation\n",
      "applying slack: 100%|███████████████████████████████████████████████████████████| 2585/2585 [00:00<00:00, 49290.24it/s]\n",
      "2020-11-19 00:53:47,361 - thermomodel_Ecoli GLCptspp (Glc) 3 @ t = 11 - INFO - Testing relaxation\n"
     ]
    },
    {
     "name": "stdout",
     "output_type": "stream",
     "text": [
      "################################################################################\n",
      "Ecoli GLCptspp (Glc) 4 @ t = 1\n",
      "(27.19 min)\n",
      "################################################################################\n",
      "Read LP format model from file C:\\Users\\riheme\\AppData\\Local\\Temp\\tmpcj0bke6p.lp\n",
      "Reading time = 0.02 seconds\n",
      ": 1807 rows, 5170 columns, 20334 nonzeros\n",
      "Read LP format model from file C:\\Users\\riheme\\AppData\\Local\\Temp\\tmpz737z9yr.lp\n",
      "Reading time = 0.02 seconds\n",
      ": 1807 rows, 5170 columns, 20334 nonzeros\n"
     ]
    },
    {
     "name": "stderr",
     "output_type": "stream",
     "text": [
      "2020-11-19 00:54:02,133 - thermomodel_None - INFO - # Model initialized with units kcal/mol and temperature 298.15 K\n",
      "2020-11-19 00:54:02,141 - thermomodel_None - INFO - # Model preparation starting...\n",
      "2020-11-19 00:54:04,398 - thermomodel_None - WARNING - Warning : NULL/U\n",
      "2020-11-19 00:54:04,406 - thermomodel_None - WARNING - Warning : NULL/L\n",
      "2020-11-19 00:54:04,406 - thermomodel_None - WARNING - Warning : NULL/L\n",
      "2020-11-19 00:54:04,406 - thermomodel_None - WARNING - Warning : NULL/U\n",
      "2020-11-19 00:54:04,406 - thermomodel_None - WARNING - Warning : NULL/L\n",
      "2020-11-19 00:54:04,406 - thermomodel_None - WARNING - Warning : NULL/L\n",
      "2020-11-19 00:54:04,617 - thermomodel_None - WARNING - Warning : NULL/U\n",
      "2020-11-19 00:54:04,617 - thermomodel_None - WARNING - Warning : NULL/L\n",
      "2020-11-19 00:54:04,617 - thermomodel_None - WARNING - Warning : NULL/L\n",
      "2020-11-19 00:54:04,617 - thermomodel_None - WARNING - Warning : NULL/U\n",
      "2020-11-19 00:54:04,617 - thermomodel_None - WARNING - Warning : NULL/L\n",
      "2020-11-19 00:54:04,617 - thermomodel_None - WARNING - Warning : NULL/L\n",
      "2020-11-19 00:54:04,748 - thermomodel_None - WARNING - Warning : NULL/U\n",
      "2020-11-19 00:54:04,748 - thermomodel_None - WARNING - Warning : NULL/L\n",
      "2020-11-19 00:54:04,748 - thermomodel_None - WARNING - Warning : NULL/L\n",
      "2020-11-19 00:54:04,748 - thermomodel_None - WARNING - Warning : NULL/U\n",
      "2020-11-19 00:54:04,748 - thermomodel_None - WARNING - Warning : NULL/L\n",
      "2020-11-19 00:54:04,748 - thermomodel_None - WARNING - Warning : NULL/L\n",
      "2020-11-19 00:54:04,817 - thermomodel_None - WARNING - Warning : NULL/U\n",
      "2020-11-19 00:54:04,817 - thermomodel_None - WARNING - Warning : NULL/L\n",
      "2020-11-19 00:54:04,817 - thermomodel_None - WARNING - Warning : NULL/L\n",
      "2020-11-19 00:54:04,817 - thermomodel_None - WARNING - Warning : NULL/U\n",
      "2020-11-19 00:54:04,817 - thermomodel_None - WARNING - Warning : NULL/L\n",
      "2020-11-19 00:54:04,817 - thermomodel_None - WARNING - Warning : NULL/L\n",
      "2020-11-19 00:54:04,817 - thermomodel_None - WARNING - Warning : NULL/U\n",
      "2020-11-19 00:54:04,817 - thermomodel_None - WARNING - Warning : NULL/L\n",
      "2020-11-19 00:54:04,817 - thermomodel_None - WARNING - Warning : NULL/L\n",
      "2020-11-19 00:54:04,817 - thermomodel_None - WARNING - Warning : NULL/U\n",
      "2020-11-19 00:54:04,817 - thermomodel_None - WARNING - Warning : NULL/L\n",
      "2020-11-19 00:54:04,817 - thermomodel_None - WARNING - Warning : NULL/L\n",
      "2020-11-19 00:54:04,817 - thermomodel_None - WARNING - Warning : NULL/U\n",
      "2020-11-19 00:54:04,817 - thermomodel_None - WARNING - Warning : NULL/L\n",
      "2020-11-19 00:54:04,817 - thermomodel_None - WARNING - Warning : NULL/L\n",
      "2020-11-19 00:54:04,817 - thermomodel_None - WARNING - Warning : NULL/U\n",
      "2020-11-19 00:54:04,817 - thermomodel_None - WARNING - Warning : NULL/L\n",
      "2020-11-19 00:54:04,817 - thermomodel_None - WARNING - Warning : NULL/L\n",
      "2020-11-19 00:54:04,817 - thermomodel_None - WARNING - Warning : NULL/U\n",
      "2020-11-19 00:54:04,833 - thermomodel_None - WARNING - Warning : NULL/L\n",
      "2020-11-19 00:54:04,833 - thermomodel_None - WARNING - Warning : NULL/L\n",
      "2020-11-19 00:54:04,833 - thermomodel_None - WARNING - Warning : NULL/U\n",
      "2020-11-19 00:54:04,833 - thermomodel_None - WARNING - Warning : NULL/L\n",
      "2020-11-19 00:54:04,833 - thermomodel_None - WARNING - Warning : NULL/L\n",
      "2020-11-19 00:54:04,933 - thermomodel_None - INFO - # Model preparation done.\n",
      "2020-11-19 00:54:04,933 - thermomodel_None - INFO - # Model conversion starting...\n",
      "2020-11-19 00:54:38,431 - thermomodel_None - INFO - # Model conversion done.\n",
      "2020-11-19 00:54:38,439 - thermomodel_None - INFO - # Updating cobra_model variables...\n",
      "2020-11-19 00:54:38,481 - thermomodel_None - INFO - # cobra_model variables are up-to-date\n"
     ]
    },
    {
     "name": "stdout",
     "output_type": "stream",
     "text": [
      "Read LP format model from file C:\\Users\\riheme\\AppData\\Local\\Temp\\tmpjceo1bpw.lp\n",
      "Reading time = 0.02 seconds\n",
      ": 1807 rows, 5170 columns, 20304 nonzeros\n",
      "Read LP format model from file C:\\Users\\riheme\\AppData\\Local\\Temp\\tmpbrhqcewj.lp\n",
      "Reading time = 0.02 seconds\n",
      ": 1807 rows, 5170 columns, 20304 nonzeros\n"
     ]
    },
    {
     "name": "stderr",
     "output_type": "stream",
     "text": [
      "2020-11-19 00:54:54,824 - thermomodel_Ecoli GLCptspp (Glc) 4 @ t = 1 - INFO - # Model initialized with units kcal/mol and temperature 298.15 K\n"
     ]
    },
    {
     "name": "stdout",
     "output_type": "stream",
     "text": [
      "Read LP format model from file C:\\Users\\riheme\\AppData\\Local\\Temp\\tmpo7eaiarc.lp\n",
      "Reading time = 0.02 seconds\n",
      ": 1807 rows, 5170 columns, 20304 nonzeros\n",
      "Read LP format model from file C:\\Users\\riheme\\AppData\\Local\\Temp\\tmpr8hd7sbl.lp\n",
      "Reading time = 0.02 seconds\n",
      ": 1807 rows, 5170 columns, 20304 nonzeros\n"
     ]
    },
    {
     "name": "stderr",
     "output_type": "stream",
     "text": [
      "2020-11-19 00:55:19,991 - thermomodel_Ecoli GLCptspp (Glc) 4 @ t = 1 - INFO - # Model initialized with units kcal/mol and temperature 298.15 K\n",
      "2020-11-19 00:55:28,882 - thermomodel_Ecoli GLCptspp (Glc) 4 @ t = 1 - INFO - Adding slack constraints\n",
      "adding slacks: 100%|███████████████████████████████████████████████████████████████| 1824/1824 [00:34<00:00, 52.82it/s]\n",
      "2020-11-19 00:56:04,988 - thermomodel_Ecoli GLCptspp (Glc) 4 @ t = 1 - INFO - Optimizing slack model\n",
      "2020-11-19 00:56:08,399 - thermomodel_Ecoli GLCptspp (Glc) 4 @ t = 1 - INFO - Extracting relaxation\n",
      "applying slack: 100%|███████████████████████████████████████████████████████████| 2585/2585 [00:00<00:00, 55178.10it/s]\n",
      "2020-11-19 00:56:08,533 - thermomodel_Ecoli GLCptspp (Glc) 4 @ t = 1 - INFO - Testing relaxation\n"
     ]
    },
    {
     "name": "stdout",
     "output_type": "stream",
     "text": [
      "################################################################################\n",
      "Ecoli GLCptspp (Glc) 4 @ t = 3\n",
      "(29.54 min)\n",
      "################################################################################\n",
      "Read LP format model from file C:\\Users\\riheme\\AppData\\Local\\Temp\\tmp8ychdll7.lp\n",
      "Reading time = 0.02 seconds\n",
      ": 1807 rows, 5170 columns, 20334 nonzeros\n",
      "Read LP format model from file C:\\Users\\riheme\\AppData\\Local\\Temp\\tmp64wgnje6.lp\n",
      "Reading time = 0.02 seconds\n",
      ": 1807 rows, 5170 columns, 20334 nonzeros\n"
     ]
    },
    {
     "name": "stderr",
     "output_type": "stream",
     "text": [
      "2020-11-19 00:56:23,088 - thermomodel_None - INFO - # Model initialized with units kcal/mol and temperature 298.15 K\n",
      "2020-11-19 00:56:23,096 - thermomodel_None - INFO - # Model preparation starting...\n",
      "2020-11-19 00:56:25,386 - thermomodel_None - WARNING - Warning : NULL/U\n",
      "2020-11-19 00:56:25,386 - thermomodel_None - WARNING - Warning : NULL/L\n",
      "2020-11-19 00:56:25,386 - thermomodel_None - WARNING - Warning : NULL/L\n",
      "2020-11-19 00:56:25,386 - thermomodel_None - WARNING - Warning : NULL/U\n",
      "2020-11-19 00:56:25,386 - thermomodel_None - WARNING - Warning : NULL/L\n",
      "2020-11-19 00:56:25,386 - thermomodel_None - WARNING - Warning : NULL/L\n",
      "2020-11-19 00:56:25,598 - thermomodel_None - WARNING - Warning : NULL/U\n",
      "2020-11-19 00:56:25,598 - thermomodel_None - WARNING - Warning : NULL/L\n",
      "2020-11-19 00:56:25,598 - thermomodel_None - WARNING - Warning : NULL/L\n",
      "2020-11-19 00:56:25,598 - thermomodel_None - WARNING - Warning : NULL/U\n",
      "2020-11-19 00:56:25,598 - thermomodel_None - WARNING - Warning : NULL/L\n",
      "2020-11-19 00:56:25,598 - thermomodel_None - WARNING - Warning : NULL/L\n",
      "2020-11-19 00:56:25,736 - thermomodel_None - WARNING - Warning : NULL/U\n",
      "2020-11-19 00:56:25,736 - thermomodel_None - WARNING - Warning : NULL/L\n",
      "2020-11-19 00:56:25,736 - thermomodel_None - WARNING - Warning : NULL/L\n",
      "2020-11-19 00:56:25,736 - thermomodel_None - WARNING - Warning : NULL/U\n",
      "2020-11-19 00:56:25,736 - thermomodel_None - WARNING - Warning : NULL/L\n",
      "2020-11-19 00:56:25,736 - thermomodel_None - WARNING - Warning : NULL/L\n",
      "2020-11-19 00:56:25,798 - thermomodel_None - WARNING - Warning : NULL/U\n",
      "2020-11-19 00:56:25,798 - thermomodel_None - WARNING - Warning : NULL/L\n",
      "2020-11-19 00:56:25,798 - thermomodel_None - WARNING - Warning : NULL/L\n",
      "2020-11-19 00:56:25,798 - thermomodel_None - WARNING - Warning : NULL/U\n",
      "2020-11-19 00:56:25,798 - thermomodel_None - WARNING - Warning : NULL/L\n",
      "2020-11-19 00:56:25,798 - thermomodel_None - WARNING - Warning : NULL/L\n",
      "2020-11-19 00:56:25,798 - thermomodel_None - WARNING - Warning : NULL/U\n",
      "2020-11-19 00:56:25,805 - thermomodel_None - WARNING - Warning : NULL/L\n",
      "2020-11-19 00:56:25,805 - thermomodel_None - WARNING - Warning : NULL/L\n",
      "2020-11-19 00:56:25,805 - thermomodel_None - WARNING - Warning : NULL/U\n",
      "2020-11-19 00:56:25,805 - thermomodel_None - WARNING - Warning : NULL/L\n",
      "2020-11-19 00:56:25,805 - thermomodel_None - WARNING - Warning : NULL/L\n",
      "2020-11-19 00:56:25,805 - thermomodel_None - WARNING - Warning : NULL/U\n",
      "2020-11-19 00:56:25,805 - thermomodel_None - WARNING - Warning : NULL/L\n",
      "2020-11-19 00:56:25,805 - thermomodel_None - WARNING - Warning : NULL/L\n",
      "2020-11-19 00:56:25,805 - thermomodel_None - WARNING - Warning : NULL/U\n",
      "2020-11-19 00:56:25,805 - thermomodel_None - WARNING - Warning : NULL/L\n",
      "2020-11-19 00:56:25,805 - thermomodel_None - WARNING - Warning : NULL/L\n",
      "2020-11-19 00:56:25,805 - thermomodel_None - WARNING - Warning : NULL/U\n",
      "2020-11-19 00:56:25,805 - thermomodel_None - WARNING - Warning : NULL/L\n",
      "2020-11-19 00:56:25,805 - thermomodel_None - WARNING - Warning : NULL/L\n",
      "2020-11-19 00:56:25,805 - thermomodel_None - WARNING - Warning : NULL/U\n",
      "2020-11-19 00:56:25,805 - thermomodel_None - WARNING - Warning : NULL/L\n",
      "2020-11-19 00:56:25,805 - thermomodel_None - WARNING - Warning : NULL/L\n",
      "2020-11-19 00:56:25,921 - thermomodel_None - INFO - # Model preparation done.\n",
      "2020-11-19 00:56:25,921 - thermomodel_None - INFO - # Model conversion starting...\n",
      "2020-11-19 00:56:59,331 - thermomodel_None - INFO - # Model conversion done.\n",
      "2020-11-19 00:56:59,331 - thermomodel_None - INFO - # Updating cobra_model variables...\n",
      "2020-11-19 00:56:59,372 - thermomodel_None - INFO - # cobra_model variables are up-to-date\n"
     ]
    },
    {
     "name": "stdout",
     "output_type": "stream",
     "text": [
      "Read LP format model from file C:\\Users\\riheme\\AppData\\Local\\Temp\\tmpr230ju1k.lp\n",
      "Reading time = 0.02 seconds\n",
      ": 1807 rows, 5170 columns, 20304 nonzeros\n",
      "Read LP format model from file C:\\Users\\riheme\\AppData\\Local\\Temp\\tmp0szdcwin.lp\n",
      "Reading time = 0.02 seconds\n",
      ": 1807 rows, 5170 columns, 20304 nonzeros\n"
     ]
    },
    {
     "name": "stderr",
     "output_type": "stream",
     "text": [
      "2020-11-19 00:57:15,385 - thermomodel_Ecoli GLCptspp (Glc) 4 @ t = 3 - INFO - # Model initialized with units kcal/mol and temperature 298.15 K\n"
     ]
    },
    {
     "name": "stdout",
     "output_type": "stream",
     "text": [
      "Read LP format model from file C:\\Users\\riheme\\AppData\\Local\\Temp\\tmpr5_wjm1b.lp\n",
      "Reading time = 0.02 seconds\n",
      ": 1807 rows, 5170 columns, 20304 nonzeros\n",
      "Read LP format model from file C:\\Users\\riheme\\AppData\\Local\\Temp\\tmph7dd0kwy.lp\n",
      "Reading time = 0.02 seconds\n",
      ": 1807 rows, 5170 columns, 20304 nonzeros\n"
     ]
    },
    {
     "name": "stderr",
     "output_type": "stream",
     "text": [
      "2020-11-19 00:57:40,846 - thermomodel_Ecoli GLCptspp (Glc) 4 @ t = 3 - INFO - # Model initialized with units kcal/mol and temperature 298.15 K\n",
      "2020-11-19 00:57:49,775 - thermomodel_Ecoli GLCptspp (Glc) 4 @ t = 3 - INFO - Adding slack constraints\n",
      "adding slacks: 100%|███████████████████████████████████████████████████████████████| 1824/1824 [00:35<00:00, 50.72it/s]\n",
      "2020-11-19 00:58:27,311 - thermomodel_Ecoli GLCptspp (Glc) 4 @ t = 3 - INFO - Optimizing slack model\n",
      "2020-11-19 00:58:31,730 - thermomodel_Ecoli GLCptspp (Glc) 4 @ t = 3 - INFO - Extracting relaxation\n",
      "applying slack: 100%|███████████████████████████████████████████████████████████| 2585/2585 [00:00<00:00, 53000.32it/s]\n",
      "2020-11-19 00:58:31,870 - thermomodel_Ecoli GLCptspp (Glc) 4 @ t = 3 - INFO - Testing relaxation\n"
     ]
    },
    {
     "name": "stdout",
     "output_type": "stream",
     "text": [
      "################################################################################\n",
      "Ecoli GLCptspp (Glc) 4 @ t = 4\n",
      "(31.93 min)\n",
      "################################################################################\n",
      "Read LP format model from file C:\\Users\\riheme\\AppData\\Local\\Temp\\tmpx2g7v62e.lp\n",
      "Reading time = 0.02 seconds\n",
      ": 1807 rows, 5170 columns, 20334 nonzeros\n",
      "Read LP format model from file C:\\Users\\riheme\\AppData\\Local\\Temp\\tmpqz4d4ucv.lp\n",
      "Reading time = 0.02 seconds\n",
      ": 1807 rows, 5170 columns, 20334 nonzeros\n"
     ]
    },
    {
     "name": "stderr",
     "output_type": "stream",
     "text": [
      "2020-11-19 00:58:46,492 - thermomodel_None - INFO - # Model initialized with units kcal/mol and temperature 298.15 K\n",
      "2020-11-19 00:58:46,502 - thermomodel_None - INFO - # Model preparation starting...\n",
      "2020-11-19 00:58:48,853 - thermomodel_None - WARNING - Warning : NULL/U\n",
      "2020-11-19 00:58:48,853 - thermomodel_None - WARNING - Warning : NULL/L\n",
      "2020-11-19 00:58:48,853 - thermomodel_None - WARNING - Warning : NULL/L\n",
      "2020-11-19 00:58:48,853 - thermomodel_None - WARNING - Warning : NULL/U\n",
      "2020-11-19 00:58:48,853 - thermomodel_None - WARNING - Warning : NULL/L\n",
      "2020-11-19 00:58:48,853 - thermomodel_None - WARNING - Warning : NULL/L\n",
      "2020-11-19 00:58:49,067 - thermomodel_None - WARNING - Warning : NULL/U\n",
      "2020-11-19 00:58:49,067 - thermomodel_None - WARNING - Warning : NULL/L\n",
      "2020-11-19 00:58:49,067 - thermomodel_None - WARNING - Warning : NULL/L\n",
      "2020-11-19 00:58:49,075 - thermomodel_None - WARNING - Warning : NULL/U\n",
      "2020-11-19 00:58:49,075 - thermomodel_None - WARNING - Warning : NULL/L\n",
      "2020-11-19 00:58:49,075 - thermomodel_None - WARNING - Warning : NULL/L\n",
      "2020-11-19 00:58:49,218 - thermomodel_None - WARNING - Warning : NULL/U\n",
      "2020-11-19 00:58:49,218 - thermomodel_None - WARNING - Warning : NULL/L\n",
      "2020-11-19 00:58:49,218 - thermomodel_None - WARNING - Warning : NULL/L\n",
      "2020-11-19 00:58:49,218 - thermomodel_None - WARNING - Warning : NULL/U\n",
      "2020-11-19 00:58:49,218 - thermomodel_None - WARNING - Warning : NULL/L\n",
      "2020-11-19 00:58:49,218 - thermomodel_None - WARNING - Warning : NULL/L\n",
      "2020-11-19 00:58:49,269 - thermomodel_None - WARNING - Warning : NULL/U\n",
      "2020-11-19 00:58:49,269 - thermomodel_None - WARNING - Warning : NULL/L\n",
      "2020-11-19 00:58:49,277 - thermomodel_None - WARNING - Warning : NULL/L\n",
      "2020-11-19 00:58:49,277 - thermomodel_None - WARNING - Warning : NULL/U\n",
      "2020-11-19 00:58:49,277 - thermomodel_None - WARNING - Warning : NULL/L\n",
      "2020-11-19 00:58:49,277 - thermomodel_None - WARNING - Warning : NULL/L\n",
      "2020-11-19 00:58:49,277 - thermomodel_None - WARNING - Warning : NULL/U\n",
      "2020-11-19 00:58:49,277 - thermomodel_None - WARNING - Warning : NULL/L\n",
      "2020-11-19 00:58:49,277 - thermomodel_None - WARNING - Warning : NULL/L\n",
      "2020-11-19 00:58:49,277 - thermomodel_None - WARNING - Warning : NULL/U\n",
      "2020-11-19 00:58:49,277 - thermomodel_None - WARNING - Warning : NULL/L\n",
      "2020-11-19 00:58:49,277 - thermomodel_None - WARNING - Warning : NULL/L\n",
      "2020-11-19 00:58:49,277 - thermomodel_None - WARNING - Warning : NULL/U\n",
      "2020-11-19 00:58:49,277 - thermomodel_None - WARNING - Warning : NULL/L\n",
      "2020-11-19 00:58:49,277 - thermomodel_None - WARNING - Warning : NULL/L\n",
      "2020-11-19 00:58:49,277 - thermomodel_None - WARNING - Warning : NULL/U\n",
      "2020-11-19 00:58:49,277 - thermomodel_None - WARNING - Warning : NULL/L\n",
      "2020-11-19 00:58:49,277 - thermomodel_None - WARNING - Warning : NULL/L\n",
      "2020-11-19 00:58:49,287 - thermomodel_None - WARNING - Warning : NULL/U\n",
      "2020-11-19 00:58:49,287 - thermomodel_None - WARNING - Warning : NULL/L\n",
      "2020-11-19 00:58:49,287 - thermomodel_None - WARNING - Warning : NULL/L\n",
      "2020-11-19 00:58:49,287 - thermomodel_None - WARNING - Warning : NULL/U\n",
      "2020-11-19 00:58:49,289 - thermomodel_None - WARNING - Warning : NULL/L\n",
      "2020-11-19 00:58:49,289 - thermomodel_None - WARNING - Warning : NULL/L\n",
      "2020-11-19 00:58:49,400 - thermomodel_None - INFO - # Model preparation done.\n",
      "2020-11-19 00:58:49,400 - thermomodel_None - INFO - # Model conversion starting...\n",
      "2020-11-19 00:59:23,317 - thermomodel_None - INFO - # Model conversion done.\n",
      "2020-11-19 00:59:23,317 - thermomodel_None - INFO - # Updating cobra_model variables...\n",
      "2020-11-19 00:59:23,365 - thermomodel_None - INFO - # cobra_model variables are up-to-date\n"
     ]
    },
    {
     "name": "stdout",
     "output_type": "stream",
     "text": [
      "Read LP format model from file C:\\Users\\riheme\\AppData\\Local\\Temp\\tmpyi33qe5s.lp\n",
      "Reading time = 0.02 seconds\n",
      ": 1807 rows, 5170 columns, 20304 nonzeros\n",
      "Read LP format model from file C:\\Users\\riheme\\AppData\\Local\\Temp\\tmp9hp0u_l0.lp\n",
      "Reading time = 0.02 seconds\n",
      ": 1807 rows, 5170 columns, 20304 nonzeros\n"
     ]
    },
    {
     "name": "stderr",
     "output_type": "stream",
     "text": [
      "2020-11-19 00:59:39,358 - thermomodel_Ecoli GLCptspp (Glc) 4 @ t = 4 - INFO - # Model initialized with units kcal/mol and temperature 298.15 K\n"
     ]
    },
    {
     "name": "stdout",
     "output_type": "stream",
     "text": [
      "Read LP format model from file C:\\Users\\riheme\\AppData\\Local\\Temp\\tmpkgjr7vod.lp\n",
      "Reading time = 0.02 seconds\n",
      ": 1807 rows, 5170 columns, 20304 nonzeros\n",
      "Read LP format model from file C:\\Users\\riheme\\AppData\\Local\\Temp\\tmpq7_pw4c0.lp\n",
      "Reading time = 0.02 seconds\n",
      ": 1807 rows, 5170 columns, 20304 nonzeros\n"
     ]
    },
    {
     "name": "stderr",
     "output_type": "stream",
     "text": [
      "2020-11-19 01:00:04,969 - thermomodel_Ecoli GLCptspp (Glc) 4 @ t = 4 - INFO - # Model initialized with units kcal/mol and temperature 298.15 K\n",
      "2020-11-19 01:00:13,870 - thermomodel_Ecoli GLCptspp (Glc) 4 @ t = 4 - INFO - Adding slack constraints\n",
      "adding slacks: 100%|███████████████████████████████████████████████████████████████| 1824/1824 [00:36<00:00, 50.57it/s]\n",
      "2020-11-19 01:00:51,522 - thermomodel_Ecoli GLCptspp (Glc) 4 @ t = 4 - INFO - Optimizing slack model\n",
      "2020-11-19 01:00:54,158 - thermomodel_Ecoli GLCptspp (Glc) 4 @ t = 4 - INFO - Extracting relaxation\n",
      "applying slack: 100%|███████████████████████████████████████████████████████████| 2585/2585 [00:00<00:00, 49003.75it/s]\n",
      "2020-11-19 01:00:54,293 - thermomodel_Ecoli GLCptspp (Glc) 4 @ t = 4 - INFO - Testing relaxation\n"
     ]
    },
    {
     "name": "stdout",
     "output_type": "stream",
     "text": [
      "################################################################################\n",
      "Ecoli GLCptspp (Glc) 4 @ t = 11\n",
      "(34.30 min)\n",
      "################################################################################\n",
      "Read LP format model from file C:\\Users\\riheme\\AppData\\Local\\Temp\\tmp1pql3tae.lp\n",
      "Reading time = 0.02 seconds\n",
      ": 1807 rows, 5170 columns, 20334 nonzeros\n",
      "Read LP format model from file C:\\Users\\riheme\\AppData\\Local\\Temp\\tmp63_c72dl.lp\n",
      "Reading time = 0.02 seconds\n",
      ": 1807 rows, 5170 columns, 20334 nonzeros\n"
     ]
    },
    {
     "name": "stderr",
     "output_type": "stream",
     "text": [
      "2020-11-19 01:01:08,858 - thermomodel_None - INFO - # Model initialized with units kcal/mol and temperature 298.15 K\n",
      "2020-11-19 01:01:08,866 - thermomodel_None - INFO - # Model preparation starting...\n",
      "2020-11-19 01:01:11,146 - thermomodel_None - WARNING - Warning : NULL/U\n",
      "2020-11-19 01:01:11,146 - thermomodel_None - WARNING - Warning : NULL/L\n",
      "2020-11-19 01:01:11,146 - thermomodel_None - WARNING - Warning : NULL/L\n",
      "2020-11-19 01:01:11,154 - thermomodel_None - WARNING - Warning : NULL/U\n",
      "2020-11-19 01:01:11,154 - thermomodel_None - WARNING - Warning : NULL/L\n",
      "2020-11-19 01:01:11,154 - thermomodel_None - WARNING - Warning : NULL/L\n",
      "2020-11-19 01:01:11,366 - thermomodel_None - WARNING - Warning : NULL/U\n",
      "2020-11-19 01:01:11,366 - thermomodel_None - WARNING - Warning : NULL/L\n",
      "2020-11-19 01:01:11,366 - thermomodel_None - WARNING - Warning : NULL/L\n",
      "2020-11-19 01:01:11,366 - thermomodel_None - WARNING - Warning : NULL/U\n",
      "2020-11-19 01:01:11,366 - thermomodel_None - WARNING - Warning : NULL/L\n",
      "2020-11-19 01:01:11,366 - thermomodel_None - WARNING - Warning : NULL/L\n",
      "2020-11-19 01:01:11,508 - thermomodel_None - WARNING - Warning : NULL/U\n",
      "2020-11-19 01:01:11,508 - thermomodel_None - WARNING - Warning : NULL/L\n",
      "2020-11-19 01:01:11,508 - thermomodel_None - WARNING - Warning : NULL/L\n",
      "2020-11-19 01:01:11,508 - thermomodel_None - WARNING - Warning : NULL/U\n",
      "2020-11-19 01:01:11,508 - thermomodel_None - WARNING - Warning : NULL/L\n",
      "2020-11-19 01:01:11,508 - thermomodel_None - WARNING - Warning : NULL/L\n",
      "2020-11-19 01:01:11,555 - thermomodel_None - WARNING - Warning : NULL/U\n",
      "2020-11-19 01:01:11,555 - thermomodel_None - WARNING - Warning : NULL/L\n",
      "2020-11-19 01:01:11,555 - thermomodel_None - WARNING - Warning : NULL/L\n",
      "2020-11-19 01:01:11,571 - thermomodel_None - WARNING - Warning : NULL/U\n",
      "2020-11-19 01:01:11,571 - thermomodel_None - WARNING - Warning : NULL/L\n",
      "2020-11-19 01:01:11,571 - thermomodel_None - WARNING - Warning : NULL/L\n",
      "2020-11-19 01:01:11,571 - thermomodel_None - WARNING - Warning : NULL/U\n",
      "2020-11-19 01:01:11,571 - thermomodel_None - WARNING - Warning : NULL/L\n",
      "2020-11-19 01:01:11,571 - thermomodel_None - WARNING - Warning : NULL/L\n",
      "2020-11-19 01:01:11,577 - thermomodel_None - WARNING - Warning : NULL/U\n",
      "2020-11-19 01:01:11,577 - thermomodel_None - WARNING - Warning : NULL/L\n",
      "2020-11-19 01:01:11,577 - thermomodel_None - WARNING - Warning : NULL/L\n",
      "2020-11-19 01:01:11,577 - thermomodel_None - WARNING - Warning : NULL/U\n",
      "2020-11-19 01:01:11,577 - thermomodel_None - WARNING - Warning : NULL/L\n",
      "2020-11-19 01:01:11,577 - thermomodel_None - WARNING - Warning : NULL/L\n",
      "2020-11-19 01:01:11,577 - thermomodel_None - WARNING - Warning : NULL/U\n",
      "2020-11-19 01:01:11,577 - thermomodel_None - WARNING - Warning : NULL/L\n",
      "2020-11-19 01:01:11,577 - thermomodel_None - WARNING - Warning : NULL/L\n",
      "2020-11-19 01:01:11,577 - thermomodel_None - WARNING - Warning : NULL/U\n",
      "2020-11-19 01:01:11,577 - thermomodel_None - WARNING - Warning : NULL/L\n",
      "2020-11-19 01:01:11,577 - thermomodel_None - WARNING - Warning : NULL/L\n",
      "2020-11-19 01:01:11,577 - thermomodel_None - WARNING - Warning : NULL/U\n",
      "2020-11-19 01:01:11,577 - thermomodel_None - WARNING - Warning : NULL/L\n",
      "2020-11-19 01:01:11,577 - thermomodel_None - WARNING - Warning : NULL/L\n",
      "2020-11-19 01:01:11,693 - thermomodel_None - INFO - # Model preparation done.\n",
      "2020-11-19 01:01:11,693 - thermomodel_None - INFO - # Model conversion starting...\n",
      "2020-11-19 01:01:45,290 - thermomodel_None - INFO - # Model conversion done.\n",
      "2020-11-19 01:01:45,291 - thermomodel_None - INFO - # Updating cobra_model variables...\n",
      "2020-11-19 01:01:45,332 - thermomodel_None - INFO - # cobra_model variables are up-to-date\n"
     ]
    },
    {
     "name": "stdout",
     "output_type": "stream",
     "text": [
      "Read LP format model from file C:\\Users\\riheme\\AppData\\Local\\Temp\\tmpq8cuc168.lp\n",
      "Reading time = 0.02 seconds\n",
      ": 1807 rows, 5170 columns, 20304 nonzeros\n",
      "Read LP format model from file C:\\Users\\riheme\\AppData\\Local\\Temp\\tmpf02636xj.lp\n",
      "Reading time = 0.02 seconds\n",
      ": 1807 rows, 5170 columns, 20304 nonzeros\n"
     ]
    },
    {
     "name": "stderr",
     "output_type": "stream",
     "text": [
      "2020-11-19 01:02:01,261 - thermomodel_Ecoli GLCptspp (Glc) 4 @ t = 11 - INFO - # Model initialized with units kcal/mol and temperature 298.15 K\n"
     ]
    },
    {
     "name": "stdout",
     "output_type": "stream",
     "text": [
      "Read LP format model from file C:\\Users\\riheme\\AppData\\Local\\Temp\\tmp8kcsi_lm.lp\n",
      "Reading time = 0.02 seconds\n",
      ": 1807 rows, 5170 columns, 20304 nonzeros\n",
      "Read LP format model from file C:\\Users\\riheme\\AppData\\Local\\Temp\\tmpplst7ih3.lp\n",
      "Reading time = 0.02 seconds\n",
      ": 1807 rows, 5170 columns, 20304 nonzeros\n"
     ]
    },
    {
     "name": "stderr",
     "output_type": "stream",
     "text": [
      "2020-11-19 01:02:26,865 - thermomodel_Ecoli GLCptspp (Glc) 4 @ t = 11 - INFO - # Model initialized with units kcal/mol and temperature 298.15 K\n",
      "2020-11-19 01:02:35,805 - thermomodel_Ecoli GLCptspp (Glc) 4 @ t = 11 - INFO - Adding slack constraints\n",
      "adding slacks: 100%|███████████████████████████████████████████████████████████████| 1824/1824 [00:36<00:00, 50.22it/s]\n",
      "2020-11-19 01:03:13,743 - thermomodel_Ecoli GLCptspp (Glc) 4 @ t = 11 - INFO - Optimizing slack model\n",
      "2020-11-19 01:03:18,975 - thermomodel_Ecoli GLCptspp (Glc) 4 @ t = 11 - INFO - Extracting relaxation\n",
      "applying slack: 100%|███████████████████████████████████████████████████████████| 2585/2585 [00:00<00:00, 55193.83it/s]\n",
      "2020-11-19 01:03:19,106 - thermomodel_Ecoli GLCptspp (Glc) 4 @ t = 11 - INFO - Testing relaxation\n"
     ]
    },
    {
     "name": "stdout",
     "output_type": "stream",
     "text": [
      "################################################################################\n",
      "Ecoli GND (Glc) 0 @ t = 0\n",
      "(36.71 min)\n",
      "################################################################################\n",
      "Read LP format model from file C:\\Users\\riheme\\AppData\\Local\\Temp\\tmplg73tknw.lp\n",
      "Reading time = 0.02 seconds\n",
      ": 1807 rows, 5170 columns, 20334 nonzeros\n",
      "Read LP format model from file C:\\Users\\riheme\\AppData\\Local\\Temp\\tmp4fm2i663.lp\n",
      "Reading time = 0.02 seconds\n",
      ": 1807 rows, 5170 columns, 20334 nonzeros\n"
     ]
    },
    {
     "name": "stderr",
     "output_type": "stream",
     "text": [
      "2020-11-19 01:03:33,729 - thermomodel_None - INFO - # Model initialized with units kcal/mol and temperature 298.15 K\n",
      "2020-11-19 01:03:33,739 - thermomodel_None - INFO - # Model preparation starting...\n",
      "2020-11-19 01:03:36,026 - thermomodel_None - WARNING - Warning : NULL/U\n",
      "2020-11-19 01:03:36,026 - thermomodel_None - WARNING - Warning : NULL/L\n",
      "2020-11-19 01:03:36,026 - thermomodel_None - WARNING - Warning : NULL/L\n",
      "2020-11-19 01:03:36,026 - thermomodel_None - WARNING - Warning : NULL/U\n",
      "2020-11-19 01:03:36,035 - thermomodel_None - WARNING - Warning : NULL/L\n",
      "2020-11-19 01:03:36,035 - thermomodel_None - WARNING - Warning : NULL/L\n",
      "2020-11-19 01:03:36,241 - thermomodel_None - WARNING - Warning : NULL/U\n",
      "2020-11-19 01:03:36,241 - thermomodel_None - WARNING - Warning : NULL/L\n",
      "2020-11-19 01:03:36,249 - thermomodel_None - WARNING - Warning : NULL/L\n",
      "2020-11-19 01:03:36,249 - thermomodel_None - WARNING - Warning : NULL/U\n",
      "2020-11-19 01:03:36,249 - thermomodel_None - WARNING - Warning : NULL/L\n",
      "2020-11-19 01:03:36,249 - thermomodel_None - WARNING - Warning : NULL/L\n",
      "2020-11-19 01:03:36,390 - thermomodel_None - WARNING - Warning : NULL/U\n",
      "2020-11-19 01:03:36,390 - thermomodel_None - WARNING - Warning : NULL/L\n",
      "2020-11-19 01:03:36,390 - thermomodel_None - WARNING - Warning : NULL/L\n",
      "2020-11-19 01:03:36,392 - thermomodel_None - WARNING - Warning : NULL/U\n",
      "2020-11-19 01:03:36,392 - thermomodel_None - WARNING - Warning : NULL/L\n",
      "2020-11-19 01:03:36,392 - thermomodel_None - WARNING - Warning : NULL/L\n",
      "2020-11-19 01:03:36,441 - thermomodel_None - WARNING - Warning : NULL/U\n",
      "2020-11-19 01:03:36,441 - thermomodel_None - WARNING - Warning : NULL/L\n",
      "2020-11-19 01:03:36,441 - thermomodel_None - WARNING - Warning : NULL/L\n",
      "2020-11-19 01:03:36,441 - thermomodel_None - WARNING - Warning : NULL/U\n",
      "2020-11-19 01:03:36,441 - thermomodel_None - WARNING - Warning : NULL/L\n",
      "2020-11-19 01:03:36,441 - thermomodel_None - WARNING - Warning : NULL/L\n",
      "2020-11-19 01:03:36,441 - thermomodel_None - WARNING - Warning : NULL/U\n",
      "2020-11-19 01:03:36,441 - thermomodel_None - WARNING - Warning : NULL/L\n",
      "2020-11-19 01:03:36,441 - thermomodel_None - WARNING - Warning : NULL/L\n",
      "2020-11-19 01:03:36,441 - thermomodel_None - WARNING - Warning : NULL/U\n",
      "2020-11-19 01:03:36,441 - thermomodel_None - WARNING - Warning : NULL/L\n",
      "2020-11-19 01:03:36,441 - thermomodel_None - WARNING - Warning : NULL/L\n",
      "2020-11-19 01:03:36,441 - thermomodel_None - WARNING - Warning : NULL/U\n",
      "2020-11-19 01:03:36,457 - thermomodel_None - WARNING - Warning : NULL/L\n",
      "2020-11-19 01:03:36,457 - thermomodel_None - WARNING - Warning : NULL/L\n",
      "2020-11-19 01:03:36,457 - thermomodel_None - WARNING - Warning : NULL/U\n",
      "2020-11-19 01:03:36,457 - thermomodel_None - WARNING - Warning : NULL/L\n",
      "2020-11-19 01:03:36,457 - thermomodel_None - WARNING - Warning : NULL/L\n",
      "2020-11-19 01:03:36,457 - thermomodel_None - WARNING - Warning : NULL/U\n",
      "2020-11-19 01:03:36,457 - thermomodel_None - WARNING - Warning : NULL/L\n",
      "2020-11-19 01:03:36,457 - thermomodel_None - WARNING - Warning : NULL/L\n",
      "2020-11-19 01:03:36,457 - thermomodel_None - WARNING - Warning : NULL/U\n",
      "2020-11-19 01:03:36,457 - thermomodel_None - WARNING - Warning : NULL/L\n",
      "2020-11-19 01:03:36,457 - thermomodel_None - WARNING - Warning : NULL/L\n",
      "2020-11-19 01:03:36,557 - thermomodel_None - INFO - # Model preparation done.\n",
      "2020-11-19 01:03:36,557 - thermomodel_None - INFO - # Model conversion starting...\n",
      "2020-11-19 01:04:10,410 - thermomodel_None - INFO - # Model conversion done.\n",
      "2020-11-19 01:04:10,410 - thermomodel_None - INFO - # Updating cobra_model variables...\n",
      "2020-11-19 01:04:10,451 - thermomodel_None - INFO - # cobra_model variables are up-to-date\n"
     ]
    },
    {
     "name": "stdout",
     "output_type": "stream",
     "text": [
      "Read LP format model from file C:\\Users\\riheme\\AppData\\Local\\Temp\\tmpv1p43j2d.lp\n",
      "Reading time = 0.02 seconds\n",
      ": 1807 rows, 5170 columns, 20304 nonzeros\n",
      "Read LP format model from file C:\\Users\\riheme\\AppData\\Local\\Temp\\tmpnfjaoz5h.lp\n",
      "Reading time = 0.02 seconds\n",
      ": 1807 rows, 5170 columns, 20304 nonzeros\n"
     ]
    },
    {
     "name": "stderr",
     "output_type": "stream",
     "text": [
      "2020-11-19 01:04:26,496 - thermomodel_Ecoli GND (Glc) 0 @ t = 0 - INFO - # Model initialized with units kcal/mol and temperature 298.15 K\n"
     ]
    },
    {
     "name": "stdout",
     "output_type": "stream",
     "text": [
      "Read LP format model from file C:\\Users\\riheme\\AppData\\Local\\Temp\\tmpmslqol1g.lp\n",
      "Reading time = 0.02 seconds\n",
      ": 1807 rows, 5170 columns, 20304 nonzeros\n",
      "Read LP format model from file C:\\Users\\riheme\\AppData\\Local\\Temp\\tmpzk74rz36.lp\n",
      "Reading time = 0.02 seconds\n",
      ": 1807 rows, 5170 columns, 20304 nonzeros\n"
     ]
    },
    {
     "name": "stderr",
     "output_type": "stream",
     "text": [
      "2020-11-19 01:04:52,198 - thermomodel_Ecoli GND (Glc) 0 @ t = 0 - INFO - # Model initialized with units kcal/mol and temperature 298.15 K\n",
      "2020-11-19 01:05:01,144 - thermomodel_Ecoli GND (Glc) 0 @ t = 0 - INFO - Adding slack constraints\n",
      "adding slacks: 100%|███████████████████████████████████████████████████████████████| 1824/1824 [00:36<00:00, 50.01it/s]\n",
      "2020-11-19 01:05:39,215 - thermomodel_Ecoli GND (Glc) 0 @ t = 0 - INFO - Optimizing slack model\n",
      "2020-11-19 01:05:44,136 - thermomodel_Ecoli GND (Glc) 0 @ t = 0 - INFO - Extracting relaxation\n",
      "applying slack: 100%|███████████████████████████████████████████████████████████| 2585/2585 [00:00<00:00, 55111.35it/s]\n",
      "2020-11-19 01:05:44,270 - thermomodel_Ecoli GND (Glc) 0 @ t = 0 - INFO - Testing relaxation\n"
     ]
    },
    {
     "name": "stdout",
     "output_type": "stream",
     "text": [
      "################################################################################\n",
      "Ecoli GND (Glc) 1 @ t = 11\n",
      "(39.13 min)\n",
      "################################################################################\n",
      "Read LP format model from file C:\\Users\\riheme\\AppData\\Local\\Temp\\tmp7dy6posd.lp\n",
      "Reading time = 0.02 seconds\n",
      ": 1807 rows, 5170 columns, 20334 nonzeros\n",
      "Read LP format model from file C:\\Users\\riheme\\AppData\\Local\\Temp\\tmpkrqspbal.lp\n",
      "Reading time = 0.02 seconds\n",
      ": 1807 rows, 5170 columns, 20334 nonzeros\n"
     ]
    },
    {
     "name": "stderr",
     "output_type": "stream",
     "text": [
      "2020-11-19 01:05:58,877 - thermomodel_None - INFO - # Model initialized with units kcal/mol and temperature 298.15 K\n",
      "2020-11-19 01:05:58,885 - thermomodel_None - INFO - # Model preparation starting...\n",
      "2020-11-19 01:06:01,199 - thermomodel_None - WARNING - Warning : NULL/U\n",
      "2020-11-19 01:06:01,199 - thermomodel_None - WARNING - Warning : NULL/L\n",
      "2020-11-19 01:06:01,199 - thermomodel_None - WARNING - Warning : NULL/L\n",
      "2020-11-19 01:06:01,199 - thermomodel_None - WARNING - Warning : NULL/U\n",
      "2020-11-19 01:06:01,199 - thermomodel_None - WARNING - Warning : NULL/L\n",
      "2020-11-19 01:06:01,199 - thermomodel_None - WARNING - Warning : NULL/L\n",
      "2020-11-19 01:06:01,417 - thermomodel_None - WARNING - Warning : NULL/U\n",
      "2020-11-19 01:06:01,417 - thermomodel_None - WARNING - Warning : NULL/L\n",
      "2020-11-19 01:06:01,417 - thermomodel_None - WARNING - Warning : NULL/L\n",
      "2020-11-19 01:06:01,420 - thermomodel_None - WARNING - Warning : NULL/U\n",
      "2020-11-19 01:06:01,420 - thermomodel_None - WARNING - Warning : NULL/L\n",
      "2020-11-19 01:06:01,420 - thermomodel_None - WARNING - Warning : NULL/L\n",
      "2020-11-19 01:06:01,560 - thermomodel_None - WARNING - Warning : NULL/U\n",
      "2020-11-19 01:06:01,560 - thermomodel_None - WARNING - Warning : NULL/L\n",
      "2020-11-19 01:06:01,560 - thermomodel_None - WARNING - Warning : NULL/L\n",
      "2020-11-19 01:06:01,560 - thermomodel_None - WARNING - Warning : NULL/U\n",
      "2020-11-19 01:06:01,560 - thermomodel_None - WARNING - Warning : NULL/L\n",
      "2020-11-19 01:06:01,560 - thermomodel_None - WARNING - Warning : NULL/L\n",
      "2020-11-19 01:06:01,619 - thermomodel_None - WARNING - Warning : NULL/U\n",
      "2020-11-19 01:06:01,619 - thermomodel_None - WARNING - Warning : NULL/L\n",
      "2020-11-19 01:06:01,619 - thermomodel_None - WARNING - Warning : NULL/L\n",
      "2020-11-19 01:06:01,619 - thermomodel_None - WARNING - Warning : NULL/U\n",
      "2020-11-19 01:06:01,621 - thermomodel_None - WARNING - Warning : NULL/L\n",
      "2020-11-19 01:06:01,621 - thermomodel_None - WARNING - Warning : NULL/L\n",
      "2020-11-19 01:06:01,621 - thermomodel_None - WARNING - Warning : NULL/U\n",
      "2020-11-19 01:06:01,621 - thermomodel_None - WARNING - Warning : NULL/L\n",
      "2020-11-19 01:06:01,621 - thermomodel_None - WARNING - Warning : NULL/L\n",
      "2020-11-19 01:06:01,621 - thermomodel_None - WARNING - Warning : NULL/U\n",
      "2020-11-19 01:06:01,621 - thermomodel_None - WARNING - Warning : NULL/L\n",
      "2020-11-19 01:06:01,621 - thermomodel_None - WARNING - Warning : NULL/L\n",
      "2020-11-19 01:06:01,621 - thermomodel_None - WARNING - Warning : NULL/U\n",
      "2020-11-19 01:06:01,621 - thermomodel_None - WARNING - Warning : NULL/L\n",
      "2020-11-19 01:06:01,621 - thermomodel_None - WARNING - Warning : NULL/L\n",
      "2020-11-19 01:06:01,621 - thermomodel_None - WARNING - Warning : NULL/U\n",
      "2020-11-19 01:06:01,629 - thermomodel_None - WARNING - Warning : NULL/L\n",
      "2020-11-19 01:06:01,629 - thermomodel_None - WARNING - Warning : NULL/L\n",
      "2020-11-19 01:06:01,629 - thermomodel_None - WARNING - Warning : NULL/U\n",
      "2020-11-19 01:06:01,629 - thermomodel_None - WARNING - Warning : NULL/L\n",
      "2020-11-19 01:06:01,629 - thermomodel_None - WARNING - Warning : NULL/L\n",
      "2020-11-19 01:06:01,629 - thermomodel_None - WARNING - Warning : NULL/U\n",
      "2020-11-19 01:06:01,629 - thermomodel_None - WARNING - Warning : NULL/L\n",
      "2020-11-19 01:06:01,629 - thermomodel_None - WARNING - Warning : NULL/L\n",
      "2020-11-19 01:06:01,738 - thermomodel_None - INFO - # Model preparation done.\n",
      "2020-11-19 01:06:01,738 - thermomodel_None - INFO - # Model conversion starting...\n",
      "2020-11-19 01:06:35,583 - thermomodel_None - INFO - # Model conversion done.\n",
      "2020-11-19 01:06:35,583 - thermomodel_None - INFO - # Updating cobra_model variables...\n",
      "2020-11-19 01:06:35,631 - thermomodel_None - INFO - # cobra_model variables are up-to-date\n"
     ]
    },
    {
     "name": "stdout",
     "output_type": "stream",
     "text": [
      "Read LP format model from file C:\\Users\\riheme\\AppData\\Local\\Temp\\tmpvfrm9jqu.lp\n",
      "Reading time = 0.03 seconds\n",
      ": 1807 rows, 5170 columns, 20304 nonzeros\n",
      "Read LP format model from file C:\\Users\\riheme\\AppData\\Local\\Temp\\tmpim93f7tx.lp\n",
      "Reading time = 0.02 seconds\n",
      ": 1807 rows, 5170 columns, 20304 nonzeros\n"
     ]
    },
    {
     "name": "stderr",
     "output_type": "stream",
     "text": [
      "2020-11-19 01:06:52,182 - thermomodel_Ecoli GND (Glc) 1 @ t = 11 - INFO - # Model initialized with units kcal/mol and temperature 298.15 K\n"
     ]
    },
    {
     "name": "stdout",
     "output_type": "stream",
     "text": [
      "Read LP format model from file C:\\Users\\riheme\\AppData\\Local\\Temp\\tmpgg5tjwr7.lp\n",
      "Reading time = 0.02 seconds\n",
      ": 1807 rows, 5170 columns, 20304 nonzeros\n",
      "Read LP format model from file C:\\Users\\riheme\\AppData\\Local\\Temp\\tmpg0taiw8p.lp\n",
      "Reading time = 0.02 seconds\n",
      ": 1807 rows, 5170 columns, 20304 nonzeros\n"
     ]
    },
    {
     "name": "stderr",
     "output_type": "stream",
     "text": [
      "2020-11-19 01:07:17,539 - thermomodel_Ecoli GND (Glc) 1 @ t = 11 - INFO - # Model initialized with units kcal/mol and temperature 298.15 K\n",
      "2020-11-19 01:07:26,426 - thermomodel_Ecoli GND (Glc) 1 @ t = 11 - INFO - Adding slack constraints\n",
      "adding slacks: 100%|███████████████████████████████████████████████████████████████| 1824/1824 [00:35<00:00, 51.29it/s]\n",
      "2020-11-19 01:08:03,587 - thermomodel_Ecoli GND (Glc) 1 @ t = 11 - INFO - Optimizing slack model\n",
      "2020-11-19 01:08:09,099 - thermomodel_Ecoli GND (Glc) 1 @ t = 11 - INFO - Extracting relaxation\n",
      "applying slack: 100%|███████████████████████████████████████████████████████████| 2585/2585 [00:00<00:00, 55176.98it/s]\n",
      "2020-11-19 01:08:09,233 - thermomodel_Ecoli GND (Glc) 1 @ t = 11 - INFO - Testing relaxation\n"
     ]
    },
    {
     "name": "stdout",
     "output_type": "stream",
     "text": [
      "################################################################################\n",
      "Ecoli GND (Glc) 2 @ t = 11\n",
      "(41.55 min)\n",
      "################################################################################\n",
      "Read LP format model from file C:\\Users\\riheme\\AppData\\Local\\Temp\\tmp5p8c19zm.lp\n",
      "Reading time = 0.02 seconds\n",
      ": 1807 rows, 5170 columns, 20334 nonzeros\n",
      "Read LP format model from file C:\\Users\\riheme\\AppData\\Local\\Temp\\tmp30e_471l.lp\n",
      "Reading time = 0.02 seconds\n",
      ": 1807 rows, 5170 columns, 20334 nonzeros\n"
     ]
    },
    {
     "name": "stderr",
     "output_type": "stream",
     "text": [
      "2020-11-19 01:08:23,980 - thermomodel_None - INFO - # Model initialized with units kcal/mol and temperature 298.15 K\n",
      "2020-11-19 01:08:23,988 - thermomodel_None - INFO - # Model preparation starting...\n",
      "2020-11-19 01:08:26,298 - thermomodel_None - WARNING - Warning : NULL/U\n",
      "2020-11-19 01:08:26,298 - thermomodel_None - WARNING - Warning : NULL/L\n",
      "2020-11-19 01:08:26,298 - thermomodel_None - WARNING - Warning : NULL/L\n",
      "2020-11-19 01:08:26,298 - thermomodel_None - WARNING - Warning : NULL/U\n",
      "2020-11-19 01:08:26,298 - thermomodel_None - WARNING - Warning : NULL/L\n",
      "2020-11-19 01:08:26,298 - thermomodel_None - WARNING - Warning : NULL/L\n",
      "2020-11-19 01:08:26,512 - thermomodel_None - WARNING - Warning : NULL/U\n",
      "2020-11-19 01:08:26,512 - thermomodel_None - WARNING - Warning : NULL/L\n",
      "2020-11-19 01:08:26,512 - thermomodel_None - WARNING - Warning : NULL/L\n",
      "2020-11-19 01:08:26,512 - thermomodel_None - WARNING - Warning : NULL/U\n",
      "2020-11-19 01:08:26,512 - thermomodel_None - WARNING - Warning : NULL/L\n",
      "2020-11-19 01:08:26,512 - thermomodel_None - WARNING - Warning : NULL/L\n",
      "2020-11-19 01:08:26,653 - thermomodel_None - WARNING - Warning : NULL/U\n",
      "2020-11-19 01:08:26,653 - thermomodel_None - WARNING - Warning : NULL/L\n",
      "2020-11-19 01:08:26,653 - thermomodel_None - WARNING - Warning : NULL/L\n",
      "2020-11-19 01:08:26,653 - thermomodel_None - WARNING - Warning : NULL/U\n",
      "2020-11-19 01:08:26,661 - thermomodel_None - WARNING - Warning : NULL/L\n",
      "2020-11-19 01:08:26,661 - thermomodel_None - WARNING - Warning : NULL/L\n",
      "2020-11-19 01:08:26,703 - thermomodel_None - WARNING - Warning : NULL/U\n",
      "2020-11-19 01:08:26,703 - thermomodel_None - WARNING - Warning : NULL/L\n",
      "2020-11-19 01:08:26,703 - thermomodel_None - WARNING - Warning : NULL/L\n",
      "2020-11-19 01:08:26,703 - thermomodel_None - WARNING - Warning : NULL/U\n",
      "2020-11-19 01:08:26,703 - thermomodel_None - WARNING - Warning : NULL/L\n",
      "2020-11-19 01:08:26,718 - thermomodel_None - WARNING - Warning : NULL/L\n",
      "2020-11-19 01:08:26,718 - thermomodel_None - WARNING - Warning : NULL/U\n",
      "2020-11-19 01:08:26,718 - thermomodel_None - WARNING - Warning : NULL/L\n",
      "2020-11-19 01:08:26,718 - thermomodel_None - WARNING - Warning : NULL/L\n",
      "2020-11-19 01:08:26,718 - thermomodel_None - WARNING - Warning : NULL/U\n",
      "2020-11-19 01:08:26,718 - thermomodel_None - WARNING - Warning : NULL/L\n",
      "2020-11-19 01:08:26,718 - thermomodel_None - WARNING - Warning : NULL/L\n",
      "2020-11-19 01:08:26,718 - thermomodel_None - WARNING - Warning : NULL/U\n",
      "2020-11-19 01:08:26,718 - thermomodel_None - WARNING - Warning : NULL/L\n",
      "2020-11-19 01:08:26,718 - thermomodel_None - WARNING - Warning : NULL/L\n",
      "2020-11-19 01:08:26,718 - thermomodel_None - WARNING - Warning : NULL/U\n",
      "2020-11-19 01:08:26,718 - thermomodel_None - WARNING - Warning : NULL/L\n",
      "2020-11-19 01:08:26,718 - thermomodel_None - WARNING - Warning : NULL/L\n",
      "2020-11-19 01:08:26,718 - thermomodel_None - WARNING - Warning : NULL/U\n",
      "2020-11-19 01:08:26,718 - thermomodel_None - WARNING - Warning : NULL/L\n",
      "2020-11-19 01:08:26,718 - thermomodel_None - WARNING - Warning : NULL/L\n",
      "2020-11-19 01:08:26,718 - thermomodel_None - WARNING - Warning : NULL/U\n",
      "2020-11-19 01:08:26,718 - thermomodel_None - WARNING - Warning : NULL/L\n",
      "2020-11-19 01:08:26,718 - thermomodel_None - WARNING - Warning : NULL/L\n",
      "2020-11-19 01:08:26,834 - thermomodel_None - INFO - # Model preparation done.\n",
      "2020-11-19 01:08:26,834 - thermomodel_None - INFO - # Model conversion starting...\n",
      "2020-11-19 01:09:00,764 - thermomodel_None - INFO - # Model conversion done.\n",
      "2020-11-19 01:09:00,764 - thermomodel_None - INFO - # Updating cobra_model variables...\n",
      "2020-11-19 01:09:00,798 - thermomodel_None - INFO - # cobra_model variables are up-to-date\n"
     ]
    },
    {
     "name": "stdout",
     "output_type": "stream",
     "text": [
      "Read LP format model from file C:\\Users\\riheme\\AppData\\Local\\Temp\\tmpyse9cehv.lp\n",
      "Reading time = 0.02 seconds\n",
      ": 1807 rows, 5170 columns, 20304 nonzeros\n",
      "Read LP format model from file C:\\Users\\riheme\\AppData\\Local\\Temp\\tmp0o3bvkzx.lp\n",
      "Reading time = 0.02 seconds\n",
      ": 1807 rows, 5170 columns, 20304 nonzeros\n"
     ]
    },
    {
     "name": "stderr",
     "output_type": "stream",
     "text": [
      "2020-11-19 01:09:17,366 - thermomodel_Ecoli GND (Glc) 2 @ t = 11 - INFO - # Model initialized with units kcal/mol and temperature 298.15 K\n"
     ]
    },
    {
     "name": "stdout",
     "output_type": "stream",
     "text": [
      "Read LP format model from file C:\\Users\\riheme\\AppData\\Local\\Temp\\tmpo1d6aj70.lp\n",
      "Reading time = 0.02 seconds\n",
      ": 1807 rows, 5170 columns, 20304 nonzeros\n",
      "Read LP format model from file C:\\Users\\riheme\\AppData\\Local\\Temp\\tmpn0w_6qd_.lp\n",
      "Reading time = 0.02 seconds\n",
      ": 1807 rows, 5170 columns, 20304 nonzeros\n"
     ]
    },
    {
     "name": "stderr",
     "output_type": "stream",
     "text": [
      "2020-11-19 01:09:42,636 - thermomodel_Ecoli GND (Glc) 2 @ t = 11 - INFO - # Model initialized with units kcal/mol and temperature 298.15 K\n",
      "2020-11-19 01:09:51,718 - thermomodel_Ecoli GND (Glc) 2 @ t = 11 - INFO - Adding slack constraints\n",
      "adding slacks: 100%|███████████████████████████████████████████████████████████████| 1824/1824 [00:35<00:00, 52.00it/s]\n",
      "2020-11-19 01:10:28,381 - thermomodel_Ecoli GND (Glc) 2 @ t = 11 - INFO - Optimizing slack model\n",
      "2020-11-19 01:10:33,740 - thermomodel_Ecoli GND (Glc) 2 @ t = 11 - INFO - Extracting relaxation\n",
      "applying slack: 100%|███████████████████████████████████████████████████████████| 2585/2585 [00:00<00:00, 53189.87it/s]\n",
      "2020-11-19 01:10:33,881 - thermomodel_Ecoli GND (Glc) 2 @ t = 11 - INFO - Testing relaxation\n"
     ]
    },
    {
     "name": "stdout",
     "output_type": "stream",
     "text": [
      "################################################################################\n",
      "Ecoli GND (Glc) 3 @ t = 11\n",
      "(43.96 min)\n",
      "################################################################################\n",
      "Read LP format model from file C:\\Users\\riheme\\AppData\\Local\\Temp\\tmpc4bdsvln.lp\n",
      "Reading time = 0.02 seconds\n",
      ": 1807 rows, 5170 columns, 20334 nonzeros\n",
      "Read LP format model from file C:\\Users\\riheme\\AppData\\Local\\Temp\\tmpxs_59xng.lp\n",
      "Reading time = 0.02 seconds\n",
      ": 1807 rows, 5170 columns, 20334 nonzeros\n"
     ]
    },
    {
     "name": "stderr",
     "output_type": "stream",
     "text": [
      "2020-11-19 01:10:48,599 - thermomodel_None - INFO - # Model initialized with units kcal/mol and temperature 298.15 K\n",
      "2020-11-19 01:10:48,607 - thermomodel_None - INFO - # Model preparation starting...\n",
      "2020-11-19 01:10:50,895 - thermomodel_None - WARNING - Warning : NULL/U\n",
      "2020-11-19 01:10:50,895 - thermomodel_None - WARNING - Warning : NULL/L\n",
      "2020-11-19 01:10:50,897 - thermomodel_None - WARNING - Warning : NULL/L\n",
      "2020-11-19 01:10:50,897 - thermomodel_None - WARNING - Warning : NULL/U\n",
      "2020-11-19 01:10:50,897 - thermomodel_None - WARNING - Warning : NULL/L\n",
      "2020-11-19 01:10:50,897 - thermomodel_None - WARNING - Warning : NULL/L\n",
      "2020-11-19 01:10:51,109 - thermomodel_None - WARNING - Warning : NULL/U\n",
      "2020-11-19 01:10:51,109 - thermomodel_None - WARNING - Warning : NULL/L\n",
      "2020-11-19 01:10:51,109 - thermomodel_None - WARNING - Warning : NULL/L\n",
      "2020-11-19 01:10:51,109 - thermomodel_None - WARNING - Warning : NULL/U\n",
      "2020-11-19 01:10:51,116 - thermomodel_None - WARNING - Warning : NULL/L\n",
      "2020-11-19 01:10:51,116 - thermomodel_None - WARNING - Warning : NULL/L\n",
      "2020-11-19 01:10:51,252 - thermomodel_None - WARNING - Warning : NULL/U\n",
      "2020-11-19 01:10:51,252 - thermomodel_None - WARNING - Warning : NULL/L\n",
      "2020-11-19 01:10:51,252 - thermomodel_None - WARNING - Warning : NULL/L\n",
      "2020-11-19 01:10:51,252 - thermomodel_None - WARNING - Warning : NULL/U\n",
      "2020-11-19 01:10:51,252 - thermomodel_None - WARNING - Warning : NULL/L\n",
      "2020-11-19 01:10:51,252 - thermomodel_None - WARNING - Warning : NULL/L\n",
      "2020-11-19 01:10:51,299 - thermomodel_None - WARNING - Warning : NULL/U\n",
      "2020-11-19 01:10:51,314 - thermomodel_None - WARNING - Warning : NULL/L\n",
      "2020-11-19 01:10:51,314 - thermomodel_None - WARNING - Warning : NULL/L\n",
      "2020-11-19 01:10:51,316 - thermomodel_None - WARNING - Warning : NULL/U\n",
      "2020-11-19 01:10:51,316 - thermomodel_None - WARNING - Warning : NULL/L\n",
      "2020-11-19 01:10:51,316 - thermomodel_None - WARNING - Warning : NULL/L\n",
      "2020-11-19 01:10:51,316 - thermomodel_None - WARNING - Warning : NULL/U\n",
      "2020-11-19 01:10:51,316 - thermomodel_None - WARNING - Warning : NULL/L\n",
      "2020-11-19 01:10:51,316 - thermomodel_None - WARNING - Warning : NULL/L\n",
      "2020-11-19 01:10:51,316 - thermomodel_None - WARNING - Warning : NULL/U\n",
      "2020-11-19 01:10:51,316 - thermomodel_None - WARNING - Warning : NULL/L\n",
      "2020-11-19 01:10:51,316 - thermomodel_None - WARNING - Warning : NULL/L\n",
      "2020-11-19 01:10:51,316 - thermomodel_None - WARNING - Warning : NULL/U\n",
      "2020-11-19 01:10:51,316 - thermomodel_None - WARNING - Warning : NULL/L\n",
      "2020-11-19 01:10:51,316 - thermomodel_None - WARNING - Warning : NULL/L\n",
      "2020-11-19 01:10:51,316 - thermomodel_None - WARNING - Warning : NULL/U\n",
      "2020-11-19 01:10:51,316 - thermomodel_None - WARNING - Warning : NULL/L\n",
      "2020-11-19 01:10:51,316 - thermomodel_None - WARNING - Warning : NULL/L\n",
      "2020-11-19 01:10:51,316 - thermomodel_None - WARNING - Warning : NULL/U\n",
      "2020-11-19 01:10:51,316 - thermomodel_None - WARNING - Warning : NULL/L\n",
      "2020-11-19 01:10:51,316 - thermomodel_None - WARNING - Warning : NULL/L\n",
      "2020-11-19 01:10:51,316 - thermomodel_None - WARNING - Warning : NULL/U\n",
      "2020-11-19 01:10:51,316 - thermomodel_None - WARNING - Warning : NULL/L\n",
      "2020-11-19 01:10:51,316 - thermomodel_None - WARNING - Warning : NULL/L\n",
      "2020-11-19 01:10:51,432 - thermomodel_None - INFO - # Model preparation done.\n",
      "2020-11-19 01:10:51,432 - thermomodel_None - INFO - # Model conversion starting...\n",
      "2020-11-19 01:11:25,268 - thermomodel_None - INFO - # Model conversion done.\n",
      "2020-11-19 01:11:25,276 - thermomodel_None - INFO - # Updating cobra_model variables...\n",
      "2020-11-19 01:11:25,319 - thermomodel_None - INFO - # cobra_model variables are up-to-date\n"
     ]
    },
    {
     "name": "stdout",
     "output_type": "stream",
     "text": [
      "Read LP format model from file C:\\Users\\riheme\\AppData\\Local\\Temp\\tmpsxaqfnwf.lp\n",
      "Reading time = 0.02 seconds\n",
      ": 1807 rows, 5170 columns, 20304 nonzeros\n",
      "Read LP format model from file C:\\Users\\riheme\\AppData\\Local\\Temp\\tmpdubl9dx7.lp\n",
      "Reading time = 0.02 seconds\n",
      ": 1807 rows, 5170 columns, 20304 nonzeros\n"
     ]
    },
    {
     "name": "stderr",
     "output_type": "stream",
     "text": [
      "2020-11-19 01:11:41,339 - thermomodel_Ecoli GND (Glc) 3 @ t = 11 - INFO - # Model initialized with units kcal/mol and temperature 298.15 K\n"
     ]
    },
    {
     "name": "stdout",
     "output_type": "stream",
     "text": [
      "Read LP format model from file C:\\Users\\riheme\\AppData\\Local\\Temp\\tmpdbsqaajk.lp\n",
      "Reading time = 0.02 seconds\n",
      ": 1807 rows, 5170 columns, 20304 nonzeros\n",
      "Read LP format model from file C:\\Users\\riheme\\AppData\\Local\\Temp\\tmpzibdkht2.lp\n",
      "Reading time = 0.02 seconds\n",
      ": 1807 rows, 5170 columns, 20304 nonzeros\n"
     ]
    },
    {
     "name": "stderr",
     "output_type": "stream",
     "text": [
      "2020-11-19 01:12:07,063 - thermomodel_Ecoli GND (Glc) 3 @ t = 11 - INFO - # Model initialized with units kcal/mol and temperature 298.15 K\n",
      "2020-11-19 01:12:16,012 - thermomodel_Ecoli GND (Glc) 3 @ t = 11 - INFO - Adding slack constraints\n",
      "adding slacks: 100%|███████████████████████████████████████████████████████████████| 1824/1824 [00:36<00:00, 49.95it/s]\n",
      "2020-11-19 01:12:54,117 - thermomodel_Ecoli GND (Glc) 3 @ t = 11 - INFO - Optimizing slack model\n",
      "2020-11-19 01:12:58,998 - thermomodel_Ecoli GND (Glc) 3 @ t = 11 - INFO - Extracting relaxation\n",
      "applying slack: 100%|███████████████████████████████████████████████████████████| 2585/2585 [00:00<00:00, 55165.19it/s]\n",
      "2020-11-19 01:12:59,132 - thermomodel_Ecoli GND (Glc) 3 @ t = 11 - INFO - Testing relaxation\n"
     ]
    },
    {
     "name": "stdout",
     "output_type": "stream",
     "text": [
      "################################################################################\n",
      "Ecoli PGI (Glc) 0 @ t = 0\n",
      "(46.38 min)\n",
      "################################################################################\n",
      "Read LP format model from file C:\\Users\\riheme\\AppData\\Local\\Temp\\tmpc_15w058.lp\n",
      "Reading time = 0.02 seconds\n",
      ": 1807 rows, 5170 columns, 20334 nonzeros\n",
      "Read LP format model from file C:\\Users\\riheme\\AppData\\Local\\Temp\\tmpnkpj4car.lp\n",
      "Reading time = 0.02 seconds\n",
      ": 1807 rows, 5170 columns, 20334 nonzeros\n"
     ]
    },
    {
     "name": "stderr",
     "output_type": "stream",
     "text": [
      "2020-11-19 01:13:13,793 - thermomodel_None - INFO - # Model initialized with units kcal/mol and temperature 298.15 K\n",
      "2020-11-19 01:13:13,801 - thermomodel_None - INFO - # Model preparation starting...\n",
      "2020-11-19 01:13:16,116 - thermomodel_None - WARNING - Warning : NULL/U\n",
      "2020-11-19 01:13:16,116 - thermomodel_None - WARNING - Warning : NULL/L\n",
      "2020-11-19 01:13:16,116 - thermomodel_None - WARNING - Warning : NULL/L\n",
      "2020-11-19 01:13:16,116 - thermomodel_None - WARNING - Warning : NULL/U\n",
      "2020-11-19 01:13:16,116 - thermomodel_None - WARNING - Warning : NULL/L\n",
      "2020-11-19 01:13:16,116 - thermomodel_None - WARNING - Warning : NULL/L\n",
      "2020-11-19 01:13:16,350 - thermomodel_None - WARNING - Warning : NULL/U\n",
      "2020-11-19 01:13:16,350 - thermomodel_None - WARNING - Warning : NULL/L\n",
      "2020-11-19 01:13:16,350 - thermomodel_None - WARNING - Warning : NULL/L\n",
      "2020-11-19 01:13:16,350 - thermomodel_None - WARNING - Warning : NULL/U\n",
      "2020-11-19 01:13:16,350 - thermomodel_None - WARNING - Warning : NULL/L\n",
      "2020-11-19 01:13:16,350 - thermomodel_None - WARNING - Warning : NULL/L\n",
      "2020-11-19 01:13:16,481 - thermomodel_None - WARNING - Warning : NULL/U\n",
      "2020-11-19 01:13:16,481 - thermomodel_None - WARNING - Warning : NULL/L\n",
      "2020-11-19 01:13:16,497 - thermomodel_None - WARNING - Warning : NULL/L\n",
      "2020-11-19 01:13:16,497 - thermomodel_None - WARNING - Warning : NULL/U\n",
      "2020-11-19 01:13:16,497 - thermomodel_None - WARNING - Warning : NULL/L\n",
      "2020-11-19 01:13:16,497 - thermomodel_None - WARNING - Warning : NULL/L\n",
      "2020-11-19 01:13:16,550 - thermomodel_None - WARNING - Warning : NULL/U\n",
      "2020-11-19 01:13:16,550 - thermomodel_None - WARNING - Warning : NULL/L\n",
      "2020-11-19 01:13:16,550 - thermomodel_None - WARNING - Warning : NULL/L\n",
      "2020-11-19 01:13:16,550 - thermomodel_None - WARNING - Warning : NULL/U\n",
      "2020-11-19 01:13:16,550 - thermomodel_None - WARNING - Warning : NULL/L\n",
      "2020-11-19 01:13:16,550 - thermomodel_None - WARNING - Warning : NULL/L\n",
      "2020-11-19 01:13:16,550 - thermomodel_None - WARNING - Warning : NULL/U\n",
      "2020-11-19 01:13:16,550 - thermomodel_None - WARNING - Warning : NULL/L\n",
      "2020-11-19 01:13:16,550 - thermomodel_None - WARNING - Warning : NULL/L\n",
      "2020-11-19 01:13:16,550 - thermomodel_None - WARNING - Warning : NULL/U\n",
      "2020-11-19 01:13:16,550 - thermomodel_None - WARNING - Warning : NULL/L\n",
      "2020-11-19 01:13:16,550 - thermomodel_None - WARNING - Warning : NULL/L\n",
      "2020-11-19 01:13:16,550 - thermomodel_None - WARNING - Warning : NULL/U\n",
      "2020-11-19 01:13:16,550 - thermomodel_None - WARNING - Warning : NULL/L\n",
      "2020-11-19 01:13:16,550 - thermomodel_None - WARNING - Warning : NULL/L\n",
      "2020-11-19 01:13:16,550 - thermomodel_None - WARNING - Warning : NULL/U\n",
      "2020-11-19 01:13:16,550 - thermomodel_None - WARNING - Warning : NULL/L\n",
      "2020-11-19 01:13:16,566 - thermomodel_None - WARNING - Warning : NULL/L\n",
      "2020-11-19 01:13:16,566 - thermomodel_None - WARNING - Warning : NULL/U\n",
      "2020-11-19 01:13:16,566 - thermomodel_None - WARNING - Warning : NULL/L\n",
      "2020-11-19 01:13:16,566 - thermomodel_None - WARNING - Warning : NULL/L\n",
      "2020-11-19 01:13:16,566 - thermomodel_None - WARNING - Warning : NULL/U\n",
      "2020-11-19 01:13:16,566 - thermomodel_None - WARNING - Warning : NULL/L\n",
      "2020-11-19 01:13:16,566 - thermomodel_None - WARNING - Warning : NULL/L\n",
      "2020-11-19 01:13:16,666 - thermomodel_None - INFO - # Model preparation done.\n",
      "2020-11-19 01:13:16,666 - thermomodel_None - INFO - # Model conversion starting...\n",
      "2020-11-19 01:13:50,454 - thermomodel_None - INFO - # Model conversion done.\n",
      "2020-11-19 01:13:50,454 - thermomodel_None - INFO - # Updating cobra_model variables...\n",
      "2020-11-19 01:13:50,503 - thermomodel_None - INFO - # cobra_model variables are up-to-date\n"
     ]
    },
    {
     "name": "stdout",
     "output_type": "stream",
     "text": [
      "Read LP format model from file C:\\Users\\riheme\\AppData\\Local\\Temp\\tmpqxigygpo.lp\n",
      "Reading time = 0.02 seconds\n",
      ": 1807 rows, 5170 columns, 20304 nonzeros\n",
      "Read LP format model from file C:\\Users\\riheme\\AppData\\Local\\Temp\\tmpbfnhkeso.lp\n",
      "Reading time = 0.02 seconds\n",
      ": 1807 rows, 5170 columns, 20304 nonzeros\n"
     ]
    },
    {
     "name": "stderr",
     "output_type": "stream",
     "text": [
      "2020-11-19 01:14:06,525 - thermomodel_Ecoli PGI (Glc) 0 @ t = 0 - INFO - # Model initialized with units kcal/mol and temperature 298.15 K\n"
     ]
    },
    {
     "name": "stdout",
     "output_type": "stream",
     "text": [
      "Read LP format model from file C:\\Users\\riheme\\AppData\\Local\\Temp\\tmp28shxisy.lp\n",
      "Reading time = 0.02 seconds\n",
      ": 1807 rows, 5170 columns, 20304 nonzeros\n",
      "Read LP format model from file C:\\Users\\riheme\\AppData\\Local\\Temp\\tmppd30sk70.lp\n",
      "Reading time = 0.02 seconds\n",
      ": 1807 rows, 5170 columns, 20304 nonzeros\n"
     ]
    },
    {
     "name": "stderr",
     "output_type": "stream",
     "text": [
      "2020-11-19 01:14:32,019 - thermomodel_Ecoli PGI (Glc) 0 @ t = 0 - INFO - # Model initialized with units kcal/mol and temperature 298.15 K\n",
      "2020-11-19 01:14:40,936 - thermomodel_Ecoli PGI (Glc) 0 @ t = 0 - INFO - Adding slack constraints\n",
      "adding slacks: 100%|███████████████████████████████████████████████████████████████| 1824/1824 [00:36<00:00, 49.99it/s]\n",
      "2020-11-19 01:15:18,998 - thermomodel_Ecoli PGI (Glc) 0 @ t = 0 - INFO - Optimizing slack model\n",
      "2020-11-19 01:15:24,155 - thermomodel_Ecoli PGI (Glc) 0 @ t = 0 - INFO - Extracting relaxation\n",
      "applying slack: 100%|███████████████████████████████████████████████████████████| 2585/2585 [00:00<00:00, 55127.04it/s]\n",
      "2020-11-19 01:15:24,284 - thermomodel_Ecoli PGI (Glc) 0 @ t = 0 - INFO - Testing relaxation\n"
     ]
    },
    {
     "name": "stdout",
     "output_type": "stream",
     "text": [
      "################################################################################\n",
      "Ecoli PGI (Glc) 1 @ t = 1\n",
      "(48.80 min)\n",
      "################################################################################\n",
      "Read LP format model from file C:\\Users\\riheme\\AppData\\Local\\Temp\\tmpd95t3e0n.lp\n",
      "Reading time = 0.02 seconds\n",
      ": 1807 rows, 5170 columns, 20334 nonzeros\n",
      "Read LP format model from file C:\\Users\\riheme\\AppData\\Local\\Temp\\tmpvl28kemu.lp\n",
      "Reading time = 0.02 seconds\n",
      ": 1807 rows, 5170 columns, 20334 nonzeros\n"
     ]
    },
    {
     "name": "stderr",
     "output_type": "stream",
     "text": [
      "2020-11-19 01:15:39,010 - thermomodel_None - INFO - # Model initialized with units kcal/mol and temperature 298.15 K\n",
      "2020-11-19 01:15:39,018 - thermomodel_None - INFO - # Model preparation starting...\n",
      "2020-11-19 01:15:41,287 - thermomodel_None - WARNING - Warning : NULL/U\n",
      "2020-11-19 01:15:41,287 - thermomodel_None - WARNING - Warning : NULL/L\n",
      "2020-11-19 01:15:41,287 - thermomodel_None - WARNING - Warning : NULL/L\n",
      "2020-11-19 01:15:41,287 - thermomodel_None - WARNING - Warning : NULL/U\n",
      "2020-11-19 01:15:41,287 - thermomodel_None - WARNING - Warning : NULL/L\n",
      "2020-11-19 01:15:41,287 - thermomodel_None - WARNING - Warning : NULL/L\n",
      "2020-11-19 01:15:41,498 - thermomodel_None - WARNING - Warning : NULL/U\n",
      "2020-11-19 01:15:41,498 - thermomodel_None - WARNING - Warning : NULL/L\n",
      "2020-11-19 01:15:41,498 - thermomodel_None - WARNING - Warning : NULL/L\n",
      "2020-11-19 01:15:41,498 - thermomodel_None - WARNING - Warning : NULL/U\n",
      "2020-11-19 01:15:41,498 - thermomodel_None - WARNING - Warning : NULL/L\n",
      "2020-11-19 01:15:41,506 - thermomodel_None - WARNING - Warning : NULL/L\n",
      "2020-11-19 01:15:41,648 - thermomodel_None - WARNING - Warning : NULL/U\n",
      "2020-11-19 01:15:41,648 - thermomodel_None - WARNING - Warning : NULL/L\n",
      "2020-11-19 01:15:41,648 - thermomodel_None - WARNING - Warning : NULL/L\n",
      "2020-11-19 01:15:41,648 - thermomodel_None - WARNING - Warning : NULL/U\n",
      "2020-11-19 01:15:41,648 - thermomodel_None - WARNING - Warning : NULL/L\n",
      "2020-11-19 01:15:41,648 - thermomodel_None - WARNING - Warning : NULL/L\n",
      "2020-11-19 01:15:41,695 - thermomodel_None - WARNING - Warning : NULL/U\n",
      "2020-11-19 01:15:41,695 - thermomodel_None - WARNING - Warning : NULL/L\n",
      "2020-11-19 01:15:41,695 - thermomodel_None - WARNING - Warning : NULL/L\n",
      "2020-11-19 01:15:41,695 - thermomodel_None - WARNING - Warning : NULL/U\n",
      "2020-11-19 01:15:41,695 - thermomodel_None - WARNING - Warning : NULL/L\n",
      "2020-11-19 01:15:41,695 - thermomodel_None - WARNING - Warning : NULL/L\n",
      "2020-11-19 01:15:41,695 - thermomodel_None - WARNING - Warning : NULL/U\n",
      "2020-11-19 01:15:41,710 - thermomodel_None - WARNING - Warning : NULL/L\n",
      "2020-11-19 01:15:41,710 - thermomodel_None - WARNING - Warning : NULL/L\n",
      "2020-11-19 01:15:41,710 - thermomodel_None - WARNING - Warning : NULL/U\n",
      "2020-11-19 01:15:41,710 - thermomodel_None - WARNING - Warning : NULL/L\n",
      "2020-11-19 01:15:41,710 - thermomodel_None - WARNING - Warning : NULL/L\n",
      "2020-11-19 01:15:41,710 - thermomodel_None - WARNING - Warning : NULL/U\n",
      "2020-11-19 01:15:41,710 - thermomodel_None - WARNING - Warning : NULL/L\n",
      "2020-11-19 01:15:41,710 - thermomodel_None - WARNING - Warning : NULL/L\n",
      "2020-11-19 01:15:41,710 - thermomodel_None - WARNING - Warning : NULL/U\n",
      "2020-11-19 01:15:41,710 - thermomodel_None - WARNING - Warning : NULL/L\n",
      "2020-11-19 01:15:41,717 - thermomodel_None - WARNING - Warning : NULL/L\n",
      "2020-11-19 01:15:41,717 - thermomodel_None - WARNING - Warning : NULL/U\n",
      "2020-11-19 01:15:41,717 - thermomodel_None - WARNING - Warning : NULL/L\n",
      "2020-11-19 01:15:41,717 - thermomodel_None - WARNING - Warning : NULL/L\n",
      "2020-11-19 01:15:41,717 - thermomodel_None - WARNING - Warning : NULL/U\n",
      "2020-11-19 01:15:41,717 - thermomodel_None - WARNING - Warning : NULL/L\n",
      "2020-11-19 01:15:41,717 - thermomodel_None - WARNING - Warning : NULL/L\n",
      "2020-11-19 01:15:41,817 - thermomodel_None - INFO - # Model preparation done.\n",
      "2020-11-19 01:15:41,833 - thermomodel_None - INFO - # Model conversion starting...\n",
      "2020-11-19 01:16:15,678 - thermomodel_None - INFO - # Model conversion done.\n",
      "2020-11-19 01:16:15,686 - thermomodel_None - INFO - # Updating cobra_model variables...\n",
      "2020-11-19 01:16:15,729 - thermomodel_None - INFO - # cobra_model variables are up-to-date\n"
     ]
    },
    {
     "name": "stdout",
     "output_type": "stream",
     "text": [
      "Read LP format model from file C:\\Users\\riheme\\AppData\\Local\\Temp\\tmp0bodqufu.lp\n",
      "Reading time = 0.02 seconds\n",
      ": 1807 rows, 5170 columns, 20304 nonzeros\n",
      "Read LP format model from file C:\\Users\\riheme\\AppData\\Local\\Temp\\tmpg1n3knqk.lp\n",
      "Reading time = 0.02 seconds\n",
      ": 1807 rows, 5170 columns, 20304 nonzeros\n"
     ]
    },
    {
     "name": "stderr",
     "output_type": "stream",
     "text": [
      "2020-11-19 01:16:31,692 - thermomodel_Ecoli PGI (Glc) 1 @ t = 1 - INFO - # Model initialized with units kcal/mol and temperature 298.15 K\n"
     ]
    },
    {
     "name": "stdout",
     "output_type": "stream",
     "text": [
      "Read LP format model from file C:\\Users\\riheme\\AppData\\Local\\Temp\\tmp1o6nrw5z.lp\n",
      "Reading time = 0.03 seconds\n",
      ": 1807 rows, 5170 columns, 20304 nonzeros\n",
      "Read LP format model from file C:\\Users\\riheme\\AppData\\Local\\Temp\\tmp57ktxew6.lp\n",
      "Reading time = 0.02 seconds\n",
      ": 1807 rows, 5170 columns, 20304 nonzeros\n"
     ]
    },
    {
     "name": "stderr",
     "output_type": "stream",
     "text": [
      "2020-11-19 01:16:57,484 - thermomodel_Ecoli PGI (Glc) 1 @ t = 1 - INFO - # Model initialized with units kcal/mol and temperature 298.15 K\n",
      "2020-11-19 01:17:06,473 - thermomodel_Ecoli PGI (Glc) 1 @ t = 1 - INFO - Adding slack constraints\n",
      "adding slacks: 100%|███████████████████████████████████████████████████████████████| 1824/1824 [00:36<00:00, 49.68it/s]\n",
      "2020-11-19 01:17:44,781 - thermomodel_Ecoli PGI (Glc) 1 @ t = 1 - INFO - Optimizing slack model\n",
      "2020-11-19 01:17:49,845 - thermomodel_Ecoli PGI (Glc) 1 @ t = 1 - INFO - Extracting relaxation\n",
      "applying slack: 100%|███████████████████████████████████████████████████████████| 2585/2585 [00:00<00:00, 53091.94it/s]\n",
      "2020-11-19 01:17:49,986 - thermomodel_Ecoli PGI (Glc) 1 @ t = 1 - INFO - Testing relaxation\n"
     ]
    },
    {
     "name": "stdout",
     "output_type": "stream",
     "text": [
      "################################################################################\n",
      "Ecoli PGI (Glc) 1 @ t = 2\n",
      "(51.23 min)\n",
      "################################################################################\n",
      "Read LP format model from file C:\\Users\\riheme\\AppData\\Local\\Temp\\tmp7abin_6q.lp\n",
      "Reading time = 0.02 seconds\n",
      ": 1807 rows, 5170 columns, 20334 nonzeros\n",
      "Read LP format model from file C:\\Users\\riheme\\AppData\\Local\\Temp\\tmpok9q991r.lp\n",
      "Reading time = 0.02 seconds\n",
      ": 1807 rows, 5170 columns, 20334 nonzeros\n"
     ]
    },
    {
     "name": "stderr",
     "output_type": "stream",
     "text": [
      "2020-11-19 01:18:04,794 - thermomodel_None - INFO - # Model initialized with units kcal/mol and temperature 298.15 K\n",
      "2020-11-19 01:18:04,804 - thermomodel_None - INFO - # Model preparation starting...\n",
      "2020-11-19 01:18:07,098 - thermomodel_None - WARNING - Warning : NULL/U\n",
      "2020-11-19 01:18:07,098 - thermomodel_None - WARNING - Warning : NULL/L\n",
      "2020-11-19 01:18:07,098 - thermomodel_None - WARNING - Warning : NULL/L\n",
      "2020-11-19 01:18:07,098 - thermomodel_None - WARNING - Warning : NULL/U\n",
      "2020-11-19 01:18:07,098 - thermomodel_None - WARNING - Warning : NULL/L\n",
      "2020-11-19 01:18:07,098 - thermomodel_None - WARNING - Warning : NULL/L\n",
      "2020-11-19 01:18:07,311 - thermomodel_None - WARNING - Warning : NULL/U\n",
      "2020-11-19 01:18:07,311 - thermomodel_None - WARNING - Warning : NULL/L\n",
      "2020-11-19 01:18:07,311 - thermomodel_None - WARNING - Warning : NULL/L\n",
      "2020-11-19 01:18:07,311 - thermomodel_None - WARNING - Warning : NULL/U\n",
      "2020-11-19 01:18:07,311 - thermomodel_None - WARNING - Warning : NULL/L\n",
      "2020-11-19 01:18:07,311 - thermomodel_None - WARNING - Warning : NULL/L\n",
      "2020-11-19 01:18:07,444 - thermomodel_None - WARNING - Warning : NULL/U\n",
      "2020-11-19 01:18:07,444 - thermomodel_None - WARNING - Warning : NULL/L\n",
      "2020-11-19 01:18:07,460 - thermomodel_None - WARNING - Warning : NULL/L\n",
      "2020-11-19 01:18:07,460 - thermomodel_None - WARNING - Warning : NULL/U\n",
      "2020-11-19 01:18:07,460 - thermomodel_None - WARNING - Warning : NULL/L\n",
      "2020-11-19 01:18:07,460 - thermomodel_None - WARNING - Warning : NULL/L\n",
      "2020-11-19 01:18:07,507 - thermomodel_None - WARNING - Warning : NULL/U\n",
      "2020-11-19 01:18:07,507 - thermomodel_None - WARNING - Warning : NULL/L\n",
      "2020-11-19 01:18:07,507 - thermomodel_None - WARNING - Warning : NULL/L\n",
      "2020-11-19 01:18:07,507 - thermomodel_None - WARNING - Warning : NULL/U\n",
      "2020-11-19 01:18:07,507 - thermomodel_None - WARNING - Warning : NULL/L\n",
      "2020-11-19 01:18:07,507 - thermomodel_None - WARNING - Warning : NULL/L\n",
      "2020-11-19 01:18:07,507 - thermomodel_None - WARNING - Warning : NULL/U\n",
      "2020-11-19 01:18:07,507 - thermomodel_None - WARNING - Warning : NULL/L\n",
      "2020-11-19 01:18:07,507 - thermomodel_None - WARNING - Warning : NULL/L\n",
      "2020-11-19 01:18:07,507 - thermomodel_None - WARNING - Warning : NULL/U\n",
      "2020-11-19 01:18:07,522 - thermomodel_None - WARNING - Warning : NULL/L\n",
      "2020-11-19 01:18:07,522 - thermomodel_None - WARNING - Warning : NULL/L\n",
      "2020-11-19 01:18:07,522 - thermomodel_None - WARNING - Warning : NULL/U\n",
      "2020-11-19 01:18:07,522 - thermomodel_None - WARNING - Warning : NULL/L\n",
      "2020-11-19 01:18:07,529 - thermomodel_None - WARNING - Warning : NULL/L\n",
      "2020-11-19 01:18:07,529 - thermomodel_None - WARNING - Warning : NULL/U\n",
      "2020-11-19 01:18:07,529 - thermomodel_None - WARNING - Warning : NULL/L\n",
      "2020-11-19 01:18:07,529 - thermomodel_None - WARNING - Warning : NULL/L\n",
      "2020-11-19 01:18:07,529 - thermomodel_None - WARNING - Warning : NULL/U\n",
      "2020-11-19 01:18:07,529 - thermomodel_None - WARNING - Warning : NULL/L\n",
      "2020-11-19 01:18:07,529 - thermomodel_None - WARNING - Warning : NULL/L\n",
      "2020-11-19 01:18:07,529 - thermomodel_None - WARNING - Warning : NULL/U\n",
      "2020-11-19 01:18:07,529 - thermomodel_None - WARNING - Warning : NULL/L\n",
      "2020-11-19 01:18:07,529 - thermomodel_None - WARNING - Warning : NULL/L\n",
      "2020-11-19 01:18:07,629 - thermomodel_None - INFO - # Model preparation done.\n",
      "2020-11-19 01:18:07,629 - thermomodel_None - INFO - # Model conversion starting...\n",
      "2020-11-19 01:18:41,390 - thermomodel_None - INFO - # Model conversion done.\n",
      "2020-11-19 01:18:41,390 - thermomodel_None - INFO - # Updating cobra_model variables...\n",
      "2020-11-19 01:18:41,430 - thermomodel_None - INFO - # cobra_model variables are up-to-date\n"
     ]
    },
    {
     "name": "stdout",
     "output_type": "stream",
     "text": [
      "Read LP format model from file C:\\Users\\riheme\\AppData\\Local\\Temp\\tmp73aom2g0.lp\n",
      "Reading time = 0.02 seconds\n",
      ": 1807 rows, 5170 columns, 20304 nonzeros\n",
      "Read LP format model from file C:\\Users\\riheme\\AppData\\Local\\Temp\\tmpsziotf9x.lp\n",
      "Reading time = 0.02 seconds\n",
      ": 1807 rows, 5170 columns, 20304 nonzeros\n"
     ]
    },
    {
     "name": "stderr",
     "output_type": "stream",
     "text": [
      "2020-11-19 01:18:57,593 - thermomodel_Ecoli PGI (Glc) 1 @ t = 2 - INFO - # Model initialized with units kcal/mol and temperature 298.15 K\n"
     ]
    },
    {
     "name": "stdout",
     "output_type": "stream",
     "text": [
      "Read LP format model from file C:\\Users\\riheme\\AppData\\Local\\Temp\\tmpanabd2vt.lp\n",
      "Reading time = 0.02 seconds\n",
      ": 1807 rows, 5170 columns, 20304 nonzeros\n",
      "Read LP format model from file C:\\Users\\riheme\\AppData\\Local\\Temp\\tmpb3_esyi0.lp\n",
      "Reading time = 0.02 seconds\n",
      ": 1807 rows, 5170 columns, 20304 nonzeros\n"
     ]
    },
    {
     "name": "stderr",
     "output_type": "stream",
     "text": [
      "2020-11-19 01:19:23,415 - thermomodel_Ecoli PGI (Glc) 1 @ t = 2 - INFO - # Model initialized with units kcal/mol and temperature 298.15 K\n",
      "2020-11-19 01:19:33,083 - thermomodel_Ecoli PGI (Glc) 1 @ t = 2 - INFO - Adding slack constraints\n",
      "adding slacks: 100%|███████████████████████████████████████████████████████████████| 1824/1824 [00:36<00:00, 50.50it/s]\n",
      "2020-11-19 01:20:10,799 - thermomodel_Ecoli PGI (Glc) 1 @ t = 2 - INFO - Optimizing slack model\n",
      "2020-11-19 01:20:15,433 - thermomodel_Ecoli PGI (Glc) 1 @ t = 2 - INFO - Extracting relaxation\n",
      "applying slack: 100%|███████████████████████████████████████████████████████████| 2585/2585 [00:00<00:00, 50242.71it/s]\n",
      "2020-11-19 01:20:15,564 - thermomodel_Ecoli PGI (Glc) 1 @ t = 2 - INFO - Testing relaxation\n"
     ]
    },
    {
     "name": "stdout",
     "output_type": "stream",
     "text": [
      "################################################################################\n",
      "Ecoli PGI (Glc) 1 @ t = 11\n",
      "(53.66 min)\n",
      "################################################################################\n",
      "Read LP format model from file C:\\Users\\riheme\\AppData\\Local\\Temp\\tmprllwup7o.lp\n",
      "Reading time = 0.02 seconds\n",
      ": 1807 rows, 5170 columns, 20334 nonzeros\n",
      "Read LP format model from file C:\\Users\\riheme\\AppData\\Local\\Temp\\tmpjgnzf3if.lp\n",
      "Reading time = 0.02 seconds\n",
      ": 1807 rows, 5170 columns, 20334 nonzeros\n"
     ]
    },
    {
     "name": "stderr",
     "output_type": "stream",
     "text": [
      "2020-11-19 01:20:30,343 - thermomodel_None - INFO - # Model initialized with units kcal/mol and temperature 298.15 K\n",
      "2020-11-19 01:20:30,351 - thermomodel_None - INFO - # Model preparation starting...\n",
      "2020-11-19 01:20:32,619 - thermomodel_None - WARNING - Warning : NULL/U\n",
      "2020-11-19 01:20:32,619 - thermomodel_None - WARNING - Warning : NULL/L\n",
      "2020-11-19 01:20:32,619 - thermomodel_None - WARNING - Warning : NULL/L\n",
      "2020-11-19 01:20:32,619 - thermomodel_None - WARNING - Warning : NULL/U\n",
      "2020-11-19 01:20:32,619 - thermomodel_None - WARNING - Warning : NULL/L\n",
      "2020-11-19 01:20:32,619 - thermomodel_None - WARNING - Warning : NULL/L\n",
      "2020-11-19 01:20:32,829 - thermomodel_None - WARNING - Warning : NULL/U\n",
      "2020-11-19 01:20:32,829 - thermomodel_None - WARNING - Warning : NULL/L\n",
      "2020-11-19 01:20:32,839 - thermomodel_None - WARNING - Warning : NULL/L\n",
      "2020-11-19 01:20:32,839 - thermomodel_None - WARNING - Warning : NULL/U\n",
      "2020-11-19 01:20:32,839 - thermomodel_None - WARNING - Warning : NULL/L\n",
      "2020-11-19 01:20:32,839 - thermomodel_None - WARNING - Warning : NULL/L\n",
      "2020-11-19 01:20:32,971 - thermomodel_None - WARNING - Warning : NULL/U\n",
      "2020-11-19 01:20:32,971 - thermomodel_None - WARNING - Warning : NULL/L\n",
      "2020-11-19 01:20:32,971 - thermomodel_None - WARNING - Warning : NULL/L\n",
      "2020-11-19 01:20:32,971 - thermomodel_None - WARNING - Warning : NULL/U\n",
      "2020-11-19 01:20:32,971 - thermomodel_None - WARNING - Warning : NULL/L\n",
      "2020-11-19 01:20:32,971 - thermomodel_None - WARNING - Warning : NULL/L\n",
      "2020-11-19 01:20:33,033 - thermomodel_None - WARNING - Warning : NULL/U\n",
      "2020-11-19 01:20:33,040 - thermomodel_None - WARNING - Warning : NULL/L\n",
      "2020-11-19 01:20:33,040 - thermomodel_None - WARNING - Warning : NULL/L\n",
      "2020-11-19 01:20:33,040 - thermomodel_None - WARNING - Warning : NULL/U\n",
      "2020-11-19 01:20:33,040 - thermomodel_None - WARNING - Warning : NULL/L\n",
      "2020-11-19 01:20:33,040 - thermomodel_None - WARNING - Warning : NULL/L\n",
      "2020-11-19 01:20:33,040 - thermomodel_None - WARNING - Warning : NULL/U\n",
      "2020-11-19 01:20:33,040 - thermomodel_None - WARNING - Warning : NULL/L\n",
      "2020-11-19 01:20:33,040 - thermomodel_None - WARNING - Warning : NULL/L\n",
      "2020-11-19 01:20:33,040 - thermomodel_None - WARNING - Warning : NULL/U\n",
      "2020-11-19 01:20:33,040 - thermomodel_None - WARNING - Warning : NULL/L\n",
      "2020-11-19 01:20:33,040 - thermomodel_None - WARNING - Warning : NULL/L\n",
      "2020-11-19 01:20:33,040 - thermomodel_None - WARNING - Warning : NULL/U\n",
      "2020-11-19 01:20:33,040 - thermomodel_None - WARNING - Warning : NULL/L\n",
      "2020-11-19 01:20:33,040 - thermomodel_None - WARNING - Warning : NULL/L\n",
      "2020-11-19 01:20:33,040 - thermomodel_None - WARNING - Warning : NULL/U\n",
      "2020-11-19 01:20:33,040 - thermomodel_None - WARNING - Warning : NULL/L\n",
      "2020-11-19 01:20:33,040 - thermomodel_None - WARNING - Warning : NULL/L\n",
      "2020-11-19 01:20:33,040 - thermomodel_None - WARNING - Warning : NULL/U\n",
      "2020-11-19 01:20:33,040 - thermomodel_None - WARNING - Warning : NULL/L\n",
      "2020-11-19 01:20:33,040 - thermomodel_None - WARNING - Warning : NULL/L\n",
      "2020-11-19 01:20:33,040 - thermomodel_None - WARNING - Warning : NULL/U\n",
      "2020-11-19 01:20:33,055 - thermomodel_None - WARNING - Warning : NULL/L\n",
      "2020-11-19 01:20:33,055 - thermomodel_None - WARNING - Warning : NULL/L\n",
      "2020-11-19 01:20:33,156 - thermomodel_None - INFO - # Model preparation done.\n",
      "2020-11-19 01:20:33,156 - thermomodel_None - INFO - # Model conversion starting...\n",
      "2020-11-19 01:21:08,088 - thermomodel_None - INFO - # Model conversion done.\n",
      "2020-11-19 01:21:08,088 - thermomodel_None - INFO - # Updating cobra_model variables...\n",
      "2020-11-19 01:21:08,138 - thermomodel_None - INFO - # cobra_model variables are up-to-date\n"
     ]
    },
    {
     "name": "stdout",
     "output_type": "stream",
     "text": [
      "Read LP format model from file C:\\Users\\riheme\\AppData\\Local\\Temp\\tmpsvw4stav.lp\n",
      "Reading time = 0.02 seconds\n",
      ": 1807 rows, 5170 columns, 20304 nonzeros\n",
      "Read LP format model from file C:\\Users\\riheme\\AppData\\Local\\Temp\\tmpmf8801q2.lp\n",
      "Reading time = 0.02 seconds\n",
      ": 1807 rows, 5170 columns, 20304 nonzeros\n"
     ]
    },
    {
     "name": "stderr",
     "output_type": "stream",
     "text": [
      "2020-11-19 01:21:24,230 - thermomodel_Ecoli PGI (Glc) 1 @ t = 11 - INFO - # Model initialized with units kcal/mol and temperature 298.15 K\n"
     ]
    },
    {
     "name": "stdout",
     "output_type": "stream",
     "text": [
      "Read LP format model from file C:\\Users\\riheme\\AppData\\Local\\Temp\\tmpfpkr9o1s.lp\n",
      "Reading time = 0.02 seconds\n",
      ": 1807 rows, 5170 columns, 20304 nonzeros\n",
      "Read LP format model from file C:\\Users\\riheme\\AppData\\Local\\Temp\\tmprw5pixrm.lp\n",
      "Reading time = 0.02 seconds\n",
      ": 1807 rows, 5170 columns, 20304 nonzeros\n"
     ]
    },
    {
     "name": "stderr",
     "output_type": "stream",
     "text": [
      "2020-11-19 01:21:49,884 - thermomodel_Ecoli PGI (Glc) 1 @ t = 11 - INFO - # Model initialized with units kcal/mol and temperature 298.15 K\n",
      "2020-11-19 01:21:58,789 - thermomodel_Ecoli PGI (Glc) 1 @ t = 11 - INFO - Adding slack constraints\n",
      "adding slacks: 100%|███████████████████████████████████████████████████████████████| 1824/1824 [00:36<00:00, 49.89it/s]\n",
      "2020-11-19 01:22:36,919 - thermomodel_Ecoli PGI (Glc) 1 @ t = 11 - INFO - Optimizing slack model\n",
      "2020-11-19 01:22:40,279 - thermomodel_Ecoli PGI (Glc) 1 @ t = 11 - INFO - Extracting relaxation\n",
      "applying slack: 100%|███████████████████████████████████████████████████████████| 2585/2585 [00:00<00:00, 51312.72it/s]\n",
      "2020-11-19 01:22:40,420 - thermomodel_Ecoli PGI (Glc) 1 @ t = 11 - INFO - Testing relaxation\n"
     ]
    },
    {
     "name": "stdout",
     "output_type": "stream",
     "text": [
      "################################################################################\n",
      "Ecoli PGI (Glc) 2 @ t = 1\n",
      "(56.07 min)\n",
      "################################################################################\n",
      "Read LP format model from file C:\\Users\\riheme\\AppData\\Local\\Temp\\tmpc4aafaik.lp\n",
      "Reading time = 0.02 seconds\n",
      ": 1807 rows, 5170 columns, 20334 nonzeros\n",
      "Read LP format model from file C:\\Users\\riheme\\AppData\\Local\\Temp\\tmpfo8e4cwi.lp\n",
      "Reading time = 0.02 seconds\n",
      ": 1807 rows, 5170 columns, 20334 nonzeros\n"
     ]
    },
    {
     "name": "stderr",
     "output_type": "stream",
     "text": [
      "2020-11-19 01:22:55,165 - thermomodel_None - INFO - # Model initialized with units kcal/mol and temperature 298.15 K\n",
      "2020-11-19 01:22:55,183 - thermomodel_None - INFO - # Model preparation starting...\n",
      "2020-11-19 01:22:57,430 - thermomodel_None - WARNING - Warning : NULL/U\n",
      "2020-11-19 01:22:57,430 - thermomodel_None - WARNING - Warning : NULL/L\n",
      "2020-11-19 01:22:57,430 - thermomodel_None - WARNING - Warning : NULL/L\n",
      "2020-11-19 01:22:57,430 - thermomodel_None - WARNING - Warning : NULL/U\n",
      "2020-11-19 01:22:57,430 - thermomodel_None - WARNING - Warning : NULL/L\n",
      "2020-11-19 01:22:57,430 - thermomodel_None - WARNING - Warning : NULL/L\n",
      "2020-11-19 01:22:57,642 - thermomodel_None - WARNING - Warning : NULL/U\n",
      "2020-11-19 01:22:57,642 - thermomodel_None - WARNING - Warning : NULL/L\n",
      "2020-11-19 01:22:57,642 - thermomodel_None - WARNING - Warning : NULL/L\n",
      "2020-11-19 01:22:57,650 - thermomodel_None - WARNING - Warning : NULL/U\n",
      "2020-11-19 01:22:57,650 - thermomodel_None - WARNING - Warning : NULL/L\n",
      "2020-11-19 01:22:57,650 - thermomodel_None - WARNING - Warning : NULL/L\n",
      "2020-11-19 01:22:57,776 - thermomodel_None - WARNING - Warning : NULL/U\n",
      "2020-11-19 01:22:57,776 - thermomodel_None - WARNING - Warning : NULL/L\n",
      "2020-11-19 01:22:57,776 - thermomodel_None - WARNING - Warning : NULL/L\n",
      "2020-11-19 01:22:57,776 - thermomodel_None - WARNING - Warning : NULL/U\n",
      "2020-11-19 01:22:57,791 - thermomodel_None - WARNING - Warning : NULL/L\n",
      "2020-11-19 01:22:57,791 - thermomodel_None - WARNING - Warning : NULL/L\n",
      "2020-11-19 01:22:57,838 - thermomodel_None - WARNING - Warning : NULL/U\n",
      "2020-11-19 01:22:57,838 - thermomodel_None - WARNING - Warning : NULL/L\n",
      "2020-11-19 01:22:57,838 - thermomodel_None - WARNING - Warning : NULL/L\n",
      "2020-11-19 01:22:57,838 - thermomodel_None - WARNING - Warning : NULL/U\n",
      "2020-11-19 01:22:57,838 - thermomodel_None - WARNING - Warning : NULL/L\n",
      "2020-11-19 01:22:57,838 - thermomodel_None - WARNING - Warning : NULL/L\n",
      "2020-11-19 01:22:57,838 - thermomodel_None - WARNING - Warning : NULL/U\n",
      "2020-11-19 01:22:57,838 - thermomodel_None - WARNING - Warning : NULL/L\n",
      "2020-11-19 01:22:57,838 - thermomodel_None - WARNING - Warning : NULL/L\n",
      "2020-11-19 01:22:57,838 - thermomodel_None - WARNING - Warning : NULL/U\n",
      "2020-11-19 01:22:57,838 - thermomodel_None - WARNING - Warning : NULL/L\n",
      "2020-11-19 01:22:57,854 - thermomodel_None - WARNING - Warning : NULL/L\n",
      "2020-11-19 01:22:57,854 - thermomodel_None - WARNING - Warning : NULL/U\n",
      "2020-11-19 01:22:57,854 - thermomodel_None - WARNING - Warning : NULL/L\n",
      "2020-11-19 01:22:57,854 - thermomodel_None - WARNING - Warning : NULL/L\n",
      "2020-11-19 01:22:57,854 - thermomodel_None - WARNING - Warning : NULL/U\n",
      "2020-11-19 01:22:57,860 - thermomodel_None - WARNING - Warning : NULL/L\n",
      "2020-11-19 01:22:57,860 - thermomodel_None - WARNING - Warning : NULL/L\n",
      "2020-11-19 01:22:57,860 - thermomodel_None - WARNING - Warning : NULL/U\n",
      "2020-11-19 01:22:57,860 - thermomodel_None - WARNING - Warning : NULL/L\n",
      "2020-11-19 01:22:57,860 - thermomodel_None - WARNING - Warning : NULL/L\n",
      "2020-11-19 01:22:57,860 - thermomodel_None - WARNING - Warning : NULL/U\n",
      "2020-11-19 01:22:57,860 - thermomodel_None - WARNING - Warning : NULL/L\n",
      "2020-11-19 01:22:57,860 - thermomodel_None - WARNING - Warning : NULL/L\n",
      "2020-11-19 01:22:57,961 - thermomodel_None - INFO - # Model preparation done.\n",
      "2020-11-19 01:22:57,961 - thermomodel_None - INFO - # Model conversion starting...\n",
      "2020-11-19 01:23:31,691 - thermomodel_None - INFO - # Model conversion done.\n",
      "2020-11-19 01:23:31,691 - thermomodel_None - INFO - # Updating cobra_model variables...\n",
      "2020-11-19 01:23:31,725 - thermomodel_None - INFO - # cobra_model variables are up-to-date\n"
     ]
    },
    {
     "name": "stdout",
     "output_type": "stream",
     "text": [
      "Read LP format model from file C:\\Users\\riheme\\AppData\\Local\\Temp\\tmpf3dph9cf.lp\n",
      "Reading time = 0.02 seconds\n",
      ": 1807 rows, 5170 columns, 20304 nonzeros\n",
      "Read LP format model from file C:\\Users\\riheme\\AppData\\Local\\Temp\\tmplmxwgrq9.lp\n",
      "Reading time = 0.02 seconds\n",
      ": 1807 rows, 5170 columns, 20304 nonzeros\n"
     ]
    },
    {
     "name": "stderr",
     "output_type": "stream",
     "text": [
      "2020-11-19 01:23:47,852 - thermomodel_Ecoli PGI (Glc) 2 @ t = 1 - INFO - # Model initialized with units kcal/mol and temperature 298.15 K\n"
     ]
    },
    {
     "name": "stdout",
     "output_type": "stream",
     "text": [
      "Read LP format model from file C:\\Users\\riheme\\AppData\\Local\\Temp\\tmp_nr8wmh4.lp\n",
      "Reading time = 0.02 seconds\n",
      ": 1807 rows, 5170 columns, 20304 nonzeros\n",
      "Read LP format model from file C:\\Users\\riheme\\AppData\\Local\\Temp\\tmp2rax76zs.lp\n",
      "Reading time = 0.02 seconds\n",
      ": 1807 rows, 5170 columns, 20304 nonzeros\n"
     ]
    },
    {
     "name": "stderr",
     "output_type": "stream",
     "text": [
      "2020-11-19 01:24:13,612 - thermomodel_Ecoli PGI (Glc) 2 @ t = 1 - INFO - # Model initialized with units kcal/mol and temperature 298.15 K\n",
      "2020-11-19 01:24:22,618 - thermomodel_Ecoli PGI (Glc) 2 @ t = 1 - INFO - Adding slack constraints\n",
      "adding slacks: 100%|███████████████████████████████████████████████████████████████| 1824/1824 [00:36<00:00, 50.18it/s]\n",
      "2020-11-19 01:25:00,563 - thermomodel_Ecoli PGI (Glc) 2 @ t = 1 - INFO - Optimizing slack model\n",
      "2020-11-19 01:25:06,058 - thermomodel_Ecoli PGI (Glc) 2 @ t = 1 - INFO - Extracting relaxation\n",
      "applying slack: 100%|███████████████████████████████████████████████████████████| 2585/2585 [00:00<00:00, 44138.89it/s]\n",
      "2020-11-19 01:25:06,190 - thermomodel_Ecoli PGI (Glc) 2 @ t = 1 - INFO - Testing relaxation\n"
     ]
    },
    {
     "name": "stdout",
     "output_type": "stream",
     "text": [
      "################################################################################\n",
      "Ecoli PGI (Glc) 2 @ t = 2\n",
      "(58.50 min)\n",
      "################################################################################\n",
      "Read LP format model from file C:\\Users\\riheme\\AppData\\Local\\Temp\\tmphi0mjam2.lp\n",
      "Reading time = 0.02 seconds\n",
      ": 1807 rows, 5170 columns, 20334 nonzeros\n",
      "Read LP format model from file C:\\Users\\riheme\\AppData\\Local\\Temp\\tmp03flxyh0.lp\n",
      "Reading time = 0.02 seconds\n",
      ": 1807 rows, 5170 columns, 20334 nonzeros\n"
     ]
    },
    {
     "name": "stderr",
     "output_type": "stream",
     "text": [
      "2020-11-19 01:25:21,052 - thermomodel_None - INFO - # Model initialized with units kcal/mol and temperature 298.15 K\n",
      "2020-11-19 01:25:21,062 - thermomodel_None - INFO - # Model preparation starting...\n",
      "2020-11-19 01:25:23,348 - thermomodel_None - WARNING - Warning : NULL/U\n",
      "2020-11-19 01:25:23,348 - thermomodel_None - WARNING - Warning : NULL/L\n",
      "2020-11-19 01:25:23,348 - thermomodel_None - WARNING - Warning : NULL/L\n",
      "2020-11-19 01:25:23,348 - thermomodel_None - WARNING - Warning : NULL/U\n",
      "2020-11-19 01:25:23,348 - thermomodel_None - WARNING - Warning : NULL/L\n",
      "2020-11-19 01:25:23,348 - thermomodel_None - WARNING - Warning : NULL/L\n",
      "2020-11-19 01:25:23,570 - thermomodel_None - WARNING - Warning : NULL/U\n",
      "2020-11-19 01:25:23,570 - thermomodel_None - WARNING - Warning : NULL/L\n",
      "2020-11-19 01:25:23,570 - thermomodel_None - WARNING - Warning : NULL/L\n",
      "2020-11-19 01:25:23,570 - thermomodel_None - WARNING - Warning : NULL/U\n",
      "2020-11-19 01:25:23,570 - thermomodel_None - WARNING - Warning : NULL/L\n",
      "2020-11-19 01:25:23,570 - thermomodel_None - WARNING - Warning : NULL/L\n",
      "2020-11-19 01:25:23,712 - thermomodel_None - WARNING - Warning : NULL/U\n",
      "2020-11-19 01:25:23,712 - thermomodel_None - WARNING - Warning : NULL/L\n",
      "2020-11-19 01:25:23,712 - thermomodel_None - WARNING - Warning : NULL/L\n",
      "2020-11-19 01:25:23,712 - thermomodel_None - WARNING - Warning : NULL/U\n",
      "2020-11-19 01:25:23,712 - thermomodel_None - WARNING - Warning : NULL/L\n",
      "2020-11-19 01:25:23,720 - thermomodel_None - WARNING - Warning : NULL/L\n",
      "2020-11-19 01:25:23,761 - thermomodel_None - WARNING - Warning : NULL/U\n",
      "2020-11-19 01:25:23,761 - thermomodel_None - WARNING - Warning : NULL/L\n",
      "2020-11-19 01:25:23,761 - thermomodel_None - WARNING - Warning : NULL/L\n",
      "2020-11-19 01:25:23,761 - thermomodel_None - WARNING - Warning : NULL/U\n",
      "2020-11-19 01:25:23,761 - thermomodel_None - WARNING - Warning : NULL/L\n",
      "2020-11-19 01:25:23,761 - thermomodel_None - WARNING - Warning : NULL/L\n",
      "2020-11-19 01:25:23,777 - thermomodel_None - WARNING - Warning : NULL/U\n",
      "2020-11-19 01:25:23,777 - thermomodel_None - WARNING - Warning : NULL/L\n",
      "2020-11-19 01:25:23,777 - thermomodel_None - WARNING - Warning : NULL/L\n",
      "2020-11-19 01:25:23,777 - thermomodel_None - WARNING - Warning : NULL/U\n",
      "2020-11-19 01:25:23,777 - thermomodel_None - WARNING - Warning : NULL/L\n",
      "2020-11-19 01:25:23,777 - thermomodel_None - WARNING - Warning : NULL/L\n",
      "2020-11-19 01:25:23,777 - thermomodel_None - WARNING - Warning : NULL/U\n",
      "2020-11-19 01:25:23,777 - thermomodel_None - WARNING - Warning : NULL/L\n",
      "2020-11-19 01:25:23,777 - thermomodel_None - WARNING - Warning : NULL/L\n",
      "2020-11-19 01:25:23,777 - thermomodel_None - WARNING - Warning : NULL/U\n",
      "2020-11-19 01:25:23,777 - thermomodel_None - WARNING - Warning : NULL/L\n",
      "2020-11-19 01:25:23,777 - thermomodel_None - WARNING - Warning : NULL/L\n",
      "2020-11-19 01:25:23,777 - thermomodel_None - WARNING - Warning : NULL/U\n",
      "2020-11-19 01:25:23,777 - thermomodel_None - WARNING - Warning : NULL/L\n",
      "2020-11-19 01:25:23,777 - thermomodel_None - WARNING - Warning : NULL/L\n",
      "2020-11-19 01:25:23,777 - thermomodel_None - WARNING - Warning : NULL/U\n",
      "2020-11-19 01:25:23,777 - thermomodel_None - WARNING - Warning : NULL/L\n",
      "2020-11-19 01:25:23,777 - thermomodel_None - WARNING - Warning : NULL/L\n",
      "2020-11-19 01:25:23,892 - thermomodel_None - INFO - # Model preparation done.\n",
      "2020-11-19 01:25:23,892 - thermomodel_None - INFO - # Model conversion starting...\n",
      "2020-11-19 01:25:57,969 - thermomodel_None - INFO - # Model conversion done.\n",
      "2020-11-19 01:25:57,969 - thermomodel_None - INFO - # Updating cobra_model variables...\n",
      "2020-11-19 01:25:58,003 - thermomodel_None - INFO - # cobra_model variables are up-to-date\n"
     ]
    },
    {
     "name": "stdout",
     "output_type": "stream",
     "text": [
      "Read LP format model from file C:\\Users\\riheme\\AppData\\Local\\Temp\\tmpgvoqcqwv.lp\n",
      "Reading time = 0.02 seconds\n",
      ": 1807 rows, 5170 columns, 20304 nonzeros\n",
      "Read LP format model from file C:\\Users\\riheme\\AppData\\Local\\Temp\\tmpvp9fasij.lp\n",
      "Reading time = 0.02 seconds\n",
      ": 1807 rows, 5170 columns, 20304 nonzeros\n"
     ]
    },
    {
     "name": "stderr",
     "output_type": "stream",
     "text": [
      "2020-11-19 01:26:14,110 - thermomodel_Ecoli PGI (Glc) 2 @ t = 2 - INFO - # Model initialized with units kcal/mol and temperature 298.15 K\n"
     ]
    },
    {
     "name": "stdout",
     "output_type": "stream",
     "text": [
      "Read LP format model from file C:\\Users\\riheme\\AppData\\Local\\Temp\\tmp8ybpcoh1.lp\n",
      "Reading time = 0.03 seconds\n",
      ": 1807 rows, 5170 columns, 20304 nonzeros\n",
      "Read LP format model from file C:\\Users\\riheme\\AppData\\Local\\Temp\\tmp6xhqnni7.lp\n",
      "Reading time = 0.02 seconds\n",
      ": 1807 rows, 5170 columns, 20304 nonzeros\n"
     ]
    },
    {
     "name": "stderr",
     "output_type": "stream",
     "text": [
      "2020-11-19 01:26:39,850 - thermomodel_Ecoli PGI (Glc) 2 @ t = 2 - INFO - # Model initialized with units kcal/mol and temperature 298.15 K\n",
      "2020-11-19 01:26:48,874 - thermomodel_Ecoli PGI (Glc) 2 @ t = 2 - INFO - Adding slack constraints\n",
      "adding slacks: 100%|███████████████████████████████████████████████████████████████| 1824/1824 [00:36<00:00, 49.82it/s]\n",
      "2020-11-19 01:27:27,076 - thermomodel_Ecoli PGI (Glc) 2 @ t = 2 - INFO - Optimizing slack model\n",
      "2020-11-19 01:27:31,609 - thermomodel_Ecoli PGI (Glc) 2 @ t = 2 - INFO - Extracting relaxation\n",
      "applying slack: 100%|███████████████████████████████████████████████████████████| 2585/2585 [00:00<00:00, 53224.07it/s]\n",
      "2020-11-19 01:27:31,743 - thermomodel_Ecoli PGI (Glc) 2 @ t = 2 - INFO - Testing relaxation\n"
     ]
    },
    {
     "name": "stdout",
     "output_type": "stream",
     "text": [
      "################################################################################\n",
      "Ecoli PGI (Glc) 2 @ t = 3\n",
      "(60.93 min)\n",
      "################################################################################\n",
      "Read LP format model from file C:\\Users\\riheme\\AppData\\Local\\Temp\\tmp3c4068j7.lp\n",
      "Reading time = 0.02 seconds\n",
      ": 1807 rows, 5170 columns, 20334 nonzeros\n",
      "Read LP format model from file C:\\Users\\riheme\\AppData\\Local\\Temp\\tmpar9yk179.lp\n",
      "Reading time = 0.02 seconds\n",
      ": 1807 rows, 5170 columns, 20334 nonzeros\n"
     ]
    },
    {
     "name": "stderr",
     "output_type": "stream",
     "text": [
      "2020-11-19 01:27:46,627 - thermomodel_None - INFO - # Model initialized with units kcal/mol and temperature 298.15 K\n",
      "2020-11-19 01:27:46,637 - thermomodel_None - INFO - # Model preparation starting...\n",
      "2020-11-19 01:27:48,889 - thermomodel_None - WARNING - Warning : NULL/U\n",
      "2020-11-19 01:27:48,889 - thermomodel_None - WARNING - Warning : NULL/L\n",
      "2020-11-19 01:27:48,889 - thermomodel_None - WARNING - Warning : NULL/L\n",
      "2020-11-19 01:27:48,889 - thermomodel_None - WARNING - Warning : NULL/U\n",
      "2020-11-19 01:27:48,889 - thermomodel_None - WARNING - Warning : NULL/L\n",
      "2020-11-19 01:27:48,889 - thermomodel_None - WARNING - Warning : NULL/L\n",
      "2020-11-19 01:27:49,101 - thermomodel_None - WARNING - Warning : NULL/U\n",
      "2020-11-19 01:27:49,101 - thermomodel_None - WARNING - Warning : NULL/L\n",
      "2020-11-19 01:27:49,101 - thermomodel_None - WARNING - Warning : NULL/L\n",
      "2020-11-19 01:27:49,101 - thermomodel_None - WARNING - Warning : NULL/U\n",
      "2020-11-19 01:27:49,101 - thermomodel_None - WARNING - Warning : NULL/L\n",
      "2020-11-19 01:27:49,107 - thermomodel_None - WARNING - Warning : NULL/L\n",
      "2020-11-19 01:27:49,239 - thermomodel_None - WARNING - Warning : NULL/U\n",
      "2020-11-19 01:27:49,239 - thermomodel_None - WARNING - Warning : NULL/L\n",
      "2020-11-19 01:27:49,239 - thermomodel_None - WARNING - Warning : NULL/L\n",
      "2020-11-19 01:27:49,239 - thermomodel_None - WARNING - Warning : NULL/U\n",
      "2020-11-19 01:27:49,239 - thermomodel_None - WARNING - Warning : NULL/L\n",
      "2020-11-19 01:27:49,239 - thermomodel_None - WARNING - Warning : NULL/L\n",
      "2020-11-19 01:27:49,302 - thermomodel_None - WARNING - Warning : NULL/U\n",
      "2020-11-19 01:27:49,302 - thermomodel_None - WARNING - Warning : NULL/L\n",
      "2020-11-19 01:27:49,302 - thermomodel_None - WARNING - Warning : NULL/L\n",
      "2020-11-19 01:27:49,302 - thermomodel_None - WARNING - Warning : NULL/U\n",
      "2020-11-19 01:27:49,302 - thermomodel_None - WARNING - Warning : NULL/L\n",
      "2020-11-19 01:27:49,302 - thermomodel_None - WARNING - Warning : NULL/L\n",
      "2020-11-19 01:27:49,302 - thermomodel_None - WARNING - Warning : NULL/U\n",
      "2020-11-19 01:27:49,308 - thermomodel_None - WARNING - Warning : NULL/L\n",
      "2020-11-19 01:27:49,308 - thermomodel_None - WARNING - Warning : NULL/L\n",
      "2020-11-19 01:27:49,308 - thermomodel_None - WARNING - Warning : NULL/U\n",
      "2020-11-19 01:27:49,308 - thermomodel_None - WARNING - Warning : NULL/L\n",
      "2020-11-19 01:27:49,308 - thermomodel_None - WARNING - Warning : NULL/L\n",
      "2020-11-19 01:27:49,308 - thermomodel_None - WARNING - Warning : NULL/U\n",
      "2020-11-19 01:27:49,308 - thermomodel_None - WARNING - Warning : NULL/L\n",
      "2020-11-19 01:27:49,308 - thermomodel_None - WARNING - Warning : NULL/L\n",
      "2020-11-19 01:27:49,308 - thermomodel_None - WARNING - Warning : NULL/U\n",
      "2020-11-19 01:27:49,308 - thermomodel_None - WARNING - Warning : NULL/L\n",
      "2020-11-19 01:27:49,308 - thermomodel_None - WARNING - Warning : NULL/L\n",
      "2020-11-19 01:27:49,308 - thermomodel_None - WARNING - Warning : NULL/U\n",
      "2020-11-19 01:27:49,308 - thermomodel_None - WARNING - Warning : NULL/L\n",
      "2020-11-19 01:27:49,308 - thermomodel_None - WARNING - Warning : NULL/L\n",
      "2020-11-19 01:27:49,308 - thermomodel_None - WARNING - Warning : NULL/U\n",
      "2020-11-19 01:27:49,308 - thermomodel_None - WARNING - Warning : NULL/L\n",
      "2020-11-19 01:27:49,308 - thermomodel_None - WARNING - Warning : NULL/L\n",
      "2020-11-19 01:27:49,424 - thermomodel_None - INFO - # Model preparation done.\n",
      "2020-11-19 01:27:49,424 - thermomodel_None - INFO - # Model conversion starting...\n",
      "2020-11-19 01:28:23,494 - thermomodel_None - INFO - # Model conversion done.\n",
      "2020-11-19 01:28:23,494 - thermomodel_None - INFO - # Updating cobra_model variables...\n",
      "2020-11-19 01:28:23,543 - thermomodel_None - INFO - # cobra_model variables are up-to-date\n"
     ]
    },
    {
     "name": "stdout",
     "output_type": "stream",
     "text": [
      "Read LP format model from file C:\\Users\\riheme\\AppData\\Local\\Temp\\tmpo50oqts6.lp\n",
      "Reading time = 0.03 seconds\n",
      ": 1807 rows, 5170 columns, 20304 nonzeros\n",
      "Read LP format model from file C:\\Users\\riheme\\AppData\\Local\\Temp\\tmpddswbhwr.lp\n",
      "Reading time = 0.02 seconds\n",
      ": 1807 rows, 5170 columns, 20304 nonzeros\n"
     ]
    },
    {
     "name": "stderr",
     "output_type": "stream",
     "text": [
      "2020-11-19 01:28:39,604 - thermomodel_Ecoli PGI (Glc) 2 @ t = 3 - INFO - # Model initialized with units kcal/mol and temperature 298.15 K\n"
     ]
    },
    {
     "name": "stdout",
     "output_type": "stream",
     "text": [
      "Read LP format model from file C:\\Users\\riheme\\AppData\\Local\\Temp\\tmpj40lx0fk.lp\n",
      "Reading time = 0.02 seconds\n",
      ": 1807 rows, 5170 columns, 20304 nonzeros\n",
      "Read LP format model from file C:\\Users\\riheme\\AppData\\Local\\Temp\\tmpnocshdsj.lp\n",
      "Reading time = 0.02 seconds\n",
      ": 1807 rows, 5170 columns, 20304 nonzeros\n"
     ]
    },
    {
     "name": "stderr",
     "output_type": "stream",
     "text": [
      "2020-11-19 01:29:05,342 - thermomodel_Ecoli PGI (Glc) 2 @ t = 3 - INFO - # Model initialized with units kcal/mol and temperature 298.15 K\n",
      "2020-11-19 01:29:14,388 - thermomodel_Ecoli PGI (Glc) 2 @ t = 3 - INFO - Adding slack constraints\n",
      "adding slacks: 100%|███████████████████████████████████████████████████████████████| 1824/1824 [00:36<00:00, 49.64it/s]\n",
      "2020-11-19 01:29:52,708 - thermomodel_Ecoli PGI (Glc) 2 @ t = 3 - INFO - Optimizing slack model\n",
      "2020-11-19 01:29:57,866 - thermomodel_Ecoli PGI (Glc) 2 @ t = 3 - INFO - Extracting relaxation\n",
      "applying slack: 100%|███████████████████████████████████████████████████████████| 2585/2585 [00:00<00:00, 53115.60it/s]\n",
      "2020-11-19 01:29:57,991 - thermomodel_Ecoli PGI (Glc) 2 @ t = 3 - INFO - Testing relaxation\n"
     ]
    },
    {
     "name": "stdout",
     "output_type": "stream",
     "text": [
      "################################################################################\n",
      "Ecoli PGI (Glc) 2 @ t = 11\n",
      "(63.36 min)\n",
      "################################################################################\n",
      "Read LP format model from file C:\\Users\\riheme\\AppData\\Local\\Temp\\tmpjon2ovac.lp\n",
      "Reading time = 0.02 seconds\n",
      ": 1807 rows, 5170 columns, 20334 nonzeros\n",
      "Read LP format model from file C:\\Users\\riheme\\AppData\\Local\\Temp\\tmpayaeh4j_.lp\n",
      "Reading time = 0.02 seconds\n",
      ": 1807 rows, 5170 columns, 20334 nonzeros\n"
     ]
    },
    {
     "name": "stderr",
     "output_type": "stream",
     "text": [
      "2020-11-19 01:30:12,836 - thermomodel_None - INFO - # Model initialized with units kcal/mol and temperature 298.15 K\n",
      "2020-11-19 01:30:12,844 - thermomodel_None - INFO - # Model preparation starting...\n",
      "2020-11-19 01:30:15,117 - thermomodel_None - WARNING - Warning : NULL/U\n",
      "2020-11-19 01:30:15,117 - thermomodel_None - WARNING - Warning : NULL/L\n",
      "2020-11-19 01:30:15,117 - thermomodel_None - WARNING - Warning : NULL/L\n",
      "2020-11-19 01:30:15,117 - thermomodel_None - WARNING - Warning : NULL/U\n",
      "2020-11-19 01:30:15,117 - thermomodel_None - WARNING - Warning : NULL/L\n",
      "2020-11-19 01:30:15,117 - thermomodel_None - WARNING - Warning : NULL/L\n",
      "2020-11-19 01:30:15,329 - thermomodel_None - WARNING - Warning : NULL/U\n",
      "2020-11-19 01:30:15,329 - thermomodel_None - WARNING - Warning : NULL/L\n",
      "2020-11-19 01:30:15,329 - thermomodel_None - WARNING - Warning : NULL/L\n",
      "2020-11-19 01:30:15,329 - thermomodel_None - WARNING - Warning : NULL/U\n",
      "2020-11-19 01:30:15,329 - thermomodel_None - WARNING - Warning : NULL/L\n",
      "2020-11-19 01:30:15,329 - thermomodel_None - WARNING - Warning : NULL/L\n",
      "2020-11-19 01:30:15,471 - thermomodel_None - WARNING - Warning : NULL/U\n",
      "2020-11-19 01:30:15,471 - thermomodel_None - WARNING - Warning : NULL/L\n",
      "2020-11-19 01:30:15,471 - thermomodel_None - WARNING - Warning : NULL/L\n",
      "2020-11-19 01:30:15,471 - thermomodel_None - WARNING - Warning : NULL/U\n",
      "2020-11-19 01:30:15,479 - thermomodel_None - WARNING - Warning : NULL/L\n",
      "2020-11-19 01:30:15,479 - thermomodel_None - WARNING - Warning : NULL/L\n",
      "2020-11-19 01:30:15,520 - thermomodel_None - WARNING - Warning : NULL/U\n",
      "2020-11-19 01:30:15,520 - thermomodel_None - WARNING - Warning : NULL/L\n",
      "2020-11-19 01:30:15,520 - thermomodel_None - WARNING - Warning : NULL/L\n",
      "2020-11-19 01:30:15,520 - thermomodel_None - WARNING - Warning : NULL/U\n",
      "2020-11-19 01:30:15,520 - thermomodel_None - WARNING - Warning : NULL/L\n",
      "2020-11-19 01:30:15,520 - thermomodel_None - WARNING - Warning : NULL/L\n",
      "2020-11-19 01:30:15,536 - thermomodel_None - WARNING - Warning : NULL/U\n",
      "2020-11-19 01:30:15,536 - thermomodel_None - WARNING - Warning : NULL/L\n",
      "2020-11-19 01:30:15,536 - thermomodel_None - WARNING - Warning : NULL/L\n",
      "2020-11-19 01:30:15,536 - thermomodel_None - WARNING - Warning : NULL/U\n",
      "2020-11-19 01:30:15,536 - thermomodel_None - WARNING - Warning : NULL/L\n",
      "2020-11-19 01:30:15,536 - thermomodel_None - WARNING - Warning : NULL/L\n",
      "2020-11-19 01:30:15,536 - thermomodel_None - WARNING - Warning : NULL/U\n",
      "2020-11-19 01:30:15,536 - thermomodel_None - WARNING - Warning : NULL/L\n",
      "2020-11-19 01:30:15,536 - thermomodel_None - WARNING - Warning : NULL/L\n",
      "2020-11-19 01:30:15,536 - thermomodel_None - WARNING - Warning : NULL/U\n",
      "2020-11-19 01:30:15,536 - thermomodel_None - WARNING - Warning : NULL/L\n",
      "2020-11-19 01:30:15,536 - thermomodel_None - WARNING - Warning : NULL/L\n",
      "2020-11-19 01:30:15,536 - thermomodel_None - WARNING - Warning : NULL/U\n",
      "2020-11-19 01:30:15,536 - thermomodel_None - WARNING - Warning : NULL/L\n",
      "2020-11-19 01:30:15,536 - thermomodel_None - WARNING - Warning : NULL/L\n",
      "2020-11-19 01:30:15,536 - thermomodel_None - WARNING - Warning : NULL/U\n",
      "2020-11-19 01:30:15,536 - thermomodel_None - WARNING - Warning : NULL/L\n",
      "2020-11-19 01:30:15,536 - thermomodel_None - WARNING - Warning : NULL/L\n",
      "2020-11-19 01:30:15,651 - thermomodel_None - INFO - # Model preparation done.\n",
      "2020-11-19 01:30:15,651 - thermomodel_None - INFO - # Model conversion starting...\n",
      "2020-11-19 01:30:49,596 - thermomodel_None - INFO - # Model conversion done.\n",
      "2020-11-19 01:30:49,596 - thermomodel_None - INFO - # Updating cobra_model variables...\n",
      "2020-11-19 01:30:49,634 - thermomodel_None - INFO - # cobra_model variables are up-to-date\n"
     ]
    },
    {
     "name": "stdout",
     "output_type": "stream",
     "text": [
      "Read LP format model from file C:\\Users\\riheme\\AppData\\Local\\Temp\\tmp6sl1fp6_.lp\n",
      "Reading time = 0.02 seconds\n",
      ": 1807 rows, 5170 columns, 20304 nonzeros\n",
      "Read LP format model from file C:\\Users\\riheme\\AppData\\Local\\Temp\\tmpg7vu97tp.lp\n",
      "Reading time = 0.02 seconds\n",
      ": 1807 rows, 5170 columns, 20304 nonzeros\n"
     ]
    },
    {
     "name": "stderr",
     "output_type": "stream",
     "text": [
      "2020-11-19 01:31:05,668 - thermomodel_Ecoli PGI (Glc) 2 @ t = 11 - INFO - # Model initialized with units kcal/mol and temperature 298.15 K\n"
     ]
    },
    {
     "name": "stdout",
     "output_type": "stream",
     "text": [
      "Read LP format model from file C:\\Users\\riheme\\AppData\\Local\\Temp\\tmpzp_befl5.lp\n",
      "Reading time = 0.02 seconds\n",
      ": 1807 rows, 5170 columns, 20304 nonzeros\n",
      "Read LP format model from file C:\\Users\\riheme\\AppData\\Local\\Temp\\tmpt8pux8gf.lp\n",
      "Reading time = 0.02 seconds\n",
      ": 1807 rows, 5170 columns, 20304 nonzeros\n"
     ]
    },
    {
     "name": "stderr",
     "output_type": "stream",
     "text": [
      "2020-11-19 01:31:31,412 - thermomodel_Ecoli PGI (Glc) 2 @ t = 11 - INFO - # Model initialized with units kcal/mol and temperature 298.15 K\n",
      "2020-11-19 01:31:40,531 - thermomodel_Ecoli PGI (Glc) 2 @ t = 11 - INFO - Adding slack constraints\n",
      "adding slacks: 100%|███████████████████████████████████████████████████████████████| 1824/1824 [00:36<00:00, 50.19it/s]\n",
      "2020-11-19 01:32:18,465 - thermomodel_Ecoli PGI (Glc) 2 @ t = 11 - INFO - Optimizing slack model\n",
      "2020-11-19 01:32:23,517 - thermomodel_Ecoli PGI (Glc) 2 @ t = 11 - INFO - Extracting relaxation\n",
      "applying slack: 100%|███████████████████████████████████████████████████████████| 2585/2585 [00:00<00:00, 45420.85it/s]\n",
      "2020-11-19 01:32:23,654 - thermomodel_Ecoli PGI (Glc) 2 @ t = 11 - INFO - Testing relaxation\n"
     ]
    },
    {
     "name": "stdout",
     "output_type": "stream",
     "text": [
      "################################################################################\n",
      "Ecoli PGI (Glc) 3 @ t = 1\n",
      "(65.79 min)\n",
      "################################################################################\n",
      "Read LP format model from file C:\\Users\\riheme\\AppData\\Local\\Temp\\tmpx0kxeq_r.lp\n",
      "Reading time = 0.02 seconds\n",
      ": 1807 rows, 5170 columns, 20334 nonzeros\n",
      "Read LP format model from file C:\\Users\\riheme\\AppData\\Local\\Temp\\tmp_ngi2_yi.lp\n",
      "Reading time = 0.02 seconds\n",
      ": 1807 rows, 5170 columns, 20334 nonzeros\n"
     ]
    },
    {
     "name": "stderr",
     "output_type": "stream",
     "text": [
      "2020-11-19 01:32:38,481 - thermomodel_None - INFO - # Model initialized with units kcal/mol and temperature 298.15 K\n",
      "2020-11-19 01:32:38,489 - thermomodel_None - INFO - # Model preparation starting...\n",
      "2020-11-19 01:32:40,772 - thermomodel_None - WARNING - Warning : NULL/U\n",
      "2020-11-19 01:32:40,772 - thermomodel_None - WARNING - Warning : NULL/L\n",
      "2020-11-19 01:32:40,772 - thermomodel_None - WARNING - Warning : NULL/L\n",
      "2020-11-19 01:32:40,772 - thermomodel_None - WARNING - Warning : NULL/U\n",
      "2020-11-19 01:32:40,780 - thermomodel_None - WARNING - Warning : NULL/L\n",
      "2020-11-19 01:32:40,780 - thermomodel_None - WARNING - Warning : NULL/L\n",
      "2020-11-19 01:32:40,992 - thermomodel_None - WARNING - Warning : NULL/U\n",
      "2020-11-19 01:32:40,992 - thermomodel_None - WARNING - Warning : NULL/L\n",
      "2020-11-19 01:32:40,992 - thermomodel_None - WARNING - Warning : NULL/L\n",
      "2020-11-19 01:32:40,992 - thermomodel_None - WARNING - Warning : NULL/U\n",
      "2020-11-19 01:32:40,992 - thermomodel_None - WARNING - Warning : NULL/L\n",
      "2020-11-19 01:32:40,992 - thermomodel_None - WARNING - Warning : NULL/L\n",
      "2020-11-19 01:32:41,134 - thermomodel_None - WARNING - Warning : NULL/U\n",
      "2020-11-19 01:32:41,134 - thermomodel_None - WARNING - Warning : NULL/L\n",
      "2020-11-19 01:32:41,134 - thermomodel_None - WARNING - Warning : NULL/L\n",
      "2020-11-19 01:32:41,134 - thermomodel_None - WARNING - Warning : NULL/U\n",
      "2020-11-19 01:32:41,134 - thermomodel_None - WARNING - Warning : NULL/L\n",
      "2020-11-19 01:32:41,134 - thermomodel_None - WARNING - Warning : NULL/L\n",
      "2020-11-19 01:32:41,180 - thermomodel_None - WARNING - Warning : NULL/U\n",
      "2020-11-19 01:32:41,180 - thermomodel_None - WARNING - Warning : NULL/L\n",
      "2020-11-19 01:32:41,180 - thermomodel_None - WARNING - Warning : NULL/L\n",
      "2020-11-19 01:32:41,180 - thermomodel_None - WARNING - Warning : NULL/U\n",
      "2020-11-19 01:32:41,180 - thermomodel_None - WARNING - Warning : NULL/L\n",
      "2020-11-19 01:32:41,180 - thermomodel_None - WARNING - Warning : NULL/L\n",
      "2020-11-19 01:32:41,180 - thermomodel_None - WARNING - Warning : NULL/U\n",
      "2020-11-19 01:32:41,196 - thermomodel_None - WARNING - Warning : NULL/L\n",
      "2020-11-19 01:32:41,196 - thermomodel_None - WARNING - Warning : NULL/L\n",
      "2020-11-19 01:32:41,196 - thermomodel_None - WARNING - Warning : NULL/U\n",
      "2020-11-19 01:32:41,196 - thermomodel_None - WARNING - Warning : NULL/L\n",
      "2020-11-19 01:32:41,196 - thermomodel_None - WARNING - Warning : NULL/L\n",
      "2020-11-19 01:32:41,196 - thermomodel_None - WARNING - Warning : NULL/U\n",
      "2020-11-19 01:32:41,196 - thermomodel_None - WARNING - Warning : NULL/L\n",
      "2020-11-19 01:32:41,196 - thermomodel_None - WARNING - Warning : NULL/L\n",
      "2020-11-19 01:32:41,196 - thermomodel_None - WARNING - Warning : NULL/U\n",
      "2020-11-19 01:32:41,203 - thermomodel_None - WARNING - Warning : NULL/L\n",
      "2020-11-19 01:32:41,203 - thermomodel_None - WARNING - Warning : NULL/L\n",
      "2020-11-19 01:32:41,203 - thermomodel_None - WARNING - Warning : NULL/U\n",
      "2020-11-19 01:32:41,203 - thermomodel_None - WARNING - Warning : NULL/L\n",
      "2020-11-19 01:32:41,203 - thermomodel_None - WARNING - Warning : NULL/L\n",
      "2020-11-19 01:32:41,203 - thermomodel_None - WARNING - Warning : NULL/U\n",
      "2020-11-19 01:32:41,203 - thermomodel_None - WARNING - Warning : NULL/L\n",
      "2020-11-19 01:32:41,203 - thermomodel_None - WARNING - Warning : NULL/L\n",
      "2020-11-19 01:32:41,303 - thermomodel_None - INFO - # Model preparation done.\n",
      "2020-11-19 01:32:41,303 - thermomodel_None - INFO - # Model conversion starting...\n",
      "2020-11-19 01:33:15,462 - thermomodel_None - INFO - # Model conversion done.\n",
      "2020-11-19 01:33:15,462 - thermomodel_None - INFO - # Updating cobra_model variables...\n",
      "2020-11-19 01:33:15,505 - thermomodel_None - INFO - # cobra_model variables are up-to-date\n"
     ]
    },
    {
     "name": "stdout",
     "output_type": "stream",
     "text": [
      "Read LP format model from file C:\\Users\\riheme\\AppData\\Local\\Temp\\tmp3t3wb3r4.lp\n",
      "Reading time = 0.02 seconds\n",
      ": 1807 rows, 5170 columns, 20304 nonzeros\n",
      "Read LP format model from file C:\\Users\\riheme\\AppData\\Local\\Temp\\tmpjswxdg01.lp\n",
      "Reading time = 0.02 seconds\n",
      ": 1807 rows, 5170 columns, 20304 nonzeros\n"
     ]
    },
    {
     "name": "stderr",
     "output_type": "stream",
     "text": [
      "2020-11-19 01:33:31,526 - thermomodel_Ecoli PGI (Glc) 3 @ t = 1 - INFO - # Model initialized with units kcal/mol and temperature 298.15 K\n"
     ]
    },
    {
     "name": "stdout",
     "output_type": "stream",
     "text": [
      "Read LP format model from file C:\\Users\\riheme\\AppData\\Local\\Temp\\tmpzkg49f6i.lp\n",
      "Reading time = 0.02 seconds\n",
      ": 1807 rows, 5170 columns, 20304 nonzeros\n",
      "Read LP format model from file C:\\Users\\riheme\\AppData\\Local\\Temp\\tmp5cht1he4.lp\n",
      "Reading time = 0.02 seconds\n",
      ": 1807 rows, 5170 columns, 20304 nonzeros\n"
     ]
    },
    {
     "name": "stderr",
     "output_type": "stream",
     "text": [
      "2020-11-19 01:33:57,453 - thermomodel_Ecoli PGI (Glc) 3 @ t = 1 - INFO - # Model initialized with units kcal/mol and temperature 298.15 K\n",
      "2020-11-19 01:34:06,563 - thermomodel_Ecoli PGI (Glc) 3 @ t = 1 - INFO - Adding slack constraints\n",
      "adding slacks: 100%|███████████████████████████████████████████████████████████████| 1824/1824 [00:36<00:00, 49.80it/s]\n",
      "2020-11-19 01:34:44,772 - thermomodel_Ecoli PGI (Glc) 3 @ t = 1 - INFO - Optimizing slack model\n",
      "2020-11-19 01:34:48,354 - thermomodel_Ecoli PGI (Glc) 3 @ t = 1 - INFO - Extracting relaxation\n",
      "applying slack: 100%|███████████████████████████████████████████████████████████| 2585/2585 [00:00<00:00, 44009.71it/s]\n",
      "2020-11-19 01:34:48,492 - thermomodel_Ecoli PGI (Glc) 3 @ t = 1 - INFO - Testing relaxation\n"
     ]
    },
    {
     "name": "stdout",
     "output_type": "stream",
     "text": [
      "################################################################################\n",
      "Ecoli PGI (Glc) 3 @ t = 2\n",
      "(68.21 min)\n",
      "################################################################################\n",
      "Read LP format model from file C:\\Users\\riheme\\AppData\\Local\\Temp\\tmpqs2q0flk.lp\n",
      "Reading time = 0.02 seconds\n",
      ": 1807 rows, 5170 columns, 20334 nonzeros\n",
      "Read LP format model from file C:\\Users\\riheme\\AppData\\Local\\Temp\\tmp5a820bhi.lp\n",
      "Reading time = 0.02 seconds\n",
      ": 1807 rows, 5170 columns, 20334 nonzeros\n"
     ]
    },
    {
     "name": "stderr",
     "output_type": "stream",
     "text": [
      "2020-11-19 01:35:03,399 - thermomodel_None - INFO - # Model initialized with units kcal/mol and temperature 298.15 K\n",
      "2020-11-19 01:35:03,409 - thermomodel_None - INFO - # Model preparation starting...\n",
      "2020-11-19 01:35:05,667 - thermomodel_None - WARNING - Warning : NULL/U\n",
      "2020-11-19 01:35:05,670 - thermomodel_None - WARNING - Warning : NULL/L\n",
      "2020-11-19 01:35:05,670 - thermomodel_None - WARNING - Warning : NULL/L\n",
      "2020-11-19 01:35:05,670 - thermomodel_None - WARNING - Warning : NULL/U\n",
      "2020-11-19 01:35:05,670 - thermomodel_None - WARNING - Warning : NULL/L\n",
      "2020-11-19 01:35:05,670 - thermomodel_None - WARNING - Warning : NULL/L\n",
      "2020-11-19 01:35:05,882 - thermomodel_None - WARNING - Warning : NULL/U\n",
      "2020-11-19 01:35:05,882 - thermomodel_None - WARNING - Warning : NULL/L\n",
      "2020-11-19 01:35:05,882 - thermomodel_None - WARNING - Warning : NULL/L\n",
      "2020-11-19 01:35:05,882 - thermomodel_None - WARNING - Warning : NULL/U\n",
      "2020-11-19 01:35:05,882 - thermomodel_None - WARNING - Warning : NULL/L\n",
      "2020-11-19 01:35:05,882 - thermomodel_None - WARNING - Warning : NULL/L\n",
      "2020-11-19 01:35:06,017 - thermomodel_None - WARNING - Warning : NULL/U\n",
      "2020-11-19 01:35:06,017 - thermomodel_None - WARNING - Warning : NULL/L\n",
      "2020-11-19 01:35:06,017 - thermomodel_None - WARNING - Warning : NULL/L\n",
      "2020-11-19 01:35:06,017 - thermomodel_None - WARNING - Warning : NULL/U\n",
      "2020-11-19 01:35:06,017 - thermomodel_None - WARNING - Warning : NULL/L\n",
      "2020-11-19 01:35:06,017 - thermomodel_None - WARNING - Warning : NULL/L\n",
      "2020-11-19 01:35:06,080 - thermomodel_None - WARNING - Warning : NULL/U\n",
      "2020-11-19 01:35:06,080 - thermomodel_None - WARNING - Warning : NULL/L\n",
      "2020-11-19 01:35:06,080 - thermomodel_None - WARNING - Warning : NULL/L\n",
      "2020-11-19 01:35:06,080 - thermomodel_None - WARNING - Warning : NULL/U\n",
      "2020-11-19 01:35:06,080 - thermomodel_None - WARNING - Warning : NULL/L\n",
      "2020-11-19 01:35:06,080 - thermomodel_None - WARNING - Warning : NULL/L\n",
      "2020-11-19 01:35:06,080 - thermomodel_None - WARNING - Warning : NULL/U\n",
      "2020-11-19 01:35:06,080 - thermomodel_None - WARNING - Warning : NULL/L\n",
      "2020-11-19 01:35:06,080 - thermomodel_None - WARNING - Warning : NULL/L\n",
      "2020-11-19 01:35:06,080 - thermomodel_None - WARNING - Warning : NULL/U\n",
      "2020-11-19 01:35:06,080 - thermomodel_None - WARNING - Warning : NULL/L\n",
      "2020-11-19 01:35:06,080 - thermomodel_None - WARNING - Warning : NULL/L\n",
      "2020-11-19 01:35:06,080 - thermomodel_None - WARNING - Warning : NULL/U\n",
      "2020-11-19 01:35:06,096 - thermomodel_None - WARNING - Warning : NULL/L\n",
      "2020-11-19 01:35:06,096 - thermomodel_None - WARNING - Warning : NULL/L\n",
      "2020-11-19 01:35:06,096 - thermomodel_None - WARNING - Warning : NULL/U\n",
      "2020-11-19 01:35:06,096 - thermomodel_None - WARNING - Warning : NULL/L\n",
      "2020-11-19 01:35:06,096 - thermomodel_None - WARNING - Warning : NULL/L\n",
      "2020-11-19 01:35:06,096 - thermomodel_None - WARNING - Warning : NULL/U\n",
      "2020-11-19 01:35:06,101 - thermomodel_None - WARNING - Warning : NULL/L\n",
      "2020-11-19 01:35:06,101 - thermomodel_None - WARNING - Warning : NULL/L\n",
      "2020-11-19 01:35:06,101 - thermomodel_None - WARNING - Warning : NULL/U\n",
      "2020-11-19 01:35:06,101 - thermomodel_None - WARNING - Warning : NULL/L\n",
      "2020-11-19 01:35:06,101 - thermomodel_None - WARNING - Warning : NULL/L\n",
      "2020-11-19 01:35:06,201 - thermomodel_None - INFO - # Model preparation done.\n",
      "2020-11-19 01:35:06,201 - thermomodel_None - INFO - # Model conversion starting...\n",
      "2020-11-19 01:35:40,063 - thermomodel_None - INFO - # Model conversion done.\n",
      "2020-11-19 01:35:40,063 - thermomodel_None - INFO - # Updating cobra_model variables...\n",
      "2020-11-19 01:35:40,112 - thermomodel_None - INFO - # cobra_model variables are up-to-date\n"
     ]
    },
    {
     "name": "stdout",
     "output_type": "stream",
     "text": [
      "Read LP format model from file C:\\Users\\riheme\\AppData\\Local\\Temp\\tmpyz15p825.lp\n",
      "Reading time = 0.02 seconds\n",
      ": 1807 rows, 5170 columns, 20304 nonzeros\n",
      "Read LP format model from file C:\\Users\\riheme\\AppData\\Local\\Temp\\tmpmso83413.lp\n",
      "Reading time = 0.02 seconds\n",
      ": 1807 rows, 5170 columns, 20304 nonzeros\n"
     ]
    },
    {
     "name": "stderr",
     "output_type": "stream",
     "text": [
      "2020-11-19 01:35:56,202 - thermomodel_Ecoli PGI (Glc) 3 @ t = 2 - INFO - # Model initialized with units kcal/mol and temperature 298.15 K\n"
     ]
    },
    {
     "name": "stdout",
     "output_type": "stream",
     "text": [
      "Read LP format model from file C:\\Users\\riheme\\AppData\\Local\\Temp\\tmpkg6n92xa.lp\n",
      "Reading time = 0.02 seconds\n",
      ": 1807 rows, 5170 columns, 20304 nonzeros\n",
      "Read LP format model from file C:\\Users\\riheme\\AppData\\Local\\Temp\\tmp3dculy1e.lp\n",
      "Reading time = 0.02 seconds\n",
      ": 1807 rows, 5170 columns, 20304 nonzeros\n"
     ]
    },
    {
     "name": "stderr",
     "output_type": "stream",
     "text": [
      "2020-11-19 01:36:21,849 - thermomodel_Ecoli PGI (Glc) 3 @ t = 2 - INFO - # Model initialized with units kcal/mol and temperature 298.15 K\n",
      "2020-11-19 01:36:30,829 - thermomodel_Ecoli PGI (Glc) 3 @ t = 2 - INFO - Adding slack constraints\n",
      "adding slacks: 100%|███████████████████████████████████████████████████████████████| 1824/1824 [00:36<00:00, 50.05it/s]\n",
      "2020-11-19 01:37:08,861 - thermomodel_Ecoli PGI (Glc) 3 @ t = 2 - INFO - Optimizing slack model\n",
      "2020-11-19 01:37:12,453 - thermomodel_Ecoli PGI (Glc) 3 @ t = 2 - INFO - Extracting relaxation\n",
      "applying slack: 100%|███████████████████████████████████████████████████████████| 2585/2585 [00:00<00:00, 56487.25it/s]\n",
      "2020-11-19 01:37:12,581 - thermomodel_Ecoli PGI (Glc) 3 @ t = 2 - INFO - Testing relaxation\n"
     ]
    },
    {
     "name": "stdout",
     "output_type": "stream",
     "text": [
      "################################################################################\n",
      "Ecoli PGI (Glc) 3 @ t = 3\n",
      "(70.61 min)\n",
      "################################################################################\n",
      "Read LP format model from file C:\\Users\\riheme\\AppData\\Local\\Temp\\tmpwesuynws.lp\n",
      "Reading time = 0.02 seconds\n",
      ": 1807 rows, 5170 columns, 20334 nonzeros\n",
      "Read LP format model from file C:\\Users\\riheme\\AppData\\Local\\Temp\\tmpmb3qfhtv.lp\n",
      "Reading time = 0.02 seconds\n",
      ": 1807 rows, 5170 columns, 20334 nonzeros\n"
     ]
    },
    {
     "name": "stderr",
     "output_type": "stream",
     "text": [
      "2020-11-19 01:37:27,353 - thermomodel_None - INFO - # Model initialized with units kcal/mol and temperature 298.15 K\n",
      "2020-11-19 01:37:27,371 - thermomodel_None - INFO - # Model preparation starting...\n",
      "2020-11-19 01:37:29,643 - thermomodel_None - WARNING - Warning : NULL/U\n",
      "2020-11-19 01:37:29,643 - thermomodel_None - WARNING - Warning : NULL/L\n",
      "2020-11-19 01:37:29,643 - thermomodel_None - WARNING - Warning : NULL/L\n",
      "2020-11-19 01:37:29,643 - thermomodel_None - WARNING - Warning : NULL/U\n",
      "2020-11-19 01:37:29,643 - thermomodel_None - WARNING - Warning : NULL/L\n",
      "2020-11-19 01:37:29,643 - thermomodel_None - WARNING - Warning : NULL/L\n",
      "2020-11-19 01:37:29,856 - thermomodel_None - WARNING - Warning : NULL/U\n",
      "2020-11-19 01:37:29,856 - thermomodel_None - WARNING - Warning : NULL/L\n",
      "2020-11-19 01:37:29,856 - thermomodel_None - WARNING - Warning : NULL/L\n",
      "2020-11-19 01:37:29,856 - thermomodel_None - WARNING - Warning : NULL/U\n",
      "2020-11-19 01:37:29,856 - thermomodel_None - WARNING - Warning : NULL/L\n",
      "2020-11-19 01:37:29,856 - thermomodel_None - WARNING - Warning : NULL/L\n",
      "2020-11-19 01:37:29,997 - thermomodel_None - WARNING - Warning : NULL/U\n",
      "2020-11-19 01:37:29,997 - thermomodel_None - WARNING - Warning : NULL/L\n",
      "2020-11-19 01:37:29,997 - thermomodel_None - WARNING - Warning : NULL/L\n",
      "2020-11-19 01:37:29,997 - thermomodel_None - WARNING - Warning : NULL/U\n",
      "2020-11-19 01:37:30,005 - thermomodel_None - WARNING - Warning : NULL/L\n",
      "2020-11-19 01:37:30,005 - thermomodel_None - WARNING - Warning : NULL/L\n",
      "2020-11-19 01:37:30,046 - thermomodel_None - WARNING - Warning : NULL/U\n",
      "2020-11-19 01:37:30,046 - thermomodel_None - WARNING - Warning : NULL/L\n",
      "2020-11-19 01:37:30,046 - thermomodel_None - WARNING - Warning : NULL/L\n",
      "2020-11-19 01:37:30,046 - thermomodel_None - WARNING - Warning : NULL/U\n",
      "2020-11-19 01:37:30,046 - thermomodel_None - WARNING - Warning : NULL/L\n",
      "2020-11-19 01:37:30,062 - thermomodel_None - WARNING - Warning : NULL/L\n",
      "2020-11-19 01:37:30,062 - thermomodel_None - WARNING - Warning : NULL/U\n",
      "2020-11-19 01:37:30,062 - thermomodel_None - WARNING - Warning : NULL/L\n",
      "2020-11-19 01:37:30,062 - thermomodel_None - WARNING - Warning : NULL/L\n",
      "2020-11-19 01:37:30,062 - thermomodel_None - WARNING - Warning : NULL/U\n",
      "2020-11-19 01:37:30,062 - thermomodel_None - WARNING - Warning : NULL/L\n",
      "2020-11-19 01:37:30,062 - thermomodel_None - WARNING - Warning : NULL/L\n",
      "2020-11-19 01:37:30,062 - thermomodel_None - WARNING - Warning : NULL/U\n",
      "2020-11-19 01:37:30,062 - thermomodel_None - WARNING - Warning : NULL/L\n",
      "2020-11-19 01:37:30,062 - thermomodel_None - WARNING - Warning : NULL/L\n",
      "2020-11-19 01:37:30,062 - thermomodel_None - WARNING - Warning : NULL/U\n",
      "2020-11-19 01:37:30,062 - thermomodel_None - WARNING - Warning : NULL/L\n",
      "2020-11-19 01:37:30,062 - thermomodel_None - WARNING - Warning : NULL/L\n",
      "2020-11-19 01:37:30,062 - thermomodel_None - WARNING - Warning : NULL/U\n",
      "2020-11-19 01:37:30,062 - thermomodel_None - WARNING - Warning : NULL/L\n",
      "2020-11-19 01:37:30,062 - thermomodel_None - WARNING - Warning : NULL/L\n",
      "2020-11-19 01:37:30,062 - thermomodel_None - WARNING - Warning : NULL/U\n",
      "2020-11-19 01:37:30,062 - thermomodel_None - WARNING - Warning : NULL/L\n",
      "2020-11-19 01:37:30,062 - thermomodel_None - WARNING - Warning : NULL/L\n",
      "2020-11-19 01:37:30,178 - thermomodel_None - INFO - # Model preparation done.\n",
      "2020-11-19 01:37:30,178 - thermomodel_None - INFO - # Model conversion starting...\n",
      "2020-11-19 01:38:04,269 - thermomodel_None - INFO - # Model conversion done.\n",
      "2020-11-19 01:38:04,269 - thermomodel_None - INFO - # Updating cobra_model variables...\n",
      "2020-11-19 01:38:04,304 - thermomodel_None - INFO - # cobra_model variables are up-to-date\n"
     ]
    },
    {
     "name": "stdout",
     "output_type": "stream",
     "text": [
      "Read LP format model from file C:\\Users\\riheme\\AppData\\Local\\Temp\\tmpup34ac_6.lp\n",
      "Reading time = 0.02 seconds\n",
      ": 1807 rows, 5170 columns, 20304 nonzeros\n",
      "Read LP format model from file C:\\Users\\riheme\\AppData\\Local\\Temp\\tmpsawheyr2.lp\n",
      "Reading time = 0.02 seconds\n",
      ": 1807 rows, 5170 columns, 20304 nonzeros\n"
     ]
    },
    {
     "name": "stderr",
     "output_type": "stream",
     "text": [
      "2020-11-19 01:38:20,358 - thermomodel_Ecoli PGI (Glc) 3 @ t = 3 - INFO - # Model initialized with units kcal/mol and temperature 298.15 K\n"
     ]
    },
    {
     "name": "stdout",
     "output_type": "stream",
     "text": [
      "Read LP format model from file C:\\Users\\riheme\\AppData\\Local\\Temp\\tmphl50f3l4.lp\n",
      "Reading time = 0.02 seconds\n",
      ": 1807 rows, 5170 columns, 20304 nonzeros\n",
      "Read LP format model from file C:\\Users\\riheme\\AppData\\Local\\Temp\\tmpv5woaq9r.lp\n",
      "Reading time = 0.02 seconds\n",
      ": 1807 rows, 5170 columns, 20304 nonzeros\n"
     ]
    },
    {
     "name": "stderr",
     "output_type": "stream",
     "text": [
      "2020-11-19 01:38:46,122 - thermomodel_Ecoli PGI (Glc) 3 @ t = 3 - INFO - # Model initialized with units kcal/mol and temperature 298.15 K\n",
      "2020-11-19 01:38:55,360 - thermomodel_Ecoli PGI (Glc) 3 @ t = 3 - INFO - Adding slack constraints\n",
      "adding slacks: 100%|███████████████████████████████████████████████████████████████| 1824/1824 [00:36<00:00, 49.72it/s]\n",
      "2020-11-19 01:39:33,625 - thermomodel_Ecoli PGI (Glc) 3 @ t = 3 - INFO - Optimizing slack model\n",
      "2020-11-19 01:39:37,780 - thermomodel_Ecoli PGI (Glc) 3 @ t = 3 - INFO - Extracting relaxation\n",
      "applying slack: 100%|███████████████████████████████████████████████████████████| 2585/2585 [00:00<00:00, 55152.00it/s]\n",
      "2020-11-19 01:39:37,915 - thermomodel_Ecoli PGI (Glc) 3 @ t = 3 - INFO - Testing relaxation\n"
     ]
    },
    {
     "name": "stdout",
     "output_type": "stream",
     "text": [
      "################################################################################\n",
      "Ecoli PGI (Glc) 3 @ t = 11\n",
      "(73.03 min)\n",
      "################################################################################\n",
      "Read LP format model from file C:\\Users\\riheme\\AppData\\Local\\Temp\\tmpfy_12szn.lp\n",
      "Reading time = 0.02 seconds\n",
      ": 1807 rows, 5170 columns, 20334 nonzeros\n",
      "Read LP format model from file C:\\Users\\riheme\\AppData\\Local\\Temp\\tmpjae5k01b.lp\n",
      "Reading time = 0.02 seconds\n",
      ": 1807 rows, 5170 columns, 20334 nonzeros\n"
     ]
    },
    {
     "name": "stderr",
     "output_type": "stream",
     "text": [
      "2020-11-19 01:39:52,726 - thermomodel_None - INFO - # Model initialized with units kcal/mol and temperature 298.15 K\n",
      "2020-11-19 01:39:52,734 - thermomodel_None - INFO - # Model preparation starting...\n",
      "2020-11-19 01:39:55,042 - thermomodel_None - WARNING - Warning : NULL/U\n",
      "2020-11-19 01:39:55,042 - thermomodel_None - WARNING - Warning : NULL/L\n",
      "2020-11-19 01:39:55,042 - thermomodel_None - WARNING - Warning : NULL/L\n",
      "2020-11-19 01:39:55,042 - thermomodel_None - WARNING - Warning : NULL/U\n",
      "2020-11-19 01:39:55,050 - thermomodel_None - WARNING - Warning : NULL/L\n",
      "2020-11-19 01:39:55,050 - thermomodel_None - WARNING - Warning : NULL/L\n",
      "2020-11-19 01:39:55,254 - thermomodel_None - WARNING - Warning : NULL/U\n",
      "2020-11-19 01:39:55,254 - thermomodel_None - WARNING - Warning : NULL/L\n",
      "2020-11-19 01:39:55,262 - thermomodel_None - WARNING - Warning : NULL/L\n",
      "2020-11-19 01:39:55,262 - thermomodel_None - WARNING - Warning : NULL/U\n",
      "2020-11-19 01:39:55,262 - thermomodel_None - WARNING - Warning : NULL/L\n",
      "2020-11-19 01:39:55,264 - thermomodel_None - WARNING - Warning : NULL/L\n",
      "2020-11-19 01:39:55,394 - thermomodel_None - WARNING - Warning : NULL/U\n",
      "2020-11-19 01:39:55,402 - thermomodel_None - WARNING - Warning : NULL/L\n",
      "2020-11-19 01:39:55,402 - thermomodel_None - WARNING - Warning : NULL/L\n",
      "2020-11-19 01:39:55,404 - thermomodel_None - WARNING - Warning : NULL/U\n",
      "2020-11-19 01:39:55,404 - thermomodel_None - WARNING - Warning : NULL/L\n",
      "2020-11-19 01:39:55,404 - thermomodel_None - WARNING - Warning : NULL/L\n",
      "2020-11-19 01:39:55,455 - thermomodel_None - WARNING - Warning : NULL/U\n",
      "2020-11-19 01:39:55,455 - thermomodel_None - WARNING - Warning : NULL/L\n",
      "2020-11-19 01:39:55,455 - thermomodel_None - WARNING - Warning : NULL/L\n",
      "2020-11-19 01:39:55,455 - thermomodel_None - WARNING - Warning : NULL/U\n",
      "2020-11-19 01:39:55,455 - thermomodel_None - WARNING - Warning : NULL/L\n",
      "2020-11-19 01:39:55,455 - thermomodel_None - WARNING - Warning : NULL/L\n",
      "2020-11-19 01:39:55,463 - thermomodel_None - WARNING - Warning : NULL/U\n",
      "2020-11-19 01:39:55,463 - thermomodel_None - WARNING - Warning : NULL/L\n",
      "2020-11-19 01:39:55,463 - thermomodel_None - WARNING - Warning : NULL/L\n",
      "2020-11-19 01:39:55,463 - thermomodel_None - WARNING - Warning : NULL/U\n",
      "2020-11-19 01:39:55,463 - thermomodel_None - WARNING - Warning : NULL/L\n",
      "2020-11-19 01:39:55,463 - thermomodel_None - WARNING - Warning : NULL/L\n",
      "2020-11-19 01:39:55,463 - thermomodel_None - WARNING - Warning : NULL/U\n",
      "2020-11-19 01:39:55,463 - thermomodel_None - WARNING - Warning : NULL/L\n",
      "2020-11-19 01:39:55,463 - thermomodel_None - WARNING - Warning : NULL/L\n",
      "2020-11-19 01:39:55,463 - thermomodel_None - WARNING - Warning : NULL/U\n",
      "2020-11-19 01:39:55,463 - thermomodel_None - WARNING - Warning : NULL/L\n",
      "2020-11-19 01:39:55,463 - thermomodel_None - WARNING - Warning : NULL/L\n",
      "2020-11-19 01:39:55,463 - thermomodel_None - WARNING - Warning : NULL/U\n",
      "2020-11-19 01:39:55,463 - thermomodel_None - WARNING - Warning : NULL/L\n",
      "2020-11-19 01:39:55,473 - thermomodel_None - WARNING - Warning : NULL/L\n",
      "2020-11-19 01:39:55,473 - thermomodel_None - WARNING - Warning : NULL/U\n",
      "2020-11-19 01:39:55,473 - thermomodel_None - WARNING - Warning : NULL/L\n",
      "2020-11-19 01:39:55,475 - thermomodel_None - WARNING - Warning : NULL/L\n",
      "2020-11-19 01:39:55,575 - thermomodel_None - INFO - # Model preparation done.\n",
      "2020-11-19 01:39:55,583 - thermomodel_None - INFO - # Model conversion starting...\n",
      "2020-11-19 01:40:29,395 - thermomodel_None - INFO - # Model conversion done.\n",
      "2020-11-19 01:40:29,395 - thermomodel_None - INFO - # Updating cobra_model variables...\n",
      "2020-11-19 01:40:29,429 - thermomodel_None - INFO - # cobra_model variables are up-to-date\n"
     ]
    },
    {
     "name": "stdout",
     "output_type": "stream",
     "text": [
      "Read LP format model from file C:\\Users\\riheme\\AppData\\Local\\Temp\\tmpwgs58nva.lp\n",
      "Reading time = 0.02 seconds\n",
      ": 1807 rows, 5170 columns, 20304 nonzeros\n",
      "Read LP format model from file C:\\Users\\riheme\\AppData\\Local\\Temp\\tmp4lk0cqmg.lp\n",
      "Reading time = 0.02 seconds\n",
      ": 1807 rows, 5170 columns, 20304 nonzeros\n"
     ]
    },
    {
     "name": "stderr",
     "output_type": "stream",
     "text": [
      "2020-11-19 01:40:45,558 - thermomodel_Ecoli PGI (Glc) 3 @ t = 11 - INFO - # Model initialized with units kcal/mol and temperature 298.15 K\n"
     ]
    },
    {
     "name": "stdout",
     "output_type": "stream",
     "text": [
      "Read LP format model from file C:\\Users\\riheme\\AppData\\Local\\Temp\\tmp2vdo3g8u.lp\n",
      "Reading time = 0.02 seconds\n",
      ": 1807 rows, 5170 columns, 20304 nonzeros\n",
      "Read LP format model from file C:\\Users\\riheme\\AppData\\Local\\Temp\\tmpp0tnq_3n.lp\n",
      "Reading time = 0.02 seconds\n",
      ": 1807 rows, 5170 columns, 20304 nonzeros\n"
     ]
    },
    {
     "name": "stderr",
     "output_type": "stream",
     "text": [
      "2020-11-19 01:41:11,387 - thermomodel_Ecoli PGI (Glc) 3 @ t = 11 - INFO - # Model initialized with units kcal/mol and temperature 298.15 K\n",
      "2020-11-19 01:41:20,526 - thermomodel_Ecoli PGI (Glc) 3 @ t = 11 - INFO - Adding slack constraints\n",
      "adding slacks: 100%|███████████████████████████████████████████████████████████████| 1824/1824 [00:36<00:00, 49.89it/s]\n",
      "2020-11-19 01:41:58,675 - thermomodel_Ecoli PGI (Glc) 3 @ t = 11 - INFO - Optimizing slack model\n",
      "2020-11-19 01:42:02,759 - thermomodel_Ecoli PGI (Glc) 3 @ t = 11 - INFO - Extracting relaxation\n",
      "applying slack: 100%|███████████████████████████████████████████████████████████| 2585/2585 [00:00<00:00, 48931.21it/s]\n",
      "2020-11-19 01:42:02,901 - thermomodel_Ecoli PGI (Glc) 3 @ t = 11 - INFO - Testing relaxation\n"
     ]
    },
    {
     "name": "stdout",
     "output_type": "stream",
     "text": [
      "################################################################################\n",
      "Ecoli PGI (Glc) 4 @ t = 1\n",
      "(75.44 min)\n",
      "################################################################################\n",
      "Read LP format model from file C:\\Users\\riheme\\AppData\\Local\\Temp\\tmpwkgwjt53.lp\n",
      "Reading time = 0.02 seconds\n",
      ": 1807 rows, 5170 columns, 20334 nonzeros\n",
      "Read LP format model from file C:\\Users\\riheme\\AppData\\Local\\Temp\\tmpb_qvncjb.lp\n",
      "Reading time = 0.03 seconds\n",
      ": 1807 rows, 5170 columns, 20334 nonzeros\n"
     ]
    },
    {
     "name": "stderr",
     "output_type": "stream",
     "text": [
      "2020-11-19 01:42:17,650 - thermomodel_None - INFO - # Model initialized with units kcal/mol and temperature 298.15 K\n",
      "2020-11-19 01:42:17,658 - thermomodel_None - INFO - # Model preparation starting...\n",
      "2020-11-19 01:42:19,960 - thermomodel_None - WARNING - Warning : NULL/U\n",
      "2020-11-19 01:42:19,960 - thermomodel_None - WARNING - Warning : NULL/L\n",
      "2020-11-19 01:42:19,960 - thermomodel_None - WARNING - Warning : NULL/L\n",
      "2020-11-19 01:42:19,960 - thermomodel_None - WARNING - Warning : NULL/U\n",
      "2020-11-19 01:42:19,960 - thermomodel_None - WARNING - Warning : NULL/L\n",
      "2020-11-19 01:42:19,968 - thermomodel_None - WARNING - Warning : NULL/L\n",
      "2020-11-19 01:42:20,181 - thermomodel_None - WARNING - Warning : NULL/U\n",
      "2020-11-19 01:42:20,181 - thermomodel_None - WARNING - Warning : NULL/L\n",
      "2020-11-19 01:42:20,181 - thermomodel_None - WARNING - Warning : NULL/L\n",
      "2020-11-19 01:42:20,181 - thermomodel_None - WARNING - Warning : NULL/U\n",
      "2020-11-19 01:42:20,181 - thermomodel_None - WARNING - Warning : NULL/L\n",
      "2020-11-19 01:42:20,181 - thermomodel_None - WARNING - Warning : NULL/L\n",
      "2020-11-19 01:42:20,324 - thermomodel_None - WARNING - Warning : NULL/U\n",
      "2020-11-19 01:42:20,324 - thermomodel_None - WARNING - Warning : NULL/L\n",
      "2020-11-19 01:42:20,324 - thermomodel_None - WARNING - Warning : NULL/L\n",
      "2020-11-19 01:42:20,324 - thermomodel_None - WARNING - Warning : NULL/U\n",
      "2020-11-19 01:42:20,324 - thermomodel_None - WARNING - Warning : NULL/L\n",
      "2020-11-19 01:42:20,324 - thermomodel_None - WARNING - Warning : NULL/L\n",
      "2020-11-19 01:42:20,373 - thermomodel_None - WARNING - Warning : NULL/U\n",
      "2020-11-19 01:42:20,373 - thermomodel_None - WARNING - Warning : NULL/L\n",
      "2020-11-19 01:42:20,373 - thermomodel_None - WARNING - Warning : NULL/L\n",
      "2020-11-19 01:42:20,373 - thermomodel_None - WARNING - Warning : NULL/U\n",
      "2020-11-19 01:42:20,373 - thermomodel_None - WARNING - Warning : NULL/L\n",
      "2020-11-19 01:42:20,373 - thermomodel_None - WARNING - Warning : NULL/L\n",
      "2020-11-19 01:42:20,373 - thermomodel_None - WARNING - Warning : NULL/U\n",
      "2020-11-19 01:42:20,373 - thermomodel_None - WARNING - Warning : NULL/L\n",
      "2020-11-19 01:42:20,373 - thermomodel_None - WARNING - Warning : NULL/L\n",
      "2020-11-19 01:42:20,389 - thermomodel_None - WARNING - Warning : NULL/U\n",
      "2020-11-19 01:42:20,389 - thermomodel_None - WARNING - Warning : NULL/L\n",
      "2020-11-19 01:42:20,389 - thermomodel_None - WARNING - Warning : NULL/L\n",
      "2020-11-19 01:42:20,389 - thermomodel_None - WARNING - Warning : NULL/U\n",
      "2020-11-19 01:42:20,389 - thermomodel_None - WARNING - Warning : NULL/L\n",
      "2020-11-19 01:42:20,389 - thermomodel_None - WARNING - Warning : NULL/L\n",
      "2020-11-19 01:42:20,389 - thermomodel_None - WARNING - Warning : NULL/U\n",
      "2020-11-19 01:42:20,389 - thermomodel_None - WARNING - Warning : NULL/L\n",
      "2020-11-19 01:42:20,389 - thermomodel_None - WARNING - Warning : NULL/L\n",
      "2020-11-19 01:42:20,389 - thermomodel_None - WARNING - Warning : NULL/U\n",
      "2020-11-19 01:42:20,389 - thermomodel_None - WARNING - Warning : NULL/L\n",
      "2020-11-19 01:42:20,389 - thermomodel_None - WARNING - Warning : NULL/L\n",
      "2020-11-19 01:42:20,389 - thermomodel_None - WARNING - Warning : NULL/U\n",
      "2020-11-19 01:42:20,389 - thermomodel_None - WARNING - Warning : NULL/L\n",
      "2020-11-19 01:42:20,389 - thermomodel_None - WARNING - Warning : NULL/L\n",
      "2020-11-19 01:42:20,505 - thermomodel_None - INFO - # Model preparation done.\n",
      "2020-11-19 01:42:20,505 - thermomodel_None - INFO - # Model conversion starting...\n",
      "2020-11-19 01:42:54,375 - thermomodel_None - INFO - # Model conversion done.\n",
      "2020-11-19 01:42:54,375 - thermomodel_None - INFO - # Updating cobra_model variables...\n",
      "2020-11-19 01:42:54,411 - thermomodel_None - INFO - # cobra_model variables are up-to-date\n"
     ]
    },
    {
     "name": "stdout",
     "output_type": "stream",
     "text": [
      "Read LP format model from file C:\\Users\\riheme\\AppData\\Local\\Temp\\tmpvioifby0.lp\n",
      "Reading time = 0.03 seconds\n",
      ": 1807 rows, 5170 columns, 20304 nonzeros\n",
      "Read LP format model from file C:\\Users\\riheme\\AppData\\Local\\Temp\\tmphp0of7to.lp\n",
      "Reading time = 0.02 seconds\n",
      ": 1807 rows, 5170 columns, 20304 nonzeros\n"
     ]
    },
    {
     "name": "stderr",
     "output_type": "stream",
     "text": [
      "2020-11-19 01:43:10,519 - thermomodel_Ecoli PGI (Glc) 4 @ t = 1 - INFO - # Model initialized with units kcal/mol and temperature 298.15 K\n"
     ]
    },
    {
     "name": "stdout",
     "output_type": "stream",
     "text": [
      "Read LP format model from file C:\\Users\\riheme\\AppData\\Local\\Temp\\tmp3rqhqxb6.lp\n",
      "Reading time = 0.02 seconds\n",
      ": 1807 rows, 5170 columns, 20304 nonzeros\n",
      "Read LP format model from file C:\\Users\\riheme\\AppData\\Local\\Temp\\tmpfiqkomp9.lp\n",
      "Reading time = 0.03 seconds\n",
      ": 1807 rows, 5170 columns, 20304 nonzeros\n"
     ]
    },
    {
     "name": "stderr",
     "output_type": "stream",
     "text": [
      "2020-11-19 01:43:36,450 - thermomodel_Ecoli PGI (Glc) 4 @ t = 1 - INFO - # Model initialized with units kcal/mol and temperature 298.15 K\n",
      "2020-11-19 01:43:45,377 - thermomodel_Ecoli PGI (Glc) 4 @ t = 1 - INFO - Adding slack constraints\n",
      "adding slacks: 100%|███████████████████████████████████████████████████████████████| 1824/1824 [00:35<00:00, 50.77it/s]\n",
      "2020-11-19 01:44:23,659 - thermomodel_Ecoli PGI (Glc) 4 @ t = 1 - INFO - Optimizing slack model\n",
      "2020-11-19 01:44:27,397 - thermomodel_Ecoli PGI (Glc) 4 @ t = 1 - INFO - Extracting relaxation\n",
      "applying slack: 100%|███████████████████████████████████████████████████████████| 2585/2585 [00:00<00:00, 53242.11it/s]\n",
      "2020-11-19 01:44:27,539 - thermomodel_Ecoli PGI (Glc) 4 @ t = 1 - INFO - Testing relaxation\n"
     ]
    },
    {
     "name": "stdout",
     "output_type": "stream",
     "text": [
      "################################################################################\n",
      "Ecoli PGI (Glc) 4 @ t = 2\n",
      "(77.86 min)\n",
      "################################################################################\n",
      "Read LP format model from file C:\\Users\\riheme\\AppData\\Local\\Temp\\tmpy6tjkmp8.lp\n",
      "Reading time = 0.02 seconds\n",
      ": 1807 rows, 5170 columns, 20334 nonzeros\n",
      "Read LP format model from file C:\\Users\\riheme\\AppData\\Local\\Temp\\tmph3uisdql.lp\n",
      "Reading time = 0.02 seconds\n",
      ": 1807 rows, 5170 columns, 20334 nonzeros\n"
     ]
    },
    {
     "name": "stderr",
     "output_type": "stream",
     "text": [
      "2020-11-19 01:44:42,456 - thermomodel_None - INFO - # Model initialized with units kcal/mol and temperature 298.15 K\n",
      "2020-11-19 01:44:42,468 - thermomodel_None - INFO - # Model preparation starting...\n",
      "2020-11-19 01:44:44,762 - thermomodel_None - WARNING - Warning : NULL/U\n",
      "2020-11-19 01:44:44,762 - thermomodel_None - WARNING - Warning : NULL/L\n",
      "2020-11-19 01:44:44,762 - thermomodel_None - WARNING - Warning : NULL/L\n",
      "2020-11-19 01:44:44,762 - thermomodel_None - WARNING - Warning : NULL/U\n",
      "2020-11-19 01:44:44,762 - thermomodel_None - WARNING - Warning : NULL/L\n",
      "2020-11-19 01:44:44,770 - thermomodel_None - WARNING - Warning : NULL/L\n",
      "2020-11-19 01:44:44,973 - thermomodel_None - WARNING - Warning : NULL/U\n",
      "2020-11-19 01:44:44,973 - thermomodel_None - WARNING - Warning : NULL/L\n",
      "2020-11-19 01:44:44,981 - thermomodel_None - WARNING - Warning : NULL/L\n",
      "2020-11-19 01:44:44,981 - thermomodel_None - WARNING - Warning : NULL/U\n",
      "2020-11-19 01:44:44,981 - thermomodel_None - WARNING - Warning : NULL/L\n",
      "2020-11-19 01:44:44,981 - thermomodel_None - WARNING - Warning : NULL/L\n",
      "2020-11-19 01:44:45,124 - thermomodel_None - WARNING - Warning : NULL/U\n",
      "2020-11-19 01:44:45,124 - thermomodel_None - WARNING - Warning : NULL/L\n",
      "2020-11-19 01:44:45,124 - thermomodel_None - WARNING - Warning : NULL/L\n",
      "2020-11-19 01:44:45,124 - thermomodel_None - WARNING - Warning : NULL/U\n",
      "2020-11-19 01:44:45,124 - thermomodel_None - WARNING - Warning : NULL/L\n",
      "2020-11-19 01:44:45,124 - thermomodel_None - WARNING - Warning : NULL/L\n",
      "2020-11-19 01:44:45,173 - thermomodel_None - WARNING - Warning : NULL/U\n",
      "2020-11-19 01:44:45,173 - thermomodel_None - WARNING - Warning : NULL/L\n",
      "2020-11-19 01:44:45,173 - thermomodel_None - WARNING - Warning : NULL/L\n",
      "2020-11-19 01:44:45,173 - thermomodel_None - WARNING - Warning : NULL/U\n",
      "2020-11-19 01:44:45,173 - thermomodel_None - WARNING - Warning : NULL/L\n",
      "2020-11-19 01:44:45,173 - thermomodel_None - WARNING - Warning : NULL/L\n",
      "2020-11-19 01:44:45,173 - thermomodel_None - WARNING - Warning : NULL/U\n",
      "2020-11-19 01:44:45,173 - thermomodel_None - WARNING - Warning : NULL/L\n",
      "2020-11-19 01:44:45,173 - thermomodel_None - WARNING - Warning : NULL/L\n",
      "2020-11-19 01:44:45,173 - thermomodel_None - WARNING - Warning : NULL/U\n",
      "2020-11-19 01:44:45,173 - thermomodel_None - WARNING - Warning : NULL/L\n",
      "2020-11-19 01:44:45,188 - thermomodel_None - WARNING - Warning : NULL/L\n",
      "2020-11-19 01:44:45,188 - thermomodel_None - WARNING - Warning : NULL/U\n",
      "2020-11-19 01:44:45,188 - thermomodel_None - WARNING - Warning : NULL/L\n",
      "2020-11-19 01:44:45,188 - thermomodel_None - WARNING - Warning : NULL/L\n",
      "2020-11-19 01:44:45,188 - thermomodel_None - WARNING - Warning : NULL/U\n",
      "2020-11-19 01:44:45,188 - thermomodel_None - WARNING - Warning : NULL/L\n",
      "2020-11-19 01:44:45,188 - thermomodel_None - WARNING - Warning : NULL/L\n",
      "2020-11-19 01:44:45,188 - thermomodel_None - WARNING - Warning : NULL/U\n",
      "2020-11-19 01:44:45,188 - thermomodel_None - WARNING - Warning : NULL/L\n",
      "2020-11-19 01:44:45,188 - thermomodel_None - WARNING - Warning : NULL/L\n",
      "2020-11-19 01:44:45,188 - thermomodel_None - WARNING - Warning : NULL/U\n",
      "2020-11-19 01:44:45,188 - thermomodel_None - WARNING - Warning : NULL/L\n",
      "2020-11-19 01:44:45,188 - thermomodel_None - WARNING - Warning : NULL/L\n",
      "2020-11-19 01:44:45,304 - thermomodel_None - INFO - # Model preparation done.\n",
      "2020-11-19 01:44:45,304 - thermomodel_None - INFO - # Model conversion starting...\n",
      "2020-11-19 01:45:19,378 - thermomodel_None - INFO - # Model conversion done.\n",
      "2020-11-19 01:45:19,378 - thermomodel_None - INFO - # Updating cobra_model variables...\n",
      "2020-11-19 01:45:19,426 - thermomodel_None - INFO - # cobra_model variables are up-to-date\n"
     ]
    },
    {
     "name": "stdout",
     "output_type": "stream",
     "text": [
      "Read LP format model from file C:\\Users\\riheme\\AppData\\Local\\Temp\\tmpqizj923k.lp\n",
      "Reading time = 0.02 seconds\n",
      ": 1807 rows, 5170 columns, 20304 nonzeros\n",
      "Read LP format model from file C:\\Users\\riheme\\AppData\\Local\\Temp\\tmpybudx0g0.lp\n",
      "Reading time = 0.02 seconds\n",
      ": 1807 rows, 5170 columns, 20304 nonzeros\n"
     ]
    },
    {
     "name": "stderr",
     "output_type": "stream",
     "text": [
      "2020-11-19 01:45:35,709 - thermomodel_Ecoli PGI (Glc) 4 @ t = 2 - INFO - # Model initialized with units kcal/mol and temperature 298.15 K\n"
     ]
    },
    {
     "name": "stdout",
     "output_type": "stream",
     "text": [
      "Read LP format model from file C:\\Users\\riheme\\AppData\\Local\\Temp\\tmp26yi1deu.lp\n",
      "Reading time = 0.02 seconds\n",
      ": 1807 rows, 5170 columns, 20304 nonzeros\n",
      "Read LP format model from file C:\\Users\\riheme\\AppData\\Local\\Temp\\tmplsgi1ev1.lp\n",
      "Reading time = 0.03 seconds\n",
      ": 1807 rows, 5170 columns, 20304 nonzeros\n"
     ]
    },
    {
     "name": "stderr",
     "output_type": "stream",
     "text": [
      "2020-11-19 01:46:01,523 - thermomodel_Ecoli PGI (Glc) 4 @ t = 2 - INFO - # Model initialized with units kcal/mol and temperature 298.15 K\n",
      "2020-11-19 01:46:10,524 - thermomodel_Ecoli PGI (Glc) 4 @ t = 2 - INFO - Adding slack constraints\n",
      "adding slacks: 100%|███████████████████████████████████████████████████████████████| 1824/1824 [00:37<00:00, 48.62it/s]\n",
      "2020-11-19 01:46:49,643 - thermomodel_Ecoli PGI (Glc) 4 @ t = 2 - INFO - Optimizing slack model\n",
      "2020-11-19 01:46:54,702 - thermomodel_Ecoli PGI (Glc) 4 @ t = 2 - INFO - Extracting relaxation\n",
      "applying slack: 100%|███████████████████████████████████████████████████████████| 2585/2585 [00:00<00:00, 45424.09it/s]\n",
      "2020-11-19 01:46:54,839 - thermomodel_Ecoli PGI (Glc) 4 @ t = 2 - INFO - Testing relaxation\n"
     ]
    },
    {
     "name": "stdout",
     "output_type": "stream",
     "text": [
      "################################################################################\n",
      "Ecoli PGI (Glc) 4 @ t = 3\n",
      "(80.31 min)\n",
      "################################################################################\n",
      "Read LP format model from file C:\\Users\\riheme\\AppData\\Local\\Temp\\tmpuawxz7bq.lp\n",
      "Reading time = 0.02 seconds\n",
      ": 1807 rows, 5170 columns, 20334 nonzeros\n",
      "Read LP format model from file C:\\Users\\riheme\\AppData\\Local\\Temp\\tmpq9z2kcjm.lp\n",
      "Reading time = 0.03 seconds\n",
      ": 1807 rows, 5170 columns, 20334 nonzeros\n"
     ]
    },
    {
     "name": "stderr",
     "output_type": "stream",
     "text": [
      "2020-11-19 01:47:09,803 - thermomodel_None - INFO - # Model initialized with units kcal/mol and temperature 298.15 K\n",
      "2020-11-19 01:47:09,813 - thermomodel_None - INFO - # Model preparation starting...\n",
      "2020-11-19 01:47:12,077 - thermomodel_None - WARNING - Warning : NULL/U\n",
      "2020-11-19 01:47:12,077 - thermomodel_None - WARNING - Warning : NULL/L\n",
      "2020-11-19 01:47:12,077 - thermomodel_None - WARNING - Warning : NULL/L\n",
      "2020-11-19 01:47:12,085 - thermomodel_None - WARNING - Warning : NULL/U\n",
      "2020-11-19 01:47:12,085 - thermomodel_None - WARNING - Warning : NULL/L\n",
      "2020-11-19 01:47:12,085 - thermomodel_None - WARNING - Warning : NULL/L\n",
      "2020-11-19 01:47:12,289 - thermomodel_None - WARNING - Warning : NULL/U\n",
      "2020-11-19 01:47:12,297 - thermomodel_None - WARNING - Warning : NULL/L\n",
      "2020-11-19 01:47:12,297 - thermomodel_None - WARNING - Warning : NULL/L\n",
      "2020-11-19 01:47:12,299 - thermomodel_None - WARNING - Warning : NULL/U\n",
      "2020-11-19 01:47:12,299 - thermomodel_None - WARNING - Warning : NULL/L\n",
      "2020-11-19 01:47:12,299 - thermomodel_None - WARNING - Warning : NULL/L\n",
      "2020-11-19 01:47:12,442 - thermomodel_None - WARNING - Warning : NULL/U\n",
      "2020-11-19 01:47:12,450 - thermomodel_None - WARNING - Warning : NULL/L\n",
      "2020-11-19 01:47:12,450 - thermomodel_None - WARNING - Warning : NULL/L\n",
      "2020-11-19 01:47:12,450 - thermomodel_None - WARNING - Warning : NULL/U\n",
      "2020-11-19 01:47:12,450 - thermomodel_None - WARNING - Warning : NULL/L\n",
      "2020-11-19 01:47:12,450 - thermomodel_None - WARNING - Warning : NULL/L\n",
      "2020-11-19 01:47:12,506 - thermomodel_None - WARNING - Warning : NULL/U\n",
      "2020-11-19 01:47:12,506 - thermomodel_None - WARNING - Warning : NULL/L\n",
      "2020-11-19 01:47:12,506 - thermomodel_None - WARNING - Warning : NULL/L\n",
      "2020-11-19 01:47:12,506 - thermomodel_None - WARNING - Warning : NULL/U\n",
      "2020-11-19 01:47:12,506 - thermomodel_None - WARNING - Warning : NULL/L\n",
      "2020-11-19 01:47:12,506 - thermomodel_None - WARNING - Warning : NULL/L\n",
      "2020-11-19 01:47:12,506 - thermomodel_None - WARNING - Warning : NULL/U\n",
      "2020-11-19 01:47:12,506 - thermomodel_None - WARNING - Warning : NULL/L\n",
      "2020-11-19 01:47:12,506 - thermomodel_None - WARNING - Warning : NULL/L\n",
      "2020-11-19 01:47:12,506 - thermomodel_None - WARNING - Warning : NULL/U\n",
      "2020-11-19 01:47:12,506 - thermomodel_None - WARNING - Warning : NULL/L\n",
      "2020-11-19 01:47:12,506 - thermomodel_None - WARNING - Warning : NULL/L\n",
      "2020-11-19 01:47:12,506 - thermomodel_None - WARNING - Warning : NULL/U\n",
      "2020-11-19 01:47:12,506 - thermomodel_None - WARNING - Warning : NULL/L\n",
      "2020-11-19 01:47:12,522 - thermomodel_None - WARNING - Warning : NULL/L\n",
      "2020-11-19 01:47:12,522 - thermomodel_None - WARNING - Warning : NULL/U\n",
      "2020-11-19 01:47:12,522 - thermomodel_None - WARNING - Warning : NULL/L\n",
      "2020-11-19 01:47:12,522 - thermomodel_None - WARNING - Warning : NULL/L\n",
      "2020-11-19 01:47:12,522 - thermomodel_None - WARNING - Warning : NULL/U\n",
      "2020-11-19 01:47:12,522 - thermomodel_None - WARNING - Warning : NULL/L\n",
      "2020-11-19 01:47:12,522 - thermomodel_None - WARNING - Warning : NULL/L\n",
      "2020-11-19 01:47:12,522 - thermomodel_None - WARNING - Warning : NULL/U\n",
      "2020-11-19 01:47:12,522 - thermomodel_None - WARNING - Warning : NULL/L\n",
      "2020-11-19 01:47:12,522 - thermomodel_None - WARNING - Warning : NULL/L\n",
      "2020-11-19 01:47:12,627 - thermomodel_None - INFO - # Model preparation done.\n",
      "2020-11-19 01:47:12,627 - thermomodel_None - INFO - # Model conversion starting...\n",
      "2020-11-19 01:47:46,554 - thermomodel_None - INFO - # Model conversion done.\n",
      "2020-11-19 01:47:46,554 - thermomodel_None - INFO - # Updating cobra_model variables...\n",
      "2020-11-19 01:47:46,605 - thermomodel_None - INFO - # cobra_model variables are up-to-date\n"
     ]
    },
    {
     "name": "stdout",
     "output_type": "stream",
     "text": [
      "Read LP format model from file C:\\Users\\riheme\\AppData\\Local\\Temp\\tmp_0vm80v5.lp\n",
      "Reading time = 0.02 seconds\n",
      ": 1807 rows, 5170 columns, 20304 nonzeros\n",
      "Read LP format model from file C:\\Users\\riheme\\AppData\\Local\\Temp\\tmp872zmo2g.lp\n",
      "Reading time = 0.02 seconds\n",
      ": 1807 rows, 5170 columns, 20304 nonzeros\n"
     ]
    },
    {
     "name": "stderr",
     "output_type": "stream",
     "text": [
      "2020-11-19 01:48:03,199 - thermomodel_Ecoli PGI (Glc) 4 @ t = 3 - INFO - # Model initialized with units kcal/mol and temperature 298.15 K\n"
     ]
    },
    {
     "name": "stdout",
     "output_type": "stream",
     "text": [
      "Read LP format model from file C:\\Users\\riheme\\AppData\\Local\\Temp\\tmph0a_xupq.lp\n",
      "Reading time = 0.02 seconds\n",
      ": 1807 rows, 5170 columns, 20304 nonzeros\n",
      "Read LP format model from file C:\\Users\\riheme\\AppData\\Local\\Temp\\tmp346cnlgg.lp\n",
      "Reading time = 0.02 seconds\n",
      ": 1807 rows, 5170 columns, 20304 nonzeros\n"
     ]
    },
    {
     "name": "stderr",
     "output_type": "stream",
     "text": [
      "2020-11-19 01:48:28,871 - thermomodel_Ecoli PGI (Glc) 4 @ t = 3 - INFO - # Model initialized with units kcal/mol and temperature 298.15 K\n",
      "2020-11-19 01:48:37,940 - thermomodel_Ecoli PGI (Glc) 4 @ t = 3 - INFO - Adding slack constraints\n",
      "adding slacks: 100%|███████████████████████████████████████████████████████████████| 1824/1824 [00:36<00:00, 49.81it/s]\n",
      "2020-11-19 01:49:16,171 - thermomodel_Ecoli PGI (Glc) 4 @ t = 3 - INFO - Optimizing slack model\n",
      "2020-11-19 01:49:21,416 - thermomodel_Ecoli PGI (Glc) 4 @ t = 3 - INFO - Extracting relaxation\n",
      "applying slack: 100%|███████████████████████████████████████████████████████████| 2585/2585 [00:00<00:00, 55116.39it/s]\n",
      "2020-11-19 01:49:21,552 - thermomodel_Ecoli PGI (Glc) 4 @ t = 3 - INFO - Testing relaxation\n"
     ]
    },
    {
     "name": "stdout",
     "output_type": "stream",
     "text": [
      "################################################################################\n",
      "Ecoli PGI (Glc) 4 @ t = 11\n",
      "(82.76 min)\n",
      "################################################################################\n",
      "Read LP format model from file C:\\Users\\riheme\\AppData\\Local\\Temp\\tmps8jlgha1.lp\n",
      "Reading time = 0.02 seconds\n",
      ": 1807 rows, 5170 columns, 20334 nonzeros\n",
      "Read LP format model from file C:\\Users\\riheme\\AppData\\Local\\Temp\\tmpabckgigs.lp\n",
      "Reading time = 0.02 seconds\n",
      ": 1807 rows, 5170 columns, 20334 nonzeros\n"
     ]
    },
    {
     "name": "stderr",
     "output_type": "stream",
     "text": [
      "2020-11-19 01:49:36,367 - thermomodel_None - INFO - # Model initialized with units kcal/mol and temperature 298.15 K\n",
      "2020-11-19 01:49:36,377 - thermomodel_None - INFO - # Model preparation starting...\n",
      "2020-11-19 01:49:38,657 - thermomodel_None - WARNING - Warning : NULL/U\n",
      "2020-11-19 01:49:38,657 - thermomodel_None - WARNING - Warning : NULL/L\n",
      "2020-11-19 01:49:38,657 - thermomodel_None - WARNING - Warning : NULL/L\n",
      "2020-11-19 01:49:38,657 - thermomodel_None - WARNING - Warning : NULL/U\n",
      "2020-11-19 01:49:38,657 - thermomodel_None - WARNING - Warning : NULL/L\n",
      "2020-11-19 01:49:38,657 - thermomodel_None - WARNING - Warning : NULL/L\n",
      "2020-11-19 01:49:38,870 - thermomodel_None - WARNING - Warning : NULL/U\n",
      "2020-11-19 01:49:38,870 - thermomodel_None - WARNING - Warning : NULL/L\n",
      "2020-11-19 01:49:38,870 - thermomodel_None - WARNING - Warning : NULL/L\n",
      "2020-11-19 01:49:38,870 - thermomodel_None - WARNING - Warning : NULL/U\n",
      "2020-11-19 01:49:38,870 - thermomodel_None - WARNING - Warning : NULL/L\n",
      "2020-11-19 01:49:38,870 - thermomodel_None - WARNING - Warning : NULL/L\n",
      "2020-11-19 01:49:39,008 - thermomodel_None - WARNING - Warning : NULL/U\n",
      "2020-11-19 01:49:39,008 - thermomodel_None - WARNING - Warning : NULL/L\n",
      "2020-11-19 01:49:39,008 - thermomodel_None - WARNING - Warning : NULL/L\n",
      "2020-11-19 01:49:39,008 - thermomodel_None - WARNING - Warning : NULL/U\n",
      "2020-11-19 01:49:39,008 - thermomodel_None - WARNING - Warning : NULL/L\n",
      "2020-11-19 01:49:39,008 - thermomodel_None - WARNING - Warning : NULL/L\n",
      "2020-11-19 01:49:39,070 - thermomodel_None - WARNING - Warning : NULL/U\n",
      "2020-11-19 01:49:39,070 - thermomodel_None - WARNING - Warning : NULL/L\n",
      "2020-11-19 01:49:39,070 - thermomodel_None - WARNING - Warning : NULL/L\n",
      "2020-11-19 01:49:39,070 - thermomodel_None - WARNING - Warning : NULL/U\n",
      "2020-11-19 01:49:39,070 - thermomodel_None - WARNING - Warning : NULL/L\n",
      "2020-11-19 01:49:39,070 - thermomodel_None - WARNING - Warning : NULL/L\n",
      "2020-11-19 01:49:39,070 - thermomodel_None - WARNING - Warning : NULL/U\n",
      "2020-11-19 01:49:39,070 - thermomodel_None - WARNING - Warning : NULL/L\n",
      "2020-11-19 01:49:39,077 - thermomodel_None - WARNING - Warning : NULL/L\n",
      "2020-11-19 01:49:39,077 - thermomodel_None - WARNING - Warning : NULL/U\n",
      "2020-11-19 01:49:39,077 - thermomodel_None - WARNING - Warning : NULL/L\n",
      "2020-11-19 01:49:39,077 - thermomodel_None - WARNING - Warning : NULL/L\n",
      "2020-11-19 01:49:39,077 - thermomodel_None - WARNING - Warning : NULL/U\n",
      "2020-11-19 01:49:39,077 - thermomodel_None - WARNING - Warning : NULL/L\n",
      "2020-11-19 01:49:39,077 - thermomodel_None - WARNING - Warning : NULL/L\n",
      "2020-11-19 01:49:39,077 - thermomodel_None - WARNING - Warning : NULL/U\n",
      "2020-11-19 01:49:39,077 - thermomodel_None - WARNING - Warning : NULL/L\n",
      "2020-11-19 01:49:39,077 - thermomodel_None - WARNING - Warning : NULL/L\n",
      "2020-11-19 01:49:39,077 - thermomodel_None - WARNING - Warning : NULL/U\n",
      "2020-11-19 01:49:39,077 - thermomodel_None - WARNING - Warning : NULL/L\n",
      "2020-11-19 01:49:39,077 - thermomodel_None - WARNING - Warning : NULL/L\n",
      "2020-11-19 01:49:39,077 - thermomodel_None - WARNING - Warning : NULL/U\n",
      "2020-11-19 01:49:39,077 - thermomodel_None - WARNING - Warning : NULL/L\n",
      "2020-11-19 01:49:39,077 - thermomodel_None - WARNING - Warning : NULL/L\n",
      "2020-11-19 01:49:39,193 - thermomodel_None - INFO - # Model preparation done.\n",
      "2020-11-19 01:49:39,193 - thermomodel_None - INFO - # Model conversion starting...\n",
      "2020-11-19 01:50:13,044 - thermomodel_None - INFO - # Model conversion done.\n",
      "2020-11-19 01:50:13,044 - thermomodel_None - INFO - # Updating cobra_model variables...\n",
      "2020-11-19 01:50:13,092 - thermomodel_None - INFO - # cobra_model variables are up-to-date\n"
     ]
    },
    {
     "name": "stdout",
     "output_type": "stream",
     "text": [
      "Read LP format model from file C:\\Users\\riheme\\AppData\\Local\\Temp\\tmpib4rjd4u.lp\n",
      "Reading time = 0.02 seconds\n",
      ": 1807 rows, 5170 columns, 20304 nonzeros\n",
      "Read LP format model from file C:\\Users\\riheme\\AppData\\Local\\Temp\\tmpzyothzqk.lp\n",
      "Reading time = 0.02 seconds\n",
      ": 1807 rows, 5170 columns, 20304 nonzeros\n"
     ]
    },
    {
     "name": "stderr",
     "output_type": "stream",
     "text": [
      "2020-11-19 01:50:29,143 - thermomodel_Ecoli PGI (Glc) 4 @ t = 11 - INFO - # Model initialized with units kcal/mol and temperature 298.15 K\n"
     ]
    },
    {
     "name": "stdout",
     "output_type": "stream",
     "text": [
      "Read LP format model from file C:\\Users\\riheme\\AppData\\Local\\Temp\\tmpztcjkx_u.lp\n",
      "Reading time = 0.02 seconds\n",
      ": 1807 rows, 5170 columns, 20304 nonzeros\n",
      "Read LP format model from file C:\\Users\\riheme\\AppData\\Local\\Temp\\tmp7dvpjhog.lp\n",
      "Reading time = 0.03 seconds\n",
      ": 1807 rows, 5170 columns, 20304 nonzeros\n"
     ]
    },
    {
     "name": "stderr",
     "output_type": "stream",
     "text": [
      "2020-11-19 01:50:54,930 - thermomodel_Ecoli PGI (Glc) 4 @ t = 11 - INFO - # Model initialized with units kcal/mol and temperature 298.15 K\n",
      "2020-11-19 01:51:04,093 - thermomodel_Ecoli PGI (Glc) 4 @ t = 11 - INFO - Adding slack constraints\n",
      "adding slacks: 100%|███████████████████████████████████████████████████████████████| 1824/1824 [00:36<00:00, 49.46it/s]\n",
      "2020-11-19 01:51:42,556 - thermomodel_Ecoli PGI (Glc) 4 @ t = 11 - INFO - Optimizing slack model\n",
      "2020-11-19 01:51:47,862 - thermomodel_Ecoli PGI (Glc) 4 @ t = 11 - INFO - Extracting relaxation\n",
      "applying slack: 100%|███████████████████████████████████████████████████████████| 2585/2585 [00:00<00:00, 41368.36it/s]\n",
      "2020-11-19 01:51:48,008 - thermomodel_Ecoli PGI (Glc) 4 @ t = 11 - INFO - Testing relaxation\n"
     ]
    },
    {
     "name": "stdout",
     "output_type": "stream",
     "text": [
      "################################################################################\n",
      "Ecoli PGI (Glc) 5 @ t = 1\n",
      "(85.20 min)\n",
      "################################################################################\n",
      "Read LP format model from file C:\\Users\\riheme\\AppData\\Local\\Temp\\tmpm93zpbkf.lp\n",
      "Reading time = 0.02 seconds\n",
      ": 1807 rows, 5170 columns, 20334 nonzeros\n",
      "Read LP format model from file C:\\Users\\riheme\\AppData\\Local\\Temp\\tmp8xvge6qd.lp\n",
      "Reading time = 0.02 seconds\n",
      ": 1807 rows, 5170 columns, 20334 nonzeros\n"
     ]
    },
    {
     "name": "stderr",
     "output_type": "stream",
     "text": [
      "2020-11-19 01:52:02,923 - thermomodel_None - INFO - # Model initialized with units kcal/mol and temperature 298.15 K\n",
      "2020-11-19 01:52:02,931 - thermomodel_None - INFO - # Model preparation starting...\n",
      "2020-11-19 01:52:05,257 - thermomodel_None - WARNING - Warning : NULL/U\n",
      "2020-11-19 01:52:05,259 - thermomodel_None - WARNING - Warning : NULL/L\n",
      "2020-11-19 01:52:05,259 - thermomodel_None - WARNING - Warning : NULL/L\n",
      "2020-11-19 01:52:05,259 - thermomodel_None - WARNING - Warning : NULL/U\n",
      "2020-11-19 01:52:05,259 - thermomodel_None - WARNING - Warning : NULL/L\n",
      "2020-11-19 01:52:05,259 - thermomodel_None - WARNING - Warning : NULL/L\n",
      "2020-11-19 01:52:05,471 - thermomodel_None - WARNING - Warning : NULL/U\n",
      "2020-11-19 01:52:05,471 - thermomodel_None - WARNING - Warning : NULL/L\n",
      "2020-11-19 01:52:05,479 - thermomodel_None - WARNING - Warning : NULL/L\n",
      "2020-11-19 01:52:05,479 - thermomodel_None - WARNING - Warning : NULL/U\n",
      "2020-11-19 01:52:05,479 - thermomodel_None - WARNING - Warning : NULL/L\n",
      "2020-11-19 01:52:05,479 - thermomodel_None - WARNING - Warning : NULL/L\n",
      "2020-11-19 01:52:05,620 - thermomodel_None - WARNING - Warning : NULL/U\n",
      "2020-11-19 01:52:05,622 - thermomodel_None - WARNING - Warning : NULL/L\n",
      "2020-11-19 01:52:05,622 - thermomodel_None - WARNING - Warning : NULL/L\n",
      "2020-11-19 01:52:05,622 - thermomodel_None - WARNING - Warning : NULL/U\n",
      "2020-11-19 01:52:05,622 - thermomodel_None - WARNING - Warning : NULL/L\n",
      "2020-11-19 01:52:05,622 - thermomodel_None - WARNING - Warning : NULL/L\n",
      "2020-11-19 01:52:05,672 - thermomodel_None - WARNING - Warning : NULL/U\n",
      "2020-11-19 01:52:05,672 - thermomodel_None - WARNING - Warning : NULL/L\n",
      "2020-11-19 01:52:05,672 - thermomodel_None - WARNING - Warning : NULL/L\n",
      "2020-11-19 01:52:05,680 - thermomodel_None - WARNING - Warning : NULL/U\n",
      "2020-11-19 01:52:05,680 - thermomodel_None - WARNING - Warning : NULL/L\n",
      "2020-11-19 01:52:05,682 - thermomodel_None - WARNING - Warning : NULL/L\n",
      "2020-11-19 01:52:05,682 - thermomodel_None - WARNING - Warning : NULL/U\n",
      "2020-11-19 01:52:05,682 - thermomodel_None - WARNING - Warning : NULL/L\n",
      "2020-11-19 01:52:05,682 - thermomodel_None - WARNING - Warning : NULL/L\n",
      "2020-11-19 01:52:05,682 - thermomodel_None - WARNING - Warning : NULL/U\n",
      "2020-11-19 01:52:05,682 - thermomodel_None - WARNING - Warning : NULL/L\n",
      "2020-11-19 01:52:05,682 - thermomodel_None - WARNING - Warning : NULL/L\n",
      "2020-11-19 01:52:05,682 - thermomodel_None - WARNING - Warning : NULL/U\n",
      "2020-11-19 01:52:05,682 - thermomodel_None - WARNING - Warning : NULL/L\n",
      "2020-11-19 01:52:05,682 - thermomodel_None - WARNING - Warning : NULL/L\n",
      "2020-11-19 01:52:05,690 - thermomodel_None - WARNING - Warning : NULL/U\n",
      "2020-11-19 01:52:05,690 - thermomodel_None - WARNING - Warning : NULL/L\n",
      "2020-11-19 01:52:05,690 - thermomodel_None - WARNING - Warning : NULL/L\n",
      "2020-11-19 01:52:05,692 - thermomodel_None - WARNING - Warning : NULL/U\n",
      "2020-11-19 01:52:05,692 - thermomodel_None - WARNING - Warning : NULL/L\n",
      "2020-11-19 01:52:05,692 - thermomodel_None - WARNING - Warning : NULL/L\n",
      "2020-11-19 01:52:05,692 - thermomodel_None - WARNING - Warning : NULL/U\n",
      "2020-11-19 01:52:05,692 - thermomodel_None - WARNING - Warning : NULL/L\n",
      "2020-11-19 01:52:05,692 - thermomodel_None - WARNING - Warning : NULL/L\n",
      "2020-11-19 01:52:05,803 - thermomodel_None - INFO - # Model preparation done.\n",
      "2020-11-19 01:52:05,803 - thermomodel_None - INFO - # Model conversion starting...\n",
      "2020-11-19 01:52:39,768 - thermomodel_None - INFO - # Model conversion done.\n",
      "2020-11-19 01:52:39,769 - thermomodel_None - INFO - # Updating cobra_model variables...\n",
      "2020-11-19 01:52:39,811 - thermomodel_None - INFO - # cobra_model variables are up-to-date\n"
     ]
    },
    {
     "name": "stdout",
     "output_type": "stream",
     "text": [
      "Read LP format model from file C:\\Users\\riheme\\AppData\\Local\\Temp\\tmpz6sifvlz.lp\n",
      "Reading time = 0.02 seconds\n",
      ": 1807 rows, 5170 columns, 20304 nonzeros\n",
      "Read LP format model from file C:\\Users\\riheme\\AppData\\Local\\Temp\\tmpxidkuoak.lp\n",
      "Reading time = 0.02 seconds\n",
      ": 1807 rows, 5170 columns, 20304 nonzeros\n"
     ]
    },
    {
     "name": "stderr",
     "output_type": "stream",
     "text": [
      "2020-11-19 01:52:55,903 - thermomodel_Ecoli PGI (Glc) 5 @ t = 1 - INFO - # Model initialized with units kcal/mol and temperature 298.15 K\n"
     ]
    },
    {
     "name": "stdout",
     "output_type": "stream",
     "text": [
      "Read LP format model from file C:\\Users\\riheme\\AppData\\Local\\Temp\\tmplp2rz9qi.lp\n",
      "Reading time = 0.02 seconds\n",
      ": 1807 rows, 5170 columns, 20304 nonzeros\n",
      "Read LP format model from file C:\\Users\\riheme\\AppData\\Local\\Temp\\tmph_rz52xa.lp\n",
      "Reading time = 0.02 seconds\n",
      ": 1807 rows, 5170 columns, 20304 nonzeros\n"
     ]
    },
    {
     "name": "stderr",
     "output_type": "stream",
     "text": [
      "2020-11-19 01:53:21,918 - thermomodel_Ecoli PGI (Glc) 5 @ t = 1 - INFO - # Model initialized with units kcal/mol and temperature 298.15 K\n",
      "2020-11-19 01:53:30,974 - thermomodel_Ecoli PGI (Glc) 5 @ t = 1 - INFO - Adding slack constraints\n",
      "adding slacks: 100%|███████████████████████████████████████████████████████████████| 1824/1824 [00:36<00:00, 49.55it/s]\n",
      "2020-11-19 01:54:09,365 - thermomodel_Ecoli PGI (Glc) 5 @ t = 1 - INFO - Optimizing slack model\n",
      "2020-11-19 01:54:13,135 - thermomodel_Ecoli PGI (Glc) 5 @ t = 1 - INFO - Extracting relaxation\n",
      "applying slack: 100%|███████████████████████████████████████████████████████████| 2585/2585 [00:00<00:00, 53217.54it/s]\n",
      "2020-11-19 01:54:13,276 - thermomodel_Ecoli PGI (Glc) 5 @ t = 1 - INFO - Testing relaxation\n"
     ]
    },
    {
     "name": "stdout",
     "output_type": "stream",
     "text": [
      "################################################################################\n",
      "Ecoli PGI (Glc) 5 @ t = 2\n",
      "(87.62 min)\n",
      "################################################################################\n",
      "Read LP format model from file C:\\Users\\riheme\\AppData\\Local\\Temp\\tmp4eernz01.lp\n",
      "Reading time = 0.02 seconds\n",
      ": 1807 rows, 5170 columns, 20334 nonzeros\n",
      "Read LP format model from file C:\\Users\\riheme\\AppData\\Local\\Temp\\tmp7yu2wx1r.lp\n",
      "Reading time = 0.02 seconds\n",
      ": 1807 rows, 5170 columns, 20334 nonzeros\n"
     ]
    },
    {
     "name": "stderr",
     "output_type": "stream",
     "text": [
      "2020-11-19 01:54:28,064 - thermomodel_None - INFO - # Model initialized with units kcal/mol and temperature 298.15 K\n",
      "2020-11-19 01:54:28,072 - thermomodel_None - INFO - # Model preparation starting...\n",
      "2020-11-19 01:54:30,362 - thermomodel_None - WARNING - Warning : NULL/U\n",
      "2020-11-19 01:54:30,362 - thermomodel_None - WARNING - Warning : NULL/L\n",
      "2020-11-19 01:54:30,362 - thermomodel_None - WARNING - Warning : NULL/L\n",
      "2020-11-19 01:54:30,362 - thermomodel_None - WARNING - Warning : NULL/U\n",
      "2020-11-19 01:54:30,362 - thermomodel_None - WARNING - Warning : NULL/L\n",
      "2020-11-19 01:54:30,362 - thermomodel_None - WARNING - Warning : NULL/L\n",
      "2020-11-19 01:54:30,574 - thermomodel_None - WARNING - Warning : NULL/U\n",
      "2020-11-19 01:54:30,574 - thermomodel_None - WARNING - Warning : NULL/L\n",
      "2020-11-19 01:54:30,574 - thermomodel_None - WARNING - Warning : NULL/L\n",
      "2020-11-19 01:54:30,574 - thermomodel_None - WARNING - Warning : NULL/U\n",
      "2020-11-19 01:54:30,574 - thermomodel_None - WARNING - Warning : NULL/L\n",
      "2020-11-19 01:54:30,581 - thermomodel_None - WARNING - Warning : NULL/L\n",
      "2020-11-19 01:54:30,712 - thermomodel_None - WARNING - Warning : NULL/U\n",
      "2020-11-19 01:54:30,712 - thermomodel_None - WARNING - Warning : NULL/L\n",
      "2020-11-19 01:54:30,712 - thermomodel_None - WARNING - Warning : NULL/L\n",
      "2020-11-19 01:54:30,712 - thermomodel_None - WARNING - Warning : NULL/U\n",
      "2020-11-19 01:54:30,712 - thermomodel_None - WARNING - Warning : NULL/L\n",
      "2020-11-19 01:54:30,712 - thermomodel_None - WARNING - Warning : NULL/L\n",
      "2020-11-19 01:54:30,775 - thermomodel_None - WARNING - Warning : NULL/U\n",
      "2020-11-19 01:54:30,775 - thermomodel_None - WARNING - Warning : NULL/L\n",
      "2020-11-19 01:54:30,775 - thermomodel_None - WARNING - Warning : NULL/L\n",
      "2020-11-19 01:54:30,775 - thermomodel_None - WARNING - Warning : NULL/U\n",
      "2020-11-19 01:54:30,775 - thermomodel_None - WARNING - Warning : NULL/L\n",
      "2020-11-19 01:54:30,781 - thermomodel_None - WARNING - Warning : NULL/L\n",
      "2020-11-19 01:54:30,781 - thermomodel_None - WARNING - Warning : NULL/U\n",
      "2020-11-19 01:54:30,781 - thermomodel_None - WARNING - Warning : NULL/L\n",
      "2020-11-19 01:54:30,781 - thermomodel_None - WARNING - Warning : NULL/L\n",
      "2020-11-19 01:54:30,781 - thermomodel_None - WARNING - Warning : NULL/U\n",
      "2020-11-19 01:54:30,781 - thermomodel_None - WARNING - Warning : NULL/L\n",
      "2020-11-19 01:54:30,781 - thermomodel_None - WARNING - Warning : NULL/L\n",
      "2020-11-19 01:54:30,781 - thermomodel_None - WARNING - Warning : NULL/U\n",
      "2020-11-19 01:54:30,781 - thermomodel_None - WARNING - Warning : NULL/L\n",
      "2020-11-19 01:54:30,781 - thermomodel_None - WARNING - Warning : NULL/L\n",
      "2020-11-19 01:54:30,781 - thermomodel_None - WARNING - Warning : NULL/U\n",
      "2020-11-19 01:54:30,781 - thermomodel_None - WARNING - Warning : NULL/L\n",
      "2020-11-19 01:54:30,781 - thermomodel_None - WARNING - Warning : NULL/L\n",
      "2020-11-19 01:54:30,781 - thermomodel_None - WARNING - Warning : NULL/U\n",
      "2020-11-19 01:54:30,781 - thermomodel_None - WARNING - Warning : NULL/L\n",
      "2020-11-19 01:54:30,781 - thermomodel_None - WARNING - Warning : NULL/L\n",
      "2020-11-19 01:54:30,781 - thermomodel_None - WARNING - Warning : NULL/U\n",
      "2020-11-19 01:54:30,781 - thermomodel_None - WARNING - Warning : NULL/L\n",
      "2020-11-19 01:54:30,781 - thermomodel_None - WARNING - Warning : NULL/L\n",
      "2020-11-19 01:54:30,897 - thermomodel_None - INFO - # Model preparation done.\n",
      "2020-11-19 01:54:30,897 - thermomodel_None - INFO - # Model conversion starting...\n",
      "2020-11-19 01:55:04,932 - thermomodel_None - INFO - # Model conversion done.\n",
      "2020-11-19 01:55:04,932 - thermomodel_None - INFO - # Updating cobra_model variables...\n",
      "2020-11-19 01:55:04,981 - thermomodel_None - INFO - # cobra_model variables are up-to-date\n"
     ]
    },
    {
     "name": "stdout",
     "output_type": "stream",
     "text": [
      "Read LP format model from file C:\\Users\\riheme\\AppData\\Local\\Temp\\tmp2ohgtjw2.lp\n",
      "Reading time = 0.02 seconds\n",
      ": 1807 rows, 5170 columns, 20304 nonzeros\n",
      "Read LP format model from file C:\\Users\\riheme\\AppData\\Local\\Temp\\tmpb949hia9.lp\n",
      "Reading time = 0.02 seconds\n",
      ": 1807 rows, 5170 columns, 20304 nonzeros\n"
     ]
    },
    {
     "name": "stderr",
     "output_type": "stream",
     "text": [
      "2020-11-19 01:55:21,235 - thermomodel_Ecoli PGI (Glc) 5 @ t = 2 - INFO - # Model initialized with units kcal/mol and temperature 298.15 K\n"
     ]
    },
    {
     "name": "stdout",
     "output_type": "stream",
     "text": [
      "Read LP format model from file C:\\Users\\riheme\\AppData\\Local\\Temp\\tmpcmz78u3l.lp\n",
      "Reading time = 0.02 seconds\n",
      ": 1807 rows, 5170 columns, 20304 nonzeros\n",
      "Read LP format model from file C:\\Users\\riheme\\AppData\\Local\\Temp\\tmpz9odbvdv.lp\n",
      "Reading time = 0.02 seconds\n",
      ": 1807 rows, 5170 columns, 20304 nonzeros\n"
     ]
    },
    {
     "name": "stderr",
     "output_type": "stream",
     "text": [
      "2020-11-19 01:55:47,155 - thermomodel_Ecoli PGI (Glc) 5 @ t = 2 - INFO - # Model initialized with units kcal/mol and temperature 298.15 K\n",
      "2020-11-19 01:55:56,208 - thermomodel_Ecoli PGI (Glc) 5 @ t = 2 - INFO - Adding slack constraints\n",
      "adding slacks: 100%|███████████████████████████████████████████████████████████████| 1824/1824 [00:36<00:00, 50.50it/s]\n",
      "2020-11-19 01:56:34,703 - thermomodel_Ecoli PGI (Glc) 5 @ t = 2 - INFO - Optimizing slack model\n",
      "2020-11-19 01:56:39,632 - thermomodel_Ecoli PGI (Glc) 5 @ t = 2 - INFO - Extracting relaxation\n",
      "applying slack: 100%|███████████████████████████████████████████████████████████| 2585/2585 [00:00<00:00, 55168.27it/s]\n",
      "2020-11-19 01:56:39,766 - thermomodel_Ecoli PGI (Glc) 5 @ t = 2 - INFO - Testing relaxation\n"
     ]
    },
    {
     "name": "stdout",
     "output_type": "stream",
     "text": [
      "################################################################################\n",
      "Ecoli PGI (Glc) 5 @ t = 3\n",
      "(90.06 min)\n",
      "################################################################################\n",
      "Read LP format model from file C:\\Users\\riheme\\AppData\\Local\\Temp\\tmpwrsk1sv5.lp\n",
      "Reading time = 0.02 seconds\n",
      ": 1807 rows, 5170 columns, 20334 nonzeros\n",
      "Read LP format model from file C:\\Users\\riheme\\AppData\\Local\\Temp\\tmpryodqo7_.lp\n",
      "Reading time = 0.02 seconds\n",
      ": 1807 rows, 5170 columns, 20334 nonzeros\n"
     ]
    },
    {
     "name": "stderr",
     "output_type": "stream",
     "text": [
      "2020-11-19 01:56:54,695 - thermomodel_None - INFO - # Model initialized with units kcal/mol and temperature 298.15 K\n",
      "2020-11-19 01:56:54,705 - thermomodel_None - INFO - # Model preparation starting...\n",
      "2020-11-19 01:56:57,050 - thermomodel_None - WARNING - Warning : NULL/U\n",
      "2020-11-19 01:56:57,051 - thermomodel_None - WARNING - Warning : NULL/L\n",
      "2020-11-19 01:56:57,051 - thermomodel_None - WARNING - Warning : NULL/L\n",
      "2020-11-19 01:56:57,051 - thermomodel_None - WARNING - Warning : NULL/U\n",
      "2020-11-19 01:56:57,051 - thermomodel_None - WARNING - Warning : NULL/L\n",
      "2020-11-19 01:56:57,051 - thermomodel_None - WARNING - Warning : NULL/L\n",
      "2020-11-19 01:56:57,261 - thermomodel_None - WARNING - Warning : NULL/U\n",
      "2020-11-19 01:56:57,261 - thermomodel_None - WARNING - Warning : NULL/L\n",
      "2020-11-19 01:56:57,261 - thermomodel_None - WARNING - Warning : NULL/L\n",
      "2020-11-19 01:56:57,261 - thermomodel_None - WARNING - Warning : NULL/U\n",
      "2020-11-19 01:56:57,261 - thermomodel_None - WARNING - Warning : NULL/L\n",
      "2020-11-19 01:56:57,261 - thermomodel_None - WARNING - Warning : NULL/L\n",
      "2020-11-19 01:56:57,399 - thermomodel_None - WARNING - Warning : NULL/U\n",
      "2020-11-19 01:56:57,399 - thermomodel_None - WARNING - Warning : NULL/L\n",
      "2020-11-19 01:56:57,399 - thermomodel_None - WARNING - Warning : NULL/L\n",
      "2020-11-19 01:56:57,399 - thermomodel_None - WARNING - Warning : NULL/U\n",
      "2020-11-19 01:56:57,399 - thermomodel_None - WARNING - Warning : NULL/L\n",
      "2020-11-19 01:56:57,399 - thermomodel_None - WARNING - Warning : NULL/L\n",
      "2020-11-19 01:56:57,461 - thermomodel_None - WARNING - Warning : NULL/U\n",
      "2020-11-19 01:56:57,461 - thermomodel_None - WARNING - Warning : NULL/L\n",
      "2020-11-19 01:56:57,461 - thermomodel_None - WARNING - Warning : NULL/L\n",
      "2020-11-19 01:56:57,461 - thermomodel_None - WARNING - Warning : NULL/U\n",
      "2020-11-19 01:56:57,461 - thermomodel_None - WARNING - Warning : NULL/L\n",
      "2020-11-19 01:56:57,468 - thermomodel_None - WARNING - Warning : NULL/L\n",
      "2020-11-19 01:56:57,468 - thermomodel_None - WARNING - Warning : NULL/U\n",
      "2020-11-19 01:56:57,468 - thermomodel_None - WARNING - Warning : NULL/L\n",
      "2020-11-19 01:56:57,468 - thermomodel_None - WARNING - Warning : NULL/L\n",
      "2020-11-19 01:56:57,468 - thermomodel_None - WARNING - Warning : NULL/U\n",
      "2020-11-19 01:56:57,468 - thermomodel_None - WARNING - Warning : NULL/L\n",
      "2020-11-19 01:56:57,468 - thermomodel_None - WARNING - Warning : NULL/L\n",
      "2020-11-19 01:56:57,468 - thermomodel_None - WARNING - Warning : NULL/U\n",
      "2020-11-19 01:56:57,468 - thermomodel_None - WARNING - Warning : NULL/L\n",
      "2020-11-19 01:56:57,468 - thermomodel_None - WARNING - Warning : NULL/L\n",
      "2020-11-19 01:56:57,468 - thermomodel_None - WARNING - Warning : NULL/U\n",
      "2020-11-19 01:56:57,468 - thermomodel_None - WARNING - Warning : NULL/L\n",
      "2020-11-19 01:56:57,468 - thermomodel_None - WARNING - Warning : NULL/L\n",
      "2020-11-19 01:56:57,468 - thermomodel_None - WARNING - Warning : NULL/U\n",
      "2020-11-19 01:56:57,468 - thermomodel_None - WARNING - Warning : NULL/L\n",
      "2020-11-19 01:56:57,468 - thermomodel_None - WARNING - Warning : NULL/L\n",
      "2020-11-19 01:56:57,468 - thermomodel_None - WARNING - Warning : NULL/U\n",
      "2020-11-19 01:56:57,468 - thermomodel_None - WARNING - Warning : NULL/L\n",
      "2020-11-19 01:56:57,468 - thermomodel_None - WARNING - Warning : NULL/L\n",
      "2020-11-19 01:56:57,584 - thermomodel_None - INFO - # Model preparation done.\n",
      "2020-11-19 01:56:57,584 - thermomodel_None - INFO - # Model conversion starting...\n",
      "2020-11-19 01:57:31,724 - thermomodel_None - INFO - # Model conversion done.\n",
      "2020-11-19 01:57:31,724 - thermomodel_None - INFO - # Updating cobra_model variables...\n",
      "2020-11-19 01:57:31,773 - thermomodel_None - INFO - # cobra_model variables are up-to-date\n"
     ]
    },
    {
     "name": "stdout",
     "output_type": "stream",
     "text": [
      "Read LP format model from file C:\\Users\\riheme\\AppData\\Local\\Temp\\tmphjr6k52h.lp\n",
      "Reading time = 0.02 seconds\n",
      ": 1807 rows, 5170 columns, 20304 nonzeros\n",
      "Read LP format model from file C:\\Users\\riheme\\AppData\\Local\\Temp\\tmps6rwmnc9.lp\n",
      "Reading time = 0.02 seconds\n",
      ": 1807 rows, 5170 columns, 20304 nonzeros\n"
     ]
    },
    {
     "name": "stderr",
     "output_type": "stream",
     "text": [
      "2020-11-19 01:57:48,022 - thermomodel_Ecoli PGI (Glc) 5 @ t = 3 - INFO - # Model initialized with units kcal/mol and temperature 298.15 K\n"
     ]
    },
    {
     "name": "stdout",
     "output_type": "stream",
     "text": [
      "Read LP format model from file C:\\Users\\riheme\\AppData\\Local\\Temp\\tmpyi6tru18.lp\n",
      "Reading time = 0.02 seconds\n",
      ": 1807 rows, 5170 columns, 20304 nonzeros\n",
      "Read LP format model from file C:\\Users\\riheme\\AppData\\Local\\Temp\\tmpndijr5gl.lp\n",
      "Reading time = 0.02 seconds\n",
      ": 1807 rows, 5170 columns, 20304 nonzeros\n"
     ]
    },
    {
     "name": "stderr",
     "output_type": "stream",
     "text": [
      "2020-11-19 01:58:13,812 - thermomodel_Ecoli PGI (Glc) 5 @ t = 3 - INFO - # Model initialized with units kcal/mol and temperature 298.15 K\n",
      "2020-11-19 01:58:22,934 - thermomodel_Ecoli PGI (Glc) 5 @ t = 3 - INFO - Adding slack constraints\n",
      "adding slacks: 100%|███████████████████████████████████████████████████████████████| 1824/1824 [00:38<00:00, 47.89it/s]\n",
      "2020-11-19 01:59:02,613 - thermomodel_Ecoli PGI (Glc) 5 @ t = 3 - INFO - Optimizing slack model\n",
      "2020-11-19 01:59:07,315 - thermomodel_Ecoli PGI (Glc) 5 @ t = 3 - INFO - Extracting relaxation\n",
      "applying slack: 100%|███████████████████████████████████████████████████████████| 2585/2585 [00:00<00:00, 55156.20it/s]\n",
      "2020-11-19 01:59:07,449 - thermomodel_Ecoli PGI (Glc) 5 @ t = 3 - INFO - Testing relaxation\n"
     ]
    },
    {
     "name": "stdout",
     "output_type": "stream",
     "text": [
      "################################################################################\n",
      "Ecoli PGI (Glc) 5 @ t = 11\n",
      "(92.52 min)\n",
      "################################################################################\n",
      "Read LP format model from file C:\\Users\\riheme\\AppData\\Local\\Temp\\tmph1wf7dam.lp\n",
      "Reading time = 0.02 seconds\n",
      ": 1807 rows, 5170 columns, 20334 nonzeros\n",
      "Read LP format model from file C:\\Users\\riheme\\AppData\\Local\\Temp\\tmp205c34vf.lp\n",
      "Reading time = 0.02 seconds\n",
      ": 1807 rows, 5170 columns, 20334 nonzeros\n"
     ]
    },
    {
     "name": "stderr",
     "output_type": "stream",
     "text": [
      "2020-11-19 01:59:22,261 - thermomodel_None - INFO - # Model initialized with units kcal/mol and temperature 298.15 K\n",
      "2020-11-19 01:59:22,269 - thermomodel_None - INFO - # Model preparation starting...\n",
      "2020-11-19 01:59:24,573 - thermomodel_None - WARNING - Warning : NULL/U\n",
      "2020-11-19 01:59:24,573 - thermomodel_None - WARNING - Warning : NULL/L\n",
      "2020-11-19 01:59:24,573 - thermomodel_None - WARNING - Warning : NULL/L\n",
      "2020-11-19 01:59:24,573 - thermomodel_None - WARNING - Warning : NULL/U\n",
      "2020-11-19 01:59:24,573 - thermomodel_None - WARNING - Warning : NULL/L\n",
      "2020-11-19 01:59:24,581 - thermomodel_None - WARNING - Warning : NULL/L\n",
      "2020-11-19 01:59:24,791 - thermomodel_None - WARNING - Warning : NULL/U\n",
      "2020-11-19 01:59:24,791 - thermomodel_None - WARNING - Warning : NULL/L\n",
      "2020-11-19 01:59:24,791 - thermomodel_None - WARNING - Warning : NULL/L\n",
      "2020-11-19 01:59:24,791 - thermomodel_None - WARNING - Warning : NULL/U\n",
      "2020-11-19 01:59:24,791 - thermomodel_None - WARNING - Warning : NULL/L\n",
      "2020-11-19 01:59:24,791 - thermomodel_None - WARNING - Warning : NULL/L\n",
      "2020-11-19 01:59:24,923 - thermomodel_None - WARNING - Warning : NULL/U\n",
      "2020-11-19 01:59:24,923 - thermomodel_None - WARNING - Warning : NULL/L\n",
      "2020-11-19 01:59:24,923 - thermomodel_None - WARNING - Warning : NULL/L\n",
      "2020-11-19 01:59:24,923 - thermomodel_None - WARNING - Warning : NULL/U\n",
      "2020-11-19 01:59:24,923 - thermomodel_None - WARNING - Warning : NULL/L\n",
      "2020-11-19 01:59:24,923 - thermomodel_None - WARNING - Warning : NULL/L\n",
      "2020-11-19 01:59:24,985 - thermomodel_None - WARNING - Warning : NULL/U\n",
      "2020-11-19 01:59:24,985 - thermomodel_None - WARNING - Warning : NULL/L\n",
      "2020-11-19 01:59:24,985 - thermomodel_None - WARNING - Warning : NULL/L\n",
      "2020-11-19 01:59:24,992 - thermomodel_None - WARNING - Warning : NULL/U\n",
      "2020-11-19 01:59:24,992 - thermomodel_None - WARNING - Warning : NULL/L\n",
      "2020-11-19 01:59:24,992 - thermomodel_None - WARNING - Warning : NULL/L\n",
      "2020-11-19 01:59:24,992 - thermomodel_None - WARNING - Warning : NULL/U\n",
      "2020-11-19 01:59:24,992 - thermomodel_None - WARNING - Warning : NULL/L\n",
      "2020-11-19 01:59:24,992 - thermomodel_None - WARNING - Warning : NULL/L\n",
      "2020-11-19 01:59:24,992 - thermomodel_None - WARNING - Warning : NULL/U\n",
      "2020-11-19 01:59:24,992 - thermomodel_None - WARNING - Warning : NULL/L\n",
      "2020-11-19 01:59:24,992 - thermomodel_None - WARNING - Warning : NULL/L\n",
      "2020-11-19 01:59:24,992 - thermomodel_None - WARNING - Warning : NULL/U\n",
      "2020-11-19 01:59:24,992 - thermomodel_None - WARNING - Warning : NULL/L\n",
      "2020-11-19 01:59:24,992 - thermomodel_None - WARNING - Warning : NULL/L\n",
      "2020-11-19 01:59:24,992 - thermomodel_None - WARNING - Warning : NULL/U\n",
      "2020-11-19 01:59:24,992 - thermomodel_None - WARNING - Warning : NULL/L\n",
      "2020-11-19 01:59:24,992 - thermomodel_None - WARNING - Warning : NULL/L\n",
      "2020-11-19 01:59:24,992 - thermomodel_None - WARNING - Warning : NULL/U\n",
      "2020-11-19 01:59:24,992 - thermomodel_None - WARNING - Warning : NULL/L\n",
      "2020-11-19 01:59:24,992 - thermomodel_None - WARNING - Warning : NULL/L\n",
      "2020-11-19 01:59:24,992 - thermomodel_None - WARNING - Warning : NULL/U\n",
      "2020-11-19 01:59:24,992 - thermomodel_None - WARNING - Warning : NULL/L\n",
      "2020-11-19 01:59:24,992 - thermomodel_None - WARNING - Warning : NULL/L\n",
      "2020-11-19 01:59:25,108 - thermomodel_None - INFO - # Model preparation done.\n",
      "2020-11-19 01:59:25,108 - thermomodel_None - INFO - # Model conversion starting...\n",
      "2020-11-19 01:59:59,029 - thermomodel_None - INFO - # Model conversion done.\n",
      "2020-11-19 01:59:59,029 - thermomodel_None - INFO - # Updating cobra_model variables...\n",
      "2020-11-19 01:59:59,078 - thermomodel_None - INFO - # cobra_model variables are up-to-date\n"
     ]
    },
    {
     "name": "stdout",
     "output_type": "stream",
     "text": [
      "Read LP format model from file C:\\Users\\riheme\\AppData\\Local\\Temp\\tmp5qk8p1bw.lp\n",
      "Reading time = 0.02 seconds\n",
      ": 1807 rows, 5170 columns, 20304 nonzeros\n",
      "Read LP format model from file C:\\Users\\riheme\\AppData\\Local\\Temp\\tmp9932jq90.lp\n",
      "Reading time = 0.02 seconds\n",
      ": 1807 rows, 5170 columns, 20304 nonzeros\n"
     ]
    },
    {
     "name": "stderr",
     "output_type": "stream",
     "text": [
      "2020-11-19 02:00:15,603 - thermomodel_Ecoli PGI (Glc) 5 @ t = 11 - INFO - # Model initialized with units kcal/mol and temperature 298.15 K\n"
     ]
    },
    {
     "name": "stdout",
     "output_type": "stream",
     "text": [
      "Read LP format model from file C:\\Users\\riheme\\AppData\\Local\\Temp\\tmprf0ldsfl.lp\n",
      "Reading time = 0.02 seconds\n",
      ": 1807 rows, 5170 columns, 20304 nonzeros\n",
      "Read LP format model from file C:\\Users\\riheme\\AppData\\Local\\Temp\\tmpyk1m6x79.lp\n",
      "Reading time = 0.02 seconds\n",
      ": 1807 rows, 5170 columns, 20304 nonzeros\n"
     ]
    },
    {
     "name": "stderr",
     "output_type": "stream",
     "text": [
      "2020-11-19 02:00:41,088 - thermomodel_Ecoli PGI (Glc) 5 @ t = 11 - INFO - # Model initialized with units kcal/mol and temperature 298.15 K\n",
      "2020-11-19 02:00:50,145 - thermomodel_Ecoli PGI (Glc) 5 @ t = 11 - INFO - Adding slack constraints\n",
      "adding slacks: 100%|███████████████████████████████████████████████████████████████| 1824/1824 [00:36<00:00, 50.25it/s]\n",
      "2020-11-19 02:01:28,035 - thermomodel_Ecoli PGI (Glc) 5 @ t = 11 - INFO - Optimizing slack model\n",
      "2020-11-19 02:01:33,292 - thermomodel_Ecoli PGI (Glc) 5 @ t = 11 - INFO - Extracting relaxation\n",
      "applying slack: 100%|███████████████████████████████████████████████████████████| 2585/2585 [00:00<00:00, 45414.01it/s]\n",
      "2020-11-19 02:01:33,429 - thermomodel_Ecoli PGI (Glc) 5 @ t = 11 - INFO - Testing relaxation\n"
     ]
    },
    {
     "name": "stdout",
     "output_type": "stream",
     "text": [
      "################################################################################\n",
      "Ecoli PGI (Glc) 6 @ t = 1\n",
      "(94.95 min)\n",
      "################################################################################\n",
      "Read LP format model from file C:\\Users\\riheme\\AppData\\Local\\Temp\\tmpfot60no9.lp\n",
      "Reading time = 0.02 seconds\n",
      ": 1807 rows, 5170 columns, 20334 nonzeros\n",
      "Read LP format model from file C:\\Users\\riheme\\AppData\\Local\\Temp\\tmpqse_u_vm.lp\n",
      "Reading time = 0.02 seconds\n",
      ": 1807 rows, 5170 columns, 20334 nonzeros\n"
     ]
    },
    {
     "name": "stderr",
     "output_type": "stream",
     "text": [
      "2020-11-19 02:01:48,100 - thermomodel_None - INFO - # Model initialized with units kcal/mol and temperature 298.15 K\n",
      "2020-11-19 02:01:48,110 - thermomodel_None - INFO - # Model preparation starting...\n",
      "2020-11-19 02:01:50,373 - thermomodel_None - WARNING - Warning : NULL/U\n",
      "2020-11-19 02:01:50,373 - thermomodel_None - WARNING - Warning : NULL/L\n",
      "2020-11-19 02:01:50,373 - thermomodel_None - WARNING - Warning : NULL/L\n",
      "2020-11-19 02:01:50,373 - thermomodel_None - WARNING - Warning : NULL/U\n",
      "2020-11-19 02:01:50,373 - thermomodel_None - WARNING - Warning : NULL/L\n",
      "2020-11-19 02:01:50,373 - thermomodel_None - WARNING - Warning : NULL/L\n",
      "2020-11-19 02:01:50,585 - thermomodel_None - WARNING - Warning : NULL/U\n",
      "2020-11-19 02:01:50,585 - thermomodel_None - WARNING - Warning : NULL/L\n",
      "2020-11-19 02:01:50,585 - thermomodel_None - WARNING - Warning : NULL/L\n",
      "2020-11-19 02:01:50,585 - thermomodel_None - WARNING - Warning : NULL/U\n",
      "2020-11-19 02:01:50,585 - thermomodel_None - WARNING - Warning : NULL/L\n",
      "2020-11-19 02:01:50,585 - thermomodel_None - WARNING - Warning : NULL/L\n",
      "2020-11-19 02:01:50,719 - thermomodel_None - WARNING - Warning : NULL/U\n",
      "2020-11-19 02:01:50,719 - thermomodel_None - WARNING - Warning : NULL/L\n",
      "2020-11-19 02:01:50,719 - thermomodel_None - WARNING - Warning : NULL/L\n",
      "2020-11-19 02:01:50,719 - thermomodel_None - WARNING - Warning : NULL/U\n",
      "2020-11-19 02:01:50,719 - thermomodel_None - WARNING - Warning : NULL/L\n",
      "2020-11-19 02:01:50,719 - thermomodel_None - WARNING - Warning : NULL/L\n",
      "2020-11-19 02:01:50,782 - thermomodel_None - WARNING - Warning : NULL/U\n",
      "2020-11-19 02:01:50,782 - thermomodel_None - WARNING - Warning : NULL/L\n",
      "2020-11-19 02:01:50,782 - thermomodel_None - WARNING - Warning : NULL/L\n",
      "2020-11-19 02:01:50,782 - thermomodel_None - WARNING - Warning : NULL/U\n",
      "2020-11-19 02:01:50,782 - thermomodel_None - WARNING - Warning : NULL/L\n",
      "2020-11-19 02:01:50,782 - thermomodel_None - WARNING - Warning : NULL/L\n",
      "2020-11-19 02:01:50,782 - thermomodel_None - WARNING - Warning : NULL/U\n",
      "2020-11-19 02:01:50,782 - thermomodel_None - WARNING - Warning : NULL/L\n",
      "2020-11-19 02:01:50,782 - thermomodel_None - WARNING - Warning : NULL/L\n",
      "2020-11-19 02:01:50,782 - thermomodel_None - WARNING - Warning : NULL/U\n",
      "2020-11-19 02:01:50,782 - thermomodel_None - WARNING - Warning : NULL/L\n",
      "2020-11-19 02:01:50,782 - thermomodel_None - WARNING - Warning : NULL/L\n",
      "2020-11-19 02:01:50,782 - thermomodel_None - WARNING - Warning : NULL/U\n",
      "2020-11-19 02:01:50,782 - thermomodel_None - WARNING - Warning : NULL/L\n",
      "2020-11-19 02:01:50,782 - thermomodel_None - WARNING - Warning : NULL/L\n",
      "2020-11-19 02:01:50,797 - thermomodel_None - WARNING - Warning : NULL/U\n",
      "2020-11-19 02:01:50,797 - thermomodel_None - WARNING - Warning : NULL/L\n",
      "2020-11-19 02:01:50,797 - thermomodel_None - WARNING - Warning : NULL/L\n",
      "2020-11-19 02:01:50,797 - thermomodel_None - WARNING - Warning : NULL/U\n",
      "2020-11-19 02:01:50,797 - thermomodel_None - WARNING - Warning : NULL/L\n",
      "2020-11-19 02:01:50,797 - thermomodel_None - WARNING - Warning : NULL/L\n",
      "2020-11-19 02:01:50,797 - thermomodel_None - WARNING - Warning : NULL/U\n",
      "2020-11-19 02:01:50,797 - thermomodel_None - WARNING - Warning : NULL/L\n",
      "2020-11-19 02:01:50,797 - thermomodel_None - WARNING - Warning : NULL/L\n",
      "2020-11-19 02:01:50,904 - thermomodel_None - INFO - # Model preparation done.\n",
      "2020-11-19 02:01:50,904 - thermomodel_None - INFO - # Model conversion starting...\n",
      "2020-11-19 02:02:24,946 - thermomodel_None - INFO - # Model conversion done.\n",
      "2020-11-19 02:02:24,946 - thermomodel_None - INFO - # Updating cobra_model variables...\n",
      "2020-11-19 02:02:24,996 - thermomodel_None - INFO - # cobra_model variables are up-to-date\n"
     ]
    },
    {
     "name": "stdout",
     "output_type": "stream",
     "text": [
      "Read LP format model from file C:\\Users\\riheme\\AppData\\Local\\Temp\\tmpax6gv2un.lp\n",
      "Reading time = 0.02 seconds\n",
      ": 1807 rows, 5170 columns, 20304 nonzeros\n",
      "Read LP format model from file C:\\Users\\riheme\\AppData\\Local\\Temp\\tmpr7r4489o.lp\n",
      "Reading time = 0.03 seconds\n",
      ": 1807 rows, 5170 columns, 20304 nonzeros\n"
     ]
    },
    {
     "name": "stderr",
     "output_type": "stream",
     "text": [
      "2020-11-19 02:02:41,016 - thermomodel_Ecoli PGI (Glc) 6 @ t = 1 - INFO - # Model initialized with units kcal/mol and temperature 298.15 K\n"
     ]
    },
    {
     "name": "stdout",
     "output_type": "stream",
     "text": [
      "Read LP format model from file C:\\Users\\riheme\\AppData\\Local\\Temp\\tmpb9zqje1y.lp\n",
      "Reading time = 0.02 seconds\n",
      ": 1807 rows, 5170 columns, 20304 nonzeros\n",
      "Read LP format model from file C:\\Users\\riheme\\AppData\\Local\\Temp\\tmpm32j6hj1.lp\n",
      "Reading time = 0.03 seconds\n",
      ": 1807 rows, 5170 columns, 20304 nonzeros\n"
     ]
    },
    {
     "name": "stderr",
     "output_type": "stream",
     "text": [
      "2020-11-19 02:03:06,814 - thermomodel_Ecoli PGI (Glc) 6 @ t = 1 - INFO - # Model initialized with units kcal/mol and temperature 298.15 K\n",
      "2020-11-19 02:03:15,961 - thermomodel_Ecoli PGI (Glc) 6 @ t = 1 - INFO - Adding slack constraints\n",
      "adding slacks: 100%|███████████████████████████████████████████████████████████████| 1824/1824 [00:36<00:00, 49.52it/s]\n",
      "2020-11-19 02:03:54,388 - thermomodel_Ecoli PGI (Glc) 6 @ t = 1 - INFO - Optimizing slack model\n",
      "2020-11-19 02:03:58,124 - thermomodel_Ecoli PGI (Glc) 6 @ t = 1 - INFO - Extracting relaxation\n",
      "applying slack: 100%|███████████████████████████████████████████████████████████| 2585/2585 [00:00<00:00, 41368.05it/s]\n",
      "2020-11-19 02:03:58,260 - thermomodel_Ecoli PGI (Glc) 6 @ t = 1 - INFO - Testing relaxation\n"
     ]
    },
    {
     "name": "stdout",
     "output_type": "stream",
     "text": [
      "################################################################################\n",
      "Ecoli PGI (Glc) 6 @ t = 2\n",
      "(97.37 min)\n",
      "################################################################################\n",
      "Read LP format model from file C:\\Users\\riheme\\AppData\\Local\\Temp\\tmpf9q45nnt.lp\n",
      "Reading time = 0.03 seconds\n",
      ": 1807 rows, 5170 columns, 20334 nonzeros\n",
      "Read LP format model from file C:\\Users\\riheme\\AppData\\Local\\Temp\\tmp5tivjigq.lp\n",
      "Reading time = 0.02 seconds\n",
      ": 1807 rows, 5170 columns, 20334 nonzeros\n"
     ]
    },
    {
     "name": "stderr",
     "output_type": "stream",
     "text": [
      "2020-11-19 02:04:12,853 - thermomodel_None - INFO - # Model initialized with units kcal/mol and temperature 298.15 K\n",
      "2020-11-19 02:04:12,871 - thermomodel_None - INFO - # Model preparation starting...\n",
      "2020-11-19 02:04:15,137 - thermomodel_None - WARNING - Warning : NULL/U\n",
      "2020-11-19 02:04:15,139 - thermomodel_None - WARNING - Warning : NULL/L\n",
      "2020-11-19 02:04:15,139 - thermomodel_None - WARNING - Warning : NULL/L\n",
      "2020-11-19 02:04:15,139 - thermomodel_None - WARNING - Warning : NULL/U\n",
      "2020-11-19 02:04:15,139 - thermomodel_None - WARNING - Warning : NULL/L\n",
      "2020-11-19 02:04:15,139 - thermomodel_None - WARNING - Warning : NULL/L\n",
      "2020-11-19 02:04:15,351 - thermomodel_None - WARNING - Warning : NULL/U\n",
      "2020-11-19 02:04:15,353 - thermomodel_None - WARNING - Warning : NULL/L\n",
      "2020-11-19 02:04:15,353 - thermomodel_None - WARNING - Warning : NULL/L\n",
      "2020-11-19 02:04:15,353 - thermomodel_None - WARNING - Warning : NULL/U\n",
      "2020-11-19 02:04:15,353 - thermomodel_None - WARNING - Warning : NULL/L\n",
      "2020-11-19 02:04:15,353 - thermomodel_None - WARNING - Warning : NULL/L\n",
      "2020-11-19 02:04:15,496 - thermomodel_None - WARNING - Warning : NULL/U\n",
      "2020-11-19 02:04:15,496 - thermomodel_None - WARNING - Warning : NULL/L\n",
      "2020-11-19 02:04:15,496 - thermomodel_None - WARNING - Warning : NULL/L\n",
      "2020-11-19 02:04:15,496 - thermomodel_None - WARNING - Warning : NULL/U\n",
      "2020-11-19 02:04:15,496 - thermomodel_None - WARNING - Warning : NULL/L\n",
      "2020-11-19 02:04:15,496 - thermomodel_None - WARNING - Warning : NULL/L\n",
      "2020-11-19 02:04:15,545 - thermomodel_None - WARNING - Warning : NULL/U\n",
      "2020-11-19 02:04:15,545 - thermomodel_None - WARNING - Warning : NULL/L\n",
      "2020-11-19 02:04:15,545 - thermomodel_None - WARNING - Warning : NULL/L\n",
      "2020-11-19 02:04:15,545 - thermomodel_None - WARNING - Warning : NULL/U\n",
      "2020-11-19 02:04:15,545 - thermomodel_None - WARNING - Warning : NULL/L\n",
      "2020-11-19 02:04:15,545 - thermomodel_None - WARNING - Warning : NULL/L\n",
      "2020-11-19 02:04:15,545 - thermomodel_None - WARNING - Warning : NULL/U\n",
      "2020-11-19 02:04:15,561 - thermomodel_None - WARNING - Warning : NULL/L\n",
      "2020-11-19 02:04:15,561 - thermomodel_None - WARNING - Warning : NULL/L\n",
      "2020-11-19 02:04:15,561 - thermomodel_None - WARNING - Warning : NULL/U\n",
      "2020-11-19 02:04:15,561 - thermomodel_None - WARNING - Warning : NULL/L\n",
      "2020-11-19 02:04:15,561 - thermomodel_None - WARNING - Warning : NULL/L\n",
      "2020-11-19 02:04:15,561 - thermomodel_None - WARNING - Warning : NULL/U\n",
      "2020-11-19 02:04:15,561 - thermomodel_None - WARNING - Warning : NULL/L\n",
      "2020-11-19 02:04:15,561 - thermomodel_None - WARNING - Warning : NULL/L\n",
      "2020-11-19 02:04:15,561 - thermomodel_None - WARNING - Warning : NULL/U\n",
      "2020-11-19 02:04:15,561 - thermomodel_None - WARNING - Warning : NULL/L\n",
      "2020-11-19 02:04:15,561 - thermomodel_None - WARNING - Warning : NULL/L\n",
      "2020-11-19 02:04:15,561 - thermomodel_None - WARNING - Warning : NULL/U\n",
      "2020-11-19 02:04:15,561 - thermomodel_None - WARNING - Warning : NULL/L\n",
      "2020-11-19 02:04:15,561 - thermomodel_None - WARNING - Warning : NULL/L\n",
      "2020-11-19 02:04:15,561 - thermomodel_None - WARNING - Warning : NULL/U\n",
      "2020-11-19 02:04:15,561 - thermomodel_None - WARNING - Warning : NULL/L\n",
      "2020-11-19 02:04:15,561 - thermomodel_None - WARNING - Warning : NULL/L\n",
      "2020-11-19 02:04:15,677 - thermomodel_None - INFO - # Model preparation done.\n",
      "2020-11-19 02:04:15,677 - thermomodel_None - INFO - # Model conversion starting...\n",
      "2020-11-19 02:04:49,583 - thermomodel_None - INFO - # Model conversion done.\n",
      "2020-11-19 02:04:49,583 - thermomodel_None - INFO - # Updating cobra_model variables...\n",
      "2020-11-19 02:04:49,632 - thermomodel_None - INFO - # cobra_model variables are up-to-date\n"
     ]
    },
    {
     "name": "stdout",
     "output_type": "stream",
     "text": [
      "Read LP format model from file C:\\Users\\riheme\\AppData\\Local\\Temp\\tmp23n05rgj.lp\n",
      "Reading time = 0.02 seconds\n",
      ": 1807 rows, 5170 columns, 20304 nonzeros\n",
      "Read LP format model from file C:\\Users\\riheme\\AppData\\Local\\Temp\\tmpe3p40iiq.lp\n",
      "Reading time = 0.02 seconds\n",
      ": 1807 rows, 5170 columns, 20304 nonzeros\n"
     ]
    },
    {
     "name": "stderr",
     "output_type": "stream",
     "text": [
      "2020-11-19 02:05:05,933 - thermomodel_Ecoli PGI (Glc) 6 @ t = 2 - INFO - # Model initialized with units kcal/mol and temperature 298.15 K\n"
     ]
    },
    {
     "name": "stdout",
     "output_type": "stream",
     "text": [
      "Read LP format model from file C:\\Users\\riheme\\AppData\\Local\\Temp\\tmp42pbb4w_.lp\n",
      "Reading time = 0.02 seconds\n",
      ": 1807 rows, 5170 columns, 20304 nonzeros\n",
      "Read LP format model from file C:\\Users\\riheme\\AppData\\Local\\Temp\\tmp54gs9_mg.lp\n",
      "Reading time = 0.02 seconds\n",
      ": 1807 rows, 5170 columns, 20304 nonzeros\n"
     ]
    },
    {
     "name": "stderr",
     "output_type": "stream",
     "text": [
      "2020-11-19 02:05:31,403 - thermomodel_Ecoli PGI (Glc) 6 @ t = 2 - INFO - # Model initialized with units kcal/mol and temperature 298.15 K\n",
      "2020-11-19 02:05:41,157 - thermomodel_Ecoli PGI (Glc) 6 @ t = 2 - INFO - Adding slack constraints\n",
      "adding slacks: 100%|███████████████████████████████████████████████████████████████| 1824/1824 [00:36<00:00, 49.32it/s]\n",
      "2020-11-19 02:06:19,723 - thermomodel_Ecoli PGI (Glc) 6 @ t = 2 - INFO - Optimizing slack model\n",
      "2020-11-19 02:06:24,906 - thermomodel_Ecoli PGI (Glc) 6 @ t = 2 - INFO - Extracting relaxation\n",
      "applying slack: 100%|███████████████████████████████████████████████████████████| 2585/2585 [00:00<00:00, 48955.07it/s]\n",
      "2020-11-19 02:06:25,050 - thermomodel_Ecoli PGI (Glc) 6 @ t = 2 - INFO - Testing relaxation\n"
     ]
    },
    {
     "name": "stdout",
     "output_type": "stream",
     "text": [
      "################################################################################\n",
      "Ecoli PGI (Glc) 6 @ t = 3\n",
      "(99.81 min)\n",
      "################################################################################\n",
      "Read LP format model from file C:\\Users\\riheme\\AppData\\Local\\Temp\\tmp9bwl9jwa.lp\n",
      "Reading time = 0.02 seconds\n",
      ": 1807 rows, 5170 columns, 20334 nonzeros\n",
      "Read LP format model from file C:\\Users\\riheme\\AppData\\Local\\Temp\\tmpah9g1xf6.lp\n",
      "Reading time = 0.02 seconds\n",
      ": 1807 rows, 5170 columns, 20334 nonzeros\n"
     ]
    },
    {
     "name": "stderr",
     "output_type": "stream",
     "text": [
      "2020-11-19 02:06:39,659 - thermomodel_None - INFO - # Model initialized with units kcal/mol and temperature 298.15 K\n",
      "2020-11-19 02:06:39,667 - thermomodel_None - INFO - # Model preparation starting...\n",
      "2020-11-19 02:06:41,921 - thermomodel_None - WARNING - Warning : NULL/U\n",
      "2020-11-19 02:06:41,921 - thermomodel_None - WARNING - Warning : NULL/L\n",
      "2020-11-19 02:06:41,921 - thermomodel_None - WARNING - Warning : NULL/L\n",
      "2020-11-19 02:06:41,921 - thermomodel_None - WARNING - Warning : NULL/U\n",
      "2020-11-19 02:06:41,921 - thermomodel_None - WARNING - Warning : NULL/L\n",
      "2020-11-19 02:06:41,921 - thermomodel_None - WARNING - Warning : NULL/L\n",
      "2020-11-19 02:06:42,133 - thermomodel_None - WARNING - Warning : NULL/U\n",
      "2020-11-19 02:06:42,133 - thermomodel_None - WARNING - Warning : NULL/L\n",
      "2020-11-19 02:06:42,140 - thermomodel_None - WARNING - Warning : NULL/L\n",
      "2020-11-19 02:06:42,140 - thermomodel_None - WARNING - Warning : NULL/U\n",
      "2020-11-19 02:06:42,140 - thermomodel_None - WARNING - Warning : NULL/L\n",
      "2020-11-19 02:06:42,140 - thermomodel_None - WARNING - Warning : NULL/L\n",
      "2020-11-19 02:06:42,271 - thermomodel_None - WARNING - Warning : NULL/U\n",
      "2020-11-19 02:06:42,271 - thermomodel_None - WARNING - Warning : NULL/L\n",
      "2020-11-19 02:06:42,271 - thermomodel_None - WARNING - Warning : NULL/L\n",
      "2020-11-19 02:06:42,271 - thermomodel_None - WARNING - Warning : NULL/U\n",
      "2020-11-19 02:06:42,271 - thermomodel_None - WARNING - Warning : NULL/L\n",
      "2020-11-19 02:06:42,271 - thermomodel_None - WARNING - Warning : NULL/L\n",
      "2020-11-19 02:06:42,334 - thermomodel_None - WARNING - Warning : NULL/U\n",
      "2020-11-19 02:06:42,334 - thermomodel_None - WARNING - Warning : NULL/L\n",
      "2020-11-19 02:06:42,334 - thermomodel_None - WARNING - Warning : NULL/L\n",
      "2020-11-19 02:06:42,334 - thermomodel_None - WARNING - Warning : NULL/U\n",
      "2020-11-19 02:06:42,340 - thermomodel_None - WARNING - Warning : NULL/L\n",
      "2020-11-19 02:06:42,340 - thermomodel_None - WARNING - Warning : NULL/L\n",
      "2020-11-19 02:06:42,340 - thermomodel_None - WARNING - Warning : NULL/U\n",
      "2020-11-19 02:06:42,340 - thermomodel_None - WARNING - Warning : NULL/L\n",
      "2020-11-19 02:06:42,340 - thermomodel_None - WARNING - Warning : NULL/L\n",
      "2020-11-19 02:06:42,340 - thermomodel_None - WARNING - Warning : NULL/U\n",
      "2020-11-19 02:06:42,340 - thermomodel_None - WARNING - Warning : NULL/L\n",
      "2020-11-19 02:06:42,340 - thermomodel_None - WARNING - Warning : NULL/L\n",
      "2020-11-19 02:06:42,340 - thermomodel_None - WARNING - Warning : NULL/U\n",
      "2020-11-19 02:06:42,340 - thermomodel_None - WARNING - Warning : NULL/L\n",
      "2020-11-19 02:06:42,340 - thermomodel_None - WARNING - Warning : NULL/L\n",
      "2020-11-19 02:06:42,340 - thermomodel_None - WARNING - Warning : NULL/U\n",
      "2020-11-19 02:06:42,340 - thermomodel_None - WARNING - Warning : NULL/L\n",
      "2020-11-19 02:06:42,340 - thermomodel_None - WARNING - Warning : NULL/L\n",
      "2020-11-19 02:06:42,340 - thermomodel_None - WARNING - Warning : NULL/U\n",
      "2020-11-19 02:06:42,340 - thermomodel_None - WARNING - Warning : NULL/L\n",
      "2020-11-19 02:06:42,340 - thermomodel_None - WARNING - Warning : NULL/L\n",
      "2020-11-19 02:06:42,340 - thermomodel_None - WARNING - Warning : NULL/U\n",
      "2020-11-19 02:06:42,340 - thermomodel_None - WARNING - Warning : NULL/L\n",
      "2020-11-19 02:06:42,340 - thermomodel_None - WARNING - Warning : NULL/L\n",
      "2020-11-19 02:06:42,456 - thermomodel_None - INFO - # Model preparation done.\n",
      "2020-11-19 02:06:42,456 - thermomodel_None - INFO - # Model conversion starting...\n",
      "2020-11-19 02:07:16,413 - thermomodel_None - INFO - # Model conversion done.\n",
      "2020-11-19 02:07:16,413 - thermomodel_None - INFO - # Updating cobra_model variables...\n",
      "2020-11-19 02:07:16,462 - thermomodel_None - INFO - # cobra_model variables are up-to-date\n"
     ]
    },
    {
     "name": "stdout",
     "output_type": "stream",
     "text": [
      "Read LP format model from file C:\\Users\\riheme\\AppData\\Local\\Temp\\tmpvn7mz0_l.lp\n",
      "Reading time = 0.02 seconds\n",
      ": 1807 rows, 5170 columns, 20304 nonzeros\n",
      "Read LP format model from file C:\\Users\\riheme\\AppData\\Local\\Temp\\tmpv6czibxa.lp\n",
      "Reading time = 0.03 seconds\n",
      ": 1807 rows, 5170 columns, 20304 nonzeros\n"
     ]
    },
    {
     "name": "stderr",
     "output_type": "stream",
     "text": [
      "2020-11-19 02:07:32,761 - thermomodel_Ecoli PGI (Glc) 6 @ t = 3 - INFO - # Model initialized with units kcal/mol and temperature 298.15 K\n"
     ]
    },
    {
     "name": "stdout",
     "output_type": "stream",
     "text": [
      "Read LP format model from file C:\\Users\\riheme\\AppData\\Local\\Temp\\tmpxd079dry.lp\n",
      "Reading time = 0.02 seconds\n",
      ": 1807 rows, 5170 columns, 20304 nonzeros\n",
      "Read LP format model from file C:\\Users\\riheme\\AppData\\Local\\Temp\\tmp4cvhfawf.lp\n",
      "Reading time = 0.02 seconds\n",
      ": 1807 rows, 5170 columns, 20304 nonzeros\n"
     ]
    },
    {
     "name": "stderr",
     "output_type": "stream",
     "text": [
      "2020-11-19 02:07:58,267 - thermomodel_Ecoli PGI (Glc) 6 @ t = 3 - INFO - # Model initialized with units kcal/mol and temperature 298.15 K\n",
      "2020-11-19 02:08:08,134 - thermomodel_Ecoli PGI (Glc) 6 @ t = 3 - INFO - Adding slack constraints\n",
      "adding slacks: 100%|███████████████████████████████████████████████████████████████| 1824/1824 [00:36<00:00, 49.46it/s]\n",
      "2020-11-19 02:08:46,607 - thermomodel_Ecoli PGI (Glc) 6 @ t = 3 - INFO - Optimizing slack model\n",
      "2020-11-19 02:08:51,000 - thermomodel_Ecoli PGI (Glc) 6 @ t = 3 - INFO - Extracting relaxation\n",
      "applying slack: 100%|███████████████████████████████████████████████████████████| 2585/2585 [00:00<00:00, 44144.10it/s]\n",
      "2020-11-19 02:08:51,160 - thermomodel_Ecoli PGI (Glc) 6 @ t = 3 - INFO - Testing relaxation\n"
     ]
    },
    {
     "name": "stdout",
     "output_type": "stream",
     "text": [
      "################################################################################\n",
      "Ecoli PGI (Glc) 6 @ t = 11\n",
      "(102.25 min)\n",
      "################################################################################\n",
      "Read LP format model from file C:\\Users\\riheme\\AppData\\Local\\Temp\\tmpx4digybl.lp\n",
      "Reading time = 0.03 seconds\n",
      ": 1807 rows, 5170 columns, 20334 nonzeros\n",
      "Read LP format model from file C:\\Users\\riheme\\AppData\\Local\\Temp\\tmpvgm4y9bp.lp\n",
      "Reading time = 0.02 seconds\n",
      ": 1807 rows, 5170 columns, 20334 nonzeros\n"
     ]
    },
    {
     "name": "stderr",
     "output_type": "stream",
     "text": [
      "2020-11-19 02:09:06,257 - thermomodel_None - INFO - # Model initialized with units kcal/mol and temperature 298.15 K\n",
      "2020-11-19 02:09:06,265 - thermomodel_None - INFO - # Model preparation starting...\n",
      "2020-11-19 02:09:08,578 - thermomodel_None - WARNING - Warning : NULL/U\n",
      "2020-11-19 02:09:08,578 - thermomodel_None - WARNING - Warning : NULL/L\n",
      "2020-11-19 02:09:08,578 - thermomodel_None - WARNING - Warning : NULL/L\n",
      "2020-11-19 02:09:08,578 - thermomodel_None - WARNING - Warning : NULL/U\n",
      "2020-11-19 02:09:08,586 - thermomodel_None - WARNING - Warning : NULL/L\n",
      "2020-11-19 02:09:08,586 - thermomodel_None - WARNING - Warning : NULL/L\n",
      "2020-11-19 02:09:08,800 - thermomodel_None - WARNING - Warning : NULL/U\n",
      "2020-11-19 02:09:08,800 - thermomodel_None - WARNING - Warning : NULL/L\n",
      "2020-11-19 02:09:08,800 - thermomodel_None - WARNING - Warning : NULL/L\n",
      "2020-11-19 02:09:08,802 - thermomodel_None - WARNING - Warning : NULL/U\n",
      "2020-11-19 02:09:08,802 - thermomodel_None - WARNING - Warning : NULL/L\n",
      "2020-11-19 02:09:08,802 - thermomodel_None - WARNING - Warning : NULL/L\n",
      "2020-11-19 02:09:08,941 - thermomodel_None - WARNING - Warning : NULL/U\n",
      "2020-11-19 02:09:08,943 - thermomodel_None - WARNING - Warning : NULL/L\n",
      "2020-11-19 02:09:08,943 - thermomodel_None - WARNING - Warning : NULL/L\n",
      "2020-11-19 02:09:08,943 - thermomodel_None - WARNING - Warning : NULL/U\n",
      "2020-11-19 02:09:08,943 - thermomodel_None - WARNING - Warning : NULL/L\n",
      "2020-11-19 02:09:08,943 - thermomodel_None - WARNING - Warning : NULL/L\n",
      "2020-11-19 02:09:08,993 - thermomodel_None - WARNING - Warning : NULL/U\n",
      "2020-11-19 02:09:08,993 - thermomodel_None - WARNING - Warning : NULL/L\n",
      "2020-11-19 02:09:08,993 - thermomodel_None - WARNING - Warning : NULL/L\n",
      "2020-11-19 02:09:08,993 - thermomodel_None - WARNING - Warning : NULL/U\n",
      "2020-11-19 02:09:08,993 - thermomodel_None - WARNING - Warning : NULL/L\n",
      "2020-11-19 02:09:08,993 - thermomodel_None - WARNING - Warning : NULL/L\n",
      "2020-11-19 02:09:08,993 - thermomodel_None - WARNING - Warning : NULL/U\n",
      "2020-11-19 02:09:08,993 - thermomodel_None - WARNING - Warning : NULL/L\n",
      "2020-11-19 02:09:08,993 - thermomodel_None - WARNING - Warning : NULL/L\n",
      "2020-11-19 02:09:08,993 - thermomodel_None - WARNING - Warning : NULL/U\n",
      "2020-11-19 02:09:08,993 - thermomodel_None - WARNING - Warning : NULL/L\n",
      "2020-11-19 02:09:08,993 - thermomodel_None - WARNING - Warning : NULL/L\n",
      "2020-11-19 02:09:09,008 - thermomodel_None - WARNING - Warning : NULL/U\n",
      "2020-11-19 02:09:09,008 - thermomodel_None - WARNING - Warning : NULL/L\n",
      "2020-11-19 02:09:09,008 - thermomodel_None - WARNING - Warning : NULL/L\n",
      "2020-11-19 02:09:09,008 - thermomodel_None - WARNING - Warning : NULL/U\n",
      "2020-11-19 02:09:09,008 - thermomodel_None - WARNING - Warning : NULL/L\n",
      "2020-11-19 02:09:09,008 - thermomodel_None - WARNING - Warning : NULL/L\n",
      "2020-11-19 02:09:09,008 - thermomodel_None - WARNING - Warning : NULL/U\n",
      "2020-11-19 02:09:09,008 - thermomodel_None - WARNING - Warning : NULL/L\n",
      "2020-11-19 02:09:09,008 - thermomodel_None - WARNING - Warning : NULL/L\n",
      "2020-11-19 02:09:09,008 - thermomodel_None - WARNING - Warning : NULL/U\n",
      "2020-11-19 02:09:09,008 - thermomodel_None - WARNING - Warning : NULL/L\n",
      "2020-11-19 02:09:09,008 - thermomodel_None - WARNING - Warning : NULL/L\n",
      "2020-11-19 02:09:09,124 - thermomodel_None - INFO - # Model preparation done.\n",
      "2020-11-19 02:09:09,124 - thermomodel_None - INFO - # Model conversion starting...\n",
      "2020-11-19 02:09:43,776 - thermomodel_None - INFO - # Model conversion done.\n",
      "2020-11-19 02:09:43,778 - thermomodel_None - INFO - # Updating cobra_model variables...\n",
      "2020-11-19 02:09:43,812 - thermomodel_None - INFO - # cobra_model variables are up-to-date\n"
     ]
    },
    {
     "name": "stdout",
     "output_type": "stream",
     "text": [
      "Read LP format model from file C:\\Users\\riheme\\AppData\\Local\\Temp\\tmp2saykler.lp\n",
      "Reading time = 0.02 seconds\n",
      ": 1807 rows, 5170 columns, 20304 nonzeros\n",
      "Read LP format model from file C:\\Users\\riheme\\AppData\\Local\\Temp\\tmpqayepu4v.lp\n",
      "Reading time = 0.02 seconds\n",
      ": 1807 rows, 5170 columns, 20304 nonzeros\n"
     ]
    },
    {
     "name": "stderr",
     "output_type": "stream",
     "text": [
      "2020-11-19 02:09:59,668 - thermomodel_Ecoli PGI (Glc) 6 @ t = 11 - INFO - # Model initialized with units kcal/mol and temperature 298.15 K\n"
     ]
    },
    {
     "name": "stdout",
     "output_type": "stream",
     "text": [
      "Read LP format model from file C:\\Users\\riheme\\AppData\\Local\\Temp\\tmpie6wii8_.lp\n",
      "Reading time = 0.02 seconds\n",
      ": 1807 rows, 5170 columns, 20304 nonzeros\n",
      "Read LP format model from file C:\\Users\\riheme\\AppData\\Local\\Temp\\tmputmvsrpv.lp\n",
      "Reading time = 0.02 seconds\n",
      ": 1807 rows, 5170 columns, 20304 nonzeros\n"
     ]
    },
    {
     "name": "stderr",
     "output_type": "stream",
     "text": [
      "2020-11-19 02:10:25,636 - thermomodel_Ecoli PGI (Glc) 6 @ t = 11 - INFO - # Model initialized with units kcal/mol and temperature 298.15 K\n",
      "2020-11-19 02:10:34,735 - thermomodel_Ecoli PGI (Glc) 6 @ t = 11 - INFO - Adding slack constraints\n",
      "adding slacks: 100%|███████████████████████████████████████████████████████████████| 1824/1824 [00:37<00:00, 49.26it/s]\n",
      "2020-11-19 02:11:13,401 - thermomodel_Ecoli PGI (Glc) 6 @ t = 11 - INFO - Optimizing slack model\n",
      "2020-11-19 02:11:18,171 - thermomodel_Ecoli PGI (Glc) 6 @ t = 11 - INFO - Extracting relaxation\n",
      "applying slack: 100%|███████████████████████████████████████████████████████████| 2585/2585 [00:00<00:00, 52979.09it/s]\n",
      "2020-11-19 02:11:18,312 - thermomodel_Ecoli PGI (Glc) 6 @ t = 11 - INFO - Testing relaxation\n"
     ]
    },
    {
     "name": "stdout",
     "output_type": "stream",
     "text": [
      "################################################################################\n",
      "Ecoli PGI (Glc) 7 @ t = 1\n",
      "(104.70 min)\n",
      "################################################################################\n",
      "Read LP format model from file C:\\Users\\riheme\\AppData\\Local\\Temp\\tmp0d40xb0e.lp\n",
      "Reading time = 0.03 seconds\n",
      ": 1807 rows, 5170 columns, 20334 nonzeros\n",
      "Read LP format model from file C:\\Users\\riheme\\AppData\\Local\\Temp\\tmpdjyxim2d.lp\n",
      "Reading time = 0.02 seconds\n",
      ": 1807 rows, 5170 columns, 20334 nonzeros\n"
     ]
    },
    {
     "name": "stderr",
     "output_type": "stream",
     "text": [
      "2020-11-19 02:11:33,192 - thermomodel_None - INFO - # Model initialized with units kcal/mol and temperature 298.15 K\n",
      "2020-11-19 02:11:33,202 - thermomodel_None - INFO - # Model preparation starting...\n",
      "2020-11-19 02:11:35,478 - thermomodel_None - WARNING - Warning : NULL/U\n",
      "2020-11-19 02:11:35,481 - thermomodel_None - WARNING - Warning : NULL/L\n",
      "2020-11-19 02:11:35,481 - thermomodel_None - WARNING - Warning : NULL/L\n",
      "2020-11-19 02:11:35,481 - thermomodel_None - WARNING - Warning : NULL/U\n",
      "2020-11-19 02:11:35,481 - thermomodel_None - WARNING - Warning : NULL/L\n",
      "2020-11-19 02:11:35,481 - thermomodel_None - WARNING - Warning : NULL/L\n",
      "2020-11-19 02:11:35,691 - thermomodel_None - WARNING - Warning : NULL/U\n",
      "2020-11-19 02:11:35,691 - thermomodel_None - WARNING - Warning : NULL/L\n",
      "2020-11-19 02:11:35,691 - thermomodel_None - WARNING - Warning : NULL/L\n",
      "2020-11-19 02:11:35,691 - thermomodel_None - WARNING - Warning : NULL/U\n",
      "2020-11-19 02:11:35,691 - thermomodel_None - WARNING - Warning : NULL/L\n",
      "2020-11-19 02:11:35,691 - thermomodel_None - WARNING - Warning : NULL/L\n",
      "2020-11-19 02:11:35,832 - thermomodel_None - WARNING - Warning : NULL/U\n",
      "2020-11-19 02:11:35,832 - thermomodel_None - WARNING - Warning : NULL/L\n",
      "2020-11-19 02:11:35,832 - thermomodel_None - WARNING - Warning : NULL/L\n",
      "2020-11-19 02:11:35,832 - thermomodel_None - WARNING - Warning : NULL/U\n",
      "2020-11-19 02:11:35,840 - thermomodel_None - WARNING - Warning : NULL/L\n",
      "2020-11-19 02:11:35,840 - thermomodel_None - WARNING - Warning : NULL/L\n",
      "2020-11-19 02:11:35,892 - thermomodel_None - WARNING - Warning : NULL/U\n",
      "2020-11-19 02:11:35,892 - thermomodel_None - WARNING - Warning : NULL/L\n",
      "2020-11-19 02:11:35,892 - thermomodel_None - WARNING - Warning : NULL/L\n",
      "2020-11-19 02:11:35,892 - thermomodel_None - WARNING - Warning : NULL/U\n",
      "2020-11-19 02:11:35,892 - thermomodel_None - WARNING - Warning : NULL/L\n",
      "2020-11-19 02:11:35,892 - thermomodel_None - WARNING - Warning : NULL/L\n",
      "2020-11-19 02:11:35,892 - thermomodel_None - WARNING - Warning : NULL/U\n",
      "2020-11-19 02:11:35,892 - thermomodel_None - WARNING - Warning : NULL/L\n",
      "2020-11-19 02:11:35,892 - thermomodel_None - WARNING - Warning : NULL/L\n",
      "2020-11-19 02:11:35,892 - thermomodel_None - WARNING - Warning : NULL/U\n",
      "2020-11-19 02:11:35,892 - thermomodel_None - WARNING - Warning : NULL/L\n",
      "2020-11-19 02:11:35,892 - thermomodel_None - WARNING - Warning : NULL/L\n",
      "2020-11-19 02:11:35,892 - thermomodel_None - WARNING - Warning : NULL/U\n",
      "2020-11-19 02:11:35,892 - thermomodel_None - WARNING - Warning : NULL/L\n",
      "2020-11-19 02:11:35,907 - thermomodel_None - WARNING - Warning : NULL/L\n",
      "2020-11-19 02:11:35,907 - thermomodel_None - WARNING - Warning : NULL/U\n",
      "2020-11-19 02:11:35,907 - thermomodel_None - WARNING - Warning : NULL/L\n",
      "2020-11-19 02:11:35,907 - thermomodel_None - WARNING - Warning : NULL/L\n",
      "2020-11-19 02:11:35,907 - thermomodel_None - WARNING - Warning : NULL/U\n",
      "2020-11-19 02:11:35,907 - thermomodel_None - WARNING - Warning : NULL/L\n",
      "2020-11-19 02:11:35,907 - thermomodel_None - WARNING - Warning : NULL/L\n",
      "2020-11-19 02:11:35,907 - thermomodel_None - WARNING - Warning : NULL/U\n",
      "2020-11-19 02:11:35,907 - thermomodel_None - WARNING - Warning : NULL/L\n",
      "2020-11-19 02:11:35,907 - thermomodel_None - WARNING - Warning : NULL/L\n",
      "2020-11-19 02:11:36,023 - thermomodel_None - INFO - # Model preparation done.\n",
      "2020-11-19 02:11:36,023 - thermomodel_None - INFO - # Model conversion starting...\n",
      "2020-11-19 02:12:09,878 - thermomodel_None - INFO - # Model conversion done.\n",
      "2020-11-19 02:12:09,878 - thermomodel_None - INFO - # Updating cobra_model variables...\n",
      "2020-11-19 02:12:09,918 - thermomodel_None - INFO - # cobra_model variables are up-to-date\n"
     ]
    },
    {
     "name": "stdout",
     "output_type": "stream",
     "text": [
      "Read LP format model from file C:\\Users\\riheme\\AppData\\Local\\Temp\\tmpy85uw17g.lp\n",
      "Reading time = 0.03 seconds\n",
      ": 1807 rows, 5170 columns, 20304 nonzeros\n",
      "Read LP format model from file C:\\Users\\riheme\\AppData\\Local\\Temp\\tmpwh6f21oe.lp\n",
      "Reading time = 0.02 seconds\n",
      ": 1807 rows, 5170 columns, 20304 nonzeros\n"
     ]
    },
    {
     "name": "stderr",
     "output_type": "stream",
     "text": [
      "2020-11-19 02:12:26,001 - thermomodel_Ecoli PGI (Glc) 7 @ t = 1 - INFO - # Model initialized with units kcal/mol and temperature 298.15 K\n"
     ]
    },
    {
     "name": "stdout",
     "output_type": "stream",
     "text": [
      "Read LP format model from file C:\\Users\\riheme\\AppData\\Local\\Temp\\tmpnmjm26ka.lp\n",
      "Reading time = 0.02 seconds\n",
      ": 1807 rows, 5170 columns, 20304 nonzeros\n",
      "Read LP format model from file C:\\Users\\riheme\\AppData\\Local\\Temp\\tmp3ati_h2c.lp\n",
      "Reading time = 0.02 seconds\n",
      ": 1807 rows, 5170 columns, 20304 nonzeros\n"
     ]
    },
    {
     "name": "stderr",
     "output_type": "stream",
     "text": [
      "2020-11-19 02:12:51,742 - thermomodel_Ecoli PGI (Glc) 7 @ t = 1 - INFO - # Model initialized with units kcal/mol and temperature 298.15 K\n",
      "2020-11-19 02:13:00,837 - thermomodel_Ecoli PGI (Glc) 7 @ t = 1 - INFO - Adding slack constraints\n",
      "adding slacks: 100%|███████████████████████████████████████████████████████████████| 1824/1824 [00:37<00:00, 49.13it/s]\n",
      "2020-11-19 02:13:39,545 - thermomodel_Ecoli PGI (Glc) 7 @ t = 1 - INFO - Optimizing slack model\n",
      "2020-11-19 02:13:42,905 - thermomodel_Ecoli PGI (Glc) 7 @ t = 1 - INFO - Extracting relaxation\n",
      "applying slack: 100%|███████████████████████████████████████████████████████████| 2585/2585 [00:00<00:00, 55129.84it/s]\n",
      "2020-11-19 02:13:43,039 - thermomodel_Ecoli PGI (Glc) 7 @ t = 1 - INFO - Testing relaxation\n"
     ]
    },
    {
     "name": "stdout",
     "output_type": "stream",
     "text": [
      "################################################################################\n",
      "Ecoli PGI (Glc) 7 @ t = 2\n",
      "(107.12 min)\n",
      "################################################################################\n",
      "Read LP format model from file C:\\Users\\riheme\\AppData\\Local\\Temp\\tmpdov_jm11.lp\n",
      "Reading time = 0.02 seconds\n",
      ": 1807 rows, 5170 columns, 20334 nonzeros\n",
      "Read LP format model from file C:\\Users\\riheme\\AppData\\Local\\Temp\\tmp39we4hbg.lp\n",
      "Reading time = 0.02 seconds\n",
      ": 1807 rows, 5170 columns, 20334 nonzeros\n"
     ]
    },
    {
     "name": "stderr",
     "output_type": "stream",
     "text": [
      "2020-11-19 02:13:57,905 - thermomodel_None - INFO - # Model initialized with units kcal/mol and temperature 298.15 K\n",
      "2020-11-19 02:13:57,915 - thermomodel_None - INFO - # Model preparation starting...\n",
      "2020-11-19 02:14:00,181 - thermomodel_None - WARNING - Warning : NULL/U\n",
      "2020-11-19 02:14:00,189 - thermomodel_None - WARNING - Warning : NULL/L\n",
      "2020-11-19 02:14:00,189 - thermomodel_None - WARNING - Warning : NULL/L\n",
      "2020-11-19 02:14:00,189 - thermomodel_None - WARNING - Warning : NULL/U\n",
      "2020-11-19 02:14:00,191 - thermomodel_None - WARNING - Warning : NULL/L\n",
      "2020-11-19 02:14:00,191 - thermomodel_None - WARNING - Warning : NULL/L\n",
      "2020-11-19 02:14:00,401 - thermomodel_None - WARNING - Warning : NULL/U\n",
      "2020-11-19 02:14:00,401 - thermomodel_None - WARNING - Warning : NULL/L\n",
      "2020-11-19 02:14:00,403 - thermomodel_None - WARNING - Warning : NULL/L\n",
      "2020-11-19 02:14:00,403 - thermomodel_None - WARNING - Warning : NULL/U\n",
      "2020-11-19 02:14:00,403 - thermomodel_None - WARNING - Warning : NULL/L\n",
      "2020-11-19 02:14:00,403 - thermomodel_None - WARNING - Warning : NULL/L\n",
      "2020-11-19 02:14:00,544 - thermomodel_None - WARNING - Warning : NULL/U\n",
      "2020-11-19 02:14:00,544 - thermomodel_None - WARNING - Warning : NULL/L\n",
      "2020-11-19 02:14:00,544 - thermomodel_None - WARNING - Warning : NULL/L\n",
      "2020-11-19 02:14:00,544 - thermomodel_None - WARNING - Warning : NULL/U\n",
      "2020-11-19 02:14:00,544 - thermomodel_None - WARNING - Warning : NULL/L\n",
      "2020-11-19 02:14:00,544 - thermomodel_None - WARNING - Warning : NULL/L\n",
      "2020-11-19 02:14:00,593 - thermomodel_None - WARNING - Warning : NULL/U\n",
      "2020-11-19 02:14:00,593 - thermomodel_None - WARNING - Warning : NULL/L\n",
      "2020-11-19 02:14:00,593 - thermomodel_None - WARNING - Warning : NULL/L\n",
      "2020-11-19 02:14:00,593 - thermomodel_None - WARNING - Warning : NULL/U\n",
      "2020-11-19 02:14:00,593 - thermomodel_None - WARNING - Warning : NULL/L\n",
      "2020-11-19 02:14:00,593 - thermomodel_None - WARNING - Warning : NULL/L\n",
      "2020-11-19 02:14:00,593 - thermomodel_None - WARNING - Warning : NULL/U\n",
      "2020-11-19 02:14:00,593 - thermomodel_None - WARNING - Warning : NULL/L\n",
      "2020-11-19 02:14:00,593 - thermomodel_None - WARNING - Warning : NULL/L\n",
      "2020-11-19 02:14:00,593 - thermomodel_None - WARNING - Warning : NULL/U\n",
      "2020-11-19 02:14:00,593 - thermomodel_None - WARNING - Warning : NULL/L\n",
      "2020-11-19 02:14:00,609 - thermomodel_None - WARNING - Warning : NULL/L\n",
      "2020-11-19 02:14:00,609 - thermomodel_None - WARNING - Warning : NULL/U\n",
      "2020-11-19 02:14:00,609 - thermomodel_None - WARNING - Warning : NULL/L\n",
      "2020-11-19 02:14:00,609 - thermomodel_None - WARNING - Warning : NULL/L\n",
      "2020-11-19 02:14:00,609 - thermomodel_None - WARNING - Warning : NULL/U\n",
      "2020-11-19 02:14:00,609 - thermomodel_None - WARNING - Warning : NULL/L\n",
      "2020-11-19 02:14:00,609 - thermomodel_None - WARNING - Warning : NULL/L\n",
      "2020-11-19 02:14:00,609 - thermomodel_None - WARNING - Warning : NULL/U\n",
      "2020-11-19 02:14:00,609 - thermomodel_None - WARNING - Warning : NULL/L\n",
      "2020-11-19 02:14:00,609 - thermomodel_None - WARNING - Warning : NULL/L\n",
      "2020-11-19 02:14:00,609 - thermomodel_None - WARNING - Warning : NULL/U\n",
      "2020-11-19 02:14:00,609 - thermomodel_None - WARNING - Warning : NULL/L\n",
      "2020-11-19 02:14:00,609 - thermomodel_None - WARNING - Warning : NULL/L\n",
      "2020-11-19 02:14:00,725 - thermomodel_None - INFO - # Model preparation done.\n",
      "2020-11-19 02:14:00,725 - thermomodel_None - INFO - # Model conversion starting...\n",
      "2020-11-19 02:14:34,593 - thermomodel_None - INFO - # Model conversion done.\n",
      "2020-11-19 02:14:34,593 - thermomodel_None - INFO - # Updating cobra_model variables...\n",
      "2020-11-19 02:14:34,627 - thermomodel_None - INFO - # cobra_model variables are up-to-date\n"
     ]
    },
    {
     "name": "stdout",
     "output_type": "stream",
     "text": [
      "Read LP format model from file C:\\Users\\riheme\\AppData\\Local\\Temp\\tmp1rr_w9qz.lp\n",
      "Reading time = 0.02 seconds\n",
      ": 1807 rows, 5170 columns, 20304 nonzeros\n",
      "Read LP format model from file C:\\Users\\riheme\\AppData\\Local\\Temp\\tmpzymg3k2j.lp\n",
      "Reading time = 0.02 seconds\n",
      ": 1807 rows, 5170 columns, 20304 nonzeros\n"
     ]
    },
    {
     "name": "stderr",
     "output_type": "stream",
     "text": [
      "2020-11-19 02:14:50,727 - thermomodel_Ecoli PGI (Glc) 7 @ t = 2 - INFO - # Model initialized with units kcal/mol and temperature 298.15 K\n"
     ]
    },
    {
     "name": "stdout",
     "output_type": "stream",
     "text": [
      "Read LP format model from file C:\\Users\\riheme\\AppData\\Local\\Temp\\tmpdp7fis3f.lp\n",
      "Reading time = 0.02 seconds\n",
      ": 1807 rows, 5170 columns, 20304 nonzeros\n",
      "Read LP format model from file C:\\Users\\riheme\\AppData\\Local\\Temp\\tmpsd1n_br7.lp\n",
      "Reading time = 0.03 seconds\n",
      ": 1807 rows, 5170 columns, 20304 nonzeros\n"
     ]
    },
    {
     "name": "stderr",
     "output_type": "stream",
     "text": [
      "2020-11-19 02:15:16,921 - thermomodel_Ecoli PGI (Glc) 7 @ t = 2 - INFO - # Model initialized with units kcal/mol and temperature 298.15 K\n",
      "2020-11-19 02:15:26,015 - thermomodel_Ecoli PGI (Glc) 7 @ t = 2 - INFO - Adding slack constraints\n",
      "adding slacks: 100%|███████████████████████████████████████████████████████████████| 1824/1824 [00:35<00:00, 50.87it/s]\n",
      "2020-11-19 02:16:04,244 - thermomodel_Ecoli PGI (Glc) 7 @ t = 2 - INFO - Optimizing slack model\n",
      "2020-11-19 02:16:07,187 - thermomodel_Ecoli PGI (Glc) 7 @ t = 2 - INFO - Extracting relaxation\n",
      "applying slack: 100%|███████████████████████████████████████████████████████████| 2585/2585 [00:00<00:00, 50644.72it/s]\n",
      "2020-11-19 02:16:07,329 - thermomodel_Ecoli PGI (Glc) 7 @ t = 2 - INFO - Testing relaxation\n"
     ]
    },
    {
     "name": "stdout",
     "output_type": "stream",
     "text": [
      "################################################################################\n",
      "Ecoli PGI (Glc) 7 @ t = 3\n",
      "(109.52 min)\n",
      "################################################################################\n",
      "Read LP format model from file C:\\Users\\riheme\\AppData\\Local\\Temp\\tmpjo34uq6e.lp\n",
      "Reading time = 0.02 seconds\n",
      ": 1807 rows, 5170 columns, 20334 nonzeros\n",
      "Read LP format model from file C:\\Users\\riheme\\AppData\\Local\\Temp\\tmp5qqvg1b_.lp\n",
      "Reading time = 0.02 seconds\n",
      ": 1807 rows, 5170 columns, 20334 nonzeros\n"
     ]
    },
    {
     "name": "stderr",
     "output_type": "stream",
     "text": [
      "2020-11-19 02:16:22,022 - thermomodel_None - INFO - # Model initialized with units kcal/mol and temperature 298.15 K\n",
      "2020-11-19 02:16:22,040 - thermomodel_None - INFO - # Model preparation starting...\n",
      "2020-11-19 02:16:24,323 - thermomodel_None - WARNING - Warning : NULL/U\n",
      "2020-11-19 02:16:24,323 - thermomodel_None - WARNING - Warning : NULL/L\n",
      "2020-11-19 02:16:24,323 - thermomodel_None - WARNING - Warning : NULL/L\n",
      "2020-11-19 02:16:24,323 - thermomodel_None - WARNING - Warning : NULL/U\n",
      "2020-11-19 02:16:24,323 - thermomodel_None - WARNING - Warning : NULL/L\n",
      "2020-11-19 02:16:24,323 - thermomodel_None - WARNING - Warning : NULL/L\n",
      "2020-11-19 02:16:24,535 - thermomodel_None - WARNING - Warning : NULL/U\n",
      "2020-11-19 02:16:24,535 - thermomodel_None - WARNING - Warning : NULL/L\n",
      "2020-11-19 02:16:24,535 - thermomodel_None - WARNING - Warning : NULL/L\n",
      "2020-11-19 02:16:24,535 - thermomodel_None - WARNING - Warning : NULL/U\n",
      "2020-11-19 02:16:24,543 - thermomodel_None - WARNING - Warning : NULL/L\n",
      "2020-11-19 02:16:24,543 - thermomodel_None - WARNING - Warning : NULL/L\n",
      "2020-11-19 02:16:24,669 - thermomodel_None - WARNING - Warning : NULL/U\n",
      "2020-11-19 02:16:24,669 - thermomodel_None - WARNING - Warning : NULL/L\n",
      "2020-11-19 02:16:24,669 - thermomodel_None - WARNING - Warning : NULL/L\n",
      "2020-11-19 02:16:24,684 - thermomodel_None - WARNING - Warning : NULL/U\n",
      "2020-11-19 02:16:24,684 - thermomodel_None - WARNING - Warning : NULL/L\n",
      "2020-11-19 02:16:24,684 - thermomodel_None - WARNING - Warning : NULL/L\n",
      "2020-11-19 02:16:24,731 - thermomodel_None - WARNING - Warning : NULL/U\n",
      "2020-11-19 02:16:24,731 - thermomodel_None - WARNING - Warning : NULL/L\n",
      "2020-11-19 02:16:24,731 - thermomodel_None - WARNING - Warning : NULL/L\n",
      "2020-11-19 02:16:24,731 - thermomodel_None - WARNING - Warning : NULL/U\n",
      "2020-11-19 02:16:24,731 - thermomodel_None - WARNING - Warning : NULL/L\n",
      "2020-11-19 02:16:24,731 - thermomodel_None - WARNING - Warning : NULL/L\n",
      "2020-11-19 02:16:24,731 - thermomodel_None - WARNING - Warning : NULL/U\n",
      "2020-11-19 02:16:24,747 - thermomodel_None - WARNING - Warning : NULL/L\n",
      "2020-11-19 02:16:24,747 - thermomodel_None - WARNING - Warning : NULL/L\n",
      "2020-11-19 02:16:24,747 - thermomodel_None - WARNING - Warning : NULL/U\n",
      "2020-11-19 02:16:24,747 - thermomodel_None - WARNING - Warning : NULL/L\n",
      "2020-11-19 02:16:24,747 - thermomodel_None - WARNING - Warning : NULL/L\n",
      "2020-11-19 02:16:24,747 - thermomodel_None - WARNING - Warning : NULL/U\n",
      "2020-11-19 02:16:24,747 - thermomodel_None - WARNING - Warning : NULL/L\n",
      "2020-11-19 02:16:24,747 - thermomodel_None - WARNING - Warning : NULL/L\n",
      "2020-11-19 02:16:24,747 - thermomodel_None - WARNING - Warning : NULL/U\n",
      "2020-11-19 02:16:24,753 - thermomodel_None - WARNING - Warning : NULL/L\n",
      "2020-11-19 02:16:24,753 - thermomodel_None - WARNING - Warning : NULL/L\n",
      "2020-11-19 02:16:24,753 - thermomodel_None - WARNING - Warning : NULL/U\n",
      "2020-11-19 02:16:24,753 - thermomodel_None - WARNING - Warning : NULL/L\n",
      "2020-11-19 02:16:24,753 - thermomodel_None - WARNING - Warning : NULL/L\n",
      "2020-11-19 02:16:24,753 - thermomodel_None - WARNING - Warning : NULL/U\n",
      "2020-11-19 02:16:24,753 - thermomodel_None - WARNING - Warning : NULL/L\n",
      "2020-11-19 02:16:24,753 - thermomodel_None - WARNING - Warning : NULL/L\n",
      "2020-11-19 02:16:24,854 - thermomodel_None - INFO - # Model preparation done.\n",
      "2020-11-19 02:16:24,869 - thermomodel_None - INFO - # Model conversion starting...\n",
      "2020-11-19 02:16:58,681 - thermomodel_None - INFO - # Model conversion done.\n",
      "2020-11-19 02:16:58,681 - thermomodel_None - INFO - # Updating cobra_model variables...\n",
      "2020-11-19 02:16:58,729 - thermomodel_None - INFO - # cobra_model variables are up-to-date\n"
     ]
    },
    {
     "name": "stdout",
     "output_type": "stream",
     "text": [
      "Read LP format model from file C:\\Users\\riheme\\AppData\\Local\\Temp\\tmpefpiq6ts.lp\n",
      "Reading time = 0.02 seconds\n",
      ": 1807 rows, 5170 columns, 20304 nonzeros\n",
      "Read LP format model from file C:\\Users\\riheme\\AppData\\Local\\Temp\\tmpvu6v8o8_.lp\n",
      "Reading time = 0.02 seconds\n",
      ": 1807 rows, 5170 columns, 20304 nonzeros\n"
     ]
    },
    {
     "name": "stderr",
     "output_type": "stream",
     "text": [
      "2020-11-19 02:17:15,004 - thermomodel_Ecoli PGI (Glc) 7 @ t = 3 - INFO - # Model initialized with units kcal/mol and temperature 298.15 K\n"
     ]
    },
    {
     "name": "stdout",
     "output_type": "stream",
     "text": [
      "Read LP format model from file C:\\Users\\riheme\\AppData\\Local\\Temp\\tmphqj7p5r7.lp\n",
      "Reading time = 0.02 seconds\n",
      ": 1807 rows, 5170 columns, 20304 nonzeros\n",
      "Read LP format model from file C:\\Users\\riheme\\AppData\\Local\\Temp\\tmps8r2b2hz.lp\n",
      "Reading time = 0.03 seconds\n",
      ": 1807 rows, 5170 columns, 20304 nonzeros\n"
     ]
    },
    {
     "name": "stderr",
     "output_type": "stream",
     "text": [
      "2020-11-19 02:17:40,598 - thermomodel_Ecoli PGI (Glc) 7 @ t = 3 - INFO - # Model initialized with units kcal/mol and temperature 298.15 K\n",
      "2020-11-19 02:17:49,683 - thermomodel_Ecoli PGI (Glc) 7 @ t = 3 - INFO - Adding slack constraints\n",
      "adding slacks: 100%|███████████████████████████████████████████████████████████████| 1824/1824 [00:38<00:00, 47.91it/s]\n",
      "2020-11-19 02:18:29,349 - thermomodel_Ecoli PGI (Glc) 7 @ t = 3 - INFO - Optimizing slack model\n",
      "2020-11-19 02:18:34,782 - thermomodel_Ecoli PGI (Glc) 7 @ t = 3 - INFO - Extracting relaxation\n",
      "applying slack: 100%|███████████████████████████████████████████████████████████| 2585/2585 [00:00<00:00, 45432.84it/s]\n",
      "2020-11-19 02:18:34,919 - thermomodel_Ecoli PGI (Glc) 7 @ t = 3 - INFO - Testing relaxation\n"
     ]
    },
    {
     "name": "stdout",
     "output_type": "stream",
     "text": [
      "################################################################################\n",
      "Ecoli PGI (Glc) 7 @ t = 11\n",
      "(111.98 min)\n",
      "################################################################################\n",
      "Read LP format model from file C:\\Users\\riheme\\AppData\\Local\\Temp\\tmp7rphm6xh.lp\n",
      "Reading time = 0.02 seconds\n",
      ": 1807 rows, 5170 columns, 20334 nonzeros\n",
      "Read LP format model from file C:\\Users\\riheme\\AppData\\Local\\Temp\\tmparxceunw.lp\n",
      "Reading time = 0.02 seconds\n",
      ": 1807 rows, 5170 columns, 20334 nonzeros\n"
     ]
    },
    {
     "name": "stderr",
     "output_type": "stream",
     "text": [
      "2020-11-19 02:18:49,824 - thermomodel_None - INFO - # Model initialized with units kcal/mol and temperature 298.15 K\n",
      "2020-11-19 02:18:49,834 - thermomodel_None - INFO - # Model preparation starting...\n",
      "2020-11-19 02:18:52,124 - thermomodel_None - WARNING - Warning : NULL/U\n",
      "2020-11-19 02:18:52,124 - thermomodel_None - WARNING - Warning : NULL/L\n",
      "2020-11-19 02:18:52,124 - thermomodel_None - WARNING - Warning : NULL/L\n",
      "2020-11-19 02:18:52,124 - thermomodel_None - WARNING - Warning : NULL/U\n",
      "2020-11-19 02:18:52,124 - thermomodel_None - WARNING - Warning : NULL/L\n",
      "2020-11-19 02:18:52,124 - thermomodel_None - WARNING - Warning : NULL/L\n",
      "2020-11-19 02:18:52,336 - thermomodel_None - WARNING - Warning : NULL/U\n",
      "2020-11-19 02:18:52,336 - thermomodel_None - WARNING - Warning : NULL/L\n",
      "2020-11-19 02:18:52,336 - thermomodel_None - WARNING - Warning : NULL/L\n",
      "2020-11-19 02:18:52,343 - thermomodel_None - WARNING - Warning : NULL/U\n",
      "2020-11-19 02:18:52,343 - thermomodel_None - WARNING - Warning : NULL/L\n",
      "2020-11-19 02:18:52,345 - thermomodel_None - WARNING - Warning : NULL/L\n",
      "2020-11-19 02:18:52,483 - thermomodel_None - WARNING - Warning : NULL/U\n",
      "2020-11-19 02:18:52,483 - thermomodel_None - WARNING - Warning : NULL/L\n",
      "2020-11-19 02:18:52,485 - thermomodel_None - WARNING - Warning : NULL/L\n",
      "2020-11-19 02:18:52,485 - thermomodel_None - WARNING - Warning : NULL/U\n",
      "2020-11-19 02:18:52,485 - thermomodel_None - WARNING - Warning : NULL/L\n",
      "2020-11-19 02:18:52,485 - thermomodel_None - WARNING - Warning : NULL/L\n",
      "2020-11-19 02:18:52,536 - thermomodel_None - WARNING - Warning : NULL/U\n",
      "2020-11-19 02:18:52,536 - thermomodel_None - WARNING - Warning : NULL/L\n",
      "2020-11-19 02:18:52,536 - thermomodel_None - WARNING - Warning : NULL/L\n",
      "2020-11-19 02:18:52,536 - thermomodel_None - WARNING - Warning : NULL/U\n",
      "2020-11-19 02:18:52,536 - thermomodel_None - WARNING - Warning : NULL/L\n",
      "2020-11-19 02:18:52,544 - thermomodel_None - WARNING - Warning : NULL/L\n",
      "2020-11-19 02:18:52,544 - thermomodel_None - WARNING - Warning : NULL/U\n",
      "2020-11-19 02:18:52,544 - thermomodel_None - WARNING - Warning : NULL/L\n",
      "2020-11-19 02:18:52,544 - thermomodel_None - WARNING - Warning : NULL/L\n",
      "2020-11-19 02:18:52,544 - thermomodel_None - WARNING - Warning : NULL/U\n",
      "2020-11-19 02:18:52,544 - thermomodel_None - WARNING - Warning : NULL/L\n",
      "2020-11-19 02:18:52,544 - thermomodel_None - WARNING - Warning : NULL/L\n",
      "2020-11-19 02:18:52,544 - thermomodel_None - WARNING - Warning : NULL/U\n",
      "2020-11-19 02:18:52,544 - thermomodel_None - WARNING - Warning : NULL/L\n",
      "2020-11-19 02:18:52,544 - thermomodel_None - WARNING - Warning : NULL/L\n",
      "2020-11-19 02:18:52,544 - thermomodel_None - WARNING - Warning : NULL/U\n",
      "2020-11-19 02:18:52,544 - thermomodel_None - WARNING - Warning : NULL/L\n",
      "2020-11-19 02:18:52,544 - thermomodel_None - WARNING - Warning : NULL/L\n",
      "2020-11-19 02:18:52,554 - thermomodel_None - WARNING - Warning : NULL/U\n",
      "2020-11-19 02:18:52,554 - thermomodel_None - WARNING - Warning : NULL/L\n",
      "2020-11-19 02:18:52,554 - thermomodel_None - WARNING - Warning : NULL/L\n",
      "2020-11-19 02:18:52,556 - thermomodel_None - WARNING - Warning : NULL/U\n",
      "2020-11-19 02:18:52,556 - thermomodel_None - WARNING - Warning : NULL/L\n",
      "2020-11-19 02:18:52,556 - thermomodel_None - WARNING - Warning : NULL/L\n",
      "2020-11-19 02:18:52,666 - thermomodel_None - INFO - # Model preparation done.\n",
      "2020-11-19 02:18:52,666 - thermomodel_None - INFO - # Model conversion starting...\n",
      "2020-11-19 02:19:26,828 - thermomodel_None - INFO - # Model conversion done.\n",
      "2020-11-19 02:19:26,828 - thermomodel_None - INFO - # Updating cobra_model variables...\n",
      "2020-11-19 02:19:26,864 - thermomodel_None - INFO - # cobra_model variables are up-to-date\n"
     ]
    },
    {
     "name": "stdout",
     "output_type": "stream",
     "text": [
      "Read LP format model from file C:\\Users\\riheme\\AppData\\Local\\Temp\\tmprh2foo6g.lp\n",
      "Reading time = 0.02 seconds\n",
      ": 1807 rows, 5170 columns, 20304 nonzeros\n",
      "Read LP format model from file C:\\Users\\riheme\\AppData\\Local\\Temp\\tmp86814tde.lp\n",
      "Reading time = 0.02 seconds\n",
      ": 1807 rows, 5170 columns, 20304 nonzeros\n"
     ]
    },
    {
     "name": "stderr",
     "output_type": "stream",
     "text": [
      "2020-11-19 02:19:42,960 - thermomodel_Ecoli PGI (Glc) 7 @ t = 11 - INFO - # Model initialized with units kcal/mol and temperature 298.15 K\n"
     ]
    },
    {
     "name": "stdout",
     "output_type": "stream",
     "text": [
      "Read LP format model from file C:\\Users\\riheme\\AppData\\Local\\Temp\\tmpj7uv29qh.lp\n",
      "Reading time = 0.02 seconds\n",
      ": 1807 rows, 5170 columns, 20304 nonzeros\n",
      "Read LP format model from file C:\\Users\\riheme\\AppData\\Local\\Temp\\tmpb8z6tmgj.lp\n",
      "Reading time = 0.02 seconds\n",
      ": 1807 rows, 5170 columns, 20304 nonzeros\n"
     ]
    },
    {
     "name": "stderr",
     "output_type": "stream",
     "text": [
      "2020-11-19 02:20:08,753 - thermomodel_Ecoli PGI (Glc) 7 @ t = 11 - INFO - # Model initialized with units kcal/mol and temperature 298.15 K\n",
      "2020-11-19 02:20:17,822 - thermomodel_Ecoli PGI (Glc) 7 @ t = 11 - INFO - Adding slack constraints\n",
      "adding slacks: 100%|███████████████████████████████████████████████████████████████| 1824/1824 [00:36<00:00, 49.67it/s]\n",
      "2020-11-19 02:20:56,149 - thermomodel_Ecoli PGI (Glc) 7 @ t = 11 - INFO - Optimizing slack model\n",
      "2020-11-19 02:21:01,871 - thermomodel_Ecoli PGI (Glc) 7 @ t = 11 - INFO - Extracting relaxation\n",
      "applying slack: 100%|███████████████████████████████████████████████████████████| 2585/2585 [00:00<00:00, 52966.15it/s]\n",
      "2020-11-19 02:21:02,004 - thermomodel_Ecoli PGI (Glc) 7 @ t = 11 - INFO - Testing relaxation\n"
     ]
    },
    {
     "name": "stdout",
     "output_type": "stream",
     "text": [
      "################################################################################\n",
      "Ecoli PGI (Glc) 8 @ t = 1\n",
      "(114.43 min)\n",
      "################################################################################\n",
      "Read LP format model from file C:\\Users\\riheme\\AppData\\Local\\Temp\\tmpldet84b8.lp\n",
      "Reading time = 0.02 seconds\n",
      ": 1807 rows, 5170 columns, 20334 nonzeros\n",
      "Read LP format model from file C:\\Users\\riheme\\AppData\\Local\\Temp\\tmpxhr16kpu.lp\n",
      "Reading time = 0.02 seconds\n",
      ": 1807 rows, 5170 columns, 20334 nonzeros\n"
     ]
    },
    {
     "name": "stderr",
     "output_type": "stream",
     "text": [
      "2020-11-19 02:21:16,947 - thermomodel_None - INFO - # Model initialized with units kcal/mol and temperature 298.15 K\n",
      "2020-11-19 02:21:16,957 - thermomodel_None - INFO - # Model preparation starting...\n",
      "2020-11-19 02:21:19,241 - thermomodel_None - WARNING - Warning : NULL/U\n",
      "2020-11-19 02:21:19,241 - thermomodel_None - WARNING - Warning : NULL/L\n",
      "2020-11-19 02:21:19,241 - thermomodel_None - WARNING - Warning : NULL/L\n",
      "2020-11-19 02:21:19,241 - thermomodel_None - WARNING - Warning : NULL/U\n",
      "2020-11-19 02:21:19,241 - thermomodel_None - WARNING - Warning : NULL/L\n",
      "2020-11-19 02:21:19,249 - thermomodel_None - WARNING - Warning : NULL/L\n",
      "2020-11-19 02:21:19,452 - thermomodel_None - WARNING - Warning : NULL/U\n",
      "2020-11-19 02:21:19,452 - thermomodel_None - WARNING - Warning : NULL/L\n",
      "2020-11-19 02:21:19,452 - thermomodel_None - WARNING - Warning : NULL/L\n",
      "2020-11-19 02:21:19,460 - thermomodel_None - WARNING - Warning : NULL/U\n",
      "2020-11-19 02:21:19,460 - thermomodel_None - WARNING - Warning : NULL/L\n",
      "2020-11-19 02:21:19,460 - thermomodel_None - WARNING - Warning : NULL/L\n",
      "2020-11-19 02:21:19,601 - thermomodel_None - WARNING - Warning : NULL/U\n",
      "2020-11-19 02:21:19,601 - thermomodel_None - WARNING - Warning : NULL/L\n",
      "2020-11-19 02:21:19,601 - thermomodel_None - WARNING - Warning : NULL/L\n",
      "2020-11-19 02:21:19,601 - thermomodel_None - WARNING - Warning : NULL/U\n",
      "2020-11-19 02:21:19,601 - thermomodel_None - WARNING - Warning : NULL/L\n",
      "2020-11-19 02:21:19,601 - thermomodel_None - WARNING - Warning : NULL/L\n",
      "2020-11-19 02:21:19,664 - thermomodel_None - WARNING - Warning : NULL/U\n",
      "2020-11-19 02:21:19,664 - thermomodel_None - WARNING - Warning : NULL/L\n",
      "2020-11-19 02:21:19,664 - thermomodel_None - WARNING - Warning : NULL/L\n",
      "2020-11-19 02:21:19,664 - thermomodel_None - WARNING - Warning : NULL/U\n",
      "2020-11-19 02:21:19,664 - thermomodel_None - WARNING - Warning : NULL/L\n",
      "2020-11-19 02:21:19,664 - thermomodel_None - WARNING - Warning : NULL/L\n",
      "2020-11-19 02:21:19,664 - thermomodel_None - WARNING - Warning : NULL/U\n",
      "2020-11-19 02:21:19,670 - thermomodel_None - WARNING - Warning : NULL/L\n",
      "2020-11-19 02:21:19,670 - thermomodel_None - WARNING - Warning : NULL/L\n",
      "2020-11-19 02:21:19,670 - thermomodel_None - WARNING - Warning : NULL/U\n",
      "2020-11-19 02:21:19,670 - thermomodel_None - WARNING - Warning : NULL/L\n",
      "2020-11-19 02:21:19,670 - thermomodel_None - WARNING - Warning : NULL/L\n",
      "2020-11-19 02:21:19,670 - thermomodel_None - WARNING - Warning : NULL/U\n",
      "2020-11-19 02:21:19,670 - thermomodel_None - WARNING - Warning : NULL/L\n",
      "2020-11-19 02:21:19,670 - thermomodel_None - WARNING - Warning : NULL/L\n",
      "2020-11-19 02:21:19,670 - thermomodel_None - WARNING - Warning : NULL/U\n",
      "2020-11-19 02:21:19,670 - thermomodel_None - WARNING - Warning : NULL/L\n",
      "2020-11-19 02:21:19,670 - thermomodel_None - WARNING - Warning : NULL/L\n",
      "2020-11-19 02:21:19,670 - thermomodel_None - WARNING - Warning : NULL/U\n",
      "2020-11-19 02:21:19,670 - thermomodel_None - WARNING - Warning : NULL/L\n",
      "2020-11-19 02:21:19,670 - thermomodel_None - WARNING - Warning : NULL/L\n",
      "2020-11-19 02:21:19,670 - thermomodel_None - WARNING - Warning : NULL/U\n",
      "2020-11-19 02:21:19,670 - thermomodel_None - WARNING - Warning : NULL/L\n",
      "2020-11-19 02:21:19,670 - thermomodel_None - WARNING - Warning : NULL/L\n",
      "2020-11-19 02:21:19,786 - thermomodel_None - INFO - # Model preparation done.\n",
      "2020-11-19 02:21:19,786 - thermomodel_None - INFO - # Model conversion starting...\n",
      "2020-11-19 02:21:53,902 - thermomodel_None - INFO - # Model conversion done.\n",
      "2020-11-19 02:21:53,904 - thermomodel_None - INFO - # Updating cobra_model variables...\n",
      "2020-11-19 02:21:53,938 - thermomodel_None - INFO - # cobra_model variables are up-to-date\n"
     ]
    },
    {
     "name": "stdout",
     "output_type": "stream",
     "text": [
      "Read LP format model from file C:\\Users\\riheme\\AppData\\Local\\Temp\\tmpwss9b3de.lp\n",
      "Reading time = 0.02 seconds\n",
      ": 1807 rows, 5170 columns, 20304 nonzeros\n",
      "Read LP format model from file C:\\Users\\riheme\\AppData\\Local\\Temp\\tmpqx11nzng.lp\n",
      "Reading time = 0.02 seconds\n",
      ": 1807 rows, 5170 columns, 20304 nonzeros\n"
     ]
    },
    {
     "name": "stderr",
     "output_type": "stream",
     "text": [
      "2020-11-19 02:22:10,071 - thermomodel_Ecoli PGI (Glc) 8 @ t = 1 - INFO - # Model initialized with units kcal/mol and temperature 298.15 K\n"
     ]
    },
    {
     "name": "stdout",
     "output_type": "stream",
     "text": [
      "Read LP format model from file C:\\Users\\riheme\\AppData\\Local\\Temp\\tmpkakiy93o.lp\n",
      "Reading time = 0.02 seconds\n",
      ": 1807 rows, 5170 columns, 20304 nonzeros\n",
      "Read LP format model from file C:\\Users\\riheme\\AppData\\Local\\Temp\\tmpsag707s7.lp\n",
      "Reading time = 0.02 seconds\n",
      ": 1807 rows, 5170 columns, 20304 nonzeros\n"
     ]
    },
    {
     "name": "stderr",
     "output_type": "stream",
     "text": [
      "2020-11-19 02:22:35,930 - thermomodel_Ecoli PGI (Glc) 8 @ t = 1 - INFO - # Model initialized with units kcal/mol and temperature 298.15 K\n",
      "2020-11-19 02:22:45,006 - thermomodel_Ecoli PGI (Glc) 8 @ t = 1 - INFO - Adding slack constraints\n",
      "adding slacks: 100%|███████████████████████████████████████████████████████████████| 1824/1824 [00:36<00:00, 49.42it/s]\n",
      "2020-11-19 02:23:23,506 - thermomodel_Ecoli PGI (Glc) 8 @ t = 1 - INFO - Optimizing slack model\n",
      "2020-11-19 02:23:27,967 - thermomodel_Ecoli PGI (Glc) 8 @ t = 1 - INFO - Extracting relaxation\n",
      "applying slack: 100%|███████████████████████████████████████████████████████████| 2585/2585 [00:00<00:00, 38782.39it/s]\n",
      "2020-11-19 02:23:28,101 - thermomodel_Ecoli PGI (Glc) 8 @ t = 1 - INFO - Testing relaxation\n"
     ]
    },
    {
     "name": "stdout",
     "output_type": "stream",
     "text": [
      "################################################################################\n",
      "Ecoli PGI (Glc) 8 @ t = 2\n",
      "(116.87 min)\n",
      "################################################################################\n",
      "Read LP format model from file C:\\Users\\riheme\\AppData\\Local\\Temp\\tmpxxtnfu6q.lp\n",
      "Reading time = 0.02 seconds\n",
      ": 1807 rows, 5170 columns, 20334 nonzeros\n",
      "Read LP format model from file C:\\Users\\riheme\\AppData\\Local\\Temp\\tmpa5izhl3p.lp\n",
      "Reading time = 0.02 seconds\n",
      ": 1807 rows, 5170 columns, 20334 nonzeros\n"
     ]
    },
    {
     "name": "stderr",
     "output_type": "stream",
     "text": [
      "2020-11-19 02:23:42,974 - thermomodel_None - INFO - # Model initialized with units kcal/mol and temperature 298.15 K\n",
      "2020-11-19 02:23:42,983 - thermomodel_None - INFO - # Model preparation starting...\n",
      "2020-11-19 02:23:45,231 - thermomodel_None - WARNING - Warning : NULL/U\n",
      "2020-11-19 02:23:45,231 - thermomodel_None - WARNING - Warning : NULL/L\n",
      "2020-11-19 02:23:45,231 - thermomodel_None - WARNING - Warning : NULL/L\n",
      "2020-11-19 02:23:45,231 - thermomodel_None - WARNING - Warning : NULL/U\n",
      "2020-11-19 02:23:45,231 - thermomodel_None - WARNING - Warning : NULL/L\n",
      "2020-11-19 02:23:45,231 - thermomodel_None - WARNING - Warning : NULL/L\n",
      "2020-11-19 02:23:45,442 - thermomodel_None - WARNING - Warning : NULL/U\n",
      "2020-11-19 02:23:45,450 - thermomodel_None - WARNING - Warning : NULL/L\n",
      "2020-11-19 02:23:45,450 - thermomodel_None - WARNING - Warning : NULL/L\n",
      "2020-11-19 02:23:45,450 - thermomodel_None - WARNING - Warning : NULL/U\n",
      "2020-11-19 02:23:45,450 - thermomodel_None - WARNING - Warning : NULL/L\n",
      "2020-11-19 02:23:45,450 - thermomodel_None - WARNING - Warning : NULL/L\n",
      "2020-11-19 02:23:45,593 - thermomodel_None - WARNING - Warning : NULL/U\n",
      "2020-11-19 02:23:45,593 - thermomodel_None - WARNING - Warning : NULL/L\n",
      "2020-11-19 02:23:45,593 - thermomodel_None - WARNING - Warning : NULL/L\n",
      "2020-11-19 02:23:45,593 - thermomodel_None - WARNING - Warning : NULL/U\n",
      "2020-11-19 02:23:45,593 - thermomodel_None - WARNING - Warning : NULL/L\n",
      "2020-11-19 02:23:45,593 - thermomodel_None - WARNING - Warning : NULL/L\n",
      "2020-11-19 02:23:45,642 - thermomodel_None - WARNING - Warning : NULL/U\n",
      "2020-11-19 02:23:45,642 - thermomodel_None - WARNING - Warning : NULL/L\n",
      "2020-11-19 02:23:45,642 - thermomodel_None - WARNING - Warning : NULL/L\n",
      "2020-11-19 02:23:45,642 - thermomodel_None - WARNING - Warning : NULL/U\n",
      "2020-11-19 02:23:45,642 - thermomodel_None - WARNING - Warning : NULL/L\n",
      "2020-11-19 02:23:45,642 - thermomodel_None - WARNING - Warning : NULL/L\n",
      "2020-11-19 02:23:45,642 - thermomodel_None - WARNING - Warning : NULL/U\n",
      "2020-11-19 02:23:45,642 - thermomodel_None - WARNING - Warning : NULL/L\n",
      "2020-11-19 02:23:45,642 - thermomodel_None - WARNING - Warning : NULL/L\n",
      "2020-11-19 02:23:45,642 - thermomodel_None - WARNING - Warning : NULL/U\n",
      "2020-11-19 02:23:45,658 - thermomodel_None - WARNING - Warning : NULL/L\n",
      "2020-11-19 02:23:45,658 - thermomodel_None - WARNING - Warning : NULL/L\n",
      "2020-11-19 02:23:45,658 - thermomodel_None - WARNING - Warning : NULL/U\n",
      "2020-11-19 02:23:45,658 - thermomodel_None - WARNING - Warning : NULL/L\n",
      "2020-11-19 02:23:45,658 - thermomodel_None - WARNING - Warning : NULL/L\n",
      "2020-11-19 02:23:45,658 - thermomodel_None - WARNING - Warning : NULL/U\n",
      "2020-11-19 02:23:45,658 - thermomodel_None - WARNING - Warning : NULL/L\n",
      "2020-11-19 02:23:45,658 - thermomodel_None - WARNING - Warning : NULL/L\n",
      "2020-11-19 02:23:45,658 - thermomodel_None - WARNING - Warning : NULL/U\n",
      "2020-11-19 02:23:45,658 - thermomodel_None - WARNING - Warning : NULL/L\n",
      "2020-11-19 02:23:45,658 - thermomodel_None - WARNING - Warning : NULL/L\n",
      "2020-11-19 02:23:45,658 - thermomodel_None - WARNING - Warning : NULL/U\n",
      "2020-11-19 02:23:45,658 - thermomodel_None - WARNING - Warning : NULL/L\n",
      "2020-11-19 02:23:45,658 - thermomodel_None - WARNING - Warning : NULL/L\n",
      "2020-11-19 02:23:45,778 - thermomodel_None - INFO - # Model preparation done.\n",
      "2020-11-19 02:23:45,778 - thermomodel_None - INFO - # Model conversion starting...\n",
      "2020-11-19 02:24:20,027 - thermomodel_None - INFO - # Model conversion done.\n",
      "2020-11-19 02:24:20,027 - thermomodel_None - INFO - # Updating cobra_model variables...\n",
      "2020-11-19 02:24:20,061 - thermomodel_None - INFO - # cobra_model variables are up-to-date\n"
     ]
    },
    {
     "name": "stdout",
     "output_type": "stream",
     "text": [
      "Read LP format model from file C:\\Users\\riheme\\AppData\\Local\\Temp\\tmppwsckheg.lp\n",
      "Reading time = 0.02 seconds\n",
      ": 1807 rows, 5170 columns, 20304 nonzeros\n",
      "Read LP format model from file C:\\Users\\riheme\\AppData\\Local\\Temp\\tmpj3ayh56f.lp\n",
      "Reading time = 0.02 seconds\n",
      ": 1807 rows, 5170 columns, 20304 nonzeros\n"
     ]
    },
    {
     "name": "stderr",
     "output_type": "stream",
     "text": [
      "2020-11-19 02:24:36,158 - thermomodel_Ecoli PGI (Glc) 8 @ t = 2 - INFO - # Model initialized with units kcal/mol and temperature 298.15 K\n"
     ]
    },
    {
     "name": "stdout",
     "output_type": "stream",
     "text": [
      "Read LP format model from file C:\\Users\\riheme\\AppData\\Local\\Temp\\tmp0tceoxqg.lp\n",
      "Reading time = 0.02 seconds\n",
      ": 1807 rows, 5170 columns, 20304 nonzeros\n",
      "Read LP format model from file C:\\Users\\riheme\\AppData\\Local\\Temp\\tmppxgrho5z.lp\n",
      "Reading time = 0.02 seconds\n",
      ": 1807 rows, 5170 columns, 20304 nonzeros\n"
     ]
    },
    {
     "name": "stderr",
     "output_type": "stream",
     "text": [
      "2020-11-19 02:25:01,968 - thermomodel_Ecoli PGI (Glc) 8 @ t = 2 - INFO - # Model initialized with units kcal/mol and temperature 298.15 K\n",
      "2020-11-19 02:25:11,056 - thermomodel_Ecoli PGI (Glc) 8 @ t = 2 - INFO - Adding slack constraints\n",
      "adding slacks: 100%|███████████████████████████████████████████████████████████████| 1824/1824 [00:36<00:00, 49.62it/s]\n",
      "2020-11-19 02:25:49,406 - thermomodel_Ecoli PGI (Glc) 8 @ t = 2 - INFO - Optimizing slack model\n",
      "2020-11-19 02:25:53,610 - thermomodel_Ecoli PGI (Glc) 8 @ t = 2 - INFO - Extracting relaxation\n",
      "applying slack: 100%|███████████████████████████████████████████████████████████| 2585/2585 [00:00<00:00, 52363.98it/s]\n",
      "2020-11-19 02:25:53,756 - thermomodel_Ecoli PGI (Glc) 8 @ t = 2 - INFO - Testing relaxation\n"
     ]
    },
    {
     "name": "stdout",
     "output_type": "stream",
     "text": [
      "################################################################################\n",
      "Ecoli PGI (Glc) 8 @ t = 3\n",
      "(119.29 min)\n",
      "################################################################################\n",
      "Read LP format model from file C:\\Users\\riheme\\AppData\\Local\\Temp\\tmphigwp1th.lp\n",
      "Reading time = 0.02 seconds\n",
      ": 1807 rows, 5170 columns, 20334 nonzeros\n",
      "Read LP format model from file C:\\Users\\riheme\\AppData\\Local\\Temp\\tmpiz5hez23.lp\n",
      "Reading time = 0.02 seconds\n",
      ": 1807 rows, 5170 columns, 20334 nonzeros\n"
     ]
    },
    {
     "name": "stderr",
     "output_type": "stream",
     "text": [
      "2020-11-19 02:26:08,645 - thermomodel_None - INFO - # Model initialized with units kcal/mol and temperature 298.15 K\n",
      "2020-11-19 02:26:08,653 - thermomodel_None - INFO - # Model preparation starting...\n",
      "2020-11-19 02:26:10,953 - thermomodel_None - WARNING - Warning : NULL/U\n",
      "2020-11-19 02:26:10,953 - thermomodel_None - WARNING - Warning : NULL/L\n",
      "2020-11-19 02:26:10,953 - thermomodel_None - WARNING - Warning : NULL/L\n",
      "2020-11-19 02:26:10,953 - thermomodel_None - WARNING - Warning : NULL/U\n",
      "2020-11-19 02:26:10,953 - thermomodel_None - WARNING - Warning : NULL/L\n",
      "2020-11-19 02:26:10,953 - thermomodel_None - WARNING - Warning : NULL/L\n",
      "2020-11-19 02:26:11,165 - thermomodel_None - WARNING - Warning : NULL/U\n",
      "2020-11-19 02:26:11,173 - thermomodel_None - WARNING - Warning : NULL/L\n",
      "2020-11-19 02:26:11,173 - thermomodel_None - WARNING - Warning : NULL/L\n",
      "2020-11-19 02:26:11,175 - thermomodel_None - WARNING - Warning : NULL/U\n",
      "2020-11-19 02:26:11,175 - thermomodel_None - WARNING - Warning : NULL/L\n",
      "2020-11-19 02:26:11,175 - thermomodel_None - WARNING - Warning : NULL/L\n",
      "2020-11-19 02:26:11,314 - thermomodel_None - WARNING - Warning : NULL/U\n",
      "2020-11-19 02:26:11,316 - thermomodel_None - WARNING - Warning : NULL/L\n",
      "2020-11-19 02:26:11,316 - thermomodel_None - WARNING - Warning : NULL/L\n",
      "2020-11-19 02:26:11,316 - thermomodel_None - WARNING - Warning : NULL/U\n",
      "2020-11-19 02:26:11,316 - thermomodel_None - WARNING - Warning : NULL/L\n",
      "2020-11-19 02:26:11,316 - thermomodel_None - WARNING - Warning : NULL/L\n",
      "2020-11-19 02:26:11,365 - thermomodel_None - WARNING - Warning : NULL/U\n",
      "2020-11-19 02:26:11,365 - thermomodel_None - WARNING - Warning : NULL/L\n",
      "2020-11-19 02:26:11,365 - thermomodel_None - WARNING - Warning : NULL/L\n",
      "2020-11-19 02:26:11,365 - thermomodel_None - WARNING - Warning : NULL/U\n",
      "2020-11-19 02:26:11,365 - thermomodel_None - WARNING - Warning : NULL/L\n",
      "2020-11-19 02:26:11,365 - thermomodel_None - WARNING - Warning : NULL/L\n",
      "2020-11-19 02:26:11,365 - thermomodel_None - WARNING - Warning : NULL/U\n",
      "2020-11-19 02:26:11,365 - thermomodel_None - WARNING - Warning : NULL/L\n",
      "2020-11-19 02:26:11,365 - thermomodel_None - WARNING - Warning : NULL/L\n",
      "2020-11-19 02:26:11,365 - thermomodel_None - WARNING - Warning : NULL/U\n",
      "2020-11-19 02:26:11,365 - thermomodel_None - WARNING - Warning : NULL/L\n",
      "2020-11-19 02:26:11,365 - thermomodel_None - WARNING - Warning : NULL/L\n",
      "2020-11-19 02:26:11,365 - thermomodel_None - WARNING - Warning : NULL/U\n",
      "2020-11-19 02:26:11,381 - thermomodel_None - WARNING - Warning : NULL/L\n",
      "2020-11-19 02:26:11,381 - thermomodel_None - WARNING - Warning : NULL/L\n",
      "2020-11-19 02:26:11,381 - thermomodel_None - WARNING - Warning : NULL/U\n",
      "2020-11-19 02:26:11,381 - thermomodel_None - WARNING - Warning : NULL/L\n",
      "2020-11-19 02:26:11,381 - thermomodel_None - WARNING - Warning : NULL/L\n",
      "2020-11-19 02:26:11,381 - thermomodel_None - WARNING - Warning : NULL/U\n",
      "2020-11-19 02:26:11,381 - thermomodel_None - WARNING - Warning : NULL/L\n",
      "2020-11-19 02:26:11,381 - thermomodel_None - WARNING - Warning : NULL/L\n",
      "2020-11-19 02:26:11,381 - thermomodel_None - WARNING - Warning : NULL/U\n",
      "2020-11-19 02:26:11,381 - thermomodel_None - WARNING - Warning : NULL/L\n",
      "2020-11-19 02:26:11,381 - thermomodel_None - WARNING - Warning : NULL/L\n",
      "2020-11-19 02:26:11,497 - thermomodel_None - INFO - # Model preparation done.\n",
      "2020-11-19 02:26:11,497 - thermomodel_None - INFO - # Model conversion starting...\n",
      "2020-11-19 02:26:45,487 - thermomodel_None - INFO - # Model conversion done.\n",
      "2020-11-19 02:26:45,487 - thermomodel_None - INFO - # Updating cobra_model variables...\n",
      "2020-11-19 02:26:45,536 - thermomodel_None - INFO - # cobra_model variables are up-to-date\n"
     ]
    },
    {
     "name": "stdout",
     "output_type": "stream",
     "text": [
      "Read LP format model from file C:\\Users\\riheme\\AppData\\Local\\Temp\\tmpbawwqrwe.lp\n",
      "Reading time = 0.02 seconds\n",
      ": 1807 rows, 5170 columns, 20304 nonzeros\n",
      "Read LP format model from file C:\\Users\\riheme\\AppData\\Local\\Temp\\tmp6826sm5g.lp\n",
      "Reading time = 0.02 seconds\n",
      ": 1807 rows, 5170 columns, 20304 nonzeros\n"
     ]
    },
    {
     "name": "stderr",
     "output_type": "stream",
     "text": [
      "2020-11-19 02:27:01,564 - thermomodel_Ecoli PGI (Glc) 8 @ t = 3 - INFO - # Model initialized with units kcal/mol and temperature 298.15 K\n"
     ]
    },
    {
     "name": "stdout",
     "output_type": "stream",
     "text": [
      "Read LP format model from file C:\\Users\\riheme\\AppData\\Local\\Temp\\tmpzpviafqs.lp\n",
      "Reading time = 0.02 seconds\n",
      ": 1807 rows, 5170 columns, 20304 nonzeros\n",
      "Read LP format model from file C:\\Users\\riheme\\AppData\\Local\\Temp\\tmprvc6ynem.lp\n",
      "Reading time = 0.02 seconds\n",
      ": 1807 rows, 5170 columns, 20304 nonzeros\n"
     ]
    },
    {
     "name": "stderr",
     "output_type": "stream",
     "text": [
      "2020-11-19 02:27:27,583 - thermomodel_Ecoli PGI (Glc) 8 @ t = 3 - INFO - # Model initialized with units kcal/mol and temperature 298.15 K\n",
      "2020-11-19 02:27:36,635 - thermomodel_Ecoli PGI (Glc) 8 @ t = 3 - INFO - Adding slack constraints\n",
      "adding slacks: 100%|███████████████████████████████████████████████████████████████| 1824/1824 [00:36<00:00, 49.32it/s]\n",
      "2020-11-19 02:28:15,218 - thermomodel_Ecoli PGI (Glc) 8 @ t = 3 - INFO - Optimizing slack model\n",
      "2020-11-19 02:28:18,604 - thermomodel_Ecoli PGI (Glc) 8 @ t = 3 - INFO - Extracting relaxation\n",
      "applying slack: 100%|███████████████████████████████████████████████████████████| 2585/2585 [00:00<00:00, 50907.72it/s]\n",
      "2020-11-19 02:28:18,730 - thermomodel_Ecoli PGI (Glc) 8 @ t = 3 - INFO - Testing relaxation\n"
     ]
    },
    {
     "name": "stdout",
     "output_type": "stream",
     "text": [
      "################################################################################\n",
      "Ecoli PGI (Glc) 8 @ t = 11\n",
      "(121.71 min)\n",
      "################################################################################\n",
      "Read LP format model from file C:\\Users\\riheme\\AppData\\Local\\Temp\\tmp87pn_qgt.lp\n",
      "Reading time = 0.02 seconds\n",
      ": 1807 rows, 5170 columns, 20334 nonzeros\n",
      "Read LP format model from file C:\\Users\\riheme\\AppData\\Local\\Temp\\tmp9r8v008k.lp\n",
      "Reading time = 0.02 seconds\n",
      ": 1807 rows, 5170 columns, 20334 nonzeros\n"
     ]
    },
    {
     "name": "stderr",
     "output_type": "stream",
     "text": [
      "2020-11-19 02:28:33,589 - thermomodel_None - INFO - # Model initialized with units kcal/mol and temperature 298.15 K\n",
      "2020-11-19 02:28:33,597 - thermomodel_None - INFO - # Model preparation starting...\n",
      "2020-11-19 02:28:35,874 - thermomodel_None - WARNING - Warning : NULL/U\n",
      "2020-11-19 02:28:35,874 - thermomodel_None - WARNING - Warning : NULL/L\n",
      "2020-11-19 02:28:35,874 - thermomodel_None - WARNING - Warning : NULL/L\n",
      "2020-11-19 02:28:35,874 - thermomodel_None - WARNING - Warning : NULL/U\n",
      "2020-11-19 02:28:35,874 - thermomodel_None - WARNING - Warning : NULL/L\n",
      "2020-11-19 02:28:35,874 - thermomodel_None - WARNING - Warning : NULL/L\n",
      "2020-11-19 02:28:36,095 - thermomodel_None - WARNING - Warning : NULL/U\n",
      "2020-11-19 02:28:36,095 - thermomodel_None - WARNING - Warning : NULL/L\n",
      "2020-11-19 02:28:36,097 - thermomodel_None - WARNING - Warning : NULL/L\n",
      "2020-11-19 02:28:36,097 - thermomodel_None - WARNING - Warning : NULL/U\n",
      "2020-11-19 02:28:36,097 - thermomodel_None - WARNING - Warning : NULL/L\n",
      "2020-11-19 02:28:36,097 - thermomodel_None - WARNING - Warning : NULL/L\n",
      "2020-11-19 02:28:36,231 - thermomodel_None - WARNING - Warning : NULL/U\n",
      "2020-11-19 02:28:36,231 - thermomodel_None - WARNING - Warning : NULL/L\n",
      "2020-11-19 02:28:36,231 - thermomodel_None - WARNING - Warning : NULL/L\n",
      "2020-11-19 02:28:36,231 - thermomodel_None - WARNING - Warning : NULL/U\n",
      "2020-11-19 02:28:36,231 - thermomodel_None - WARNING - Warning : NULL/L\n",
      "2020-11-19 02:28:36,231 - thermomodel_None - WARNING - Warning : NULL/L\n",
      "2020-11-19 02:28:36,278 - thermomodel_None - WARNING - Warning : NULL/U\n",
      "2020-11-19 02:28:36,293 - thermomodel_None - WARNING - Warning : NULL/L\n",
      "2020-11-19 02:28:36,293 - thermomodel_None - WARNING - Warning : NULL/L\n",
      "2020-11-19 02:28:36,293 - thermomodel_None - WARNING - Warning : NULL/U\n",
      "2020-11-19 02:28:36,293 - thermomodel_None - WARNING - Warning : NULL/L\n",
      "2020-11-19 02:28:36,293 - thermomodel_None - WARNING - Warning : NULL/L\n",
      "2020-11-19 02:28:36,293 - thermomodel_None - WARNING - Warning : NULL/U\n",
      "2020-11-19 02:28:36,293 - thermomodel_None - WARNING - Warning : NULL/L\n",
      "2020-11-19 02:28:36,293 - thermomodel_None - WARNING - Warning : NULL/L\n",
      "2020-11-19 02:28:36,293 - thermomodel_None - WARNING - Warning : NULL/U\n",
      "2020-11-19 02:28:36,293 - thermomodel_None - WARNING - Warning : NULL/L\n",
      "2020-11-19 02:28:36,293 - thermomodel_None - WARNING - Warning : NULL/L\n",
      "2020-11-19 02:28:36,293 - thermomodel_None - WARNING - Warning : NULL/U\n",
      "2020-11-19 02:28:36,293 - thermomodel_None - WARNING - Warning : NULL/L\n",
      "2020-11-19 02:28:36,293 - thermomodel_None - WARNING - Warning : NULL/L\n",
      "2020-11-19 02:28:36,293 - thermomodel_None - WARNING - Warning : NULL/U\n",
      "2020-11-19 02:28:36,293 - thermomodel_None - WARNING - Warning : NULL/L\n",
      "2020-11-19 02:28:36,293 - thermomodel_None - WARNING - Warning : NULL/L\n",
      "2020-11-19 02:28:36,293 - thermomodel_None - WARNING - Warning : NULL/U\n",
      "2020-11-19 02:28:36,309 - thermomodel_None - WARNING - Warning : NULL/L\n",
      "2020-11-19 02:28:36,309 - thermomodel_None - WARNING - Warning : NULL/L\n",
      "2020-11-19 02:28:36,309 - thermomodel_None - WARNING - Warning : NULL/U\n",
      "2020-11-19 02:28:36,309 - thermomodel_None - WARNING - Warning : NULL/L\n",
      "2020-11-19 02:28:36,309 - thermomodel_None - WARNING - Warning : NULL/L\n",
      "2020-11-19 02:28:36,416 - thermomodel_None - INFO - # Model preparation done.\n",
      "2020-11-19 02:28:36,416 - thermomodel_None - INFO - # Model conversion starting...\n",
      "2020-11-19 02:29:10,545 - thermomodel_None - INFO - # Model conversion done.\n",
      "2020-11-19 02:29:10,545 - thermomodel_None - INFO - # Updating cobra_model variables...\n",
      "2020-11-19 02:29:10,595 - thermomodel_None - INFO - # cobra_model variables are up-to-date\n"
     ]
    },
    {
     "name": "stdout",
     "output_type": "stream",
     "text": [
      "Read LP format model from file C:\\Users\\riheme\\AppData\\Local\\Temp\\tmptc28lkww.lp\n",
      "Reading time = 0.02 seconds\n",
      ": 1807 rows, 5170 columns, 20304 nonzeros\n",
      "Read LP format model from file C:\\Users\\riheme\\AppData\\Local\\Temp\\tmpdndbsrw8.lp\n",
      "Reading time = 0.02 seconds\n",
      ": 1807 rows, 5170 columns, 20304 nonzeros\n"
     ]
    },
    {
     "name": "stderr",
     "output_type": "stream",
     "text": [
      "2020-11-19 02:29:26,700 - thermomodel_Ecoli PGI (Glc) 8 @ t = 11 - INFO - # Model initialized with units kcal/mol and temperature 298.15 K\n"
     ]
    },
    {
     "name": "stdout",
     "output_type": "stream",
     "text": [
      "Read LP format model from file C:\\Users\\riheme\\AppData\\Local\\Temp\\tmp91lzgm_o.lp\n",
      "Reading time = 0.02 seconds\n",
      ": 1807 rows, 5170 columns, 20304 nonzeros\n",
      "Read LP format model from file C:\\Users\\riheme\\AppData\\Local\\Temp\\tmp1rbusa39.lp\n",
      "Reading time = 0.02 seconds\n",
      ": 1807 rows, 5170 columns, 20304 nonzeros\n"
     ]
    },
    {
     "name": "stderr",
     "output_type": "stream",
     "text": [
      "2020-11-19 02:29:52,671 - thermomodel_Ecoli PGI (Glc) 8 @ t = 11 - INFO - # Model initialized with units kcal/mol and temperature 298.15 K\n",
      "2020-11-19 02:30:01,767 - thermomodel_Ecoli PGI (Glc) 8 @ t = 11 - INFO - Adding slack constraints\n",
      "adding slacks: 100%|███████████████████████████████████████████████████████████████| 1824/1824 [00:36<00:00, 49.42it/s]\n",
      "2020-11-19 02:30:40,258 - thermomodel_Ecoli PGI (Glc) 8 @ t = 11 - INFO - Optimizing slack model\n",
      "2020-11-19 02:30:45,031 - thermomodel_Ecoli PGI (Glc) 8 @ t = 11 - INFO - Extracting relaxation\n",
      "applying slack: 100%|███████████████████████████████████████████████████████████| 2585/2585 [00:00<00:00, 53051.41it/s]\n",
      "2020-11-19 02:30:45,172 - thermomodel_Ecoli PGI (Glc) 8 @ t = 11 - INFO - Testing relaxation\n"
     ]
    },
    {
     "name": "stdout",
     "output_type": "stream",
     "text": [
      "################################################################################\n",
      "Ecoli SUCDi (Glc) 0 @ t = 0\n",
      "(124.15 min)\n",
      "################################################################################\n",
      "Read LP format model from file C:\\Users\\riheme\\AppData\\Local\\Temp\\tmpiiw2e9ga.lp\n",
      "Reading time = 0.02 seconds\n",
      ": 1807 rows, 5170 columns, 20334 nonzeros\n",
      "Read LP format model from file C:\\Users\\riheme\\AppData\\Local\\Temp\\tmpzlwexp9o.lp\n",
      "Reading time = 0.02 seconds\n",
      ": 1807 rows, 5170 columns, 20334 nonzeros\n"
     ]
    },
    {
     "name": "stderr",
     "output_type": "stream",
     "text": [
      "2020-11-19 02:30:59,824 - thermomodel_None - INFO - # Model initialized with units kcal/mol and temperature 298.15 K\n",
      "2020-11-19 02:30:59,834 - thermomodel_None - INFO - # Model preparation starting...\n",
      "2020-11-19 02:31:02,100 - thermomodel_None - WARNING - Warning : NULL/U\n",
      "2020-11-19 02:31:02,102 - thermomodel_None - WARNING - Warning : NULL/L\n",
      "2020-11-19 02:31:02,102 - thermomodel_None - WARNING - Warning : NULL/L\n",
      "2020-11-19 02:31:02,102 - thermomodel_None - WARNING - Warning : NULL/U\n",
      "2020-11-19 02:31:02,102 - thermomodel_None - WARNING - Warning : NULL/L\n",
      "2020-11-19 02:31:02,102 - thermomodel_None - WARNING - Warning : NULL/L\n",
      "2020-11-19 02:31:02,314 - thermomodel_None - WARNING - Warning : NULL/U\n",
      "2020-11-19 02:31:02,314 - thermomodel_None - WARNING - Warning : NULL/L\n",
      "2020-11-19 02:31:02,314 - thermomodel_None - WARNING - Warning : NULL/L\n",
      "2020-11-19 02:31:02,314 - thermomodel_None - WARNING - Warning : NULL/U\n",
      "2020-11-19 02:31:02,314 - thermomodel_None - WARNING - Warning : NULL/L\n",
      "2020-11-19 02:31:02,320 - thermomodel_None - WARNING - Warning : NULL/L\n",
      "2020-11-19 02:31:02,452 - thermomodel_None - WARNING - Warning : NULL/U\n",
      "2020-11-19 02:31:02,452 - thermomodel_None - WARNING - Warning : NULL/L\n",
      "2020-11-19 02:31:02,452 - thermomodel_None - WARNING - Warning : NULL/L\n",
      "2020-11-19 02:31:02,452 - thermomodel_None - WARNING - Warning : NULL/U\n",
      "2020-11-19 02:31:02,452 - thermomodel_None - WARNING - Warning : NULL/L\n",
      "2020-11-19 02:31:02,452 - thermomodel_None - WARNING - Warning : NULL/L\n",
      "2020-11-19 02:31:02,514 - thermomodel_None - WARNING - Warning : NULL/U\n",
      "2020-11-19 02:31:02,514 - thermomodel_None - WARNING - Warning : NULL/L\n",
      "2020-11-19 02:31:02,514 - thermomodel_None - WARNING - Warning : NULL/L\n",
      "2020-11-19 02:31:02,514 - thermomodel_None - WARNING - Warning : NULL/U\n",
      "2020-11-19 02:31:02,514 - thermomodel_None - WARNING - Warning : NULL/L\n",
      "2020-11-19 02:31:02,514 - thermomodel_None - WARNING - Warning : NULL/L\n",
      "2020-11-19 02:31:02,514 - thermomodel_None - WARNING - Warning : NULL/U\n",
      "2020-11-19 02:31:02,521 - thermomodel_None - WARNING - Warning : NULL/L\n",
      "2020-11-19 02:31:02,521 - thermomodel_None - WARNING - Warning : NULL/L\n",
      "2020-11-19 02:31:02,521 - thermomodel_None - WARNING - Warning : NULL/U\n",
      "2020-11-19 02:31:02,521 - thermomodel_None - WARNING - Warning : NULL/L\n",
      "2020-11-19 02:31:02,521 - thermomodel_None - WARNING - Warning : NULL/L\n",
      "2020-11-19 02:31:02,521 - thermomodel_None - WARNING - Warning : NULL/U\n",
      "2020-11-19 02:31:02,521 - thermomodel_None - WARNING - Warning : NULL/L\n",
      "2020-11-19 02:31:02,521 - thermomodel_None - WARNING - Warning : NULL/L\n",
      "2020-11-19 02:31:02,521 - thermomodel_None - WARNING - Warning : NULL/U\n",
      "2020-11-19 02:31:02,521 - thermomodel_None - WARNING - Warning : NULL/L\n",
      "2020-11-19 02:31:02,521 - thermomodel_None - WARNING - Warning : NULL/L\n",
      "2020-11-19 02:31:02,521 - thermomodel_None - WARNING - Warning : NULL/U\n",
      "2020-11-19 02:31:02,521 - thermomodel_None - WARNING - Warning : NULL/L\n",
      "2020-11-19 02:31:02,521 - thermomodel_None - WARNING - Warning : NULL/L\n",
      "2020-11-19 02:31:02,521 - thermomodel_None - WARNING - Warning : NULL/U\n",
      "2020-11-19 02:31:02,521 - thermomodel_None - WARNING - Warning : NULL/L\n",
      "2020-11-19 02:31:02,521 - thermomodel_None - WARNING - Warning : NULL/L\n",
      "2020-11-19 02:31:02,637 - thermomodel_None - INFO - # Model preparation done.\n",
      "2020-11-19 02:31:02,637 - thermomodel_None - INFO - # Model conversion starting...\n",
      "2020-11-19 02:31:37,003 - thermomodel_None - INFO - # Model conversion done.\n",
      "2020-11-19 02:31:37,003 - thermomodel_None - INFO - # Updating cobra_model variables...\n",
      "2020-11-19 02:31:37,052 - thermomodel_None - INFO - # cobra_model variables are up-to-date\n"
     ]
    },
    {
     "name": "stdout",
     "output_type": "stream",
     "text": [
      "Read LP format model from file C:\\Users\\riheme\\AppData\\Local\\Temp\\tmpup2r8mfq.lp\n",
      "Reading time = 0.02 seconds\n",
      ": 1807 rows, 5170 columns, 20304 nonzeros\n",
      "Read LP format model from file C:\\Users\\riheme\\AppData\\Local\\Temp\\tmph1l9d9ml.lp\n",
      "Reading time = 0.02 seconds\n",
      ": 1807 rows, 5170 columns, 20304 nonzeros\n"
     ]
    },
    {
     "name": "stderr",
     "output_type": "stream",
     "text": [
      "2020-11-19 02:31:53,164 - thermomodel_Ecoli SUCDi (Glc) 0 @ t = 0 - INFO - # Model initialized with units kcal/mol and temperature 298.15 K\n"
     ]
    },
    {
     "name": "stdout",
     "output_type": "stream",
     "text": [
      "Read LP format model from file C:\\Users\\riheme\\AppData\\Local\\Temp\\tmp78od5jzc.lp\n",
      "Reading time = 0.02 seconds\n",
      ": 1807 rows, 5170 columns, 20304 nonzeros\n",
      "Read LP format model from file C:\\Users\\riheme\\AppData\\Local\\Temp\\tmp3hld3rh_.lp\n",
      "Reading time = 0.02 seconds\n",
      ": 1807 rows, 5170 columns, 20304 nonzeros\n"
     ]
    },
    {
     "name": "stderr",
     "output_type": "stream",
     "text": [
      "2020-11-19 02:32:19,149 - thermomodel_Ecoli SUCDi (Glc) 0 @ t = 0 - INFO - # Model initialized with units kcal/mol and temperature 298.15 K\n",
      "2020-11-19 02:32:28,254 - thermomodel_Ecoli SUCDi (Glc) 0 @ t = 0 - INFO - Adding slack constraints\n",
      "adding slacks: 100%|███████████████████████████████████████████████████████████████| 1824/1824 [00:36<00:00, 49.51it/s]\n",
      "2020-11-19 02:33:06,693 - thermomodel_Ecoli SUCDi (Glc) 0 @ t = 0 - INFO - Optimizing slack model\n",
      "2020-11-19 02:33:12,309 - thermomodel_Ecoli SUCDi (Glc) 0 @ t = 0 - INFO - Extracting relaxation\n",
      "applying slack: 100%|███████████████████████████████████████████████████████████| 2585/2585 [00:00<00:00, 55132.93it/s]\n",
      "2020-11-19 02:33:12,443 - thermomodel_Ecoli SUCDi (Glc) 0 @ t = 0 - INFO - Testing relaxation\n"
     ]
    },
    {
     "name": "stdout",
     "output_type": "stream",
     "text": [
      "################################################################################\n",
      "Ecoli SUCDi (Glc) 1 @ t = 11\n",
      "(126.61 min)\n",
      "################################################################################\n",
      "Read LP format model from file C:\\Users\\riheme\\AppData\\Local\\Temp\\tmpfsnfplgv.lp\n",
      "Reading time = 0.02 seconds\n",
      ": 1807 rows, 5170 columns, 20334 nonzeros\n",
      "Read LP format model from file C:\\Users\\riheme\\AppData\\Local\\Temp\\tmpq5atzzgs.lp\n",
      "Reading time = 0.02 seconds\n",
      ": 1807 rows, 5170 columns, 20334 nonzeros\n"
     ]
    },
    {
     "name": "stderr",
     "output_type": "stream",
     "text": [
      "2020-11-19 02:33:27,376 - thermomodel_None - INFO - # Model initialized with units kcal/mol and temperature 298.15 K\n",
      "2020-11-19 02:33:27,386 - thermomodel_None - INFO - # Model preparation starting...\n",
      "2020-11-19 02:33:29,645 - thermomodel_None - WARNING - Warning : NULL/U\n",
      "2020-11-19 02:33:29,645 - thermomodel_None - WARNING - Warning : NULL/L\n",
      "2020-11-19 02:33:29,647 - thermomodel_None - WARNING - Warning : NULL/L\n",
      "2020-11-19 02:33:29,647 - thermomodel_None - WARNING - Warning : NULL/U\n",
      "2020-11-19 02:33:29,647 - thermomodel_None - WARNING - Warning : NULL/L\n",
      "2020-11-19 02:33:29,647 - thermomodel_None - WARNING - Warning : NULL/L\n",
      "2020-11-19 02:33:29,861 - thermomodel_None - WARNING - Warning : NULL/U\n",
      "2020-11-19 02:33:29,861 - thermomodel_None - WARNING - Warning : NULL/L\n",
      "2020-11-19 02:33:29,861 - thermomodel_None - WARNING - Warning : NULL/L\n",
      "2020-11-19 02:33:29,861 - thermomodel_None - WARNING - Warning : NULL/U\n",
      "2020-11-19 02:33:29,869 - thermomodel_None - WARNING - Warning : NULL/L\n",
      "2020-11-19 02:33:29,869 - thermomodel_None - WARNING - Warning : NULL/L\n",
      "2020-11-19 02:33:30,002 - thermomodel_None - WARNING - Warning : NULL/U\n",
      "2020-11-19 02:33:30,002 - thermomodel_None - WARNING - Warning : NULL/L\n",
      "2020-11-19 02:33:30,010 - thermomodel_None - WARNING - Warning : NULL/L\n",
      "2020-11-19 02:33:30,010 - thermomodel_None - WARNING - Warning : NULL/U\n",
      "2020-11-19 02:33:30,012 - thermomodel_None - WARNING - Warning : NULL/L\n",
      "2020-11-19 02:33:30,012 - thermomodel_None - WARNING - Warning : NULL/L\n",
      "2020-11-19 02:33:30,062 - thermomodel_None - WARNING - Warning : NULL/U\n",
      "2020-11-19 02:33:30,062 - thermomodel_None - WARNING - Warning : NULL/L\n",
      "2020-11-19 02:33:30,062 - thermomodel_None - WARNING - Warning : NULL/L\n",
      "2020-11-19 02:33:30,062 - thermomodel_None - WARNING - Warning : NULL/U\n",
      "2020-11-19 02:33:30,062 - thermomodel_None - WARNING - Warning : NULL/L\n",
      "2020-11-19 02:33:30,062 - thermomodel_None - WARNING - Warning : NULL/L\n",
      "2020-11-19 02:33:30,062 - thermomodel_None - WARNING - Warning : NULL/U\n",
      "2020-11-19 02:33:30,070 - thermomodel_None - WARNING - Warning : NULL/L\n",
      "2020-11-19 02:33:30,070 - thermomodel_None - WARNING - Warning : NULL/L\n",
      "2020-11-19 02:33:30,070 - thermomodel_None - WARNING - Warning : NULL/U\n",
      "2020-11-19 02:33:30,070 - thermomodel_None - WARNING - Warning : NULL/L\n",
      "2020-11-19 02:33:30,070 - thermomodel_None - WARNING - Warning : NULL/L\n",
      "2020-11-19 02:33:30,070 - thermomodel_None - WARNING - Warning : NULL/U\n",
      "2020-11-19 02:33:30,070 - thermomodel_None - WARNING - Warning : NULL/L\n",
      "2020-11-19 02:33:30,070 - thermomodel_None - WARNING - Warning : NULL/L\n",
      "2020-11-19 02:33:30,070 - thermomodel_None - WARNING - Warning : NULL/U\n",
      "2020-11-19 02:33:30,070 - thermomodel_None - WARNING - Warning : NULL/L\n",
      "2020-11-19 02:33:30,070 - thermomodel_None - WARNING - Warning : NULL/L\n",
      "2020-11-19 02:33:30,070 - thermomodel_None - WARNING - Warning : NULL/U\n",
      "2020-11-19 02:33:30,070 - thermomodel_None - WARNING - Warning : NULL/L\n",
      "2020-11-19 02:33:30,070 - thermomodel_None - WARNING - Warning : NULL/L\n",
      "2020-11-19 02:33:30,080 - thermomodel_None - WARNING - Warning : NULL/U\n",
      "2020-11-19 02:33:30,080 - thermomodel_None - WARNING - Warning : NULL/L\n",
      "2020-11-19 02:33:30,080 - thermomodel_None - WARNING - Warning : NULL/L\n",
      "2020-11-19 02:33:30,184 - thermomodel_None - INFO - # Model preparation done.\n",
      "2020-11-19 02:33:30,184 - thermomodel_None - INFO - # Model conversion starting...\n",
      "2020-11-19 02:34:04,198 - thermomodel_None - INFO - # Model conversion done.\n",
      "2020-11-19 02:34:04,198 - thermomodel_None - INFO - # Updating cobra_model variables...\n",
      "2020-11-19 02:34:04,247 - thermomodel_None - INFO - # cobra_model variables are up-to-date\n"
     ]
    },
    {
     "name": "stdout",
     "output_type": "stream",
     "text": [
      "Read LP format model from file C:\\Users\\riheme\\AppData\\Local\\Temp\\tmp5l_kcqun.lp\n",
      "Reading time = 0.02 seconds\n",
      ": 1807 rows, 5170 columns, 20304 nonzeros\n",
      "Read LP format model from file C:\\Users\\riheme\\AppData\\Local\\Temp\\tmph0xbqw0p.lp\n",
      "Reading time = 0.02 seconds\n",
      ": 1807 rows, 5170 columns, 20304 nonzeros\n"
     ]
    },
    {
     "name": "stderr",
     "output_type": "stream",
     "text": [
      "2020-11-19 02:34:20,353 - thermomodel_Ecoli SUCDi (Glc) 1 @ t = 11 - INFO - # Model initialized with units kcal/mol and temperature 298.15 K\n"
     ]
    },
    {
     "name": "stdout",
     "output_type": "stream",
     "text": [
      "Read LP format model from file C:\\Users\\riheme\\AppData\\Local\\Temp\\tmpun67th0r.lp\n",
      "Reading time = 0.02 seconds\n",
      ": 1807 rows, 5170 columns, 20304 nonzeros\n",
      "Read LP format model from file C:\\Users\\riheme\\AppData\\Local\\Temp\\tmp30s3wu5x.lp\n",
      "Reading time = 0.02 seconds\n",
      ": 1807 rows, 5170 columns, 20304 nonzeros\n"
     ]
    },
    {
     "name": "stderr",
     "output_type": "stream",
     "text": [
      "2020-11-19 02:34:46,185 - thermomodel_Ecoli SUCDi (Glc) 1 @ t = 11 - INFO - # Model initialized with units kcal/mol and temperature 298.15 K\n",
      "2020-11-19 02:34:55,227 - thermomodel_Ecoli SUCDi (Glc) 1 @ t = 11 - INFO - Adding slack constraints\n",
      "adding slacks: 100%|███████████████████████████████████████████████████████████████| 1824/1824 [00:36<00:00, 49.33it/s]\n",
      "2020-11-19 02:35:33,795 - thermomodel_Ecoli SUCDi (Glc) 1 @ t = 11 - INFO - Optimizing slack model\n",
      "2020-11-19 02:35:38,788 - thermomodel_Ecoli SUCDi (Glc) 1 @ t = 11 - INFO - Extracting relaxation\n",
      "applying slack: 100%|███████████████████████████████████████████████████████████| 2585/2585 [00:00<00:00, 52348.81it/s]\n",
      "2020-11-19 02:35:38,911 - thermomodel_Ecoli SUCDi (Glc) 1 @ t = 11 - INFO - Testing relaxation\n"
     ]
    },
    {
     "name": "stdout",
     "output_type": "stream",
     "text": [
      "################################################################################\n",
      "Ecoli SUCDi (Glc) 2 @ t = 11\n",
      "(129.04 min)\n",
      "################################################################################\n",
      "Read LP format model from file C:\\Users\\riheme\\AppData\\Local\\Temp\\tmpjjbd91dp.lp\n",
      "Reading time = 0.03 seconds\n",
      ": 1807 rows, 5170 columns, 20334 nonzeros\n",
      "Read LP format model from file C:\\Users\\riheme\\AppData\\Local\\Temp\\tmp__6x_est.lp\n",
      "Reading time = 0.02 seconds\n",
      ": 1807 rows, 5170 columns, 20334 nonzeros\n"
     ]
    },
    {
     "name": "stderr",
     "output_type": "stream",
     "text": [
      "2020-11-19 02:35:53,562 - thermomodel_None - INFO - # Model initialized with units kcal/mol and temperature 298.15 K\n",
      "2020-11-19 02:35:53,570 - thermomodel_None - INFO - # Model preparation starting...\n",
      "2020-11-19 02:35:55,838 - thermomodel_None - WARNING - Warning : NULL/U\n",
      "2020-11-19 02:35:55,838 - thermomodel_None - WARNING - Warning : NULL/L\n",
      "2020-11-19 02:35:55,838 - thermomodel_None - WARNING - Warning : NULL/L\n",
      "2020-11-19 02:35:55,838 - thermomodel_None - WARNING - Warning : NULL/U\n",
      "2020-11-19 02:35:55,838 - thermomodel_None - WARNING - Warning : NULL/L\n",
      "2020-11-19 02:35:55,838 - thermomodel_None - WARNING - Warning : NULL/L\n",
      "2020-11-19 02:35:56,058 - thermomodel_None - WARNING - Warning : NULL/U\n",
      "2020-11-19 02:35:56,059 - thermomodel_None - WARNING - Warning : NULL/L\n",
      "2020-11-19 02:35:56,059 - thermomodel_None - WARNING - Warning : NULL/L\n",
      "2020-11-19 02:35:56,061 - thermomodel_None - WARNING - Warning : NULL/U\n",
      "2020-11-19 02:35:56,061 - thermomodel_None - WARNING - Warning : NULL/L\n",
      "2020-11-19 02:35:56,061 - thermomodel_None - WARNING - Warning : NULL/L\n",
      "2020-11-19 02:35:56,193 - thermomodel_None - WARNING - Warning : NULL/U\n",
      "2020-11-19 02:35:56,201 - thermomodel_None - WARNING - Warning : NULL/L\n",
      "2020-11-19 02:35:56,201 - thermomodel_None - WARNING - Warning : NULL/L\n",
      "2020-11-19 02:35:56,203 - thermomodel_None - WARNING - Warning : NULL/U\n",
      "2020-11-19 02:35:56,203 - thermomodel_None - WARNING - Warning : NULL/L\n",
      "2020-11-19 02:35:56,203 - thermomodel_None - WARNING - Warning : NULL/L\n",
      "2020-11-19 02:35:56,254 - thermomodel_None - WARNING - Warning : NULL/U\n",
      "2020-11-19 02:35:56,254 - thermomodel_None - WARNING - Warning : NULL/L\n",
      "2020-11-19 02:35:56,254 - thermomodel_None - WARNING - Warning : NULL/L\n",
      "2020-11-19 02:35:56,254 - thermomodel_None - WARNING - Warning : NULL/U\n",
      "2020-11-19 02:35:56,254 - thermomodel_None - WARNING - Warning : NULL/L\n",
      "2020-11-19 02:35:56,254 - thermomodel_None - WARNING - Warning : NULL/L\n",
      "2020-11-19 02:35:56,262 - thermomodel_None - WARNING - Warning : NULL/U\n",
      "2020-11-19 02:35:56,262 - thermomodel_None - WARNING - Warning : NULL/L\n",
      "2020-11-19 02:35:56,262 - thermomodel_None - WARNING - Warning : NULL/L\n",
      "2020-11-19 02:35:56,262 - thermomodel_None - WARNING - Warning : NULL/U\n",
      "2020-11-19 02:35:56,262 - thermomodel_None - WARNING - Warning : NULL/L\n",
      "2020-11-19 02:35:56,262 - thermomodel_None - WARNING - Warning : NULL/L\n",
      "2020-11-19 02:35:56,262 - thermomodel_None - WARNING - Warning : NULL/U\n",
      "2020-11-19 02:35:56,262 - thermomodel_None - WARNING - Warning : NULL/L\n",
      "2020-11-19 02:35:56,262 - thermomodel_None - WARNING - Warning : NULL/L\n",
      "2020-11-19 02:35:56,262 - thermomodel_None - WARNING - Warning : NULL/U\n",
      "2020-11-19 02:35:56,262 - thermomodel_None - WARNING - Warning : NULL/L\n",
      "2020-11-19 02:35:56,262 - thermomodel_None - WARNING - Warning : NULL/L\n",
      "2020-11-19 02:35:56,262 - thermomodel_None - WARNING - Warning : NULL/U\n",
      "2020-11-19 02:35:56,262 - thermomodel_None - WARNING - Warning : NULL/L\n",
      "2020-11-19 02:35:56,262 - thermomodel_None - WARNING - Warning : NULL/L\n",
      "2020-11-19 02:35:56,272 - thermomodel_None - WARNING - Warning : NULL/U\n",
      "2020-11-19 02:35:56,272 - thermomodel_None - WARNING - Warning : NULL/L\n",
      "2020-11-19 02:35:56,274 - thermomodel_None - WARNING - Warning : NULL/L\n",
      "2020-11-19 02:35:56,384 - thermomodel_None - INFO - # Model preparation done.\n",
      "2020-11-19 02:35:56,386 - thermomodel_None - INFO - # Model conversion starting...\n",
      "2020-11-19 02:36:30,590 - thermomodel_None - INFO - # Model conversion done.\n",
      "2020-11-19 02:36:30,590 - thermomodel_None - INFO - # Updating cobra_model variables...\n",
      "2020-11-19 02:36:30,639 - thermomodel_None - INFO - # cobra_model variables are up-to-date\n"
     ]
    },
    {
     "name": "stdout",
     "output_type": "stream",
     "text": [
      "Read LP format model from file C:\\Users\\riheme\\AppData\\Local\\Temp\\tmptea638ge.lp\n",
      "Reading time = 0.02 seconds\n",
      ": 1807 rows, 5170 columns, 20304 nonzeros\n",
      "Read LP format model from file C:\\Users\\riheme\\AppData\\Local\\Temp\\tmp3rrdbpym.lp\n",
      "Reading time = 0.02 seconds\n",
      ": 1807 rows, 5170 columns, 20304 nonzeros\n"
     ]
    },
    {
     "name": "stderr",
     "output_type": "stream",
     "text": [
      "2020-11-19 02:36:46,732 - thermomodel_Ecoli SUCDi (Glc) 2 @ t = 11 - INFO - # Model initialized with units kcal/mol and temperature 298.15 K\n"
     ]
    },
    {
     "name": "stdout",
     "output_type": "stream",
     "text": [
      "Read LP format model from file C:\\Users\\riheme\\AppData\\Local\\Temp\\tmpi2_qutkc.lp\n",
      "Reading time = 0.02 seconds\n",
      ": 1807 rows, 5170 columns, 20304 nonzeros\n",
      "Read LP format model from file C:\\Users\\riheme\\AppData\\Local\\Temp\\tmpsn16ijk5.lp\n",
      "Reading time = 0.02 seconds\n",
      ": 1807 rows, 5170 columns, 20304 nonzeros\n"
     ]
    },
    {
     "name": "stderr",
     "output_type": "stream",
     "text": [
      "2020-11-19 02:37:12,527 - thermomodel_Ecoli SUCDi (Glc) 2 @ t = 11 - INFO - # Model initialized with units kcal/mol and temperature 298.15 K\n",
      "2020-11-19 02:37:21,639 - thermomodel_Ecoli SUCDi (Glc) 2 @ t = 11 - INFO - Adding slack constraints\n",
      "adding slacks: 100%|███████████████████████████████████████████████████████████████| 1824/1824 [00:36<00:00, 49.42it/s]\n",
      "2020-11-19 02:38:00,141 - thermomodel_Ecoli SUCDi (Glc) 2 @ t = 11 - INFO - Optimizing slack model\n",
      "2020-11-19 02:38:05,176 - thermomodel_Ecoli SUCDi (Glc) 2 @ t = 11 - INFO - Extracting relaxation\n",
      "applying slack: 100%|███████████████████████████████████████████████████████████| 2585/2585 [00:00<00:00, 53102.34it/s]\n",
      "2020-11-19 02:38:05,316 - thermomodel_Ecoli SUCDi (Glc) 2 @ t = 11 - INFO - Testing relaxation\n"
     ]
    },
    {
     "name": "stdout",
     "output_type": "stream",
     "text": [
      "################################################################################\n",
      "Ecoli SUCDi (Glc) 3 @ t = 11\n",
      "(131.49 min)\n",
      "################################################################################\n",
      "Read LP format model from file C:\\Users\\riheme\\AppData\\Local\\Temp\\tmpgdtzudpj.lp\n",
      "Reading time = 0.02 seconds\n",
      ": 1807 rows, 5170 columns, 20334 nonzeros\n",
      "Read LP format model from file C:\\Users\\riheme\\AppData\\Local\\Temp\\tmp5pzct7yk.lp\n",
      "Reading time = 0.02 seconds\n",
      ": 1807 rows, 5170 columns, 20334 nonzeros\n"
     ]
    },
    {
     "name": "stderr",
     "output_type": "stream",
     "text": [
      "2020-11-19 02:38:20,190 - thermomodel_None - INFO - # Model initialized with units kcal/mol and temperature 298.15 K\n",
      "2020-11-19 02:38:20,200 - thermomodel_None - INFO - # Model preparation starting...\n",
      "2020-11-19 02:38:22,484 - thermomodel_None - WARNING - Warning : NULL/U\n",
      "2020-11-19 02:38:22,484 - thermomodel_None - WARNING - Warning : NULL/L\n",
      "2020-11-19 02:38:22,492 - thermomodel_None - WARNING - Warning : NULL/L\n",
      "2020-11-19 02:38:22,492 - thermomodel_None - WARNING - Warning : NULL/U\n",
      "2020-11-19 02:38:22,492 - thermomodel_None - WARNING - Warning : NULL/L\n",
      "2020-11-19 02:38:22,492 - thermomodel_None - WARNING - Warning : NULL/L\n",
      "2020-11-19 02:38:22,749 - thermomodel_None - WARNING - Warning : NULL/U\n",
      "2020-11-19 02:38:22,749 - thermomodel_None - WARNING - Warning : NULL/L\n",
      "2020-11-19 02:38:22,749 - thermomodel_None - WARNING - Warning : NULL/L\n",
      "2020-11-19 02:38:22,749 - thermomodel_None - WARNING - Warning : NULL/U\n",
      "2020-11-19 02:38:22,749 - thermomodel_None - WARNING - Warning : NULL/L\n",
      "2020-11-19 02:38:22,749 - thermomodel_None - WARNING - Warning : NULL/L\n",
      "2020-11-19 02:38:22,902 - thermomodel_None - WARNING - Warning : NULL/U\n",
      "2020-11-19 02:38:22,902 - thermomodel_None - WARNING - Warning : NULL/L\n",
      "2020-11-19 02:38:22,902 - thermomodel_None - WARNING - Warning : NULL/L\n",
      "2020-11-19 02:38:22,902 - thermomodel_None - WARNING - Warning : NULL/U\n",
      "2020-11-19 02:38:22,902 - thermomodel_None - WARNING - Warning : NULL/L\n",
      "2020-11-19 02:38:22,902 - thermomodel_None - WARNING - Warning : NULL/L\n",
      "2020-11-19 02:38:22,965 - thermomodel_None - WARNING - Warning : NULL/U\n",
      "2020-11-19 02:38:22,965 - thermomodel_None - WARNING - Warning : NULL/L\n",
      "2020-11-19 02:38:22,965 - thermomodel_None - WARNING - Warning : NULL/L\n",
      "2020-11-19 02:38:22,965 - thermomodel_None - WARNING - Warning : NULL/U\n",
      "2020-11-19 02:38:22,980 - thermomodel_None - WARNING - Warning : NULL/L\n",
      "2020-11-19 02:38:22,980 - thermomodel_None - WARNING - Warning : NULL/L\n",
      "2020-11-19 02:38:22,980 - thermomodel_None - WARNING - Warning : NULL/U\n",
      "2020-11-19 02:38:22,980 - thermomodel_None - WARNING - Warning : NULL/L\n",
      "2020-11-19 02:38:22,980 - thermomodel_None - WARNING - Warning : NULL/L\n",
      "2020-11-19 02:38:22,980 - thermomodel_None - WARNING - Warning : NULL/U\n",
      "2020-11-19 02:38:22,980 - thermomodel_None - WARNING - Warning : NULL/L\n",
      "2020-11-19 02:38:22,980 - thermomodel_None - WARNING - Warning : NULL/L\n",
      "2020-11-19 02:38:22,980 - thermomodel_None - WARNING - Warning : NULL/U\n",
      "2020-11-19 02:38:22,980 - thermomodel_None - WARNING - Warning : NULL/L\n",
      "2020-11-19 02:38:22,980 - thermomodel_None - WARNING - Warning : NULL/L\n",
      "2020-11-19 02:38:22,980 - thermomodel_None - WARNING - Warning : NULL/U\n",
      "2020-11-19 02:38:22,980 - thermomodel_None - WARNING - Warning : NULL/L\n",
      "2020-11-19 02:38:22,980 - thermomodel_None - WARNING - Warning : NULL/L\n",
      "2020-11-19 02:38:22,980 - thermomodel_None - WARNING - Warning : NULL/U\n",
      "2020-11-19 02:38:22,980 - thermomodel_None - WARNING - Warning : NULL/L\n",
      "2020-11-19 02:38:22,980 - thermomodel_None - WARNING - Warning : NULL/L\n",
      "2020-11-19 02:38:22,996 - thermomodel_None - WARNING - Warning : NULL/U\n",
      "2020-11-19 02:38:22,996 - thermomodel_None - WARNING - Warning : NULL/L\n",
      "2020-11-19 02:38:22,996 - thermomodel_None - WARNING - Warning : NULL/L\n",
      "2020-11-19 02:38:23,149 - thermomodel_None - INFO - # Model preparation done.\n",
      "2020-11-19 02:38:23,149 - thermomodel_None - INFO - # Model conversion starting...\n",
      "2020-11-19 02:38:57,429 - thermomodel_None - INFO - # Model conversion done.\n",
      "2020-11-19 02:38:57,429 - thermomodel_None - INFO - # Updating cobra_model variables...\n",
      "2020-11-19 02:38:57,469 - thermomodel_None - INFO - # cobra_model variables are up-to-date\n"
     ]
    },
    {
     "name": "stdout",
     "output_type": "stream",
     "text": [
      "Read LP format model from file C:\\Users\\riheme\\AppData\\Local\\Temp\\tmp9m1g252o.lp\n",
      "Reading time = 0.02 seconds\n",
      ": 1807 rows, 5170 columns, 20304 nonzeros\n",
      "Read LP format model from file C:\\Users\\riheme\\AppData\\Local\\Temp\\tmppj8ks9gn.lp\n",
      "Reading time = 0.03 seconds\n",
      ": 1807 rows, 5170 columns, 20304 nonzeros\n"
     ]
    },
    {
     "name": "stderr",
     "output_type": "stream",
     "text": [
      "2020-11-19 02:39:13,656 - thermomodel_Ecoli SUCDi (Glc) 3 @ t = 11 - INFO - # Model initialized with units kcal/mol and temperature 298.15 K\n"
     ]
    },
    {
     "name": "stdout",
     "output_type": "stream",
     "text": [
      "Read LP format model from file C:\\Users\\riheme\\AppData\\Local\\Temp\\tmpdgj3hj8t.lp\n",
      "Reading time = 0.03 seconds\n",
      ": 1807 rows, 5170 columns, 20304 nonzeros\n",
      "Read LP format model from file C:\\Users\\riheme\\AppData\\Local\\Temp\\tmpn50uk2t_.lp\n",
      "Reading time = 0.02 seconds\n",
      ": 1807 rows, 5170 columns, 20304 nonzeros\n"
     ]
    },
    {
     "name": "stderr",
     "output_type": "stream",
     "text": [
      "2020-11-19 02:39:39,533 - thermomodel_Ecoli SUCDi (Glc) 3 @ t = 11 - INFO - # Model initialized with units kcal/mol and temperature 298.15 K\n",
      "2020-11-19 02:39:48,657 - thermomodel_Ecoli SUCDi (Glc) 3 @ t = 11 - INFO - Adding slack constraints\n",
      "adding slacks: 100%|███████████████████████████████████████████████████████████████| 1824/1824 [00:37<00:00, 49.27it/s]\n",
      "2020-11-19 02:40:27,276 - thermomodel_Ecoli SUCDi (Glc) 3 @ t = 11 - INFO - Optimizing slack model\n",
      "2020-11-19 02:40:31,665 - thermomodel_Ecoli SUCDi (Glc) 3 @ t = 11 - INFO - Extracting relaxation\n",
      "applying slack: 100%|███████████████████████████████████████████████████████████| 2585/2585 [00:00<00:00, 62590.71it/s]\n",
      "2020-11-19 02:40:31,802 - thermomodel_Ecoli SUCDi (Glc) 3 @ t = 11 - INFO - Testing relaxation\n"
     ]
    },
    {
     "name": "stdout",
     "output_type": "stream",
     "text": [
      "################################################################################\n",
      "Ecoli TPI (Glc) 0 @ t = 0\n",
      "(133.93 min)\n",
      "################################################################################\n",
      "Read LP format model from file C:\\Users\\riheme\\AppData\\Local\\Temp\\tmpcmrcuqc7.lp\n",
      "Reading time = 0.02 seconds\n",
      ": 1807 rows, 5170 columns, 20334 nonzeros\n",
      "Read LP format model from file C:\\Users\\riheme\\AppData\\Local\\Temp\\tmpccnmy9l0.lp\n",
      "Reading time = 0.02 seconds\n",
      ": 1807 rows, 5170 columns, 20334 nonzeros\n"
     ]
    },
    {
     "name": "stderr",
     "output_type": "stream",
     "text": [
      "2020-11-19 02:40:46,433 - thermomodel_None - INFO - # Model initialized with units kcal/mol and temperature 298.15 K\n",
      "2020-11-19 02:40:46,441 - thermomodel_None - INFO - # Model preparation starting...\n",
      "2020-11-19 02:40:48,690 - thermomodel_None - WARNING - Warning : NULL/U\n",
      "2020-11-19 02:40:48,690 - thermomodel_None - WARNING - Warning : NULL/L\n",
      "2020-11-19 02:40:48,690 - thermomodel_None - WARNING - Warning : NULL/L\n",
      "2020-11-19 02:40:48,690 - thermomodel_None - WARNING - Warning : NULL/U\n",
      "2020-11-19 02:40:48,698 - thermomodel_None - WARNING - Warning : NULL/L\n",
      "2020-11-19 02:40:48,698 - thermomodel_None - WARNING - Warning : NULL/L\n",
      "2020-11-19 02:40:48,902 - thermomodel_None - WARNING - Warning : NULL/U\n",
      "2020-11-19 02:40:48,902 - thermomodel_None - WARNING - Warning : NULL/L\n",
      "2020-11-19 02:40:48,910 - thermomodel_None - WARNING - Warning : NULL/L\n",
      "2020-11-19 02:40:48,910 - thermomodel_None - WARNING - Warning : NULL/U\n",
      "2020-11-19 02:40:48,910 - thermomodel_None - WARNING - Warning : NULL/L\n",
      "2020-11-19 02:40:48,910 - thermomodel_None - WARNING - Warning : NULL/L\n",
      "2020-11-19 02:40:49,043 - thermomodel_None - WARNING - Warning : NULL/U\n",
      "2020-11-19 02:40:49,051 - thermomodel_None - WARNING - Warning : NULL/L\n",
      "2020-11-19 02:40:49,051 - thermomodel_None - WARNING - Warning : NULL/L\n",
      "2020-11-19 02:40:49,053 - thermomodel_None - WARNING - Warning : NULL/U\n",
      "2020-11-19 02:40:49,053 - thermomodel_None - WARNING - Warning : NULL/L\n",
      "2020-11-19 02:40:49,053 - thermomodel_None - WARNING - Warning : NULL/L\n",
      "2020-11-19 02:40:49,104 - thermomodel_None - WARNING - Warning : NULL/U\n",
      "2020-11-19 02:40:49,104 - thermomodel_None - WARNING - Warning : NULL/L\n",
      "2020-11-19 02:40:49,104 - thermomodel_None - WARNING - Warning : NULL/L\n",
      "2020-11-19 02:40:49,104 - thermomodel_None - WARNING - Warning : NULL/U\n",
      "2020-11-19 02:40:49,104 - thermomodel_None - WARNING - Warning : NULL/L\n",
      "2020-11-19 02:40:49,104 - thermomodel_None - WARNING - Warning : NULL/L\n",
      "2020-11-19 02:40:49,104 - thermomodel_None - WARNING - Warning : NULL/U\n",
      "2020-11-19 02:40:49,112 - thermomodel_None - WARNING - Warning : NULL/L\n",
      "2020-11-19 02:40:49,112 - thermomodel_None - WARNING - Warning : NULL/L\n",
      "2020-11-19 02:40:49,112 - thermomodel_None - WARNING - Warning : NULL/U\n",
      "2020-11-19 02:40:49,112 - thermomodel_None - WARNING - Warning : NULL/L\n",
      "2020-11-19 02:40:49,112 - thermomodel_None - WARNING - Warning : NULL/L\n",
      "2020-11-19 02:40:49,112 - thermomodel_None - WARNING - Warning : NULL/U\n",
      "2020-11-19 02:40:49,112 - thermomodel_None - WARNING - Warning : NULL/L\n",
      "2020-11-19 02:40:49,112 - thermomodel_None - WARNING - Warning : NULL/L\n",
      "2020-11-19 02:40:49,112 - thermomodel_None - WARNING - Warning : NULL/U\n",
      "2020-11-19 02:40:49,112 - thermomodel_None - WARNING - Warning : NULL/L\n",
      "2020-11-19 02:40:49,112 - thermomodel_None - WARNING - Warning : NULL/L\n",
      "2020-11-19 02:40:49,112 - thermomodel_None - WARNING - Warning : NULL/U\n",
      "2020-11-19 02:40:49,112 - thermomodel_None - WARNING - Warning : NULL/L\n",
      "2020-11-19 02:40:49,112 - thermomodel_None - WARNING - Warning : NULL/L\n",
      "2020-11-19 02:40:49,112 - thermomodel_None - WARNING - Warning : NULL/U\n",
      "2020-11-19 02:40:49,122 - thermomodel_None - WARNING - Warning : NULL/L\n",
      "2020-11-19 02:40:49,122 - thermomodel_None - WARNING - Warning : NULL/L\n",
      "2020-11-19 02:40:49,220 - thermomodel_None - INFO - # Model preparation done.\n",
      "2020-11-19 02:40:49,220 - thermomodel_None - INFO - # Model conversion starting...\n",
      "2020-11-19 02:41:23,242 - thermomodel_None - INFO - # Model conversion done.\n",
      "2020-11-19 02:41:23,242 - thermomodel_None - INFO - # Updating cobra_model variables...\n",
      "2020-11-19 02:41:23,282 - thermomodel_None - INFO - # cobra_model variables are up-to-date\n"
     ]
    },
    {
     "name": "stdout",
     "output_type": "stream",
     "text": [
      "Read LP format model from file C:\\Users\\riheme\\AppData\\Local\\Temp\\tmpk367sq0n.lp\n",
      "Reading time = 0.02 seconds\n",
      ": 1807 rows, 5170 columns, 20304 nonzeros\n",
      "Read LP format model from file C:\\Users\\riheme\\AppData\\Local\\Temp\\tmpnj4hxg10.lp\n",
      "Reading time = 0.02 seconds\n",
      ": 1807 rows, 5170 columns, 20304 nonzeros\n"
     ]
    },
    {
     "name": "stderr",
     "output_type": "stream",
     "text": [
      "2020-11-19 02:41:39,396 - thermomodel_Ecoli TPI (Glc) 0 @ t = 0 - INFO - # Model initialized with units kcal/mol and temperature 298.15 K\n"
     ]
    },
    {
     "name": "stdout",
     "output_type": "stream",
     "text": [
      "Read LP format model from file C:\\Users\\riheme\\AppData\\Local\\Temp\\tmpqeugw1mg.lp\n",
      "Reading time = 0.02 seconds\n",
      ": 1807 rows, 5170 columns, 20304 nonzeros\n",
      "Read LP format model from file C:\\Users\\riheme\\AppData\\Local\\Temp\\tmpv3r9_dig.lp\n",
      "Reading time = 0.02 seconds\n",
      ": 1807 rows, 5170 columns, 20304 nonzeros\n"
     ]
    },
    {
     "name": "stderr",
     "output_type": "stream",
     "text": [
      "2020-11-19 02:42:05,204 - thermomodel_Ecoli TPI (Glc) 0 @ t = 0 - INFO - # Model initialized with units kcal/mol and temperature 298.15 K\n",
      "2020-11-19 02:42:14,274 - thermomodel_Ecoli TPI (Glc) 0 @ t = 0 - INFO - Adding slack constraints\n",
      "adding slacks: 100%|███████████████████████████████████████████████████████████████| 1824/1824 [00:37<00:00, 49.20it/s]\n",
      "2020-11-19 02:42:52,951 - thermomodel_Ecoli TPI (Glc) 0 @ t = 0 - INFO - Optimizing slack model\n",
      "2020-11-19 02:42:55,717 - thermomodel_Ecoli TPI (Glc) 0 @ t = 0 - INFO - Extracting relaxation\n",
      "applying slack: 100%|███████████████████████████████████████████████████████████| 2585/2585 [00:00<00:00, 55180.35it/s]\n",
      "2020-11-19 02:42:55,851 - thermomodel_Ecoli TPI (Glc) 0 @ t = 0 - INFO - Testing relaxation\n"
     ]
    },
    {
     "name": "stdout",
     "output_type": "stream",
     "text": [
      "################################################################################\n",
      "Ecoli TPI (Glc) 1 @ t = 1\n",
      "(136.33 min)\n",
      "################################################################################\n",
      "Read LP format model from file C:\\Users\\riheme\\AppData\\Local\\Temp\\tmpyrxq0bwv.lp\n",
      "Reading time = 0.03 seconds\n",
      ": 1807 rows, 5170 columns, 20334 nonzeros\n",
      "Read LP format model from file C:\\Users\\riheme\\AppData\\Local\\Temp\\tmpkw9wm24x.lp\n",
      "Reading time = 0.02 seconds\n",
      ": 1807 rows, 5170 columns, 20334 nonzeros\n"
     ]
    },
    {
     "name": "stderr",
     "output_type": "stream",
     "text": [
      "2020-11-19 02:43:10,738 - thermomodel_None - INFO - # Model initialized with units kcal/mol and temperature 298.15 K\n",
      "2020-11-19 02:43:10,746 - thermomodel_None - INFO - # Model preparation starting...\n",
      "2020-11-19 02:43:13,057 - thermomodel_None - WARNING - Warning : NULL/U\n",
      "2020-11-19 02:43:13,057 - thermomodel_None - WARNING - Warning : NULL/L\n",
      "2020-11-19 02:43:13,057 - thermomodel_None - WARNING - Warning : NULL/L\n",
      "2020-11-19 02:43:13,057 - thermomodel_None - WARNING - Warning : NULL/U\n",
      "2020-11-19 02:43:13,065 - thermomodel_None - WARNING - Warning : NULL/L\n",
      "2020-11-19 02:43:13,065 - thermomodel_None - WARNING - Warning : NULL/L\n",
      "2020-11-19 02:43:13,268 - thermomodel_None - WARNING - Warning : NULL/U\n",
      "2020-11-19 02:43:13,276 - thermomodel_None - WARNING - Warning : NULL/L\n",
      "2020-11-19 02:43:13,276 - thermomodel_None - WARNING - Warning : NULL/L\n",
      "2020-11-19 02:43:13,276 - thermomodel_None - WARNING - Warning : NULL/U\n",
      "2020-11-19 02:43:13,276 - thermomodel_None - WARNING - Warning : NULL/L\n",
      "2020-11-19 02:43:13,276 - thermomodel_None - WARNING - Warning : NULL/L\n",
      "2020-11-19 02:43:13,417 - thermomodel_None - WARNING - Warning : NULL/U\n",
      "2020-11-19 02:43:13,417 - thermomodel_None - WARNING - Warning : NULL/L\n",
      "2020-11-19 02:43:13,417 - thermomodel_None - WARNING - Warning : NULL/L\n",
      "2020-11-19 02:43:13,417 - thermomodel_None - WARNING - Warning : NULL/U\n",
      "2020-11-19 02:43:13,417 - thermomodel_None - WARNING - Warning : NULL/L\n",
      "2020-11-19 02:43:13,417 - thermomodel_None - WARNING - Warning : NULL/L\n",
      "2020-11-19 02:43:13,464 - thermomodel_None - WARNING - Warning : NULL/U\n",
      "2020-11-19 02:43:13,464 - thermomodel_None - WARNING - Warning : NULL/L\n",
      "2020-11-19 02:43:13,464 - thermomodel_None - WARNING - Warning : NULL/L\n",
      "2020-11-19 02:43:13,480 - thermomodel_None - WARNING - Warning : NULL/U\n",
      "2020-11-19 02:43:13,480 - thermomodel_None - WARNING - Warning : NULL/L\n",
      "2020-11-19 02:43:13,480 - thermomodel_None - WARNING - Warning : NULL/L\n",
      "2020-11-19 02:43:13,480 - thermomodel_None - WARNING - Warning : NULL/U\n",
      "2020-11-19 02:43:13,480 - thermomodel_None - WARNING - Warning : NULL/L\n",
      "2020-11-19 02:43:13,480 - thermomodel_None - WARNING - Warning : NULL/L\n",
      "2020-11-19 02:43:13,480 - thermomodel_None - WARNING - Warning : NULL/U\n",
      "2020-11-19 02:43:13,486 - thermomodel_None - WARNING - Warning : NULL/L\n",
      "2020-11-19 02:43:13,486 - thermomodel_None - WARNING - Warning : NULL/L\n",
      "2020-11-19 02:43:13,486 - thermomodel_None - WARNING - Warning : NULL/U\n",
      "2020-11-19 02:43:13,486 - thermomodel_None - WARNING - Warning : NULL/L\n",
      "2020-11-19 02:43:13,486 - thermomodel_None - WARNING - Warning : NULL/L\n",
      "2020-11-19 02:43:13,486 - thermomodel_None - WARNING - Warning : NULL/U\n",
      "2020-11-19 02:43:13,486 - thermomodel_None - WARNING - Warning : NULL/L\n",
      "2020-11-19 02:43:13,486 - thermomodel_None - WARNING - Warning : NULL/L\n",
      "2020-11-19 02:43:13,486 - thermomodel_None - WARNING - Warning : NULL/U\n",
      "2020-11-19 02:43:13,486 - thermomodel_None - WARNING - Warning : NULL/L\n",
      "2020-11-19 02:43:13,486 - thermomodel_None - WARNING - Warning : NULL/L\n",
      "2020-11-19 02:43:13,486 - thermomodel_None - WARNING - Warning : NULL/U\n",
      "2020-11-19 02:43:13,486 - thermomodel_None - WARNING - Warning : NULL/L\n",
      "2020-11-19 02:43:13,486 - thermomodel_None - WARNING - Warning : NULL/L\n",
      "2020-11-19 02:43:13,602 - thermomodel_None - INFO - # Model preparation done.\n",
      "2020-11-19 02:43:13,602 - thermomodel_None - INFO - # Model conversion starting...\n",
      "2020-11-19 02:43:47,586 - thermomodel_None - INFO - # Model conversion done.\n",
      "2020-11-19 02:43:47,594 - thermomodel_None - INFO - # Updating cobra_model variables...\n",
      "2020-11-19 02:43:47,637 - thermomodel_None - INFO - # cobra_model variables are up-to-date\n"
     ]
    },
    {
     "name": "stdout",
     "output_type": "stream",
     "text": [
      "Read LP format model from file C:\\Users\\riheme\\AppData\\Local\\Temp\\tmpxahu_arv.lp\n",
      "Reading time = 0.02 seconds\n",
      ": 1807 rows, 5170 columns, 20304 nonzeros\n",
      "Read LP format model from file C:\\Users\\riheme\\AppData\\Local\\Temp\\tmp3c2kurrm.lp\n",
      "Reading time = 0.02 seconds\n",
      ": 1807 rows, 5170 columns, 20304 nonzeros\n"
     ]
    },
    {
     "name": "stderr",
     "output_type": "stream",
     "text": [
      "2020-11-19 02:44:03,751 - thermomodel_Ecoli TPI (Glc) 1 @ t = 1 - INFO - # Model initialized with units kcal/mol and temperature 298.15 K\n"
     ]
    },
    {
     "name": "stdout",
     "output_type": "stream",
     "text": [
      "Read LP format model from file C:\\Users\\riheme\\AppData\\Local\\Temp\\tmpodng0tjw.lp\n",
      "Reading time = 0.02 seconds\n",
      ": 1807 rows, 5170 columns, 20304 nonzeros\n",
      "Read LP format model from file C:\\Users\\riheme\\AppData\\Local\\Temp\\tmps6tpkvj6.lp\n",
      "Reading time = 0.02 seconds\n",
      ": 1807 rows, 5170 columns, 20304 nonzeros\n"
     ]
    },
    {
     "name": "stderr",
     "output_type": "stream",
     "text": [
      "2020-11-19 02:44:29,561 - thermomodel_Ecoli TPI (Glc) 1 @ t = 1 - INFO - # Model initialized with units kcal/mol and temperature 298.15 K\n",
      "2020-11-19 02:44:38,656 - thermomodel_Ecoli TPI (Glc) 1 @ t = 1 - INFO - Adding slack constraints\n",
      "adding slacks: 100%|███████████████████████████████████████████████████████████████| 1824/1824 [00:36<00:00, 49.31it/s]\n",
      "2020-11-19 02:45:17,245 - thermomodel_Ecoli TPI (Glc) 1 @ t = 1 - INFO - Optimizing slack model\n",
      "2020-11-19 02:45:20,132 - thermomodel_Ecoli TPI (Glc) 1 @ t = 1 - INFO - Extracting relaxation\n",
      "applying slack: 100%|███████████████████████████████████████████████████████████| 2585/2585 [00:00<00:00, 42693.52it/s]\n",
      "2020-11-19 02:45:20,274 - thermomodel_Ecoli TPI (Glc) 1 @ t = 1 - INFO - Testing relaxation\n"
     ]
    },
    {
     "name": "stdout",
     "output_type": "stream",
     "text": [
      "################################################################################\n",
      "Ecoli TPI (Glc) 1 @ t = 3\n",
      "(138.74 min)\n",
      "################################################################################\n",
      "Read LP format model from file C:\\Users\\riheme\\AppData\\Local\\Temp\\tmpqmtintva.lp\n",
      "Reading time = 0.02 seconds\n",
      ": 1807 rows, 5170 columns, 20334 nonzeros\n",
      "Read LP format model from file C:\\Users\\riheme\\AppData\\Local\\Temp\\tmp97tkbfkz.lp\n",
      "Reading time = 0.02 seconds\n",
      ": 1807 rows, 5170 columns, 20334 nonzeros\n"
     ]
    },
    {
     "name": "stderr",
     "output_type": "stream",
     "text": [
      "2020-11-19 02:45:35,149 - thermomodel_None - INFO - # Model initialized with units kcal/mol and temperature 298.15 K\n",
      "2020-11-19 02:45:35,157 - thermomodel_None - INFO - # Model preparation starting...\n",
      "2020-11-19 02:45:37,460 - thermomodel_None - WARNING - Warning : NULL/U\n",
      "2020-11-19 02:45:37,468 - thermomodel_None - WARNING - Warning : NULL/L\n",
      "2020-11-19 02:45:37,468 - thermomodel_None - WARNING - Warning : NULL/L\n",
      "2020-11-19 02:45:37,468 - thermomodel_None - WARNING - Warning : NULL/U\n",
      "2020-11-19 02:45:37,468 - thermomodel_None - WARNING - Warning : NULL/L\n",
      "2020-11-19 02:45:37,468 - thermomodel_None - WARNING - Warning : NULL/L\n",
      "2020-11-19 02:45:37,679 - thermomodel_None - WARNING - Warning : NULL/U\n",
      "2020-11-19 02:45:37,679 - thermomodel_None - WARNING - Warning : NULL/L\n",
      "2020-11-19 02:45:37,679 - thermomodel_None - WARNING - Warning : NULL/L\n",
      "2020-11-19 02:45:37,679 - thermomodel_None - WARNING - Warning : NULL/U\n",
      "2020-11-19 02:45:37,679 - thermomodel_None - WARNING - Warning : NULL/L\n",
      "2020-11-19 02:45:37,679 - thermomodel_None - WARNING - Warning : NULL/L\n",
      "2020-11-19 02:45:37,826 - thermomodel_None - WARNING - Warning : NULL/U\n",
      "2020-11-19 02:45:37,826 - thermomodel_None - WARNING - Warning : NULL/L\n",
      "2020-11-19 02:45:37,826 - thermomodel_None - WARNING - Warning : NULL/L\n",
      "2020-11-19 02:45:37,826 - thermomodel_None - WARNING - Warning : NULL/U\n",
      "2020-11-19 02:45:37,826 - thermomodel_None - WARNING - Warning : NULL/L\n",
      "2020-11-19 02:45:37,826 - thermomodel_None - WARNING - Warning : NULL/L\n",
      "2020-11-19 02:45:37,879 - thermomodel_None - WARNING - Warning : NULL/U\n",
      "2020-11-19 02:45:37,879 - thermomodel_None - WARNING - Warning : NULL/L\n",
      "2020-11-19 02:45:37,879 - thermomodel_None - WARNING - Warning : NULL/L\n",
      "2020-11-19 02:45:37,879 - thermomodel_None - WARNING - Warning : NULL/U\n",
      "2020-11-19 02:45:37,879 - thermomodel_None - WARNING - Warning : NULL/L\n",
      "2020-11-19 02:45:37,879 - thermomodel_None - WARNING - Warning : NULL/L\n",
      "2020-11-19 02:45:37,879 - thermomodel_None - WARNING - Warning : NULL/U\n",
      "2020-11-19 02:45:37,879 - thermomodel_None - WARNING - Warning : NULL/L\n",
      "2020-11-19 02:45:37,879 - thermomodel_None - WARNING - Warning : NULL/L\n",
      "2020-11-19 02:45:37,879 - thermomodel_None - WARNING - Warning : NULL/U\n",
      "2020-11-19 02:45:37,879 - thermomodel_None - WARNING - Warning : NULL/L\n",
      "2020-11-19 02:45:37,879 - thermomodel_None - WARNING - Warning : NULL/L\n",
      "2020-11-19 02:45:37,879 - thermomodel_None - WARNING - Warning : NULL/U\n",
      "2020-11-19 02:45:37,879 - thermomodel_None - WARNING - Warning : NULL/L\n",
      "2020-11-19 02:45:37,879 - thermomodel_None - WARNING - Warning : NULL/L\n",
      "2020-11-19 02:45:37,895 - thermomodel_None - WARNING - Warning : NULL/U\n",
      "2020-11-19 02:45:37,895 - thermomodel_None - WARNING - Warning : NULL/L\n",
      "2020-11-19 02:45:37,895 - thermomodel_None - WARNING - Warning : NULL/L\n",
      "2020-11-19 02:45:37,895 - thermomodel_None - WARNING - Warning : NULL/U\n",
      "2020-11-19 02:45:37,895 - thermomodel_None - WARNING - Warning : NULL/L\n",
      "2020-11-19 02:45:37,895 - thermomodel_None - WARNING - Warning : NULL/L\n",
      "2020-11-19 02:45:37,895 - thermomodel_None - WARNING - Warning : NULL/U\n",
      "2020-11-19 02:45:37,895 - thermomodel_None - WARNING - Warning : NULL/L\n",
      "2020-11-19 02:45:37,895 - thermomodel_None - WARNING - Warning : NULL/L\n",
      "2020-11-19 02:45:38,010 - thermomodel_None - INFO - # Model preparation done.\n",
      "2020-11-19 02:45:38,010 - thermomodel_None - INFO - # Model conversion starting...\n",
      "2020-11-19 02:46:11,663 - thermomodel_None - INFO - # Model conversion done.\n",
      "2020-11-19 02:46:11,663 - thermomodel_None - INFO - # Updating cobra_model variables...\n",
      "2020-11-19 02:46:11,697 - thermomodel_None - INFO - # cobra_model variables are up-to-date\n"
     ]
    },
    {
     "name": "stdout",
     "output_type": "stream",
     "text": [
      "Read LP format model from file C:\\Users\\riheme\\AppData\\Local\\Temp\\tmppx5vot4t.lp\n",
      "Reading time = 0.02 seconds\n",
      ": 1807 rows, 5170 columns, 20304 nonzeros\n",
      "Read LP format model from file C:\\Users\\riheme\\AppData\\Local\\Temp\\tmpoycfn54g.lp\n",
      "Reading time = 0.02 seconds\n",
      ": 1807 rows, 5170 columns, 20304 nonzeros\n"
     ]
    },
    {
     "name": "stderr",
     "output_type": "stream",
     "text": [
      "2020-11-19 02:46:27,898 - thermomodel_Ecoli TPI (Glc) 1 @ t = 3 - INFO - # Model initialized with units kcal/mol and temperature 298.15 K\n"
     ]
    },
    {
     "name": "stdout",
     "output_type": "stream",
     "text": [
      "Read LP format model from file C:\\Users\\riheme\\AppData\\Local\\Temp\\tmphm1q83bc.lp\n",
      "Reading time = 0.02 seconds\n",
      ": 1807 rows, 5170 columns, 20304 nonzeros\n",
      "Read LP format model from file C:\\Users\\riheme\\AppData\\Local\\Temp\\tmpei9fkkzt.lp\n",
      "Reading time = 0.02 seconds\n",
      ": 1807 rows, 5170 columns, 20304 nonzeros\n"
     ]
    },
    {
     "name": "stderr",
     "output_type": "stream",
     "text": [
      "2020-11-19 02:46:53,978 - thermomodel_Ecoli TPI (Glc) 1 @ t = 3 - INFO - # Model initialized with units kcal/mol and temperature 298.15 K\n",
      "2020-11-19 02:47:03,046 - thermomodel_Ecoli TPI (Glc) 1 @ t = 3 - INFO - Adding slack constraints\n",
      "adding slacks: 100%|███████████████████████████████████████████████████████████████| 1824/1824 [00:36<00:00, 50.17it/s]\n",
      "2020-11-19 02:47:41,747 - thermomodel_Ecoli TPI (Glc) 1 @ t = 3 - INFO - Optimizing slack model\n",
      "2020-11-19 02:47:44,530 - thermomodel_Ecoli TPI (Glc) 1 @ t = 3 - INFO - Extracting relaxation\n",
      "applying slack: 100%|███████████████████████████████████████████████████████████| 2585/2585 [00:00<00:00, 44004.89it/s]\n",
      "2020-11-19 02:47:44,662 - thermomodel_Ecoli TPI (Glc) 1 @ t = 3 - INFO - Testing relaxation\n"
     ]
    },
    {
     "name": "stdout",
     "output_type": "stream",
     "text": [
      "################################################################################\n",
      "Ecoli TPI (Glc) 1 @ t = 11\n",
      "(141.14 min)\n",
      "################################################################################\n",
      "Read LP format model from file C:\\Users\\riheme\\AppData\\Local\\Temp\\tmp1nfvgbsg.lp\n",
      "Reading time = 0.02 seconds\n",
      ": 1807 rows, 5170 columns, 20334 nonzeros\n",
      "Read LP format model from file C:\\Users\\riheme\\AppData\\Local\\Temp\\tmp79n2ix_m.lp\n",
      "Reading time = 0.02 seconds\n",
      ": 1807 rows, 5170 columns, 20334 nonzeros\n"
     ]
    },
    {
     "name": "stderr",
     "output_type": "stream",
     "text": [
      "2020-11-19 02:47:59,607 - thermomodel_None - INFO - # Model initialized with units kcal/mol and temperature 298.15 K\n",
      "2020-11-19 02:47:59,615 - thermomodel_None - INFO - # Model preparation starting...\n",
      "2020-11-19 02:48:01,906 - thermomodel_None - WARNING - Warning : NULL/U\n",
      "2020-11-19 02:48:01,906 - thermomodel_None - WARNING - Warning : NULL/L\n",
      "2020-11-19 02:48:01,906 - thermomodel_None - WARNING - Warning : NULL/L\n",
      "2020-11-19 02:48:01,914 - thermomodel_None - WARNING - Warning : NULL/U\n",
      "2020-11-19 02:48:01,914 - thermomodel_None - WARNING - Warning : NULL/L\n",
      "2020-11-19 02:48:01,914 - thermomodel_None - WARNING - Warning : NULL/L\n",
      "2020-11-19 02:48:02,128 - thermomodel_None - WARNING - Warning : NULL/U\n",
      "2020-11-19 02:48:02,128 - thermomodel_None - WARNING - Warning : NULL/L\n",
      "2020-11-19 02:48:02,128 - thermomodel_None - WARNING - Warning : NULL/L\n",
      "2020-11-19 02:48:02,128 - thermomodel_None - WARNING - Warning : NULL/U\n",
      "2020-11-19 02:48:02,128 - thermomodel_None - WARNING - Warning : NULL/L\n",
      "2020-11-19 02:48:02,128 - thermomodel_None - WARNING - Warning : NULL/L\n",
      "2020-11-19 02:48:02,269 - thermomodel_None - WARNING - Warning : NULL/U\n",
      "2020-11-19 02:48:02,269 - thermomodel_None - WARNING - Warning : NULL/L\n",
      "2020-11-19 02:48:02,269 - thermomodel_None - WARNING - Warning : NULL/L\n",
      "2020-11-19 02:48:02,269 - thermomodel_None - WARNING - Warning : NULL/U\n",
      "2020-11-19 02:48:02,269 - thermomodel_None - WARNING - Warning : NULL/L\n",
      "2020-11-19 02:48:02,269 - thermomodel_None - WARNING - Warning : NULL/L\n",
      "2020-11-19 02:48:02,316 - thermomodel_None - WARNING - Warning : NULL/U\n",
      "2020-11-19 02:48:02,316 - thermomodel_None - WARNING - Warning : NULL/L\n",
      "2020-11-19 02:48:02,316 - thermomodel_None - WARNING - Warning : NULL/L\n",
      "2020-11-19 02:48:02,316 - thermomodel_None - WARNING - Warning : NULL/U\n",
      "2020-11-19 02:48:02,316 - thermomodel_None - WARNING - Warning : NULL/L\n",
      "2020-11-19 02:48:02,316 - thermomodel_None - WARNING - Warning : NULL/L\n",
      "2020-11-19 02:48:02,316 - thermomodel_None - WARNING - Warning : NULL/U\n",
      "2020-11-19 02:48:02,316 - thermomodel_None - WARNING - Warning : NULL/L\n",
      "2020-11-19 02:48:02,332 - thermomodel_None - WARNING - Warning : NULL/L\n",
      "2020-11-19 02:48:02,332 - thermomodel_None - WARNING - Warning : NULL/U\n",
      "2020-11-19 02:48:02,332 - thermomodel_None - WARNING - Warning : NULL/L\n",
      "2020-11-19 02:48:02,332 - thermomodel_None - WARNING - Warning : NULL/L\n",
      "2020-11-19 02:48:02,332 - thermomodel_None - WARNING - Warning : NULL/U\n",
      "2020-11-19 02:48:02,332 - thermomodel_None - WARNING - Warning : NULL/L\n",
      "2020-11-19 02:48:02,332 - thermomodel_None - WARNING - Warning : NULL/L\n",
      "2020-11-19 02:48:02,332 - thermomodel_None - WARNING - Warning : NULL/U\n",
      "2020-11-19 02:48:02,332 - thermomodel_None - WARNING - Warning : NULL/L\n",
      "2020-11-19 02:48:02,338 - thermomodel_None - WARNING - Warning : NULL/L\n",
      "2020-11-19 02:48:02,338 - thermomodel_None - WARNING - Warning : NULL/U\n",
      "2020-11-19 02:48:02,338 - thermomodel_None - WARNING - Warning : NULL/L\n",
      "2020-11-19 02:48:02,338 - thermomodel_None - WARNING - Warning : NULL/L\n",
      "2020-11-19 02:48:02,338 - thermomodel_None - WARNING - Warning : NULL/U\n",
      "2020-11-19 02:48:02,338 - thermomodel_None - WARNING - Warning : NULL/L\n",
      "2020-11-19 02:48:02,338 - thermomodel_None - WARNING - Warning : NULL/L\n",
      "2020-11-19 02:48:02,439 - thermomodel_None - INFO - # Model preparation done.\n",
      "2020-11-19 02:48:02,439 - thermomodel_None - INFO - # Model conversion starting...\n",
      "2020-11-19 02:48:36,508 - thermomodel_None - INFO - # Model conversion done.\n",
      "2020-11-19 02:48:36,508 - thermomodel_None - INFO - # Updating cobra_model variables...\n",
      "2020-11-19 02:48:36,558 - thermomodel_None - INFO - # cobra_model variables are up-to-date\n"
     ]
    },
    {
     "name": "stdout",
     "output_type": "stream",
     "text": [
      "Read LP format model from file C:\\Users\\riheme\\AppData\\Local\\Temp\\tmp8ip7skrk.lp\n",
      "Reading time = 0.02 seconds\n",
      ": 1807 rows, 5170 columns, 20304 nonzeros\n",
      "Read LP format model from file C:\\Users\\riheme\\AppData\\Local\\Temp\\tmp91uflp38.lp\n",
      "Reading time = 0.02 seconds\n",
      ": 1807 rows, 5170 columns, 20304 nonzeros\n"
     ]
    },
    {
     "name": "stderr",
     "output_type": "stream",
     "text": [
      "2020-11-19 02:48:52,871 - thermomodel_Ecoli TPI (Glc) 1 @ t = 11 - INFO - # Model initialized with units kcal/mol and temperature 298.15 K\n"
     ]
    },
    {
     "name": "stdout",
     "output_type": "stream",
     "text": [
      "Read LP format model from file C:\\Users\\riheme\\AppData\\Local\\Temp\\tmpvbe1sbpv.lp\n",
      "Reading time = 0.02 seconds\n",
      ": 1807 rows, 5170 columns, 20304 nonzeros\n",
      "Read LP format model from file C:\\Users\\riheme\\AppData\\Local\\Temp\\tmp02cq7x1d.lp\n",
      "Reading time = 0.02 seconds\n",
      ": 1807 rows, 5170 columns, 20304 nonzeros\n"
     ]
    },
    {
     "name": "stderr",
     "output_type": "stream",
     "text": [
      "2020-11-19 02:49:18,665 - thermomodel_Ecoli TPI (Glc) 1 @ t = 11 - INFO - # Model initialized with units kcal/mol and temperature 298.15 K\n",
      "2020-11-19 02:49:27,814 - thermomodel_Ecoli TPI (Glc) 1 @ t = 11 - INFO - Adding slack constraints\n",
      "adding slacks: 100%|███████████████████████████████████████████████████████████████| 1824/1824 [00:37<00:00, 48.69it/s]\n",
      "2020-11-19 02:50:06,875 - thermomodel_Ecoli TPI (Glc) 1 @ t = 11 - INFO - Optimizing slack model\n",
      "2020-11-19 02:50:11,185 - thermomodel_Ecoli TPI (Glc) 1 @ t = 11 - INFO - Extracting relaxation\n",
      "applying slack: 100%|███████████████████████████████████████████████████████████| 2585/2585 [00:00<00:00, 53218.06it/s]\n",
      "2020-11-19 02:50:11,326 - thermomodel_Ecoli TPI (Glc) 1 @ t = 11 - INFO - Testing relaxation\n"
     ]
    },
    {
     "name": "stdout",
     "output_type": "stream",
     "text": [
      "################################################################################\n",
      "Ecoli TPI (Glc) 2 @ t = 1\n",
      "(143.59 min)\n",
      "################################################################################\n",
      "Read LP format model from file C:\\Users\\riheme\\AppData\\Local\\Temp\\tmp0ytj5gvo.lp\n",
      "Reading time = 0.02 seconds\n",
      ": 1807 rows, 5170 columns, 20334 nonzeros\n",
      "Read LP format model from file C:\\Users\\riheme\\AppData\\Local\\Temp\\tmp6kfbtaem.lp\n",
      "Reading time = 0.02 seconds\n",
      ": 1807 rows, 5170 columns, 20334 nonzeros\n"
     ]
    },
    {
     "name": "stderr",
     "output_type": "stream",
     "text": [
      "2020-11-19 02:50:26,320 - thermomodel_None - INFO - # Model initialized with units kcal/mol and temperature 298.15 K\n",
      "2020-11-19 02:50:26,328 - thermomodel_None - INFO - # Model preparation starting...\n",
      "2020-11-19 02:50:28,650 - thermomodel_None - WARNING - Warning : NULL/U\n",
      "2020-11-19 02:50:28,650 - thermomodel_None - WARNING - Warning : NULL/L\n",
      "2020-11-19 02:50:28,658 - thermomodel_None - WARNING - Warning : NULL/L\n",
      "2020-11-19 02:50:28,658 - thermomodel_None - WARNING - Warning : NULL/U\n",
      "2020-11-19 02:50:28,658 - thermomodel_None - WARNING - Warning : NULL/L\n",
      "2020-11-19 02:50:28,658 - thermomodel_None - WARNING - Warning : NULL/L\n",
      "2020-11-19 02:50:28,872 - thermomodel_None - WARNING - Warning : NULL/U\n",
      "2020-11-19 02:50:28,872 - thermomodel_None - WARNING - Warning : NULL/L\n",
      "2020-11-19 02:50:28,872 - thermomodel_None - WARNING - Warning : NULL/L\n",
      "2020-11-19 02:50:28,872 - thermomodel_None - WARNING - Warning : NULL/U\n",
      "2020-11-19 02:50:28,872 - thermomodel_None - WARNING - Warning : NULL/L\n",
      "2020-11-19 02:50:28,872 - thermomodel_None - WARNING - Warning : NULL/L\n",
      "2020-11-19 02:50:29,013 - thermomodel_None - WARNING - Warning : NULL/U\n",
      "2020-11-19 02:50:29,013 - thermomodel_None - WARNING - Warning : NULL/L\n",
      "2020-11-19 02:50:29,013 - thermomodel_None - WARNING - Warning : NULL/L\n",
      "2020-11-19 02:50:29,013 - thermomodel_None - WARNING - Warning : NULL/U\n",
      "2020-11-19 02:50:29,013 - thermomodel_None - WARNING - Warning : NULL/L\n",
      "2020-11-19 02:50:29,013 - thermomodel_None - WARNING - Warning : NULL/L\n",
      "2020-11-19 02:50:29,062 - thermomodel_None - WARNING - Warning : NULL/U\n",
      "2020-11-19 02:50:29,062 - thermomodel_None - WARNING - Warning : NULL/L\n",
      "2020-11-19 02:50:29,062 - thermomodel_None - WARNING - Warning : NULL/L\n",
      "2020-11-19 02:50:29,062 - thermomodel_None - WARNING - Warning : NULL/U\n",
      "2020-11-19 02:50:29,062 - thermomodel_None - WARNING - Warning : NULL/L\n",
      "2020-11-19 02:50:29,062 - thermomodel_None - WARNING - Warning : NULL/L\n",
      "2020-11-19 02:50:29,062 - thermomodel_None - WARNING - Warning : NULL/U\n",
      "2020-11-19 02:50:29,078 - thermomodel_None - WARNING - Warning : NULL/L\n",
      "2020-11-19 02:50:29,078 - thermomodel_None - WARNING - Warning : NULL/L\n",
      "2020-11-19 02:50:29,078 - thermomodel_None - WARNING - Warning : NULL/U\n",
      "2020-11-19 02:50:29,078 - thermomodel_None - WARNING - Warning : NULL/L\n",
      "2020-11-19 02:50:29,078 - thermomodel_None - WARNING - Warning : NULL/L\n",
      "2020-11-19 02:50:29,078 - thermomodel_None - WARNING - Warning : NULL/U\n",
      "2020-11-19 02:50:29,078 - thermomodel_None - WARNING - Warning : NULL/L\n",
      "2020-11-19 02:50:29,078 - thermomodel_None - WARNING - Warning : NULL/L\n",
      "2020-11-19 02:50:29,078 - thermomodel_None - WARNING - Warning : NULL/U\n",
      "2020-11-19 02:50:29,078 - thermomodel_None - WARNING - Warning : NULL/L\n",
      "2020-11-19 02:50:29,078 - thermomodel_None - WARNING - Warning : NULL/L\n",
      "2020-11-19 02:50:29,078 - thermomodel_None - WARNING - Warning : NULL/U\n",
      "2020-11-19 02:50:29,078 - thermomodel_None - WARNING - Warning : NULL/L\n",
      "2020-11-19 02:50:29,078 - thermomodel_None - WARNING - Warning : NULL/L\n",
      "2020-11-19 02:50:29,078 - thermomodel_None - WARNING - Warning : NULL/U\n",
      "2020-11-19 02:50:29,078 - thermomodel_None - WARNING - Warning : NULL/L\n",
      "2020-11-19 02:50:29,078 - thermomodel_None - WARNING - Warning : NULL/L\n",
      "2020-11-19 02:50:29,194 - thermomodel_None - INFO - # Model preparation done.\n",
      "2020-11-19 02:50:29,194 - thermomodel_None - INFO - # Model conversion starting...\n",
      "2020-11-19 02:51:03,039 - thermomodel_None - INFO - # Model conversion done.\n",
      "2020-11-19 02:51:03,047 - thermomodel_None - INFO - # Updating cobra_model variables...\n",
      "2020-11-19 02:51:03,082 - thermomodel_None - INFO - # cobra_model variables are up-to-date\n"
     ]
    },
    {
     "name": "stdout",
     "output_type": "stream",
     "text": [
      "Read LP format model from file C:\\Users\\riheme\\AppData\\Local\\Temp\\tmp6bfn4x4z.lp\n",
      "Reading time = 0.02 seconds\n",
      ": 1807 rows, 5170 columns, 20304 nonzeros\n",
      "Read LP format model from file C:\\Users\\riheme\\AppData\\Local\\Temp\\tmpqrgw_dsu.lp\n",
      "Reading time = 0.02 seconds\n",
      ": 1807 rows, 5170 columns, 20304 nonzeros\n"
     ]
    },
    {
     "name": "stderr",
     "output_type": "stream",
     "text": [
      "2020-11-19 02:51:19,267 - thermomodel_Ecoli TPI (Glc) 2 @ t = 1 - INFO - # Model initialized with units kcal/mol and temperature 298.15 K\n"
     ]
    },
    {
     "name": "stdout",
     "output_type": "stream",
     "text": [
      "Read LP format model from file C:\\Users\\riheme\\AppData\\Local\\Temp\\tmpxocyu03i.lp\n",
      "Reading time = 0.02 seconds\n",
      ": 1807 rows, 5170 columns, 20304 nonzeros\n",
      "Read LP format model from file C:\\Users\\riheme\\AppData\\Local\\Temp\\tmpaqrp6_gj.lp\n",
      "Reading time = 0.02 seconds\n",
      ": 1807 rows, 5170 columns, 20304 nonzeros\n"
     ]
    },
    {
     "name": "stderr",
     "output_type": "stream",
     "text": [
      "2020-11-19 02:51:44,951 - thermomodel_Ecoli TPI (Glc) 2 @ t = 1 - INFO - # Model initialized with units kcal/mol and temperature 298.15 K\n",
      "2020-11-19 02:51:53,975 - thermomodel_Ecoli TPI (Glc) 2 @ t = 1 - INFO - Adding slack constraints\n",
      "adding slacks: 100%|███████████████████████████████████████████████████████████████| 1824/1824 [00:37<00:00, 48.72it/s]\n",
      "2020-11-19 02:52:32,997 - thermomodel_Ecoli TPI (Glc) 2 @ t = 1 - INFO - Optimizing slack model\n",
      "2020-11-19 02:52:37,683 - thermomodel_Ecoli TPI (Glc) 2 @ t = 1 - INFO - Extracting relaxation\n",
      "applying slack: 100%|███████████████████████████████████████████████████████████| 2585/2585 [00:00<00:00, 62589.27it/s]\n",
      "2020-11-19 02:52:37,820 - thermomodel_Ecoli TPI (Glc) 2 @ t = 1 - INFO - Testing relaxation\n"
     ]
    },
    {
     "name": "stdout",
     "output_type": "stream",
     "text": [
      "################################################################################\n",
      "Ecoli TPI (Glc) 2 @ t = 3\n",
      "(146.03 min)\n",
      "################################################################################\n",
      "Read LP format model from file C:\\Users\\riheme\\AppData\\Local\\Temp\\tmpzj48g9uh.lp\n",
      "Reading time = 0.02 seconds\n",
      ": 1807 rows, 5170 columns, 20334 nonzeros\n",
      "Read LP format model from file C:\\Users\\riheme\\AppData\\Local\\Temp\\tmpkt5wey9q.lp\n",
      "Reading time = 0.02 seconds\n",
      ": 1807 rows, 5170 columns, 20334 nonzeros\n"
     ]
    },
    {
     "name": "stderr",
     "output_type": "stream",
     "text": [
      "2020-11-19 02:52:52,656 - thermomodel_None - INFO - # Model initialized with units kcal/mol and temperature 298.15 K\n",
      "2020-11-19 02:52:52,666 - thermomodel_None - INFO - # Model preparation starting...\n",
      "2020-11-19 02:52:54,939 - thermomodel_None - WARNING - Warning : NULL/U\n",
      "2020-11-19 02:52:54,939 - thermomodel_None - WARNING - Warning : NULL/L\n",
      "2020-11-19 02:52:54,939 - thermomodel_None - WARNING - Warning : NULL/L\n",
      "2020-11-19 02:52:54,939 - thermomodel_None - WARNING - Warning : NULL/U\n",
      "2020-11-19 02:52:54,939 - thermomodel_None - WARNING - Warning : NULL/L\n",
      "2020-11-19 02:52:54,939 - thermomodel_None - WARNING - Warning : NULL/L\n",
      "2020-11-19 02:52:55,152 - thermomodel_None - WARNING - Warning : NULL/U\n",
      "2020-11-19 02:52:55,152 - thermomodel_None - WARNING - Warning : NULL/L\n",
      "2020-11-19 02:52:55,152 - thermomodel_None - WARNING - Warning : NULL/L\n",
      "2020-11-19 02:52:55,152 - thermomodel_None - WARNING - Warning : NULL/U\n",
      "2020-11-19 02:52:55,160 - thermomodel_None - WARNING - Warning : NULL/L\n",
      "2020-11-19 02:52:55,160 - thermomodel_None - WARNING - Warning : NULL/L\n",
      "2020-11-19 02:52:55,286 - thermomodel_None - WARNING - Warning : NULL/U\n",
      "2020-11-19 02:52:55,286 - thermomodel_None - WARNING - Warning : NULL/L\n",
      "2020-11-19 02:52:55,286 - thermomodel_None - WARNING - Warning : NULL/L\n",
      "2020-11-19 02:52:55,286 - thermomodel_None - WARNING - Warning : NULL/U\n",
      "2020-11-19 02:52:55,302 - thermomodel_None - WARNING - Warning : NULL/L\n",
      "2020-11-19 02:52:55,302 - thermomodel_None - WARNING - Warning : NULL/L\n",
      "2020-11-19 02:52:55,348 - thermomodel_None - WARNING - Warning : NULL/U\n",
      "2020-11-19 02:52:55,348 - thermomodel_None - WARNING - Warning : NULL/L\n",
      "2020-11-19 02:52:55,348 - thermomodel_None - WARNING - Warning : NULL/L\n",
      "2020-11-19 02:52:55,348 - thermomodel_None - WARNING - Warning : NULL/U\n",
      "2020-11-19 02:52:55,348 - thermomodel_None - WARNING - Warning : NULL/L\n",
      "2020-11-19 02:52:55,348 - thermomodel_None - WARNING - Warning : NULL/L\n",
      "2020-11-19 02:52:55,348 - thermomodel_None - WARNING - Warning : NULL/U\n",
      "2020-11-19 02:52:55,348 - thermomodel_None - WARNING - Warning : NULL/L\n",
      "2020-11-19 02:52:55,364 - thermomodel_None - WARNING - Warning : NULL/L\n",
      "2020-11-19 02:52:55,364 - thermomodel_None - WARNING - Warning : NULL/U\n",
      "2020-11-19 02:52:55,364 - thermomodel_None - WARNING - Warning : NULL/L\n",
      "2020-11-19 02:52:55,364 - thermomodel_None - WARNING - Warning : NULL/L\n",
      "2020-11-19 02:52:55,364 - thermomodel_None - WARNING - Warning : NULL/U\n",
      "2020-11-19 02:52:55,364 - thermomodel_None - WARNING - Warning : NULL/L\n",
      "2020-11-19 02:52:55,364 - thermomodel_None - WARNING - Warning : NULL/L\n",
      "2020-11-19 02:52:55,364 - thermomodel_None - WARNING - Warning : NULL/U\n",
      "2020-11-19 02:52:55,364 - thermomodel_None - WARNING - Warning : NULL/L\n",
      "2020-11-19 02:52:55,364 - thermomodel_None - WARNING - Warning : NULL/L\n",
      "2020-11-19 02:52:55,364 - thermomodel_None - WARNING - Warning : NULL/U\n",
      "2020-11-19 02:52:55,371 - thermomodel_None - WARNING - Warning : NULL/L\n",
      "2020-11-19 02:52:55,371 - thermomodel_None - WARNING - Warning : NULL/L\n",
      "2020-11-19 02:52:55,371 - thermomodel_None - WARNING - Warning : NULL/U\n",
      "2020-11-19 02:52:55,371 - thermomodel_None - WARNING - Warning : NULL/L\n",
      "2020-11-19 02:52:55,371 - thermomodel_None - WARNING - Warning : NULL/L\n",
      "2020-11-19 02:52:55,471 - thermomodel_None - INFO - # Model preparation done.\n",
      "2020-11-19 02:52:55,471 - thermomodel_None - INFO - # Model conversion starting...\n",
      "2020-11-19 02:53:29,752 - thermomodel_None - INFO - # Model conversion done.\n",
      "2020-11-19 02:53:29,752 - thermomodel_None - INFO - # Updating cobra_model variables...\n",
      "2020-11-19 02:53:29,795 - thermomodel_None - INFO - # cobra_model variables are up-to-date\n"
     ]
    },
    {
     "name": "stdout",
     "output_type": "stream",
     "text": [
      "Read LP format model from file C:\\Users\\riheme\\AppData\\Local\\Temp\\tmpk034lp6k.lp\n",
      "Reading time = 0.02 seconds\n",
      ": 1807 rows, 5170 columns, 20304 nonzeros\n",
      "Read LP format model from file C:\\Users\\riheme\\AppData\\Local\\Temp\\tmp7euupk3h.lp\n",
      "Reading time = 0.02 seconds\n",
      ": 1807 rows, 5170 columns, 20304 nonzeros\n"
     ]
    },
    {
     "name": "stderr",
     "output_type": "stream",
     "text": [
      "2020-11-19 02:53:46,000 - thermomodel_Ecoli TPI (Glc) 2 @ t = 3 - INFO - # Model initialized with units kcal/mol and temperature 298.15 K\n"
     ]
    },
    {
     "name": "stdout",
     "output_type": "stream",
     "text": [
      "Read LP format model from file C:\\Users\\riheme\\AppData\\Local\\Temp\\tmpw1jhc6jo.lp\n",
      "Reading time = 0.02 seconds\n",
      ": 1807 rows, 5170 columns, 20304 nonzeros\n",
      "Read LP format model from file C:\\Users\\riheme\\AppData\\Local\\Temp\\tmpirwan7qq.lp\n",
      "Reading time = 0.02 seconds\n",
      ": 1807 rows, 5170 columns, 20304 nonzeros\n"
     ]
    },
    {
     "name": "stderr",
     "output_type": "stream",
     "text": [
      "2020-11-19 02:54:12,480 - thermomodel_Ecoli TPI (Glc) 2 @ t = 3 - INFO - # Model initialized with units kcal/mol and temperature 298.15 K\n",
      "2020-11-19 02:54:21,606 - thermomodel_Ecoli TPI (Glc) 2 @ t = 3 - INFO - Adding slack constraints\n",
      "adding slacks: 100%|███████████████████████████████████████████████████████████████| 1824/1824 [00:36<00:00, 49.89it/s]\n",
      "2020-11-19 02:55:00,537 - thermomodel_Ecoli TPI (Glc) 2 @ t = 3 - INFO - Optimizing slack model\n",
      "2020-11-19 02:55:05,559 - thermomodel_Ecoli TPI (Glc) 2 @ t = 3 - INFO - Extracting relaxation\n",
      "applying slack: 100%|███████████████████████████████████████████████████████████| 2585/2585 [00:00<00:00, 52417.90it/s]\n",
      "2020-11-19 02:55:05,690 - thermomodel_Ecoli TPI (Glc) 2 @ t = 3 - INFO - Testing relaxation\n"
     ]
    },
    {
     "name": "stdout",
     "output_type": "stream",
     "text": [
      "################################################################################\n",
      "Ecoli TPI (Glc) 2 @ t = 11\n",
      "(148.49 min)\n",
      "################################################################################\n",
      "Read LP format model from file C:\\Users\\riheme\\AppData\\Local\\Temp\\tmprmk930er.lp\n",
      "Reading time = 0.02 seconds\n",
      ": 1807 rows, 5170 columns, 20334 nonzeros\n",
      "Read LP format model from file C:\\Users\\riheme\\AppData\\Local\\Temp\\tmp8cr0glza.lp\n",
      "Reading time = 0.02 seconds\n",
      ": 1807 rows, 5170 columns, 20334 nonzeros\n"
     ]
    },
    {
     "name": "stderr",
     "output_type": "stream",
     "text": [
      "2020-11-19 02:55:20,780 - thermomodel_None - INFO - # Model initialized with units kcal/mol and temperature 298.15 K\n",
      "2020-11-19 02:55:20,788 - thermomodel_None - INFO - # Model preparation starting...\n",
      "2020-11-19 02:55:23,063 - thermomodel_None - WARNING - Warning : NULL/U\n",
      "2020-11-19 02:55:23,063 - thermomodel_None - WARNING - Warning : NULL/L\n",
      "2020-11-19 02:55:23,063 - thermomodel_None - WARNING - Warning : NULL/L\n",
      "2020-11-19 02:55:23,063 - thermomodel_None - WARNING - Warning : NULL/U\n",
      "2020-11-19 02:55:23,063 - thermomodel_None - WARNING - Warning : NULL/L\n",
      "2020-11-19 02:55:23,063 - thermomodel_None - WARNING - Warning : NULL/L\n",
      "2020-11-19 02:55:23,273 - thermomodel_None - WARNING - Warning : NULL/U\n",
      "2020-11-19 02:55:23,273 - thermomodel_None - WARNING - Warning : NULL/L\n",
      "2020-11-19 02:55:23,273 - thermomodel_None - WARNING - Warning : NULL/L\n",
      "2020-11-19 02:55:23,273 - thermomodel_None - WARNING - Warning : NULL/U\n",
      "2020-11-19 02:55:23,273 - thermomodel_None - WARNING - Warning : NULL/L\n",
      "2020-11-19 02:55:23,273 - thermomodel_None - WARNING - Warning : NULL/L\n",
      "2020-11-19 02:55:23,415 - thermomodel_None - WARNING - Warning : NULL/U\n",
      "2020-11-19 02:55:23,415 - thermomodel_None - WARNING - Warning : NULL/L\n",
      "2020-11-19 02:55:23,415 - thermomodel_None - WARNING - Warning : NULL/L\n",
      "2020-11-19 02:55:23,415 - thermomodel_None - WARNING - Warning : NULL/U\n",
      "2020-11-19 02:55:23,415 - thermomodel_None - WARNING - Warning : NULL/L\n",
      "2020-11-19 02:55:23,415 - thermomodel_None - WARNING - Warning : NULL/L\n",
      "2020-11-19 02:55:23,466 - thermomodel_None - WARNING - Warning : NULL/U\n",
      "2020-11-19 02:55:23,466 - thermomodel_None - WARNING - Warning : NULL/L\n",
      "2020-11-19 02:55:23,466 - thermomodel_None - WARNING - Warning : NULL/L\n",
      "2020-11-19 02:55:23,466 - thermomodel_None - WARNING - Warning : NULL/U\n",
      "2020-11-19 02:55:23,466 - thermomodel_None - WARNING - Warning : NULL/L\n",
      "2020-11-19 02:55:23,466 - thermomodel_None - WARNING - Warning : NULL/L\n",
      "2020-11-19 02:55:23,482 - thermomodel_None - WARNING - Warning : NULL/U\n",
      "2020-11-19 02:55:23,482 - thermomodel_None - WARNING - Warning : NULL/L\n",
      "2020-11-19 02:55:23,482 - thermomodel_None - WARNING - Warning : NULL/L\n",
      "2020-11-19 02:55:23,484 - thermomodel_None - WARNING - Warning : NULL/U\n",
      "2020-11-19 02:55:23,484 - thermomodel_None - WARNING - Warning : NULL/L\n",
      "2020-11-19 02:55:23,484 - thermomodel_None - WARNING - Warning : NULL/L\n",
      "2020-11-19 02:55:23,484 - thermomodel_None - WARNING - Warning : NULL/U\n",
      "2020-11-19 02:55:23,484 - thermomodel_None - WARNING - Warning : NULL/L\n",
      "2020-11-19 02:55:23,484 - thermomodel_None - WARNING - Warning : NULL/L\n",
      "2020-11-19 02:55:23,484 - thermomodel_None - WARNING - Warning : NULL/U\n",
      "2020-11-19 02:55:23,484 - thermomodel_None - WARNING - Warning : NULL/L\n",
      "2020-11-19 02:55:23,484 - thermomodel_None - WARNING - Warning : NULL/L\n",
      "2020-11-19 02:55:23,484 - thermomodel_None - WARNING - Warning : NULL/U\n",
      "2020-11-19 02:55:23,484 - thermomodel_None - WARNING - Warning : NULL/L\n",
      "2020-11-19 02:55:23,484 - thermomodel_None - WARNING - Warning : NULL/L\n",
      "2020-11-19 02:55:23,484 - thermomodel_None - WARNING - Warning : NULL/U\n",
      "2020-11-19 02:55:23,484 - thermomodel_None - WARNING - Warning : NULL/L\n",
      "2020-11-19 02:55:23,484 - thermomodel_None - WARNING - Warning : NULL/L\n",
      "2020-11-19 02:55:23,600 - thermomodel_None - INFO - # Model preparation done.\n",
      "2020-11-19 02:55:23,600 - thermomodel_None - INFO - # Model conversion starting...\n",
      "2020-11-19 02:55:57,673 - thermomodel_None - INFO - # Model conversion done.\n",
      "2020-11-19 02:55:57,673 - thermomodel_None - INFO - # Updating cobra_model variables...\n",
      "2020-11-19 02:55:57,722 - thermomodel_None - INFO - # cobra_model variables are up-to-date\n"
     ]
    },
    {
     "name": "stdout",
     "output_type": "stream",
     "text": [
      "Read LP format model from file C:\\Users\\riheme\\AppData\\Local\\Temp\\tmprrnj5fth.lp\n",
      "Reading time = 0.02 seconds\n",
      ": 1807 rows, 5170 columns, 20304 nonzeros\n",
      "Read LP format model from file C:\\Users\\riheme\\AppData\\Local\\Temp\\tmpeg8nnoom.lp\n",
      "Reading time = 0.02 seconds\n",
      ": 1807 rows, 5170 columns, 20304 nonzeros\n"
     ]
    },
    {
     "name": "stderr",
     "output_type": "stream",
     "text": [
      "2020-11-19 02:56:14,006 - thermomodel_Ecoli TPI (Glc) 2 @ t = 11 - INFO - # Model initialized with units kcal/mol and temperature 298.15 K\n"
     ]
    },
    {
     "name": "stdout",
     "output_type": "stream",
     "text": [
      "Read LP format model from file C:\\Users\\riheme\\AppData\\Local\\Temp\\tmpxdy2ic3o.lp\n",
      "Reading time = 0.02 seconds\n",
      ": 1807 rows, 5170 columns, 20304 nonzeros\n",
      "Read LP format model from file C:\\Users\\riheme\\AppData\\Local\\Temp\\tmpf822jjsn.lp\n",
      "Reading time = 0.02 seconds\n",
      ": 1807 rows, 5170 columns, 20304 nonzeros\n"
     ]
    },
    {
     "name": "stderr",
     "output_type": "stream",
     "text": [
      "2020-11-19 02:56:39,755 - thermomodel_Ecoli TPI (Glc) 2 @ t = 11 - INFO - # Model initialized with units kcal/mol and temperature 298.15 K\n",
      "2020-11-19 02:56:49,703 - thermomodel_Ecoli TPI (Glc) 2 @ t = 11 - INFO - Adding slack constraints\n",
      "adding slacks: 100%|███████████████████████████████████████████████████████████████| 1824/1824 [00:37<00:00, 48.76it/s]\n",
      "2020-11-19 02:57:28,714 - thermomodel_Ecoli TPI (Glc) 2 @ t = 11 - INFO - Optimizing slack model\n",
      "2020-11-19 02:57:34,334 - thermomodel_Ecoli TPI (Glc) 2 @ t = 11 - INFO - Extracting relaxation\n",
      "applying slack: 100%|███████████████████████████████████████████████████████████| 2585/2585 [00:00<00:00, 45426.18it/s]\n",
      "2020-11-19 02:57:34,469 - thermomodel_Ecoli TPI (Glc) 2 @ t = 11 - INFO - Testing relaxation\n"
     ]
    },
    {
     "name": "stdout",
     "output_type": "stream",
     "text": [
      "################################################################################\n",
      "Ecoli TPI (Glc) 3 @ t = 1\n",
      "(150.97 min)\n",
      "################################################################################\n",
      "Read LP format model from file C:\\Users\\riheme\\AppData\\Local\\Temp\\tmpi20o7xpw.lp\n",
      "Reading time = 0.02 seconds\n",
      ": 1807 rows, 5170 columns, 20334 nonzeros\n",
      "Read LP format model from file C:\\Users\\riheme\\AppData\\Local\\Temp\\tmpocgk1m6c.lp\n",
      "Reading time = 0.02 seconds\n",
      ": 1807 rows, 5170 columns, 20334 nonzeros\n"
     ]
    },
    {
     "name": "stderr",
     "output_type": "stream",
     "text": [
      "2020-11-19 02:57:49,584 - thermomodel_None - INFO - # Model initialized with units kcal/mol and temperature 298.15 K\n",
      "2020-11-19 02:57:49,594 - thermomodel_None - INFO - # Model preparation starting...\n",
      "2020-11-19 02:57:51,918 - thermomodel_None - WARNING - Warning : NULL/U\n",
      "2020-11-19 02:57:51,918 - thermomodel_None - WARNING - Warning : NULL/L\n",
      "2020-11-19 02:57:51,918 - thermomodel_None - WARNING - Warning : NULL/L\n",
      "2020-11-19 02:57:51,926 - thermomodel_None - WARNING - Warning : NULL/U\n",
      "2020-11-19 02:57:51,926 - thermomodel_None - WARNING - Warning : NULL/L\n",
      "2020-11-19 02:57:51,926 - thermomodel_None - WARNING - Warning : NULL/L\n",
      "2020-11-19 02:57:52,137 - thermomodel_None - WARNING - Warning : NULL/U\n",
      "2020-11-19 02:57:52,137 - thermomodel_None - WARNING - Warning : NULL/L\n",
      "2020-11-19 02:57:52,137 - thermomodel_None - WARNING - Warning : NULL/L\n",
      "2020-11-19 02:57:52,137 - thermomodel_None - WARNING - Warning : NULL/U\n",
      "2020-11-19 02:57:52,137 - thermomodel_None - WARNING - Warning : NULL/L\n",
      "2020-11-19 02:57:52,137 - thermomodel_None - WARNING - Warning : NULL/L\n",
      "2020-11-19 02:57:52,279 - thermomodel_None - WARNING - Warning : NULL/U\n",
      "2020-11-19 02:57:52,279 - thermomodel_None - WARNING - Warning : NULL/L\n",
      "2020-11-19 02:57:52,279 - thermomodel_None - WARNING - Warning : NULL/L\n",
      "2020-11-19 02:57:52,279 - thermomodel_None - WARNING - Warning : NULL/U\n",
      "2020-11-19 02:57:52,279 - thermomodel_None - WARNING - Warning : NULL/L\n",
      "2020-11-19 02:57:52,279 - thermomodel_None - WARNING - Warning : NULL/L\n",
      "2020-11-19 02:57:52,326 - thermomodel_None - WARNING - Warning : NULL/U\n",
      "2020-11-19 02:57:52,326 - thermomodel_None - WARNING - Warning : NULL/L\n",
      "2020-11-19 02:57:52,326 - thermomodel_None - WARNING - Warning : NULL/L\n",
      "2020-11-19 02:57:52,326 - thermomodel_None - WARNING - Warning : NULL/U\n",
      "2020-11-19 02:57:52,341 - thermomodel_None - WARNING - Warning : NULL/L\n",
      "2020-11-19 02:57:52,341 - thermomodel_None - WARNING - Warning : NULL/L\n",
      "2020-11-19 02:57:52,341 - thermomodel_None - WARNING - Warning : NULL/U\n",
      "2020-11-19 02:57:52,341 - thermomodel_None - WARNING - Warning : NULL/L\n",
      "2020-11-19 02:57:52,341 - thermomodel_None - WARNING - Warning : NULL/L\n",
      "2020-11-19 02:57:52,341 - thermomodel_None - WARNING - Warning : NULL/U\n",
      "2020-11-19 02:57:52,341 - thermomodel_None - WARNING - Warning : NULL/L\n",
      "2020-11-19 02:57:52,341 - thermomodel_None - WARNING - Warning : NULL/L\n",
      "2020-11-19 02:57:52,341 - thermomodel_None - WARNING - Warning : NULL/U\n",
      "2020-11-19 02:57:52,348 - thermomodel_None - WARNING - Warning : NULL/L\n",
      "2020-11-19 02:57:52,348 - thermomodel_None - WARNING - Warning : NULL/L\n",
      "2020-11-19 02:57:52,348 - thermomodel_None - WARNING - Warning : NULL/U\n",
      "2020-11-19 02:57:52,348 - thermomodel_None - WARNING - Warning : NULL/L\n",
      "2020-11-19 02:57:52,348 - thermomodel_None - WARNING - Warning : NULL/L\n",
      "2020-11-19 02:57:52,348 - thermomodel_None - WARNING - Warning : NULL/U\n",
      "2020-11-19 02:57:52,348 - thermomodel_None - WARNING - Warning : NULL/L\n",
      "2020-11-19 02:57:52,348 - thermomodel_None - WARNING - Warning : NULL/L\n",
      "2020-11-19 02:57:52,348 - thermomodel_None - WARNING - Warning : NULL/U\n",
      "2020-11-19 02:57:52,348 - thermomodel_None - WARNING - Warning : NULL/L\n",
      "2020-11-19 02:57:52,348 - thermomodel_None - WARNING - Warning : NULL/L\n",
      "2020-11-19 02:57:52,464 - thermomodel_None - INFO - # Model preparation done.\n",
      "2020-11-19 02:57:52,464 - thermomodel_None - INFO - # Model conversion starting...\n",
      "2020-11-19 02:58:26,694 - thermomodel_None - INFO - # Model conversion done.\n",
      "2020-11-19 02:58:26,696 - thermomodel_None - INFO - # Updating cobra_model variables...\n",
      "2020-11-19 02:58:26,730 - thermomodel_None - INFO - # cobra_model variables are up-to-date\n"
     ]
    },
    {
     "name": "stdout",
     "output_type": "stream",
     "text": [
      "Read LP format model from file C:\\Users\\riheme\\AppData\\Local\\Temp\\tmpbr6mmyrf.lp\n",
      "Reading time = 0.02 seconds\n",
      ": 1807 rows, 5170 columns, 20304 nonzeros\n",
      "Read LP format model from file C:\\Users\\riheme\\AppData\\Local\\Temp\\tmph78s58vt.lp\n",
      "Reading time = 0.02 seconds\n",
      ": 1807 rows, 5170 columns, 20304 nonzeros\n"
     ]
    },
    {
     "name": "stderr",
     "output_type": "stream",
     "text": [
      "2020-11-19 02:58:42,898 - thermomodel_Ecoli TPI (Glc) 3 @ t = 1 - INFO - # Model initialized with units kcal/mol and temperature 298.15 K\n"
     ]
    },
    {
     "name": "stdout",
     "output_type": "stream",
     "text": [
      "Read LP format model from file C:\\Users\\riheme\\AppData\\Local\\Temp\\tmpcmowfei4.lp\n",
      "Reading time = 0.02 seconds\n",
      ": 1807 rows, 5170 columns, 20304 nonzeros\n",
      "Read LP format model from file C:\\Users\\riheme\\AppData\\Local\\Temp\\tmpzivz0ncs.lp\n",
      "Reading time = 0.02 seconds\n",
      ": 1807 rows, 5170 columns, 20304 nonzeros\n"
     ]
    },
    {
     "name": "stderr",
     "output_type": "stream",
     "text": [
      "2020-11-19 02:59:08,889 - thermomodel_Ecoli TPI (Glc) 3 @ t = 1 - INFO - # Model initialized with units kcal/mol and temperature 298.15 K\n",
      "2020-11-19 02:59:18,048 - thermomodel_Ecoli TPI (Glc) 3 @ t = 1 - INFO - Adding slack constraints\n",
      "adding slacks: 100%|███████████████████████████████████████████████████████████████| 1824/1824 [00:37<00:00, 49.03it/s]\n",
      "2020-11-19 02:59:56,854 - thermomodel_Ecoli TPI (Glc) 3 @ t = 1 - INFO - Optimizing slack model\n",
      "2020-11-19 03:00:01,766 - thermomodel_Ecoli TPI (Glc) 3 @ t = 1 - INFO - Extracting relaxation\n",
      "applying slack: 100%|███████████████████████████████████████████████████████████| 2585/2585 [00:00<00:00, 62593.60it/s]\n",
      "2020-11-19 03:00:01,906 - thermomodel_Ecoli TPI (Glc) 3 @ t = 1 - INFO - Testing relaxation\n"
     ]
    },
    {
     "name": "stdout",
     "output_type": "stream",
     "text": [
      "################################################################################\n",
      "Ecoli TPI (Glc) 3 @ t = 3\n",
      "(153.43 min)\n",
      "################################################################################\n",
      "Read LP format model from file C:\\Users\\riheme\\AppData\\Local\\Temp\\tmptg0kbatc.lp\n",
      "Reading time = 0.02 seconds\n",
      ": 1807 rows, 5170 columns, 20334 nonzeros\n",
      "Read LP format model from file C:\\Users\\riheme\\AppData\\Local\\Temp\\tmppat802v2.lp\n",
      "Reading time = 0.02 seconds\n",
      ": 1807 rows, 5170 columns, 20334 nonzeros\n"
     ]
    },
    {
     "name": "stderr",
     "output_type": "stream",
     "text": [
      "2020-11-19 03:00:16,821 - thermomodel_None - INFO - # Model initialized with units kcal/mol and temperature 298.15 K\n",
      "2020-11-19 03:00:16,829 - thermomodel_None - INFO - # Model preparation starting...\n",
      "2020-11-19 03:00:19,107 - thermomodel_None - WARNING - Warning : NULL/U\n",
      "2020-11-19 03:00:19,107 - thermomodel_None - WARNING - Warning : NULL/L\n",
      "2020-11-19 03:00:19,107 - thermomodel_None - WARNING - Warning : NULL/L\n",
      "2020-11-19 03:00:19,107 - thermomodel_None - WARNING - Warning : NULL/U\n",
      "2020-11-19 03:00:19,107 - thermomodel_None - WARNING - Warning : NULL/L\n",
      "2020-11-19 03:00:19,123 - thermomodel_None - WARNING - Warning : NULL/L\n",
      "2020-11-19 03:00:19,373 - thermomodel_None - WARNING - Warning : NULL/U\n",
      "2020-11-19 03:00:19,373 - thermomodel_None - WARNING - Warning : NULL/L\n",
      "2020-11-19 03:00:19,373 - thermomodel_None - WARNING - Warning : NULL/L\n",
      "2020-11-19 03:00:19,373 - thermomodel_None - WARNING - Warning : NULL/U\n",
      "2020-11-19 03:00:19,373 - thermomodel_None - WARNING - Warning : NULL/L\n",
      "2020-11-19 03:00:19,381 - thermomodel_None - WARNING - Warning : NULL/L\n",
      "2020-11-19 03:00:19,515 - thermomodel_None - WARNING - Warning : NULL/U\n",
      "2020-11-19 03:00:19,515 - thermomodel_None - WARNING - Warning : NULL/L\n",
      "2020-11-19 03:00:19,515 - thermomodel_None - WARNING - Warning : NULL/L\n",
      "2020-11-19 03:00:19,523 - thermomodel_None - WARNING - Warning : NULL/U\n",
      "2020-11-19 03:00:19,523 - thermomodel_None - WARNING - Warning : NULL/L\n",
      "2020-11-19 03:00:19,523 - thermomodel_None - WARNING - Warning : NULL/L\n",
      "2020-11-19 03:00:19,580 - thermomodel_None - WARNING - Warning : NULL/U\n",
      "2020-11-19 03:00:19,580 - thermomodel_None - WARNING - Warning : NULL/L\n",
      "2020-11-19 03:00:19,580 - thermomodel_None - WARNING - Warning : NULL/L\n",
      "2020-11-19 03:00:19,580 - thermomodel_None - WARNING - Warning : NULL/U\n",
      "2020-11-19 03:00:19,580 - thermomodel_None - WARNING - Warning : NULL/L\n",
      "2020-11-19 03:00:19,580 - thermomodel_None - WARNING - Warning : NULL/L\n",
      "2020-11-19 03:00:19,580 - thermomodel_None - WARNING - Warning : NULL/U\n",
      "2020-11-19 03:00:19,580 - thermomodel_None - WARNING - Warning : NULL/L\n",
      "2020-11-19 03:00:19,580 - thermomodel_None - WARNING - Warning : NULL/L\n",
      "2020-11-19 03:00:19,580 - thermomodel_None - WARNING - Warning : NULL/U\n",
      "2020-11-19 03:00:19,580 - thermomodel_None - WARNING - Warning : NULL/L\n",
      "2020-11-19 03:00:19,580 - thermomodel_None - WARNING - Warning : NULL/L\n",
      "2020-11-19 03:00:19,580 - thermomodel_None - WARNING - Warning : NULL/U\n",
      "2020-11-19 03:00:19,580 - thermomodel_None - WARNING - Warning : NULL/L\n",
      "2020-11-19 03:00:19,580 - thermomodel_None - WARNING - Warning : NULL/L\n",
      "2020-11-19 03:00:19,580 - thermomodel_None - WARNING - Warning : NULL/U\n",
      "2020-11-19 03:00:19,580 - thermomodel_None - WARNING - Warning : NULL/L\n",
      "2020-11-19 03:00:19,580 - thermomodel_None - WARNING - Warning : NULL/L\n",
      "2020-11-19 03:00:19,580 - thermomodel_None - WARNING - Warning : NULL/U\n",
      "2020-11-19 03:00:19,580 - thermomodel_None - WARNING - Warning : NULL/L\n",
      "2020-11-19 03:00:19,580 - thermomodel_None - WARNING - Warning : NULL/L\n",
      "2020-11-19 03:00:19,596 - thermomodel_None - WARNING - Warning : NULL/U\n",
      "2020-11-19 03:00:19,596 - thermomodel_None - WARNING - Warning : NULL/L\n",
      "2020-11-19 03:00:19,596 - thermomodel_None - WARNING - Warning : NULL/L\n",
      "2020-11-19 03:00:19,696 - thermomodel_None - INFO - # Model preparation done.\n",
      "2020-11-19 03:00:19,696 - thermomodel_None - INFO - # Model conversion starting...\n",
      "2020-11-19 03:00:53,838 - thermomodel_None - INFO - # Model conversion done.\n",
      "2020-11-19 03:00:53,838 - thermomodel_None - INFO - # Updating cobra_model variables...\n",
      "2020-11-19 03:00:53,887 - thermomodel_None - INFO - # cobra_model variables are up-to-date\n"
     ]
    },
    {
     "name": "stdout",
     "output_type": "stream",
     "text": [
      "Read LP format model from file C:\\Users\\riheme\\AppData\\Local\\Temp\\tmpoeo32u2u.lp\n",
      "Reading time = 0.02 seconds\n",
      ": 1807 rows, 5170 columns, 20304 nonzeros\n",
      "Read LP format model from file C:\\Users\\riheme\\AppData\\Local\\Temp\\tmpza5farfc.lp\n",
      "Reading time = 0.02 seconds\n",
      ": 1807 rows, 5170 columns, 20304 nonzeros\n"
     ]
    },
    {
     "name": "stderr",
     "output_type": "stream",
     "text": [
      "2020-11-19 03:01:09,997 - thermomodel_Ecoli TPI (Glc) 3 @ t = 3 - INFO - # Model initialized with units kcal/mol and temperature 298.15 K\n"
     ]
    },
    {
     "name": "stdout",
     "output_type": "stream",
     "text": [
      "Read LP format model from file C:\\Users\\riheme\\AppData\\Local\\Temp\\tmpy6vf0p68.lp\n",
      "Reading time = 0.02 seconds\n",
      ": 1807 rows, 5170 columns, 20304 nonzeros\n",
      "Read LP format model from file C:\\Users\\riheme\\AppData\\Local\\Temp\\tmpez5wj6hq.lp\n",
      "Reading time = 0.02 seconds\n",
      ": 1807 rows, 5170 columns, 20304 nonzeros\n"
     ]
    },
    {
     "name": "stderr",
     "output_type": "stream",
     "text": [
      "2020-11-19 03:01:35,901 - thermomodel_Ecoli TPI (Glc) 3 @ t = 3 - INFO - # Model initialized with units kcal/mol and temperature 298.15 K\n",
      "2020-11-19 03:01:44,975 - thermomodel_Ecoli TPI (Glc) 3 @ t = 3 - INFO - Adding slack constraints\n",
      "adding slacks: 100%|███████████████████████████████████████████████████████████████| 1824/1824 [00:36<00:00, 49.38it/s]\n",
      "2020-11-19 03:02:23,500 - thermomodel_Ecoli TPI (Glc) 3 @ t = 3 - INFO - Optimizing slack model\n",
      "2020-11-19 03:02:28,531 - thermomodel_Ecoli TPI (Glc) 3 @ t = 3 - INFO - Extracting relaxation\n",
      "applying slack: 100%|███████████████████████████████████████████████████████████| 2585/2585 [00:00<00:00, 53047.52it/s]\n",
      "2020-11-19 03:02:28,674 - thermomodel_Ecoli TPI (Glc) 3 @ t = 3 - INFO - Testing relaxation\n"
     ]
    },
    {
     "name": "stdout",
     "output_type": "stream",
     "text": [
      "################################################################################\n",
      "Ecoli TPI (Glc) 3 @ t = 11\n",
      "(155.88 min)\n",
      "################################################################################\n",
      "Read LP format model from file C:\\Users\\riheme\\AppData\\Local\\Temp\\tmp_h3rawri.lp\n",
      "Reading time = 0.02 seconds\n",
      ": 1807 rows, 5170 columns, 20334 nonzeros\n",
      "Read LP format model from file C:\\Users\\riheme\\AppData\\Local\\Temp\\tmp0ha2t201.lp\n",
      "Reading time = 0.02 seconds\n",
      ": 1807 rows, 5170 columns, 20334 nonzeros\n"
     ]
    },
    {
     "name": "stderr",
     "output_type": "stream",
     "text": [
      "2020-11-19 03:02:43,473 - thermomodel_None - INFO - # Model initialized with units kcal/mol and temperature 298.15 K\n",
      "2020-11-19 03:02:43,483 - thermomodel_None - INFO - # Model preparation starting...\n",
      "2020-11-19 03:02:45,741 - thermomodel_None - WARNING - Warning : NULL/U\n",
      "2020-11-19 03:02:45,741 - thermomodel_None - WARNING - Warning : NULL/L\n",
      "2020-11-19 03:02:45,741 - thermomodel_None - WARNING - Warning : NULL/L\n",
      "2020-11-19 03:02:45,741 - thermomodel_None - WARNING - Warning : NULL/U\n",
      "2020-11-19 03:02:45,741 - thermomodel_None - WARNING - Warning : NULL/L\n",
      "2020-11-19 03:02:45,741 - thermomodel_None - WARNING - Warning : NULL/L\n",
      "2020-11-19 03:02:45,953 - thermomodel_None - WARNING - Warning : NULL/U\n",
      "2020-11-19 03:02:45,953 - thermomodel_None - WARNING - Warning : NULL/L\n",
      "2020-11-19 03:02:45,953 - thermomodel_None - WARNING - Warning : NULL/L\n",
      "2020-11-19 03:02:45,953 - thermomodel_None - WARNING - Warning : NULL/U\n",
      "2020-11-19 03:02:45,953 - thermomodel_None - WARNING - Warning : NULL/L\n",
      "2020-11-19 03:02:45,960 - thermomodel_None - WARNING - Warning : NULL/L\n",
      "2020-11-19 03:02:46,091 - thermomodel_None - WARNING - Warning : NULL/U\n",
      "2020-11-19 03:02:46,091 - thermomodel_None - WARNING - Warning : NULL/L\n",
      "2020-11-19 03:02:46,091 - thermomodel_None - WARNING - Warning : NULL/L\n",
      "2020-11-19 03:02:46,091 - thermomodel_None - WARNING - Warning : NULL/U\n",
      "2020-11-19 03:02:46,091 - thermomodel_None - WARNING - Warning : NULL/L\n",
      "2020-11-19 03:02:46,091 - thermomodel_None - WARNING - Warning : NULL/L\n",
      "2020-11-19 03:02:46,154 - thermomodel_None - WARNING - Warning : NULL/U\n",
      "2020-11-19 03:02:46,160 - thermomodel_None - WARNING - Warning : NULL/L\n",
      "2020-11-19 03:02:46,160 - thermomodel_None - WARNING - Warning : NULL/L\n",
      "2020-11-19 03:02:46,160 - thermomodel_None - WARNING - Warning : NULL/U\n",
      "2020-11-19 03:02:46,160 - thermomodel_None - WARNING - Warning : NULL/L\n",
      "2020-11-19 03:02:46,160 - thermomodel_None - WARNING - Warning : NULL/L\n",
      "2020-11-19 03:02:46,160 - thermomodel_None - WARNING - Warning : NULL/U\n",
      "2020-11-19 03:02:46,160 - thermomodel_None - WARNING - Warning : NULL/L\n",
      "2020-11-19 03:02:46,160 - thermomodel_None - WARNING - Warning : NULL/L\n",
      "2020-11-19 03:02:46,160 - thermomodel_None - WARNING - Warning : NULL/U\n",
      "2020-11-19 03:02:46,160 - thermomodel_None - WARNING - Warning : NULL/L\n",
      "2020-11-19 03:02:46,160 - thermomodel_None - WARNING - Warning : NULL/L\n",
      "2020-11-19 03:02:46,160 - thermomodel_None - WARNING - Warning : NULL/U\n",
      "2020-11-19 03:02:46,160 - thermomodel_None - WARNING - Warning : NULL/L\n",
      "2020-11-19 03:02:46,160 - thermomodel_None - WARNING - Warning : NULL/L\n",
      "2020-11-19 03:02:46,160 - thermomodel_None - WARNING - Warning : NULL/U\n",
      "2020-11-19 03:02:46,160 - thermomodel_None - WARNING - Warning : NULL/L\n",
      "2020-11-19 03:02:46,160 - thermomodel_None - WARNING - Warning : NULL/L\n",
      "2020-11-19 03:02:46,160 - thermomodel_None - WARNING - Warning : NULL/U\n",
      "2020-11-19 03:02:46,160 - thermomodel_None - WARNING - Warning : NULL/L\n",
      "2020-11-19 03:02:46,160 - thermomodel_None - WARNING - Warning : NULL/L\n",
      "2020-11-19 03:02:46,160 - thermomodel_None - WARNING - Warning : NULL/U\n",
      "2020-11-19 03:02:46,160 - thermomodel_None - WARNING - Warning : NULL/L\n",
      "2020-11-19 03:02:46,160 - thermomodel_None - WARNING - Warning : NULL/L\n",
      "2020-11-19 03:02:46,276 - thermomodel_None - INFO - # Model preparation done.\n",
      "2020-11-19 03:02:46,276 - thermomodel_None - INFO - # Model conversion starting...\n",
      "2020-11-19 03:03:20,630 - thermomodel_None - INFO - # Model conversion done.\n",
      "2020-11-19 03:03:20,630 - thermomodel_None - INFO - # Updating cobra_model variables...\n",
      "2020-11-19 03:03:20,677 - thermomodel_None - INFO - # cobra_model variables are up-to-date\n"
     ]
    },
    {
     "name": "stdout",
     "output_type": "stream",
     "text": [
      "Read LP format model from file C:\\Users\\riheme\\AppData\\Local\\Temp\\tmpq729at0g.lp\n",
      "Reading time = 0.02 seconds\n",
      ": 1807 rows, 5170 columns, 20304 nonzeros\n",
      "Read LP format model from file C:\\Users\\riheme\\AppData\\Local\\Temp\\tmp8bzo1n3x.lp\n",
      "Reading time = 0.02 seconds\n",
      ": 1807 rows, 5170 columns, 20304 nonzeros\n"
     ]
    },
    {
     "name": "stderr",
     "output_type": "stream",
     "text": [
      "2020-11-19 03:03:36,908 - thermomodel_Ecoli TPI (Glc) 3 @ t = 11 - INFO - # Model initialized with units kcal/mol and temperature 298.15 K\n"
     ]
    },
    {
     "name": "stdout",
     "output_type": "stream",
     "text": [
      "Read LP format model from file C:\\Users\\riheme\\AppData\\Local\\Temp\\tmprvc734oe.lp\n",
      "Reading time = 0.02 seconds\n",
      ": 1807 rows, 5170 columns, 20304 nonzeros\n",
      "Read LP format model from file C:\\Users\\riheme\\AppData\\Local\\Temp\\tmpdo7u382a.lp\n",
      "Reading time = 0.02 seconds\n",
      ": 1807 rows, 5170 columns, 20304 nonzeros\n"
     ]
    },
    {
     "name": "stderr",
     "output_type": "stream",
     "text": [
      "2020-11-19 03:04:03,079 - thermomodel_Ecoli TPI (Glc) 3 @ t = 11 - INFO - # Model initialized with units kcal/mol and temperature 298.15 K\n",
      "2020-11-19 03:04:12,129 - thermomodel_Ecoli TPI (Glc) 3 @ t = 11 - INFO - Adding slack constraints\n",
      "adding slacks: 100%|███████████████████████████████████████████████████████████████| 1824/1824 [00:36<00:00, 50.02it/s]\n",
      "2020-11-19 03:04:50,981 - thermomodel_Ecoli TPI (Glc) 3 @ t = 11 - INFO - Optimizing slack model\n",
      "2020-11-19 03:04:55,037 - thermomodel_Ecoli TPI (Glc) 3 @ t = 11 - INFO - Extracting relaxation\n",
      "applying slack: 100%|███████████████████████████████████████████████████████████| 2585/2585 [00:00<00:00, 50813.24it/s]\n",
      "2020-11-19 03:04:55,165 - thermomodel_Ecoli TPI (Glc) 3 @ t = 11 - INFO - Testing relaxation\n"
     ]
    },
    {
     "name": "stdout",
     "output_type": "stream",
     "text": [
      "################################################################################\n",
      "Ecoli TPI (Glc) 4 @ t = 1\n",
      "(158.32 min)\n",
      "################################################################################\n",
      "Read LP format model from file C:\\Users\\riheme\\AppData\\Local\\Temp\\tmp2uqm7uso.lp\n",
      "Reading time = 0.02 seconds\n",
      ": 1807 rows, 5170 columns, 20334 nonzeros\n",
      "Read LP format model from file C:\\Users\\riheme\\AppData\\Local\\Temp\\tmp3t4kvpn6.lp\n",
      "Reading time = 0.02 seconds\n",
      ": 1807 rows, 5170 columns, 20334 nonzeros\n"
     ]
    },
    {
     "name": "stderr",
     "output_type": "stream",
     "text": [
      "2020-11-19 03:05:10,228 - thermomodel_None - INFO - # Model initialized with units kcal/mol and temperature 298.15 K\n",
      "2020-11-19 03:05:10,246 - thermomodel_None - INFO - # Model preparation starting...\n",
      "2020-11-19 03:05:12,518 - thermomodel_None - WARNING - Warning : NULL/U\n",
      "2020-11-19 03:05:12,518 - thermomodel_None - WARNING - Warning : NULL/L\n",
      "2020-11-19 03:05:12,518 - thermomodel_None - WARNING - Warning : NULL/L\n",
      "2020-11-19 03:05:12,518 - thermomodel_None - WARNING - Warning : NULL/U\n",
      "2020-11-19 03:05:12,518 - thermomodel_None - WARNING - Warning : NULL/L\n",
      "2020-11-19 03:05:12,518 - thermomodel_None - WARNING - Warning : NULL/L\n",
      "2020-11-19 03:05:12,749 - thermomodel_None - WARNING - Warning : NULL/U\n",
      "2020-11-19 03:05:12,749 - thermomodel_None - WARNING - Warning : NULL/L\n",
      "2020-11-19 03:05:12,749 - thermomodel_None - WARNING - Warning : NULL/L\n",
      "2020-11-19 03:05:12,749 - thermomodel_None - WARNING - Warning : NULL/U\n",
      "2020-11-19 03:05:12,749 - thermomodel_None - WARNING - Warning : NULL/L\n",
      "2020-11-19 03:05:12,757 - thermomodel_None - WARNING - Warning : NULL/L\n",
      "2020-11-19 03:05:12,900 - thermomodel_None - WARNING - Warning : NULL/U\n",
      "2020-11-19 03:05:12,900 - thermomodel_None - WARNING - Warning : NULL/L\n",
      "2020-11-19 03:05:12,908 - thermomodel_None - WARNING - Warning : NULL/L\n",
      "2020-11-19 03:05:12,908 - thermomodel_None - WARNING - Warning : NULL/U\n",
      "2020-11-19 03:05:12,908 - thermomodel_None - WARNING - Warning : NULL/L\n",
      "2020-11-19 03:05:12,908 - thermomodel_None - WARNING - Warning : NULL/L\n",
      "2020-11-19 03:05:12,965 - thermomodel_None - WARNING - Warning : NULL/U\n",
      "2020-11-19 03:05:12,965 - thermomodel_None - WARNING - Warning : NULL/L\n",
      "2020-11-19 03:05:12,965 - thermomodel_None - WARNING - Warning : NULL/L\n",
      "2020-11-19 03:05:12,965 - thermomodel_None - WARNING - Warning : NULL/U\n",
      "2020-11-19 03:05:12,965 - thermomodel_None - WARNING - Warning : NULL/L\n",
      "2020-11-19 03:05:12,965 - thermomodel_None - WARNING - Warning : NULL/L\n",
      "2020-11-19 03:05:12,965 - thermomodel_None - WARNING - Warning : NULL/U\n",
      "2020-11-19 03:05:12,965 - thermomodel_None - WARNING - Warning : NULL/L\n",
      "2020-11-19 03:05:12,965 - thermomodel_None - WARNING - Warning : NULL/L\n",
      "2020-11-19 03:05:12,965 - thermomodel_None - WARNING - Warning : NULL/U\n",
      "2020-11-19 03:05:12,965 - thermomodel_None - WARNING - Warning : NULL/L\n",
      "2020-11-19 03:05:12,965 - thermomodel_None - WARNING - Warning : NULL/L\n",
      "2020-11-19 03:05:12,965 - thermomodel_None - WARNING - Warning : NULL/U\n",
      "2020-11-19 03:05:12,965 - thermomodel_None - WARNING - Warning : NULL/L\n",
      "2020-11-19 03:05:12,965 - thermomodel_None - WARNING - Warning : NULL/L\n",
      "2020-11-19 03:05:12,965 - thermomodel_None - WARNING - Warning : NULL/U\n",
      "2020-11-19 03:05:12,965 - thermomodel_None - WARNING - Warning : NULL/L\n",
      "2020-11-19 03:05:12,965 - thermomodel_None - WARNING - Warning : NULL/L\n",
      "2020-11-19 03:05:12,965 - thermomodel_None - WARNING - Warning : NULL/U\n",
      "2020-11-19 03:05:12,965 - thermomodel_None - WARNING - Warning : NULL/L\n",
      "2020-11-19 03:05:12,965 - thermomodel_None - WARNING - Warning : NULL/L\n",
      "2020-11-19 03:05:12,965 - thermomodel_None - WARNING - Warning : NULL/U\n",
      "2020-11-19 03:05:12,980 - thermomodel_None - WARNING - Warning : NULL/L\n",
      "2020-11-19 03:05:12,980 - thermomodel_None - WARNING - Warning : NULL/L\n",
      "2020-11-19 03:05:13,081 - thermomodel_None - INFO - # Model preparation done.\n",
      "2020-11-19 03:05:13,081 - thermomodel_None - INFO - # Model conversion starting...\n",
      "2020-11-19 03:05:46,972 - thermomodel_None - INFO - # Model conversion done.\n",
      "2020-11-19 03:05:46,972 - thermomodel_None - INFO - # Updating cobra_model variables...\n",
      "2020-11-19 03:05:47,022 - thermomodel_None - INFO - # cobra_model variables are up-to-date\n"
     ]
    },
    {
     "name": "stdout",
     "output_type": "stream",
     "text": [
      "Read LP format model from file C:\\Users\\riheme\\AppData\\Local\\Temp\\tmpywfe_c83.lp\n",
      "Reading time = 0.02 seconds\n",
      ": 1807 rows, 5170 columns, 20304 nonzeros\n",
      "Read LP format model from file C:\\Users\\riheme\\AppData\\Local\\Temp\\tmpp1ssr_ry.lp\n",
      "Reading time = 0.02 seconds\n",
      ": 1807 rows, 5170 columns, 20304 nonzeros\n"
     ]
    },
    {
     "name": "stderr",
     "output_type": "stream",
     "text": [
      "2020-11-19 03:06:03,335 - thermomodel_Ecoli TPI (Glc) 4 @ t = 1 - INFO - # Model initialized with units kcal/mol and temperature 298.15 K\n"
     ]
    },
    {
     "name": "stdout",
     "output_type": "stream",
     "text": [
      "Read LP format model from file C:\\Users\\riheme\\AppData\\Local\\Temp\\tmpaadg7_xn.lp\n",
      "Reading time = 0.02 seconds\n",
      ": 1807 rows, 5170 columns, 20304 nonzeros\n",
      "Read LP format model from file C:\\Users\\riheme\\AppData\\Local\\Temp\\tmp5pld9l04.lp\n",
      "Reading time = 0.02 seconds\n",
      ": 1807 rows, 5170 columns, 20304 nonzeros\n"
     ]
    },
    {
     "name": "stderr",
     "output_type": "stream",
     "text": [
      "2020-11-19 03:06:29,125 - thermomodel_Ecoli TPI (Glc) 4 @ t = 1 - INFO - # Model initialized with units kcal/mol and temperature 298.15 K\n",
      "2020-11-19 03:06:38,233 - thermomodel_Ecoli TPI (Glc) 4 @ t = 1 - INFO - Adding slack constraints\n",
      "adding slacks: 100%|███████████████████████████████████████████████████████████████| 1824/1824 [00:38<00:00, 47.73it/s]\n",
      "2020-11-19 03:07:18,043 - thermomodel_Ecoli TPI (Glc) 4 @ t = 1 - INFO - Optimizing slack model\n",
      "2020-11-19 03:07:22,446 - thermomodel_Ecoli TPI (Glc) 4 @ t = 1 - INFO - Extracting relaxation\n",
      "applying slack: 100%|███████████████████████████████████████████████████████████| 2585/2585 [00:00<00:00, 44115.54it/s]\n",
      "2020-11-19 03:07:22,595 - thermomodel_Ecoli TPI (Glc) 4 @ t = 1 - INFO - Testing relaxation\n"
     ]
    },
    {
     "name": "stdout",
     "output_type": "stream",
     "text": [
      "################################################################################\n",
      "Ecoli TPI (Glc) 4 @ t = 3\n",
      "(160.77 min)\n",
      "################################################################################\n",
      "Read LP format model from file C:\\Users\\riheme\\AppData\\Local\\Temp\\tmp2y55x1de.lp\n",
      "Reading time = 0.02 seconds\n",
      ": 1807 rows, 5170 columns, 20334 nonzeros\n",
      "Read LP format model from file C:\\Users\\riheme\\AppData\\Local\\Temp\\tmp0clkqne6.lp\n",
      "Reading time = 0.02 seconds\n",
      ": 1807 rows, 5170 columns, 20334 nonzeros\n"
     ]
    },
    {
     "name": "stderr",
     "output_type": "stream",
     "text": [
      "2020-11-19 03:07:37,541 - thermomodel_None - INFO - # Model initialized with units kcal/mol and temperature 298.15 K\n",
      "2020-11-19 03:07:37,549 - thermomodel_None - INFO - # Model preparation starting...\n",
      "2020-11-19 03:07:39,839 - thermomodel_None - WARNING - Warning : NULL/U\n",
      "2020-11-19 03:07:39,839 - thermomodel_None - WARNING - Warning : NULL/L\n",
      "2020-11-19 03:07:39,839 - thermomodel_None - WARNING - Warning : NULL/L\n",
      "2020-11-19 03:07:39,839 - thermomodel_None - WARNING - Warning : NULL/U\n",
      "2020-11-19 03:07:39,839 - thermomodel_None - WARNING - Warning : NULL/L\n",
      "2020-11-19 03:07:39,839 - thermomodel_None - WARNING - Warning : NULL/L\n",
      "2020-11-19 03:07:40,050 - thermomodel_None - WARNING - Warning : NULL/U\n",
      "2020-11-19 03:07:40,050 - thermomodel_None - WARNING - Warning : NULL/L\n",
      "2020-11-19 03:07:40,058 - thermomodel_None - WARNING - Warning : NULL/L\n",
      "2020-11-19 03:07:40,058 - thermomodel_None - WARNING - Warning : NULL/U\n",
      "2020-11-19 03:07:40,058 - thermomodel_None - WARNING - Warning : NULL/L\n",
      "2020-11-19 03:07:40,058 - thermomodel_None - WARNING - Warning : NULL/L\n",
      "2020-11-19 03:07:40,199 - thermomodel_None - WARNING - Warning : NULL/U\n",
      "2020-11-19 03:07:40,199 - thermomodel_None - WARNING - Warning : NULL/L\n",
      "2020-11-19 03:07:40,199 - thermomodel_None - WARNING - Warning : NULL/L\n",
      "2020-11-19 03:07:40,199 - thermomodel_None - WARNING - Warning : NULL/U\n",
      "2020-11-19 03:07:40,199 - thermomodel_None - WARNING - Warning : NULL/L\n",
      "2020-11-19 03:07:40,199 - thermomodel_None - WARNING - Warning : NULL/L\n",
      "2020-11-19 03:07:40,246 - thermomodel_None - WARNING - Warning : NULL/U\n",
      "2020-11-19 03:07:40,246 - thermomodel_None - WARNING - Warning : NULL/L\n",
      "2020-11-19 03:07:40,246 - thermomodel_None - WARNING - Warning : NULL/L\n",
      "2020-11-19 03:07:40,246 - thermomodel_None - WARNING - Warning : NULL/U\n",
      "2020-11-19 03:07:40,246 - thermomodel_None - WARNING - Warning : NULL/L\n",
      "2020-11-19 03:07:40,262 - thermomodel_None - WARNING - Warning : NULL/L\n",
      "2020-11-19 03:07:40,262 - thermomodel_None - WARNING - Warning : NULL/U\n",
      "2020-11-19 03:07:40,262 - thermomodel_None - WARNING - Warning : NULL/L\n",
      "2020-11-19 03:07:40,262 - thermomodel_None - WARNING - Warning : NULL/L\n",
      "2020-11-19 03:07:40,262 - thermomodel_None - WARNING - Warning : NULL/U\n",
      "2020-11-19 03:07:40,262 - thermomodel_None - WARNING - Warning : NULL/L\n",
      "2020-11-19 03:07:40,262 - thermomodel_None - WARNING - Warning : NULL/L\n",
      "2020-11-19 03:07:40,268 - thermomodel_None - WARNING - Warning : NULL/U\n",
      "2020-11-19 03:07:40,268 - thermomodel_None - WARNING - Warning : NULL/L\n",
      "2020-11-19 03:07:40,268 - thermomodel_None - WARNING - Warning : NULL/L\n",
      "2020-11-19 03:07:40,268 - thermomodel_None - WARNING - Warning : NULL/U\n",
      "2020-11-19 03:07:40,268 - thermomodel_None - WARNING - Warning : NULL/L\n",
      "2020-11-19 03:07:40,268 - thermomodel_None - WARNING - Warning : NULL/L\n",
      "2020-11-19 03:07:40,268 - thermomodel_None - WARNING - Warning : NULL/U\n",
      "2020-11-19 03:07:40,268 - thermomodel_None - WARNING - Warning : NULL/L\n",
      "2020-11-19 03:07:40,268 - thermomodel_None - WARNING - Warning : NULL/L\n",
      "2020-11-19 03:07:40,268 - thermomodel_None - WARNING - Warning : NULL/U\n",
      "2020-11-19 03:07:40,268 - thermomodel_None - WARNING - Warning : NULL/L\n",
      "2020-11-19 03:07:40,268 - thermomodel_None - WARNING - Warning : NULL/L\n",
      "2020-11-19 03:07:40,384 - thermomodel_None - INFO - # Model preparation done.\n",
      "2020-11-19 03:07:40,384 - thermomodel_None - INFO - # Model conversion starting...\n",
      "2020-11-19 03:08:14,417 - thermomodel_None - INFO - # Model conversion done.\n",
      "2020-11-19 03:08:14,417 - thermomodel_None - INFO - # Updating cobra_model variables...\n",
      "2020-11-19 03:08:14,468 - thermomodel_None - INFO - # cobra_model variables are up-to-date\n"
     ]
    },
    {
     "name": "stdout",
     "output_type": "stream",
     "text": [
      "Read LP format model from file C:\\Users\\riheme\\AppData\\Local\\Temp\\tmpvth_ga1b.lp\n",
      "Reading time = 0.02 seconds\n",
      ": 1807 rows, 5170 columns, 20304 nonzeros\n",
      "Read LP format model from file C:\\Users\\riheme\\AppData\\Local\\Temp\\tmpwzet4erk.lp\n",
      "Reading time = 0.02 seconds\n",
      ": 1807 rows, 5170 columns, 20304 nonzeros\n"
     ]
    },
    {
     "name": "stderr",
     "output_type": "stream",
     "text": [
      "2020-11-19 03:08:30,634 - thermomodel_Ecoli TPI (Glc) 4 @ t = 3 - INFO - # Model initialized with units kcal/mol and temperature 298.15 K\n"
     ]
    },
    {
     "name": "stdout",
     "output_type": "stream",
     "text": [
      "Read LP format model from file C:\\Users\\riheme\\AppData\\Local\\Temp\\tmp4gkwn0ev.lp\n",
      "Reading time = 0.02 seconds\n",
      ": 1807 rows, 5170 columns, 20304 nonzeros\n",
      "Read LP format model from file C:\\Users\\riheme\\AppData\\Local\\Temp\\tmpn1yu2ujf.lp\n",
      "Reading time = 0.02 seconds\n",
      ": 1807 rows, 5170 columns, 20304 nonzeros\n"
     ]
    },
    {
     "name": "stderr",
     "output_type": "stream",
     "text": [
      "2020-11-19 03:08:56,718 - thermomodel_Ecoli TPI (Glc) 4 @ t = 3 - INFO - # Model initialized with units kcal/mol and temperature 298.15 K\n",
      "2020-11-19 03:09:05,812 - thermomodel_Ecoli TPI (Glc) 4 @ t = 3 - INFO - Adding slack constraints\n",
      "adding slacks: 100%|███████████████████████████████████████████████████████████████| 1824/1824 [00:37<00:00, 48.93it/s]\n",
      "2020-11-19 03:09:44,701 - thermomodel_Ecoli TPI (Glc) 4 @ t = 3 - INFO - Optimizing slack model\n",
      "2020-11-19 03:09:50,415 - thermomodel_Ecoli TPI (Glc) 4 @ t = 3 - INFO - Extracting relaxation\n",
      "applying slack: 100%|███████████████████████████████████████████████████████████| 2585/2585 [00:00<00:00, 44441.57it/s]\n",
      "2020-11-19 03:09:50,553 - thermomodel_Ecoli TPI (Glc) 4 @ t = 3 - INFO - Testing relaxation\n"
     ]
    },
    {
     "name": "stdout",
     "output_type": "stream",
     "text": [
      "################################################################################\n",
      "Ecoli TPI (Glc) 4 @ t = 11\n",
      "(163.24 min)\n",
      "################################################################################\n",
      "Read LP format model from file C:\\Users\\riheme\\AppData\\Local\\Temp\\tmpqh2ti26w.lp\n",
      "Reading time = 0.02 seconds\n",
      ": 1807 rows, 5170 columns, 20334 nonzeros\n",
      "Read LP format model from file C:\\Users\\riheme\\AppData\\Local\\Temp\\tmpnn8xhcaq.lp\n",
      "Reading time = 0.02 seconds\n",
      ": 1807 rows, 5170 columns, 20334 nonzeros\n"
     ]
    },
    {
     "name": "stderr",
     "output_type": "stream",
     "text": [
      "2020-11-19 03:10:05,452 - thermomodel_None - INFO - # Model initialized with units kcal/mol and temperature 298.15 K\n",
      "2020-11-19 03:10:05,460 - thermomodel_None - INFO - # Model preparation starting...\n",
      "2020-11-19 03:10:07,733 - thermomodel_None - WARNING - Warning : NULL/U\n",
      "2020-11-19 03:10:07,733 - thermomodel_None - WARNING - Warning : NULL/L\n",
      "2020-11-19 03:10:07,733 - thermomodel_None - WARNING - Warning : NULL/L\n",
      "2020-11-19 03:10:07,733 - thermomodel_None - WARNING - Warning : NULL/U\n",
      "2020-11-19 03:10:07,733 - thermomodel_None - WARNING - Warning : NULL/L\n",
      "2020-11-19 03:10:07,733 - thermomodel_None - WARNING - Warning : NULL/L\n",
      "2020-11-19 03:10:07,946 - thermomodel_None - WARNING - Warning : NULL/U\n",
      "2020-11-19 03:10:07,946 - thermomodel_None - WARNING - Warning : NULL/L\n",
      "2020-11-19 03:10:07,946 - thermomodel_None - WARNING - Warning : NULL/L\n",
      "2020-11-19 03:10:07,946 - thermomodel_None - WARNING - Warning : NULL/U\n",
      "2020-11-19 03:10:07,946 - thermomodel_None - WARNING - Warning : NULL/L\n",
      "2020-11-19 03:10:07,946 - thermomodel_None - WARNING - Warning : NULL/L\n",
      "2020-11-19 03:10:08,087 - thermomodel_None - WARNING - Warning : NULL/U\n",
      "2020-11-19 03:10:08,087 - thermomodel_None - WARNING - Warning : NULL/L\n",
      "2020-11-19 03:10:08,087 - thermomodel_None - WARNING - Warning : NULL/L\n",
      "2020-11-19 03:10:08,095 - thermomodel_None - WARNING - Warning : NULL/U\n",
      "2020-11-19 03:10:08,095 - thermomodel_None - WARNING - Warning : NULL/L\n",
      "2020-11-19 03:10:08,095 - thermomodel_None - WARNING - Warning : NULL/L\n",
      "2020-11-19 03:10:08,151 - thermomodel_None - WARNING - Warning : NULL/U\n",
      "2020-11-19 03:10:08,151 - thermomodel_None - WARNING - Warning : NULL/L\n",
      "2020-11-19 03:10:08,151 - thermomodel_None - WARNING - Warning : NULL/L\n",
      "2020-11-19 03:10:08,151 - thermomodel_None - WARNING - Warning : NULL/U\n",
      "2020-11-19 03:10:08,151 - thermomodel_None - WARNING - Warning : NULL/L\n",
      "2020-11-19 03:10:08,151 - thermomodel_None - WARNING - Warning : NULL/L\n",
      "2020-11-19 03:10:08,151 - thermomodel_None - WARNING - Warning : NULL/U\n",
      "2020-11-19 03:10:08,151 - thermomodel_None - WARNING - Warning : NULL/L\n",
      "2020-11-19 03:10:08,151 - thermomodel_None - WARNING - Warning : NULL/L\n",
      "2020-11-19 03:10:08,151 - thermomodel_None - WARNING - Warning : NULL/U\n",
      "2020-11-19 03:10:08,151 - thermomodel_None - WARNING - Warning : NULL/L\n",
      "2020-11-19 03:10:08,151 - thermomodel_None - WARNING - Warning : NULL/L\n",
      "2020-11-19 03:10:08,151 - thermomodel_None - WARNING - Warning : NULL/U\n",
      "2020-11-19 03:10:08,151 - thermomodel_None - WARNING - Warning : NULL/L\n",
      "2020-11-19 03:10:08,151 - thermomodel_None - WARNING - Warning : NULL/L\n",
      "2020-11-19 03:10:08,151 - thermomodel_None - WARNING - Warning : NULL/U\n",
      "2020-11-19 03:10:08,151 - thermomodel_None - WARNING - Warning : NULL/L\n",
      "2020-11-19 03:10:08,151 - thermomodel_None - WARNING - Warning : NULL/L\n",
      "2020-11-19 03:10:08,151 - thermomodel_None - WARNING - Warning : NULL/U\n",
      "2020-11-19 03:10:08,151 - thermomodel_None - WARNING - Warning : NULL/L\n",
      "2020-11-19 03:10:08,167 - thermomodel_None - WARNING - Warning : NULL/L\n",
      "2020-11-19 03:10:08,167 - thermomodel_None - WARNING - Warning : NULL/U\n",
      "2020-11-19 03:10:08,167 - thermomodel_None - WARNING - Warning : NULL/L\n",
      "2020-11-19 03:10:08,167 - thermomodel_None - WARNING - Warning : NULL/L\n",
      "2020-11-19 03:10:08,269 - thermomodel_None - INFO - # Model preparation done.\n",
      "2020-11-19 03:10:08,269 - thermomodel_None - INFO - # Model conversion starting...\n",
      "2020-11-19 03:10:42,459 - thermomodel_None - INFO - # Model conversion done.\n",
      "2020-11-19 03:10:42,459 - thermomodel_None - INFO - # Updating cobra_model variables...\n",
      "2020-11-19 03:10:42,502 - thermomodel_None - INFO - # cobra_model variables are up-to-date\n"
     ]
    },
    {
     "name": "stdout",
     "output_type": "stream",
     "text": [
      "Read LP format model from file C:\\Users\\riheme\\AppData\\Local\\Temp\\tmp9jwbw5fk.lp\n",
      "Reading time = 0.02 seconds\n",
      ": 1807 rows, 5170 columns, 20304 nonzeros\n",
      "Read LP format model from file C:\\Users\\riheme\\AppData\\Local\\Temp\\tmp7ck8frn6.lp\n",
      "Reading time = 0.02 seconds\n",
      ": 1807 rows, 5170 columns, 20304 nonzeros\n"
     ]
    },
    {
     "name": "stderr",
     "output_type": "stream",
     "text": [
      "2020-11-19 03:10:58,682 - thermomodel_Ecoli TPI (Glc) 4 @ t = 11 - INFO - # Model initialized with units kcal/mol and temperature 298.15 K\n"
     ]
    },
    {
     "name": "stdout",
     "output_type": "stream",
     "text": [
      "Read LP format model from file C:\\Users\\riheme\\AppData\\Local\\Temp\\tmppbtflqbm.lp\n",
      "Reading time = 0.02 seconds\n",
      ": 1807 rows, 5170 columns, 20304 nonzeros\n",
      "Read LP format model from file C:\\Users\\riheme\\AppData\\Local\\Temp\\tmpeym986a4.lp\n",
      "Reading time = 0.02 seconds\n",
      ": 1807 rows, 5170 columns, 20304 nonzeros\n"
     ]
    },
    {
     "name": "stderr",
     "output_type": "stream",
     "text": [
      "2020-11-19 03:11:24,110 - thermomodel_Ecoli TPI (Glc) 4 @ t = 11 - INFO - # Model initialized with units kcal/mol and temperature 298.15 K\n",
      "2020-11-19 03:11:33,907 - thermomodel_Ecoli TPI (Glc) 4 @ t = 11 - INFO - Adding slack constraints\n",
      "adding slacks: 100%|███████████████████████████████████████████████████████████████| 1824/1824 [00:36<00:00, 50.27it/s]\n",
      "2020-11-19 03:12:12,477 - thermomodel_Ecoli TPI (Glc) 4 @ t = 11 - INFO - Optimizing slack model\n",
      "2020-11-19 03:12:17,308 - thermomodel_Ecoli TPI (Glc) 4 @ t = 11 - INFO - Extracting relaxation\n",
      "applying slack: 100%|███████████████████████████████████████████████████████████| 2585/2585 [00:00<00:00, 55096.78it/s]\n",
      "2020-11-19 03:12:17,445 - thermomodel_Ecoli TPI (Glc) 4 @ t = 11 - INFO - Testing relaxation\n"
     ]
    },
    {
     "name": "stdout",
     "output_type": "stream",
     "text": [
      "################################################################################\n",
      "Ecoli wt (Glc) 0 @ t = 0\n",
      "(165.69 min)\n",
      "################################################################################\n",
      "Read LP format model from file C:\\Users\\riheme\\AppData\\Local\\Temp\\tmpxp99voim.lp\n",
      "Reading time = 0.02 seconds\n",
      ": 1807 rows, 5170 columns, 20334 nonzeros\n",
      "Read LP format model from file C:\\Users\\riheme\\AppData\\Local\\Temp\\tmpaf9fdp1t.lp\n",
      "Reading time = 0.02 seconds\n",
      ": 1807 rows, 5170 columns, 20334 nonzeros\n"
     ]
    },
    {
     "name": "stderr",
     "output_type": "stream",
     "text": [
      "2020-11-19 03:12:32,396 - thermomodel_None - INFO - # Model initialized with units kcal/mol and temperature 298.15 K\n",
      "2020-11-19 03:12:32,398 - thermomodel_None - INFO - # Model preparation starting...\n",
      "2020-11-19 03:12:34,679 - thermomodel_None - WARNING - Warning : NULL/U\n",
      "2020-11-19 03:12:34,679 - thermomodel_None - WARNING - Warning : NULL/L\n",
      "2020-11-19 03:12:34,679 - thermomodel_None - WARNING - Warning : NULL/L\n",
      "2020-11-19 03:12:34,679 - thermomodel_None - WARNING - Warning : NULL/U\n",
      "2020-11-19 03:12:34,679 - thermomodel_None - WARNING - Warning : NULL/L\n",
      "2020-11-19 03:12:34,679 - thermomodel_None - WARNING - Warning : NULL/L\n",
      "2020-11-19 03:12:34,891 - thermomodel_None - WARNING - Warning : NULL/U\n",
      "2020-11-19 03:12:34,891 - thermomodel_None - WARNING - Warning : NULL/L\n",
      "2020-11-19 03:12:34,891 - thermomodel_None - WARNING - Warning : NULL/L\n",
      "2020-11-19 03:12:34,899 - thermomodel_None - WARNING - Warning : NULL/U\n",
      "2020-11-19 03:12:34,899 - thermomodel_None - WARNING - Warning : NULL/L\n",
      "2020-11-19 03:12:34,901 - thermomodel_None - WARNING - Warning : NULL/L\n",
      "2020-11-19 03:12:35,042 - thermomodel_None - WARNING - Warning : NULL/U\n",
      "2020-11-19 03:12:35,042 - thermomodel_None - WARNING - Warning : NULL/L\n",
      "2020-11-19 03:12:35,042 - thermomodel_None - WARNING - Warning : NULL/L\n",
      "2020-11-19 03:12:35,044 - thermomodel_None - WARNING - Warning : NULL/U\n",
      "2020-11-19 03:12:35,044 - thermomodel_None - WARNING - Warning : NULL/L\n",
      "2020-11-19 03:12:35,044 - thermomodel_None - WARNING - Warning : NULL/L\n",
      "2020-11-19 03:12:35,093 - thermomodel_None - WARNING - Warning : NULL/U\n",
      "2020-11-19 03:12:35,093 - thermomodel_None - WARNING - Warning : NULL/L\n",
      "2020-11-19 03:12:35,093 - thermomodel_None - WARNING - Warning : NULL/L\n",
      "2020-11-19 03:12:35,093 - thermomodel_None - WARNING - Warning : NULL/U\n",
      "2020-11-19 03:12:35,093 - thermomodel_None - WARNING - Warning : NULL/L\n",
      "2020-11-19 03:12:35,093 - thermomodel_None - WARNING - Warning : NULL/L\n",
      "2020-11-19 03:12:35,093 - thermomodel_None - WARNING - Warning : NULL/U\n",
      "2020-11-19 03:12:35,093 - thermomodel_None - WARNING - Warning : NULL/L\n",
      "2020-11-19 03:12:35,093 - thermomodel_None - WARNING - Warning : NULL/L\n",
      "2020-11-19 03:12:35,093 - thermomodel_None - WARNING - Warning : NULL/U\n",
      "2020-11-19 03:12:35,093 - thermomodel_None - WARNING - Warning : NULL/L\n",
      "2020-11-19 03:12:35,093 - thermomodel_None - WARNING - Warning : NULL/L\n",
      "2020-11-19 03:12:35,093 - thermomodel_None - WARNING - Warning : NULL/U\n",
      "2020-11-19 03:12:35,093 - thermomodel_None - WARNING - Warning : NULL/L\n",
      "2020-11-19 03:12:35,093 - thermomodel_None - WARNING - Warning : NULL/L\n",
      "2020-11-19 03:12:35,109 - thermomodel_None - WARNING - Warning : NULL/U\n",
      "2020-11-19 03:12:35,109 - thermomodel_None - WARNING - Warning : NULL/L\n",
      "2020-11-19 03:12:35,109 - thermomodel_None - WARNING - Warning : NULL/L\n",
      "2020-11-19 03:12:35,109 - thermomodel_None - WARNING - Warning : NULL/U\n",
      "2020-11-19 03:12:35,109 - thermomodel_None - WARNING - Warning : NULL/L\n",
      "2020-11-19 03:12:35,109 - thermomodel_None - WARNING - Warning : NULL/L\n",
      "2020-11-19 03:12:35,109 - thermomodel_None - WARNING - Warning : NULL/U\n",
      "2020-11-19 03:12:35,109 - thermomodel_None - WARNING - Warning : NULL/L\n",
      "2020-11-19 03:12:35,109 - thermomodel_None - WARNING - Warning : NULL/L\n",
      "2020-11-19 03:12:35,225 - thermomodel_None - INFO - # Model preparation done.\n",
      "2020-11-19 03:12:35,225 - thermomodel_None - INFO - # Model conversion starting...\n",
      "2020-11-19 03:13:09,117 - thermomodel_None - INFO - # Model conversion done.\n",
      "2020-11-19 03:13:09,125 - thermomodel_None - INFO - # Updating cobra_model variables...\n",
      "2020-11-19 03:13:09,167 - thermomodel_None - INFO - # cobra_model variables are up-to-date\n"
     ]
    },
    {
     "name": "stdout",
     "output_type": "stream",
     "text": [
      "Read LP format model from file C:\\Users\\riheme\\AppData\\Local\\Temp\\tmpqjbhqtwa.lp\n",
      "Reading time = 0.02 seconds\n",
      ": 1807 rows, 5170 columns, 20304 nonzeros\n",
      "Read LP format model from file C:\\Users\\riheme\\AppData\\Local\\Temp\\tmp1b47dvda.lp\n",
      "Reading time = 0.02 seconds\n",
      ": 1807 rows, 5170 columns, 20304 nonzeros\n"
     ]
    },
    {
     "name": "stderr",
     "output_type": "stream",
     "text": [
      "2020-11-19 03:13:25,519 - thermomodel_Ecoli wt (Glc) 0 @ t = 0 - INFO - # Model initialized with units kcal/mol and temperature 298.15 K\n"
     ]
    },
    {
     "name": "stdout",
     "output_type": "stream",
     "text": [
      "Read LP format model from file C:\\Users\\riheme\\AppData\\Local\\Temp\\tmp69a50dgj.lp\n",
      "Reading time = 0.02 seconds\n",
      ": 1807 rows, 5170 columns, 20304 nonzeros\n",
      "Read LP format model from file C:\\Users\\riheme\\AppData\\Local\\Temp\\tmpary4w6_p.lp\n",
      "Reading time = 0.02 seconds\n",
      ": 1807 rows, 5170 columns, 20304 nonzeros\n"
     ]
    },
    {
     "name": "stderr",
     "output_type": "stream",
     "text": [
      "2020-11-19 03:13:51,140 - thermomodel_Ecoli wt (Glc) 0 @ t = 0 - INFO - # Model initialized with units kcal/mol and temperature 298.15 K\n",
      "2020-11-19 03:14:00,248 - thermomodel_Ecoli wt (Glc) 0 @ t = 0 - INFO - Adding slack constraints\n",
      "adding slacks: 100%|███████████████████████████████████████████████████████████████| 1824/1824 [00:38<00:00, 47.50it/s]\n",
      "2020-11-19 03:14:40,238 - thermomodel_Ecoli wt (Glc) 0 @ t = 0 - INFO - Optimizing slack model\n",
      "2020-11-19 03:14:46,354 - thermomodel_Ecoli wt (Glc) 0 @ t = 0 - INFO - Extracting relaxation\n",
      "applying slack: 100%|███████████████████████████████████████████████████████████| 2585/2585 [00:00<00:00, 45452.65it/s]\n",
      "2020-11-19 03:14:46,491 - thermomodel_Ecoli wt (Glc) 0 @ t = 0 - INFO - Testing relaxation\n"
     ]
    },
    {
     "name": "stdout",
     "output_type": "stream",
     "text": [
      "################################################################################\n",
      "Ecoli wt (Glc) 1 @ t = 11\n",
      "(168.17 min)\n",
      "################################################################################\n",
      "Read LP format model from file C:\\Users\\riheme\\AppData\\Local\\Temp\\tmpsyef1md8.lp\n",
      "Reading time = 0.02 seconds\n",
      ": 1807 rows, 5170 columns, 20334 nonzeros\n",
      "Read LP format model from file C:\\Users\\riheme\\AppData\\Local\\Temp\\tmpgcc6w1oi.lp\n",
      "Reading time = 0.02 seconds\n",
      ": 1807 rows, 5170 columns, 20334 nonzeros\n"
     ]
    },
    {
     "name": "stderr",
     "output_type": "stream",
     "text": [
      "2020-11-19 03:15:01,253 - thermomodel_None - INFO - # Model initialized with units kcal/mol and temperature 298.15 K\n",
      "2020-11-19 03:15:01,262 - thermomodel_None - INFO - # Model preparation starting...\n",
      "2020-11-19 03:15:03,545 - thermomodel_None - WARNING - Warning : NULL/U\n",
      "2020-11-19 03:15:03,545 - thermomodel_None - WARNING - Warning : NULL/L\n",
      "2020-11-19 03:15:03,545 - thermomodel_None - WARNING - Warning : NULL/L\n",
      "2020-11-19 03:15:03,545 - thermomodel_None - WARNING - Warning : NULL/U\n",
      "2020-11-19 03:15:03,545 - thermomodel_None - WARNING - Warning : NULL/L\n",
      "2020-11-19 03:15:03,545 - thermomodel_None - WARNING - Warning : NULL/L\n",
      "2020-11-19 03:15:03,757 - thermomodel_None - WARNING - Warning : NULL/U\n",
      "2020-11-19 03:15:03,766 - thermomodel_None - WARNING - Warning : NULL/L\n",
      "2020-11-19 03:15:03,766 - thermomodel_None - WARNING - Warning : NULL/L\n",
      "2020-11-19 03:15:03,766 - thermomodel_None - WARNING - Warning : NULL/U\n",
      "2020-11-19 03:15:03,766 - thermomodel_None - WARNING - Warning : NULL/L\n",
      "2020-11-19 03:15:03,766 - thermomodel_None - WARNING - Warning : NULL/L\n",
      "2020-11-19 03:15:03,906 - thermomodel_None - WARNING - Warning : NULL/U\n",
      "2020-11-19 03:15:03,906 - thermomodel_None - WARNING - Warning : NULL/L\n",
      "2020-11-19 03:15:03,909 - thermomodel_None - WARNING - Warning : NULL/L\n",
      "2020-11-19 03:15:03,909 - thermomodel_None - WARNING - Warning : NULL/U\n",
      "2020-11-19 03:15:03,909 - thermomodel_None - WARNING - Warning : NULL/L\n",
      "2020-11-19 03:15:03,909 - thermomodel_None - WARNING - Warning : NULL/L\n",
      "2020-11-19 03:15:03,958 - thermomodel_None - WARNING - Warning : NULL/U\n",
      "2020-11-19 03:15:03,958 - thermomodel_None - WARNING - Warning : NULL/L\n",
      "2020-11-19 03:15:03,958 - thermomodel_None - WARNING - Warning : NULL/L\n",
      "2020-11-19 03:15:03,958 - thermomodel_None - WARNING - Warning : NULL/U\n",
      "2020-11-19 03:15:03,958 - thermomodel_None - WARNING - Warning : NULL/L\n",
      "2020-11-19 03:15:03,958 - thermomodel_None - WARNING - Warning : NULL/L\n",
      "2020-11-19 03:15:03,958 - thermomodel_None - WARNING - Warning : NULL/U\n",
      "2020-11-19 03:15:03,958 - thermomodel_None - WARNING - Warning : NULL/L\n",
      "2020-11-19 03:15:03,958 - thermomodel_None - WARNING - Warning : NULL/L\n",
      "2020-11-19 03:15:03,958 - thermomodel_None - WARNING - Warning : NULL/U\n",
      "2020-11-19 03:15:03,958 - thermomodel_None - WARNING - Warning : NULL/L\n",
      "2020-11-19 03:15:03,958 - thermomodel_None - WARNING - Warning : NULL/L\n",
      "2020-11-19 03:15:03,973 - thermomodel_None - WARNING - Warning : NULL/U\n",
      "2020-11-19 03:15:03,973 - thermomodel_None - WARNING - Warning : NULL/L\n",
      "2020-11-19 03:15:03,973 - thermomodel_None - WARNING - Warning : NULL/L\n",
      "2020-11-19 03:15:03,973 - thermomodel_None - WARNING - Warning : NULL/U\n",
      "2020-11-19 03:15:03,973 - thermomodel_None - WARNING - Warning : NULL/L\n",
      "2020-11-19 03:15:03,973 - thermomodel_None - WARNING - Warning : NULL/L\n",
      "2020-11-19 03:15:03,973 - thermomodel_None - WARNING - Warning : NULL/U\n",
      "2020-11-19 03:15:03,973 - thermomodel_None - WARNING - Warning : NULL/L\n",
      "2020-11-19 03:15:03,973 - thermomodel_None - WARNING - Warning : NULL/L\n",
      "2020-11-19 03:15:03,973 - thermomodel_None - WARNING - Warning : NULL/U\n",
      "2020-11-19 03:15:03,973 - thermomodel_None - WARNING - Warning : NULL/L\n",
      "2020-11-19 03:15:03,973 - thermomodel_None - WARNING - Warning : NULL/L\n",
      "2020-11-19 03:15:04,089 - thermomodel_None - INFO - # Model preparation done.\n",
      "2020-11-19 03:15:04,089 - thermomodel_None - INFO - # Model conversion starting...\n",
      "2020-11-19 03:15:38,408 - thermomodel_None - INFO - # Model conversion done.\n",
      "2020-11-19 03:15:38,408 - thermomodel_None - INFO - # Updating cobra_model variables...\n",
      "2020-11-19 03:15:38,442 - thermomodel_None - INFO - # cobra_model variables are up-to-date\n"
     ]
    },
    {
     "name": "stdout",
     "output_type": "stream",
     "text": [
      "Read LP format model from file C:\\Users\\riheme\\AppData\\Local\\Temp\\tmp4d5xikn2.lp\n",
      "Reading time = 0.02 seconds\n",
      ": 1807 rows, 5170 columns, 20304 nonzeros\n",
      "Read LP format model from file C:\\Users\\riheme\\AppData\\Local\\Temp\\tmpik8khb23.lp\n",
      "Reading time = 0.02 seconds\n",
      ": 1807 rows, 5170 columns, 20304 nonzeros\n"
     ]
    },
    {
     "name": "stderr",
     "output_type": "stream",
     "text": [
      "2020-11-19 03:15:54,621 - thermomodel_Ecoli wt (Glc) 1 @ t = 11 - INFO - # Model initialized with units kcal/mol and temperature 298.15 K\n"
     ]
    },
    {
     "name": "stdout",
     "output_type": "stream",
     "text": [
      "Read LP format model from file C:\\Users\\riheme\\AppData\\Local\\Temp\\tmp949bfspu.lp\n",
      "Reading time = 0.02 seconds\n",
      ": 1807 rows, 5170 columns, 20304 nonzeros\n",
      "Read LP format model from file C:\\Users\\riheme\\AppData\\Local\\Temp\\tmptpncsfnw.lp\n",
      "Reading time = 0.02 seconds\n",
      ": 1807 rows, 5170 columns, 20304 nonzeros\n"
     ]
    },
    {
     "name": "stderr",
     "output_type": "stream",
     "text": [
      "2020-11-19 03:16:20,432 - thermomodel_Ecoli wt (Glc) 1 @ t = 11 - INFO - # Model initialized with units kcal/mol and temperature 298.15 K\n",
      "2020-11-19 03:16:29,574 - thermomodel_Ecoli wt (Glc) 1 @ t = 11 - INFO - Adding slack constraints\n",
      "adding slacks: 100%|███████████████████████████████████████████████████████████████| 1824/1824 [00:37<00:00, 49.05it/s]\n",
      "2020-11-19 03:17:08,351 - thermomodel_Ecoli wt (Glc) 1 @ t = 11 - INFO - Optimizing slack model\n",
      "2020-11-19 03:17:13,184 - thermomodel_Ecoli wt (Glc) 1 @ t = 11 - INFO - Extracting relaxation\n",
      "applying slack: 100%|███████████████████████████████████████████████████████████| 2585/2585 [00:00<00:00, 55177.54it/s]\n",
      "2020-11-19 03:17:13,334 - thermomodel_Ecoli wt (Glc) 1 @ t = 11 - INFO - Testing relaxation\n"
     ]
    },
    {
     "name": "stdout",
     "output_type": "stream",
     "text": [
      "################################################################################\n",
      "Ecoli wt (Glc) 2 @ t = 11\n",
      "(170.62 min)\n",
      "################################################################################\n",
      "Read LP format model from file C:\\Users\\riheme\\AppData\\Local\\Temp\\tmpn1anbxdi.lp\n",
      "Reading time = 0.02 seconds\n",
      ": 1807 rows, 5170 columns, 20334 nonzeros\n",
      "Read LP format model from file C:\\Users\\riheme\\AppData\\Local\\Temp\\tmpyl4zmf8y.lp\n",
      "Reading time = 0.02 seconds\n",
      ": 1807 rows, 5170 columns, 20334 nonzeros\n"
     ]
    },
    {
     "name": "stderr",
     "output_type": "stream",
     "text": [
      "2020-11-19 03:17:28,375 - thermomodel_None - INFO - # Model initialized with units kcal/mol and temperature 298.15 K\n",
      "2020-11-19 03:17:28,383 - thermomodel_None - INFO - # Model preparation starting...\n",
      "2020-11-19 03:17:30,655 - thermomodel_None - WARNING - Warning : NULL/U\n",
      "2020-11-19 03:17:30,655 - thermomodel_None - WARNING - Warning : NULL/L\n",
      "2020-11-19 03:17:30,655 - thermomodel_None - WARNING - Warning : NULL/L\n",
      "2020-11-19 03:17:30,655 - thermomodel_None - WARNING - Warning : NULL/U\n",
      "2020-11-19 03:17:30,663 - thermomodel_None - WARNING - Warning : NULL/L\n",
      "2020-11-19 03:17:30,663 - thermomodel_None - WARNING - Warning : NULL/L\n",
      "2020-11-19 03:17:30,869 - thermomodel_None - WARNING - Warning : NULL/U\n",
      "2020-11-19 03:17:30,869 - thermomodel_None - WARNING - Warning : NULL/L\n",
      "2020-11-19 03:17:30,877 - thermomodel_None - WARNING - Warning : NULL/L\n",
      "2020-11-19 03:17:30,877 - thermomodel_None - WARNING - Warning : NULL/U\n",
      "2020-11-19 03:17:30,877 - thermomodel_None - WARNING - Warning : NULL/L\n",
      "2020-11-19 03:17:30,877 - thermomodel_None - WARNING - Warning : NULL/L\n",
      "2020-11-19 03:17:31,018 - thermomodel_None - WARNING - Warning : NULL/U\n",
      "2020-11-19 03:17:31,018 - thermomodel_None - WARNING - Warning : NULL/L\n",
      "2020-11-19 03:17:31,018 - thermomodel_None - WARNING - Warning : NULL/L\n",
      "2020-11-19 03:17:31,018 - thermomodel_None - WARNING - Warning : NULL/U\n",
      "2020-11-19 03:17:31,018 - thermomodel_None - WARNING - Warning : NULL/L\n",
      "2020-11-19 03:17:31,018 - thermomodel_None - WARNING - Warning : NULL/L\n",
      "2020-11-19 03:17:31,065 - thermomodel_None - WARNING - Warning : NULL/U\n",
      "2020-11-19 03:17:31,065 - thermomodel_None - WARNING - Warning : NULL/L\n",
      "2020-11-19 03:17:31,065 - thermomodel_None - WARNING - Warning : NULL/L\n",
      "2020-11-19 03:17:31,065 - thermomodel_None - WARNING - Warning : NULL/U\n",
      "2020-11-19 03:17:31,080 - thermomodel_None - WARNING - Warning : NULL/L\n",
      "2020-11-19 03:17:31,080 - thermomodel_None - WARNING - Warning : NULL/L\n",
      "2020-11-19 03:17:31,080 - thermomodel_None - WARNING - Warning : NULL/U\n",
      "2020-11-19 03:17:31,080 - thermomodel_None - WARNING - Warning : NULL/L\n",
      "2020-11-19 03:17:31,080 - thermomodel_None - WARNING - Warning : NULL/L\n",
      "2020-11-19 03:17:31,080 - thermomodel_None - WARNING - Warning : NULL/U\n",
      "2020-11-19 03:17:31,080 - thermomodel_None - WARNING - Warning : NULL/L\n",
      "2020-11-19 03:17:31,080 - thermomodel_None - WARNING - Warning : NULL/L\n",
      "2020-11-19 03:17:31,087 - thermomodel_None - WARNING - Warning : NULL/U\n",
      "2020-11-19 03:17:31,087 - thermomodel_None - WARNING - Warning : NULL/L\n",
      "2020-11-19 03:17:31,087 - thermomodel_None - WARNING - Warning : NULL/L\n",
      "2020-11-19 03:17:31,087 - thermomodel_None - WARNING - Warning : NULL/U\n",
      "2020-11-19 03:17:31,087 - thermomodel_None - WARNING - Warning : NULL/L\n",
      "2020-11-19 03:17:31,087 - thermomodel_None - WARNING - Warning : NULL/L\n",
      "2020-11-19 03:17:31,087 - thermomodel_None - WARNING - Warning : NULL/U\n",
      "2020-11-19 03:17:31,087 - thermomodel_None - WARNING - Warning : NULL/L\n",
      "2020-11-19 03:17:31,087 - thermomodel_None - WARNING - Warning : NULL/L\n",
      "2020-11-19 03:17:31,087 - thermomodel_None - WARNING - Warning : NULL/U\n",
      "2020-11-19 03:17:31,087 - thermomodel_None - WARNING - Warning : NULL/L\n",
      "2020-11-19 03:17:31,087 - thermomodel_None - WARNING - Warning : NULL/L\n",
      "2020-11-19 03:17:31,203 - thermomodel_None - INFO - # Model preparation done.\n",
      "2020-11-19 03:17:31,203 - thermomodel_None - INFO - # Model conversion starting...\n",
      "2020-11-19 03:18:05,234 - thermomodel_None - INFO - # Model conversion done.\n",
      "2020-11-19 03:18:05,234 - thermomodel_None - INFO - # Updating cobra_model variables...\n",
      "2020-11-19 03:18:05,283 - thermomodel_None - INFO - # cobra_model variables are up-to-date\n"
     ]
    },
    {
     "name": "stdout",
     "output_type": "stream",
     "text": [
      "Read LP format model from file C:\\Users\\riheme\\AppData\\Local\\Temp\\tmpt4c5ed7z.lp\n",
      "Reading time = 0.02 seconds\n",
      ": 1807 rows, 5170 columns, 20304 nonzeros\n",
      "Read LP format model from file C:\\Users\\riheme\\AppData\\Local\\Temp\\tmpgqy69pms.lp\n",
      "Reading time = 0.03 seconds\n",
      ": 1807 rows, 5170 columns, 20304 nonzeros\n"
     ]
    },
    {
     "name": "stderr",
     "output_type": "stream",
     "text": [
      "2020-11-19 03:18:21,367 - thermomodel_Ecoli wt (Glc) 2 @ t = 11 - INFO - # Model initialized with units kcal/mol and temperature 298.15 K\n"
     ]
    },
    {
     "name": "stdout",
     "output_type": "stream",
     "text": [
      "Read LP format model from file C:\\Users\\riheme\\AppData\\Local\\Temp\\tmpj1ds4zwp.lp\n",
      "Reading time = 0.02 seconds\n",
      ": 1807 rows, 5170 columns, 20304 nonzeros\n",
      "Read LP format model from file C:\\Users\\riheme\\AppData\\Local\\Temp\\tmppm5kxa55.lp\n",
      "Reading time = 0.02 seconds\n",
      ": 1807 rows, 5170 columns, 20304 nonzeros\n"
     ]
    },
    {
     "name": "stderr",
     "output_type": "stream",
     "text": [
      "2020-11-19 03:18:47,337 - thermomodel_Ecoli wt (Glc) 2 @ t = 11 - INFO - # Model initialized with units kcal/mol and temperature 298.15 K\n",
      "2020-11-19 03:18:56,441 - thermomodel_Ecoli wt (Glc) 2 @ t = 11 - INFO - Adding slack constraints\n",
      "adding slacks: 100%|███████████████████████████████████████████████████████████████| 1824/1824 [00:36<00:00, 49.37it/s]\n",
      "2020-11-19 03:19:34,983 - thermomodel_Ecoli wt (Glc) 2 @ t = 11 - INFO - Optimizing slack model\n",
      "2020-11-19 03:19:39,422 - thermomodel_Ecoli wt (Glc) 2 @ t = 11 - INFO - Extracting relaxation\n",
      "applying slack: 100%|███████████████████████████████████████████████████████████| 2585/2585 [00:00<00:00, 55160.69it/s]\n",
      "2020-11-19 03:19:39,556 - thermomodel_Ecoli wt (Glc) 2 @ t = 11 - INFO - Testing relaxation\n"
     ]
    },
    {
     "name": "stdout",
     "output_type": "stream",
     "text": [
      "Elapsed time: 2.88 h\n"
     ]
    }
   ],
   "source": [
    "start = now()\n",
    "\n",
    "results = []\n",
    "\n",
    "media_mask = bounds['media'] == 'Glc'\n",
    "for ko_id in bounds[ media_mask ]['ko'].unique():\n",
    "    ko_mask = bounds['ko'] == ko_id\n",
    "    for strain in bounds[ ko_mask & media_mask ]['strain'].unique():\n",
    "        strain_mask = bounds['strain'] == strain\n",
    "        for time in bounds[ ko_mask & media_mask & strain_mask ]['time_point'].unique():\n",
    "            mask = ko_mask & media_mask & strain_mask & ( bounds['time_point'] == time )\n",
    "            name = f'Ecoli {ko_id} ({media}) {strain} @ t = {time}'\n",
    "            print( '\\n'.join( ['#'*80, name, f'({(now()-start)/60:.2f} min)', '#'*80] ) )\n",
    "\n",
    "            # get log concentration and reaction bounds\n",
    "            lc_bounds = bounds[ mask & ( bounds['bound_type'] == 'log_concentration' ) ]\n",
    "            rxn_bounds = bounds[ mask & ( bounds['bound_type'] == 'reaction' ) ]\n",
    "\n",
    "            # create, adjust, and run thermodynamic model\n",
    "            tmodel = utils.create_model( name, COBRA_PATH, thermo_data, lexicon, compartment_data, BIOMASS_ID )\n",
    "            utils.adjust_model( tmodel, lc_bounds, rxn_bounds )\n",
    "            tmodel = utils.optimize( tmodel, [ ko_id ] )\n",
    "\n",
    "            # store free energies, log concentrations, and fluxes\n",
    "            cols = dict( strain = strain, ko = ko_id, media = media, time_point = time )\n",
    "            results.append( gen_rows( utils.get_flux( tmodel ), **cols ) )\n",
    "            results.append( gen_rows( utils.get_delta_g( tmodel ), **cols ) )\n",
    "            results.append( gen_rows( utils.get_log_concentration( tmodel ), **cols ) )\n",
    "\n",
    "results = pd.concat(results, ignore_index = True)\n",
    "results.to_csv('data/results.csv', index = False)\n",
    "\n",
    "print(f'Elapsed time: {(now()-start)/3600:.2f} h')"
   ]
  },
  {
   "cell_type": "markdown",
   "metadata": {},
   "source": [
    "3. Inspect results"
   ]
  },
  {
   "cell_type": "code",
   "execution_count": 14,
   "metadata": {},
   "outputs": [
    {
     "data": {
      "text/html": [
       "<div>\n",
       "<style scoped>\n",
       "    .dataframe tbody tr th:only-of-type {\n",
       "        vertical-align: middle;\n",
       "    }\n",
       "\n",
       "    .dataframe tbody tr th {\n",
       "        vertical-align: top;\n",
       "    }\n",
       "\n",
       "    .dataframe thead th {\n",
       "        text-align: right;\n",
       "    }\n",
       "</style>\n",
       "<table border=\"1\" class=\"dataframe\">\n",
       "  <thead>\n",
       "    <tr style=\"text-align: right;\">\n",
       "      <th></th>\n",
       "      <th>value_type</th>\n",
       "      <th>strain</th>\n",
       "      <th>ko</th>\n",
       "      <th>media</th>\n",
       "      <th>time_point</th>\n",
       "      <th>id</th>\n",
       "      <th>value</th>\n",
       "      <th>tag</th>\n",
       "    </tr>\n",
       "  </thead>\n",
       "  <tbody>\n",
       "    <tr>\n",
       "      <th>0</th>\n",
       "      <td>flux</td>\n",
       "      <td>0</td>\n",
       "      <td>GLCptspp</td>\n",
       "      <td>Glc</td>\n",
       "      <td>0</td>\n",
       "      <td>DM_4CRSOL</td>\n",
       "      <td>4.467703e-05</td>\n",
       "      <td>Exchange</td>\n",
       "    </tr>\n",
       "    <tr>\n",
       "      <th>1</th>\n",
       "      <td>flux</td>\n",
       "      <td>0</td>\n",
       "      <td>GLCptspp</td>\n",
       "      <td>Glc</td>\n",
       "      <td>0</td>\n",
       "      <td>DM_5DRIB</td>\n",
       "      <td>4.627979e-05</td>\n",
       "      <td>Exchange</td>\n",
       "    </tr>\n",
       "    <tr>\n",
       "      <th>2</th>\n",
       "      <td>flux</td>\n",
       "      <td>0</td>\n",
       "      <td>GLCptspp</td>\n",
       "      <td>Glc</td>\n",
       "      <td>0</td>\n",
       "      <td>DM_AACALD</td>\n",
       "      <td>0.000000e+00</td>\n",
       "      <td>Exchange</td>\n",
       "    </tr>\n",
       "    <tr>\n",
       "      <th>3</th>\n",
       "      <td>flux</td>\n",
       "      <td>0</td>\n",
       "      <td>GLCptspp</td>\n",
       "      <td>Glc</td>\n",
       "      <td>0</td>\n",
       "      <td>DM_AMOB</td>\n",
       "      <td>4.006909e-07</td>\n",
       "      <td>Exchange</td>\n",
       "    </tr>\n",
       "    <tr>\n",
       "      <th>4</th>\n",
       "      <td>flux</td>\n",
       "      <td>0</td>\n",
       "      <td>GLCptspp</td>\n",
       "      <td>Glc</td>\n",
       "      <td>0</td>\n",
       "      <td>DM_MTHTHF</td>\n",
       "      <td>2.684629e-04</td>\n",
       "      <td>Exchange</td>\n",
       "    </tr>\n",
       "  </tbody>\n",
       "</table>\n",
       "</div>"
      ],
      "text/plain": [
       "  value_type  strain        ko media  time_point         id         value  \\\n",
       "0       flux       0  GLCptspp   Glc           0  DM_4CRSOL  4.467703e-05   \n",
       "1       flux       0  GLCptspp   Glc           0   DM_5DRIB  4.627979e-05   \n",
       "2       flux       0  GLCptspp   Glc           0  DM_AACALD  0.000000e+00   \n",
       "3       flux       0  GLCptspp   Glc           0    DM_AMOB  4.006909e-07   \n",
       "4       flux       0  GLCptspp   Glc           0  DM_MTHTHF  2.684629e-04   \n",
       "\n",
       "        tag  \n",
       "0  Exchange  \n",
       "1  Exchange  \n",
       "2  Exchange  \n",
       "3  Exchange  \n",
       "4  Exchange  "
      ]
     },
     "execution_count": 14,
     "metadata": {},
     "output_type": "execute_result"
    }
   ],
   "source": [
    "results.head()"
   ]
  }
 ],
 "metadata": {
  "kernelspec": {
   "display_name": "Python 3",
   "language": "python",
   "name": "python3"
  },
  "language_info": {
   "codemirror_mode": {
    "name": "ipython",
    "version": 3
   },
   "file_extension": ".py",
   "mimetype": "text/x-python",
   "name": "python",
   "nbconvert_exporter": "python",
   "pygments_lexer": "ipython3",
   "version": "3.6.10"
  }
 },
 "nbformat": 4,
 "nbformat_minor": 4
}
